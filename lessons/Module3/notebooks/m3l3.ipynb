{
 "cells": [
  {
   "cell_type": "markdown",
   "metadata": {},
   "source": [
    "# Module 3: Lesson 3\n",
    "\n",
    "-----\n",
    "\n",
    "## Introduction to Python Loops\n",
    "\n",
    "This lesson introduces Python commands that control how the computer performs an operation multiple times. Formally, this is known as iteration and is often implemented by using loops. In Python there are two commands that enable iteration: the `for` loop and the `while` loop. In this lesson, you will learn how to work with these two statements to easily repeat operations, especially on data structures. You also will learn about comprehensions, which provide a shortcut to iteratively constructing data structures.\n",
    "\n",
    "### Objectives\n",
    "\n",
    "By the end of this lesson, you will be able to:\n",
    "\n",
    "- write `for` statements to iteratively process data,\n",
    "- write `while` statements to continue performing an operation until a predefined condition is reached, and\n",
    "- create effective list and dictionary comprehensions.\n",
    "\n",
    "### Time Estimate\n",
    "\n",
    "Approximately 2 hours.\n",
    "\n",
    "### Activities \n",
    "\n",
    "**Video**: Watch the [Introduction to Python Loops][lv] video, which will discuss how to use loops to write more effective and powerful Python program.\n",
    "\n",
    "**Notebook**: Read and complete the practice exercises in the [Introduction to Python Loops][intro2pypc] notebook.\n",
    "\n",
    "-----\n",
    "\n",
    "[gp]: http://pbpython.com/plateau-of-productivity.html\n",
    "\n",
    "[lv]: https://mediaspace.illinois.edu/media/t/0_inajcvy6/99381161\n",
    "\n",
    "[intro2pypc]: intro2pl.ipynb"
   ]
  }
 ],
 "metadata": {
  "kernelspec": {
   "display_name": "Python 3",
   "language": "python",
   "name": "python3"
  },
  "language_info": {
   "codemirror_mode": {
    "name": "ipython",
    "version": 3
   },
   "file_extension": ".py",
   "mimetype": "text/x-python",
   "name": "python",
   "nbconvert_exporter": "python",
   "pygments_lexer": "ipython3",
   "version": "3.7.3"
  }
 },
 "nbformat": 4,
 "nbformat_minor": 2
}
