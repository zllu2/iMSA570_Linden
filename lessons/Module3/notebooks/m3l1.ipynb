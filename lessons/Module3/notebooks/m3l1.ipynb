{
 "cells": [
  {
   "cell_type": "markdown",
   "metadata": {},
   "source": [
    "# Module 3: Lesson 1\n",
    "\n",
    "-----\n",
    "\n",
    "## Introduction to  Python Data Structures\n",
    "\n",
    "This lesson introduces the basic Python data structures: string, tuple, list and dictionary.\n",
    "\n",
    "### Objectives\n",
    "\n",
    "By the end of this lesson, you will be able to:\n",
    "\n",
    "- create these different data structures, and \n",
    "- access and display data from these data structures.\n",
    "\n",
    "### Time Estimate\n",
    "\n",
    "Approximately 2 hours.\n",
    "\n",
    "### Activities \n",
    "\n",
    "**Video**: Watch the [Python data structures][lv] video, which will discuss the powerful data structures that come built-in to the Python programming language.\n",
    "\n",
    "**Notebook**: Read and complete the practice exercises in the [Python data structures][intro2pyds] notebook.\n",
    "\n",
    "------\n",
    "\n",
    "[al]: https://towardsdatascience.com/a-simple-introduction-to-data-structures-part-one-linked-lists-efbb13e9ad33\n",
    "\n",
    "[lv]: https://mediaspace.illinois.edu/media/t/0_kegnhi75/99381161\n",
    "\n",
    "[intro2pyds]: intro2pyds.ipynb"
   ]
  }
 ],
 "metadata": {
  "kernelspec": {
   "display_name": "Python 3",
   "language": "python",
   "name": "python3"
  },
  "language_info": {
   "codemirror_mode": {
    "name": "ipython",
    "version": 3
   },
   "file_extension": ".py",
   "mimetype": "text/x-python",
   "name": "python",
   "nbconvert_exporter": "python",
   "pygments_lexer": "ipython3",
   "version": "3.8.5"
  }
 },
 "nbformat": 4,
 "nbformat_minor": 4
}
