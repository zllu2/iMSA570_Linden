{
 "cells": [
  {
   "cell_type": "markdown",
   "metadata": {},
   "source": [
    "# Module 3: Lesson 2\n",
    "\n",
    "-----\n",
    "\n",
    "## Working with Python Data Structures\n",
    "\n",
    "This lesson introduces how to work effectively with Python data structures. This includes using more advanced functionality, either from built-in functions or extending previous concepts in new ways. This also includes more effective iteration techniques, which includes nested comprehensions. Finally, additional built-in data structures are briefly introduced.\n",
    "\n",
    "### Objectives\n",
    "\n",
    "By the end of this lesson, you will be able to\n",
    "\n",
    "- apply string functions to manipulate text data and to generate new text data,\n",
    "- easily modify list data using built-in functions, and\n",
    "- and apply built-in functions to both the tuple and dictionary.\n",
    "\n",
    "### Time Estimate\n",
    "\n",
    "Approximately 2 hours.\n",
    "\n",
    "### Activities \n",
    "\n",
    "**Video**: Watch the [Working with Python Data Structures][lv] video, which will discuss how to work more effectively with Python's built-in data structures.\n",
    "\n",
    "**Notebook**: Read and complete the practice exercises in the [Working with Python Data Structures][intro2pypc] notebook.\n",
    "\n",
    "Reading: Read the wikipedia page for [The Cathedral and the Bazaar](https://en.wikipedia.org/wiki/The_Cathedral_and_the_Bazaar) essay, which describes different programming approaches.\n",
    "\n",
    "\n",
    "-----\n",
    "\n",
    "[lv]: https://mediaspace.illinois.edu/media/t/0_mhev12kj/99381161\n",
    "\n",
    "[intro2pypc]: workpyds.ipynb"
   ]
  }
 ],
 "metadata": {
  "kernelspec": {
   "display_name": "Python 3",
   "language": "python",
   "name": "python3"
  },
  "language_info": {
   "codemirror_mode": {
    "name": "ipython",
    "version": 3
   },
   "file_extension": ".py",
   "mimetype": "text/x-python",
   "name": "python",
   "nbconvert_exporter": "python",
   "pygments_lexer": "ipython3",
   "version": "3.7.1"
  }
 },
 "nbformat": 4,
 "nbformat_minor": 2
}
