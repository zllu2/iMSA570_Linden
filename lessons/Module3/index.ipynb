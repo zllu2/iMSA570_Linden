{
 "cells": [
  {
   "cell_type": "markdown",
   "metadata": {},
   "source": [
    "# Module 3: Introduction to Python Programming\n",
    "\n",
    "This module introduces two important programming concepts: data structures and iteration. Mastering data structures is an important task because a challenging problem can often be made much simpler by using proper data structures. Python provides several built-in data structures including the list, tuple, string, and dictionary. With such a rich set of data structures, iteration becomes an important concept as we can rapidly process data by iterating through the items in a data structure. This process is generally done by using the `for` statement, but this module also introduce the `while` statement and _comprehensions_. We will review a number of functions, which are built-in to these data structures, that increases the efficacy and general applicability of these data structures.\n",
    "\n",
    "\n",
    "## Learning Objectives\n",
    "\n",
    "#### By the end of this module, you should be able to:\n",
    "\n",
    "- create and use the Python list, tuple, string, and dictionary data structures,\n",
    "- explain the difference between mutable and immutable data structures and why both types are important,\n",
    "- effectively use iteration to process data in these data structures, and\n",
    "- apply built-in functions to manipulate data in these data structures.\n",
    "\n",
    "### Activities and Assignments\n",
    "\n",
    "| Activities and Assignments               | Time Estimate | Deadline* | Points |\n",
    "| :--------------------------------------- | ------------- | --------- | -----: |\n",
    "| **[Module 3 Overview Video][wv]**      | 10 Minutes    | Tuesday |    N/A |\n",
    "| **[Module 3 Lesson 1: Introduction to Python Data Structures][nb1]** | 2 Hours   | Thursday  |     N/A |\n",
    "| **[Module 3 Lesson 2: Working with Python Data Structures][nb2]** | 2 Hours | Thursday  |     N/A |\n",
    "| **[Module 3 Lesson 3: Introduction to Python Loops][nb3]** | 2 Hours | Thursday  |     N/A |\n",
    "| **[Module 3 Quiz][wq]**                    | 30 Minutes    | Friday    |    25  |\n",
    "| **[Module 3 Assignment Low][mal]**                    | 1 hour   | Sunday    |  25 |\n",
    "| **[Module 3 Assignment High][mah]**                    | 1 hour   | Sunday    |  75 |\n",
    "\n",
    "*Please note that unless otherwise noted, the due time is 6pm Central time!\n",
    "\n",
    "----------\n",
    "\n",
    "[nb1]: notebooks/m3l1.ipynb\n",
    "[nb2]: notebooks/m3l2.ipynb\n",
    "[nb3]: notebooks/m3l3.ipynb\n",
    "\n",
    "[mal]: https://datascience.business.illinois.edu/user/bigdog/notebooks/accy570/assignments/module3/assignment_low.ipynb\n",
    "[mah]: https://datascience.business.illinois.edu/user/bigdog/notebooks/accy570/assignments/module3/assignment_high.ipynb\n",
    "\n",
    "\n",
    "[wv]: https://mediaspace.illinois.edu/media/t/0_sgfcwmm8/99381161\n",
    "[wq]: https://learn.illinois.edu/mod/quiz/view.php?id=2839536"
   ]
  }
 ],
 "metadata": {
  "kernelspec": {
   "display_name": "Python 3",
   "language": "python",
   "name": "python3"
  },
  "language_info": {
   "codemirror_mode": {
    "name": "ipython",
    "version": 3
   },
   "file_extension": ".py",
   "mimetype": "text/x-python",
   "name": "python",
   "nbconvert_exporter": "python",
   "pygments_lexer": "ipython3",
   "version": "3.7.1"
  }
 },
 "nbformat": 4,
 "nbformat_minor": 2
}
