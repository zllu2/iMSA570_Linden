{
 "cells": [
  {
   "cell_type": "markdown",
   "metadata": {},
   "source": [
    "# Module 4: Lesson 3\n",
    "\n",
    "-----\n",
    "\n",
    "## Introduction to Pandas\n",
    "\n",
    "This lesson introduces the Pandas module. The Pandas module introduces two powerful data structures into your arsenal: the `Series` and the `DataFrame`. In this lesson, you will learn about these two data structures and specifically how to use them to hold, access, and operate on data.\n",
    "\n",
    "\n",
    "### Objectives\n",
    "\n",
    "By the end of this lesson, you will understand\n",
    "\n",
    "- the basic components in the Pandas library,\n",
    "- how to create and manipulate data in a `Series` and a `DataFrame` data structure,\n",
    "- how to select data from a `DataFrame` by row, column, or both rows and columns, and\n",
    "- how to manipulate large data sets by column labels.\n",
    "\n",
    "### Time Estimate\n",
    "\n",
    "Approximately 2 hours.\n",
    "\n",
    "### Activities \n",
    "\n",
    "**Video**: Watch the [introduction to Pandas ][ipdv] video, which will demonstrate how to work effectively with this powerful data structure.\n",
    "\n",
    "**Notebook**: Read and complete the practice exercises in the [Introduction to Pandas][intro2pd] notebook.\n",
    "\n",
    "Reading: Read the article introducing [Pandas to Excel users][bep], you can stop reading when you get to the Pivot Table section.\n",
    "\n",
    "\n",
    "------\n",
    "\n",
    "[bep]: https://towardsdatascience.com/intro-to-pandas-for-excel-super-users-dac1b38f12b0\n",
    "\n",
    "[ipdv]: https://mediaspace.illinois.edu/media/t/0_ingyfade/99381161\n",
    "\n",
    "[intro2pd]: intro2pandas.ipynb"
   ]
  }
 ],
 "metadata": {
  "kernelspec": {
   "display_name": "Python 3",
   "language": "python",
   "name": "python3"
  },
  "language_info": {
   "codemirror_mode": {
    "name": "ipython",
    "version": 3
   },
   "file_extension": ".py",
   "mimetype": "text/x-python",
   "name": "python",
   "nbconvert_exporter": "python",
   "pygments_lexer": "ipython3",
   "version": "3.7.1"
  }
 },
 "nbformat": 4,
 "nbformat_minor": 2
}
