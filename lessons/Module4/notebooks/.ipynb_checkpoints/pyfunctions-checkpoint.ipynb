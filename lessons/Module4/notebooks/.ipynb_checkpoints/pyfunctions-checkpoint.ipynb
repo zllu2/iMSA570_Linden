{
 "cells": [
  {
   "cell_type": "markdown",
   "metadata": {},
   "source": [
    "# Python Functions: Advanced Concepts\n",
    "\n",
    "-----"
   ]
  },
  {
   "cell_type": "markdown",
   "metadata": {},
   "source": [
    "In a previous notebook, we introduced functions, which provide a concise mechanism to encapsulate code that can promote code reuse. But when writing code in Python, functions are even more powerful. This notebook discusses several more advanced function concepts including functions as objects, nested functions, scope, variable length arguments, lambda functions, and decorators. Mastery of these concepts, especially the last few, is not required to be able to use Python for data analytics. However, you should be familiar with them in order to understand code that others write or in future lessons where they may be used to provide more concise technical solutions.\n",
    "\n",
    "-----"
   ]
  },
  {
   "cell_type": "markdown",
   "metadata": {},
   "source": [
    "## Function Objects\n",
    "\n",
    "We have routinely defined names, or variables, when writing Python scripts and assigned values to these names. So far, this has generally been a variable, and we have assigned a value to this name, for example:\n",
    "\n",
    "```python\n",
    "name = 'Julio'\n",
    "amount = 1000\n",
    "price = 105.75\n",
    "```\n",
    "However, in Python everything is an object, which means that all types of things can be assigned to names or variables. Interestingly enough, this also includes functions. As a result, we can assign a defined function to a variable, pass a function into another function as an argument, and access functions from variables. This concept is demonstrated in the following Code cell where we define a simple function that displays a welcome message and assign this new function `test_function` to the `my_func` variable. As the cell results demonstrate, the variable holds an object of type `<class 'function'>`, and when the variable is accessed directly the name and address for the function are displayed.\n",
    "\n",
    "-----"
   ]
  },
  {
   "cell_type": "code",
   "execution_count": 1,
   "metadata": {},
   "outputs": [
    {
     "name": "stdout",
     "output_type": "stream",
     "text": [
      "<class 'function'>\n",
      "<function test_function at 0x7fe3d038bae8>\n"
     ]
    }
   ],
   "source": [
    "def test_function(name):\n",
    "    print(f'Hello {name}!')\n",
    "\n",
    "my_func = test_function\n",
    "\n",
    "print(type(my_func))\n",
    "print(my_func)"
   ]
  },
  {
   "cell_type": "markdown",
   "metadata": {},
   "source": [
    "-----\n",
    "\n",
    "This technique may seem odd; however, we are simply treating functions as objects, just like anything else in Python such as data or data structures. This approach adds considerable power to the Python language, because we can assign functions to a list and select the function to call when a program is being executed. We will demonstrate this approach later in this notebook, but first the following Code cell shows how this new function object can be invoked. We simply use the new name in place of the original function name along with the appropriate set of function arguments.\n",
    "\n",
    "-----"
   ]
  },
  {
   "cell_type": "code",
   "execution_count": 2,
   "metadata": {
    "scrolled": false
   },
   "outputs": [
    {
     "name": "stdout",
     "output_type": "stream",
     "text": [
      "Hello James!\n"
     ]
    }
   ],
   "source": [
    "my_func('James')"
   ]
  },
  {
   "cell_type": "markdown",
   "metadata": {},
   "source": [
    "-----\n",
    "\n",
    "<font color='red' size = '5'> Student Exercise </font>\n",
    "\n",
    "In the empty **Code** cell below, create a simple function that multiplies the number passed into the function by ten and returns the result. Now, assign this function to a variable called `scl`.  Finally, call the function `scl` with a value of 100. Does the result make sense?\n",
    "\n",
    "-----"
   ]
  },
  {
   "cell_type": "code",
   "execution_count": null,
   "metadata": {},
   "outputs": [],
   "source": []
  },
  {
   "cell_type": "markdown",
   "metadata": {},
   "source": [
    "-----\n",
    "\n",
    "## Nested Functions\n",
    "\n",
    "In general, a function is defined to accomplish a single task. The code to perform this task is encapsulated within the function to share this capability more widely. In some cases, this code might become rather long on its own or have an operation that is performed repeatedly. In this case, we might want the function to have its own functions. This approach is known as nested functions since one function (the inner function) nests inside the other (the outer function). \n",
    "\n",
    "Python supports this concept; we simply define the new function inside the body of the parent function. In the following Code cell, we define an inner function, `in_function`, inside an outer function, `out_function`, that simply displays its arguments. Notice how the body of the inner function is indented a total of eight spaces, four for the outer function body and four for the inner function body.\n",
    "\n",
    "\n",
    "-----"
   ]
  },
  {
   "cell_type": "code",
   "execution_count": 3,
   "metadata": {},
   "outputs": [
    {
     "name": "stdout",
     "output_type": "stream",
     "text": [
      "Inside Outer Function:  1 2 3\n",
      "Inside Inner Function: (in values)  3 2 1\n"
     ]
    }
   ],
   "source": [
    "def out_function(x, y, z):\n",
    "    print('Inside Outer Function: ', x, y, z)\n",
    "    \n",
    "    def in_function(zz, yy, xx):\n",
    "        print('Inside Inner Function: (in values) ', zz, yy, xx)\n",
    "        \n",
    "    in_function(z, y, x)\n",
    "    \n",
    "out_function(1, 2, 3)\n",
    "\n",
    "# Calling in_function throws exception"
   ]
  },
  {
   "cell_type": "markdown",
   "metadata": {},
   "source": [
    "-----\n",
    "\n",
    "We can also use nested functions to dynamically change the behavior of the parent function, depending on the arguments passed into the parent function. The following Code cell demonstrates this technique by using two inner functions, only one of which is called depending on the Boolean parameter passed into the parent function. We can create instances of both versions of the parent function, assign them to variables, and invoke them separately. In this case, it appears we defined two separate functions when in fact we only used one with two nested functions.\n",
    "\n",
    "-----"
   ]
  },
  {
   "cell_type": "code",
   "execution_count": 4,
   "metadata": {
    "scrolled": true
   },
   "outputs": [
    {
     "name": "stdout",
     "output_type": "stream",
     "text": [
      "Function objects\n",
      "t_func:  <function out_function_test.<locals>.true_func at 0x7fe3d03326a8>\n",
      "f_func:  <function out_function_test.<locals>.false_func at 0x7fe3d0332950>\n",
      "\n",
      "Function invocations\n",
      "t-func:  True function\n",
      "f_func:  False function\n"
     ]
    }
   ],
   "source": [
    "def out_function_test(bool_val=True):\n",
    "    \n",
    "    def true_func():\n",
    "        return 'True function'\n",
    "    \n",
    "    def false_func():\n",
    "        return 'False function'\n",
    "    \n",
    "    if(bool_val):\n",
    "        return(true_func)\n",
    "    else:\n",
    "        return(false_func)\n",
    "\n",
    "t_func = out_function_test(True)\n",
    "f_func = out_function_test(False)\n",
    "\n",
    "print('Function objects')\n",
    "print('t_func: ', t_func)\n",
    "print('f_func: ', f_func)\n",
    "\n",
    "print()\n",
    "print('Function invocations')\n",
    "print('t-func: ', t_func())\n",
    "print('f_func: ', f_func())"
   ]
  },
  {
   "cell_type": "markdown",
   "metadata": {},
   "source": [
    "-----\n",
    "\n",
    "<font color='red' size = '5'> Student Exercise </font>\n",
    "\n",
    "In the empty **Code** cell below, create your own nested functions that modify a global variable called `test` in both the inner and outer function.\n",
    "\n",
    "-----"
   ]
  },
  {
   "cell_type": "code",
   "execution_count": null,
   "metadata": {},
   "outputs": [],
   "source": []
  },
  {
   "cell_type": "markdown",
   "metadata": {},
   "source": [
    "## Scope\n",
    "\n",
    "Anytime you work with a computer, you are using programs. Think about a word processor, spreadsheet, browser, or email client. These are all examples of large programs that contain many lines of code. This code will contain many objects like variables or functions potentially written by many different people over many years. When these programs are executed, all of these objects have to be used correctly. If you think about a large room full of people, invariably there will be many people who share names, and a computer program will likely be similar, so how does the computer keep track of everything and avoid name collisions?\n",
    "\n",
    "The simple answer is **scope**; an object has limited scope and is only seen within a specific portion of a program. Thus, it is important to understand scope, or you may try to use an object, like a variable, where it may be undefined, or you may accidentally reuse a name and cause a different problem. In Python, there are basically four scope levels (ignoring classes as object-oriented programming is beyond the _scope_ of this class). These levels are, in order of increasing visibility:\n",
    "\n",
    "1. Local,\n",
    "2. Enclosing-function,\n",
    "3. Global, and\n",
    "4. Built-In.\n",
    "\n",
    "Local scope refers to variables defined within a specific function; these objects are only visible within the function where they are declared. An object defined in an enclosing function is visible anywhere within that function, including in a function defined inside that function (also known as _nested functions_). An object defined at the top of a file, either a program, a module file (which is discussed in a latter lesson), or a notebook like this one is visible through that file and inside functions defined in that file. Finally, any name defined that is built-in to the Python language (like `range`, `len`, `print`, or exception names, like `SyntaxError`) is visible anywhere in a Python program.\n",
    "\n",
    "We demonstrate _scope_  in the following Code cell. We first define a simple function and show how the variables defined inside the function are only visible in that function, while the variables defined outside the function (but before it is called) are visible inside the function. Notice how we have defined a variable called `b` both before the function call, which in this case is in _Global_ scope, and inside the function, which is in _Local_ scope. Inside the function, the locally defined variable hides the global variable, and any changes to the local variable are not reflected in the global variable. However, the global scope variable `a` is visible inside the function\n",
    "\n",
    "-----"
   ]
  },
  {
   "cell_type": "code",
   "execution_count": 5,
   "metadata": {},
   "outputs": [
    {
     "name": "stdout",
     "output_type": "stream",
     "text": [
      "Inside first if statement: a = 1, b = 2, c = 1\n",
      "Inside second if statement: a = 10, b = 20, c = 1\n",
      "After second if statement: a = 10, b = 20, c = 30\n",
      "After first if statement: a = 10, b = 20, c = 30\n"
     ]
    }
   ],
   "source": [
    "# Define outer scope variables\n",
    "a = 1 ; b = 2\n",
    "\n",
    "if (True):\n",
    "    c = 1\n",
    "    print(f'Inside first if statement: a = {a}, b = {b}, c = {c}')\n",
    "    \n",
    "    b = 20\n",
    "    \n",
    "    if (True):\n",
    "        a = 10\n",
    "        print(f'Inside second if statement: a = {a}, b = {b}, c = {c}')\n",
    "        c = 30\n",
    "    \n",
    "    print(f'After second if statement: a = {a}, b = {b}, c = {c}')\n",
    "\n",
    "print(f'After first if statement: a = {a}, b = {b}, c = {c}')    "
   ]
  },
  {
   "cell_type": "code",
   "execution_count": 6,
   "metadata": {},
   "outputs": [
    {
     "name": "stdout",
     "output_type": "stream",
     "text": [
      "Before while statement: a = 1, b = 2\n",
      "Inside while statement: a = 1, b = 20, c = 1\n",
      "After while statement: a = 1, b = 20, c = 1\n"
     ]
    }
   ],
   "source": [
    "# Define outer scope variables\n",
    "a = 1 ; b = 2 ; c = None\n",
    "\n",
    "print(f'Before while statement: a = {a}, b = {b}')\n",
    "\n",
    "while (b == 2):\n",
    "    c = 1\n",
    "    b = 20\n",
    "    \n",
    "    print(f'Inside while statement: a = {a}, b = {b}, c = {c}')\n",
    "\n",
    "print(f'After while statement: a = {a}, b = {b}, c = {c}')"
   ]
  },
  {
   "cell_type": "code",
   "execution_count": 7,
   "metadata": {},
   "outputs": [
    {
     "name": "stdout",
     "output_type": "stream",
     "text": [
      "    Inside function: a = 1, b = 2, c = 3\n",
      "After function: a = 1, b = 2, d = 4\n"
     ]
    }
   ],
   "source": [
    "# Define function to demonstrate scope levels\n",
    "def scope_test(b):\n",
    "    \n",
    "    # Define local variable\n",
    "    c = 3\n",
    "    print(f'    Inside function: a = {a}, b = {b}, c = {c}')\n",
    "\n",
    "    # Manipulate input value and return\n",
    "    b *= 2\n",
    "    return b    \n",
    "\n",
    "# Define global scope variables\n",
    "a = 1 ; b = 2\n",
    "\n",
    "# Call function and capture return value\n",
    "d = scope_test(b)\n",
    "print(f'After function: a = {a}, b = {b}, d = {d}')"
   ]
  },
  {
   "cell_type": "markdown",
   "metadata": {},
   "source": [
    "-----\n",
    "\n",
    "Notice in the previous example how we accessed three variables inside the `scope_test` function: `a`, which has global scope, `b`, which is a function argument and has local scope, and `c`, which has `local` scope. While we can access the value of the global scope variable (or call a function that has a broader scope level), we cannot modify its value inside the functions or we either get an unexpected result or we raise an `UnboundLocalError` exception. The reason why is that if we try to change a variable by using an assignment, we either create a new local scope variable (e.g., `a = 10`) that hides the global variable, or we try to reference a local variable before it is defined (e.g., `a += 10`).\n",
    "\n",
    "We can manipulate a global scope variable inside the function by using the `global` Python keyword to indicate that a name has global scope. We demonstrate this in the following Code cell, where we indicate that the variable `a` has global scope before we change its value. As the displayed output shows, the change made in the value of _a_ is propagated to the global variable.\n",
    "\n",
    "-----"
   ]
  },
  {
   "cell_type": "code",
   "execution_count": 8,
   "metadata": {},
   "outputs": [
    {
     "name": "stdout",
     "output_type": "stream",
     "text": [
      "    Inside function: a = 10, b = 2, c = 3\n",
      "After function: a = 10, b = 2, d = 4\n"
     ]
    }
   ],
   "source": [
    "# Define function to demonstrate scope levels but use global keyword\n",
    "def scope_test_g(b):\n",
    "    \n",
    "    # Modify global variable\n",
    "    global a\n",
    "    a *= 10\n",
    "\n",
    "    # Define local variable\n",
    "    c = 3\n",
    "    print(f'    Inside function: a = {a}, b = {b}, c = {c}')\n",
    "\n",
    "    # Manipulate input value and return\n",
    "    b *= 2\n",
    "    return b    \n",
    "\n",
    "# Define global scope variables\n",
    "a = 1 ; b = 2\n",
    "\n",
    "# Call function and capture return value\n",
    "d = scope_test_g(b)\n",
    "print(f'After function: a = {a}, b = {b}, d = {d}')"
   ]
  },
  {
   "cell_type": "markdown",
   "metadata": {},
   "source": [
    "-----\n",
    "\n",
    "In this case, the function modified the global variable and the value was persisted throughout the Code cell. But a new problem arises if we use nested function. Using `global` inside the inner function would bring in the global scope variable. But if we instead want the function scope variable, we need a different approach. In this case, Python provides the `nonlocal` keyword, which indicates that a name is not local and not global, and instead should be taken from the enclosing function. This is demonstrated in the following Code cell where we have a variable named `b` defined in the global scope, in the enclosing function scope, and in the local scope inside the nested function. In this case, we use the `nonlocal` keyword to indicate that the  variable `b` in the nested function is the variable `b` form the enclosing function. As the displayed text demonstrates, the value of _b_ is modified only inside the outer function.\n",
    "\n",
    "-----"
   ]
  },
  {
   "cell_type": "code",
   "execution_count": 9,
   "metadata": {},
   "outputs": [
    {
     "name": "stdout",
     "output_type": "stream",
     "text": [
      "    Start: Inside (Outer) function: a = 10, b = 2, c = 3\n",
      "        Inside (Inner) function: a = 10, b = 46, c = 3\n",
      "    End: Inside (Outer) function: a = 10, b = 46, c = 3\n",
      "After function: a = 10, b = 2, d = 92\n"
     ]
    }
   ],
   "source": [
    "# Define function to demonstrate scope levels but use global keyword\n",
    "def scope_test_out(b):\n",
    "    \n",
    "    # Define nested function\n",
    "    def scope_test_in():\n",
    "        \n",
    "        nonlocal b\n",
    "        b *= 23\n",
    "        \n",
    "        print(f'        Inside (Inner) function: a = {a}, b = {b}, c = {c}')\n",
    "        \n",
    "    # Modify global variable\n",
    "    global a\n",
    "    a *= 10\n",
    "\n",
    "    # Define local variable\n",
    "    c = 3\n",
    "    print(f'    Start: Inside (Outer) function: a = {a}, b = {b}, c = {c}')\n",
    "    \n",
    "    scope_test_in()\n",
    "\n",
    "    print(f'    End: Inside (Outer) function: a = {a}, b = {b}, c = {c}')\n",
    "\n",
    "    # Manipulate input value and return\n",
    "    b *= 2\n",
    "    return b    \n",
    "\n",
    "# Define global scope variables\n",
    "a = 1 ; b = 2\n",
    "\n",
    "# Call function and capture return value\n",
    "d = scope_test_out(b)\n",
    "print(f'After function: a = {a}, b = {b}, d = {d}')"
   ]
  },
  {
   "cell_type": "markdown",
   "metadata": {},
   "source": [
    "-----\n",
    "\n",
    "One thing to keep in mind is that the scope rules focus on files and functions, not _code blocks_. For example, a variable is visible inside a code block for a conditional statement or loop, and a variable defined or modified inside one of these non-function code blocks is visible within the enclosing code. This allows a loop, for example, to modify variables and for those changes to be visible more broadly within the program. This is demonstrated in the following Code cell where we modify variables inside a function, and the results propagate to the enclosing code block.\n",
    "\n",
    "\n",
    "-----"
   ]
  },
  {
   "cell_type": "code",
   "execution_count": 10,
   "metadata": {},
   "outputs": [
    {
     "name": "stdout",
     "output_type": "stream",
     "text": [
      "Before for statement: a = 1, b = 2, c = None\n",
      "Inside for statement: a = 1, b = 20, c = 1\n",
      "After for statement: a = 1, b = 20, c = 1\n"
     ]
    }
   ],
   "source": [
    "# Define outer scope variables\n",
    "a = 1 ; b = 2 ; c = None\n",
    "\n",
    "print(f'Before for statement: a = {a}, b = {b}, c = {c}')\n",
    "\n",
    "for idx in range(1):\n",
    "    c = 1\n",
    "    b = 20\n",
    "    \n",
    "    print(f'Inside for statement: a = {a}, b = {b}, c = {c}')\n",
    "\n",
    "print(f'After for statement: a = {a}, b = {b}, c = {c}')"
   ]
  },
  {
   "cell_type": "markdown",
   "metadata": {},
   "source": [
    "-----\n",
    "\n",
    "## Variable Length Function Arguments\n",
    "\n",
    "When Python functions were first introduced in an earlier lesson, function arguments were passed to a function in two ways: values and keyword value pairs. For example, given the following functions definition:\n",
    "\n",
    "```python\n",
    "def my_function(name, price, amount = 1):\n",
    "    \n",
    "    # Process data\n",
    "```\n",
    "\n",
    "we could invoke this function by passing values: `my_function('Zhou', 10.50, 100)` or by passing keyword value pairs: `my_function(name='Zhou', price=10.50, amount=100)`. In some cases, however, a function might accept a large range of arguments that may or may not need to be passed to the function. For example, many plotting functions in the _Seaborn_ visualization library accept dictionaries to control a plot's appearance, which are passed to the _Matplotlib_ library to generate the actual data visualization. As a result, the programmer can specify only those arguments that are required to control the appearance of the final visualization.\n",
    "\n",
    "This technique is known formally as variable length function arguments, and by using this technique, one can write functions that behave in different ways depending on both the number of parameters passed to the function and their value. To make this work, there are several important rules:\n",
    "\n",
    "1. Variable-length arguments must be at the end of the argument list; any named argument must appear first.\n",
    "2. Variable-length arguments passed solely by value must come next. Formally these are received as a tuple by the function and are generally programmatically handled by using a variable called `args`.\n",
    "3. Variable-length keyword arguments come last and are formally received as a dictionary. Programmatically, this dictionary is typically handled by a variable called `kwargs`.\n",
    "\n",
    "Failure to follow these rules can result in an exception, such as a `SyntaxError: positional argument follows keyword argument`. \n",
    "\n",
    "In the following Code cell, we demonstrate a function processing a variable-length argument. First, notice how the variable-length argument is indicated in the function definition by using the `*args` parameter. This tells the Python interpreter that a known number of arguments will be passed by value into this function, and that all of them should be encapsulated as a tuple. Since a tuple is immutable, the values can't be changed. We also use the `enumerate` function to obtain both a loop counter and the item from the tuple. As the output of the two different function calls demonstrate, the results are received as a tuple and the values are iterated over to be displayed.\n",
    "\n",
    "-----"
   ]
  },
  {
   "cell_type": "code",
   "execution_count": 11,
   "metadata": {},
   "outputs": [
    {
     "name": "stdout",
     "output_type": "stream",
     "text": [
      "<class 'tuple'>\n",
      "Item #0 = Jin\n",
      "Item #1 = Jane\n",
      "Item #2 = Eliu\n",
      "\n",
      "<class 'tuple'>\n",
      "Item #0 = 1\n",
      "Item #1 = 2\n",
      "Item #2 = [0, 1]\n",
      "Item #3 = (10, 20)\n",
      "Item #4 = {'a': 5}\n",
      "Item #5 = 6\n"
     ]
    }
   ],
   "source": [
    "# Demonstrate tuple variable length arguments\n",
    "def display_t_arguments(*args):\n",
    "    print(type(args))\n",
    "    for idx, itm in enumerate(args):\n",
    "        print(f'Item #{idx} = {itm}')\n",
    "    \n",
    "# Homogenous string arguments\n",
    "display_t_arguments('Jin', 'Jane', 'Eliu')\n",
    "\n",
    "print()\n",
    "\n",
    "# Heterogenous arguments\n",
    "display_t_arguments(1, 2, [0, 1], (10, 20), {'a': 5}, 6)"
   ]
  },
  {
   "cell_type": "markdown",
   "metadata": {},
   "source": [
    "-----\n",
    "\n",
    "Next, we demonstrate a function that accepts a variable-length keyword argument. In the following Code cell, we define the `display_d_arguments` function that has a single parameter `**kwargs`. The double asterisk indicates to the Python interpreter that this is a variable-length keyword argument named `kwargs`. The rest of the function displays the type of the argument, which is class 'dict', before displaying the values in the dictionary.\n",
    "\n",
    "-----"
   ]
  },
  {
   "cell_type": "code",
   "execution_count": 12,
   "metadata": {},
   "outputs": [
    {
     "name": "stdout",
     "output_type": "stream",
     "text": [
      "<class 'dict'>\n",
      "kwargs[a] = 1\n",
      "kwargs[b] = (1, 2)\n",
      "kwargs[c] = Hello World!\n",
      "\n",
      "<class 'dict'>\n",
      "kwargs[name] = Joe\n",
      "kwargs[dct] = {'a': (1, 2), 'b': 2}\n"
     ]
    }
   ],
   "source": [
    "# Demonstrate dictionary variable length arguments\n",
    "def display_d_arguments(**kwargs):\n",
    "    print(type(kwargs))\n",
    "    for k, v in kwargs.items():\n",
    "        print(f'kwargs[{k}] = {v}')\n",
    "\n",
    "# Test with Heterogenous arguments\n",
    "display_d_arguments(a=1, b=(1, 2), c='Hello World!')\n",
    "\n",
    "print()\n",
    "\n",
    "display_d_arguments(name='Joe', dct = {'a': (1, 2), 'b': 2})"
   ]
  },
  {
   "cell_type": "markdown",
   "metadata": {},
   "source": [
    "-----\n",
    "\n",
    "Lastly, we demonstrate how a function can take both of these variable-length arguments. As required, we first indicate the variable-length value arguments by using the `*args` parameter, followed by the variable-length keyword argument by using the `**kwargs` parameter. As demonstrated in the following Code cell, Python automatically maps the passed arguments into these two container parameters, which we can easily process. \n",
    "\n",
    "-----"
   ]
  },
  {
   "cell_type": "code",
   "execution_count": 13,
   "metadata": {
    "scrolled": true
   },
   "outputs": [
    {
     "name": "stdout",
     "output_type": "stream",
     "text": [
      "<class 'tuple'>\n",
      "12\n",
      "34\n",
      "56\n",
      "\n",
      "<class 'dict'>\n",
      "kwargs[a] = 1\n",
      "kwargs[b] = [1, 2, 3]\n",
      "kwargs[c] = {'name': 'James', 'amount': 100}\n"
     ]
    }
   ],
   "source": [
    "# Demonstrate tuple and dictionary variable length arguments\n",
    "def display_td_arguments(*args, **kwargs):\n",
    "\n",
    "    # Process tuple arguments\n",
    "    print(type(args))\n",
    "    for v in args:\n",
    "        print(v)\n",
    "        \n",
    "    print()\n",
    "    # Process dictionary arguments\n",
    "    print(type(kwargs))\n",
    "    for k, v in kwargs.items():\n",
    "        print(f'kwargs[{k}] = {v}')\n",
    "\n",
    "# Test with both types of arguments\n",
    "display_td_arguments(12, 34, 56, a=1, b=[1, 2, 3], c={'name': 'James', 'amount': 100})"
   ]
  },
  {
   "cell_type": "markdown",
   "metadata": {},
   "source": [
    "-----\n",
    "\n",
    "<font color='red' size = '5'> Student Exercise </font>\n",
    "\n",
    "In the empty **Code** cell below, create a simple function that computes the cumulative sum (every value in the input tuple should be replaced by the sum of all values before and including the current value, thus (1, 2, 3) becomes (1, 3, 6)) of its arguments, which you can assume are passed by value. Use a variable-length parameter to access these values and return the result as a tuple.\n",
    "\n",
    "-----"
   ]
  },
  {
   "cell_type": "code",
   "execution_count": null,
   "metadata": {},
   "outputs": [],
   "source": []
  },
  {
   "cell_type": "markdown",
   "metadata": {},
   "source": [
    "-----\n",
    "\n",
    "## Lambda Functions\n",
    "\n",
    "Python also supports the ability to create unnamed functions, which are short functions that are defined and used in place. An unnamed function in Python is called a `lambda` function and is defined by using the `lambda` keyword. lambda functions are often used in comprehensions or in function calls, when an argument expects a function. This technique is actually very simple to use; one simply uses the `lambda` keyword, followed by the function arguments. Next, a colon is used to separate the function arguments from the function body. For example, the following lambda function returns the square of its input:\n",
    "\n",
    "```python\n",
    "lambda x: x**2\n",
    "```\n",
    "\n",
    "A lambda function can take multiple arguments. The following example creates a `lambda` function that takes multiple arguments and returns a function of both. In this case, the lambda function is assigned to the name `f`, which is invoked within a `print` function:\n",
    "\n",
    "```\n",
    "f = lambda x, y: x**2 + y**2\n",
    "```\n",
    "\n",
    "The following Code cell demonstrates a similar lambda function and how it can be used within other Python statements.\n",
    "\n",
    "-----"
   ]
  },
  {
   "cell_type": "code",
   "execution_count": 14,
   "metadata": {},
   "outputs": [
    {
     "name": "stdout",
     "output_type": "stream",
     "text": [
      "Hypotenuse of triangle with sides (3, 4) = 5.0\n"
     ]
    }
   ],
   "source": [
    "# Lambda function to compute hypotenuse\n",
    "import math\n",
    "\n",
    "l_f = lambda x, y: math.sqrt(x**2 + y**2)\n",
    "\n",
    "print(f'Hypotenuse of triangle with sides (3, 4) = {l_f(3, 4)}')"
   ]
  },
  {
   "cell_type": "markdown",
   "metadata": {},
   "source": [
    "-----\n",
    "\n",
    "One of the most common uses for lambda functions are to create list comprehensions. A simple approach to creating complex comprehensions is to use a lambda function inside the first part of the comprehension. For example, \n",
    "\n",
    "```python\n",
    "[(lambda x: x**2)(x) for x in range(10)]\n",
    "```\n",
    "\n",
    "which will create the following list `[0, 1, 4, 9, 16, 25, 36, 49, 64, 81]`. This technique is shown in the following Code cell where we apply a lambda function to populate a new list.\n",
    "\n",
    "-----"
   ]
  },
  {
   "cell_type": "code",
   "execution_count": 15,
   "metadata": {},
   "outputs": [
    {
     "data": {
      "text/plain": [
       "[0, 2, 6, 12, 20, 30, 42, 56, 72, 90]"
      ]
     },
     "execution_count": 15,
     "metadata": {},
     "output_type": "execute_result"
    }
   ],
   "source": [
    "# Demonstrate simple lambda function\n",
    "[(lambda x: x + x**2)(x) for x in range(10)]"
   ]
  },
  {
   "cell_type": "markdown",
   "metadata": {},
   "source": [
    "-----\n",
    "\n",
    "We can also create a list of lambda functions and select a function at run-time or iterate over the entire list. In the case of the former, you might choose the function based on user-input or a calculation. For the latter, you might want to compute different functions for a set of data, which this approach easily enables. Both of these options are shown in the following Code cell. \n",
    "\n",
    "-----"
   ]
  },
  {
   "cell_type": "code",
   "execution_count": 16,
   "metadata": {
    "scrolled": true
   },
   "outputs": [
    {
     "name": "stdout",
     "output_type": "stream",
     "text": [
      "1000000\n",
      "\n",
      "Function #0(x = 11) = 100\n",
      "Function #1(x = 11) = 1000\n",
      "Function #2(x = 11) = 10000\n"
     ]
    }
   ],
   "source": [
    "# Define list of functions\n",
    "my_funcs = [(lambda x: x**2), (lambda x: x**3), (lambda x: x**4)]\n",
    "\n",
    "# First call an arbitrary function from the list function:\n",
    "print(my_funcs[1](100))\n",
    "print()\n",
    "\n",
    "# Next, iterate over the fuctions.\n",
    "\n",
    "value = 11\n",
    "for idx in range(3):\n",
    "    print(f'Function #{idx}(x = {value}) = {my_funcs[idx](10)}')"
   ]
  },
  {
   "cell_type": "markdown",
   "metadata": {},
   "source": [
    "-----\n",
    "\n",
    "<font color='red' size = '5'> Student Exercise </font>\n",
    "\n",
    "In the empty **Code** cell below, create a lambda function to compute the product of two parameters (i.e., x * y). Apply this function to the list `[1, 3, 5, 7, 11]`. Do the results make sense?\n",
    "\n",
    "-----"
   ]
  },
  {
   "cell_type": "code",
   "execution_count": null,
   "metadata": {},
   "outputs": [],
   "source": []
  },
  {
   "cell_type": "markdown",
   "metadata": {},
   "source": [
    "-----\n",
    "\n",
    "## Decorators\n",
    "\n",
    "The last advanced function capability we will address in this notebook are function decorators. A decorator is a way to add functionality to an existing function without changing the function itself. This can be useful if you want to add logging or debugging information to record the program state before and after a function, or you might need to acquire login credentials from a user before a function is called, perhaps to access sensitive data, or you may want to augment the output from a function to include additional data. \n",
    "\n",
    "In any of these cases, the format for creating a function decorator is straightforward. First, we create the decorator as a function itself that takes a function as an argument. The decorator contains a nested function called `wrapper` that wraps the target function invocation. Finally, the decorator function returns the wrapper. Lastly, we call the decorator function with our target function as an argument and assign the result (which is the wrapper function) to the target function name. As a result, our original name now holds the wrapped function. \n",
    "\n",
    "This is demonstrated in the following Code cell, where we wrap the `my_function` function by using the `my_decorator_function` decorator function. When the wrapped function is called, we see the original function called is wrapped such that work is done before and after the original function is called. In this case, the work is simply displaying a message, but in general could be much more complex.\n",
    "\n",
    "\n",
    "-----"
   ]
  },
  {
   "cell_type": "code",
   "execution_count": 17,
   "metadata": {},
   "outputs": [
    {
     "name": "stdout",
     "output_type": "stream",
     "text": [
      "Entering Wrapper\n",
      "Inside my function\n",
      "Leaving Wrapper\n"
     ]
    }
   ],
   "source": [
    "def my_decorator_function(a_function):\n",
    "    def wrapper():\n",
    "        print('Entering Wrapper')\n",
    "        a_function()\n",
    "        print('Leaving Wrapper')\n",
    "    \n",
    "    return wrapper\n",
    "\n",
    "def my_function():\n",
    "    print('Inside my function')\n",
    "    \n",
    "my_function = my_decorator_function(my_function)\n",
    "\n",
    "my_function()"
   ]
  },
  {
   "cell_type": "markdown",
   "metadata": {},
   "source": [
    "-----\n",
    "\n",
    "The process shown previously to wrap a function can be useful when you must modify an existing function. But when creating new or modifying existing functions, Python provides a shorthand to indicate that a function should be wrapped by a decorator. This shorthand is to place a new string, `@name_of_decorator_function`, before the function definition, where `name_of_decorator_function` is replaced by the name of the actual decorator function. This is also helpful when you need to wrap multiple functions. This shortcut is demonstrated in the next Code cell, where we reuse the `my_decorator_function` decorator to decorate a new function called `my_next_function`.\n",
    "\n",
    "-----"
   ]
  },
  {
   "cell_type": "code",
   "execution_count": 18,
   "metadata": {},
   "outputs": [
    {
     "name": "stdout",
     "output_type": "stream",
     "text": [
      "Entering Wrapper\n",
      "Inside my other function\n",
      "Leaving Wrapper\n"
     ]
    }
   ],
   "source": [
    "@my_decorator_function\n",
    "def my_next_function():\n",
    "    print('Inside my other function')\n",
    "    \n",
    "my_next_function()"
   ]
  },
  {
   "cell_type": "markdown",
   "metadata": {},
   "source": [
    "-----\n",
    "\n",
    "So far, our decorators have been simple and have not provided any new benefits (although we could write messages to a logfile in a similar manner to monitor program execution). In the next example, we create a decorator that times the execution of a function. Notice how the decorator approach does not require any changes to the function of interest; we simply apply the decorator tag to the function. The decorator has the machinery to compute the run time of the target function. \n",
    "\n",
    "In this case, we simply use the `time` function inside the `time` module in the Python standard library to get the time before the function is called and time after the function is called. Our decorator computes the difference between these two times and returns a string that contains a helpful message with this time difference. A second feature of this example is that we also show how to write a decorator for a function that takes an argument. In this case, our target function takes a `size` argument, which is the size of the array to create and sum. To wrap this function, we need to define the wrapper function to have the same, exact arguments.\n",
    "\n",
    "-----"
   ]
  },
  {
   "cell_type": "code",
   "execution_count": 19,
   "metadata": {},
   "outputs": [
    {
     "name": "stdout",
     "output_type": "stream",
     "text": [
      "Sum of square root of integers [0: 99999] = 21081692.746\n",
      "Function time = 0.0367 seconds.\n"
     ]
    }
   ],
   "source": [
    "import math\n",
    "import time\n",
    "\n",
    "def my_timing_decorator_function(a_function):\n",
    "    def wrapper(size):\n",
    "        start = time.time()\n",
    "        a_function(size)\n",
    "        end = time.time()\n",
    "        \n",
    "        return f'Function time = {end - start:6.4f} seconds.'\n",
    "    \n",
    "    return wrapper\n",
    "\n",
    "@my_timing_decorator_function\n",
    "def my_num_function(size):\n",
    "    data = [(lambda x: math.sqrt(x))(x) for x in range(int(size))]\n",
    "    print(f'Sum of square root of integers [0: {int(size - 1)}] = {sum(data):0.3f}')\n",
    "    \n",
    "print(my_num_function(size=1E5))"
   ]
  },
  {
   "cell_type": "markdown",
   "metadata": {},
   "source": [
    "-----\n",
    "\n",
    "Given the widespread utility of decorators, Python also supports the application of multiple decorators to the same function. In this case, the order in which decorators are applied to a function control the order they are called. This is demonstrated in the following Code cell where we create two decorators: `my_first_decorator_function` and `my_second_decorator_function`. These are applied in this order to a new function called `my_final_function`. As shown in the output of the following Code cell, the first decorator is called first, second, we enter the second decorator, and finally the function itself. Afterwards we reenter the second decorator and finally the first decorator.\n",
    "\n",
    "-----"
   ]
  },
  {
   "cell_type": "code",
   "execution_count": 20,
   "metadata": {
    "scrolled": true
   },
   "outputs": [
    {
     "name": "stdout",
     "output_type": "stream",
     "text": [
      "Entering first decorator\n",
      "Entering second decorator\n",
      "Inside my final function\n",
      "Leaving second decorator\n",
      "Leaving first decorator\n"
     ]
    }
   ],
   "source": [
    "# Create and apply two decorators\n",
    "def my_first_decorator_function(a_function):\n",
    "    def wrapper():\n",
    "        print('Entering first decorator')\n",
    "        a_function()\n",
    "        print('Leaving first decorator')\n",
    "        \n",
    "    return wrapper\n",
    "\n",
    "def my_second_decorator_function(a_function):\n",
    "    def wrapper():\n",
    "        print('Entering second decorator')\n",
    "        a_function()\n",
    "        print('Leaving second decorator')\n",
    "        \n",
    "    return wrapper\n",
    "\n",
    "@my_first_decorator_function\n",
    "@my_second_decorator_function\n",
    "def my_final_function():\n",
    "    print('Inside my final function')\n",
    "\n",
    "# Call function\n",
    "my_final_function()"
   ]
  },
  {
   "cell_type": "markdown",
   "metadata": {},
   "source": [
    "-----\n",
    "\n",
    "<font color='red' size = '5'> Student Exercise </font>\n",
    "\n",
    "In the empty **Code** cell below, create a decorator function that multiplies the input parameter of a function by ten before the function is called. Next, create a function called `normal_function` that takes an input value and displays the result. Test your decorator to ensure the displayed value is ten times larger than what was passed into `normal_function`.\n",
    "\n",
    "-----"
   ]
  },
  {
   "cell_type": "code",
   "execution_count": null,
   "metadata": {},
   "outputs": [],
   "source": []
  },
  {
   "cell_type": "markdown",
   "metadata": {},
   "source": [
    "## Ancillary Information\n",
    "\n",
    "The following links are to additional documentation that you might find helpful in learning this material. Reading these web-accessible documents is completely optional.\n",
    "\n",
    "1. The official Python documentation for [lambda functions][1]\n",
    "3. A discussion on  [_lambda functions_][2] from the book, _Dive into Python_\n",
    "65. The article [Understand Python Namespace and Scope with Examples](http://www.techbeamers.com/python-namespace-scope/) provides a detailed discussion on the concept of scope in Python programs.\n",
    "5. The wikibook [Python Programming/Functions](https://en.wikibooks.org/wiki/Python_Programming/Functions) has information relevant to the advanced capabilities presented in this notebook.\n",
    "76. An article discussing [Python Decorators](https://www.thecodeship.com/patterns/guide-to-python-function-decorators/)\n",
    "\n",
    "-----\n",
    "\n",
    "[1]: https://docs.python.org/3/howto/functional.html?highlight=lambda#small-functions-and-the-lambda-expression\n",
    "[2]: http://www.diveintopython.net/power_of_introspection/lambda_functions.html\n",
    "[3]: http://greenteapress.com/thinkpython2/html/index.html"
   ]
  },
  {
   "cell_type": "markdown",
   "metadata": {
    "deletable": false,
    "editable": false
   },
   "source": [
    "**&copy; 2017: Robert J. Brunner at the University of Illinois.**\n",
    "\n",
    "This notebook is released under the [Creative Commons license CC BY-NC-SA 4.0][ll]. Any reproduction, adaptation, distribution, dissemination or making available of this notebook for commercial use is not allowed unless authorized in writing by the copyright holder.\n",
    "\n",
    "[ll]: https://creativecommons.org/licenses/by-nc-sa/4.0/legalcode"
   ]
  }
 ],
 "metadata": {
  "kernelspec": {
   "display_name": "Python 3",
   "language": "python",
   "name": "python3"
  },
  "language_info": {
   "codemirror_mode": {
    "name": "ipython",
    "version": 3
   },
   "file_extension": ".py",
   "mimetype": "text/x-python",
   "name": "python",
   "nbconvert_exporter": "python",
   "pygments_lexer": "ipython3",
   "version": "3.6.4"
  }
 },
 "nbformat": 4,
 "nbformat_minor": 1
}
