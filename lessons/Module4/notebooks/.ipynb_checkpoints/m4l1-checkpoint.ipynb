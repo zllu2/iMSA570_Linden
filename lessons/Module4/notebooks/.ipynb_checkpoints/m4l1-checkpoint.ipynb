{
 "cells": [
  {
   "cell_type": "markdown",
   "metadata": {},
   "source": [
    "# Module 4: Lesson 1\n",
    "\n",
    "-----\n",
    "\n",
    "## Writing Python Programs\n",
    "\n",
    "This lesson introduces several important concepts that you should understand when writing Python programs. First, several readings will provide insight into popular software engineering techniques. If you work with software engineers, it is important to understand their approach to solving problems and the tools and techniques they use to develop useful software products. The notebook for this lesson extends these concepts by demonstrating how to create and execute a Python program. The notebook also introduces how a Python program can catch and handle error conditions, before demonstrating how to create and use Python modules, which simplify software reuse.\n",
    "\n",
    "### Objectives\n",
    "\n",
    "By the end of this lesson, you will be be able to\n",
    "\n",
    "- articulate basic skills every software developer should possess,\n",
    "- explain github and why it is so popular,\n",
    "- write and execute a simple Python program,\n",
    "- employ exception handling within a Python script, and\n",
    "- effectively use Python modules.\n",
    "\n",
    "\n",
    "### Time Estimate\n",
    "\n",
    "Approximately 2 hours.\n",
    "\n",
    "### Activities\n",
    "\n",
    "**Video**: Watch the [Python Modules][l2vid] video, which will demonstrate key concepts in working with Python modules to simplify program development.\n",
    "\n",
    "**Notebook**: Read and complete the practice exercises in the [Writing Python Programs][pymodules] notebook.\n",
    "\n",
    "Reading: Read the article on [things every software engineer should know][sek], which contains information useful for anyone who has to write or use software, including data analysts.\n",
    "\n",
    "Reading: Read the article on [using github][gh], which is a very popular source code control system.\n",
    "\n",
    "Reading: Read the article on [testing code with Python][tp], which introduces the test-driven software development approach.\n",
    "\n",
    "Reading (Optional): Read through the Google [Python Style Guide][psg]\n",
    "\n",
    "\n",
    "------\n",
    "\n",
    "[sek]: http://www.sw-engineering-candies.com/blog-1/top10thingseverysoftwareengineershouldknow\n",
    "\n",
    "[gh]: https://www.thebalancecareers.com/what-is-github-and-why-should-i-use-it-2071946\n",
    "\n",
    "[tp]: https://medium.freecodecamp.org/learning-to-test-with-python-997ace2d8abe\n",
    "\n",
    "[psg]: https://github.com/google/styleguide/blob/gh-pages/pyguide.md\n",
    "\n",
    "[l2vid]: https://mediaspace.illinois.edu/media/t/0_b4o6bo6q/99381161\n",
    "\n",
    "[pymodules]: pyprogs.ipynb"
   ]
  }
 ],
 "metadata": {
  "kernelspec": {
   "display_name": "Python 3",
   "language": "python",
   "name": "python3"
  },
  "language_info": {
   "codemirror_mode": {
    "name": "ipython",
    "version": 3
   },
   "file_extension": ".py",
   "mimetype": "text/x-python",
   "name": "python",
   "nbconvert_exporter": "python",
   "pygments_lexer": "ipython3",
   "version": "3.7.1"
  }
 },
 "nbformat": 4,
 "nbformat_minor": 2
}
