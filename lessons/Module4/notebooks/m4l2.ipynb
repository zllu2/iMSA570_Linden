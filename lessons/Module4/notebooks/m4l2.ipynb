{
 "cells": [
  {
   "cell_type": "markdown",
   "metadata": {},
   "source": [
    "# Module 4: Lesson 2\n",
    "\n",
    "-----\n",
    "\n",
    "## Introduction to NumPy\n",
    "\n",
    "This lesson introduces the NumPy module, which provides support for fast numerical operations within Python with optimized numerical arrays and vectorized functions. The NumPy module also forms the basis for the Pandas module, which is extremely useful for data analytics, as well as more powerful machine learning libraries such as scikit-learn.\n",
    "\n",
    "### Objectives\n",
    "\n",
    "By the end of this lesson, you will understand:\n",
    "\n",
    "- the benefits of using the NumPy module,\n",
    "- how to create and manipulate NumPy arrays, and\n",
    "- how to apply universal functions to NumPy arrays.\n",
    "\n",
    "### Time Estimate\n",
    "\n",
    "Approximately 2 hours.\n",
    "\n",
    "### Activities \n",
    "\n",
    "**Video**: Watch the [Introduction to the NumPy][inv] video, which will demonstrate how to efficiently work with numerical data in Python.\n",
    "\n",
    "**Notebook**: Read and complete the student  exercises in the [Introduction to NumPy][intro2numpy] notebook.\n",
    "\n",
    "------\n",
    "\n",
    "[inv]: https://mediaspace.illinois.edu/media/t/0_5fo2fdej/99381161\n",
    "\n",
    "[intro2numpy]: intro2numpy.ipynb"
   ]
  }
 ],
 "metadata": {
  "kernelspec": {
   "display_name": "Python 3",
   "language": "python",
   "name": "python3"
  },
  "language_info": {
   "codemirror_mode": {
    "name": "ipython",
    "version": 3
   },
   "file_extension": ".py",
   "mimetype": "text/x-python",
   "name": "python",
   "nbconvert_exporter": "python",
   "pygments_lexer": "ipython3",
   "version": "3.7.3"
  }
 },
 "nbformat": 4,
 "nbformat_minor": 2
}
