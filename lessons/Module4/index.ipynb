{
 "cells": [
  {
   "cell_type": "markdown",
   "metadata": {},
   "source": [
    "# Module 4: Python Programming\n",
    "\n",
    "This module introduces fundamental concepts in Python programming. First, you will learn about writing Python programs, which includes concepts drawn from the field of software engineering, as well as Python specific concepts like modules and exception handling. Second, you will learn about the NumPy module, which provides support for fast numerical operations within Python. This module will focus on using NumPy with one-dimensional data (i.e., vectors or 1-D arrays). Finally, you will learn about the pandas module, which contains data structures like Series and DataFrame, the most used data structures in python data analytics.\n",
    "\n",
    "## Learning Objectives\n",
    "\n",
    "#### By the end of this module, you should be able to:\n",
    "\n",
    "- use different Python modules effectively,\n",
    "- use Python's exception handling mechanism,\n",
    "- work with one dimensional numerical data by using the NumPy module, and\n",
    "- understand pandas Series and DataFrame basics.\n",
    "\n",
    "### Activities and Assignments\n",
    "\n",
    "| Activities and Assignments               | Time Estimate | Deadline* | Points |\n",
    "| :--------------------------------------- | ------------- | --------- | -----: |\n",
    "| **[Module 4 Overview Video][wv]**      | 10 Minutes    | Tuesday |    N/A |\n",
    "| **[Module 4 Lesson 1: Writing Python Programs][nb1]** | 2 Hours | Thursday  |     N/A |\n",
    "| **[Module 4 Lesson 2: Introduction to NumPy][nb2]** | 2 Hours | Thursday  |     N/A |\n",
    "| **[Module 4 Lesson 3: Introduction to Pandas][nb3]** | 2 Hours | Thursday  |     N/A |\n",
    "| **[Module 4 Quiz][wq]**                    | 30 Minutes    | Friday    |    25  |\n",
    "| **[Module 4 Assignment Low][mal]**                    | 1 hour   | Sunday    |  25 |\n",
    "| **[Module 4 Assignment High][mah]**                    | 1 hour   | Sunday    |  75 |\n",
    "\n",
    "\n",
    "*Please note that unless otherwise noted, the due time is 6pm Central time!\n",
    "\n",
    "----------\n",
    "\n",
    "[nb1]: notebooks/m4l1.ipynb\n",
    "[nb2]: notebooks/m4l2.ipynb\n",
    "[nb3]: notebooks/m4l3.ipynb\n",
    "\n",
    "\n",
    "[mal]: https://datascience.business.illinois.edu/user/bigdog/notebooks/accy570/assignments/module4/assignment_low.ipynb\n",
    "[mah]: https://datascience.business.illinois.edu/user/bigdog/notebooks/accy570/assignments/module4/assignment_high.ipynb\n",
    "\n",
    "[wv]: https://mediaspace.illinois.edu/media/t/0_638h5g7w/99381161\n",
    "\n",
    "[wq]: https://learn.illinois.edu/mod/quiz/view.php?id=2839539"
   ]
  }
 ],
 "metadata": {
  "kernelspec": {
   "display_name": "Python 3",
   "language": "python",
   "name": "python3"
  },
  "language_info": {
   "codemirror_mode": {
    "name": "ipython",
    "version": 3
   },
   "file_extension": ".py",
   "mimetype": "text/x-python",
   "name": "python",
   "nbconvert_exporter": "python",
   "pygments_lexer": "ipython3",
   "version": "3.7.1"
  }
 },
 "nbformat": 4,
 "nbformat_minor": 2
}
