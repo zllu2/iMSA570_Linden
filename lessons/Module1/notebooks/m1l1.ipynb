{
 "cells": [
  {
   "cell_type": "markdown",
   "metadata": {},
   "source": [
    "# Module 1: Lesson 1\n",
    "\n",
    "-----\n",
    "\n",
    "## Introduction to Data Analytics\n",
    "\n",
    "The first lesson consists of several readings on the importance of analytics in modern accountancy.\n",
    "\n",
    "### Objectives\n",
    "\n",
    "By the end of this lesson, you will:\n",
    "\n",
    "- know why analytic skills are so important to firms,\n",
    "- know what types of analytics skills are important and why, and\n",
    "- understand how you can stay current as you grow in your career.\n",
    "\n",
    "### Time Estimate\n",
    "\n",
    "Approximately 1 hour.\n",
    "\n",
    "### Activities\n",
    "\n",
    "**Video**: Watch the [importance of analytics][lv] video, which will discuss the benefits of learning analytics in modern accountancy.\n",
    "\n",
    "Reading: The [following short case studies][dda] on accounting professionals employing data analytics.  \n",
    "\n",
    "Reading: The article on [ethics in a machine-run world][demrw].\n",
    "\n",
    "Reading: The article on [the difficulty finding accountants with analytics skills][adas].\n",
    "\n",
    "------\n",
    "\n",
    "[lv]: https://mediaspace.illinois.edu/media/t/0_8p43cn36/99381161\n",
    "\n",
    "[dda]: https://www2.deloitte.com/us/en/pages/deloitte-analytics/articles/business-analytics-case-studies.html\n",
    "[demrw]: https://analytics-blog.deloitte.com/2017/05/19/who-determines-ethics-in-a-machine-run-world/#more-497\n",
    "\n",
    "[adas]: https://www.accountingweb.com/practice/team/accountants-with-data-analytics-skills-are-difficult-to-find"
   ]
  }
 ],
 "metadata": {
  "kernelspec": {
   "display_name": "Python 3",
   "language": "python",
   "name": "python3"
  },
  "language_info": {
   "codemirror_mode": {
    "name": "ipython",
    "version": 3
   },
   "file_extension": ".py",
   "mimetype": "text/x-python",
   "name": "python",
   "nbconvert_exporter": "python",
   "pygments_lexer": "ipython3",
   "version": "3.7.1"
  }
 },
 "nbformat": 4,
 "nbformat_minor": 2
}
