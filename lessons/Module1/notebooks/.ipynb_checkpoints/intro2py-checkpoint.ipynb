{
 "cells": [
  {
   "cell_type": "markdown",
   "metadata": {},
   "source": [
    "# Introduction to the Python Programming Language\n",
    "\n",
    "-----"
   ]
  },
  {
   "cell_type": "markdown",
   "metadata": {},
   "source": [
    "## Why Python\n",
    "\n",
    "[Python][1] is an open-source, high-level, general purpose programming language that was originally developed by [Guido van Rossum][gv]. [What this means][2] is that anyone can view (and optionally make contributions to) the actual language implementation, the language simplifies many tasks for the programmer, especially when compared to other programming languages like C or Java, and Python programs can easily be developed to tackle a wide range of problems including network communication, scientific calculations, data processing and archiving tasks, and graphical tool development. In addition, the syntax and form of the Python programming language is designed to allow Python programs to be quickly developed, simplifying development time and costs while also reducing maintenance costs since a well-written Python program is easy to comprehend.\n",
    "\n",
    "![Python logo](https://www.python.org/static/community_logos/python-logo-master-v3-TM.png)\n",
    "\n",
    "A large number of Python modules, which extend the base programming language, have been developed and are now widely used. These modules, which can simplify the development of new Python programs, can be broadly classified into three types. The first type are commonly used modules that are part of the official Python distribution, known as the [standard library][sl], such as the [`math`][i], [`os.path`][ii], [`pickle`][ip], [`sqlite3`][sql], [`bz2`][iii], or [`csv`][iv] modules. The second type are modules that are also commonly used, but not (yet) part of the official standard library. Relevant example modules of this type are the [`numpy`][np], [`pandas`][pd], [`matplotlib`][mp], or [`scipy`][sp] modules. The last type of module is developed by communities for a special purpose that are currently less commonly used (but this may change in time). These include modules like the [`seaborn`][sb], [`statsmodels`][sm], or [`nltk`][nl]. Of course, any developer can write a Python module, thus offering a wide array of possible add-on functionality. Using these modules, however, should be carefully balanced with the importance minimizing software dependencies, which can reduce development and maintenance issues for software engineers.\n",
    "\n",
    "-----\n",
    "\n",
    "[gv]: https://www.python.org/~guido/\n",
    "[i]: https://docs.python.org/3/library/math.html\n",
    "[ii]: https://docs.python.org/3/library/os.path.html\n",
    "[iii]: https://docs.python.org/3/library/bz2.html\n",
    "[iv]: https://docs.python.org/3/library/csv.html\n",
    "[ip]: https://docs.python.org/3/library/pickle.html\n",
    "[sl]: https://docs.python.org/3/library/\n",
    "[sql]: https://docs.python.org/3/library/sqlite3.html\n",
    "[np]: http://www.numpy.org\n",
    "[mp]: http://matplotlib.org\n",
    "[pd]: http://pandas.pydata.org\n",
    "[sp]: http://www.scipy.org\n",
    "[sb]: http://web.stanford.edu/~mwaskom/software/seaborn/index.html\n",
    "[sm]: http://statsmodels.sourceforge.net\n",
    "[nl]: http://www.nltk.org\n",
    "[1]: https://www.python.org\n",
    "[2]: https://en.wikipedia.org/wiki/Python_(programming_language)\n",
    "[3]: https://wiki.python.org/moin/Python2orPython3\n",
    "[4]: https://wiki.python.org/moin/Python3000/FAQ\n",
    "[5]: https://docs.python.org/3.0/whatsnew/3.0.html"
   ]
  },
  {
   "cell_type": "markdown",
   "metadata": {},
   "source": [
    "### Optional: Python History\n",
    "\n",
    "Python is maintained by the Python Software Foundation and currently comes in [two versions][3]: Python 2 and Python 3, which is intentionally backwards incompatible. Sometime around the turn of the millennium, [Python developers][4] began to consider improvements to the Python language that might produce incompatibilities with the existing Python language. One such change, which has been introduced with Python 3, is that the Python programming language is now consistently object-oriented, which means that everything in a Python program or script is now an _object_. These changes were considered necessary to enable the language to continue to grow and develop. The development of this new version, originally entitled Python 3000 or Python 3K, now shortened to just Python 3, took a number of years as new ideas were carefully developed and tested, and to provide sufficient time for the existing community to participate in the progression of the Python language. \n",
    "\n",
    "Now, over 15 years later, Python 3 is an improved version of the original Python language and offers a number of [important advances][5]. Thus, Python 2 is primarily used to maintain backwards compatibility with legacy Python codes that are too difficult or expensive to port to the newer version. In this class, we will exclusively use Python 3 since it represents the future, and all libraries we will use have already been successfully ported to the new version. As you browse different websites, IPython notebooks, or other resources, you should keep in mind this language split and be sure to focus primarily on Python 3 material to minimize confusion arising from these language differences. \n",
    "\n",
    "-----\n",
    "\n",
    "The following code block, when executed, displays what might be called the Python Zen.\n",
    "\n",
    "-----\n",
    "[gv]: https://www.python.org/~guido/\n",
    "[i]: https://docs.python.org/3/library/math.html\n",
    "[ii]: https://docs.python.org/3/library/os.path.html\n",
    "[iii]: https://docs.python.org/3/library/bz2.html\n",
    "[iv]: https://docs.python.org/3/library/csv.html\n",
    "[ip]: https://docs.python.org/3/library/pickle.html\n",
    "[sl]: https://docs.python.org/3/library/\n",
    "[sql]: https://docs.python.org/3/library/sqlite3.html\n",
    "[np]: http://www.numpy.org\n",
    "[mp]: http://matplotlib.org\n",
    "[pd]: http://pandas.pydata.org\n",
    "[sp]: http://www.scipy.org\n",
    "[sb]: http://web.stanford.edu/~mwaskom/software/seaborn/index.html\n",
    "[sm]: http://statsmodels.sourceforge.net\n",
    "[nl]: http://www.nltk.org\n",
    "[1]: https://www.python.org\n",
    "[2]: https://en.wikipedia.org/wiki/Python_(programming_language)\n",
    "[3]: https://wiki.python.org/moin/Python2orPython3\n",
    "[4]: https://wiki.python.org/moin/Python3000/FAQ\n",
    "[5]: https://docs.python.org/3.0/whatsnew/3.0.html"
   ]
  },
  {
   "cell_type": "code",
   "execution_count": 1,
   "metadata": {},
   "outputs": [
    {
     "name": "stdout",
     "output_type": "stream",
     "text": [
      "The Zen of Python, by Tim Peters\n",
      "\n",
      "Beautiful is better than ugly.\n",
      "Explicit is better than implicit.\n",
      "Simple is better than complex.\n",
      "Complex is better than complicated.\n",
      "Flat is better than nested.\n",
      "Sparse is better than dense.\n",
      "Readability counts.\n",
      "Special cases aren't special enough to break the rules.\n",
      "Although practicality beats purity.\n",
      "Errors should never pass silently.\n",
      "Unless explicitly silenced.\n",
      "In the face of ambiguity, refuse the temptation to guess.\n",
      "There should be one-- and preferably only one --obvious way to do it.\n",
      "Although that way may not be obvious at first unless you're Dutch.\n",
      "Now is better than never.\n",
      "Although never is often better than *right* now.\n",
      "If the implementation is hard to explain, it's a bad idea.\n",
      "If the implementation is easy to explain, it may be a good idea.\n",
      "Namespaces are one honking great idea -- let's do more of those!\n"
     ]
    }
   ],
   "source": [
    "import this"
   ]
  },
  {
   "cell_type": "markdown",
   "metadata": {},
   "source": [
    "-----\n",
    "\n",
    "## Basic Concepts\n",
    "\n",
    "While Python is a relatively easy language to learn, there are a few basic concepts that need to be reviewed before we begin to discuss the Python programming language. A fundamental concept to remember is that good Python code should be easy to read. To help programmers adhere to this guideline, Python has the following guidelines:\n",
    "\n",
    "1. white space is important,\n",
    "2. names should be descriptive,\n",
    "3. code blocks are indented four spaces (not hard tabs) and follow a colon,\n",
    "4. lines of code should be limited to less than 80 characters, and\n",
    "5. good code should be throughly documented both with comments and descriptive documentation strings.\n",
    "\n",
    "If lines need to be longer than 80 characters, the recommended practice is to use parentheses to group operations and to use suitable indentation to maintain readability. In the event this is insufficient, a line continuation character, `/`, can be used to allow code to extend over as many line as necessary.\n",
    "\n",
    "\n",
    "Python supports [REPL](https://en.wikipedia.org/wiki/Read–eval–print_loop), which is an abbreviation for Read-Eval-Print-Loop, allowing a developer to write, run, and test code iteratively, which aids in quickly developing new programs. Python also is Unicode complaint, so character coding can be specified (for example, UTF-8) at the start of a program (or in string literals), allowing a wider range of characters to be used to write descriptive text.\n",
    "\n",
    "### Python Identifiers\n",
    "\n",
    "A Python identifier is a name that is composed of a sequence of letters, numbers, and underscore characters that must adhere to the following rules:\n",
    "\n",
    "1. The first character must be a letter or an underscore character.\n",
    "2. Variable and Function names traditionally start with a lowercase letter.\n",
    "3. Classes traditionally start with an upper-case letter.\n",
    "4. The identifier cannot be one of the reserved Python keywords, listed in the code block below.\n",
    "\n",
    "While not explicitly prevented, it is also recommended to avoid names of objects from common Python libraries, like the string, list, or tuple to minimize name collisions and any resultant confusion.\n",
    "\n",
    "----"
   ]
  },
  {
   "cell_type": "code",
   "execution_count": 2,
   "metadata": {},
   "outputs": [
    {
     "name": "stdout",
     "output_type": "stream",
     "text": [
      "\n",
      "Here is a list of the Python keywords.  Enter any keyword to get more help.\n",
      "\n",
      "False               def                 if                  raise\n",
      "None                del                 import              return\n",
      "True                elif                in                  try\n",
      "and                 else                is                  while\n",
      "as                  except              lambda              with\n",
      "assert              finally             nonlocal            yield\n",
      "break               for                 not                 \n",
      "class               from                or                  \n",
      "continue            global              pass                \n",
      "\n"
     ]
    }
   ],
   "source": [
    "# We are in a Python3 Kernel\n",
    "help('keywords')"
   ]
  },
  {
   "cell_type": "markdown",
   "metadata": {},
   "source": [
    "-----\n",
    "\n",
    "A Python identifier can be used as the name of a variable, function, class, or module. Python identifiers are case sensitive, so `mylist` is different than `myList`. Writing descriptive identifiers can be beneficial for code readability and subsequent maintenance, thus we often write multi-word identifiers. When combining words, one can either use camel-case format, where each new word after the first is capitalized like `myFileList`. Alternatively, we also can separate words by using underscores like `my_filename_list`.  While both approaches are legal, it is best to be consistent as much as possible. \n",
    "\n",
    "The Python Enhancement Proposal, [PEP-8](http://legacy.python.org/dev/peps/pep-0008/#introduction), provides a complete discussion of recommend best practices when writing Python code. An additional perspective is available on how to be a [Pythonista](http://python.net/~goodger/projects/pycon/2007/idiomatic/handout.html).\n",
    "\n",
    "### Documentation\n",
    "\n",
    "The primary mechanism for documenting Python code is to use comments. Python supports two types of comment strings. The first type is a single-line comment, which begins with the hash or pound character `#` and continues until the end of the line. The `#` character can appear anywhere on the line. You can create large comment blocks by placing single-line comments adjacent to each other in a Python program. Here are a couple of examples of single line comments; the first comment consists of the entire line, and the second comment extends from the preceding command to the end of that line. \n",
    "\n",
    "```python   \n",
    "# Calculate the hypotenuse of a triangle\n",
    "\n",
    "c = math.sqrt(a**2 + b**2) # Assuming Euclidean Geometry\n",
    "```\n",
    "\n",
    "The second type of comment is a multi-line comment, which begins and ends with either three single quote characters,  `''' comment text '''` , or three double quote characters in a row: `\"\"\" comment text \"\"\"`. This comment can easily extend over multiple lines and is, therefore, used in a Python program to provide documentation via an implicit docstring for functions and classes. Here is an example of a multi-line comment string:\n",
    "\n",
    "```python   \n",
    "\n",
    "'''\n",
    "This multi-line comment can provide useful information\n",
    "for a function, class, or module.\n",
    "\n",
    "This also allows whitespace to be used to help\n",
    "write more clearly.\n",
    "'''\n",
    "```\n",
    "\n",
    "The built-in `help`  function can be used to view _docstring_ comments for different functions, classes, or other Python features, as shown in the following code block. As the adjacent comment suggests, you should execute this function and change the argument to the `help` function to view documentation for other Python language components like `int`, `complex`, `math`, or `list`.\n",
    "\n",
    "Another built-in function that you will frequently use is the `print` function, which, if necessary, converts its arguments to a string and displays the resulting string to _STDOUT_, which is generally the display.\n",
    "\n",
    "-----"
   ]
  },
  {
   "cell_type": "code",
   "execution_count": 3,
   "metadata": {},
   "outputs": [
    {
     "name": "stdout",
     "output_type": "stream",
     "text": [
      "Help on built-in function print in module builtins:\n",
      "\n",
      "print(...)\n",
      "    print(value, ..., sep=' ', end='\\n', file=sys.stdout, flush=False)\n",
      "    \n",
      "    Prints the values to a stream, or to sys.stdout by default.\n",
      "    Optional keyword arguments:\n",
      "    file:  a file-like object (stream); defaults to the current sys.stdout.\n",
      "    sep:   string inserted between values, default a space.\n",
      "    end:   string appended after the last value, default a newline.\n",
      "    flush: whether to forcibly flush the stream.\n",
      "\n"
     ]
    }
   ],
   "source": [
    "help(print) # Try changing print to something different like int, complex, str, or list."
   ]
  },
  {
   "cell_type": "markdown",
   "metadata": {},
   "source": [
    "-----\n",
    "\n",
    "<font color='red' size = '5'> Student Exercise </font>\n",
    "\n",
    "In the empty **Code** cell below, write a simple Python comment, a multi-line comment, and use the `help` command to display the built-in documentation for the `dict` and `str` classes.\n",
    "\n",
    "-----"
   ]
  },
  {
   "cell_type": "code",
   "execution_count": null,
   "metadata": {
    "collapsed": true
   },
   "outputs": [],
   "source": []
  },
  {
   "cell_type": "markdown",
   "metadata": {},
   "source": [
    "----\n",
    "\n",
    "### Python Operators\n",
    "\n",
    "Python supports the [basic mathematical operators][1], and by importing the math library, the Python interpreter can mimic a scientific calculator. The following list presents the basic mathematical operators, in order of precedence (operators in the same table cell have the same precedence):\n",
    "\n",
    "| Operator                         | Description                              | Example                                  |\n",
    "| -------------------------------- | ---------------------------------------- | ---------------------------------------- |\n",
    "| `()`                             | Parenthesis for grouping                 | `(2 + 3)`                                |\n",
    "| `**`                             | Exponential function                     | `2**3`                                   |\n",
    "| `*`<br/> `/`<br/> `//` <br/> `%` | Multiplication<br/> Division<br/>Integer Division<br/> Remainder | `2*3.1` <br/> `3.2 / 1.2 ` <br/> `5//2` <br/> `5%2` |\n",
    "| `+` <br/> `-`                    | Addition <br/> Subtraction               | `1.45 + 3.14` <br/> `5.3 - 2.125`        |\n",
    "\n",
    "\n",
    "When computing a quantity, you often will want to assign the value to a variable. This is done by using the assignment operator `=`. On the other hand, you may want to test if two values are the same, which is done with the equivalence operator, `==`. In addition, Python provides augmented assignment operators that combine a basic mathematical operator (`+`, `-`, `*`, `/`, `**`, `//`, or `%`) with the assignment operator: `+=`, `-=`, `*=`, `/=`, `**=`, `//=`, and `%=`; this can simplify and thus clarify some expressions. As a simple example of an augmented assignment operator, the following Python expressions are equivalent:\n",
    "\n",
    "```python\n",
    "a = a + 1\n",
    "a += 1\n",
    "```\n",
    "\n",
    "The Python language also provides a number of built-in functions, which generally convert a number either to a different datatype or different precision. These built-in functions are always available. The following table presents some of the more useful built-in functions for use in mathematical expressions.\n",
    "\n",
    "| Built-in Function | Description                              |\n",
    "| ----------------- | ---------------------------------------- |\n",
    "| `abs(x)`          | Returns the absolute value of `x`        |\n",
    "| `divmod(x, y)`    | Returns both the quotient and remainder of `x/y` when using integer division |\n",
    "| `float(x)`        | Returns `x` as a floating-point value    |\n",
    "| `int(x)`          | Returns `x` as a integer value           |\n",
    "| `pow(x, y)`       | Returns the exponential function `x**y`  |\n",
    "| `round(x, n)`     | Returns `x` as a floating-point value rounded to `n` digits (by default `n=0`) |\n",
    "\n",
    "In addition to these operators and built-in functions, there exist a number of mathematical operators in the Python [math library][2], including constants, numerical testing functions, trigonometric functions, logarithmic functions, and several special functions like the error function. The math library is part of the standard Python language, and is thus always accessible. To access them, the best approach is to simply add an `import math` statement at the top of a Python script or program. For example, the following example code demonstrates how to use functions in the math library:\n",
    "\n",
    "```python   \n",
    "import math\n",
    "\n",
    "x = 2.3\n",
    "y = math.sqrt(x/2.3) - math.sin(x/math.pi) + math.log(x**2)\n",
    "```\n",
    "\n",
    "In this example code, we have introduced the use of variables to hold the result of a calculation. Python is a dynamically typed language; thus we do not need to first declare the variable and its type before using it. If the variable is reused and assigned a different value, the variable takes on a new type. Python has a built-in `type` function that can always be used to ascertain the underlying data type of a variable, or any other legal Python construct as shown in the following code block.\n",
    "\n",
    "-----\n",
    "[1]: https://en.wikibooks.org/wiki/Python_Programming/Basic_Math"
   ]
  },
  {
   "cell_type": "code",
   "execution_count": 4,
   "metadata": {},
   "outputs": [
    {
     "data": {
      "text/plain": [
       "int"
      ]
     },
     "execution_count": 4,
     "metadata": {},
     "output_type": "execute_result"
    }
   ],
   "source": [
    "x = 1\n",
    "type(x)"
   ]
  },
  {
   "cell_type": "code",
   "execution_count": 5,
   "metadata": {},
   "outputs": [
    {
     "data": {
      "text/plain": [
       "float"
      ]
     },
     "execution_count": 5,
     "metadata": {},
     "output_type": "execute_result"
    }
   ],
   "source": [
    "x = 3.2\n",
    "type(x)"
   ]
  },
  {
   "cell_type": "code",
   "execution_count": 6,
   "metadata": {},
   "outputs": [
    {
     "data": {
      "text/plain": [
       "builtin_function_or_method"
      ]
     },
     "execution_count": 6,
     "metadata": {},
     "output_type": "execute_result"
    }
   ],
   "source": [
    "type(print) # Try changing print to something different like 'Hello World!' or math"
   ]
  },
  {
   "cell_type": "markdown",
   "metadata": {},
   "source": [
    "<font color='red' size = '5'> Student Exercise </font>\n",
    "\n",
    "In the empty **Code** cell below, write a simple Python script to calculate the approximate number of seconds in one week. Use a variable to hold the calculation and print the answer within this notebook.\n",
    "\n",
    "-----"
   ]
  },
  {
   "cell_type": "code",
   "execution_count": null,
   "metadata": {
    "collapsed": true
   },
   "outputs": [],
   "source": []
  },
  {
   "cell_type": "markdown",
   "metadata": {},
   "source": [
    "-----"
   ]
  },
  {
   "cell_type": "markdown",
   "metadata": {},
   "source": [
    "-----\n",
    "\n",
    "\n",
    "Note that Python supports other operators that are used when working with [Boolean][3] data or to perform [bit-wise operations][4]. For conciseness, we do not discuss these operators in this notebook.\n",
    "\n",
    "In the next set of code blocks, we present several examples that demonstrate how to use the basic Python mathematical operators and functions to compute different expressions. These blocks are meant to be executed, modified, and re-executed. One last point is that the Python interpreter provides a shorthand, a single underscore character `_`, to include the result of the last expression that was displayed by the Python interpreter in a new expression. Note that this is not automatically the result of a previous IPython Notebook cell, but is the last value computed. This is especially true if multiple values are calculated within a code block. The IPython Notebook extends this to allow repeated underscore characters to refer to previously calculated expressions, where the number of underscores refers to how many previous expressions should be used in palace of the underscore characters:\n",
    "\n",
    "```python   \n",
    "\n",
    ">>> a = 123\n",
    ">>> a\n",
    "123\n",
    ">>> _ + 1\n",
    "124\n",
    "```\n",
    "\n",
    "-----\n",
    "[1]: https://en.wikibooks.org/wiki/Python_Programming/Basic_Math\n",
    "[2]: https://docs.python.org/3/library/math.html\n",
    "[3]: https://en.wikibooks.org/wiki/Python_Programming/Operators#Boolean\n",
    "[4]: https://wiki.python.org/moin/BitwiseOperators"
   ]
  },
  {
   "cell_type": "code",
   "execution_count": 7,
   "metadata": {},
   "outputs": [
    {
     "data": {
      "text/plain": [
       "2"
      ]
     },
     "execution_count": 7,
     "metadata": {},
     "output_type": "execute_result"
    }
   ],
   "source": [
    "5 // 2"
   ]
  },
  {
   "cell_type": "code",
   "execution_count": 8,
   "metadata": {},
   "outputs": [
    {
     "data": {
      "text/plain": [
       "1"
      ]
     },
     "execution_count": 8,
     "metadata": {},
     "output_type": "execute_result"
    }
   ],
   "source": [
    "5 % 2"
   ]
  },
  {
   "cell_type": "code",
   "execution_count": 9,
   "metadata": {},
   "outputs": [
    {
     "data": {
      "text/plain": [
       "123.3010280397591"
      ]
     },
     "execution_count": 9,
     "metadata": {},
     "output_type": "execute_result"
    }
   ],
   "source": [
    "2.5 * 4.3 / 1.2 *(2 + 3 + 4 + 5) - 2.1**1.01"
   ]
  },
  {
   "cell_type": "code",
   "execution_count": 10,
   "metadata": {},
   "outputs": [
    {
     "data": {
      "text/plain": [
       "246.6020560795182"
      ]
     },
     "execution_count": 10,
     "metadata": {},
     "output_type": "execute_result"
    }
   ],
   "source": [
    "2 * _  # Use the result from the previous calculation"
   ]
  },
  {
   "cell_type": "code",
   "execution_count": 11,
   "metadata": {},
   "outputs": [
    {
     "data": {
      "text/plain": [
       "370.9030841192773"
      ]
     },
     "execution_count": 11,
     "metadata": {},
     "output_type": "execute_result"
    }
   ],
   "source": [
    "_ + __ + 1 # We now refer to the previous two calculations"
   ]
  },
  {
   "cell_type": "code",
   "execution_count": 12,
   "metadata": {},
   "outputs": [
    {
     "data": {
      "text/plain": [
       "2.0"
      ]
     },
     "execution_count": 12,
     "metadata": {},
     "output_type": "execute_result"
    }
   ],
   "source": [
    "import math\n",
    "\n",
    "math.sqrt(4)"
   ]
  },
  {
   "cell_type": "code",
   "execution_count": 13,
   "metadata": {},
   "outputs": [
    {
     "data": {
      "text/plain": [
       "2.0"
      ]
     },
     "execution_count": 13,
     "metadata": {},
     "output_type": "execute_result"
    }
   ],
   "source": [
    "math.exp(0) + math.cos(0) # 1 + 1 = 2"
   ]
  },
  {
   "cell_type": "markdown",
   "metadata": {},
   "source": [
    "-----\n",
    "\n",
    "## Best Practices: Version Management\n",
    "\n",
    "A good practice to employ in notebooks is to display the version of all software tools that might be used within the notebook. Often this can easily be placed at the end of a notebook, where it will not distract from the primary intent of the material contained within the notebook. To display the version of Python used by the current notebook, we simply need to execute the following two lines. Note that we also can display the specific version of Python libraries (e.g., numpy, scipy, or matplotlib) that we use in a Notebook, which will be demonstrated later in this course.\n",
    "\n",
    "-----"
   ]
  },
  {
   "cell_type": "code",
   "execution_count": 14,
   "metadata": {},
   "outputs": [
    {
     "name": "stdout",
     "output_type": "stream",
     "text": [
      "3.6.1 | packaged by conda-forge | (default, Mar 23 2017, 21:05:12) \n",
      "[GCC 4.8.2 20140120 (Red Hat 4.8.2-15)]\n"
     ]
    }
   ],
   "source": [
    "import sys\n",
    "\n",
    "print(sys.version)"
   ]
  },
  {
   "cell_type": "markdown",
   "metadata": {},
   "source": [
    "-----\n",
    "\n",
    "## Ancillary information\n",
    "\n",
    "The following links are to additional documentation that you might find helpful in learning this material. Reading these web-accessible documents is completely optional.\n",
    "\n",
    "1. The official [Python3 Tutorial](https://docs.python.org/3/tutorial/index.html)\n",
    "2. An official guide to Python for [Beginners](https://www.python.org/about/gettingstarted/)\n",
    "3. The introductory book [_A Byte of Python_](https://www.gitbook.com/book/swaroopch/byte-of-python/details)\n",
    "4. The book [_Think Python_](http://greenteapress.com/wp/think-python-2e/) for Python3 provides a comprehensive view of Python for data science.\n",
    "5. The book [_Dive into Python_](http://www.diveintopython.net/toc/index.html) is presented from a different, sometimes more advanced, viewpoint.\n",
    "\n",
    "\n",
    "-----"
   ]
  }
 ],
 "metadata": {
  "kernelspec": {
   "display_name": "Python 3",
   "language": "python",
   "name": "python3"
  },
  "language_info": {
   "codemirror_mode": {
    "name": "ipython",
    "version": 3
   },
   "file_extension": ".py",
   "mimetype": "text/x-python",
   "name": "python",
   "nbconvert_exporter": "python",
   "pygments_lexer": "ipython3",
   "version": "3.6.5"
  }
 },
 "nbformat": 4,
 "nbformat_minor": 1
}
