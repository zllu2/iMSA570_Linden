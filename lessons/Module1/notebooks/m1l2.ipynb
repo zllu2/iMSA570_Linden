{
 "cells": [
  {
   "cell_type": "markdown",
   "metadata": {},
   "source": [
    "# Module 1: Lesson 2\n",
    "\n",
    "-----\n",
    "\n",
    "## Introduction to the Course Server\n",
    "\n",
    "This lesson introduces the course Jupyter Notebook server where you will learn to perform many of the analytics skills presented in the rest of this course.\n",
    "\n",
    "### Objectives\n",
    "\n",
    "By the end of this lesson, you will be able to:\n",
    "\n",
    "- open a notebook,\n",
    "- create a notebook,\n",
    "- run a notebook,\n",
    "- understand the difference between Markdown and code cells,\n",
    "- create new cells in a notebook, and\n",
    "- run code cells.\n",
    "\n",
    "### Time Estimate\n",
    "\n",
    "Approximately 2 hours.\n",
    "\n",
    "### Activities\n",
    "\n",
    "**Video**: Watch the [introduction to the course server][ijhs] video, which will demonstrate how you will work with the server to perform data analytics.\n",
    "\n",
    "**Notebook**: Read and complete the practice exercises in the [Introduction to Jupyter Notebook][intro2nb].\n",
    "\n",
    "------\n",
    "\n",
    "[ijhs]: https://mediaspace.illinois.edu/media/t/0_e7h0dl5i/99381161\n",
    "\n",
    "[intro2nb]: intro2nb.ipynb\n",
    "[jn]: https://jupyter-notebook.readthedocs.io/en/stable/notebook.html#creating-a-new-notebook-document\n",
    "[ojn]: https://try.jupyter.org"
   ]
  }
 ],
 "metadata": {
  "kernelspec": {
   "display_name": "Python 3",
   "language": "python",
   "name": "python3"
  },
  "language_info": {
   "codemirror_mode": {
    "name": "ipython",
    "version": 3
   },
   "file_extension": ".py",
   "mimetype": "text/x-python",
   "name": "python",
   "nbconvert_exporter": "python",
   "pygments_lexer": "ipython3",
   "version": "3.7.3"
  }
 },
 "nbformat": 4,
 "nbformat_minor": 2
}
