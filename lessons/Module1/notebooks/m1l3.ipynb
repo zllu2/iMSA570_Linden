{
 "cells": [
  {
   "cell_type": "markdown",
   "metadata": {},
   "source": [
    "# Module 1: Lesson 3\n",
    "\n",
    "-----\n",
    "\n",
    "## Introduction to Markdown\n",
    "\n",
    "This lesson introduces [Markdown][md], which is an annotated format for writing text that can be rendered easily in different manners. You will use Markdown for completing course projects, as it enables writing documents quickly by forcing the writer to concentrate on the content over presentation.\n",
    "\n",
    "### Objectives\n",
    "\n",
    "By the end of this lesson, you will be able to write Markdown to indicate:\n",
    "\n",
    "- header text,\n",
    "- inline styling,\n",
    "- lists,\n",
    "- code,\n",
    "- math formula, and\n",
    "- quoting text.\n",
    "\n",
    "### Time Estimate\n",
    "\n",
    "Approximately 2 hours.\n",
    "\n",
    "### Activities\n",
    "\n",
    "**Video**: Watch the [Introduction to Markdown][imdv] video, which will demonstrate how you can easily construct a simple formatted document by using Markdown.\n",
    "\n",
    "**Notebook**: Read and complete the practice exercises in the [Introduction to Markdown][intro2md] notebook.\n",
    "\n",
    "-----\n",
    "\n",
    "[md]: http://daringfireball.net/projects/markdown/\n",
    "\n",
    "[intro2md]: intro2md.ipynb\n",
    "\n",
    "[imdv]: https://mediaspace.illinois.edu/media/t/0_igu8p9vt/99381161\n",
    "\n",
    "[mb]: https://daringfireball.net/projects/markdown/basics\n",
    "\n",
    "[mt]: https://www.markdowntutorial.com/"
   ]
  }
 ],
 "metadata": {
  "kernelspec": {
   "display_name": "Python 3",
   "language": "python",
   "name": "python3"
  },
  "language_info": {
   "codemirror_mode": {
    "name": "ipython",
    "version": 3
   },
   "file_extension": ".py",
   "mimetype": "text/x-python",
   "name": "python",
   "nbconvert_exporter": "python",
   "pygments_lexer": "ipython3",
   "version": "3.8.5"
  }
 },
 "nbformat": 4,
 "nbformat_minor": 4
}
