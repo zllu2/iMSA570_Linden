{
 "cells": [
  {
   "cell_type": "markdown",
   "metadata": {},
   "source": [
    "# Module 1: Foundations\n",
    "\n",
    "This module serves as the introduction to the course content and the course Jupyter server, where you will run your analytics scripts. First, you will read about specific examples of how analytics is being employed by Accounting firms. Next, you will learn about the capabilities of the course Jupyter server, and how to create, edit, and run notebooks on the course server. After this, you will learn how to write Markdown formatted documents, which is an easy way to quickly write formatted text, including descriptive text inside a course notebook.\n",
    "\n",
    "## Learning Objectives\n",
    "\n",
    "#### By the end of this module, you should be able to:\n",
    "\n",
    "- appreciate the importance of data analytics in accountancy,\n",
    "- work effectively with a Jupyter notebook on the course server, and\n",
    "- write basic markdown documents.\n",
    "\n",
    "### Activities and Assignments\n",
    "\n",
    "| Activities and Assignments               | Time Estimate | Deadline* | Points |\n",
    "| :--------------------------------------- | ------------- | --------- | -----: |\n",
    "| **[Module 1 Overview Video][wv]**      | 10 Minutes    | Tuesday  |    N/A |\n",
    "| **[Module 1 Lesson 1: Introduction to Data Analytics][nb1]** | 1 Hour  | Thursday  |     N/A |\n",
    "| **[Module 1 Lesson 2: Introduction to Jupyter Notebook][nb2]** | 2 Hours | Thursday  |     N/A |\n",
    "| **[Module 1 Lesson 3: Introduction to Markdown][nb3]** | 2 Hours | Thursday  |     N/A |\n",
    "| **[Module 1 Quiz][wq]**                    | 30 Minutes    | Friday    |     25|\n",
    "| **[Module 1 Assignment Low][mal]**                    | 1 hour   | Sunday    |  25 |\n",
    "| **[Module 1 Assignment High][mah]**                    | 1 hour   | Sunday    |  75 |\n",
    "\n",
    "\n",
    "*Please note that unless otherwise noted, the deadline for turning in assignments is 6pm Central time!\n",
    "\n",
    "----------\n",
    "\n",
    "[nb1]: notebooks/m1l1.ipynb\n",
    "[nb2]: notebooks/m1l2.ipynb\n",
    "[nb3]: notebooks/m1l3.ipynb\n",
    "\n",
    "[mal]: https://datascience.business.illinois.edu/user/bigdog/notebooks/accy570/assignments/module1/assignment_low.ipynb\n",
    "[mah]: https://datascience.business.illinois.edu/user/bigdog/notebooks/accy570/assignments/module1/assignment_high.ipynb\n",
    "\n",
    "[wv]: https://mediaspace.illinois.edu/media/t/0_ga3v4109/99381161\n",
    "\n",
    "[wq]: https://learn.illinois.edu/mod/quiz/view.php?id=2839524"
   ]
  }
 ],
 "metadata": {
  "kernelspec": {
   "display_name": "Python 3",
   "language": "python",
   "name": "python3"
  },
  "language_info": {
   "codemirror_mode": {
    "name": "ipython",
    "version": 3
   },
   "file_extension": ".py",
   "mimetype": "text/x-python",
   "name": "python",
   "nbconvert_exporter": "python",
   "pygments_lexer": "ipython3",
   "version": "3.8.5"
  }
 },
 "nbformat": 4,
 "nbformat_minor": 4
}
