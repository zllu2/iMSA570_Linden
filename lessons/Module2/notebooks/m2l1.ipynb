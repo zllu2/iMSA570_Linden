{
 "cells": [
  {
   "cell_type": "markdown",
   "metadata": {},
   "source": [
    "# Module 2: Lesson 1\n",
    "\n",
    "-----\n",
    "\n",
    "## Introduction to Python\n",
    "\n",
    "This lesson introduces the Python programming language. The purpose of this course is not to teach you to become a proficient Python programmer, although that might happen, but to teach you how to write and execute Python scripts to perform basic data analytics tasks. To quickly bring you up to speed, this lesson demonstrates how to enter and execute basic Python commands in a Jupyter Notebook.\n",
    "\n",
    "### Objectives\n",
    "\n",
    "By the end of this lesson, you will understand\n",
    "\n",
    "- that writing code is an important tool, that \n",
    "  - can distinguish job candidates, \n",
    "  - forces you to learn to think and act logically, \n",
    "  - develops creative approaches for problem-solving, and \n",
    "  - enables you to communicate effectively with technology experts,\n",
    "- the special Python keywords, \n",
    "- how to use the built-in Python help function, \n",
    "- how to write Python comments, \n",
    "- how to work with the built-in Python math operators, \n",
    "- the Python basic data types, and\n",
    "- how to create and use Python variables.\n",
    "\n",
    "### Time Estimate\n",
    "\n",
    "Approximately 2 hours.\n",
    "\n",
    "### Activities\n",
    "\n",
    "**Video**: Watch the [introduction to Python][ipyv] video, which will demonstrate several basic Python concepts including variables, basic math operations, and how to display textual results.\n",
    "\n",
    "**Notebook**: Read and complete the practice exercises in the [Introduction to Python][intro2py] notebook.\n",
    "\n",
    "Reading: Why accounting students might want to [learn to code][plc].\n",
    "\n",
    "\n",
    "-----\n",
    "\n",
    "[plc]: https://www.aicpa.org/InterestAreas/AccountingEducation/NewsAndPublications/Pages/should-accounting-students-code.aspx\n",
    "\n",
    "[intro2py]: intro2py.ipynb\n",
    "[ipyv]: https://mediaspace.illinois.edu/media/t/0_p8afdn41/99381161"
   ]
  }
 ],
 "metadata": {
  "kernelspec": {
   "display_name": "Python 3",
   "language": "python",
   "name": "python3"
  },
  "language_info": {
   "codemirror_mode": {
    "name": "ipython",
    "version": 3
   },
   "file_extension": ".py",
   "mimetype": "text/x-python",
   "name": "python",
   "nbconvert_exporter": "python",
   "pygments_lexer": "ipython3",
   "version": "3.8.5"
  }
 },
 "nbformat": 4,
 "nbformat_minor": 4
}
