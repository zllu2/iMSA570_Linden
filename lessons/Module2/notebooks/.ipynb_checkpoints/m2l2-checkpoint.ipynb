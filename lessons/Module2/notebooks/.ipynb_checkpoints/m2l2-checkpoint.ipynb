{
 "cells": [
  {
   "cell_type": "markdown",
   "metadata": {},
   "source": [
    "# Module 2: Lesson 2\n",
    "\n",
    "-----\n",
    "\n",
    "## Introduction to Python Functions\n",
    "\n",
    "This lesson introduces the concept of a function. Much like the equivalent mathematical concept, a Python function takes input and generates output. By encapsulating algorithmic details inside a function, you promote code reuse, increase efficiency by leveraging previous work, and reduce the likelihood for errors to occur.\n",
    "\n",
    "### Objectives\n",
    "\n",
    "By the end of this lesson, you will be be able to\n",
    "\n",
    "- create a function, \n",
    "- pass parameters into a function,\n",
    "- process input inside a function, and \n",
    "- return a value from a function. \n",
    "\n",
    "### Time Estimate\n",
    "\n",
    "Approximately 2 hours.\n",
    "\n",
    "### Activities\n",
    "\n",
    "**Video**: Watch the [Python functions][lv] video, which will demonstrate how to write and use Python functions.\n",
    "\n",
    "**Notebook**: Read and complete the practice exercises in the [Python functions][intro2pyf] notebook.\n",
    "\n",
    "Reading: Read the article [Why Programming Languages Can’t Exist Without Functions][ra].\n",
    "\n",
    "------\n",
    "\n",
    "[ra]: https://www.makeuseof.com/tag/programming-languages-need-functions/\n",
    "\n",
    "[lv]: https://mediaspace.illinois.edu/media/t/0_fsjx9hgp/99381161\n",
    "\n",
    "[intro2pyf]: intro2functions.ipynb"
   ]
  }
 ],
 "metadata": {
  "kernelspec": {
   "display_name": "Python 3",
   "language": "python",
   "name": "python3"
  },
  "language_info": {
   "codemirror_mode": {
    "name": "ipython",
    "version": 3
   },
   "file_extension": ".py",
   "mimetype": "text/x-python",
   "name": "python",
   "nbconvert_exporter": "python",
   "pygments_lexer": "ipython3",
   "version": "3.7.1"
  }
 },
 "nbformat": 4,
 "nbformat_minor": 2
}
