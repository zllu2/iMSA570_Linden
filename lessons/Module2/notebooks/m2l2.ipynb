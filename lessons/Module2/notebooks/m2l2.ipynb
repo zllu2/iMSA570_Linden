{
 "cells": [
  {
   "cell_type": "markdown",
   "metadata": {},
   "source": [
    "# Module 2: Lesson 2\n",
    "\n",
    "-----\n",
    "\n",
    "## Python Conditional Statements\n",
    "\n",
    "This lesson introduces Python conditional statements, which can be used to control how a computer executes a program. Formally, these statements use the `if` statement and its different variants, to control, based on a pre-defined condition, what code blocks are executed. The conditions used to determine which code blocks are executed must evaluate to a boolean value (i.e., `True` or `False`) and can involve combinations of different conditional and logical operations.\n",
    "\n",
    "\n",
    "### Objectives\n",
    "\n",
    "By the end of this lesson, you will be able to\n",
    "\n",
    "- explain basic boolean logic, which underlies the conditional test of an `if` statement,\n",
    "- articulate the differences between the logical operators, and \n",
    "- write effective `if` statements to perform conditional code evaluation.\n",
    "\n",
    "### Time Estimate\n",
    "\n",
    "Approximately 2 hours.\n",
    "\n",
    "### Activities \n",
    "\n",
    "**Video**: Watch the [Python Conditional Statements][lv] video, which will discuss how to use conditional statements to write more effective and powerful Python program.\n",
    "\n",
    "**Notebook**: Read and complete the practice exercises in the [Python Conditional Statements][intro2pcs] notebook.\n",
    "\n",
    "Reading: Read the Wikipedia article on [conditional statements][wcs] through the _Else If_ section.\n",
    "\n",
    "-----\n",
    "\n",
    "[wcs]: https://en.wikipedia.org/wiki/Conditional_(computer_programming)\n",
    "\n",
    "[lv]: https://mediaspace.illinois.edu/media/t/0_l49d6c5b/99381161\n",
    "\n",
    "[intro2pcs]: intro2pcs.ipynb"
   ]
  }
 ],
 "metadata": {
  "kernelspec": {
   "display_name": "Python 3",
   "language": "python",
   "name": "python3"
  },
  "language_info": {
   "codemirror_mode": {
    "name": "ipython",
    "version": 3
   },
   "file_extension": ".py",
   "mimetype": "text/x-python",
   "name": "python",
   "nbconvert_exporter": "python",
   "pygments_lexer": "ipython3",
   "version": "3.7.1"
  }
 },
 "nbformat": 4,
 "nbformat_minor": 2
}
