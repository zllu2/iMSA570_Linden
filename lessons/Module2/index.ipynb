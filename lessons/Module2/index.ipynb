{
 "cells": [
  {
   "cell_type": "markdown",
   "metadata": {},
   "source": [
    "# Module 2: Introduction to Python\n",
    "\n",
    "This module focuses on the basic features in the Python programming language that underlie most data analytics programs (or scripts). First, you will read about why accounting students should learn to write computer programs. In the first lesson, you will also learn the basic concepts of the Python programming language, including how to create variables, basic data types and mathematical operators, and how to document your programs with comments. Next, you will learn about Boolean and logical operators in Python and how they can be used to control the flow of a Python program by using conditional statements. Finally, you will learn about functions and how they can simplify developing and maintaining programs. You will also learn how to create and call functions in Python. \n",
    "\n",
    "## Learning Objectives\n",
    "\n",
    "#### By the end of this module, you should be able to:\n",
    "\n",
    "- articulate how accounting students can benefit from learning to write computer programs,\n",
    "- write simple Python programs,\n",
    "- effectively create and use variables of different data types in a Python program,\n",
    "- apply Boolean and logical operators within conditional statements in a Python program\n",
    "- define and call python functions\n",
    "\n",
    "### Activities and Assignments\n",
    "\n",
    "| Activities and Assignments               | Time Estimate | Deadline* | Points |\n",
    "| :--------------------------------------- | ------------- | --------- | -----: |\n",
    "| **[Module 2 Overview Video][wv]**      | 10 Minutes    | Tuesday |    N/A |\n",
    "| **[Module 2 Lesson 1: Introduction to Python][nb1]** | 2 Hours   | Thursday  |     N/A |\n",
    "| **[Module 2 Lesson 2: Introduction to Python Functions][nb2]** | 2 Hours | Thursday  |     N/A |\n",
    "| **[Module 2 Lesson 3: Python Conditional Statements][nb3]** | 2 Hours | Thursday  |     N/A |\n",
    "| **[Module 2 Quiz][wq]**               | 30 Minutes    | Friday    |    25  |\n",
    "| **[Module 2 Assignment Low][mal]**                    | 1 hour   | Sunday    |  25 |\n",
    "| **[Module 2 Assignment High][mah]**                    | 1 hour   | Sunday    |  75 |\n",
    "\n",
    "\n",
    "*Please note that unless otherwise noted, the due time is 6pm Central time!\n",
    "\n",
    "----------\n",
    "\n",
    "[nb1]: notebooks/m2l1.ipynb\n",
    "[nb2]: notebooks/m2l2.ipynb\n",
    "[nb3]: notebooks/m2l3.ipynb\n",
    "\n",
    "[mal]: https://datascience.business.illinois.edu/user/bigdog/notebooks/accy570/assignments/module2/assignment_low.ipynb\n",
    "\n",
    "[mah]: https://datascience.business.illinois.edu/user/bigdog/notebooks/accy570/assignments/module2/assignment_high.ipynb\n",
    "\n",
    "[wv]: https://mediaspace.illinois.edu/media/t/0_vp8qbft5/99381161\n",
    "[wq]: https://learn.illinois.edu/mod/quiz/view.php?id=2839527"
   ]
  }
 ],
 "metadata": {
  "kernelspec": {
   "display_name": "Python 3",
   "language": "python",
   "name": "python3"
  },
  "language_info": {
   "codemirror_mode": {
    "name": "ipython",
    "version": 3
   },
   "file_extension": ".py",
   "mimetype": "text/x-python",
   "name": "python",
   "nbconvert_exporter": "python",
   "pygments_lexer": "ipython3",
   "version": "3.7.1"
  }
 },
 "nbformat": 4,
 "nbformat_minor": 2
}
