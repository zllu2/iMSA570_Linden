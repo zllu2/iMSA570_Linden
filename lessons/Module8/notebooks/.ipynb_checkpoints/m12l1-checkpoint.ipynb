{
 "cells": [
  {
   "cell_type": "markdown",
   "metadata": {},
   "source": [
    "# Module 12: Lesson 1\n",
    "\n",
    "-----\n",
    "\n",
    "## SQL: Advanced Concepts Manipulation\n",
    "\n",
    "In this lesson, you will learn about several advanced SQL concepts and how to implement them in a SQLite database. First, primary keys and indexes are described, which are important for maintaining referential integrity and improving query performance. Second, table joins are introduced and the different types of joins supported by SQLite are demonstrated. Next, views, which map a name to a stored query, are introduced. Finally, we review how to modify the schema of an existing table.\n",
    "\n",
    "### Objectives\n",
    "\n",
    "By the end of this lesson, you will understand \n",
    "\n",
    "- the importance of primary keys,\n",
    "- how to create a table index and how they are used in queries,\n",
    "- the different types of relational table joins,\n",
    "- the difference between relational database tables and views, and\n",
    "- how to modify the schema of an existing table.\n",
    "\n",
    "### Time Estimate\n",
    "\n",
    "Approximately 2 hours.\n",
    "\n",
    "### Activities\n",
    "\n",
    "Video: Watch the [SQL: Advanced Concepts][lv] video, which will introduce SQL, schemas, and techniques for creating and manipulating schemas.\n",
    "\n",
    "Reading: Read about [table joins][tj]\n",
    "\n",
    "Reading: Read about [performing inner joins][pij] in SQLite\n",
    "\n",
    "Reading: Read about [views][v] and [embedded queries][eq] in SQLite\n",
    "\n",
    "Notebook: Read and complete the practice exercises in the [SQL: Advanced Concepts][sqlac] notebook.\n",
    "\n",
    "------\n",
    "\n",
    "[tj]: https://www.essentialsql.com/get-ready-to-learn-sql-12-introduction-to-database-joins/\n",
    "\n",
    "[pij]: http://www.sqlitetutorial.net/sqlite-inner-join/\n",
    "\n",
    "[v]: https://www.tutorialspoint.com/sqlite/sqlite_views.htm\n",
    "[eq]: https://www.tutorialspoint.com/sqlite/sqlite_sub_queries.htm\n",
    "\n",
    "[lv]: https://mediaspace.illinois.edu/media/\n",
    "\n",
    "[sqlac]: sqlac.ipynb"
   ]
  }
 ],
 "metadata": {
  "kernelspec": {
   "display_name": "Python 3",
   "language": "python",
   "name": "python3"
  },
  "language_info": {
   "codemirror_mode": {
    "name": "ipython",
    "version": 3
   },
   "file_extension": ".py",
   "mimetype": "text/x-python",
   "name": "python",
   "nbconvert_exporter": "python",
   "pygments_lexer": "ipython3",
   "version": "3.7.1"
  }
 },
 "nbformat": 4,
 "nbformat_minor": 2
}
