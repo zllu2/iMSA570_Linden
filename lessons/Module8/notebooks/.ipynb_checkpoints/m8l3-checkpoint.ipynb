{
 "cells": [
  {
   "cell_type": "markdown",
   "metadata": {},
   "source": [
    "# Module 8: Lesson 3\n",
    "\n",
    "-----\n",
    "\n",
    "## Python Database Programming\n",
    "\n",
    "In this lesson, you will learn how to work with a SQL based database by using a Python program. This will include using the SQLite database module from within a Python program to connect to a database, execute queries, and process the results.  \n",
    "\n",
    "### Objectives\n",
    "\n",
    "By the end of this lesson, you will understand \n",
    "\n",
    "- the basic concepts involved in enabling a Python program to interact with a database,\n",
    "- how to query data by using a Python program, and\n",
    "- how to update data by using a Python program.\n",
    "- how to interact with a database with pandas DataFrame\n",
    "\n",
    "### Time Estimate\n",
    "\n",
    "Approximately 2 hours.\n",
    "\n",
    "### Activities\n",
    "\n",
    "**Video**: Watch the [Python Database Programming][lv] video, which will discuss how the Pandas DataFrame can be used to simplify using a database from a Python program.\n",
    "\n",
    "**Notebook**: Read and complete the practice exercises in the [Python Database Programming][intro2pythondb] notebook.\n",
    "\n",
    "Reading: Read about how a database is [better than a spreadsheet][xyz].\n",
    "\n",
    "Reading: Read how to use [Python][ps] to interact with SQLite\n",
    "\n",
    "\n",
    "------\n",
    "\n",
    "[xyz]: https://www.techwalla.com/articles/the-advantages-of-databases-over-spreadsheets\n",
    "\n",
    "[ps]: https://stackabuse.com/a-sqlite-tutorial-with-python/\n",
    "\n",
    "[lv]: https://mediaspace.illinois.edu/media/\n",
    "\n",
    "[intro2pythondb]: intro2pythondb.ipynb"
   ]
  }
 ],
 "metadata": {
  "kernelspec": {
   "display_name": "Python 3",
   "language": "python",
   "name": "python3"
  },
  "language_info": {
   "codemirror_mode": {
    "name": "ipython",
    "version": 3
   },
   "file_extension": ".py",
   "mimetype": "text/x-python",
   "name": "python",
   "nbconvert_exporter": "python",
   "pygments_lexer": "ipython3",
   "version": "3.7.1"
  }
 },
 "nbformat": 4,
 "nbformat_minor": 2
}
