{
 "cells": [
  {
   "cell_type": "markdown",
   "metadata": {},
   "source": [
    "# Module 8: Lesson 1\n",
    "\n",
    "-----\n",
    "\n",
    "##  Introduction to Data Persistence\n",
    "\n",
    "In this lesson, you will start learning about data persistence techniques. First, you will learn about relational databases, including the basic relational database concepts such as database roles and the ACID test. Finally you will learn about the SQLite database that we will use to demonstrate relational database concept in this course.\n",
    "\n",
    "### Objectives\n",
    "\n",
    "By the end of this lesson, you will understand \n",
    "\n",
    "- relational database technology,\n",
    "- database roles,\n",
    "- the ACID test,\n",
    "- the basic concepts behind the Sqlite database, and\n",
    "- how to connect to a SQLite database.\n",
    "\n",
    "### Time Estimate\n",
    "\n",
    "Approximately 2 hours.\n",
    "\n",
    "### Activities\n",
    "\n",
    "**Video**: Watch the [Introduction to Data Persistence][lv] video, which will discuss data persistence and introduce relational databases.\n",
    "\n",
    "**Notebook**: Read the [Introduction to Data Persistence][intro2db] notebook.\n",
    "\n",
    "Reading: Read a short guide to [what is a database?][xyz]\n",
    "\n",
    "Reading: Read the [What is SQLite][qwe] article\n",
    "\n",
    "Reading: Read the [The ACID Database Model][acid] article\n",
    "\n",
    "\n",
    "------\n",
    "\n",
    "[xyz]: https://smallbiztrends.com/2013/06/what-is-a-database.html\n",
    "\n",
    "[qwe]:http://www.sqlitetutorial.net/what-is-sqlite/\n",
    "\n",
    "[acid]: https://www.lifewire.com/the-acid-model-1019731\n",
    "\n",
    "[lv]: https://mediaspace.illinois.edu/media/\n",
    "\n",
    "[intro2db]: intro2db.ipynb\n",
    "\n"
   ]
  }
 ],
 "metadata": {
  "kernelspec": {
   "display_name": "Python 3",
   "language": "python",
   "name": "python3"
  },
  "language_info": {
   "codemirror_mode": {
    "name": "ipython",
    "version": 3
   },
   "file_extension": ".py",
   "mimetype": "text/x-python",
   "name": "python",
   "nbconvert_exporter": "python",
   "pygments_lexer": "ipython3",
   "version": "3.7.1"
  }
 },
 "nbformat": 4,
 "nbformat_minor": 2
}
