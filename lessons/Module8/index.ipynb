{
 "cells": [
  {
   "cell_type": "markdown",
   "metadata": {},
   "source": [
    "# Module 8: Introduction to Python and Databases\n",
    "\n",
    "In this module, we will briefly introduce relational database management systems (RDBMS), still the most popular data storage technology. We will learn basic SQL, the language by which database users interact with a relational database. To test database and SQL concepts, we will use the open source database system known as SQLite. We will also look at connecting a Pandas DataFrame to a database.\n",
    "\n",
    "## Learning Objectives\n",
    "\n",
    "#### By the end of this module, you will\n",
    "\n",
    "- understand the basic concepts behind a relational database system,\n",
    "- understand how to use SQL to interact with a SQLite database, and\n",
    "- be able to connect to a database with python\n",
    "\n",
    "### Activities and Assignments\n",
    "\n",
    "| Activities and Assignments               | Time Estimate | Deadline* | Points |\n",
    "| :--------------------------------------- | ------------- | --------- | -----: |\n",
    "| **[Module 8 Overview Video][wv]**      | 10 Minutes    | Tuesday |    N/A |\n",
    "| **[Module 8 Lesson 1: Introduction to Data Persistence][nb1]** | 2 Hours | Thursday  |     N/A \n",
    "| **[Module 8 Lesson 2: SQL: Advanced Concepts][nb2]** | 2 Hours | Thursday  |     N/A |\n",
    "| **[Module 8 Lesson 3: Python Database Programming][nb3]** | 2 Hours   | Thursday  |   N/A |\n",
    "| **[Module 8 Quiz][wq]**               | 30 Minutes    | Friday    |    25  |\n",
    "| **[Module 8 Assignment Low][mal]**                    | 1 hour   | Sunday    |  25 |\n",
    "| **[Module 8 Assignment High][mah]**                    | 1 hour   | Sunday    |  75 |\n",
    "\n",
    "\n",
    "*Please note that unless otherwise noted, the due time is 6pm Central time!\n",
    "\n",
    "----------\n",
    "\n",
    "[nb1]: notebooks/m8l1.ipynb\n",
    "[nb2]: notebooks/m8l2.ipynb\n",
    "[nb3]: notebooks/m8l3.ipynb\n",
    "\n",
    "[mal]: https://datascience.business.illinois.edu/user/bigdog/notebooks/accy570/assignments/module12/assignment_low.ipynb\n",
    "[mah]: https://datascience.business.illinois.edu/user/bigdog/notebooks/accy570/assignments/module12/assignment_high.ipynb\n",
    "\n",
    "[wv]: https://mediaspace.illinois.edu/media/\n",
    "[wq]: https://learn.illinois.edu/mod/quiz/"
   ]
  }
 ],
 "metadata": {
  "kernelspec": {
   "display_name": "Python 3",
   "language": "python",
   "name": "python3"
  },
  "language_info": {
   "codemirror_mode": {
    "name": "ipython",
    "version": 3
   },
   "file_extension": ".py",
   "mimetype": "text/x-python",
   "name": "python",
   "nbconvert_exporter": "python",
   "pygments_lexer": "ipython3",
   "version": "3.7.1"
  }
 },
 "nbformat": 4,
 "nbformat_minor": 2
}
