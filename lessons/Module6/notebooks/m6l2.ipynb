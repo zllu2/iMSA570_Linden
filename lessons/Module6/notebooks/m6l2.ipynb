{
 "cells": [
  {
   "cell_type": "markdown",
   "metadata": {},
   "source": [
    "# Module 6: Lesson 2\n",
    "\n",
    "-----\n",
    "\n",
    "## Introduction to One-dimensional Data Visualizations\t\n",
    "\n",
    "This lesson explores a one-dimensional data set visually by using Python. This lesson will introduce the rug plot, the box plot, and the histogram.\n",
    "\n",
    "\n",
    "### Objectives\n",
    "\n",
    "By the end of this lesson, you will be able to:\n",
    "\n",
    "- create a rug plot in Python,\n",
    "- create a box plot in Python,\n",
    "- create a one-dimensional histogram in Python, and\n",
    "- create a bar plot in python \n",
    "\n",
    "### Time Estimate\n",
    "\n",
    "Approximately 2 hours.\n",
    "\n",
    "### Activities \n",
    "\n",
    "**Video**: Watch the [Introduction to Data Visualization][idv] video, which will demonstrate how to visually explore a one-dimensional data set.\n",
    "\n",
    "**Notebook**: Read and complete the student exercises in the [Introduction to One-dimensional Data Visualization][intro2dv] notebook.\n",
    "\n",
    "Reading: Read about techniques to [improve a simple visualization][isvr] by removing _chart junk_.\n",
    "\n",
    "\n",
    "------\n",
    "\n",
    "[isvr]: http://www.darkhorseanalytics.com/blog/data-looks-better-naked\n",
    "\n",
    "[idv]: https://mediaspace.illinois.edu/media/t/0_s7pvl4j8/99381161\n",
    "\n",
    "[intro2dv]: intro2dataviz.ipynb"
   ]
  }
 ],
 "metadata": {
  "kernelspec": {
   "display_name": "Python 3",
   "language": "python",
   "name": "python3"
  },
  "language_info": {
   "codemirror_mode": {
    "name": "ipython",
    "version": 3
   },
   "file_extension": ".py",
   "mimetype": "text/x-python",
   "name": "python",
   "nbconvert_exporter": "python",
   "pygments_lexer": "ipython3",
   "version": "3.7.1"
  }
 },
 "nbformat": 4,
 "nbformat_minor": 2
}
