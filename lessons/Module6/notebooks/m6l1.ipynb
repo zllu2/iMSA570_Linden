{
 "cells": [
  {
   "cell_type": "markdown",
   "metadata": {},
   "source": [
    "# Module 6: Lesson 1\n",
    "\n",
    "-----\n",
    "\n",
    "## Introduction to Plotting in Python\n",
    "\n",
    "This lesson introduces how to construct a visualization in Python, by using the matplotlib module. Also, the seaborn module is introduced as a way to easily improve the appearance of a Python plot.\n",
    "\n",
    "### Objectives\n",
    "\n",
    "By the end of this lesson, you will be be able to:\n",
    "\n",
    "- create a simple plot in Python,\n",
    "- annotate a simple plot in Python by using the matplotlib module, and\n",
    "- use the seaborn module to make plots more visually effective.\n",
    "\n",
    "\n",
    "### Time Estimate\n",
    "\n",
    "Approximately 2 hours.\n",
    "\n",
    "### Activities\n",
    "\n",
    "**Video**: Watch the [Introduction to Plotting in Python][ipv] video, which will demonstrate the basic concepts in making a visualization in Python.\n",
    "\n",
    "**Notebook**: Read and complete the student exercises in the [Introduction to Plotting in Python][intro2plotting] notebook.\n",
    "\n",
    "------\n",
    "\n",
    "[ipv]: https://mediaspace.illinois.edu/media/t/0_m2gqdlis/99381161\n",
    "\n",
    "[intro2plotting]: intro2plotting.ipynb"
   ]
  }
 ],
 "metadata": {
  "kernelspec": {
   "display_name": "Python 3",
   "language": "python",
   "name": "python3"
  },
  "language_info": {
   "codemirror_mode": {
    "name": "ipython",
    "version": 3
   },
   "file_extension": ".py",
   "mimetype": "text/x-python",
   "name": "python",
   "nbconvert_exporter": "python",
   "pygments_lexer": "ipython3",
   "version": "3.7.3"
  }
 },
 "nbformat": 4,
 "nbformat_minor": 2
}
