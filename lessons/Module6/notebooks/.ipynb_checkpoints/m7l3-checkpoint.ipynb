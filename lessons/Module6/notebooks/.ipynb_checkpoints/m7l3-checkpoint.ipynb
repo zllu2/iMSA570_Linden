{
 "cells": [
  {
   "cell_type": "markdown",
   "metadata": {},
   "source": [
    "# Module 7: Lesson 3\n",
    "\n",
    "-----\n",
    "\n",
    "## Introduction to Two-dimensional Data Visualizations\n",
    "\n",
    "This lesson introduces scatter plots as a technique for visually exploring two-dimensional data. This enables one to identify whether the two dimensions share a positive, negative, or null correlation as well as aids in the identification of outliers.\n",
    "\n",
    "### Objectives\n",
    "\n",
    "By the end of this lesson, you will\n",
    "\n",
    "- understand how to use matplotlib to make a scatter plot,\n",
    "- understand the difference between positive, negative, and null correlations,\n",
    "- understand how to graphically identify outliers, and\n",
    "- understand how to overplot and label multiple columns on a single scatter plot.\n",
    "\n",
    "### Time Estimate\n",
    "\n",
    "Approximately 2 hours.\n",
    "\n",
    "### Activities\n",
    "\n",
    "\n",
    "**Video**: Watch the [Introduction to Two-dimensional Data Visualization][spv] video, which will demonstrate how to construct and interpret two-dimensional scatter plots.\n",
    "\n",
    "**Notebook**: Read and complete the student exercises in the [Introduction to Two-dimensional Data Visualization][intro2sp] notebook.\n",
    "\n",
    "------\n",
    "\n",
    "[spv]: https://mediaspace.illinois.edu/media/t/0_20g4gpdc/99381161\n",
    "\n",
    "[intro2sp]: scatter-plots.ipynb"
   ]
  }
 ],
 "metadata": {
  "kernelspec": {
   "display_name": "Python 3",
   "language": "python",
   "name": "python3"
  },
  "language_info": {
   "codemirror_mode": {
    "name": "ipython",
    "version": 3
   },
   "file_extension": ".py",
   "mimetype": "text/x-python",
   "name": "python",
   "nbconvert_exporter": "python",
   "pygments_lexer": "ipython3",
   "version": "3.7.1"
  }
 },
 "nbformat": 4,
 "nbformat_minor": 2
}
