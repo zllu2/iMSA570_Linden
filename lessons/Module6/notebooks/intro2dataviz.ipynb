{
 "cells": [
  {
   "cell_type": "markdown",
   "metadata": {},
   "source": [
    "# Introduction to One-Dimensional Data Visualizations\n",
    "\n",
    "-----"
   ]
  },
  {
   "cell_type": "markdown",
   "metadata": {},
   "source": [
    "In a previous lesson, we explored descriptive statistics as a technique for understanding the distribution of (primarily one-dimensional) data. While useful, these analytic quantities have limited utility since they provide summary descriptions, and, especially for those people new to the field, they do not always convey information in a simple manner. In this notebook, we instead use visual techniques to explore one-dimensional data to understand how data are distributed. This method can be a very effective technique for comparing and contrasting data.\n",
    "\n",
    "## Table of Contents\n",
    "[Rugplot](#Rugplot)  \n",
    "\n",
    "[Boxplot](#Boxplot)  \n",
    "\n",
    "[Histogram](#Histogram)  \n",
    "\n",
    "[Bar Chart](#Bar-Chart)\n",
    "\n",
    "In this notebook, we will use the _tips_ dataset from the seaborn module to explore how these different visualization techniques can be used to understand a data distribution.\n",
    "\n",
    "-----"
   ]
  },
  {
   "cell_type": "markdown",
   "metadata": {},
   "source": [
    "Before making any plots in a notebook, we need to specify that the plots should be displayed inline, which is done in the following code cell. We also employ the seaborn module, described previously, to make all plots in this notebook more visually appealing. Next, we include several lines that will suppress any warnings that can sometimes occur when making visualizations (for example, due to changes in the installed software stack). Finally, we load the _tips_ dataset, which will be used for the visualizations in this notebook.\n",
    "\n",
    "----"
   ]
  },
  {
   "cell_type": "code",
   "execution_count": 1,
   "metadata": {},
   "outputs": [],
   "source": [
    "# Set up Notebook\n",
    "\n",
    "%matplotlib inline\n",
    "\n",
    "# Standard imports\n",
    "import numpy as np\n",
    "import pandas as pd\n",
    "import matplotlib.pyplot as plt\n",
    "import seaborn as sns\n",
    "\n",
    "# We do this to ignore several specific Pandas warnings\n",
    "import warnings\n",
    "warnings.filterwarnings(\"ignore\")\n",
    "\n",
    "sns.set(style=\"white\")\n",
    "\n",
    "# Load the Tips Data\n",
    "tips = sns.load_dataset(\"tips\")"
   ]
  },
  {
   "cell_type": "code",
   "execution_count": 2,
   "metadata": {},
   "outputs": [
    {
     "data": {
      "text/html": [
       "<div>\n",
       "<style scoped>\n",
       "    .dataframe tbody tr th:only-of-type {\n",
       "        vertical-align: middle;\n",
       "    }\n",
       "\n",
       "    .dataframe tbody tr th {\n",
       "        vertical-align: top;\n",
       "    }\n",
       "\n",
       "    .dataframe thead th {\n",
       "        text-align: right;\n",
       "    }\n",
       "</style>\n",
       "<table border=\"1\" class=\"dataframe\">\n",
       "  <thead>\n",
       "    <tr style=\"text-align: right;\">\n",
       "      <th></th>\n",
       "      <th>total_bill</th>\n",
       "      <th>tip</th>\n",
       "      <th>sex</th>\n",
       "      <th>smoker</th>\n",
       "      <th>day</th>\n",
       "      <th>time</th>\n",
       "      <th>size</th>\n",
       "    </tr>\n",
       "  </thead>\n",
       "  <tbody>\n",
       "    <tr>\n",
       "      <td>25</td>\n",
       "      <td>17.81</td>\n",
       "      <td>2.34</td>\n",
       "      <td>Male</td>\n",
       "      <td>No</td>\n",
       "      <td>Sat</td>\n",
       "      <td>Dinner</td>\n",
       "      <td>4</td>\n",
       "    </tr>\n",
       "    <tr>\n",
       "      <td>114</td>\n",
       "      <td>25.71</td>\n",
       "      <td>4.00</td>\n",
       "      <td>Female</td>\n",
       "      <td>No</td>\n",
       "      <td>Sun</td>\n",
       "      <td>Dinner</td>\n",
       "      <td>3</td>\n",
       "    </tr>\n",
       "    <tr>\n",
       "      <td>26</td>\n",
       "      <td>13.37</td>\n",
       "      <td>2.00</td>\n",
       "      <td>Male</td>\n",
       "      <td>No</td>\n",
       "      <td>Sat</td>\n",
       "      <td>Dinner</td>\n",
       "      <td>2</td>\n",
       "    </tr>\n",
       "    <tr>\n",
       "      <td>224</td>\n",
       "      <td>13.42</td>\n",
       "      <td>1.58</td>\n",
       "      <td>Male</td>\n",
       "      <td>Yes</td>\n",
       "      <td>Fri</td>\n",
       "      <td>Lunch</td>\n",
       "      <td>2</td>\n",
       "    </tr>\n",
       "    <tr>\n",
       "      <td>211</td>\n",
       "      <td>25.89</td>\n",
       "      <td>5.16</td>\n",
       "      <td>Male</td>\n",
       "      <td>Yes</td>\n",
       "      <td>Sat</td>\n",
       "      <td>Dinner</td>\n",
       "      <td>4</td>\n",
       "    </tr>\n",
       "  </tbody>\n",
       "</table>\n",
       "</div>"
      ],
      "text/plain": [
       "     total_bill   tip     sex smoker  day    time  size\n",
       "25        17.81  2.34    Male     No  Sat  Dinner     4\n",
       "114       25.71  4.00  Female     No  Sun  Dinner     3\n",
       "26        13.37  2.00    Male     No  Sat  Dinner     2\n",
       "224       13.42  1.58    Male    Yes  Fri   Lunch     2\n",
       "211       25.89  5.16    Male    Yes  Sat  Dinner     4"
      ]
     },
     "execution_count": 2,
     "metadata": {},
     "output_type": "execute_result"
    }
   ],
   "source": [
    "tips.sample(5)"
   ]
  },
  {
   "cell_type": "markdown",
   "metadata": {},
   "source": [
    "---\n",
    "[[Back to TOC]](#Table-of-Contents)\n",
    "\n",
    "\n",
    "## Rugplot\n",
    "\n",
    "A rugplot is a simple plot that displays a one-dimensional distribution of data. In Python, we can make rugplots by using the [`rugplot` function][sr] provided by the seaborn module, which takes a column from a Pandas DataFrame, such as `tips['total_bill']`, and draws short vertical lines along the x-axis for every data point in the column. Optional arguments to this function include a `height` parameter, which specifies how long (in inches) the vertical line should extend, `lw` for the thickness of the vertical line (too small and it becomes hard to see the lines, and too large will cause adjacent lines to blend together), and the `color` parameter, which specifies a color for the vertical lines. For example, `color = sns.xkcd_rgb[\"pale red\"]` will set the histogram color to be the seaborn pale red, which is inspired by the **[XKCD][x]** comic strip. For more color examples, see the [HTML color name][4] page or the [seaborn][sp] palette webpage. \n",
    "\n",
    "-----\n",
    "\n",
    "[x]: https://xkcd.com\n",
    "[sp]: http://seaborn.pydata.org/tutorial/color_palettes.html\n",
    "[sr]: http://seaborn.pydata.org/generated/seaborn.rugplot.html?highlight=rugplot\n",
    "[4]: https://www.w3schools.com/colors/colors_names.asp"
   ]
  },
  {
   "cell_type": "code",
   "execution_count": 3,
   "metadata": {},
   "outputs": [
    {
     "data": {
      "image/png": "[encoded data removed]",
      "text/plain": [
       "<Figure size 720x108 with 1 Axes>"
      ]
     },
     "metadata": {
      "needs_background": "light"
     },
     "output_type": "display_data"
    }
   ],
   "source": [
    "# Define plot layout\n",
    "fig, ax = plt.subplots(figsize=(10, 1.5))\n",
    "\n",
    "# Make the rugplot\n",
    "sns.rugplot(ax = ax, a=tips['total_bill'], height=0.25, lw=0.5, color = sns.xkcd_rgb[\"pale red\"]) ;"
   ]
  },
  {
   "cell_type": "markdown",
   "metadata": {},
   "source": [
    "-----\n",
    "\n",
    "While illustrative, this simple rug plot does not convey the necessary information in a clear and visually compelling manner. Before proceeding, we can make several changes to the plot to improve the presentation and emphasize the distribution of points more clearly. First, we remove the box and eliminate a y-axis, which is unnecessary for this one-dimensional plot. This is done by using both seaborn to trim the unused axes and by indicating there are no _tick_ marks for the y-axis, which is done by passing in an empty array to the `set_yticks` method. Finally, we annotate the plot appropriately. Please note that we use `ax.text()` to anotate the plot. This function print out a text at specified location in the plot. You may also try use `ax.set_title()` to set a title that always prints the title on top of the plot. We also employ the seaborn `despine` function to remove the top and right spines from the plot.\n",
    "\n",
    "-----"
   ]
  },
  {
   "cell_type": "code",
   "execution_count": 4,
   "metadata": {},
   "outputs": [
    {
     "data": {
      "image/png": "[encoded data removed]",
      "text/plain": [
       "<Figure size 720x108 with 1 Axes>"
      ]
     },
     "metadata": {
      "needs_background": "light"
     },
     "output_type": "display_data"
    }
   ],
   "source": [
    "# Define plot layout\n",
    "fig, ax = plt.subplots(figsize=(10, 1.5))\n",
    "\n",
    "# Make the rugplot\n",
    "sns.rugplot(ax = ax, a=tips['total_bill'], height=0.25, lw=0.5, c = sns.xkcd_rgb[\"pale red\"])\n",
    "\n",
    "# Remove y axis (by using empty array)\n",
    "ax.set_yticks([])\n",
    "\n",
    "# Set x-axis length and label\n",
    "ax.set_xlim(-2, 62)\n",
    "ax.set_xlabel('Total Bill (\\$)', fontsize=14)\n",
    "\n",
    "# Annotate the plot\n",
    "ax.text(30, 0.45, 'Rug Plot (Tips Data)', ha='center', fontsize=14)\n",
    "\n",
    "# Clean up plot appearance\n",
    "sns.despine(ax=ax, left=True, offset=2, trim=True)"
   ]
  },
  {
   "cell_type": "markdown",
   "metadata": {},
   "source": [
    "-----\n",
    "\n",
    "We can also compare and contrast two data sets directly by plotting their rug plots together. This method is demonstrated below, where we compare the `total_bill` column in the _tips_ data set, distinguished by _lunch_ and _dinner_. In this case, we loop over the two data sets and repeat the plot functionality as needed. To display two rugplots on the same matplotlib figure, we have to change our plotting code slightly. First, we pass into the `subplots` function several extra parameters:\n",
    "\n",
    "- `nrows`: the number of rows that will contain sub-plots,\n",
    "- `ncols`: the number of columns that will contain sub-plots,\n",
    "- `sharex`: whether the plots share the x-axis, and\n",
    "- `sharey`: whether the plots share the y-axis.\n",
    "\n",
    "Thus, if we wish to have two plots, one on top of the other sharing the same x-axis, we have the following functions call:\n",
    "\n",
    "```python\n",
    "fig, axs = plt.subplots(nrows=2, ncols=1, sharex=True)\n",
    "```\n",
    "\n",
    "The `axs` variable holds a Python `list` that contains the plot axes for each sub-plot. To change which set of axes are used for a given plot, we simply select the appropriate element from the list, which is shown in the code example below. Overall, this technique works for simple plot layouts.  We will cover more complex plot layouts in a subsequent module.\n",
    "\n",
    "-----"
   ]
  },
  {
   "cell_type": "code",
   "execution_count": 5,
   "metadata": {},
   "outputs": [],
   "source": [
    "#create 2 dataset for plotting, one for lunch, one for dinner\n",
    "data_lunch = tips[tips.time == 'Lunch']\n",
    "data_dinner = tips[tips.time == 'Dinner']"
   ]
  },
  {
   "cell_type": "code",
   "execution_count": 6,
   "metadata": {},
   "outputs": [
    {
     "data": {
      "image/png": "[encoded data removed]",
      "text/plain": [
       "<Figure size 720x288 with 2 Axes>"
      ]
     },
     "metadata": {
      "needs_background": "light"
     },
     "output_type": "display_data"
    }
   ],
   "source": [
    "# Define the plot layout\n",
    "fig, axs = plt.subplots(figsize=(10, 4.0), nrows=2, ncols=1, sharex=True)\n",
    "\n",
    "# Rugplot for total_bill, with set rug height, thickness, and color\n",
    "# Rugplot for lunch total bill\n",
    "sns.rugplot(ax = axs[0], a=data_lunch['total_bill'], height=0.25, lw=0.5, c = sns.xkcd_rgb[\"pale red\"])\n",
    "# No y-axis\n",
    "axs[0].set_yticks([])\n",
    "# Define x-axis limits and label\n",
    "axs[0].set_xlim(-2, 62)\n",
    "# Annotate the plot\n",
    "axs[0].text(30, 0.45, 'Lunch Time', ha='center', fontsize=14)\n",
    "# Clean up each plot\n",
    "sns.despine(ax=axs[0], left=True, offset=2, trim=True)\n",
    "\n",
    "# Rugplot for dinner total_bill\n",
    "sns.rugplot(ax = axs[1], a=data_dinner['total_bill'], height=0.25, lw=0.5, c = sns.xkcd_rgb[\"denim blue\"])\n",
    "# No y-axis\n",
    "axs[1].set_yticks([])\n",
    "# Define x-axis limits and label\n",
    "axs[1].set_xlim(-2, 62)\n",
    "axs[1].set_xlabel('Total Bill (\\$)', fontsize=14)\n",
    "# Annotate the plot\n",
    "axs[1].text(30, 0.45, 'Dinner Time', ha='center', fontsize=14)\n",
    "# Clean up each plot\n",
    "sns.despine(ax=axs[1], left=True, offset=2, trim=True)\n",
    "\n",
    "\n"
   ]
  },
  {
   "cell_type": "markdown",
   "metadata": {},
   "source": [
    "-----\n",
    "\n",
    "<font color='red' size = '5'> Student Exercise </font>\n",
    "\n",
    "In the empty **code** cell below, write and execute code to make two new rugplots, where the `total_bill` column is displayed first for _female_ patrons and second for _male_ patrons. Be sure to annotate your plot appropriately.\n",
    "\n",
    "-----"
   ]
  },
  {
   "cell_type": "code",
   "execution_count": null,
   "metadata": {},
   "outputs": [],
   "source": []
  },
  {
   "cell_type": "markdown",
   "metadata": {},
   "source": [
    "---\n",
    "[[Back to TOC]](#Table-of-Contents)\n",
    "\n",
    "\n",
    "## Boxplot\n",
    "\n",
    "A [boxplot][wb] provides a non-parametric, graphical description of the distribution of a set of data. The basic component in the box plot is the box, which encloses the middle 50% of the data (one edge is drawn at the 25th percentile, and the opposite edge is drawn at the 75th percentile), with a line (and an optional indentation mark) drawn at the median of the distribution. The box often has _whiskers_ extending from either end, which are used to mark the extremes of the data distribution. Generally, outliers are removed before calculating the minimum and maximum used to display the whiskers, in which case they are displayed individually extending past the end of the whiskers.\n",
    "\n",
    "To make boxplots, we will use the seaborn [boxplot function][sb], which can extract a column from a Pandas `DataFrame` to display the data. This method is demonstrated in the following code cell, where the `total_bill` column is displayed. Following this, two comparative boxplots are drawn to show the difference in the distributions of the `total_bill` column for _lunch_ and _dinner_ receipts. This second plot demonstrates how a boxplot can aid in the comparison of two different data sets with a simple visual device.\n",
    "\n",
    "-----\n",
    "[wb]: https://en.wikipedia.org/wiki/Box_plot\n",
    "[sb]: http://seaborn.pydata.org/generated/seaborn.boxplot.html"
   ]
  },
  {
   "cell_type": "code",
   "execution_count": 7,
   "metadata": {},
   "outputs": [
    {
     "data": {
      "image/png": "[encoded data removed]",
      "text/plain": [
       "<Figure size 720x180 with 1 Axes>"
      ]
     },
     "metadata": {
      "needs_background": "light"
     },
     "output_type": "display_data"
    }
   ],
   "source": [
    "# Define plot layout\n",
    "fig, axs = plt.subplots(figsize=(10, 2.5))\n",
    "\n",
    "# sns.set_style(\"whitegrid\")\n",
    "ax = sns.boxplot(x=tips[\"total_bill\"], notch=True)\n",
    "\n",
    "# Set x-axis length and label\n",
    "ax.set_xlim(-2, 62)\n",
    "ax.set_xlabel('Total Bill (\\$)', fontsize=14)\n",
    "\n",
    "# Title the plot\n",
    "ax.set_title('Box Plot (Tips Data)', ha='center', fontsize=14)\n",
    "\n",
    "sns.despine(left=True, offset=2, trim=True)"
   ]
  },
  {
   "cell_type": "code",
   "execution_count": 8,
   "metadata": {},
   "outputs": [
    {
     "data": {
      "image/png": "[encoded data removed]",
      "text/plain": [
       "<Figure size 720x432 with 2 Axes>"
      ]
     },
     "metadata": {
      "needs_background": "light"
     },
     "output_type": "display_data"
    }
   ],
   "source": [
    "# Compare two distributions by using boxplots\n",
    "\n",
    "fig, axs = plt.subplots(figsize=(10, 6), nrows=2, ncols=1, sharex=True)\n",
    "adj = plt.subplots_adjust(hspace=0.5)\n",
    "\n",
    "# Boxplot, with notch indicated, oriented horizontal, and set color\n",
    "# Boxplot for lunch time total_bill\n",
    "sns.boxplot(ax = axs[0], x=data_lunch['total_bill'], notch=True, orient='h', color = sns.xkcd_rgb[\"pale red\"])\n",
    "# No y-axis\n",
    "axs[0].set_yticks([])\n",
    "# Define x-axis limits and label\n",
    "axs[0].set_xlim(-2, 62)\n",
    "# Remove x label for top plot\n",
    "axs[0].set_xlabel('')\n",
    "# Title plot\n",
    "axs[0].set_title('Lunch Time', ha='center', fontsize=14)\n",
    "# Clean up plot\n",
    "sns.despine(ax=axs[0], left=True, offset=2, trim=True)\n",
    "\n",
    "#Boxplot for dinner time total_bill\n",
    "sns.boxplot(ax = axs[1], x=data_dinner['total_bill'], notch=True, orient='h', color = sns.xkcd_rgb[\"denim blue\"])\n",
    "# No y-axis\n",
    "axs[1].set_yticks([])\n",
    "# Define x-axis limits and label\n",
    "axs[1].set_xlim(-2, 62)\n",
    "axs[1].set_xlabel('Total Bill (\\$)', fontsize=14)\n",
    "# Title plot\n",
    "axs[1].set_title('Dinner Time', ha='center', fontsize=14)\n",
    "# Clean up plot\n",
    "sns.despine(ax=axs[1], left=True, offset=2, trim=True)"
   ]
  },
  {
   "cell_type": "markdown",
   "metadata": {},
   "source": [
    "-----\n",
    "\n",
    "<font color='red' size = '5'> Student Exercise </font>\n",
    "\n",
    "In the empty **code** cell below, write and execute code to make two new boxplots, where the `total_bill` column is displayed first for _female_ patrons and second for _male_ patrons. Be sure to annotate your plot appropriately. How does this visual representation communicate information better than the corresponding rugplot?\n",
    "\n",
    "-----"
   ]
  },
  {
   "cell_type": "code",
   "execution_count": null,
   "metadata": {},
   "outputs": [],
   "source": []
  },
  {
   "cell_type": "markdown",
   "metadata": {},
   "source": [
    "-----\n",
    "\n",
    "### Multiple Boxplots\n",
    "\n",
    "The `boxplot` function in the seaborn library enables a more direct comparison. By using this function and specifying a categorical feature in a DataFrame, we can simplify the plotting code (but not necessarily the plot) by allowing seaborn to make one plot with the distributions of interest. We demonstrate this in the next code cell by displaying the `total_bill` feature for different days of the week. \n",
    "\n",
    "-----"
   ]
  },
  {
   "cell_type": "code",
   "execution_count": 9,
   "metadata": {},
   "outputs": [
    {
     "data": {
      "image/png": "[encoded data removed]",
      "text/plain": [
       "<Figure size 720x720 with 1 Axes>"
      ]
     },
     "metadata": {
      "needs_background": "light"
     },
     "output_type": "display_data"
    }
   ],
   "source": [
    "# Compare several distributions by using boxplots\n",
    "\n",
    "fig, ax = plt.subplots(figsize=(10, 10))\n",
    "\n",
    "# Boxplot\n",
    "sns.boxplot(ax = ax, x='day', y='total_bill', data=tips, notch=True)\n",
    "\n",
    "# Define x-axis limits and label\n",
    "ax.set_ylim(-2, 62)\n",
    "ax.set_xlabel('Day of the Week', fontsize=18)\n",
    "ax.set_ylabel('Total Bill (\\$)', fontsize=18)\n",
    "\n",
    "# Title plot\n",
    "ax.set_title('Total Bill Comparison', ha='center', fontsize=20)\n",
    "\n",
    "# Clean up plot\n",
    "sns.despine(ax=ax, offset=2, trim=True)"
   ]
  },
  {
   "cell_type": "markdown",
   "metadata": {
    "collapsed": true
   },
   "source": [
    "### Swarm Plot\n",
    "\n",
    "The seaborn library also provides support for visualizing a univariate distribution as a function of a second categorical variable. This visualization, called a swarm plot, displays the univariate distribution broken out by the categorical variable, but adds jitter (or random perturbations) to the distribution so that the full range of data is viewable. This is demonstrated in the following code cell, where we repeat the last box plot visualization by using the `swarmplot` method from seaborn.\n",
    "\n",
    "This technique can be useful to compare  relatively **small** univariate distributions(`swarmplot` does not scale\n",
    "well to large dataset, check out `sns.swarmplot?` for more details), especially across a second, categorical feature like gender or day of the week. However, as the number of rows (or items) increases, a box plot is generally easier to understand, since the majority of the data points are not directly displayed.\n",
    "\n",
    "------\n",
    "\n"
   ]
  },
  {
   "cell_type": "code",
   "execution_count": 10,
   "metadata": {},
   "outputs": [
    {
     "data": {
      "image/png": "[encoded data removed]",
      "text/plain": [
       "<Figure size 720x720 with 1 Axes>"
      ]
     },
     "metadata": {
      "needs_background": "light"
     },
     "output_type": "display_data"
    }
   ],
   "source": [
    "# Compare several distributions by using swarmplots\n",
    "\n",
    "fig, ax = plt.subplots(figsize=(10, 10))\n",
    "\n",
    "# Swarmplot\n",
    "sns.swarmplot(ax = ax, x='day', y='total_bill', data=tips)#, notch=True)\n",
    "\n",
    "# Define x-axis limits and label\n",
    "ax.set_ylim(-2, 62)\n",
    "ax.set_xlabel('Day of the Week', fontsize=18)\n",
    "ax.set_ylabel('Total Bill (\\$)', fontsize=18)\n",
    "\n",
    "# Title each plot\n",
    "ax.set_title('Total Bill Comparison', ha='center', fontsize=20)\n",
    "\n",
    "# Clean up plot\n",
    "sns.despine(ax=ax, offset=2, trim=True)"
   ]
  },
  {
   "cell_type": "markdown",
   "metadata": {},
   "source": [
    "---\n",
    "[[Back to TOC]](#Table-of-Contents)\n",
    "\n",
    "## Histogram\n",
    "\n",
    "A [histogram](http://en.wikipedia.org/wiki/Histogram) is a binned representation of a data set and is often recommended (by [visualization experts][fdh]) as a basic technique to explore how data are distributed. As a result, it provides a concise representation of data along one dimension, where the size of the representation is determined solely by the number of bins used and not the total number of data points. As a result, it can be used to provide a concise summary of a very large data set. \n",
    "\n",
    "There are two primary components in computing a histogram from a set of data points:\n",
    "\n",
    "1. How many bins should be used?\n",
    "2. Where should the bins be placed?\n",
    "\n",
    "The primary choice is simply how many bins should be used to model the density of points. Using more bins can capture more detail but is also susceptible to noise. The spacing of the bins can often be left to the visualizing software. \n",
    "\n",
    "### Binning\n",
    "\n",
    "Sometimes both the number of bins and the bin ranges will need to be determined before the histogram is constructed. A general rule of thumb is that if you have N data points, you should have root-three N bins. The following code cell summarizes the results from this formula:\n",
    "\n",
    "-----\n",
    "\n",
    "[wh]: https://en.wikipedia.org/wiki/Histogram\n",
    "[fdh]: http://flowingdata.com/2017/06/07/how-histograms-work/"
   ]
  },
  {
   "cell_type": "code",
   "execution_count": 11,
   "metadata": {},
   "outputs": [
    {
     "name": "stdout",
     "output_type": "stream",
     "text": [
      "  # Points\t# Bins\n",
      "------------------------------\n",
      "       10\t   3\n",
      "\n",
      "      100\t   5\n",
      "\n",
      "     1000\t  10\n",
      "\n",
      "    10000\t  22\n",
      "\n",
      "   100000\t  47\n",
      "\n",
      "  1000000\t 100\n",
      "\n",
      " 10000000\t 216\n",
      "\n"
     ]
    }
   ],
   "source": [
    "# We need to import the math library for the ceil method, which returns \n",
    "# the next largest integer to a floating point value.\n",
    "\n",
    "import math as ma\n",
    "\n",
    "# Print a header line\n",
    "print('{0}\\t{1}'.format('  # Points', '# Bins'))\n",
    "print(30*'-')\n",
    "\n",
    "# We want to loop from 10 to 100,000,000\n",
    "for i in range(1,8):\n",
    "    \n",
    "    # Now print out the integer value, and the number of bins\n",
    "    # We used a math trick here, 10**i**(1/3) = 10**(i/3)\n",
    "    print(\"{0:9d}\\t{1:4d}\\n\".format(10**i, ma.ceil(pow(10, i/3.))))"
   ]
  },
  {
   "cell_type": "markdown",
   "metadata": {},
   "source": [
    "-----\n",
    "\n",
    "### Making a Histogram\n",
    "\n",
    "Now we are in a position to demonstrate how to make and display a histogram by using matplotlib. We first will need data, and for this example we can reuse the _tips_ data set.  We also start by using the default number of bins, which is ten, and the default bin range, which is the minimum and maximum data values. Finally, to make the plot visually easier to interpret, we set the `alpha` parameter, which controls the transparency of the resulting graphic. I find that a value of `0.5` softens the histogram and enables the data to be seen more easily. But you should change this value (to something between `0` and `1`) to find a value that appeals to you.\n",
    "\n",
    "Below, we make several changes. First, we explicitly set the _fontsize_ for several functions, which makes the text easier to read. You can change this value to adjust your preferences. Second, we employ the seaborn _despine_ function to clean up the plot by offsetting the axes from the data and trimming the axes to the data range.\n",
    "\n",
    "-----"
   ]
  },
  {
   "cell_type": "code",
   "execution_count": 12,
   "metadata": {
    "scrolled": true
   },
   "outputs": [
    {
     "data": {
      "image/png": "[encoded data removed]",
      "text/plain": [
       "<Figure size 432x288 with 1 Axes>"
      ]
     },
     "metadata": {
      "needs_background": "light"
     },
     "output_type": "display_data"
    }
   ],
   "source": [
    "# Now we create our figure and axes for the plot we will make.\n",
    "fig, ax = plt.subplots()\n",
    "\n",
    "# Now we want to make a default histogram\n",
    "n, bins, patches = ax.hist(tips['total_bill'], alpha = .5)\n",
    "\n",
    "# Set our axis limits, labels, and plot title\n",
    "ax.set_title(\"Histogram\", fontsize=14)\n",
    "\n",
    "ax.set_xlim(-2,62)\n",
    "ax.set_xlabel(\"Total Bill (\\$)\", fontsize=14)\n",
    "\n",
    "ax.set_ylabel(\"Frequency\", fontsize=14)\n",
    "\n",
    "# Clean up final result\n",
    "sns.despine(offset=10, trim=True)"
   ]
  },
  {
   "cell_type": "markdown",
   "metadata": {},
   "source": [
    "-----\n",
    "\n",
    "In this simple example, we create a histogram, or binned representation, from the `'total_bill'` column in the _tips_ DataFrame. Matplotlib automatically creates the ten bins and computes the frequency with which values in the input data set occur in each bin and plots the results.\n",
    "\n",
    "### Histogram Options\n",
    "\n",
    "Now that our first histogram is completed, we can look at changing the default selections, such as the number of bins, the bin centers, and the color and style of the histogram bins. These values can all be changed by passing parameters into the histogram function. \n",
    "\n",
    "First, the number and locations of the bins used to construct the histogram can be specified by using the bin parameter. There are several different ways to control this parameter:\n",
    "\n",
    "- `bins = 22` will give twenty-two bins.\n",
    "- `bins = (0,20,90,100)` will produce three bins that span 0-20, 20-90, and 90-100, respectively.\n",
    "- `bins = np.linspace(0, 100, 100)` will produce one hundred bins linearly spaced between zero and one hundred.\n",
    "\n",
    "Second, there are four different types of histogram plots that you can make: `bar`, `barstacked`, `step`, and `stepfilled`, with `bar` being the default value. The next code cell demonstrates `step`; try changing it to one of the other values.\n",
    "\n",
    "Third, you can specify the line or fill color of the bins by defining the `color` parameter. "
   ]
  },
  {
   "cell_type": "markdown",
   "metadata": {},
   "source": [
    "-----\n",
    "\n",
    "### Histogram Range\n",
    "\n",
    "Sometimes the frequency counts can vary dramatically between bins. In that case, it is often convenient to change the presentation of the frequency counts to improve the discrimination of different bin counts. This change can easily be accomplished by changing the vertical axis to display the logarithm of the frequency count, which is done by setting the optional parameter `log` to `True`. In the following example, the Histogram is displayed by using logarithmic binning on the vertical axis; try changing the `log=True` to `log=False` to see the difference in the generated histogram.\n",
    "\n",
    "-----"
   ]
  },
  {
   "cell_type": "code",
   "execution_count": 13,
   "metadata": {},
   "outputs": [
    {
     "data": {
      "image/png": "[encoded data removed]",
      "text/plain": [
       "<Figure size 576x288 with 1 Axes>"
      ]
     },
     "metadata": {
      "needs_background": "light"
     },
     "output_type": "display_data"
    }
   ],
   "source": [
    "# Now we create our figure and axes for the plot we will make.\n",
    "fig, ax = plt.subplots(figsize=(8, 4))\n",
    "\n",
    "# Now we generate something to plot. In this case, we will need data \n",
    "# that are randomly sampled, but we want them to be non-uniform\n",
    "\n",
    "x = np.sqrt(np.linspace(0, 10000, 10000))\n",
    "y = x + np.random.uniform(-10, 10, 10000)\n",
    "\n",
    "# Now we want to make a default histogram\n",
    "ax.hist(y, bins=20 , histtype='step', lw=3, log=True)\n",
    "\n",
    "# Set our axis labels and plot title\n",
    "ax.set_title(\"Histogram\", fontsize=14)\n",
    "\n",
    "ax.set_xlim(-5,105)\n",
    "ax.set_xlabel(\"Random Values\", fontsize=14)\n",
    "\n",
    "ax.set_ylabel(\"Frequency\", fontsize=14)\n",
    "\n",
    "# Show final result\n",
    "sns.despine(offset=5, trim=True)"
   ]
  },
  {
   "cell_type": "markdown",
   "metadata": {},
   "source": [
    "-----\n",
    "\n",
    "### Multiple Histograms\n",
    "\n",
    "In certain cases, it may be instructive to compare two distributions directly within the same plot. For example, if you have computed a histogram of the ages of people in a population, you might want to differentiate the male and female populations in separate histograms for comparison. This difference can easily be highlighted by simply overplotting two histograms. In the following example, we create two populations, y1 and y2, and display their histograms within the same plot window. Note that by default, the two histograms will be overplotted, so to allow both to be seen, we set the `alpha` parameter in the second one, which makes the second histogram somewhat transparent (based on the value assigned to the `alpha` parameter).\n",
    "\n",
    "We also assign a label to each histogram so that the `legend` method can be used to differentiate between the two histograms.\n",
    "\n",
    "-----"
   ]
  },
  {
   "cell_type": "code",
   "execution_count": 14,
   "metadata": {},
   "outputs": [
    {
     "data": {
      "image/png": "[encoded data removed]",
      "text/plain": [
       "<Figure size 432x288 with 1 Axes>"
      ]
     },
     "metadata": {
      "needs_background": "light"
     },
     "output_type": "display_data"
    }
   ],
   "source": [
    "# Now we create our figure and axes for the plot we will make.\n",
    "fig, ax = plt.subplots()\n",
    "\n",
    "mybins = np.linspace(0, 60, 15)\n",
    "ax.hist(data_lunch['total_bill'], bins=mybins, histtype='bar', label='Lunch')\n",
    "ax.hist(data_dinner['total_bill'], bins=mybins, histtype='bar', label='Dinner', alpha=0.5)\n",
    "\n",
    "# Set our axis labels and plot title\n",
    "ax.set_title(\"Comparative Histogram\", fontsize=14)\n",
    "\n",
    "ax.set_xlim(-2,62)\n",
    "ax.set_xlabel(\"Total Bill (\\$)\", fontsize=14)\n",
    "\n",
    "ax.set_ylabel(\"Frequency\", fontsize=14)\n",
    "\n",
    "ax.legend(fontsize=14)\n",
    "\n",
    "sns.despine(offset=10, trim=True)"
   ]
  },
  {
   "cell_type": "markdown",
   "metadata": {},
   "source": [
    "-----\n",
    "\n",
    "The two histograms can also be plotted side-by-side, which can often simplify a comparison. In the following example, we plot two histograms side-by-side. In this case, we pass the two data sets as a list to the same histogram method call, which means we also need to pass the labels as a list. All other parameters will be assigned equally to the two histograms.\n",
    "\n",
    "In this sample code, we have also used the [figure method](http://matplotlib.org/api/figure_api.html#matplotlib.figure. Figure) to specify a larger plot window (which is helpful for comparing multiple histograms).\n",
    "\n",
    "-----"
   ]
  },
  {
   "cell_type": "code",
   "execution_count": 15,
   "metadata": {},
   "outputs": [
    {
     "data": {
      "image/png": "[encoded data removed]",
      "text/plain": [
       "<Figure size 864x576 with 1 Axes>"
      ]
     },
     "metadata": {
      "needs_background": "light"
     },
     "output_type": "display_data"
    }
   ],
   "source": [
    "# Now we create our figure and axes for the plot we will make.\n",
    "fig, ax = plt.subplots(figsize=(12, 8))\n",
    "\n",
    "mybins = np.linspace(0, 60, 20)\n",
    "ax.hist([data_lunch['total_bill'], data_dinner['total_bill']], bins=mybins, histtype='bar', label=['Lunch', 'Dinner'], alpha=0.5)\n",
    "\n",
    "# Set our axis labels and plot title\n",
    "ax.set_title(\"Comparative Histogram\", fontsize=14)\n",
    "\n",
    "ax.set_xlim(-2,62)\n",
    "ax.set_xlabel(\"Total Bill (\\$)\", fontsize=14)\n",
    "\n",
    "ax.set_ylabel(\"Frequency\", fontsize=14)\n",
    "\n",
    "ax.legend(fontsize=14)\n",
    "\n",
    "sns.despine(offset=10, trim=True)\n"
   ]
  },
  {
   "cell_type": "markdown",
   "metadata": {},
   "source": [
    "-----\n",
    "\n",
    "In all of the sample codes provided in this notebook, we have ignored the return values from the `hist` method. In truth, this function returns three items:\n",
    "\n",
    "* `n`, the number contained within each bin. The length of this array is the same as the number of bins used to make the histogram.\n",
    "* `bins`, the bin edges. The number of edges is one more than the number of bins.\n",
    "* `patches`, which are matplotlib plotting objects (to make the bins show up), but you will generally ignore these.\n",
    "\n",
    "The first two arrays can often prove useful if you want to operate on the histogrammed data (in addition to plotting them). To use these data, you simply capture the returned values:\n",
    "\n",
    "```python\n",
    "n, bins, patches = ax.hist(y)\n",
    "```\n",
    "\n",
    "Check out `ax.hist?` for more details.\n",
    "\n",
    "-----"
   ]
  },
  {
   "cell_type": "markdown",
   "metadata": {},
   "source": [
    "Pandas `DataFrame` and `Series` have `hist()` function to plot histogram directly from the dataset. The following code cell demonstates this."
   ]
  },
  {
   "cell_type": "code",
   "execution_count": 16,
   "metadata": {},
   "outputs": [
    {
     "data": {
      "image/png": "[encoded data removed]",
      "text/plain": [
       "<Figure size 432x288 with 1 Axes>"
      ]
     },
     "metadata": {
      "needs_background": "light"
     },
     "output_type": "display_data"
    }
   ],
   "source": [
    "ax = tips.total_bill.hist(bins=10, color='steelblue', edgecolor='white', linewidth=1.0,\n",
    "           xlabelsize=8, ylabelsize=8, grid=False)\n",
    "ax.set_title('Distribution of Total Bill')\n",
    "ax.set_xlabel('Total Bill($)')\n",
    "ax.set_ylabel('Count')\n",
    "sns.despine()"
   ]
  },
  {
   "cell_type": "markdown",
   "metadata": {},
   "source": [
    "-----\n",
    "\n",
    "<font color='red' size = '5'> Student Exercise </font>\n",
    "\n",
    "In the empty **code** cell below, write and execute code to display, side-by-side, two new histograms, where the `total_bill` column is displayed first for _female_ patrons and second for _male_ patrons. Be sure to annotate your histogram plot appropriately. How does this visual representation communicate information better than the corresponding rugplot or boxplot?\n",
    "\n",
    "\n",
    "-----"
   ]
  },
  {
   "cell_type": "code",
   "execution_count": null,
   "metadata": {},
   "outputs": [],
   "source": []
  },
  {
   "cell_type": "markdown",
   "metadata": {},
   "source": [
    "---\n",
    "[[Back to TOC]](#Table-of-Contents)\n",
    "\n",
    "\n",
    "## Bar Chart\n",
    "\n",
    "Rugplot, boxplot and histogram are all for *continuous* features. For *categorical* features there is bar chart. \n",
    "\n",
    "A bar chart is a chart or graph that presents *categorical* data with rectangular bars with heights or lengths proportional to the values that they represent. The bars can be plotted vertically or horizontally.\n",
    "\n",
    "A bar chart looks similar to histogram, but unlike a histogram that only plots on **one** feature, bar chart can plot count of a categorical feature(countplot) or plot aggregation of other features on a categorical feature.\n",
    "\n",
    "We will demonstrate a bar plot with tip dataset. First, we will compare count of meals on each day with seaborn **countplot**. For details of countplot please execute `sns.countplot?` or `help(sns.countplot)`.\n"
   ]
  },
  {
   "cell_type": "code",
   "execution_count": 17,
   "metadata": {},
   "outputs": [
    {
     "data": {
      "text/html": [
       "<div>\n",
       "<style scoped>\n",
       "    .dataframe tbody tr th:only-of-type {\n",
       "        vertical-align: middle;\n",
       "    }\n",
       "\n",
       "    .dataframe tbody tr th {\n",
       "        vertical-align: top;\n",
       "    }\n",
       "\n",
       "    .dataframe thead th {\n",
       "        text-align: right;\n",
       "    }\n",
       "</style>\n",
       "<table border=\"1\" class=\"dataframe\">\n",
       "  <thead>\n",
       "    <tr style=\"text-align: right;\">\n",
       "      <th></th>\n",
       "      <th>total_bill</th>\n",
       "      <th>tip</th>\n",
       "      <th>sex</th>\n",
       "      <th>smoker</th>\n",
       "      <th>day</th>\n",
       "      <th>time</th>\n",
       "      <th>size</th>\n",
       "    </tr>\n",
       "  </thead>\n",
       "  <tbody>\n",
       "    <tr>\n",
       "      <td>0</td>\n",
       "      <td>16.99</td>\n",
       "      <td>1.01</td>\n",
       "      <td>Female</td>\n",
       "      <td>No</td>\n",
       "      <td>Sun</td>\n",
       "      <td>Dinner</td>\n",
       "      <td>2</td>\n",
       "    </tr>\n",
       "    <tr>\n",
       "      <td>1</td>\n",
       "      <td>10.34</td>\n",
       "      <td>1.66</td>\n",
       "      <td>Male</td>\n",
       "      <td>No</td>\n",
       "      <td>Sun</td>\n",
       "      <td>Dinner</td>\n",
       "      <td>3</td>\n",
       "    </tr>\n",
       "    <tr>\n",
       "      <td>2</td>\n",
       "      <td>21.01</td>\n",
       "      <td>3.50</td>\n",
       "      <td>Male</td>\n",
       "      <td>No</td>\n",
       "      <td>Sun</td>\n",
       "      <td>Dinner</td>\n",
       "      <td>3</td>\n",
       "    </tr>\n",
       "    <tr>\n",
       "      <td>3</td>\n",
       "      <td>23.68</td>\n",
       "      <td>3.31</td>\n",
       "      <td>Male</td>\n",
       "      <td>No</td>\n",
       "      <td>Sun</td>\n",
       "      <td>Dinner</td>\n",
       "      <td>2</td>\n",
       "    </tr>\n",
       "    <tr>\n",
       "      <td>4</td>\n",
       "      <td>24.59</td>\n",
       "      <td>3.61</td>\n",
       "      <td>Female</td>\n",
       "      <td>No</td>\n",
       "      <td>Sun</td>\n",
       "      <td>Dinner</td>\n",
       "      <td>4</td>\n",
       "    </tr>\n",
       "  </tbody>\n",
       "</table>\n",
       "</div>"
      ],
      "text/plain": [
       "   total_bill   tip     sex smoker  day    time  size\n",
       "0       16.99  1.01  Female     No  Sun  Dinner     2\n",
       "1       10.34  1.66    Male     No  Sun  Dinner     3\n",
       "2       21.01  3.50    Male     No  Sun  Dinner     3\n",
       "3       23.68  3.31    Male     No  Sun  Dinner     2\n",
       "4       24.59  3.61  Female     No  Sun  Dinner     4"
      ]
     },
     "execution_count": 17,
     "metadata": {},
     "output_type": "execute_result"
    }
   ],
   "source": [
    "tips.head()"
   ]
  },
  {
   "cell_type": "code",
   "execution_count": 18,
   "metadata": {
    "scrolled": true
   },
   "outputs": [
    {
     "data": {
      "image/png": "[encoded data removed]",
      "text/plain": [
       "<Figure size 432x288 with 1 Axes>"
      ]
     },
     "metadata": {
      "needs_background": "light"
     },
     "output_type": "display_data"
    }
   ],
   "source": [
    "ax = sns.countplot(x='day', data=tips)"
   ]
  },
  {
   "cell_type": "markdown",
   "metadata": {},
   "source": [
    "We can also plot count of lunch and dinner for each day."
   ]
  },
  {
   "cell_type": "code",
   "execution_count": 19,
   "metadata": {},
   "outputs": [
    {
     "data": {
      "image/png": "[encoded data removed]",
      "text/plain": [
       "<Figure size 432x288 with 1 Axes>"
      ]
     },
     "metadata": {
      "needs_background": "light"
     },
     "output_type": "display_data"
    }
   ],
   "source": [
    "ax = sns.countplot(x='day', hue='time', data=tips)"
   ]
  },
  {
   "cell_type": "markdown",
   "metadata": {},
   "source": [
    "Now let's check average total bill for each day. We will use seaborn `barplot`. The line in the plot represents a 95% confidence interval. You may set `ci=None` to turn off the confidence interval."
   ]
  },
  {
   "cell_type": "code",
   "execution_count": 20,
   "metadata": {
    "scrolled": true
   },
   "outputs": [
    {
     "data": {
      "image/png": "[encoded data removed]",
      "text/plain": [
       "<Figure size 432x288 with 1 Axes>"
      ]
     },
     "metadata": {
      "needs_background": "light"
     },
     "output_type": "display_data"
    }
   ],
   "source": [
    "ax = sns.barplot(x='day', y='total_bill', data=tips)"
   ]
  },
  {
   "cell_type": "markdown",
   "metadata": {},
   "source": [
    "The default estimator of `barplot` is mean. If you need to plot other statistics you'll need to set estimator, ie. to median, min, max etc. We will plot median total bill in each day in the following cell. Notice that we turn off confidence interval by setting `ci=None`."
   ]
  },
  {
   "cell_type": "code",
   "execution_count": 21,
   "metadata": {
    "scrolled": true
   },
   "outputs": [
    {
     "data": {
      "image/png": "[encoded data removed]",
      "text/plain": [
       "<Figure size 432x288 with 1 Axes>"
      ]
     },
     "metadata": {
      "needs_background": "light"
     },
     "output_type": "display_data"
    }
   ],
   "source": [
    "from numpy import median\n",
    "ax = sns.barplot(x='day', y='total_bill', estimator=median, ci=None, data=tips)"
   ]
  },
  {
   "cell_type": "markdown",
   "metadata": {},
   "source": [
    "You may switch `x` and `y` to plot a horizontal bar chart. In this plot we use `plt.subplots` to set the size of the figure. We also call `sns.despine()` to remove the top and right spines from the plot to make it look nicer."
   ]
  },
  {
   "cell_type": "code",
   "execution_count": 22,
   "metadata": {},
   "outputs": [
    {
     "data": {
      "image/png": "[encoded data removed]",
      "text/plain": [
       "<Figure size 720x360 with 1 Axes>"
      ]
     },
     "metadata": {
      "needs_background": "light"
     },
     "output_type": "display_data"
    }
   ],
   "source": [
    "plt.subplots(figsize=(10, 5))\n",
    "ax = sns.barplot(x='total_bill', y='day', hue='time', ci=None, data=tips)\n",
    "sns.despine()"
   ]
  },
  {
   "cell_type": "markdown",
   "metadata": {},
   "source": [
    "-----\n",
    "\n",
    "## Ancillary Information\n",
    "\n",
    "The following links are to additional documentation that you might find helpful in learning this material. Reading these web-accessible documents is completely optional.\n",
    "\n",
    "1. [Matplotlib pyplot tutorial][1]\n",
    "2. [Matplotlib tutorial][2] from Scipy\n",
    "4. [Seaborn tutorial][4]\n",
    "3. The [visualization chapter][pdc] from the book _Python Data Science Handbook_ by Jake VanderPlas\n",
    "\n",
    "-----\n",
    "\n",
    "[1]: http://matplotlib.org/users/pyplot_tutorial.html\n",
    "[2]: http://www.scipy-lectures.org/intro/matplotlib/index.html\n",
    "[4]: http://seaborn.pydata.org/tutorial.html\n",
    "[pdc]: http://nbviewer.jupyter.org/github/jakevdp/PythonDataScienceHandbook/blob/master/notebooks/04.00-Introduction-To-Matplotlib.ipynb"
   ]
  },
  {
   "cell_type": "markdown",
   "metadata": {
    "deletable": false,
    "editable": false
   },
   "source": [
    "**&copy; 2019: Gies College of Business at the University of Illinois.**\n",
    "\n",
    "This notebook is released under the [Creative Commons license CC BY-NC-SA 4.0][ll]. Any reproduction, adaptation, distribution, dissemination or making available of this notebook for commercial use is not allowed unless authorized in writing by the copyright holder.\n",
    "\n",
    "[ll]: https://creativecommons.org/licenses/by-nc-sa/4.0/legalcode"
   ]
  }
 ],
 "metadata": {
  "kernelspec": {
   "display_name": "Python 3",
   "language": "python",
   "name": "python3"
  },
  "language_info": {
   "codemirror_mode": {
    "name": "ipython",
    "version": 3
   },
   "file_extension": ".py",
   "mimetype": "text/x-python",
   "name": "python",
   "nbconvert_exporter": "python",
   "pygments_lexer": "ipython3",
   "version": "3.7.3"
  }
 },
 "nbformat": 4,
 "nbformat_minor": 1
}
