{
 "cells": [
  {
   "cell_type": "markdown",
   "metadata": {},
   "source": [
    "# Module 6: Introduction to Visualization\n",
    "\n",
    "This module introduces visualization as an important tool for exploring and understanding data. First, you will learn how to create a simple visualization (basic line plot) in Python, which will introduce creating and displaying a visualization within a notebook, how to annotate a plot, and how to improve the visual aesthetics of a plot by using the seaborn module. Next, you will learn how to explore a one-dimensional data set by using rug plots, box plots, and histograms. Finally, you will learn how to explore a two-dimensional data set by using scatter plot.\n",
    "\n",
    "## Learning Objectives\n",
    "\n",
    "#### By the end of this module, you should be able to:\n",
    "\n",
    "- understand the basic concepts in conveying information visually,\n",
    "- create basic visualizations by using Python and the matplotlib module,\n",
    "- visually explore one-dimensional data by using Python, and\n",
    "- visually explore two-dimensional data by using Python.\n",
    "\n",
    "### Activities and Assignments\n",
    "\n",
    "| Activities and Assignments               | Time Estimate | Deadline* | Points |\n",
    "| :--------------------------------------- | ------------- | --------- | -----: |\n",
    "| **[Module 6 Overview Video][wv]**      | 10 Minutes    | Tuesday |    N/A |\n",
    "| **[Module 6 Lesson 1: Introduction to Plotting in Python][nb1]** | 2 Hours | Thursday  |     N/A |\n",
    "| **[Module 6 Lesson 2: Introduction to One-dimensional Data Visualizations][nb2]** | 2 Hours   | Thursday  |   N/A |\n",
    "| **[Module 6 Lesson 3: Introduction to Two-dimensional Data Visualizations][nb3]** | 2 Hours   | Thursday  |   N/A |\n",
    "| **[Module 6 Quiz][wq]**                    | 30 Minutes    | Friday    |    25  |\n",
    "| **[Module 6 Assignment Low][mal]**                    | 1 hour   | Sunday    |  25 |\n",
    "| **[Module 6 Assignment High][mah]**                    | 1 hour   | Sunday    |  75 |\n",
    "\n",
    "\n",
    "\n",
    "*Please note that unless otherwise noted, the due time is 6pm Central time!\n",
    "\n",
    "----------\n",
    "\n",
    "[nb1]: notebooks/m6l1.ipynb\n",
    "[nb2]: notebooks/m6l2.ipynb\n",
    "[nb3]: notebooks/m6l3.ipynb\n",
    "\n",
    "[mal]: https://datascience.business.illinois.edu/user/bigdog/notebooks/accy570/assignments/module7/assignment_low.ipynb\n",
    "[mah]: https://datascience.business.illinois.edu/user/bigdog/notebooks/accy570/assignments/module7/assignment_high.ipynb\n",
    "\n",
    "[wv]: https://mediaspace.illinois.edu/media/t/0_n8qvhjv4/99381161\n",
    "\n",
    "[wq]: https://learn.illinois.edu/mod/quiz/view.php?id=2839563"
   ]
  }
 ],
 "metadata": {
  "kernelspec": {
   "display_name": "Python 3 (ipykernel)",
   "language": "python",
   "name": "python3"
  },
  "language_info": {
   "codemirror_mode": {
    "name": "ipython",
    "version": 3
   },
   "file_extension": ".py",
   "mimetype": "text/x-python",
   "name": "python",
   "nbconvert_exporter": "python",
   "pygments_lexer": "ipython3",
   "version": "3.9.5"
  }
 },
 "nbformat": 4,
 "nbformat_minor": 4
}
