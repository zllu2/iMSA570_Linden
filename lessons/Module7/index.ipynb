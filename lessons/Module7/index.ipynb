{
 "cells": [
  {
   "cell_type": "markdown",
   "metadata": {},
   "source": [
    "# Module 7: Production Data Analytics\n",
    "\n",
    "This module introduces several important and practical concepts in data analytics. First, you will learn about one of the more popular data analytic methodologies, CRISP-DM. Next you will learn common technics in data preparation. Finally, you will learn how to build a linear regression with python.\n",
    "\n",
    "## Learning Objectives\n",
    "\n",
    "#### By the end of this module, you should be able to:\n",
    "\n",
    "- articulate cross-industry process for data mining(CRISP-DM),\n",
    "- understand the common technics in data preparation, and\n",
    "- compute a linear regression model from a data set by using Python.\n",
    "\n",
    "### Activities and Assignments\n",
    "\n",
    "| Activities and Assignments               | Time Estimate | Deadline* | Points |\n",
    "| :--------------------------------------- | ------------- | --------- | -----: |\n",
    "| **[Module 7 Overview Video][wv]**      | 10 Minutes    | Tuesday |    N/A |\n",
    "| **[Module 7 Lesson 1: Introduction to CRISP-DM][nb1]** | 2 Hours   | Thursday  |     N/A |\n",
    "| **[Module 7 Lesson 2: Introduction to Common Technics in Data Preparation][nb2]** | 2 Hours | Thursday  |     N/A |\n",
    "| **[Module 7 Lesson 3: Introduction to Linear Regression][nb3]** | 2 Hours | Thursday  |     N/A |\n",
    "| **[Module 7 Quiz][wq]**                    | 30 Minutes    | Friday    |    25  |\n",
    "| **[Module 7 Assignment][ma]**         | 2 Hours   | Monday    |    100  |\n",
    "\n",
    "*Please note that unless otherwise noted, the due time is 6pm Central time!\n",
    "\n",
    "----------\n",
    "\n",
    "[nb1]: notebooks/m7l1.ipynb\n",
    "[nb2]: notebooks/m7l2.ipynb\n",
    "[nb3]: notebooks/m7l3.ipynb\n",
    "\n",
    "[ma]: https://datascience.business.illinois.edu/user/accy/notebooks/accy570/assignments/Module6/assignment.ipynb\n",
    "\n",
    "[wv]: https://mediaspace.illinois.edu/media/t/1_ramy1d8m\n",
    "[wq]: https://learn.illinois.edu/mod/quiz/view.php?id=2359048"
   ]
  }
 ],
 "metadata": {
  "kernelspec": {
   "display_name": "Python 3",
   "language": "python",
   "name": "python3"
  },
  "language_info": {
   "codemirror_mode": {
    "name": "ipython",
    "version": 3
   },
   "file_extension": ".py",
   "mimetype": "text/x-python",
   "name": "python",
   "nbconvert_exporter": "python",
   "pygments_lexer": "ipython3",
   "version": "3.8.5"
  }
 },
 "nbformat": 4,
 "nbformat_minor": 4
}
