{
 "cells": [
  {
   "cell_type": "markdown",
   "metadata": {},
   "source": [
    "# Module 7: Lesson 2\n",
    "\n",
    "-----\n",
    "\n",
    "## Introduction to Data Preparation Techniques\n",
    "\n",
    "This lesson intoduces common python techniques in data preparation.\n",
    "\n",
    "### Objectives\n",
    "\n",
    "By the end of this lesson, you will be able to:\n",
    "\n",
    "- understand common data preparation techiniques, and \n",
    "- apply common python techniques in data preparation.\n",
    "\n",
    "### Time Estimate\n",
    "\n",
    "Approximately 2 hours.\n",
    "\n",
    "### Activities\n",
    "\n",
    "\n",
    "**Video**: Watch the [introduction to data preparation ][imsv] video, which will review the overall data analytics process \n",
    "\n",
    "**Notebook**: Read and complete the practice exercises in the [Introduction to Data Preparation Techniques][intro_dp] notebook.\n",
    "\n",
    "------\n",
    "\n",
    "[intro_dp]:intro_dp.ipynb\n",
    "[mtc]:https://www.forbes.com/sites/gilpress/2016/03/23/data-preparation-most-time-consuming-least-enjoyable-data-science-task-survey-says/\n",
    "\n",
    "[top10]:https://www.import.io/post/10-best-practices-data-preparation/\n",
    "\n",
    "[pcdml]:https://www.dataquest.io/blog/machine-learning-preparing-data/\n",
    "\n",
    "[imsv]: https://mediaspace.illinois.edu/media/t/1_0h2l0vmt"
   ]
  }
 ],
 "metadata": {
  "kernelspec": {
   "display_name": "Python 3",
   "language": "python",
   "name": "python3"
  },
  "language_info": {
   "codemirror_mode": {
    "name": "ipython",
    "version": 3
   },
   "file_extension": ".py",
   "mimetype": "text/x-python",
   "name": "python",
   "nbconvert_exporter": "python",
   "pygments_lexer": "ipython3",
   "version": "3.8.5"
  }
 },
 "nbformat": 4,
 "nbformat_minor": 4
}
