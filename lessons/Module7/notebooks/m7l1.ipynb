{
 "cells": [
  {
   "cell_type": "markdown",
   "metadata": {},
   "source": [
    "# Module 7: Lesson 1\n",
    "\n",
    "-----\n",
    "\n",
    "## Introduction to CRISP-DM\n",
    "This lesson intoduces one of the more popular data analytic methodologies, CRISP-DM.\n",
    "\n",
    "### Objectives\n",
    "\n",
    "By the end of this lesson, you will\n",
    "\n",
    "- understand the challenges of building successful models in the real-world,\n",
    "- understand the differences between classroom analytics problems and those in the real-world, and\n",
    "- be able to articulate issues in promoting data analytic processes into production environments.\n",
    "\n",
    "### Time Estimate\n",
    "\n",
    "Approximately 1 hour.\n",
    "\n",
    "### Activities\n",
    "\n",
    "Note: A major challenge academic face in teaching data analytics is the lack of real-world data sets, which teach the full spectrum of data analytics. The readings in this lesson address this issue by discussing  processes that produce success in the real world.\n",
    "\n",
    "**Video**: Watch the [introduction to modeling success ][imsv] video, which will review the overall data analytics process \n",
    "\n",
    "**Notebook**: Read and complete the practice exercises in the [Introduction to CRISP-DM][crisp_dm] notebook.\n",
    "\n",
    "Reading: Read about how academics fail to teach students about the murky issues in [real world data analytics][ruf] by Maciej Wasiak on LinkedIn.\n",
    "\n",
    "Reading: Read about how to build a [data science pipeline][rdsp] by Balazs Kegl on medium.\n",
    "\n",
    "Reading: Read about the [CRISP-DM methodology][rcdm] , which stands for cross-industry process for data mining, from the Smart Vision Europe website.\n",
    "\n",
    "\n",
    "------\n",
    "\n",
    "[crisp_dm]:intro_crisp.ipynb\n",
    "\n",
    "[ruf]: https://www.linkedin.com/pulse/data-science-taught-universities-here-why-maciej-wasiak\n",
    "\n",
    "[rdsp]: https://medium.com/towards-data-science/how-to-build-a-data-science-pipeline-f24341848045\n",
    "\n",
    "[rcdm]: http://www.sv-europe.com/crisp-dm-methodology/\n",
    "\n",
    "[imsv]: https://mediaspace.illinois.edu/media/t/1_0h2l0vmt"
   ]
  }
 ],
 "metadata": {
  "kernelspec": {
   "display_name": "Python 3",
   "language": "python",
   "name": "python3"
  },
  "language_info": {
   "codemirror_mode": {
    "name": "ipython",
    "version": 3
   },
   "file_extension": ".py",
   "mimetype": "text/x-python",
   "name": "python",
   "nbconvert_exporter": "python",
   "pygments_lexer": "ipython3",
   "version": "3.7.1"
  }
 },
 "nbformat": 4,
 "nbformat_minor": 2
}
