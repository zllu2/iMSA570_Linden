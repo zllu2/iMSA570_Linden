{
 "cells": [
  {
   "cell_type": "markdown",
   "metadata": {},
   "source": [
    "# Module 7: Lesson 1\n",
    "\n",
    "-----\n",
    "\n",
    "## Introduction to CRISP-DM\n",
    "This lesson intoduces one of the more popular data analytic methodologies, CRISP-DM.\n",
    "\n",
    "### Objectives\n",
    "\n",
    "By the end of this lesson, you will\n",
    "\n",
    "- understand and be able to articulate the CRISP-DM framework.\n",
    "\n",
    "### Time Estimate\n",
    "\n",
    "Approximately 1 hour.\n",
    "\n",
    "### Activities\n",
    "\n",
    "**Video**: Watch the [introduction to CRISP-DM][imsv] video, which will review the overall data analytics process \n",
    "\n",
    "**Notebook**: Read and complete the practice exercises in the [Introduction to CRISP-DM][crisp_dm] notebook.\n",
    "\n",
    "------\n",
    "\n",
    "[crisp_dm]:intro_crisp.ipynb\n",
    "\n",
    "[ruf]: https://www.linkedin.com/pulse/data-science-taught-universities-here-why-maciej-wasiak\n",
    "\n",
    "[rdsp]: https://medium.com/towards-data-science/how-to-build-a-data-science-pipeline-f24341848045\n",
    "\n",
    "[imsv]: https://mediaspace.illinois.edu/media/t/1_0h2l0vmt"
   ]
  }
 ],
 "metadata": {
  "kernelspec": {
   "display_name": "Python 3",
   "language": "python",
   "name": "python3"
  },
  "language_info": {
   "codemirror_mode": {
    "name": "ipython",
    "version": 3
   },
   "file_extension": ".py",
   "mimetype": "text/x-python",
   "name": "python",
   "nbconvert_exporter": "python",
   "pygments_lexer": "ipython3",
   "version": "3.7.3"
  }
 },
 "nbformat": 4,
 "nbformat_minor": 2
}
