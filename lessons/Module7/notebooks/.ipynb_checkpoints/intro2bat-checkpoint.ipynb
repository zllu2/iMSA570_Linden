{
 "cells": [
  {
   "cell_type": "code",
   "execution_count": null,
   "metadata": {},
   "outputs": [],
   "source": [
    "import pandas as pd\n",
    "df = pd.DataFrame({'first name':['a', 'b'], 'last name':['1', '2']})\n",
    "df"
   ]
  },
  {
   "cell_type": "markdown",
   "metadata": {},
   "source": [
    "# Introduction to Bagging\n",
    "\n",
    "-----"
   ]
  },
  {
   "cell_type": "markdown",
   "metadata": {},
   "source": [
    "\n",
    "In this IPython Notebook, we introduce the concept of [_bagging_][wbag], which is shorthand for bootstrap aggregation, where random samples of the data are used to construct multiple decision trees. Since each tree only sees part of the data, each tree is less accurate than if it had been constructed over the full data set. Thus, each tree is known as a _weak learner_. A more powerful, meta-estimator is subsequently constructed by averaging over these many weak learners. The approach of constructing weak learners, and combining them into a more powerful estimator is at the heart of several, very powerful machine learning techniques, including the [random forest][wrf] and [extremely randomized trees][wert].\n",
    "\n",
    "In this notebook, we first introduce the formalism behind bagging, including a discussion of the concept of bootstrapping. Next, we move on to a discussion of the random forest algorithm, which will include its application to both classification and regression tasks. We also will look at the application of a random forest to multiple-output regression problems, where a regressor is used to predict multiple target features. Finally, we look into a second type of bagging meta-estimator, extremely randomized trees, and see how they compare to a random forest.\n",
    "\n",
    "-----\n",
    "[rfsk]: http://scikit-learn.org/stable/modules/ensemble.html#forest\n",
    "[wert]: https://en.wikipedia.org/wiki/Random_forest#ExtraTrees\n",
    "[wbag]: https://en.wikipedia.org/wiki/Bootstrap_aggregating\n",
    "[wrf]: https://en.wikipedia.org/wiki/Random_forest"
   ]
  },
  {
   "cell_type": "markdown",
   "metadata": {},
   "source": [
    "## Table of Contents\n",
    "\n",
    "[Formalism](#Formalism)\n",
    "\n",
    "- [Bootstrap](#Bootstrap)\n",
    "- [Random Forest](#Random-Forest)\n",
    "- [Extremely Randomized Trees](#Extremely-Randomized-Trees)\n",
    "\n",
    "[Random Forest: Classification](#Random-Forest:-Classification)\n",
    "\n",
    "- [Classification: Iris Data](#Classification:-Iris-Data)\n",
    "- [Random Forest: Decision Surface](#Random-Forest:-Decision-Surface)\n",
    "- [Random Forest: Hyperparameters](#Random-Forest:-Hyperparameters)\n",
    "- [Random Forest: Feature Importance](#Random-Forest:-Feature-Importance)\n",
    "- [Classification: Adult Data](#Classification:-Adult-Data)\n",
    "\n",
    "[Random Forest: Regression](#Random-Forest:-Regression)\n",
    "\n",
    "- [Regression: Auto MPG Data](#Auto-MPG-Data)\n",
    "- [Regression: Multi-Output](#Regression:-Multi-Output)\n",
    "\n",
    "[Extremely Randomized Trees](#Extremely-Randomized-Trees)\n",
    "\n",
    "-----\n",
    "\n",
    "Before proceeding with the _Formalism_ section of this Notebook, we first have our standard notebook setup code.\n",
    "\n",
    "-----"
   ]
  },
  {
   "cell_type": "code",
   "execution_count": 1,
   "metadata": {
    "collapsed": true
   },
   "outputs": [],
   "source": [
    "# Set up Notebook\n",
    "% matplotlib inline\n",
    "\n",
    "# Standard imports\n",
    "import numpy as np\n",
    "import pandas as pd\n",
    "import matplotlib.pyplot as plt\n",
    "import seaborn as sns\n",
    "\n",
    "# We do this to ignore several specific Pandas warnings\n",
    "import warnings\n",
    "warnings.filterwarnings('ignore')\n",
    "\n",
    "sns.set_style('white')"
   ]
  },
  {
   "cell_type": "markdown",
   "metadata": {},
   "source": [
    "-----\n",
    "\n",
    "[[Back to TOC]](#Table-of-Contents)\n",
    "\n",
    "## Formalism\n",
    "\n",
    "One of the simplest machine learning algorithms to understand is the [decision tree][wdt]. Often, a decision tree is made as large as possible to provide the best predictive model, as this produces a high purity in the leaf nodes. Doing so, however, can lead to overfitting where the model predicts very accurately on the training data but fails to generalize to the test data; and where the accuracy is, as a result, much lower. \n",
    "\n",
    "A simple approach to overcoming the overfitting problem is to train many decision trees on a subset of the data and to average the resulting predictions. This process is known as bootstrap aggregation, which is often shortened to bagging. Of these two terms, aggregation is simple to understand, one simply aggregates (or, in particular, averages) the predictions of the many trees. \n",
    "\n",
    "The term bootstrap is a statistical term that defines how a sample can be constructed from an original data set. Given a data set, there are two simple ways to construct a new sample. As a specific example, consider building a list of shows you wish to watch from an online provider like Netflix or Amazon by placing them in  virtual cart. In the first approach, you take a show of the virtual shelf and place it in your cart. This is known as sampling without replacement since the show is only present in your cart. In the second approach, you take a show and place it in your cart, but there remains a copy of the show on the virtual shelf. This is known as sampling with replacement, since we replace the original instance.\n",
    "\n",
    "Sampling with replacement has several advantages that make it important for machine learning. First, we can construct many large samples from our original data set, where each sample is not limited by the size of the original data set. For example, if our original data set contained 100 entries, sampling without replacement would mean we could only create ten new samples that each had ten entries. On the other hand, sampling with replacement means we could create 100 (or more) new samples that each have ten (or more) entries.\n",
    "\n",
    "Building many samples from a parent population allows us to build an estimator on each sample and average (or aggregate) the results. This is demonstrated in the following figure, where an original data set is used to train a number of decision trees. In this case, each tree is constructed from a bootstrap sample of the original data set. The predictions from these trees are aggregated at the end to make a final prediction.\n",
    "\n",
    "![Decision Trees Image made by Professor Robert J. Brunner](images/dt-rjb-2.png)\n",
    "\n",
    "The scikit learn library provides a bagging meta-estimator, that can generate bootstrap samples, apply a standard estimator (including other algorithms beyond a decision tree), and aggregate the resulting predictions. This technique can be used for classification tasks ([`BaggingClassifier`][skbc]) or for regression ([`BaggingRegressor`][skbr])\n",
    "\n",
    "These estimators have several hyperparameters that control their performance:\n",
    "- `base_estimator`: The estimator to use on each sample, by default this is a decision tree.\n",
    "- `n_estimators`: The number of base estimators to create for the ensemble, by default this is ten.\n",
    "- `max_samples` : The number of instances to draw from the parent population to train each base estimator, by default this is one.\n",
    "- `max_features`: The number of features to draw from the  parent population to train each base estimator, by default this is one.\n",
    "\n",
    "This bagging estimator allows different basic algorithms, beyond the decision tree, to be used for ensemble learning. For the rest of the notebook, however, we will focus on two specific ensemble techniques that efficiently implement bagging by using decision trees: the random forest and extremely randomized trees.\n",
    "\n",
    "Beyond improved prediction, bagging algorithms provide an additional benefit. Since each tree (or other learning algorithm in the case of a _Bagging_ estimator) is constructed from a subsample of the original data, the performance of that tree can be tested on the data from the original data that were not used in its construction. These data are known as _out-of_bag_ data, and provide a useful metric for the performance of each individual tree used in the ensemble. \n",
    "\n",
    "Before introducing the random forest, we first explore the construction and use of bootstrap samples.\n",
    "\n",
    "-----\n",
    "[skbc]:http://scikit-learn.org/stable/modules/generated/sklearn.ensemble.BaggingClassifier.html\n",
    "[skbr]: http://scikit-learn.org/stable/modules/generated/sklearn.ensemble.BaggingRegressor.html"
   ]
  },
  {
   "cell_type": "markdown",
   "metadata": {},
   "source": [
    "[[Back to TOC]](#Table-of-Contents)\n",
    "\n",
    "### Bootstrap\n",
    "\n",
    "Formally, a bootstrap refers to any statistical process that relies on the generation of random samples with replacement. To demonstrate the benefit of the bootstrap, we will bootstrap the `size` feature from the _tips_ data set, which is the number of patrons served by the restaurant for a meal. The first Code cell below loads the tips data and randomly samples five instances, showing the `size` feature for each.\n",
    "\n",
    "-----\n",
    "\n",
    "\n"
   ]
  },
  {
   "cell_type": "code",
   "execution_count": 2,
   "metadata": {},
   "outputs": [
    {
     "data": {
      "text/plain": [
       "188    3\n",
       "29     2\n",
       "78     2\n",
       "105    2\n",
       "121    2\n",
       "Name: size, dtype: int64"
      ]
     },
     "execution_count": 2,
     "metadata": {},
     "output_type": "execute_result"
    }
   ],
   "source": [
    "# Load Data Set\n",
    "tdf = sns.load_dataset('tips')\n",
    "\n",
    "# Display several random 'size' features\n",
    "tdf['size'].sample(5)"
   ]
  },
  {
   "cell_type": "markdown",
   "metadata": {},
   "source": [
    "-----\n",
    "\n",
    "Before proceeding with the computation of a statistical metric, the next Code cell extract this feature as a NumPy array, and displays the number of instances, which is 244. We also compute the mean and standard deviation of this population. These values will be compared to the same metrics computed from the samples we will generate.\n",
    "\n",
    "-----"
   ]
  },
  {
   "cell_type": "code",
   "execution_count": 3,
   "metadata": {},
   "outputs": [
    {
     "name": "stdout",
     "output_type": "stream",
     "text": [
      "Number of instances = 244\n",
      "Mean (population) = 2.570\n",
      "Standard deviation (population) = 0.949\n"
     ]
    }
   ],
   "source": [
    "# Extract size feature as an array\n",
    "sizes = tdf['size'].as_matrix()\n",
    "\n",
    "# Display number of instances\n",
    "print(f'Number of instances = {sizes.shape[0]}')\n",
    "\n",
    "# Compute and display population statistics\n",
    "print(f'Mean (population) = {np.mean(sizes):5.3f}')\n",
    "print(f'Standard deviation (population) = {np.std(sizes):5.3f}')"
   ]
  },
  {
   "cell_type": "markdown",
   "metadata": {},
   "source": [
    "-----\n",
    "\n",
    "We can now generate a random sample, with replacement from these data. In the following Code cell, we create a NumPy `RandomState` to ensure reproducibility of our results, and define our initial sample size as 50. This value can be changed, and since we are using replacement, can actually be larger than the size of the parent population (although this is generally not a good idea). Finally, we employ the NumPy `choice` method to sample `sample_size` instances with replacement, which is indicated by passing the parameter `replace=True`. \n",
    "\n",
    "The output is a NumPy array that is randomly sampled with replacement from the parent array, `sizes`. Note, if we pass the parameter `replace=False` we produce a sample without replacement, which can be useful in other contexts.\n",
    "\n",
    "-----"
   ]
  },
  {
   "cell_type": "code",
   "execution_count": 4,
   "metadata": {},
   "outputs": [
    {
     "data": {
      "text/plain": [
       "array([2, 4, 3, 2, 3, 2, 4, 2, 4, 2, 3, 2, 4, 2, 2, 2, 2, 2, 2, 2, 2, 2, 4,\n",
       "       2, 2, 2, 3, 2, 2, 2, 2, 2, 2, 2, 5, 3, 6, 3, 3, 3, 4, 2, 2, 3, 2, 4,\n",
       "       3, 2, 4, 2])"
      ]
     },
     "execution_count": 4,
     "metadata": {},
     "output_type": "execute_result"
    }
   ],
   "source": [
    "# Define random seed for reproducability\n",
    "rng = np.random.RandomState(23)\n",
    "\n",
    "# Define sample size\n",
    "sample_size = 50\n",
    "\n",
    "# Generate sample with replacement\n",
    "rng.choice(sizes, sample_size, replace=True)"
   ]
  },
  {
   "cell_type": "markdown",
   "metadata": {},
   "source": [
    "-----\n",
    "\n",
    "We can use the `choice` method to create a bootstrap sample, which can be used to generate an estimate for our original parent population (i.e., the `sizes` array). To do this, we generate one random sample with replacement, and compute the mean and standard deviation. For this one sample, our mean and standard deviation are remarkably close to those we computed from the parent population.\n",
    "\n",
    "-----"
   ]
  },
  {
   "cell_type": "code",
   "execution_count": 5,
   "metadata": {},
   "outputs": [
    {
     "name": "stdout",
     "output_type": "stream",
     "text": [
      "Mean (one sample) = 2.620\n",
      "Standard deviation (one sample) = 0.978\n"
     ]
    }
   ],
   "source": [
    "# generate sample\n",
    "sample = rng.choice(sizes, sample_size, replace=True)\n",
    "\n",
    "# Compute and display sample statistics\n",
    "print(f'Mean (one sample) = {np.mean(sample):5.3f}')\n",
    "print(f'Standard deviation (one sample) = {np.std(sample):5.3f}')"
   ]
  },
  {
   "cell_type": "markdown",
   "metadata": {},
   "source": [
    "-----\n",
    "\n",
    "The initial power of the bootstrap results from our ability to extend the creation of this one sample to many. In the following Code cell, we generate 1000 samples with replacement from our parent population, and fill a NumPy array of shape 1000 rows and 50 columns, with these samples. From these new samples, we calculate the sample statistics. In this case, both the mean and standard deviation are almost exactly the same as those from the parent population.\n",
    "\n",
    "-----"
   ]
  },
  {
   "cell_type": "code",
   "execution_count": 6,
   "metadata": {},
   "outputs": [
    {
     "name": "stdout",
     "output_type": "stream",
     "text": [
      "(1000, 50)\n",
      "Mean (1000 samples) = 2.571\n",
      "Standard deviation (1000 samples) = 0.950\n"
     ]
    }
   ],
   "source": [
    "num_samples = 1000\n",
    "\n",
    "the_sample = np.zeros((num_samples, sample_size))\n",
    "\n",
    "for idx in range(num_samples):\n",
    "    the_sample[idx] = rng.choice(sizes, sample_size, replace=True)\n",
    "\n",
    "print(the_sample.shape)\n",
    "# Compute and display sample statistics\n",
    "print(f'Mean ({num_samples} samples) = {np.mean(the_sample):5.3f}')\n",
    "print(f'Standard deviation ({num_samples} samples) = {np.std(the_sample):5.3f}')"
   ]
  },
  {
   "cell_type": "markdown",
   "metadata": {},
   "source": [
    "-----\n",
    "\n",
    "Of course, we do not need to compute these statistics across the entire sample, we can compute the mean for each sample, creating an array of means. In this case, we can consider each sample mean to be an estimate of the mean of the parent population. We can average these means (i.e., aggregate) these sample means to provide an estimate of the population mean, along with a measure of the uncertainty in this estimate, by computing the standard deviation of our sample means. \n",
    "\n",
    "The following Code cell performs this calculation, by first creating a new NumPy array that contains the means of each sample. Next, the mean and standard deviation of these samples is computed and displayed. Once again the mean is nearly identical to the mean value of our parent population, but the uncertainty on this estimate is remarkably low (and could be made smaller by using more samples.\n",
    "\n",
    "This simple example has demonstrated how bootstrap aggregation, in this case of the sample means, can provide a powerful estimator of a population statistic. In each case, we generate multiple samples with replacement, and compute a statistics across these samples, and aggregate the result at the end. This concept underlies all bagging estimators.\n",
    "\n",
    "-----"
   ]
  },
  {
   "cell_type": "code",
   "execution_count": 7,
   "metadata": {},
   "outputs": [
    {
     "name": "stdout",
     "output_type": "stream",
     "text": [
      "Mean (1000 samples) = 2.571\n",
      "Standard deviation (1000 samples) = 0.131\n"
     ]
    }
   ],
   "source": [
    "the_means = np.mean(the_sample, axis=1)\n",
    "\n",
    "# Compute and display sample statistics\n",
    "print(f'Mean ({num_samples} samples) = {np.mean(the_means):5.3f}')\n",
    "print(f'Standard deviation ({num_samples} samples) = {np.std(the_means):5.3f}')"
   ]
  },
  {
   "cell_type": "markdown",
   "metadata": {},
   "source": [
    "-----\n",
    "\n",
    "<font color='red' size = '5'> Student Exercise </font>\n",
    "\n",
    "The previous Code cell demonstrated how to generate samples with replacement, an to compute the mean across those sample. Go back through the previous Code cells and change this to sampling without replacement. How do the statistical measures change? Does this make sense?\n"
   ]
  },
  {
   "cell_type": "markdown",
   "metadata": {},
   "source": [
    "-----\n",
    "\n",
    "[[Back to TOC]](#Table-of-Contents)\n",
    "\n",
    "### Random Forest\n",
    "\n",
    "A [random forest][wrf] employs bagging to create a set of decision trees from a given data set. Each tree is constructed from a bootstrap sample, and the final prediction is generated by aggregating the predictions of the individual trees, just like the previous code example demonstrated by using the mean of the sample means to estimate the mean of the parent population. However, the random forest introduces one additional random concept into the tree construction. \n",
    "\n",
    "Normally, when deciding on a split point during the construction of a decision tree, all features are evaluated and the one that has the highest impurity (or produces the largest information gain) is selected as the feature on which to split along with the value at which to split that feature. In a random forest, a random subset of all features are used to make the split choice, and the best feature on which to split is selected form this subset. \n",
    "\n",
    "This extra randomness produces individual decision trees that are less sensitive to small scale fluctuations, which is known as under-fitting. As a result, each newly created decision tree is a weak learner since they are not constructed from all available information. Yet, since each decision tree is constructed from different sets of features, by aggregating their predictions, the final random forest prediction is improved and less affected by overfitting.\n",
    "\n",
    "Each tree in the random forest is constructed from a different combination of features. As a result, we can use the _out-of-bag_ performance from each tree to rank the importance of the features used to construct the trees in the forest. This allows for robust estimates of feature importance to be computed after constructing a random forest, which can provide useful insight into the nature of a training data set.\n",
    "\n",
    "-----\n",
    "\n",
    "[wrf]: https://en.wikipedia.org/wiki/Random_forest\n",
    "\n"
   ]
  },
  {
   "cell_type": "markdown",
   "metadata": {},
   "source": [
    "[[Back to TOC]](#Table-of-Contents)\n",
    "\n",
    "### Extremely Randomized Trees\n",
    "\n",
    "The [extremely randomized tree][wert] algorithm, or _extra trees_, extends the random forest by introducing yet another form of randomness. In this case, the algorithm proceeds in the same manner as in the construction of a tree in a random forest by selecting a random subset of features when determining on which feature to split each node. The extra trees algorithm, however, does not select the best threshold on which to split automatically. Instead, the extra trees computes a set of random thresholds and selects the best split value from this random set. \n",
    "\n",
    "This algorithm can produce trees that are, individually, even weaker on their own in making a prediction. However, by aggregating their predictions, the extra randomness can produce robust predictions that are less sensitive to overfitting.\n",
    "\n",
    "-----\n",
    "\n",
    "[wert]: https://en.wikipedia.org/wiki/Random_forest#ExtraTrees"
   ]
  },
  {
   "cell_type": "markdown",
   "metadata": {},
   "source": [
    "[[Back to TOC]](#Table-of-Contents)\n",
    "\n",
    "## Random Forest: Classification\n",
    "\n",
    "Having completed the discussion on bootstrap aggregation, and introduced the random forest algorithm, we can now transition to putting this powerful ensemble algorithm to work. The scikit learn library provides a robust implementation of the [random forest] algorithm. This implementation includes the _Bagging estimator's_ hyperparameters that were previously listed, however the default values are in some cases different. The two most important hyperparameters for a random forest are\n",
    "- `n_estimators`, which is the number of decision trees that will be constructed to build the forest, the default value is ten, and \n",
    "- `max_features`, which is the number of features to examine when choosing the best split feature and value. By default this is `auto`, which means the number of features to examine will be set to the square root of the total number of features. Other values can be an integer number of features, a floating point percentage of the total number of features (e.g., 25% of all features randomly selected), the square root of the total number of features, and the base two logarithm of the total number of features.\n",
    "\n",
    "\n",
    "To demonstrate using a random forest with the scikit-learn library, we will first load in the Iris data. With these data, we will construct a simple random forest to demonstrate _feature importance_. Next, we will look at the decision surface for this random forest as applied to the Iris data. After this, we will explore the effect of changing hyperparameters by using multiple decision surfaces. Finally, we will switch to a larger data set to see the impact of a random forest on generating predictions from a more complex data set.\n",
    "\n",
    "----\n",
    "[skdtc]: http://scikit-learn.org/stable/modules/generated/sklearn.ensemble.RandomForestClassifier.html"
   ]
  },
  {
   "cell_type": "markdown",
   "metadata": {},
   "source": [
    "-----\n",
    "\n",
    "[[Back to TOC]](#Table-of-Contents)\n",
    "\n",
    "### Classification:  Iris Data\n",
    "\n",
    "We can now apply the Random Forest algorithm to the Iris data to create a classification model. The basic approach is simple, and follows the standard scikit-learn estimator philosophy:\n",
    "\n",
    "1. Import our estimator, [`RandomForestClassifier`][skrfc], from the proper scikit-learn module, `ensemble`.\n",
    "2. Create the estimator and specify the appropriate hyperparameters. For a random forest, we can accept the defaults, or specify values for specific hyperparameters such as `n_estimators` or `max_features`.\n",
    "3. Fit the model to the training data, note that by using our simple `get_iris_data` helper function we have loaded the Iris data, split the data into training and testing sets, and scaled all data by first normalizing the training data. Although this last step is not required for tree-based ensemble classifiers.\n",
    "4. Predict new classes with our trained model (or in the simple demonstration below, generate a performance metric via the `score` method).\n",
    "\n",
    "These steps are demonstrated in the following code cell, where obtain our data, and show the distribution of instances in a two-dimensional scatter plot, create our estimator, fit the estimator to our training data, and generate a performance score on the testing data. \n",
    "\n",
    "-----\n",
    "[skdtc]: http://scikit-learn.org/stable/modules/generated/sklearn.ensemble.RandomForestClassifier.html"
   ]
  },
  {
   "cell_type": "code",
   "execution_count": 8,
   "metadata": {},
   "outputs": [
    {
     "data": {
      "image/png": "[encoded data removed]",
      "text/plain": [
       "<matplotlib.figure.Figure at 0x7f0ac1bff4a8>"
      ]
     },
     "metadata": {},
     "output_type": "display_data"
    }
   ],
   "source": [
    "from helper_code import iris as hi\n",
    "\n",
    "# Amount to hold out for 'blind' testing\n",
    "test_frac = 0.5\n",
    "\n",
    "# Show the 'Train' and 'Test' data plot.\n",
    "show_plot = True\n",
    "\n",
    "# Split data into training and testing\n",
    "# Note that we have both 'data' and 'labels'\n",
    "d_train_sc, d_test_sc, l_train, l_test = \\\n",
    "    hi.get_iris_data(test_frac, show_plot)"
   ]
  },
  {
   "cell_type": "code",
   "execution_count": 9,
   "metadata": {},
   "outputs": [
    {
     "name": "stdout",
     "output_type": "stream",
     "text": [
      "Random Forest prediction accuracy =  94.7%\n"
     ]
    }
   ],
   "source": [
    "# Next lets try Decision Trees\n",
    "from sklearn.ensemble import RandomForestClassifier\n",
    "\n",
    "# Lets build our model and train it all at once\n",
    "rfc = RandomForestClassifier(n_estimators=10, max_features='auto',\n",
    "                             min_samples_split=2, random_state=0)\n",
    "\n",
    "# Fit estimator to scaled training data\n",
    "rfc = rfc.fit(d_train_sc, l_train)\n",
    "\n",
    "# Compute and display accuracy score\n",
    "score = 100.0 * rfc.score(d_test_sc, l_test)\n",
    "print(f\"Random Forest prediction accuracy = {score:5.1f}%\")"
   ]
  },
  {
   "cell_type": "markdown",
   "metadata": {},
   "source": [
    "-----\n",
    "\n",
    "Notice that, even when using only 50% of the total data for training, our random forest classifier still achieves remarkable accuracy on the testing data. For completeness, we also display the classification report and the confusion matrix in the following two Code cells. The per-class precision and recall are very good, with a minor issue in the prediction of class `Virginica` and `Versicolor`, which is also demonstrated clearly in the confusion matrix.\n",
    "\n",
    "-----"
   ]
  },
  {
   "cell_type": "code",
   "execution_count": 10,
   "metadata": {},
   "outputs": [
    {
     "name": "stdout",
     "output_type": "stream",
     "text": [
      "             precision    recall  f1-score   support\n",
      "\n",
      "     Setosa       1.00      1.00      1.00        27\n",
      " Versicolor       0.95      0.87      0.91        23\n",
      "  Virginica       0.89      0.96      0.92        25\n",
      "\n",
      "avg / total       0.95      0.95      0.95        75\n",
      "\n"
     ]
    }
   ],
   "source": [
    "from sklearn.metrics import classification_report\n",
    "\n",
    "# Thre types of Iris in data set\n",
    "labels = ['Setosa', 'Versicolor', 'Virginica']\n",
    "\n",
    "# Predict on test data and report scores\n",
    "y_pred = rfc.predict(d_test_sc)\n",
    "print(classification_report(l_test, y_pred, \\\n",
    "                            target_names = labels))"
   ]
  },
  {
   "cell_type": "code",
   "execution_count": 11,
   "metadata": {},
   "outputs": [
    {
     "data": {
      "image/png": "[encoded data removed]",
      "text/plain": [
       "<matplotlib.figure.Figure at 0x7f0ac08f55c0>"
      ]
     },
     "metadata": {},
     "output_type": "display_data"
    }
   ],
   "source": [
    "from helper_code import mlplots as ml\n",
    "\n",
    "# Call confusion matrix plotting routine\n",
    "ml.confusion(l_test.reshape(l_test.shape[0]), \n",
    "             y_pred, labels, 3, \n",
    "             'Random Forest Classification')"
   ]
  },
  {
   "cell_type": "markdown",
   "metadata": {},
   "source": [
    "-----\n",
    "\n",
    "[[Back to TOC]](#Table-of-Contents)\n",
    "\n",
    "### Random Forest:  Feature Importance\n",
    "\n",
    "As the previous example demonstrated, the random forest is easy to use and often provides impressive results. In addition, by its very nature, a random forest provides an implicit measure of the importance of the individual features in generating the final predictions. While an individual decision tree provides this information, the random forest provides an aggregated result, that is generally more insightful and less sensitive to fluctuations in the training data that might bias the importance values determined by a decision tree. In the calculation of feature importance from a random forest, higher values indicate a more important feature. \n",
    "\n",
    "We demonstrate how to extract the feature importance for a random forest classifier in the following Code cell, where we see that for this training data set only two features: Petal Width and Petal Length, account for most of the importance. However, unlike for the decision tree example, the other two features have non-negligible importance.\n",
    "\n",
    "----"
   ]
  },
  {
   "cell_type": "code",
   "execution_count": 12,
   "metadata": {},
   "outputs": [
    {
     "name": "stdout",
     "output_type": "stream",
     "text": [
      "Sepal Length importance = 10.23%\n",
      "Sepal Width importance =  5.20%\n",
      "Petal Length importance = 41.74%\n",
      "Petal Width importance = 42.83%\n"
     ]
    }
   ],
   "source": [
    "# Display feature importance as computed from the random forest\n",
    "\n",
    "# Feature names\n",
    "feature_names = ['Sepal Length', 'Sepal Width', \n",
    "                 'Petal Length', 'Petal Width']\n",
    "\n",
    "# Display name and importance\n",
    "for name, val in zip(feature_names, rfc.feature_importances_):\n",
    "    print(f'{name} importance = {100.0*val:5.2f}%')"
   ]
  },
  {
   "cell_type": "markdown",
   "metadata": {},
   "source": [
    "-----\n",
    "\n",
    "[[Back to TOC]](#Table-of-Contents)\n",
    "\n",
    "### Random Forest:  Decision Surface\n",
    "\n",
    "To better understand how a classification algorithm performs on a given data set, and to compare multiple classifiers, we can train a classifier and use this estimator to predict values on a grid of values. In this case, we can see how the algorithm would classify data that span a particular combination of feature values. This visualization, in two dimensions, is known as a decision surface since we are seeing how decisions would be made. \n",
    "\n",
    "We demonstrate constructing a decision surface in the following Code cell by using several helper methods. First, we need to reduce our data set down to two dimensions to make the decision surface visualization. This step is accomplished by the `trim_data` helper function, which takes our training features and labels and returns a two dimensional array that holds two features: Sepal Width and Petal Width, along with the classification. Next, we generate a two-dimensional mesh grid along these two dimensions. \n",
    "\n",
    "We apply a random forest tree to the trimmed two-dimensional data (we could fit on the full data, but in this example we use only the two dimensions used in the plot), and apply to the mesh grid to construct the decision surface. Finally, we generate a scatter plot of the training data and color the underlying mesh appropriately by the predicted class for that cell.\n",
    "\n",
    "As the decision surface below demonstrates, this default random forest separates the classes cleanly with linear cuts (which, combined together, produce non-linear classification boundaries) . On the other hand, even though each split generates a linear classification, their combination can be non-linear (note the rectangle cut-out enclosing the single instance of _versicolor_).\n",
    "\n",
    "-----"
   ]
  },
  {
   "cell_type": "code",
   "execution_count": 13,
   "metadata": {},
   "outputs": [
    {
     "data": {
      "image/png": "[encoded data removed]",
      "text/plain": [
       "<matplotlib.figure.Figure at 0x7f0ac090be10>"
      ]
     },
     "metadata": {},
     "output_type": "display_data"
    }
   ],
   "source": [
    "# Make a two-dimensional Iris data set\n",
    "n_data = hi.trim_data(d_train_sc, l_train)\n",
    "\n",
    "# Construct mesh grid data\n",
    "mdata = hi.get_mdata(n_data)\n",
    "\n",
    "fig, ax = plt.subplots(figsize=(10,8))\n",
    "\n",
    "# Now train our model\n",
    "rfc.fit(n_data[:,:2], n_data[:,2])\n",
    "    \n",
    "# Predict for mesh grid\n",
    "z = rfc.predict(mdata)\n",
    "    \n",
    "# Plot training data and mesh grid\n",
    "hi.splot_data(ax, n_data, mdata, z,\n",
    "              'Sepal Width', 'Petal Width', 50)\n",
    "    \n",
    "ax.set_title(f'Random Forest') ;"
   ]
  },
  {
   "cell_type": "markdown",
   "metadata": {},
   "source": [
    "-----\n",
    "\n",
    "[[Back to TOC]](#Table-of-Contents)\n",
    "\n",
    "### Random Forest: Hyperparameters\n",
    "\n",
    "Earlier in this notebook, we presented a partial list of the hyperparameters that are available to use with the [RandomForestClassifier][skrfc] were presented, the full set is available from the estimator's online documentation. Of these hyperparameters, the effect of some are easier to understand, such as the `n_estimators`, which controls how many decision trees are constructed to make the random forest. To fully understand the impact of a hyperparameter, beyond simply computing the performance metrics for different values, we can construct and compare decisions surfaces for different values of a particular hyperparameter.\n",
    "\n",
    "In the following Code call, we generate three different decision surfaces, corresponding to three different values of the `n_estimators` hyperparameter: 5, 10, and 15. As the following figures demonstrate, the first decision surface is rather simple, and captures most of the test data. The second decision surface is more complex, and the final figure is even more complex. Note that in this case the decision tree is only splitting on these two features. \n",
    "\n",
    "----\n",
    "\n",
    "[skdtc]: http://scikit-learn.org/stable/modules/generated/sklearn.ensemble.RandomForestClassifier.html"
   ]
  },
  {
   "cell_type": "code",
   "execution_count": 14,
   "metadata": {},
   "outputs": [
    {
     "data": {
      "image/png": "[encoded data removed]",
      "text/plain": [
       "<matplotlib.figure.Figure at 0x7f0abced9630>"
      ]
     },
     "metadata": {},
     "output_type": "display_data"
    }
   ],
   "source": [
    "# List of our hyperparameter values\n",
    "num_estimators = [5, 10, 15]\n",
    "\n",
    "# Show the mesh grid and training data\n",
    "\n",
    "fig, axs = plt.subplots(figsize=(10,6 * len(num_estimators)), \n",
    "                        nrows=len(num_estimators), ncols=1, \n",
    "                        sharex=False)\n",
    "\n",
    "# Iterate through different neighbor counts\n",
    "for idx, num in enumerate(num_estimators):\n",
    "    \n",
    "    # Now set model hyperparameter\n",
    "    rfc.set_params(n_estimators=num, random_state=23)\n",
    "    \n",
    "    # Now train our model\n",
    "    rfc.fit(n_data[:,:2], n_data[:,2])\n",
    "    \n",
    "    # Predict for mesh grid\n",
    "    z = rfc.predict(mdata)\n",
    "    \n",
    "    # Plot training data and mesh grid\n",
    "    hi.splot_data(axs[idx], n_data, mdata, z, \n",
    "                  'Sepal Width', 'Petal Width', 50)\n",
    "    \n",
    "    axs[idx].set_title(f'RF Classifier (Number of Estimators={num})')"
   ]
  },
  {
   "cell_type": "markdown",
   "metadata": {},
   "source": [
    "-----\n",
    "\n",
    "<font color='red' size = '5'> Student Exercise </font>\n",
    "\n",
    "In the previous Code cell, we generated decision surfaces for three different values of the `n_estimators` hyperparameter. In the previous Code cell, try making the following changes and think about what you can learn from the new decision surfaces. \n",
    "\n",
    "2. Change the values of `n_estimators` to larger values.\n",
    "3. Try using a different hyperparameter, such as changing the `max_features` to indicate how many features should be used in the splitting process, or  the `max_depth` or `min_samples_split`.\n",
    "\n",
    "-----"
   ]
  },
  {
   "cell_type": "markdown",
   "metadata": {},
   "source": [
    "[[Back to TOC]](#Table-of-Contents)\n",
    "\n",
    "## Classification: Adult Data\n",
    "\n",
    "We now turn to a more complex data set with which to perform classification by using a random forest. The data we will explore next is the [Adult income prediction task][uciad]. These data were documented in the _Introduction to Decision Trees_ notebook, here we simply provide a summary. These data were collected by Barry Becker from the 1994 Census database and consist of a number of categorical and numerical features. The last column, salary is discrete and contains one of two strings to indicate if the salary was below or above $50,000. This is the column we will use as our predictive label, which is thus a binary classification task: high or low salary.\n",
    "\n",
    "In the following two Code cells, we first build a full path and file name for where this data will be stored locally. Next, we check to see if the data is already available locally, and if not, we use the `wget` command to pull the data from the UCI machine learning repository for local analysis. Note that we could simply pull the data from the UCI repository directly by specifying the URL (or web address) for the data in the pandas DataFrame `csvreader` method. However, doing so would be problematic in a course setting where many students might be repeatedly downloading the same data set. \n",
    "\n",
    "Note that these two Code cells will be used repeatedly in future notebooks, which will allow these data to be downloaded once and reused many times in this course. We will also use similar code cells to download other data, from this repository or other sites.\n",
    "\n",
    "-----\n",
    "[uciad]: https://archive.ics.uci.edu/ml/datasets/Adult"
   ]
  },
  {
   "cell_type": "code",
   "execution_count": 15,
   "metadata": {
    "collapsed": true
   },
   "outputs": [],
   "source": [
    "# Adult data file from UCI ML Repository\n",
    "# http://archive.ics.uci.edu/ml/machine-learning-databases/adult/\n",
    "\n",
    "# First we find our directory\n",
    "tmp = !echo $HOME\n",
    "\n",
    "# Second we construct the full path, below our \n",
    "# HOME directory to file location\n",
    "data_file=tmp[0] + '/data/adult.data'"
   ]
  },
  {
   "cell_type": "code",
   "execution_count": 16,
   "metadata": {},
   "outputs": [
    {
     "name": "stdout",
     "output_type": "stream",
     "text": [
      "File already exists locally.\n"
     ]
    }
   ],
   "source": [
    "%%bash -s \"$data_file\"\n",
    "\n",
    "# Note, we passed in a Python variable above to the Bash script \n",
    "# which is then accessed via positional parameter, or $1 in this case.\n",
    "\n",
    "# First test if file of interest does not exist\n",
    "if [ ! -f \"$1\" ] ; then\n",
    "\n",
    "# If it does not exist, we grab the file from the Internet and\n",
    "# store it locally in the data directory\n",
    "\n",
    "wget -O \"$1\" http://archive.ics.uci.edu/ml/machine-learning-databases/adult/adult.data\n",
    "\n",
    "else\n",
    "    \n",
    "    echo \"File already exists locally.\"\n",
    "fi"
   ]
  },
  {
   "cell_type": "markdown",
   "metadata": {},
   "source": [
    "-----\n",
    "\n",
    "Now that the _adult data_ has been stored locally, we can process these data. In this notebook, we perform all steps in one Code cell. The _Introduction to Decision Trees_ notebook presented a full exploration of these data, including descriptions of how to create the target label and the features. Below we combine all of these steps into one Code cell, where we first read the data into a DataFrame, extract the label column and the feature columns. At the end, we randomly sample five instances to demonstrate our feature array has been successfully created.\n",
    "\n",
    "-----"
   ]
  },
  {
   "cell_type": "code",
   "execution_count": 17,
   "metadata": {},
   "outputs": [
    {
     "data": {
      "text/html": [
       "<div>\n",
       "<table border=\"1\" class=\"dataframe\">\n",
       "  <thead>\n",
       "    <tr style=\"text-align: right;\">\n",
       "      <th></th>\n",
       "      <th>Age</th>\n",
       "      <th>EducationLevel</th>\n",
       "      <th>HoursPerWeek</th>\n",
       "      <th>CapitalGain</th>\n",
       "      <th>CapitalLoss</th>\n",
       "      <th>Education_ 10th</th>\n",
       "      <th>Education_ 11th</th>\n",
       "      <th>Education_ 12th</th>\n",
       "      <th>Education_ 1st-4th</th>\n",
       "      <th>Education_ 5th-6th</th>\n",
       "      <th>...</th>\n",
       "      <th>NativeCountry_ Portugal</th>\n",
       "      <th>NativeCountry_ Puerto-Rico</th>\n",
       "      <th>NativeCountry_ Scotland</th>\n",
       "      <th>NativeCountry_ South</th>\n",
       "      <th>NativeCountry_ Taiwan</th>\n",
       "      <th>NativeCountry_ Thailand</th>\n",
       "      <th>NativeCountry_ Trinadad&amp;Tobago</th>\n",
       "      <th>NativeCountry_ United-States</th>\n",
       "      <th>NativeCountry_ Vietnam</th>\n",
       "      <th>NativeCountry_ Yugoslavia</th>\n",
       "    </tr>\n",
       "  </thead>\n",
       "  <tbody>\n",
       "    <tr>\n",
       "      <th>8650</th>\n",
       "      <td>36</td>\n",
       "      <td>11</td>\n",
       "      <td>40</td>\n",
       "      <td>0</td>\n",
       "      <td>0</td>\n",
       "      <td>0</td>\n",
       "      <td>0</td>\n",
       "      <td>0</td>\n",
       "      <td>0</td>\n",
       "      <td>0</td>\n",
       "      <td>...</td>\n",
       "      <td>0</td>\n",
       "      <td>0</td>\n",
       "      <td>0</td>\n",
       "      <td>0</td>\n",
       "      <td>0</td>\n",
       "      <td>0</td>\n",
       "      <td>0</td>\n",
       "      <td>1</td>\n",
       "      <td>0</td>\n",
       "      <td>0</td>\n",
       "    </tr>\n",
       "    <tr>\n",
       "      <th>28359</th>\n",
       "      <td>53</td>\n",
       "      <td>9</td>\n",
       "      <td>40</td>\n",
       "      <td>0</td>\n",
       "      <td>0</td>\n",
       "      <td>0</td>\n",
       "      <td>0</td>\n",
       "      <td>0</td>\n",
       "      <td>0</td>\n",
       "      <td>0</td>\n",
       "      <td>...</td>\n",
       "      <td>0</td>\n",
       "      <td>0</td>\n",
       "      <td>0</td>\n",
       "      <td>0</td>\n",
       "      <td>0</td>\n",
       "      <td>0</td>\n",
       "      <td>0</td>\n",
       "      <td>1</td>\n",
       "      <td>0</td>\n",
       "      <td>0</td>\n",
       "    </tr>\n",
       "    <tr>\n",
       "      <th>19678</th>\n",
       "      <td>41</td>\n",
       "      <td>10</td>\n",
       "      <td>38</td>\n",
       "      <td>0</td>\n",
       "      <td>0</td>\n",
       "      <td>0</td>\n",
       "      <td>0</td>\n",
       "      <td>0</td>\n",
       "      <td>0</td>\n",
       "      <td>0</td>\n",
       "      <td>...</td>\n",
       "      <td>0</td>\n",
       "      <td>0</td>\n",
       "      <td>0</td>\n",
       "      <td>0</td>\n",
       "      <td>0</td>\n",
       "      <td>0</td>\n",
       "      <td>0</td>\n",
       "      <td>1</td>\n",
       "      <td>0</td>\n",
       "      <td>0</td>\n",
       "    </tr>\n",
       "    <tr>\n",
       "      <th>23877</th>\n",
       "      <td>51</td>\n",
       "      <td>10</td>\n",
       "      <td>40</td>\n",
       "      <td>0</td>\n",
       "      <td>0</td>\n",
       "      <td>0</td>\n",
       "      <td>0</td>\n",
       "      <td>0</td>\n",
       "      <td>0</td>\n",
       "      <td>0</td>\n",
       "      <td>...</td>\n",
       "      <td>0</td>\n",
       "      <td>0</td>\n",
       "      <td>0</td>\n",
       "      <td>0</td>\n",
       "      <td>0</td>\n",
       "      <td>0</td>\n",
       "      <td>0</td>\n",
       "      <td>1</td>\n",
       "      <td>0</td>\n",
       "      <td>0</td>\n",
       "    </tr>\n",
       "    <tr>\n",
       "      <th>7430</th>\n",
       "      <td>56</td>\n",
       "      <td>6</td>\n",
       "      <td>40</td>\n",
       "      <td>0</td>\n",
       "      <td>0</td>\n",
       "      <td>1</td>\n",
       "      <td>0</td>\n",
       "      <td>0</td>\n",
       "      <td>0</td>\n",
       "      <td>0</td>\n",
       "      <td>...</td>\n",
       "      <td>0</td>\n",
       "      <td>0</td>\n",
       "      <td>0</td>\n",
       "      <td>0</td>\n",
       "      <td>0</td>\n",
       "      <td>0</td>\n",
       "      <td>0</td>\n",
       "      <td>1</td>\n",
       "      <td>0</td>\n",
       "      <td>0</td>\n",
       "    </tr>\n",
       "  </tbody>\n",
       "</table>\n",
       "<p>5 rows × 100 columns</p>\n",
       "</div>"
      ],
      "text/plain": [
       "       Age  EducationLevel  HoursPerWeek  CapitalGain  CapitalLoss  \\\n",
       "8650    36              11            40            0            0   \n",
       "28359   53               9            40            0            0   \n",
       "19678   41              10            38            0            0   \n",
       "23877   51              10            40            0            0   \n",
       "7430    56               6            40            0            0   \n",
       "\n",
       "       Education_ 10th  Education_ 11th  Education_ 12th  Education_ 1st-4th  \\\n",
       "8650                 0                0                0                   0   \n",
       "28359                0                0                0                   0   \n",
       "19678                0                0                0                   0   \n",
       "23877                0                0                0                   0   \n",
       "7430                 1                0                0                   0   \n",
       "\n",
       "       Education_ 5th-6th            ...              NativeCountry_ Portugal  \\\n",
       "8650                    0            ...                                    0   \n",
       "28359                   0            ...                                    0   \n",
       "19678                   0            ...                                    0   \n",
       "23877                   0            ...                                    0   \n",
       "7430                    0            ...                                    0   \n",
       "\n",
       "       NativeCountry_ Puerto-Rico  NativeCountry_ Scotland  \\\n",
       "8650                            0                        0   \n",
       "28359                           0                        0   \n",
       "19678                           0                        0   \n",
       "23877                           0                        0   \n",
       "7430                            0                        0   \n",
       "\n",
       "       NativeCountry_ South  NativeCountry_ Taiwan  NativeCountry_ Thailand  \\\n",
       "8650                      0                      0                        0   \n",
       "28359                     0                      0                        0   \n",
       "19678                     0                      0                        0   \n",
       "23877                     0                      0                        0   \n",
       "7430                      0                      0                        0   \n",
       "\n",
       "       NativeCountry_ Trinadad&Tobago  NativeCountry_ United-States  \\\n",
       "8650                                0                             1   \n",
       "28359                               0                             1   \n",
       "19678                               0                             1   \n",
       "23877                               0                             1   \n",
       "7430                                0                             1   \n",
       "\n",
       "       NativeCountry_ Vietnam  NativeCountry_ Yugoslavia  \n",
       "8650                        0                          0  \n",
       "28359                       0                          0  \n",
       "19678                       0                          0  \n",
       "23877                       0                          0  \n",
       "7430                        0                          0  \n",
       "\n",
       "[5 rows x 100 columns]"
      ]
     },
     "execution_count": 17,
     "metadata": {},
     "output_type": "execute_result"
    }
   ],
   "source": [
    "# Adult data archived at UCI ML Repository\n",
    "col_names = ['Age', 'Workclass', 'FNLWGT', 'Education', \n",
    "             'EducationLevel', 'MaritalStatus', 'Occupation', \n",
    "             'Relationship', 'Race', 'Sex', 'CapitalGain', 'CapitalLoss', \n",
    "             'HoursPerWeek', 'NativeCountry', 'Salary']\n",
    "\n",
    "# Read CSV data into DataFrame\n",
    "adult_data = pd.read_csv(data_file, index_col=False, names = col_names)\n",
    "\n",
    "# Create label column, one for >50K, zero otherwise.\n",
    "adult_data['Label'] = adult_data['Salary'].map(lambda x : 1 if '>50K' in x else 0)\n",
    "\n",
    "# Now we can drop the original column\n",
    "adult_data = adult_data.drop('Salary', axis=1)\n",
    "\n",
    "# Generate categorical features\n",
    "categorical = ['Education', 'Workclass', 'Race', 'Sex', \n",
    "               'Occupation', 'Relationship', 'NativeCountry']\n",
    "cat_data = pd.get_dummies(adult_data[categorical])\n",
    "\n",
    "# Extract numerical features\n",
    "numerical = ['Age', 'EducationLevel', 'HoursPerWeek', \n",
    "             'CapitalGain', 'CapitalLoss']\n",
    "num_data = adult_data[numerical]\n",
    "\n",
    "# Combine categorical and numerical data into features\n",
    "features = pd.concat([num_data, cat_data], axis=1)\n",
    "features.sample(5)"
   ]
  },
  {
   "cell_type": "markdown",
   "metadata": {},
   "source": [
    "-----\n",
    "\n",
    "We can now compute the _zero model_, where we simply classify the data by always predicting the majority class. In general this is a bad idea, since the model provides no predictive power or insights into the data. However, it does set a useful baseline for how well an algorithm should perform in order to be useful in practice. Any model that performs worse or similar to the _zero model_ should probably be discarded (or be subject to hyperparameter tuning to improve the performance). Instead we will want to perform better than this value. In this case, our zero model performs at approximately a 75% classification accuracy. This indicates that our data set is unbalanced since we have roughly three lower salary instances to every higher salary instance.\n",
    "\n",
    "-----"
   ]
  },
  {
   "cell_type": "code",
   "execution_count": 18,
   "metadata": {},
   "outputs": [
    {
     "name": "stdout",
     "output_type": "stream",
     "text": [
      "24720 low salaries\n",
      "7841 high salaries\n",
      "Zero Model Performance = 75.92%\n"
     ]
    }
   ],
   "source": [
    "labels = adult_data['Label']\n",
    "print(f'{np.sum(labels==0):d} low salaries')\n",
    "print(f'{np.sum(labels==1):d} high salaries')\n",
    "\n",
    "zm = float(np.sum(labels==0)) / (np.sum(labels==0) + np.sum(labels==1))\n",
    "\n",
    "print(f'Zero Model Performance = {100.0 * zm:4.2f}%')"
   ]
  },
  {
   "cell_type": "markdown",
   "metadata": {},
   "source": [
    "-----\n",
    "\n",
    "With our feature and label data prepared, we are now ready to begin the machine learning process. In the following two Code cells we first create our random forest classifier, and then measure its performance on our training data. In the first Code cell, we start by splitting our data into training and testing samples. Since we have over 30,000 instances in our data set, we adopt a 50%:50% split. Next, we create the `RandomForestClassifier` estimator. The only hyperparameter that we specify at this time is  `random_state` in order to ensure reproducibility. Next, we fit this estimator to our training data, and generate an accuracy score on our test data. \n",
    "\n",
    "In the second Code cell, we compute and display a simple accuracy score before generating and displaying the full classification report. Note that even with this simple approach our random forest classifier performs well, easily beating the zero model demonstrated earlier. In addition, the report indicates that our model performs worst in predicting the positive class, this is often the case with unbalanced data. \n",
    "\n",
    "Specifically, the recall indicates that we incorrectly label positive targets as negative. This means that our classifier incorrectly labels individuals who do earn a high salary as being in the low salary category. This could prove problematic, for example, if we are seeking to target high wage earners in a marketing campaign. One technique to mitigate this problem would be to use the `class_weight` hyperparameter to improve the performance of the algorithm on unbalanced data.\n",
    "\n",
    "\n",
    "----"
   ]
  },
  {
   "cell_type": "code",
   "execution_count": 19,
   "metadata": {
    "collapsed": true
   },
   "outputs": [],
   "source": [
    "from sklearn.model_selection import train_test_split\n",
    "\n",
    "frac = 0.5\n",
    "d_train, d_test, l_train, l_test = \\\n",
    "    train_test_split(features, labels,\n",
    "                     test_size=frac, random_state=23)\n",
    "\n",
    "adult_model = RandomForestClassifier(random_state=23)\n",
    "\n",
    "adult_model = adult_model.fit(d_train, l_train)"
   ]
  },
  {
   "cell_type": "code",
   "execution_count": 20,
   "metadata": {},
   "outputs": [
    {
     "name": "stdout",
     "output_type": "stream",
     "text": [
      "Decision Tree Classification [Adult Data] Score = 84.3%\n",
      "\n",
      "Classification Report:\n",
      "              precision    recall  f1-score   support\n",
      "\n",
      "          0       0.88      0.92      0.90     12298\n",
      "          1       0.71      0.60      0.65      3983\n",
      "\n",
      "avg / total       0.84      0.84      0.84     16281\n",
      "\n",
      "\n"
     ]
    }
   ],
   "source": [
    "from sklearn import metrics\n",
    "\n",
    "# Classify test data and display score and report\n",
    "predicted = adult_model.predict(d_test)\n",
    "score = 100.0 * metrics.accuracy_score(l_test, predicted)\n",
    "print(f'Decision Tree Classification [Adult Data] Score = {score:4.1f}%\\n')\n",
    "print('Classification Report:\\n {0}\\n'.format(\n",
    "    metrics.classification_report(l_test, predicted)))"
   ]
  },
  {
   "cell_type": "markdown",
   "metadata": {},
   "source": [
    "-----\n",
    "\n",
    "<font color='red' size = '5'> Student Exercise </font>\n",
    "\n",
    "In the previous Code cells, we constructed a random forest for classification and applied it to the adult income prediction task. The initial result was reasonable, but try making the following changes to see if you can do better.\n",
    "\n",
    "2. Change the features used in the classification, for example drop one or more columns, such as native country. Do the results change? \n",
    "3. Try using different hyperparameter values, such as specifying the number of estimators to use (via the `n_estimators` hyperparameter) or try using a different split technique via the  `criterion` hyperparameter.\n",
    "4. Try setting the `class_weight` hyperparameter to `balanced_subsample` to aid in dealing with the unbalanced training data at the bootstrap level.\n",
    "\n",
    "-----"
   ]
  },
  {
   "cell_type": "markdown",
   "metadata": {},
   "source": [
    "\n",
    "[[Back to TOC]](#Table-of-Contents)\n",
    "\n",
    "## Random Forrest: Regression\n",
    "\n",
    "A random forest can also be used to perform regression; however, in this case the goal is  to create tress whose leaf nodes contain data that are nearby in the overall feature space. To make a predict a continuous value from a tree we either have leaf nodes with only one feature, and use the relevant feature from that instance as our predictor, or we compute summary statistics from the instances in the appropriate leaf node, such as the mean or mode. In the end, the random forest aggregates the indivudla tree regreession predictions into a final prediction.\n",
    "\n",
    "To perform regression with the scikit-learn library we employ the [`RandomForestRegressor`][skrfr] estimator in the tree module. This estimator employs the same set of hyperparameters as the `RandomForestClassifier` estimator, and is, therefore, used in a similar manner. One point, which was also true for classification, by specifying the `random_state` hyperparameter, we ensure reproducibility. This is because every time a tree is constructed, the features are randomly selected. Thus, even if we use the same set of hyperparameters and the same set of training data, we can end up with different trees, and thus a different forest, if the `random_state` hyperparameter is not fixed.\n",
    "\n",
    "In this section we employ a random forest to perform regression on the automotive fuel performance prediction, these data were fully described in the _Introduction to Decision Trees_ notebook. First, we will introduce these data, and prepare them for the regression task. We will employ the patsy module to use a regression formula to create our dependent and independent feature matrices. Finally, we will construct a decision tree regressor on these data and evaluate its performance.\n",
    "\n",
    "\n",
    "-----\n",
    "\n",
    "[skrfr]: http://scikit-learn.org/stable/modules/generated/sklearn.ensemble.RandomForestRegressor.html"
   ]
  },
  {
   "cell_type": "markdown",
   "metadata": {},
   "source": [
    "-----\n",
    "\n",
    "[[Back to TOC]](#Table-of-Contents)\n",
    "\n",
    "### Regression: Auto MPG Data\n",
    "\n",
    "The [automobile fuel performance prediction data][uciap] were collated by Ross Quinlan and released in 1993. The data contains nine features: mpg, cylinders, displacement, horsepower, weight, acceleration, model year, origin, and car name. Of these, the first is generally treated as the dependent variable (i.e., we wish to predict the fuel efficiency of the cars), while the next seven features are generally used as the independent variables. The last feature is a string that unlikely to be useful when predicting on new, unseen data; and is, therefore, not included in our analysis.\n",
    "\n",
    "Of these features, three are discrete: cylinders, year, and origin; and four are continuous: displacement, horsepower, weight, and acceleration. A careful examination of these data indicate that horsepower has missing values, encoded as the string `?`. This causes Pandas to treat this entire column as a string, and the patsy module will, therefore, turn the column into a categorical feature. As a result, we will drop this column in our subsequent analysis; an alternative would be to drop or impute the missing values and include this column as a numerical feature.\n",
    "\n",
    "In the first two Code cells, we first construct the local path and file name for this data, before checking to see if this data file exists locally. If not, we use the `wget` command to pull the data from the UCI ML repository.\n",
    "\n",
    "----\n",
    "[uciap]: https://archive.ics.uci.edu/ml/datasets/auto+mpg"
   ]
  },
  {
   "cell_type": "code",
   "execution_count": 21,
   "metadata": {
    "collapsed": true
   },
   "outputs": [],
   "source": [
    "# Auto MPG data file from UCI ML Repository\n",
    "# https://archive.ics.uci.edu/ml/machine-learning-databases/auto-mpg/\n",
    "\n",
    "# Second we construct the full path, below our \n",
    "# HOME directory to file location\n",
    "data_file=tmp[0] + '/data/auto-mpg.data'"
   ]
  },
  {
   "cell_type": "code",
   "execution_count": 22,
   "metadata": {},
   "outputs": [
    {
     "name": "stdout",
     "output_type": "stream",
     "text": [
      "File already exists locally.\n"
     ]
    }
   ],
   "source": [
    "%%bash -s \"$data_file\"\n",
    "\n",
    "# Note, we passed in a Python variable above to the Bash script \n",
    "# which is then accessed via positional parameter, or $1 in this case.\n",
    "\n",
    "# First test if file of interest does not exist\n",
    "if [ ! -f \"$1\" ] ; then\n",
    "\n",
    "# If it does not exist, we grab the file from the Internet and\n",
    "# store it locally in the data directory\n",
    "\n",
    "wget -O \"$1\" https://archive.ics.uci.edu/ml/machine-learning-databases/auto-mpg/auto-mpg.data\n",
    "\n",
    "else\n",
    "    \n",
    "    echo \"File already exists locally.\"\n",
    "fi"
   ]
  },
  {
   "cell_type": "markdown",
   "metadata": {},
   "source": [
    "-----\n",
    "\n",
    "Now that the data are stored locally, we can read them into a DataFrame, using our provided column names and indicating that the features are delimited by whitespace. After this, we generate our independent and dependent arrays. A full analysis of these data is presented in the _Introduction to Decision Trees_ notebook. In the following Code cell, we simply generate the needed arrays, before randomly sampling five rows to demonstrate that this process completed successfully.\n",
    "\n",
    "-----"
   ]
  },
  {
   "cell_type": "code",
   "execution_count": 23,
   "metadata": {},
   "outputs": [
    {
     "data": {
      "text/html": [
       "<div>\n",
       "<table border=\"1\" class=\"dataframe\">\n",
       "  <thead>\n",
       "    <tr style=\"text-align: right;\">\n",
       "      <th></th>\n",
       "      <th>Intercept</th>\n",
       "      <th>C(Cylinders)[T.4]</th>\n",
       "      <th>C(Cylinders)[T.5]</th>\n",
       "      <th>C(Cylinders)[T.6]</th>\n",
       "      <th>C(Cylinders)[T.8]</th>\n",
       "      <th>C(Year)[T.71]</th>\n",
       "      <th>C(Year)[T.72]</th>\n",
       "      <th>C(Year)[T.73]</th>\n",
       "      <th>C(Year)[T.74]</th>\n",
       "      <th>C(Year)[T.75]</th>\n",
       "      <th>...</th>\n",
       "      <th>C(Year)[T.78]</th>\n",
       "      <th>C(Year)[T.79]</th>\n",
       "      <th>C(Year)[T.80]</th>\n",
       "      <th>C(Year)[T.81]</th>\n",
       "      <th>C(Year)[T.82]</th>\n",
       "      <th>C(Origin)[T.2]</th>\n",
       "      <th>C(Origin)[T.3]</th>\n",
       "      <th>Displacement</th>\n",
       "      <th>Weight</th>\n",
       "      <th>Acceleration</th>\n",
       "    </tr>\n",
       "  </thead>\n",
       "  <tbody>\n",
       "    <tr>\n",
       "      <th>123</th>\n",
       "      <td>1.0</td>\n",
       "      <td>0.0</td>\n",
       "      <td>0.0</td>\n",
       "      <td>1.0</td>\n",
       "      <td>0.0</td>\n",
       "      <td>0.0</td>\n",
       "      <td>0.0</td>\n",
       "      <td>1.0</td>\n",
       "      <td>0.0</td>\n",
       "      <td>0.0</td>\n",
       "      <td>...</td>\n",
       "      <td>0.0</td>\n",
       "      <td>0.0</td>\n",
       "      <td>0.0</td>\n",
       "      <td>0.0</td>\n",
       "      <td>0.0</td>\n",
       "      <td>0.0</td>\n",
       "      <td>1.0</td>\n",
       "      <td>156.0</td>\n",
       "      <td>2807.0</td>\n",
       "      <td>13.5</td>\n",
       "    </tr>\n",
       "    <tr>\n",
       "      <th>266</th>\n",
       "      <td>1.0</td>\n",
       "      <td>1.0</td>\n",
       "      <td>0.0</td>\n",
       "      <td>0.0</td>\n",
       "      <td>0.0</td>\n",
       "      <td>0.0</td>\n",
       "      <td>0.0</td>\n",
       "      <td>0.0</td>\n",
       "      <td>0.0</td>\n",
       "      <td>0.0</td>\n",
       "      <td>...</td>\n",
       "      <td>1.0</td>\n",
       "      <td>0.0</td>\n",
       "      <td>0.0</td>\n",
       "      <td>0.0</td>\n",
       "      <td>0.0</td>\n",
       "      <td>0.0</td>\n",
       "      <td>0.0</td>\n",
       "      <td>98.0</td>\n",
       "      <td>2155.0</td>\n",
       "      <td>16.5</td>\n",
       "    </tr>\n",
       "    <tr>\n",
       "      <th>161</th>\n",
       "      <td>1.0</td>\n",
       "      <td>0.0</td>\n",
       "      <td>0.0</td>\n",
       "      <td>1.0</td>\n",
       "      <td>0.0</td>\n",
       "      <td>0.0</td>\n",
       "      <td>0.0</td>\n",
       "      <td>0.0</td>\n",
       "      <td>0.0</td>\n",
       "      <td>1.0</td>\n",
       "      <td>...</td>\n",
       "      <td>0.0</td>\n",
       "      <td>0.0</td>\n",
       "      <td>0.0</td>\n",
       "      <td>0.0</td>\n",
       "      <td>0.0</td>\n",
       "      <td>0.0</td>\n",
       "      <td>0.0</td>\n",
       "      <td>250.0</td>\n",
       "      <td>3897.0</td>\n",
       "      <td>18.5</td>\n",
       "    </tr>\n",
       "    <tr>\n",
       "      <th>286</th>\n",
       "      <td>1.0</td>\n",
       "      <td>0.0</td>\n",
       "      <td>0.0</td>\n",
       "      <td>0.0</td>\n",
       "      <td>1.0</td>\n",
       "      <td>0.0</td>\n",
       "      <td>0.0</td>\n",
       "      <td>0.0</td>\n",
       "      <td>0.0</td>\n",
       "      <td>0.0</td>\n",
       "      <td>...</td>\n",
       "      <td>0.0</td>\n",
       "      <td>1.0</td>\n",
       "      <td>0.0</td>\n",
       "      <td>0.0</td>\n",
       "      <td>0.0</td>\n",
       "      <td>0.0</td>\n",
       "      <td>0.0</td>\n",
       "      <td>302.0</td>\n",
       "      <td>3725.0</td>\n",
       "      <td>13.4</td>\n",
       "    </tr>\n",
       "    <tr>\n",
       "      <th>315</th>\n",
       "      <td>1.0</td>\n",
       "      <td>1.0</td>\n",
       "      <td>0.0</td>\n",
       "      <td>0.0</td>\n",
       "      <td>0.0</td>\n",
       "      <td>0.0</td>\n",
       "      <td>0.0</td>\n",
       "      <td>0.0</td>\n",
       "      <td>0.0</td>\n",
       "      <td>0.0</td>\n",
       "      <td>...</td>\n",
       "      <td>0.0</td>\n",
       "      <td>0.0</td>\n",
       "      <td>1.0</td>\n",
       "      <td>0.0</td>\n",
       "      <td>0.0</td>\n",
       "      <td>0.0</td>\n",
       "      <td>0.0</td>\n",
       "      <td>151.0</td>\n",
       "      <td>3003.0</td>\n",
       "      <td>20.1</td>\n",
       "    </tr>\n",
       "  </tbody>\n",
       "</table>\n",
       "<p>5 rows × 22 columns</p>\n",
       "</div>"
      ],
      "text/plain": [
       "     Intercept  C(Cylinders)[T.4]  C(Cylinders)[T.5]  C(Cylinders)[T.6]  \\\n",
       "123        1.0                0.0                0.0                1.0   \n",
       "266        1.0                1.0                0.0                0.0   \n",
       "161        1.0                0.0                0.0                1.0   \n",
       "286        1.0                0.0                0.0                0.0   \n",
       "315        1.0                1.0                0.0                0.0   \n",
       "\n",
       "     C(Cylinders)[T.8]  C(Year)[T.71]  C(Year)[T.72]  C(Year)[T.73]  \\\n",
       "123                0.0            0.0            0.0            1.0   \n",
       "266                0.0            0.0            0.0            0.0   \n",
       "161                0.0            0.0            0.0            0.0   \n",
       "286                1.0            0.0            0.0            0.0   \n",
       "315                0.0            0.0            0.0            0.0   \n",
       "\n",
       "     C(Year)[T.74]  C(Year)[T.75]      ...       C(Year)[T.78]  C(Year)[T.79]  \\\n",
       "123            0.0            0.0      ...                 0.0            0.0   \n",
       "266            0.0            0.0      ...                 1.0            0.0   \n",
       "161            0.0            1.0      ...                 0.0            0.0   \n",
       "286            0.0            0.0      ...                 0.0            1.0   \n",
       "315            0.0            0.0      ...                 0.0            0.0   \n",
       "\n",
       "     C(Year)[T.80]  C(Year)[T.81]  C(Year)[T.82]  C(Origin)[T.2]  \\\n",
       "123            0.0            0.0            0.0             0.0   \n",
       "266            0.0            0.0            0.0             0.0   \n",
       "161            0.0            0.0            0.0             0.0   \n",
       "286            0.0            0.0            0.0             0.0   \n",
       "315            1.0            0.0            0.0             0.0   \n",
       "\n",
       "     C(Origin)[T.3]  Displacement  Weight  Acceleration  \n",
       "123             1.0         156.0  2807.0          13.5  \n",
       "266             0.0          98.0  2155.0          16.5  \n",
       "161             0.0         250.0  3897.0          18.5  \n",
       "286             0.0         302.0  3725.0          13.4  \n",
       "315             0.0         151.0  3003.0          20.1  \n",
       "\n",
       "[5 rows x 22 columns]"
      ]
     },
     "execution_count": 23,
     "metadata": {},
     "output_type": "execute_result"
    }
   ],
   "source": [
    "import patsy as pts \n",
    "\n",
    "# Names for our columns\n",
    "col_names = ['MPG', 'Cylinders', 'Displacement',\n",
    "             'Horsepower', 'Weight', 'Acceleration', \n",
    "             'Year', 'Origin', 'Name']\n",
    "\n",
    "# Create DataFrame and sample the result\n",
    "auto_data = pd.read_csv(data_file, index_col=False, names = col_names, \n",
    "                  delim_whitespace=True)\n",
    "\n",
    "# Create independent and dependent arrays\n",
    "y, x = pts.dmatrices('MPG ~ C(Cylinders) + Displacement + ' +\n",
    "                     'Weight + Acceleration + C(Year) + C(Origin)', \n",
    "                     data=auto_data, return_type='dataframe')\n",
    "\n",
    "# randomly sample features\n",
    "x.sample(5)"
   ]
  },
  {
   "cell_type": "markdown",
   "metadata": {},
   "source": [
    "-----\n",
    "\n",
    "With these two DataFrames, we can now build a regressive model. First, we import the `RandomForestRegressor` before splitting our independent and dependent variables into training and testing samples. To do this, we use a fifty-fifty split. Next, we create our estimator, specifying a value for our `random_state` hyperparameter to enable reproducibility. Finally, we fit the model and display a predictive score. \n",
    "\n",
    "The second Code cell computes a number of different regression performance metrics and displays the results. Notice that, unlike the case for classification, regression performance metrics are generally better when they are smaller. This is because these metrics are often quantifying the difference between the test and predicted features, which we want to minimize. This simple model predicts the fuel performance reasonably well, the mean-squared error is a little over two and a half miles per galloon, which is reasonable for a first attempt.\n",
    "\n",
    "-----"
   ]
  },
  {
   "cell_type": "code",
   "execution_count": 24,
   "metadata": {},
   "outputs": [
    {
     "name": "stdout",
     "output_type": "stream",
     "text": [
      "Score = 73.8%\n"
     ]
    }
   ],
   "source": [
    "from sklearn.ensemble import RandomForestRegressor\n",
    "\n",
    "# Split data intro training:testing data set\n",
    "ind_train, ind_test, dep_train, dep_test = \\\n",
    "    train_test_split(x, y, test_size=frac, random_state=23)\n",
    "\n",
    "# Create Regressor with default properties\n",
    "auto_model = RandomForestRegressor(random_state=23)\n",
    "\n",
    "# Fit estimator and display score\n",
    "auto_model = auto_model.fit(ind_train, dep_train)\n",
    "print('Score = {:.1%}'.format(auto_model.score(ind_test, dep_test)))"
   ]
  },
  {
   "cell_type": "code",
   "execution_count": 25,
   "metadata": {},
   "outputs": [
    {
     "name": "stdout",
     "output_type": "stream",
     "text": [
      "Mean Absolute Error   = 2.59\n",
      "Mean Squared Error    = 15.04\n",
      "Median Absolute Error = 1.84\n",
      "R^2 Score             = 0.738\n",
      "Explained Variance    = 0.739\n"
     ]
    }
   ],
   "source": [
    "from sklearn.metrics import explained_variance_score\n",
    "from sklearn.metrics import mean_absolute_error\n",
    "from sklearn.metrics import mean_squared_error\n",
    "from sklearn.metrics import median_absolute_error\n",
    "from sklearn.metrics import r2_score\n",
    "\n",
    "# Regress on test data\n",
    "pred = auto_model.predict(ind_test)\n",
    "\n",
    "# Copute performance metrics\n",
    "mae = mean_absolute_error(dep_test, pred)\n",
    "mse = mean_squared_error(dep_test, pred)\n",
    "mbe = median_absolute_error(dep_test, pred)\n",
    "mr2 = r2_score(dep_test, pred)\n",
    "\n",
    "ev_score = explained_variance_score(dep_test, pred)\n",
    "\n",
    "# Display metrics\n",
    "print(f'Mean Absolute Error   = {mae:4.2f}')\n",
    "print(f'Mean Squared Error    = {mse:4.2f}')\n",
    "print(f'Median Absolute Error = {mbe:4.2f}')\n",
    "print(f'R^2 Score             = {mr2:5.3f}')\n",
    "print(f'Explained Variance    = {ev_score:5.3f}')"
   ]
  },
  {
   "cell_type": "markdown",
   "metadata": {},
   "source": [
    "-----\n",
    "\n",
    "<font color='red' size = '5'> Student Exercise </font>\n",
    "\n",
    "In the previous Code cells, we constructed a random forest for regression and applied it to the automobile fuel performance prediction task. The initial result was reasonable, but try making the following changes to see if you can do better.\n",
    "\n",
    "2. Change the features used in the regression, for example drop one column, such as `origin`. Do the results change? \n",
    "3. Try using different hyperparameter values, such as specifying a different metric to reduce the variance at tree splits (via the `criterion` hyperparameter) or try changing the number of estimators (`n_estimators`) or the number of features (`max_features`).\n",
    "\n",
    "-----"
   ]
  },
  {
   "cell_type": "markdown",
   "metadata": {},
   "source": [
    "[[Back to TOC]](#Table-of-Contents)\n",
    "\n",
    "### Regression: Multi-output\n",
    "\n",
    "Decision Trees, and ensemble algorithms based on them, can predict multiple outputs for regression tasks. For a random forest, we simply build a set of trees that are optimized for multiple dependent variables. To perform multi-output regression with the scikit learn library, we simply need to create a two-dimensional dependent variable array. In the following Code cell, we do this by removing the acceleration column from the dependent variable array and adding it to the dependent variable array.\n",
    "\n",
    "After this, we generate new training and testing data, using the same split ratio as before. We apply a random forest regressor to these training data, using default values, and finally compute and display a simple regression score. The second Code cell computes several multi-output regression metrics, which provide a more complete picture of the performance of this algorithm on these data.\n",
    "\n",
    "-----"
   ]
  },
  {
   "cell_type": "code",
   "execution_count": 26,
   "metadata": {},
   "outputs": [
    {
     "name": "stdout",
     "output_type": "stream",
     "text": [
      "Score = 74.2%\n"
     ]
    }
   ],
   "source": [
    "# Regress on two targets\n",
    "y['Acceleration'] = x['Acceleration']\n",
    "x.drop('Acceleration', axis=1, inplace=True)\n",
    "\n",
    "# Split data intro training:testing data set\n",
    "ind_train_m, ind_test_m, dep_train_m, dep_test_m = \\\n",
    "    train_test_split(x, y, test_size=frac, random_state=23)\n",
    "\n",
    "# Create Regressor with default properties\n",
    "auto_model_m = RandomForestRegressor(random_state=23)\n",
    "\n",
    "# Fit estimator and display score\n",
    "auto_model_m = auto_model_m.fit(ind_train_m, dep_train_m)\n",
    "print('Score = {:.1%}'.format(auto_model_m.score(ind_test_m, dep_test_m)))"
   ]
  },
  {
   "cell_type": "code",
   "execution_count": 27,
   "metadata": {},
   "outputs": [
    {
     "name": "stdout",
     "output_type": "stream",
     "text": [
      "Mean Absolute Error   = 2.00\n",
      "Mean Squared Error    = 8.32\n",
      "Median Absolute Error = 1.84\n",
      "R^2 Score             = 0.568\n",
      "Explained Variance    = 0.569\n"
     ]
    }
   ],
   "source": [
    "# Regress on test data\n",
    "pred_m = auto_model_m.predict(ind_test_m)\n",
    "\n",
    "# Compute performance metrics\n",
    "mae = mean_absolute_error(dep_test_m, pred_m)\n",
    "mse = mean_squared_error(dep_test_m, pred_m)\n",
    "# Median absolute error does not support multioutput\n",
    "mr2 = r2_score(dep_test_m, pred_m, multioutput='uniform_average')\n",
    "\n",
    "ev_score = explained_variance_score(dep_test_m, pred_m)\n",
    "\n",
    "# Display metrics\n",
    "print(f'Mean Absolute Error   = {mae:4.2f}')\n",
    "print(f'Mean Squared Error    = {mse:4.2f}')\n",
    "print(f'Median Absolute Error = {mbe:4.2f}')\n",
    "print(f'R^2 Score             = {mr2:5.3f}')\n",
    "print(f'Explained Variance    = {ev_score:5.3f}')"
   ]
  },
  {
   "cell_type": "markdown",
   "metadata": {},
   "source": [
    "-----\n",
    "\n",
    "While useful, these metrics might hide the actual performance of the algorithm. For example, our overall mean squared error in this multi-output regression tasks is lower than in the original single-output regression task. To demonstrate what has actually been accomplished, the following Code cell displays several instances of the predicted and actual dependent values for the testing data set. From these data, we could compute and display single output performance metrics (such as mean squared error). However, we will leave that as an exercise for the reader.\n",
    "\n",
    "-----"
   ]
  },
  {
   "cell_type": "code",
   "execution_count": 28,
   "metadata": {},
   "outputs": [
    {
     "name": "stdout",
     "output_type": "stream",
     "text": [
      "Predicted\t Actual\n",
      "MPG    ACC\t MPG   ACC\n",
      "------------------------------\n",
      "16.35 19.60\t16.00 17.00\n",
      "31.90 16.25\t40.90 17.30\n",
      "29.23 16.11\t29.00 16.00\n",
      "29.68 14.12\t23.70 12.50\n",
      "32.57 16.81\t30.00 16.40\n"
     ]
    }
   ],
   "source": [
    "print('Predicted\\t', 'Actual')\n",
    "print('MPG    ACC\\t', 'MPG   ACC')\n",
    "print(30*'-')\n",
    "# display first five predictions\n",
    "for i, j in zip(pred_m[:5], dep_test_m.as_matrix()[:5]):\n",
    "    print(f'{i[0]:5.2f} {i[1]:5.2f}\\t{j[0]:5.2f} {j[1]:5.2f}')"
   ]
  },
  {
   "cell_type": "markdown",
   "metadata": {},
   "source": [
    "-----\n",
    "\n",
    "[[Back to TOC]](#Table-of-Contents)\n",
    "\n",
    "## Extremely Randomized Trees\n",
    "\n",
    "We now turn our attention to extremely randomized trees, which is second bagging estimator we present in this notebook. In this case, much of what was previously written about the random forest algorithm, and its application to both classification and regression tasks applies to this algorithm as well. This isn't surprising, both algorithms are based on decision trees and are bagging ensemble estimators. As a result, in the rest of this notebook we simply demonstrate this algorithm on the Adult data for classification and the automobile performance data for regression.\n",
    "\n",
    "\n",
    "-----"
   ]
  },
  {
   "cell_type": "markdown",
   "metadata": {},
   "source": [
    "### Classification\n",
    "\n",
    "To apply the extremely randomized tree algorithm to a classification task, we employ the [`ExtraTreesClassifier`][sketc] estimator. Since we have already loaded and pre-processed the Adult data set, we can create this estimator and apply it directly to our training data. The following Code cell demonstrates this, where we use the default hyperparameters for the `ExtraTreesClassifier` estimator. The second Code cell computes and displays a performance score, as well as the classification report. In this case, the algorithm performs well, although not quite as well as the random forest data. Recall that we held out fifty percent of the data for testing, which will impact any algorithm's performance. In addition, judicious selection of hyperparameter values would likely improve this performance.\n",
    "\n",
    "-----\n",
    "[sketc]: http://scikit-learn.org/stable/modules/generated/sklearn.ensemble.ExtraTreesClassifier.html"
   ]
  },
  {
   "cell_type": "code",
   "execution_count": 29,
   "metadata": {
    "collapsed": true
   },
   "outputs": [],
   "source": [
    "from sklearn.ensemble import ExtraTreesClassifier\n",
    "\n",
    "adult_model = ExtraTreesClassifier(random_state=23)\n",
    "\n",
    "adult_model = adult_model.fit(d_train, l_train)"
   ]
  },
  {
   "cell_type": "code",
   "execution_count": 30,
   "metadata": {},
   "outputs": [
    {
     "name": "stdout",
     "output_type": "stream",
     "text": [
      "Extremely Randomized Tree Classification [bAdult Data] Score = 81.9%\n",
      "\n",
      "Classification Report:\n",
      "              precision    recall  f1-score   support\n",
      "\n",
      "          0       0.86      0.91      0.88     12298\n",
      "          1       0.65      0.55      0.60      3983\n",
      "\n",
      "avg / total       0.81      0.82      0.81     16281\n",
      "\n",
      "\n"
     ]
    }
   ],
   "source": [
    "from sklearn import metrics\n",
    "\n",
    "# Classify test data and display score and report\n",
    "predicted = adult_model.predict(d_test)\n",
    "score = 100.0 * metrics.accuracy_score(l_test, predicted)\n",
    "print(f'Extremely Randomized Tree Classification [bAdult Data] Score = {score:4.1f}%\\n')\n",
    "print('Classification Report:\\n {0}\\n'.format(\n",
    "    metrics.classification_report(l_test, predicted)))"
   ]
  },
  {
   "cell_type": "markdown",
   "metadata": {},
   "source": [
    "-----\n",
    "\n",
    "We can also compute feature importance when using the extra trees algorithm. The following Code cell demonstrates this, by combining the feature names (from the column headers of the feature DataFrame) to the feature importances from the extra trees algorithm. The results seem reasonable. The intercept for a large feature array can be important, and the second most important feature is the number of cylinders, which directly controls how much fuel is used. One interesting results is that the year `1980` seems special since that categorical feature has a much higher importance than the other values of this categorical feature.\n",
    "\n",
    "-----"
   ]
  },
  {
   "cell_type": "code",
   "execution_count": 31,
   "metadata": {},
   "outputs": [
    {
     "name": "stdout",
     "output_type": "stream",
     "text": [
      "Intercept importance = 24.37%\n",
      "C(Cylinders)[T.4] importance =  4.40%\n",
      "C(Cylinders)[T.5] importance = 12.62%\n",
      "C(Cylinders)[T.6] importance =  7.30%\n",
      "C(Cylinders)[T.8] importance =  2.74%\n",
      "C(Year)[T.71] importance =  0.16%\n",
      "C(Year)[T.72] importance =  0.27%\n",
      "C(Year)[T.73] importance =  0.14%\n",
      "C(Year)[T.74] importance =  0.02%\n",
      "C(Year)[T.75] importance =  0.06%\n",
      "C(Year)[T.76] importance =  0.16%\n",
      "C(Year)[T.77] importance =  0.19%\n",
      "C(Year)[T.78] importance =  0.27%\n",
      "C(Year)[T.79] importance =  0.36%\n",
      "C(Year)[T.80] importance =  2.16%\n",
      "C(Year)[T.81] importance =  0.57%\n",
      "C(Year)[T.82] importance =  0.88%\n",
      "C(Origin)[T.2] importance =  1.52%\n",
      "C(Origin)[T.3] importance =  0.00%\n",
      "Displacement importance =  0.96%\n",
      "Weight importance =  0.74%\n"
     ]
    }
   ],
   "source": [
    "# Display name and importance\n",
    "for name, val in zip(x.columns, adult_model.feature_importances_):\n",
    "    print(f'{name} importance = {100.0*val:5.2f}%')"
   ]
  },
  {
   "cell_type": "markdown",
   "metadata": {},
   "source": [
    "-----\n",
    "\n",
    "### Regression\n",
    "\n",
    "We can also use the extra trees algorithm to perform regression. In this case, we use the [`ExtraTreesRegressor`][sketr] estimator. To demonstrate the application of this estimator, we will use the auto fuel performance data set, which was already loaded and processed in this notebook. The following Code cell first imports this estimator, and create an `ExtraTreesRegressor` with default hyperparameters. Next, we fit the data to our training sample, and compute a basic regression score. The results are impressive, especially since we did not specify any hyperparameters and held out fifty percent of the data for testing. The second Code cell provides additional performance metrics, which again demonstrate how well this algorithm has performed on these data. \n",
    "\n",
    "-----\n",
    "\n",
    "[sketr]: http://scikit-learn.org/stable/modules/generated/sklearn.ensemble.ExtraTreesRegressor.html"
   ]
  },
  {
   "cell_type": "code",
   "execution_count": 32,
   "metadata": {},
   "outputs": [
    {
     "name": "stdout",
     "output_type": "stream",
     "text": [
      "Score = 81.0%\n"
     ]
    }
   ],
   "source": [
    "from sklearn.ensemble import ExtraTreesRegressor\n",
    "\n",
    "# Create Regressor with default properties\n",
    "auto_model = ExtraTreesRegressor(random_state=23)\n",
    "\n",
    "# Fit estimator and display score\n",
    "auto_model = auto_model.fit(ind_train, dep_train)\n",
    "print('Score = {:.1%}'.format(auto_model.score(ind_test, dep_test)))"
   ]
  },
  {
   "cell_type": "code",
   "execution_count": 33,
   "metadata": {},
   "outputs": [
    {
     "name": "stdout",
     "output_type": "stream",
     "text": [
      "Mean Absolute Error   = 2.34\n",
      "Mean Squared Error    = 10.90\n",
      "Median Absolute Error = 1.76\n",
      "R^2 Score             = 0.810\n",
      "Explained Variance    = 0.811\n"
     ]
    }
   ],
   "source": [
    "# Regress on test data\n",
    "pred = auto_model.predict(ind_test)\n",
    "\n",
    "# Compute performance metrics\n",
    "mae = mean_absolute_error(dep_test, pred)\n",
    "mse = mean_squared_error(dep_test, pred)\n",
    "mbe = median_absolute_error(dep_test, pred)\n",
    "mr2 = r2_score(dep_test, pred)\n",
    "\n",
    "ev_score = explained_variance_score(dep_test, pred)\n",
    "\n",
    "# Display metrics\n",
    "print(f'Mean Absolute Error   = {mae:4.2f}')\n",
    "print(f'Mean Squared Error    = {mse:4.2f}')\n",
    "print(f'Median Absolute Error = {mbe:4.2f}')\n",
    "print(f'R^2 Score             = {mr2:5.3f}')\n",
    "print(f'Explained Variance    = {ev_score:5.3f}')"
   ]
  },
  {
   "cell_type": "markdown",
   "metadata": {},
   "source": [
    "-----\n",
    "\n",
    "## Ancillary Information\n",
    "\n",
    "The following links are to additional documentation that you might find helpful in learning this material. Reading these web-accessible documents is completely optional.\n",
    "\n",
    "4. The scikit learn documentation provides a nice introduction to [_bagging_][1] and the estimators that implement this ensemble learning technique.\n",
    "1. A blog [article][2] on random forests in Python\n",
    "2. An article on [building random forests][3] from scratch in Python at the Machine Learning Mastery website\n",
    "2. An article on [random forests][3] at the Analytics Vidhya website\n",
    "3. A short [discussion][5] on the benefits of random forests\n",
    "4. A long [discussion][6] on random forests\n",
    "-----\n",
    "[1]: http://scikit-learn.org/stable/modules/ensemble.html#bagging\n",
    "\n",
    "[2]: http://blog.yhat.com/posts/random-forests-in-python.html\n",
    "\n",
    "[3]: https://machinelearningmastery.com/implement-random-forest-scratch-python/\n",
    "\n",
    "[4]: https://www.analyticsvidhya.com/blog/2014/06/introduction-random-forest-simplified/\n",
    "\n",
    "[5]: http://fastml.com/intro-to-random-forests/\n",
    "\n",
    "[6]: http://www.cip-labs.net/2013/01/17/introduction-to-random-forests/"
   ]
  }
 ],
 "metadata": {
  "kernelspec": {
   "display_name": "Python 3",
   "language": "python",
   "name": "python3"
  },
  "language_info": {
   "codemirror_mode": {
    "name": "ipython",
    "version": 3
   },
   "file_extension": ".py",
   "mimetype": "text/x-python",
   "name": "python",
   "nbconvert_exporter": "python",
   "pygments_lexer": "ipython3",
   "version": "3.7.1"
  }
 },
 "nbformat": 4,
 "nbformat_minor": 1
}
