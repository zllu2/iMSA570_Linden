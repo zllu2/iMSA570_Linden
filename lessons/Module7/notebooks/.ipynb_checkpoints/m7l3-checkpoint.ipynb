{
 "cells": [
  {
   "cell_type": "markdown",
   "metadata": {},
   "source": [
    "# Module 7: Lesson 3\n",
    "\n",
    "-----\n",
    "\n",
    "## Introduction to Linear Regression\t\n",
    "\n",
    "Linear regression is a statistical model that examines the linear relationship between two or more variables, a dependent variable and one or more independent variables. In this lesson we will focus on one python implementation of linear regression. \n",
    "\n",
    "### Objectives\n",
    "\n",
    "By the end of this lesson, you will be able to\n",
    "\n",
    "- understand the concepts behind linear regression,\n",
    "- compute a linear regression model from a data set by using Python.\n",
    "\n",
    "### Time Estimate\n",
    "\n",
    "Approximately 2 hours.\n",
    "\n",
    "### Activities \n",
    "\n",
    "**Video**: Watch the [Introduction to Linear Regression][olsv] video, which will discuss the importance of linear regression models.\n",
    "\n",
    "**Notebook**: Read and complete the student exercises in the [Introduction to Linear Regression][intro2ls] notebook.\n",
    "\n",
    "Reading: [Linear Regression][lr] from wikipedia.\n",
    "\n",
    "Reading: [Ordinary Least Squares Regression][ols]  by using the Explained Visually website from Setosa.\n",
    "\n",
    "\n",
    "------\n",
    "\n",
    "[lr]: https://en.wikipedia.org/wiki/Linear_regression\n",
    "[ols]: http://setosa.io/ev/ordinary-least-squares-regression/\n",
    "\n",
    "[olsv]: https://mediaspace.illinois.edu/media/\n",
    "\n",
    "[intro2ls]: intro2ls.ipynb"
   ]
  }
 ],
 "metadata": {
  "kernelspec": {
   "display_name": "Python 3",
   "language": "python",
   "name": "python3"
  },
  "language_info": {
   "codemirror_mode": {
    "name": "ipython",
    "version": 3
   },
   "file_extension": ".py",
   "mimetype": "text/x-python",
   "name": "python",
   "nbconvert_exporter": "python",
   "pygments_lexer": "ipython3",
   "version": "3.7.1"
  }
 },
 "nbformat": 4,
 "nbformat_minor": 2
}
