{
 "cells": [
  {
   "cell_type": "markdown",
   "metadata": {},
   "source": [
    "# Module 5:  Data Analysis with Python\n",
    "\n",
    "This module introduces fundamental concepts in data analysis. First, you will learn how to read and write data to a file from within a Python program. Second,  you will learn about persisting more complex data by using the pickle module. Finally, you will learn about advanced functionality within the Pandas module including reading, writing, masking, grouping and sorting, you will also learn about descriptive statistics, which can be used to characterize a data set by using a few specific measurements.\n",
    "\n",
    "## Learning Objectives\n",
    "\n",
    "#### By the end of this module, you should be able to:\n",
    "\n",
    "- read and write data to files from within a Python program\n",
    "- apply advanced features to more effectively analyze data by using a Pandas `DataFrame`, and\n",
    "- compute and interpret descriptive statistics.\n",
    "\n",
    "### Activities and Assignments\n",
    "\n",
    "| Activities and Assignments               | Time Estimate | Deadline* | Points |\n",
    "| :--------------------------------------- | ------------- | --------- | -----: |\n",
    "| **[Module 5 Overview Video][wv]**      | 10 Minutes    | Tuesday |    N/A |\n",
    "| **[Module 5 Lesson 1: Python File I/O][nb1]** | 2 Hours   | Thursday  |     N/A |\n",
    "| **[Module 5 Lesson 2: Working with the Pandas DataFrame][nb2]** | 2 Hours | Thursday  |     N/A |\n",
    "| **[Module 5 Lesson 3: Introduction to Descriptive Statistics][nb3]** | 2 Hours | Thursday  |     N/A |\n",
    "| **[Module 5 Quiz][wq]**                    | 30 Minutes    | Friday    |    25  |\n",
    "| **[Module 5 Assignment Low][mal]**                    | 1 hour   | Sunday    |  25 |\n",
    "| **[Module 5 Assignment High][mah]**                    | 1 hour   | Sunday    |  75 |\n",
    "\n",
    "\n",
    "*Please note that unless otherwise noted, the due time is 6pm Central time!\n",
    "\n",
    "----------\n",
    "\n",
    "[nb1]: notebooks/m5l1.ipynb\n",
    "[nb2]: notebooks/m5l2.ipynb\n",
    "[nb3]: notebooks/m5l3.ipynb\n",
    "\n",
    "[mal]: https://datascience.business.illinois.edu/user/bigdog/notebooks/accy570/assignments/module5/assignment_low.ipynb\n",
    "[mah]: https://datascience.business.illinois.edu/user/bigdog/notebooks/accy570/assignments/module5/assignment_high.ipynb\n",
    "\n",
    "[wv]: https://mediaspace.illinois.edu/media/t/0_3z6ehjbp/99381161\n",
    "\n",
    "[wq]: https://learn.illinois.edu/mod/quiz/view.php?id=2839554"
   ]
  }
 ],
 "metadata": {
  "kernelspec": {
   "display_name": "Python 3",
   "language": "python",
   "name": "python3"
  },
  "language_info": {
   "codemirror_mode": {
    "name": "ipython",
    "version": 3
   },
   "file_extension": ".py",
   "mimetype": "text/x-python",
   "name": "python",
   "nbconvert_exporter": "python",
   "pygments_lexer": "ipython3",
   "version": "3.8.5"
  }
 },
 "nbformat": 4,
 "nbformat_minor": 4
}
