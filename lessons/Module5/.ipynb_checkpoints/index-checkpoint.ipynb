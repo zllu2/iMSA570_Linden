{
 "cells": [
  {
   "cell_type": "markdown",
   "metadata": {},
   "source": [
    "# Module 6:  Introduction to Data Analysis\n",
    "\n",
    "This module introduces fundamental concepts in data analysis. First, you will learn about the Pandas Python module that can simplify many challenging data analysis tasks. The Pandas module includes the DataFrame, which programmatically mimics many of the features of a traditional spreadsheet. Second, you will learn about advanced functionality within the Pandas module including reading, writing, masking, grouping, stacking, and sorting. Finally, you will learn about descriptive statistics, which can be used to characterize a data set by using a few specific measurements.\n",
    "\n",
    "## Learning Objectives\n",
    "\n",
    "#### By the end of this module, you should be able to:\n",
    "\n",
    "- explain the benefits of using the Pandas module for data analysis,\n",
    "- apply advanced features to more effectively analyze data by using a Pandas `DataFrame`, and\n",
    "- compute and interpret descriptive statistics.\n",
    "\n",
    "### Activities and Assignments\n",
    "\n",
    "| Activities and Assignments               | Time Estimate | Deadline* | Points |\n",
    "| :--------------------------------------- | ------------- | --------- | -----: |\n",
    "| **[Module 6 Overview Video][wv]**      | 10 Minutes    | Tuesday |    N/A |\n",
    "| **[Module 6 Lesson 1: Introduction to Pandas][nb1]** | 2 Hours   | Thursday  |     N/A |\n",
    "| **[Module 6 Lesson 2: Working with the Pandas DataFrame][nb2]** | 2 Hours | Thursday  |     N/A |\n",
    "| **[Module 6 Lesson 3: Introduction to Descriptive Statistics][nb3]** | 2 Hours | Thursday  |     N/A |\n",
    "| **[Module 6 Quiz][wq]**                    | 30 Minutes    | Friday    |    25  |\n",
    "| **[Module 6 Assignment][ma]**         | 2 hours    | Sunday    |    100  |\n",
    "\n",
    "*Please note that unless otherwise noted, the due time is 6pm Central time!\n",
    "\n",
    "----------\n",
    "\n",
    "[nb1]: notebooks/m6l1.ipynb\n",
    "[nb2]: notebooks/m6l2.ipynb\n",
    "[nb3]: notebooks/m6l3.ipynb\n",
    "\n",
    "[ma]: https://datascience.business.illinois.edu/\n",
    "\n",
    "[wv]: https://mediaspace.illinois.edu/\n",
    "[wq]: https://learn.illinois.edu/mod/"
   ]
  }
 ],
 "metadata": {
  "kernelspec": {
   "display_name": "Python 3",
   "language": "python",
   "name": "python3"
  },
  "language_info": {
   "codemirror_mode": {
    "name": "ipython",
    "version": 3
   },
   "file_extension": ".py",
   "mimetype": "text/x-python",
   "name": "python",
   "nbconvert_exporter": "python",
   "pygments_lexer": "ipython3",
   "version": "3.6.4"
  }
 },
 "nbformat": 4,
 "nbformat_minor": 2
}
