{
 "cells": [
  {
   "cell_type": "markdown",
   "metadata": {},
   "source": [
    "# Module 5: Lesson 2\n",
    "\n",
    "-----\n",
    "\n",
    "## Working with the Pandas DataFrame\n",
    "\n",
    "In this lesson, you will learn how to work effectively with the Pandas `DataFrame` data structure, which is similar to a spreadsheet and allows data to be accessed, sorted, analyzed, and summarized quickly and easily. Specifically, this lesson introduces how to read, write, mask, group, stack, sort, and operate on rows, columns, and subsets of a Pandas `DataFrame`.\n",
    "\n",
    "\n",
    "### Objectives\n",
    "\n",
    "By the end of this lesson, you will be able to\n",
    "\n",
    "- read a `DataFrame` from and write a `DataFrame` to standard text-based format files,\n",
    "- apply masks to a Pandas `DataFrame`,\n",
    "- group data within a Pandas `DataFrame`,\n",
    "- stack multiple Pandas `DataFrame` objects, and\n",
    "- sort data in a Pandas `DataFrame` object.\n",
    "\n",
    "### Time Estimate\n",
    "\n",
    "Approximately 2 hours.\n",
    "\n",
    "### Activities \n",
    "\n",
    "**Video**: Watch the [Pandas DataFrame][ipdv] video, which will demonstrate how to work effectively with this powerful data structure.\n",
    "\n",
    "**Notebook**: Read and complete the practice exercises in the [Working with the Pandas DataFrame][intro2pd] notebook.\n",
    "\n",
    "Reading: Read how to perform common [Excel tasks in Python][eip] by using the Pandas Module. Note, you do not need to master these skills, this is just a demonstration of how one migrates from Excel (or spreadsheets in general) to analytics with Python. Thus, you do not need to install the `fuzzywuzzy` module (unless you so wish).\n",
    "\n",
    "\n",
    "------\n",
    "\n",
    "[eip]: http://pbpython.com/excel-pandas-comp.html\n",
    "\n",
    "[ipdv]: https://mediaspace.illinois.edu/media/t/0_iallm7mn/99381161\n",
    "\n",
    "[intro2pd]: intro2df.ipynb"
   ]
  }
 ],
 "metadata": {
  "kernelspec": {
   "display_name": "Python 3",
   "language": "python",
   "name": "python3"
  },
  "language_info": {
   "codemirror_mode": {
    "name": "ipython",
    "version": 3
   },
   "file_extension": ".py",
   "mimetype": "text/x-python",
   "name": "python",
   "nbconvert_exporter": "python",
   "pygments_lexer": "ipython3",
   "version": "3.7.1"
  }
 },
 "nbformat": 4,
 "nbformat_minor": 2
}
