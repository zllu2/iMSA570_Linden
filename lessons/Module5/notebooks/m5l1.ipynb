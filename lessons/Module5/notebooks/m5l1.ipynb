{
 "cells": [
  {
   "cell_type": "markdown",
   "metadata": {},
   "source": [
    "# Module 5: Lesson 1\n",
    "\n",
    "-----\n",
    "\n",
    "## Python File I/O\n",
    "\n",
    "This lesson introduces reading and writing data to a file by using the Python programming language. First, the Python context and the different modes by which a file can be opened (for reading, writing, or appending) are introduced.  Reading and writing simple text data is demonstrated by using vanilla Python. Secondly, reading and writing structured file with pandas is introduced. Finally, the Python concept of _pickling_ is demonstrated, by which complex Python data structures can easily be persisted.\n",
    "\n",
    "### Objectives\n",
    "\n",
    "By the end of this lesson, you will be be able to\n",
    "\n",
    "- read and write data from within a Python program, \n",
    "- read and write data with pandas\n",
    "- pickle data to and from a file\n",
    "\n",
    "\n",
    "### Time Estimate\n",
    "\n",
    "Approximately 2 hours.\n",
    "\n",
    "### Activities\n",
    "\n",
    "**Video**: Watch the [Python File I/O ][l2vid] video, which will demonstrate key concepts in reading and writing data.\n",
    "\n",
    "**Notebook**: Read and complete the practice exercises in the [Python File I/O][pyfileio] notebook.\n",
    "\n",
    "Reading: Chapter 3 from the 2016 McKinsey Global Institute [The Age of Analytics: Competing in a Data-Driven World][xyz] report.\n",
    "\n",
    "\n",
    "------\n",
    "\n",
    "[l2vid]: https://mediaspace.illinois.edu/media/t/0_y6cytie5/99381161\n",
    "\n",
    "[pyfileio]: pyfileio.ipynb\n",
    "\n",
    "[xyz]: https://www.mckinsey.com/~/media/mckinsey/business%20functions/mckinsey%20analytics/our%20insights/the%20age%20of%20analytics%20competing%20in%20a%20data%20driven%20world/mgi-the-age-of-analytics-full-report.ashx"
   ]
  }
 ],
 "metadata": {
  "kernelspec": {
   "display_name": "Python 3",
   "language": "python",
   "name": "python3"
  },
  "language_info": {
   "codemirror_mode": {
    "name": "ipython",
    "version": 3
   },
   "file_extension": ".py",
   "mimetype": "text/x-python",
   "name": "python",
   "nbconvert_exporter": "python",
   "pygments_lexer": "ipython3",
   "version": "3.7.1"
  }
 },
 "nbformat": 4,
 "nbformat_minor": 2
}
