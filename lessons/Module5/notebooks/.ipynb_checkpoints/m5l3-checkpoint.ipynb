{
 "cells": [
  {
   "cell_type": "markdown",
   "metadata": {},
   "source": [
    "# Module 5: Lesson 3\n",
    "\n",
    "-----\n",
    "\n",
    "## Introduction to Descriptive Statistics\n",
    "\n",
    "This lesson introduces descriptive (or summary) statistics, which can provide insight into a (potentially large) data set by using only a few quantitative measurements. Many of these statistics are likely familiar, but this lesson focuses on calculating and using them by using the Python programming language.\n",
    "\n",
    "### Objectives\n",
    "\n",
    "By the end of this lesson, you will be be able to\n",
    "\n",
    "- compute basic descriptive statistics by using Python, and\n",
    "- describe the differences between these different statistics.\n",
    "\n",
    "### Time Estimate\n",
    "\n",
    "Approximately 2 hours.\n",
    "\n",
    "### Activities\n",
    "\n",
    "**Video**: Watch the [Introduction to Descriptive Statistics][idsv] video, which will demonstrate how to compute and interpret descriptive statistics for a data set.\n",
    "\n",
    "**Notebook**: Read and complete the student exercises in the [Introduction to Descriptive Statistics][introds] notebook.\n",
    "\n",
    "Reading: Read the Wikipedia articles on [Statistical Population][wp] and [Statistical Sample][ws].\n",
    "\n",
    "\n",
    "------\n",
    "\n",
    "[wp]: https://en.wikipedia.org/wiki/Statistical_population\n",
    "[ws]: https://en.wikipedia.org/wiki/Sample_(statistics)\n",
    "\n",
    "[idsv]: https://mediaspace.illinois.edu/media/t/0_h4q1x27k/99381161\n",
    "\n",
    "[introds]: intro2ds.ipynb"
   ]
  }
 ],
 "metadata": {
  "kernelspec": {
   "display_name": "Python 3",
   "language": "python",
   "name": "python3"
  },
  "language_info": {
   "codemirror_mode": {
    "name": "ipython",
    "version": 3
   },
   "file_extension": ".py",
   "mimetype": "text/x-python",
   "name": "python",
   "nbconvert_exporter": "python",
   "pygments_lexer": "ipython3",
   "version": "3.7.1"
  }
 },
 "nbformat": 4,
 "nbformat_minor": 2
}
