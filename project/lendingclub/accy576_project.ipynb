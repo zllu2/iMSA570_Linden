{
 "cells": [
  {
   "cell_type": "markdown",
   "metadata": {},
   "source": [
    "# Your Name\n",
    "\n",
    "----"
   ]
  },
  {
   "cell_type": "markdown",
   "metadata": {},
   "source": [
    "# ACCY576 Final Project\n",
    "\n",
    "## Overview\n",
    "\n",
    "In this project, you will finish the first three steps in the data analytics framework CRISP-DM, business understanding, data understanding and data preparation on the LendingClub dataset. You will also start on the fourth step of the CRISP-DM framework, modeling.\n",
    "\n",
    "We provide a template of the project report, which consists of 20 mini-tasks. The first 18 mini-tasks are worth 4 percentage points each. The last two mini-tasks require more effort, so they are worth more points. The 19th mini-task is worth 10 percentage points, and the twentieth mini-task is worth 18 percentage points. Thus, the total is 100 percentage points. The number of percentage points that you earn will be multiplied by the 280 points for this project (see the syllabus) to determine the number of points that will go towards calculating your final grade. For example, if you earn 90% then you'll receive 252 points (.9*280) for the final project.\n",
    "\n",
    "All the visualizations should be properly labeled and titled.\n",
    "\n",
    "You may add extra code cells if needed.\n",
    "\n",
    "This is an individual project. You may use your notes, but you should not seek for help from anyone currently enrolled in this course, or who has taken this course before.\n",
    "\n",
    "Please make sure to upload this completed file by the deadline of 11:59 p.m. on Sunday, March 15th.\n"
   ]
  },
  {
   "cell_type": "markdown",
   "metadata": {},
   "source": [
    "## Table of Contents\n",
    "\n",
    "\n",
    "[**Business Understanding**](#Business-Understanding)\n",
    "\n",
    "[**Data Understanding and Data Preparation**](#Data-Understanding-and-Data-Preparation)\n",
    "\n",
    "- [**Data File**](#Data-File)\n",
    "   - [**Task 1: Load the Data Dictionary and the Data File**](#Task-1:-Load-the-Data-Dictionary-and-the-Data-File)\n",
    "- [**Check Data Quality**](#Check-Data-Quality)\n",
    "   - [**Task 2: Clean Up the annual_inc Column**](#Task-2:-Clean-Up-the-annual_inc-Column)\n",
    "   - [**Task 3: Statistics of Numeric Columns**](#Task-3:-Statistics-of-Numeric-Columns)\n",
    "- [**Exploratory Data Analysis-EDA**](#Exploratory-Data-Analysis---EDA)\n",
    "   - [**Task 4: Loan Grade**](#Task-4:-Loan-Grade)\n",
    "   - [**Task 5: Distribution of Interest Rate**](#Task-5:-Distribution-of-Interest-Rate)\n",
    "   - [**Task 6: Loan Grade and Interest Rate**](#Task-6:-Loan-Grade-and-Interest-Rate)\n",
    "   - [**Task 7: Loan Term and Interest Rate**](#Task-7:-Loan-Term-and-Interest-Rate)\n",
    "   - [**Task 8: Loan by State**](#Task-8:-Loan-by-State)\n",
    "   - [**Task 9: Borrowers Annual Income Distribution**](#Task-9:-Borrowers-Annual-Income-Distribution)\n",
    "   - [**Task 10: Borrower Annual Income by State**](#Task-10:-Borrower-Annual-Income-by-State)\n",
    "   - [**Task 11: Annual Income and Interest Rate**](#Task-11:-Annual-Income-and-Interest-Rate)\n",
    "   - [**Task 12: Convert Date Column**](#Task-12:-Convert-Date-Column)\n",
    "   - [**Task 13: Loan Issued Over Year**](#Task-13:-Loan-Issued-Over-Year)\n",
    "   - [**Task 14: Interest Rate Change**](#Task-14:-Interest-Rate-Change)\n",
    "   - [**Task 15: Loan Status**](#Task-15:-Loan-Status)\n",
    "   - [**Task 16: More Investigation of Loan Status**](#Task-16:-More-Investigation-of-Loan-Status)\n",
    "   - [**Task 17: Even More Investigation of Loan Status**](#Task-17:-Even-More-Investigation-of-Loan-Status)\n",
    "   - [**Task 18: Loan Term and Loan Status**](#Task-18:-Loan-Term-and-Loan-Status)\n",
    "   - [**Task 19: Loan Return**](#Task-19:-Loan-Return)\n",
    "- [**Modeling and Evaluation**](#Modeling-and-Evaluation)\n",
    "   - [**Task 20: Choose the Interest Rate**](#Task-20:-Choose-the-Interest-Rate)\n"
   ]
  },
  {
   "cell_type": "markdown",
   "metadata": {},
   "source": [
    "[Back to Top](#Table-of-Contents)\n",
    "\n",
    "## Business Understanding\n",
    "This initial phase focuses on understanding the project objectives and requirements from a business perspective, and then converting this knowledge into a data mining problem definition, and a preliminary plan designed to achieve the objectives.\n",
    "\n",
    "### Lending Club\n",
    "\n",
    "LendingClub is an American peer-to-peer lending company, headquartered in San Francisco, California. It is the world's largest peer-to-peer lending platform.\n",
    "\n",
    "LendingClub enables borrowers to create unsecured personal loans between \\\\$1,000 and \\\\$40,000. Investors can search and browse the loan listings on LendingClub website and select loans that they want to invest in based on the information supplied about the borrower, amount of loan, loan grade, and loan purpose. Investors make money from interest. LendingClub makes money by charging borrowers an origination fee and investors a service fee.\n",
    "\n",
    "For more information about the company please check out the wikipedia article about the [LendingClub](https://en.wikipedia.org/wiki/LendingClub).\n",
    "\n",
    "\n",
    "### Objective\n",
    "\n",
    "In this project, we will explore the loan and the borrower information, loan payoff rate and loan returns.\n"
   ]
  },
  {
   "cell_type": "markdown",
   "metadata": {},
   "source": [
    "[Back to Top](#Table-of-Contents)\n",
    "\n",
    "## Data Understanding and Data Preparation\n",
    "The data understanding phase starts with an initial data collection and proceeds with activities in order to get familiar with the data, to identify data quality problems, to discover first insights into the data, or to detect interesting subsets to form hypotheses for hidden information.\n",
    "\n",
    "Data understanding is always done together with data preparation, which cleans up data, deals with missing values and creates new features through feature engineering."
   ]
  },
  {
   "cell_type": "markdown",
   "metadata": {},
   "source": [
    "### Data File\n",
    "\n",
    "The data file **lending_club_2007_2011_6_states.csv** contains the loan and borrower information for loans initiated from 2007 to 2011 in six states, California, New York, Florida, Texas, New Jersy and Illinois.\n",
    "\n",
    "The data dictionary file **data_dictionary.csv** contains descriptions of all the columns in the data file."
   ]
  },
  {
   "cell_type": "code",
   "execution_count": 1,
   "metadata": {},
   "outputs": [],
   "source": [
    "%matplotlib inline\n",
    "\n",
    "import numpy as np\n",
    "import pandas as pd\n",
    "import seaborn as sns\n",
    "import matplotlib.pyplot as plt\n",
    "\n",
    "#display all dataframe columns in df.head()\n",
    "pd.options.display.max_columns = None\n",
    "#display long string in datafame\n",
    "pd.options.display.max_colwidth = 300\n",
    "\n",
    "#filter out warning messages\n",
    "import warnings\n",
    "warnings.filterwarnings('ignore')\n"
   ]
  },
  {
   "cell_type": "markdown",
   "metadata": {},
   "source": [
    "[Back to Top](#Table-of-Contents)\n",
    "### Task 1: Load the Data Dictionary and the Data File\n",
    "In the next code cell, please load the data dictionary file, `data_dictionary.csv`, to a DataFrame **data_dict** and display the **whole** DataFrame."
   ]
  },
  {
   "cell_type": "markdown",
   "metadata": {},
   "source": [
    "#### Your Code for the Data Dictionary"
   ]
  },
  {
   "cell_type": "code",
   "execution_count": null,
   "metadata": {
    "scrolled": false
   },
   "outputs": [],
   "source": []
  },
  {
   "cell_type": "markdown",
   "metadata": {},
   "source": [
    "Load the `lending_club_2007_2011_6_states.csv` to a DataFrame **loan_df** and display the first 5 rows."
   ]
  },
  {
   "cell_type": "markdown",
   "metadata": {},
   "source": [
    "#### Your Code for the Data"
   ]
  },
  {
   "cell_type": "code",
   "execution_count": null,
   "metadata": {
    "scrolled": true
   },
   "outputs": [],
   "source": []
  },
  {
   "cell_type": "markdown",
   "metadata": {},
   "source": [
    "### Check Data Quality\n",
    "In this section of the CRISP-DM framework, you will be asked to perform tasks to check data quality. The most common check is to check missing values. We can also do some basic data cleaning like cleaning up currency field. Sometimes, the currency field needs to be converted from a string to float after removing currency symbols like '$', commas ',', and parentheses when negative value are enclosed in ().\n"
   ]
  },
  {
   "cell_type": "markdown",
   "metadata": {},
   "source": [
    "[Back to Top](#Table-of-Contents)\n",
    "### Basic Dataframe Info\n",
    "\n",
    "Discuss the basic information of the data briefly. (It doesn't look like we are awarding any points here. Correct?)\n",
    "\n",
    "You can use `info()` function to print basic DataFrame information. You may also use `df.isnull().sum()` to check out count of null values in each column.\n",
    "\n",
    "Please write your code in the code cell and your discussion in the markdown cell. The discussion can be very brief with just a few sentences.\n",
    "\n",
    "You may add extra code cells if needed."
   ]
  },
  {
   "cell_type": "code",
   "execution_count": null,
   "metadata": {},
   "outputs": [],
   "source": [
    "loan_df.info()"
   ]
  },
  {
   "cell_type": "code",
   "execution_count": null,
   "metadata": {},
   "outputs": [],
   "source": [
    "loan_df.isnull().sum()"
   ]
  },
  {
   "cell_type": "markdown",
   "metadata": {},
   "source": [
    "#### Discussion  \n",
    "\n",
    "Consider the shape of the dataframe and the number of null values. You might want to ask yourself questions like:\n",
    "- Are there any columns that you think should be excluded because there are too many null values? \n",
    "- What could you do to fill in null values?\n",
    "- Are there any other questions?"
   ]
  },
  {
   "cell_type": "markdown",
   "metadata": {},
   "source": [
    "[Back to Top](#Table-of-Contents)\n",
    "### Task 2: Clean Up the annual_inc Column\n",
    "\n",
    "- Strip \"$\" and \",\" from annual_inc\n",
    "- Convert datatype to float.\n",
    "- Diplay first 5 rows\n",
    "\n",
    "After this task, annual_inc column in loan_df should be type float."
   ]
  },
  {
   "cell_type": "markdown",
   "metadata": {},
   "source": [
    "#### Your Code"
   ]
  },
  {
   "cell_type": "code",
   "execution_count": null,
   "metadata": {
    "scrolled": true
   },
   "outputs": [],
   "source": []
  },
  {
   "cell_type": "markdown",
   "metadata": {},
   "source": [
    "[Back to Top](#Table-of-Contents)\n",
    "### Task 3: Statistics of Numeric Columns\n",
    "\n",
    "Print out the descriptive statistics that summarize the central tendency, dispersion and shape of a dataset's distribution.\n",
    "\n",
    "Hint: use describe() function.\n",
    "\n",
    "Discuss following columns briefly\n",
    "- funded_amnt\n",
    "- int_rate\n",
    "- annual_inc"
   ]
  },
  {
   "cell_type": "markdown",
   "metadata": {},
   "source": [
    "#### Your Code"
   ]
  },
  {
   "cell_type": "code",
   "execution_count": null,
   "metadata": {
    "scrolled": true
   },
   "outputs": [],
   "source": []
  },
  {
   "cell_type": "markdown",
   "metadata": {},
   "source": [
    "#### Your Discussion\n"
   ]
  },
  {
   "cell_type": "markdown",
   "metadata": {},
   "source": [
    "Discussion:"
   ]
  },
  {
   "cell_type": "markdown",
   "metadata": {},
   "source": [
    "### Exploratory Data Analysis - EDA\n",
    "EDA is an approach to analyzing data sets to summarize their main characteristics, often with visualizations."
   ]
  },
  {
   "cell_type": "markdown",
   "metadata": {},
   "source": [
    "[Back to Top](#Table-of-Contents)\n",
    "### Task 4: Loan Grade\n",
    "How many different loan grades there are in the dataset?\n",
    "\n",
    "- Plot a bar chart for grade. X axis is the loan grade and y axis is the count of loans. The plot should have x and y axis label and a proper title.\n",
    "- Briefly discuss the results\n",
    "\n",
    "Hint: You may use seaborn countplot. To sort the loan grade you may set `order=sorted(loan_df.grade.unique())` in the countplot."
   ]
  },
  {
   "cell_type": "markdown",
   "metadata": {},
   "source": [
    "#### Your Code"
   ]
  },
  {
   "cell_type": "code",
   "execution_count": null,
   "metadata": {
    "scrolled": true
   },
   "outputs": [],
   "source": []
  },
  {
   "cell_type": "markdown",
   "metadata": {},
   "source": [
    "#### Your Discussion"
   ]
  },
  {
   "cell_type": "markdown",
   "metadata": {},
   "source": [
    "Discussion:"
   ]
  },
  {
   "cell_type": "markdown",
   "metadata": {},
   "source": [
    "[Back to Top](#Table-of-Contents)\n",
    "### Task 5: Distribution of Interest Rate\n",
    "\n",
    "- Plot a histogram of int_rate.\n",
    "\n",
    "- Discuss the distribution of the interest rate briefly."
   ]
  },
  {
   "cell_type": "markdown",
   "metadata": {},
   "source": [
    "#### Your Code"
   ]
  },
  {
   "cell_type": "code",
   "execution_count": null,
   "metadata": {
    "scrolled": false
   },
   "outputs": [],
   "source": []
  },
  {
   "cell_type": "markdown",
   "metadata": {},
   "source": [
    "#### Your Discussion"
   ]
  },
  {
   "cell_type": "markdown",
   "metadata": {},
   "source": [
    "Discussion:"
   ]
  },
  {
   "cell_type": "markdown",
   "metadata": {},
   "source": [
    "[Back to Top](#Table-of-Contents)\n",
    "### Task 6: Loan Grade and Interest Rate\n",
    "\n",
    "Explore the relationship between loan grade and interest rate.\n",
    "\n",
    "- Get average interest rate for each loan grade.\n",
    " - Group by grade column.\n",
    " - Apply aggregate function mean on int_rate column.\n",
    "- Visualize the averate interest rate of each loan grade with a bar chart. Make sure the plot has proper labels and title.\n",
    "- Discuss the relationship briefly\n",
    "\n",
    "**Hint**: You can directly plot a bar chart on an aggregated groupby object. ie. `ax = df.groupby(...).agg(...).plot.bar()`"
   ]
  },
  {
   "cell_type": "markdown",
   "metadata": {},
   "source": [
    "#### Your Code"
   ]
  },
  {
   "cell_type": "code",
   "execution_count": null,
   "metadata": {
    "scrolled": false
   },
   "outputs": [],
   "source": []
  },
  {
   "cell_type": "markdown",
   "metadata": {},
   "source": [
    "#### Your Discussion"
   ]
  },
  {
   "cell_type": "markdown",
   "metadata": {},
   "source": [
    "Discussion:"
   ]
  },
  {
   "cell_type": "markdown",
   "metadata": {},
   "source": [
    "[Back to Top](#Table-of-Contents)\n",
    "### Task 7: Loan Term and Interest Rate\n",
    "\n",
    "Explore the relationship between loan term and interest rate.\n",
    "\n",
    "- Get average interest rate for each loan term.\n",
    " - Group by term column.\n",
    " - Apply aggregate function mean on int_rate column.\n",
    "- Visualize the average interest rate of each term with a bar chart. Make sure the plot has proper labels and title.\n",
    "- Discuss the relationship briefly\n",
    "\n",
    "**Hint**: You can directly plot a bar chart on an aggregated groupby object. ie. `ax = df.groupby(...).agg(...).plot.bar()`"
   ]
  },
  {
   "cell_type": "markdown",
   "metadata": {},
   "source": [
    "#### Your Code"
   ]
  },
  {
   "cell_type": "code",
   "execution_count": null,
   "metadata": {},
   "outputs": [],
   "source": []
  },
  {
   "cell_type": "markdown",
   "metadata": {},
   "source": [
    "#### Your Discussion"
   ]
  },
  {
   "cell_type": "markdown",
   "metadata": {},
   "source": [
    "Discussion:"
   ]
  },
  {
   "cell_type": "markdown",
   "metadata": {},
   "source": [
    "[Back to Top](#Table-of-Contents)\n",
    "### Task 8: Loan by State\n",
    "\n",
    "There are loans from six States in the dataset. Please explore the count of loans in each state via visualization.\n",
    "\n",
    "- Visualize loan counts in each State. Make sure the plot has proper labels and title. (Hint: if you use seaborn countplot you may sort the bars with `order=loan_df.addr_state.value_counts().index`)\n",
    "- Discuss the result briefly\n"
   ]
  },
  {
   "cell_type": "markdown",
   "metadata": {},
   "source": [
    "#### Your Code"
   ]
  },
  {
   "cell_type": "code",
   "execution_count": null,
   "metadata": {
    "scrolled": true
   },
   "outputs": [],
   "source": []
  },
  {
   "cell_type": "markdown",
   "metadata": {},
   "source": [
    "#### Your Discussion"
   ]
  },
  {
   "cell_type": "markdown",
   "metadata": {},
   "source": [
    "Discussion:"
   ]
  },
  {
   "cell_type": "markdown",
   "metadata": {},
   "source": [
    "[Back to Top](#Table-of-Contents)\n",
    "### Task 9: Borrowers Annual Income Distribution\n",
    "\n",
    "- Plot a histogram of all borrower's annual income.\n",
    "- Plot another histogram of annual income that is less than $250,000\n",
    "- Compare the plots and discuss briefly.\n",
    "\n",
    "**Hint**: You may use hist() function on annual_inc column to plot histogram."
   ]
  },
  {
   "cell_type": "markdown",
   "metadata": {},
   "source": [
    "#### Your Code"
   ]
  },
  {
   "cell_type": "code",
   "execution_count": null,
   "metadata": {},
   "outputs": [],
   "source": []
  },
  {
   "cell_type": "markdown",
   "metadata": {},
   "source": [
    "#### Your Discussion"
   ]
  },
  {
   "cell_type": "markdown",
   "metadata": {},
   "source": [
    "Discussion:"
   ]
  },
  {
   "cell_type": "markdown",
   "metadata": {},
   "source": [
    "[Back to Top](#Table-of-Contents)\n",
    "### Task 10: Borrower Annual Income by State\n",
    "\n",
    "- Viusalize **median** income of borrowers from each state with a bar chart.\n",
    " - Group by addr_state column.\n",
    " - Apply aggregate function median on annual_inc column.\n",
    "\n",
    "- Discuss the result briefly\n",
    "\n",
    "**Hint**: You can directly plot a bar chart on an aggregated groupby object. ie. `ax = df.groupby(...).agg(...).plot.bar()`"
   ]
  },
  {
   "cell_type": "markdown",
   "metadata": {},
   "source": [
    "#### Your Code"
   ]
  },
  {
   "cell_type": "code",
   "execution_count": null,
   "metadata": {
    "scrolled": true
   },
   "outputs": [],
   "source": []
  },
  {
   "cell_type": "markdown",
   "metadata": {},
   "source": [
    "#### Your Discussion"
   ]
  },
  {
   "cell_type": "markdown",
   "metadata": {},
   "source": [
    "Discussion:"
   ]
  },
  {
   "cell_type": "markdown",
   "metadata": {},
   "source": [
    "[Back to Top](#Table-of-Contents)\n",
    "### Task 11: Annual Income and Interest Rate\n",
    "\n",
    "- Plot a scatter plot on annual income and interest rate\n",
    "- Discuss the result briefly, does the scatter plot reveal any correlation between annual income and interest rate?"
   ]
  },
  {
   "cell_type": "markdown",
   "metadata": {},
   "source": [
    "#### Your Code"
   ]
  },
  {
   "cell_type": "code",
   "execution_count": null,
   "metadata": {
    "scrolled": true
   },
   "outputs": [],
   "source": []
  },
  {
   "cell_type": "markdown",
   "metadata": {},
   "source": [
    "#### Your Discussion"
   ]
  },
  {
   "cell_type": "markdown",
   "metadata": {},
   "source": [
    "Discussion:"
   ]
  },
  {
   "cell_type": "markdown",
   "metadata": {},
   "source": [
    "[Back to Top](#Table-of-Contents)\n",
    "### Task 12: Convert Date Column\n",
    "\n",
    "- Convert the **issue_d** column to a datetime type\n",
    "- Create a new column, **issue_year**, and set it to the year a loan is issued\n",
    "- Display the first five rows"
   ]
  },
  {
   "cell_type": "markdown",
   "metadata": {},
   "source": [
    "#### Your Code"
   ]
  },
  {
   "cell_type": "code",
   "execution_count": null,
   "metadata": {
    "scrolled": true
   },
   "outputs": [],
   "source": []
  },
  {
   "cell_type": "markdown",
   "metadata": {},
   "source": [
    "[Back to Top](#Table-of-Contents)\n",
    "### Task 13: Loan Issued Over Year\n",
    "\n",
    "Explore the number of loans issued through LendingClub from 2007-2011. \n",
    "- Get a count of loans in each year(Hint: groupby issue_year).\n",
    "- Plot a line chart to see the trend, x axis is year, y axis is count.\n",
    "- Discuss the result briefly.\n",
    "\n",
    "**Hint**: You can directly plot a line chart on an aggregated groupby object. ie. `ax = df.groupby(...).agg(...).plot.line()`"
   ]
  },
  {
   "cell_type": "markdown",
   "metadata": {},
   "source": [
    "#### Your Code"
   ]
  },
  {
   "cell_type": "code",
   "execution_count": null,
   "metadata": {},
   "outputs": [],
   "source": []
  },
  {
   "cell_type": "markdown",
   "metadata": {},
   "source": [
    "#### Your Discussion"
   ]
  },
  {
   "cell_type": "markdown",
   "metadata": {},
   "source": [
    "Discussion:"
   ]
  },
  {
   "cell_type": "markdown",
   "metadata": {},
   "source": [
    "[Back to Top](#Table-of-Contents)\n",
    "### Task 14: Interest Rate Change\n",
    "\n",
    "Explore the interest rate change in each state over the years.\n",
    "\n",
    "- Create pivot table, set\n",
    "  - index to issue_year\n",
    "  - columns to addr_state\n",
    "  - values to int_rate\n",
    "  - aggfunc to median\n",
    "- Plot a line chart to compare median interest rate change over years of the 6 states.\n",
    "- Discuss the result briefly\n",
    "\n",
    "**Hint**: You can directly plot a line chart on a pivot table. ie. ax = df.pivot_table(...).plot.line()"
   ]
  },
  {
   "cell_type": "markdown",
   "metadata": {},
   "source": [
    "#### Your Code"
   ]
  },
  {
   "cell_type": "code",
   "execution_count": null,
   "metadata": {
    "scrolled": true
   },
   "outputs": [],
   "source": []
  },
  {
   "cell_type": "markdown",
   "metadata": {},
   "source": [
    "#### Your Discussion"
   ]
  },
  {
   "cell_type": "markdown",
   "metadata": {},
   "source": [
    "Discussion:"
   ]
  },
  {
   "cell_type": "markdown",
   "metadata": {},
   "source": [
    "[Back to Top](#Table-of-Contents)\n",
    "### Task 15: Loan Status\n",
    "\n",
    "The loans in the dataset were issued before 2011 and the longest loan term is 5 years. So all the loans are either paid off or charged off.\n",
    "\n",
    "Discuss loan status and its relationship with loan/borrower information.\n",
    "\n",
    "- Create pivot table **pt_year**, set\n",
    "  - index to issue_year\n",
    "  - columns to loan_status\n",
    "  - values to int_rate\n",
    "  - aggfunc to count\n",
    "- Create a new column `payoffRate` in the pivot table. Calculate the paid off rate for each year with formula $payoffRate = \\frac{FullyPaid}{Fully Paid+Charged Off}$.\n",
    "- Display the pivot table.\n",
    "- Discuss the result briefly"
   ]
  },
  {
   "cell_type": "markdown",
   "metadata": {},
   "source": [
    "#### Your Code"
   ]
  },
  {
   "cell_type": "code",
   "execution_count": null,
   "metadata": {
    "scrolled": true
   },
   "outputs": [],
   "source": []
  },
  {
   "cell_type": "markdown",
   "metadata": {},
   "source": [
    "#### Your Discussion"
   ]
  },
  {
   "cell_type": "markdown",
   "metadata": {},
   "source": [
    "Discussion:"
   ]
  },
  {
   "cell_type": "markdown",
   "metadata": {},
   "source": [
    "[Back to Top](#Table-of-Contents)\n",
    "### Task 16: More Investigation of Loan Status\n",
    "\n",
    "Discuss loan status and its relationship with interest rate.\n",
    "\n",
    "- Create a pivot table, **pt_intRate**, set\n",
    "    - index to loan_status\n",
    "    - values to int_rate\n",
    "    - aggfunc to median\n",
    "- Display the pivot table\n",
    "- Discuss the result briefly"
   ]
  },
  {
   "cell_type": "markdown",
   "metadata": {},
   "source": [
    "#### Your Code"
   ]
  },
  {
   "cell_type": "code",
   "execution_count": null,
   "metadata": {},
   "outputs": [],
   "source": []
  },
  {
   "cell_type": "markdown",
   "metadata": {},
   "source": [
    "#### Your Discussion"
   ]
  },
  {
   "cell_type": "markdown",
   "metadata": {},
   "source": [
    "Discussion:"
   ]
  },
  {
   "cell_type": "markdown",
   "metadata": {},
   "source": [
    "[Back to Top](#Table-of-Contents)\n",
    "### Task 17: Even More Investigation of Loan Status\n",
    "\n",
    "Discuss loan status and its relationship with the borrower's annual income.\n",
    "\n",
    "- Create a pivot table, **pt_income**, set\n",
    "    - index to loan_status\n",
    "    - values to annual_inc\n",
    "    - aggfunc to median\n",
    "- Display the pivot table\n",
    "- Discuss the result briefly"
   ]
  },
  {
   "cell_type": "markdown",
   "metadata": {},
   "source": [
    "#### Your Code"
   ]
  },
  {
   "cell_type": "code",
   "execution_count": null,
   "metadata": {},
   "outputs": [],
   "source": []
  },
  {
   "cell_type": "markdown",
   "metadata": {},
   "source": [
    "#### Your Discussion\n"
   ]
  },
  {
   "cell_type": "markdown",
   "metadata": {},
   "source": [
    "Discussion:"
   ]
  },
  {
   "cell_type": "markdown",
   "metadata": {},
   "source": [
    "[Back to Top](#Table-of-Contents)\n",
    "### Task 18: Loan Term and Loan Status\n",
    "\n",
    "Explore the payoff rate of three- and five-year loans.\n",
    "\n",
    "- Create pivot table **pt_term**, set\n",
    "  - index to term\n",
    "  - columns to loan_status\n",
    "  - values to int_rate\n",
    "  - aggfunc to count\n",
    "- Calculate the paid off rate for loans of different terms\n",
    "  - Create a new column `payoffRate` in the **pt_term** pivot table that you created. Calculate the paid off rate for each loan term with formula $payoffRate = \\frac{FullyPaid}{Fully Paid+Charged Off}$.\n",
    "- Display the pivot table.\n",
    "- Discuss the result briefly"
   ]
  },
  {
   "cell_type": "markdown",
   "metadata": {},
   "source": [
    "#### Your Code"
   ]
  },
  {
   "cell_type": "code",
   "execution_count": null,
   "metadata": {
    "scrolled": true
   },
   "outputs": [],
   "source": []
  },
  {
   "cell_type": "markdown",
   "metadata": {},
   "source": [
    "#### Your Discussion"
   ]
  },
  {
   "cell_type": "markdown",
   "metadata": {},
   "source": [
    "Discussion:"
   ]
  },
  {
   "cell_type": "markdown",
   "metadata": {},
   "source": [
    "[Back to Top](#Table-of-Contents)\n",
    "### Task 19: Loan Return\n",
    "\n",
    "Calculate the return of the loan portfolios for the 36 month and the 60 month term. In other words, what is the total return for all loans for each term?\n",
    "\n",
    "Calculation of loan return is very complicated since the loan is paid by monthly installments. In this project, we simplify the calculation by using the total payment and funded amount. For charged off loans, total payment includes post charge off recoveries. So we can use the following formula to calculate the total return:\n",
    "\n",
    "$TotalReturn = \\frac{Total Payment + Recoveries}{Funded Amount} - 1$\n",
    "\n",
    "The overall return doesn't reflect loan profitbility since loans have different terms. It's more accurate to compare annual returns. There are only two terms in the dataset, 36 months and 60 months. The formula to calcuate annual return is:\n",
    "\n",
    "$Annualized Return = (1+Total Return)^{(1/years)} - 1$. \n",
    "\n",
    "For example, if overall return of the 36 month loan portfolio is 10%, then annualized return = `(1 + 0.1)**(1/3) - 1 = 0.032`."
   ]
  },
  {
   "cell_type": "markdown",
   "metadata": {},
   "source": [
    "#### Your Code"
   ]
  },
  {
   "cell_type": "code",
   "execution_count": null,
   "metadata": {},
   "outputs": [],
   "source": []
  },
  {
   "cell_type": "markdown",
   "metadata": {},
   "source": [
    "#### Your Discussion"
   ]
  },
  {
   "cell_type": "markdown",
   "metadata": {},
   "source": [
    "Discussion:"
   ]
  },
  {
   "cell_type": "markdown",
   "metadata": {},
   "source": [
    "### Modeling and Evaluation"
   ]
  },
  {
   "cell_type": "markdown",
   "metadata": {},
   "source": [
    "[Back to Top](#Table-of-Contents)\n",
    "### Task 20: Choose the Interest Rate\n",
    "\n",
    "Assume that you are an investor who is evaluating three different loans. Assuming that you could invest in all three of them, and that they were part of a larger portfolio of loans in which you were investing, what interest rate would you set for the three different loans described below?\n",
    "\n",
    "1. Loan 1 is for an individual seeking a three year, \\\\$10,000 loan, C-grade loan. This indivdual has an annual income of \\\\$85,000.\n",
    "2. Loan 2 is for an individual seeking a five year, \\\\$20,000 loan, B-grade loan. This indivdual has an annual income of \\\\$100,000.\n",
    "3. Loan 3 is for an individual seeking a three year, \\\\$2,000 loan, A-grade loan. This indivdual has an annual income of \\\\$30,000.\n",
    "\n"
   ]
  },
  {
   "cell_type": "markdown",
   "metadata": {},
   "source": [
    "#### Your Code"
   ]
  },
  {
   "cell_type": "code",
   "execution_count": null,
   "metadata": {},
   "outputs": [],
   "source": []
  },
  {
   "cell_type": "markdown",
   "metadata": {},
   "source": [
    "#### Your Discussion"
   ]
  },
  {
   "cell_type": "markdown",
   "metadata": {},
   "source": [
    "Discussion:"
   ]
  }
 ],
 "metadata": {
  "kernelspec": {
   "display_name": "Python 3",
   "language": "python",
   "name": "python3"
  },
  "language_info": {
   "codemirror_mode": {
    "name": "ipython",
    "version": 3
   },
   "file_extension": ".py",
   "mimetype": "text/x-python",
   "name": "python",
   "nbconvert_exporter": "python",
   "pygments_lexer": "ipython3",
   "version": "3.7.2"
  }
 },
 "nbformat": 4,
 "nbformat_minor": 2
}
