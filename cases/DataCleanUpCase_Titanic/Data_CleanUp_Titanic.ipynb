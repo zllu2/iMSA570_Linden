{
 "cells": [
  {
   "cell_type": "markdown",
   "metadata": {},
   "source": [
    "# Data Clean Up with Titanic Data Set"
   ]
  },
  {
   "cell_type": "markdown",
   "metadata": {},
   "source": [
    "## Introduction\n",
    "RMS Titanic was a British passenger liner that sank in the North Atlantic Ocean in the early hours of 15 April 1912, after colliding with an iceberg during her maiden voyage from Southampton to New York City. There were an estimated 2,224 passengers and crew aboard, and more than 1,500 died, making it one of the deadliest commercial peacetime maritime disasters in modern history.\n",
    "\n",
    "Fewer than a third of those aboard Titanic survived the disaster. The figures show stark differences in the survival rates of the different classes aboard Titanic. Although only 3% of first-class women were lost, 54% of those in third class died. Similarly, five of six first-class and all second-class children survived, but 52 of the 79 in third class perished. The differences by gender were even bigger: nearly all female crew members, first and second class passengers were saved. Men from the First Class died at a higher rate than women from the Third Class. In total, 50% of the children survived, 20% of the men and 75% of the women.\n",
    "\n",
    "Titanic's maiden voyage began on Wednesday, 10 April 1912. Following the embarkation of the crew the passengers began arriving at 9:30 a.m., 920 passengers boarded Titanic at Southampton. Additional passengers were to be picked up at Cherbourg and Queenstown.\n",
    "\n",
    "In this case, students will load passenger information from 3 csv files, one for each port of embarkation; then merge them into one pandas DataFrame, clean up the data set and perform exploratory data analysis(EDA) on various factors that affect survival rate.\n"
   ]
  },
  {
   "cell_type": "code",
   "execution_count": 118,
   "metadata": {},
   "outputs": [
    {
     "data": {
      "text/html": [
       "<style>\n",
       "table {float:left}\n",
       "</style>\n"
      ],
      "text/plain": [
       "<IPython.core.display.HTML object>"
      ]
     },
     "metadata": {},
     "output_type": "display_data"
    }
   ],
   "source": [
    "%%html\n",
    "<style>\n",
    "table {float:left}\n",
    "</style>"
   ]
  },
  {
   "cell_type": "markdown",
   "metadata": {},
   "source": [
    "## Data Set\n",
    "There are 3 csv files that contain 891 passenger information. One for each port of embarkation, Southampton, Cherbourg and Queenstown.\n",
    "- Titanic_Southampton.csv  \n",
    "- Titanic_Cherbourg.csv  \n",
    "- Titanic_Queenstown.csv\n",
    "\n",
    "## Data Dictionary\n",
    "| Column | Definition | Key         \n",
    "|:-|:-|:-\n",
    "|Name|Name|\n",
    "|Sex|Gender|\n",
    "|Birthday|Passenger birthday(fake)|\n",
    "|Sibling Spouse|# of siblings / spouses aboard the Titanic|\n",
    "|Parent Children|# of parents / children aboard the Titanic|\n",
    "|Ticket|Ticket Number|\n",
    "|Fare|Passenger Fare|\n",
    "|Cabin|Cabin Number|\n",
    "|Passenger Class|Ticket Class| 1 = 1st, 2 = 2nd, 3 = 3rd\n",
    "|Survived| Survival  | 0 = No, 1 = Yes\n"
   ]
  },
  {
   "cell_type": "markdown",
   "metadata": {},
   "source": [
    "## Load, Clean and Transform"
   ]
  },
  {
   "cell_type": "markdown",
   "metadata": {},
   "source": [
    "### 1. Load Data\n",
    "Load passenger information from 3 csv files which reside in current folder. \n",
    "Add a new column \"Embarked\" in each DataFrame, set value C for passengers boarded in Cherbourg, Q for Queenstown, S for Southampton.\n",
    "Merge 3 DataFrame to one. Check column names in each file and rename columns before merge if necessary."
   ]
  },
  {
   "cell_type": "code",
   "execution_count": 2,
   "metadata": {},
   "outputs": [],
   "source": [
    "import pandas as pd\n",
    "import numpy as np\n",
    "from datetime import datetime"
   ]
  },
  {
   "cell_type": "code",
   "execution_count": 3,
   "metadata": {},
   "outputs": [
    {
     "data": {
      "text/html": [
       "<div>\n",
       "<style scoped>\n",
       "    .dataframe tbody tr th:only-of-type {\n",
       "        vertical-align: middle;\n",
       "    }\n",
       "\n",
       "    .dataframe tbody tr th {\n",
       "        vertical-align: top;\n",
       "    }\n",
       "\n",
       "    .dataframe thead th {\n",
       "        text-align: right;\n",
       "    }\n",
       "</style>\n",
       "<table border=\"1\" class=\"dataframe\">\n",
       "  <thead>\n",
       "    <tr style=\"text-align: right;\">\n",
       "      <th></th>\n",
       "      <th>Survived</th>\n",
       "      <th>Passenger Class</th>\n",
       "      <th>Name</th>\n",
       "      <th>Sex</th>\n",
       "      <th>Sibling Spouse</th>\n",
       "      <th>Parent Children</th>\n",
       "      <th>Ticket</th>\n",
       "      <th>Fare</th>\n",
       "      <th>Cabin</th>\n",
       "      <th>Birthday</th>\n",
       "      <th>Embarked</th>\n",
       "    </tr>\n",
       "  </thead>\n",
       "  <tbody>\n",
       "    <tr>\n",
       "      <th>0</th>\n",
       "      <td>1</td>\n",
       "      <td>1</td>\n",
       "      <td>Cumings, Mrs. John Bradley (Florence Briggs Th...</td>\n",
       "      <td>female</td>\n",
       "      <td>1</td>\n",
       "      <td>0</td>\n",
       "      <td>PC 17599</td>\n",
       "      <td>71.2833</td>\n",
       "      <td>C85</td>\n",
       "      <td>May 06, 1874</td>\n",
       "      <td>C</td>\n",
       "    </tr>\n",
       "    <tr>\n",
       "      <th>1</th>\n",
       "      <td>1</td>\n",
       "      <td>2</td>\n",
       "      <td>Nasser, Mrs. Nicholas (Adele Achem)</td>\n",
       "      <td>female</td>\n",
       "      <td>1</td>\n",
       "      <td>0</td>\n",
       "      <td>237736</td>\n",
       "      <td>30.0708</td>\n",
       "      <td>NaN</td>\n",
       "      <td>Sep 14, 1898</td>\n",
       "      <td>C</td>\n",
       "    </tr>\n",
       "    <tr>\n",
       "      <th>2</th>\n",
       "      <td>1</td>\n",
       "      <td>3</td>\n",
       "      <td>Masselmani, Mrs. Fatima</td>\n",
       "      <td>female</td>\n",
       "      <td>0</td>\n",
       "      <td>0</td>\n",
       "      <td>2649</td>\n",
       "      <td>7.2250</td>\n",
       "      <td>NaN</td>\n",
       "      <td>NaN</td>\n",
       "      <td>C</td>\n",
       "    </tr>\n",
       "    <tr>\n",
       "      <th>3</th>\n",
       "      <td>0</td>\n",
       "      <td>3</td>\n",
       "      <td>Emir, Mr. Farred Chehab</td>\n",
       "      <td>male</td>\n",
       "      <td>0</td>\n",
       "      <td>0</td>\n",
       "      <td>2631</td>\n",
       "      <td>7.2250</td>\n",
       "      <td>NaN</td>\n",
       "      <td>NaN</td>\n",
       "      <td>C</td>\n",
       "    </tr>\n",
       "    <tr>\n",
       "      <th>4</th>\n",
       "      <td>0</td>\n",
       "      <td>1</td>\n",
       "      <td>Uruchurtu, Don. Manuel E</td>\n",
       "      <td>male</td>\n",
       "      <td>0</td>\n",
       "      <td>0</td>\n",
       "      <td>PC 17601</td>\n",
       "      <td>27.7208</td>\n",
       "      <td>NaN</td>\n",
       "      <td>Nov 17, 1872</td>\n",
       "      <td>C</td>\n",
       "    </tr>\n",
       "  </tbody>\n",
       "</table>\n",
       "</div>"
      ],
      "text/plain": [
       "   Survived  Passenger Class  \\\n",
       "0         1                1   \n",
       "1         1                2   \n",
       "2         1                3   \n",
       "3         0                3   \n",
       "4         0                1   \n",
       "\n",
       "                                                Name     Sex  Sibling Spouse  \\\n",
       "0  Cumings, Mrs. John Bradley (Florence Briggs Th...  female               1   \n",
       "1                Nasser, Mrs. Nicholas (Adele Achem)  female               1   \n",
       "2                            Masselmani, Mrs. Fatima  female               0   \n",
       "3                            Emir, Mr. Farred Chehab    male               0   \n",
       "4                           Uruchurtu, Don. Manuel E    male               0   \n",
       "\n",
       "   Parent Children    Ticket     Fare Cabin      Birthday Embarked  \n",
       "0                0  PC 17599  71.2833   C85  May 06, 1874        C  \n",
       "1                0    237736  30.0708   NaN  Sep 14, 1898        C  \n",
       "2                0      2649   7.2250   NaN           NaN        C  \n",
       "3                0      2631   7.2250   NaN           NaN        C  \n",
       "4                0  PC 17601  27.7208   NaN  Nov 17, 1872        C  "
      ]
     },
     "execution_count": 3,
     "metadata": {},
     "output_type": "execute_result"
    }
   ],
   "source": [
    "df_c = pd.read_csv('Titanic_Cherbourg.csv')\n",
    "df_c['Embarked'] = 'C'\n",
    "df_c.head()\n"
   ]
  },
  {
   "cell_type": "code",
   "execution_count": 4,
   "metadata": {},
   "outputs": [
    {
     "data": {
      "text/html": [
       "<div>\n",
       "<style scoped>\n",
       "    .dataframe tbody tr th:only-of-type {\n",
       "        vertical-align: middle;\n",
       "    }\n",
       "\n",
       "    .dataframe tbody tr th {\n",
       "        vertical-align: top;\n",
       "    }\n",
       "\n",
       "    .dataframe thead th {\n",
       "        text-align: right;\n",
       "    }\n",
       "</style>\n",
       "<table border=\"1\" class=\"dataframe\">\n",
       "  <thead>\n",
       "    <tr style=\"text-align: right;\">\n",
       "      <th></th>\n",
       "      <th>Survived</th>\n",
       "      <th>Passenger Class</th>\n",
       "      <th>Name</th>\n",
       "      <th>Sex</th>\n",
       "      <th>Sibling Spouse</th>\n",
       "      <th>Parent Children</th>\n",
       "      <th>Ticket</th>\n",
       "      <th>Fare</th>\n",
       "      <th>Cabin</th>\n",
       "      <th>Birthday</th>\n",
       "      <th>Embarked</th>\n",
       "    </tr>\n",
       "  </thead>\n",
       "  <tbody>\n",
       "    <tr>\n",
       "      <th>0</th>\n",
       "      <td>0</td>\n",
       "      <td>3</td>\n",
       "      <td>Moran, Mr. James</td>\n",
       "      <td>male</td>\n",
       "      <td>0</td>\n",
       "      <td>0</td>\n",
       "      <td>330877</td>\n",
       "      <td>8.4583</td>\n",
       "      <td>NaN</td>\n",
       "      <td>NaN</td>\n",
       "      <td>Q</td>\n",
       "    </tr>\n",
       "    <tr>\n",
       "      <th>1</th>\n",
       "      <td>0</td>\n",
       "      <td>3</td>\n",
       "      <td>Rice, Master. Eugene</td>\n",
       "      <td>male</td>\n",
       "      <td>4</td>\n",
       "      <td>1</td>\n",
       "      <td>382652</td>\n",
       "      <td>29.1250</td>\n",
       "      <td>NaN</td>\n",
       "      <td>02.01.1911</td>\n",
       "      <td>Q</td>\n",
       "    </tr>\n",
       "    <tr>\n",
       "      <th>2</th>\n",
       "      <td>1</td>\n",
       "      <td>3</td>\n",
       "      <td>McGowan, Miss. Anna \"Annie\"</td>\n",
       "      <td>female</td>\n",
       "      <td>0</td>\n",
       "      <td>0</td>\n",
       "      <td>330923</td>\n",
       "      <td>8.0292</td>\n",
       "      <td>NaN</td>\n",
       "      <td>05.24.1897</td>\n",
       "      <td>Q</td>\n",
       "    </tr>\n",
       "    <tr>\n",
       "      <th>3</th>\n",
       "      <td>1</td>\n",
       "      <td>3</td>\n",
       "      <td>O'Dwyer, Miss. Ellen \"Nellie\"</td>\n",
       "      <td>female</td>\n",
       "      <td>0</td>\n",
       "      <td>0</td>\n",
       "      <td>330959</td>\n",
       "      <td>7.8792</td>\n",
       "      <td>NaN</td>\n",
       "      <td>NaN</td>\n",
       "      <td>Q</td>\n",
       "    </tr>\n",
       "    <tr>\n",
       "      <th>4</th>\n",
       "      <td>1</td>\n",
       "      <td>3</td>\n",
       "      <td>Glynn, Miss. Mary Agatha</td>\n",
       "      <td>female</td>\n",
       "      <td>0</td>\n",
       "      <td>0</td>\n",
       "      <td>335677</td>\n",
       "      <td>7.7500</td>\n",
       "      <td>NaN</td>\n",
       "      <td>NaN</td>\n",
       "      <td>Q</td>\n",
       "    </tr>\n",
       "  </tbody>\n",
       "</table>\n",
       "</div>"
      ],
      "text/plain": [
       "   Survived  Passenger Class                           Name     Sex  \\\n",
       "0         0                3               Moran, Mr. James    male   \n",
       "1         0                3           Rice, Master. Eugene    male   \n",
       "2         1                3    McGowan, Miss. Anna \"Annie\"  female   \n",
       "3         1                3  O'Dwyer, Miss. Ellen \"Nellie\"  female   \n",
       "4         1                3       Glynn, Miss. Mary Agatha  female   \n",
       "\n",
       "   Sibling Spouse  Parent Children  Ticket     Fare Cabin    Birthday Embarked  \n",
       "0               0                0  330877   8.4583   NaN         NaN        Q  \n",
       "1               4                1  382652  29.1250   NaN  02.01.1911        Q  \n",
       "2               0                0  330923   8.0292   NaN  05.24.1897        Q  \n",
       "3               0                0  330959   7.8792   NaN         NaN        Q  \n",
       "4               0                0  335677   7.7500   NaN         NaN        Q  "
      ]
     },
     "execution_count": 4,
     "metadata": {},
     "output_type": "execute_result"
    }
   ],
   "source": [
    "df_q = pd.read_csv('Titanic_Queenstown.csv')\n",
    "df_q['Embarked'] = 'Q'\n",
    "df_q.head()"
   ]
  },
  {
   "cell_type": "code",
   "execution_count": 5,
   "metadata": {
    "scrolled": true
   },
   "outputs": [
    {
     "data": {
      "text/html": [
       "<div>\n",
       "<style scoped>\n",
       "    .dataframe tbody tr th:only-of-type {\n",
       "        vertical-align: middle;\n",
       "    }\n",
       "\n",
       "    .dataframe tbody tr th {\n",
       "        vertical-align: top;\n",
       "    }\n",
       "\n",
       "    .dataframe thead th {\n",
       "        text-align: right;\n",
       "    }\n",
       "</style>\n",
       "<table border=\"1\" class=\"dataframe\">\n",
       "  <thead>\n",
       "    <tr style=\"text-align: right;\">\n",
       "      <th></th>\n",
       "      <th>Survived</th>\n",
       "      <th>Passenger Class</th>\n",
       "      <th>Name</th>\n",
       "      <th>Gender</th>\n",
       "      <th>Sibling Spouse</th>\n",
       "      <th>Parent Children</th>\n",
       "      <th>Ticket</th>\n",
       "      <th>Fare</th>\n",
       "      <th>Cabin</th>\n",
       "      <th>Birthday</th>\n",
       "      <th>Embarked</th>\n",
       "    </tr>\n",
       "  </thead>\n",
       "  <tbody>\n",
       "    <tr>\n",
       "      <th>0</th>\n",
       "      <td>0</td>\n",
       "      <td>3</td>\n",
       "      <td>Braund, Mr. Owen Harris</td>\n",
       "      <td>male</td>\n",
       "      <td>1</td>\n",
       "      <td>0</td>\n",
       "      <td>A/5 21171</td>\n",
       "      <td>$7.25</td>\n",
       "      <td>NaN</td>\n",
       "      <td>1891-03-04</td>\n",
       "      <td>S</td>\n",
       "    </tr>\n",
       "    <tr>\n",
       "      <th>1</th>\n",
       "      <td>1</td>\n",
       "      <td>3</td>\n",
       "      <td>Heikkinen, Miss. Laina</td>\n",
       "      <td>female</td>\n",
       "      <td>0</td>\n",
       "      <td>0</td>\n",
       "      <td>STON/O2. 3101282</td>\n",
       "      <td>$7.925</td>\n",
       "      <td>NaN</td>\n",
       "      <td>1886-12-04</td>\n",
       "      <td>S</td>\n",
       "    </tr>\n",
       "    <tr>\n",
       "      <th>2</th>\n",
       "      <td>1</td>\n",
       "      <td>1</td>\n",
       "      <td>Futrelle, Mrs. Jacques Heath (Lily May Peel)</td>\n",
       "      <td>female</td>\n",
       "      <td>1</td>\n",
       "      <td>0</td>\n",
       "      <td>113803</td>\n",
       "      <td>$53.1</td>\n",
       "      <td>C123</td>\n",
       "      <td>1878-02-15</td>\n",
       "      <td>S</td>\n",
       "    </tr>\n",
       "    <tr>\n",
       "      <th>3</th>\n",
       "      <td>0</td>\n",
       "      <td>3</td>\n",
       "      <td>Allen, Mr. William Henry</td>\n",
       "      <td>male</td>\n",
       "      <td>0</td>\n",
       "      <td>0</td>\n",
       "      <td>373450</td>\n",
       "      <td>$8.05</td>\n",
       "      <td>NaN</td>\n",
       "      <td>1877-10-02</td>\n",
       "      <td>S</td>\n",
       "    </tr>\n",
       "    <tr>\n",
       "      <th>4</th>\n",
       "      <td>0</td>\n",
       "      <td>1</td>\n",
       "      <td>McCarthy, Mr. Timothy J</td>\n",
       "      <td>male</td>\n",
       "      <td>0</td>\n",
       "      <td>0</td>\n",
       "      <td>17463</td>\n",
       "      <td>$51.8625</td>\n",
       "      <td>E46</td>\n",
       "      <td>1858-12-10</td>\n",
       "      <td>S</td>\n",
       "    </tr>\n",
       "  </tbody>\n",
       "</table>\n",
       "</div>"
      ],
      "text/plain": [
       "   Survived  Passenger Class                                          Name  \\\n",
       "0         0                3                       Braund, Mr. Owen Harris   \n",
       "1         1                3                        Heikkinen, Miss. Laina   \n",
       "2         1                1  Futrelle, Mrs. Jacques Heath (Lily May Peel)   \n",
       "3         0                3                      Allen, Mr. William Henry   \n",
       "4         0                1                       McCarthy, Mr. Timothy J   \n",
       "\n",
       "   Gender  Sibling Spouse  Parent Children            Ticket      Fare Cabin  \\\n",
       "0    male               1                0         A/5 21171     $7.25   NaN   \n",
       "1  female               0                0  STON/O2. 3101282    $7.925   NaN   \n",
       "2  female               1                0            113803     $53.1  C123   \n",
       "3    male               0                0            373450     $8.05   NaN   \n",
       "4    male               0                0             17463  $51.8625   E46   \n",
       "\n",
       "     Birthday Embarked  \n",
       "0  1891-03-04        S  \n",
       "1  1886-12-04        S  \n",
       "2  1878-02-15        S  \n",
       "3  1877-10-02        S  \n",
       "4  1858-12-10        S  "
      ]
     },
     "execution_count": 5,
     "metadata": {},
     "output_type": "execute_result"
    }
   ],
   "source": [
    "df_s = pd.read_csv('Titanic_Southampton.csv')\n",
    "df_s['Embarked'] = 'S'\n",
    "df_s.head()"
   ]
  },
  {
   "cell_type": "code",
   "execution_count": 6,
   "metadata": {},
   "outputs": [
    {
     "data": {
      "text/html": [
       "<div>\n",
       "<style scoped>\n",
       "    .dataframe tbody tr th:only-of-type {\n",
       "        vertical-align: middle;\n",
       "    }\n",
       "\n",
       "    .dataframe tbody tr th {\n",
       "        vertical-align: top;\n",
       "    }\n",
       "\n",
       "    .dataframe thead th {\n",
       "        text-align: right;\n",
       "    }\n",
       "</style>\n",
       "<table border=\"1\" class=\"dataframe\">\n",
       "  <thead>\n",
       "    <tr style=\"text-align: right;\">\n",
       "      <th></th>\n",
       "      <th>Survived</th>\n",
       "      <th>Passenger Class</th>\n",
       "      <th>Name</th>\n",
       "      <th>Sex</th>\n",
       "      <th>Sibling Spouse</th>\n",
       "      <th>Parent Children</th>\n",
       "      <th>Ticket</th>\n",
       "      <th>Fare</th>\n",
       "      <th>Cabin</th>\n",
       "      <th>Birthday</th>\n",
       "      <th>Embarked</th>\n",
       "    </tr>\n",
       "  </thead>\n",
       "  <tbody>\n",
       "    <tr>\n",
       "      <th>0</th>\n",
       "      <td>0</td>\n",
       "      <td>3</td>\n",
       "      <td>Braund, Mr. Owen Harris</td>\n",
       "      <td>male</td>\n",
       "      <td>1</td>\n",
       "      <td>0</td>\n",
       "      <td>A/5 21171</td>\n",
       "      <td>$7.25</td>\n",
       "      <td>NaN</td>\n",
       "      <td>1891-03-04</td>\n",
       "      <td>S</td>\n",
       "    </tr>\n",
       "    <tr>\n",
       "      <th>1</th>\n",
       "      <td>1</td>\n",
       "      <td>3</td>\n",
       "      <td>Heikkinen, Miss. Laina</td>\n",
       "      <td>female</td>\n",
       "      <td>0</td>\n",
       "      <td>0</td>\n",
       "      <td>STON/O2. 3101282</td>\n",
       "      <td>$7.925</td>\n",
       "      <td>NaN</td>\n",
       "      <td>1886-12-04</td>\n",
       "      <td>S</td>\n",
       "    </tr>\n",
       "    <tr>\n",
       "      <th>2</th>\n",
       "      <td>1</td>\n",
       "      <td>1</td>\n",
       "      <td>Futrelle, Mrs. Jacques Heath (Lily May Peel)</td>\n",
       "      <td>female</td>\n",
       "      <td>1</td>\n",
       "      <td>0</td>\n",
       "      <td>113803</td>\n",
       "      <td>$53.1</td>\n",
       "      <td>C123</td>\n",
       "      <td>1878-02-15</td>\n",
       "      <td>S</td>\n",
       "    </tr>\n",
       "    <tr>\n",
       "      <th>3</th>\n",
       "      <td>0</td>\n",
       "      <td>3</td>\n",
       "      <td>Allen, Mr. William Henry</td>\n",
       "      <td>male</td>\n",
       "      <td>0</td>\n",
       "      <td>0</td>\n",
       "      <td>373450</td>\n",
       "      <td>$8.05</td>\n",
       "      <td>NaN</td>\n",
       "      <td>1877-10-02</td>\n",
       "      <td>S</td>\n",
       "    </tr>\n",
       "    <tr>\n",
       "      <th>4</th>\n",
       "      <td>0</td>\n",
       "      <td>1</td>\n",
       "      <td>McCarthy, Mr. Timothy J</td>\n",
       "      <td>male</td>\n",
       "      <td>0</td>\n",
       "      <td>0</td>\n",
       "      <td>17463</td>\n",
       "      <td>$51.8625</td>\n",
       "      <td>E46</td>\n",
       "      <td>1858-12-10</td>\n",
       "      <td>S</td>\n",
       "    </tr>\n",
       "  </tbody>\n",
       "</table>\n",
       "</div>"
      ],
      "text/plain": [
       "   Survived  Passenger Class                                          Name  \\\n",
       "0         0                3                       Braund, Mr. Owen Harris   \n",
       "1         1                3                        Heikkinen, Miss. Laina   \n",
       "2         1                1  Futrelle, Mrs. Jacques Heath (Lily May Peel)   \n",
       "3         0                3                      Allen, Mr. William Henry   \n",
       "4         0                1                       McCarthy, Mr. Timothy J   \n",
       "\n",
       "      Sex  Sibling Spouse  Parent Children            Ticket      Fare Cabin  \\\n",
       "0    male               1                0         A/5 21171     $7.25   NaN   \n",
       "1  female               0                0  STON/O2. 3101282    $7.925   NaN   \n",
       "2  female               1                0            113803     $53.1  C123   \n",
       "3    male               0                0            373450     $8.05   NaN   \n",
       "4    male               0                0             17463  $51.8625   E46   \n",
       "\n",
       "     Birthday Embarked  \n",
       "0  1891-03-04        S  \n",
       "1  1886-12-04        S  \n",
       "2  1878-02-15        S  \n",
       "3  1877-10-02        S  \n",
       "4  1858-12-10        S  "
      ]
     },
     "execution_count": 6,
     "metadata": {},
     "output_type": "execute_result"
    }
   ],
   "source": [
    "df_s = df_s.rename(columns={'Gender':'Sex'})\n",
    "df_s.head()"
   ]
  },
  {
   "cell_type": "code",
   "execution_count": 7,
   "metadata": {},
   "outputs": [],
   "source": [
    "df = pd.concat([df_c, df_q, df_s], axis=0) "
   ]
  },
  {
   "cell_type": "code",
   "execution_count": 8,
   "metadata": {
    "scrolled": true
   },
   "outputs": [
    {
     "name": "stdout",
     "output_type": "stream",
     "text": [
      "<class 'pandas.core.frame.DataFrame'>\n",
      "Int64Index: 889 entries, 0 to 643\n",
      "Data columns (total 11 columns):\n",
      "Survived           889 non-null int64\n",
      "Passenger Class    889 non-null int64\n",
      "Name               889 non-null object\n",
      "Sex                889 non-null object\n",
      "Sibling Spouse     889 non-null int64\n",
      "Parent Children    889 non-null int64\n",
      "Ticket             889 non-null object\n",
      "Fare               889 non-null object\n",
      "Cabin              202 non-null object\n",
      "Birthday           712 non-null object\n",
      "Embarked           889 non-null object\n",
      "dtypes: int64(4), object(7)\n",
      "memory usage: 83.3+ KB\n"
     ]
    }
   ],
   "source": [
    "df.info()"
   ]
  },
  {
   "cell_type": "markdown",
   "metadata": {},
   "source": [
    "### 2. Clean Up Data\n",
    "1. Change column names.\n",
    "    - Column names should not contain spaces. Inster of Passenger Class as column name, it should be PassengerClass or Passenger_Class.\n",
    "    - Special characters(eg. $,&,%) should not be used in column names.\n",
    "    - Column names should be descriptive.\n",
    "2. Convert Fare to float\n",
    "3. Convert Birthday to datetime(pd.to_dateitme may not work when there're various datetime format in the column)"
   ]
  },
  {
   "cell_type": "code",
   "execution_count": 9,
   "metadata": {},
   "outputs": [
    {
     "data": {
      "text/plain": [
       "Index(['Survived', 'Passenger Class', 'Name', 'Sex', 'Sibling Spouse',\n",
       "       'Parent Children', 'Ticket', 'Fare', 'Cabin', 'Birthday', 'Embarked'],\n",
       "      dtype='object')"
      ]
     },
     "execution_count": 9,
     "metadata": {},
     "output_type": "execute_result"
    }
   ],
   "source": [
    "df.columns"
   ]
  },
  {
   "cell_type": "code",
   "execution_count": 10,
   "metadata": {},
   "outputs": [],
   "source": [
    "df.columns = ['Survived', 'PassengerClass', 'Name', 'Sex', 'SiblingSpouse',\n",
    "       'ParentChildren', 'Ticket', 'Fare', 'Cabin', 'Birthday', 'Embarked']"
   ]
  },
  {
   "cell_type": "code",
   "execution_count": 11,
   "metadata": {
    "scrolled": true
   },
   "outputs": [
    {
     "name": "stdout",
     "output_type": "stream",
     "text": [
      "<class 'pandas.core.frame.DataFrame'>\n",
      "Int64Index: 889 entries, 0 to 643\n",
      "Data columns (total 11 columns):\n",
      "Survived          889 non-null int64\n",
      "PassengerClass    889 non-null int64\n",
      "Name              889 non-null object\n",
      "Sex               889 non-null object\n",
      "SiblingSpouse     889 non-null int64\n",
      "ParentChildren    889 non-null int64\n",
      "Ticket            889 non-null object\n",
      "Fare              644 non-null float64\n",
      "Cabin             202 non-null object\n",
      "Birthday          712 non-null object\n",
      "Embarked          889 non-null object\n",
      "dtypes: float64(1), int64(4), object(6)\n",
      "memory usage: 83.3+ KB\n"
     ]
    }
   ],
   "source": [
    "df.Fare = df.Fare.str.replace('$', '').astype(float)\n",
    "df.info()"
   ]
  },
  {
   "cell_type": "code",
   "execution_count": 12,
   "metadata": {
    "scrolled": false
   },
   "outputs": [
    {
     "data": {
      "text/plain": [
       "array(['May 06, 1874', 'Sep 14, 1898', nan, 'Nov 17, 1872',\n",
       "       'Nov 24, 1884', 'Oct 12, 1898', 'May 25, 1909', 'Mar 03, 1864',\n",
       "       'Sep 29, 1847', 'Apr 22, 1884', 'Aug 23, 1890', 'May 03, 1886',\n",
       "       'Jun 16, 1841', 'Sep 29, 1889', 'Dec 10, 1897', 'May 11, 1895',\n",
       "       'Oct 03, 1888', 'Apr 06, 1880', 'Jan 18, 1901', 'Apr 24, 1879',\n",
       "       'Apr 28, 1889', 'May 21, 1888', 'Feb 19, 1862', 'Jun 06, 1856',\n",
       "       'Sep 04, 1862', 'Feb 19, 1869', 'Oct 15, 1854', 'Aug 09, 1867',\n",
       "       'May 29, 1886', 'Apr 09, 1873', 'Jun 04, 1881', 'Oct 05, 1880',\n",
       "       'May 26, 1882', 'May 02, 1883', 'Apr 11, 1878', 'Jul 07, 1875',\n",
       "       'Nov 08, 1879', 'Apr 08, 1894', 'Aug 26, 1876', 'Jun 17, 1889',\n",
       "       'Nov 22, 1862', 'Aug 03, 1895', 'Nov 03, 1882', 'May 17, 1882',\n",
       "       'Mar 27, 1889', 'Apr 01, 1895', 'May 17, 1872', 'Nov 24, 1876',\n",
       "       'Feb 03, 1897', 'Dec 27, 1871', 'Sep 29, 1897', 'Feb 23, 1884',\n",
       "       'Jan 08, 1868', 'Aug 15, 1852', 'Jun 12, 1888', 'Jul 01, 1887',\n",
       "       'Jan 16, 1891', 'Jun 15, 1885', 'Jan 23, 1893', 'Apr 13, 1871',\n",
       "       'Mar 28, 1912', 'Oct 15, 1895', 'Apr 11, 1890', 'Nov 20, 1907',\n",
       "       'May 18, 1882', 'Aug 14, 1863', 'Sep 24, 1883', 'Jul 17, 1911',\n",
       "       'Aug 30, 1889', 'Aug 23, 1887', 'Mar 19, 1855', 'Jan 13, 1842',\n",
       "       'Mar 19, 1859', 'May 11, 1894', 'Jun 24, 1858', 'Jul 14, 1868',\n",
       "       'Mar 08, 1896', 'Mar 13, 1883', 'Oct 02, 1890', 'Jun 22, 1862',\n",
       "       'Sep 20, 1895', 'Feb 17, 1891', 'Aug 18, 1864', 'Jan 23, 1874',\n",
       "       'Jan 02, 1877', 'Mar 29, 1853', 'Oct 19, 1860', 'Mar 26, 1864',\n",
       "       'Dec 05, 1877', 'May 02, 1890', 'Oct 29, 1885', 'Jun 24, 1892',\n",
       "       'Aug 16, 1880', 'Nov 24, 1888', 'May 02, 1864', 'Feb 24, 1857',\n",
       "       'Feb 13, 1855', 'Jan 21, 1873', 'Mar 31, 1877', 'Oct 07, 1885',\n",
       "       'Mar 08, 1888', 'Jun 06, 1908', 'Nov 11, 1887', 'Mar 10, 1864',\n",
       "       'Mar 24, 1895', 'Mar 01, 1895', 'Apr 21, 1888', 'Nov 30, 1874',\n",
       "       'Sep 25, 1901', 'Jun 17, 1877', 'Dec 09, 1891', 'Sep 22, 1892',\n",
       "       'Oct 14, 1899', 'Jul 27, 1866', 'May 10, 1882', 'Nov 14, 1911',\n",
       "       'Oct 09, 1881', 'Jan 23, 1912', 'Jul 28, 1897', 'Aug 15, 1873',\n",
       "       'Jul 06, 1882', 'Nov 23, 1877', 'Oct 15, 1877', 'Jul 11, 1903',\n",
       "       'Oct 17, 1888', 'Mar 19, 1886', 'Jan 18, 1885', 'Nov 09, 1897',\n",
       "       'Jul 01, 1856', 'Feb 05, 1887', '02.01.1911', '05.24.1897',\n",
       "       '10.05.1893', '07.22.1842', '02.07.1894', '01.04.1897',\n",
       "       '04.30.1908', '09.13.1872', '09.05.1896', '06.25.1868',\n",
       "       '01.30.1906', '02.23.1848', '03.17.1891', '12.28.1882',\n",
       "       '08.31.1879', '08.02.1891', '11.12.1891', '02.15.1884',\n",
       "       '06.26.1872', '11.17.1855', '05.29.1894', '07.03.1880',\n",
       "       '03.08.1888', '04.12.1882', '10.27.1881', '11.12.1904',\n",
       "       '11.06.1873', '08.29.1880', '1891-03-04', '1886-12-04',\n",
       "       '1878-02-15', '1877-10-02', '1858-12-10', '1910-12-23',\n",
       "       '1886-02-11', '1908-07-21', '1854-11-23', '1892-11-02',\n",
       "       '1873-10-19', '1898-05-11', '1857-07-02', '1882-02-12',\n",
       "       '1877-08-30', '1879-01-11', '1885-02-06', '1904-07-01',\n",
       "       '1874-06-22', '1893-07-25', '1846-09-21', '1870-08-26',\n",
       "       '1892-03-22', '1894-08-16', '1872-08-22', '1886-03-26',\n",
       "       '1894-07-07', '1906-01-11', '1892-01-11', '1884-01-27',\n",
       "       '1891-06-02', '1908-01-02', '1902-01-01', '1868-04-15',\n",
       "       '1909-01-01', '1884-03-25', '1894-02-03', '1895-12-19',\n",
       "       '1886-05-21', '1881-02-25', '1896-07-23', '1892-02-26',\n",
       "       '1880-12-21', '1887-10-31', '1911-06-18', '1882-05-30',\n",
       "       '1891-02-13', '1884-03-22', '1884-11-16', '1895-10-18',\n",
       "       '1879-07-24', '1896-12-22', '1890-01-30', '1888-06-04',\n",
       "       '1883-09-26', '1893-03-17', '1866-09-05', '1887-02-11',\n",
       "       '1853-10-03', '1878-07-28', '1884-09-01', '1891-11-01',\n",
       "       '1879-09-22', '1875-09-21', '1884-12-12', '1891-06-05',\n",
       "       '1874-11-08', '1865-07-27', '1890-05-10', '1892-08-03',\n",
       "       '1891-12-28', '1883-09-22', '1910-07-05', '1891-12-10',\n",
       "       '1880-02-22', '1858-06-30', '1889-03-22', '1867-08-06',\n",
       "       '1893-03-09', '1866-02-24', '1883-12-30', '1887-09-29',\n",
       "       '1893-05-28', '1875-06-30', '1896-11-05', '1890-12-12',\n",
       "       '1888-07-02', '1895-04-03', '1894-02-15', '1885-11-18',\n",
       "       '1904-04-09', '1876-04-11', '1870-06-28', '1861-06-10',\n",
       "       '1890-07-19', '1857-09-06', '1871-11-07', '1882-06-17',\n",
       "       '1868-08-06', '1873-03-18', '1887-01-14', '1895-12-29',\n",
       "       '1911-05-09', '1903-06-20', '1867-11-05', '1884-10-31',\n",
       "       '1851-09-13', '1911-09-06', '1891-11-08', '1894-06-16',\n",
       "       '1883-03-21', '1876-10-28', '1904-04-07', '1911-08-15',\n",
       "       '1908-11-15', '1867-06-23', '1877-02-03', '1880-05-16',\n",
       "       '1894-04-12', '1893-12-12', '1909-11-01', '1871-01-09',\n",
       "       '1889-01-16', '1884-10-02', '1878-06-22', '1894-06-19',\n",
       "       '1911-02-28', '1880-04-23', '1889-04-05', '1878-04-17',\n",
       "       '1890-08-15', '1882-12-27', '1886-01-15', '1870-09-07',\n",
       "       '1883-01-31', '1896-10-19', '1885-08-30', '1862-01-06',\n",
       "       '1874-06-29', '1890-05-06', '1894-01-30', '1892-05-03',\n",
       "       '1894-06-12', '1877-06-05', '1884-02-14', '1853-07-09',\n",
       "       '1907-06-29', '1889-01-29', '1868-10-04', '1904-07-25',\n",
       "       '1893-10-11', '1880-01-21', '1884-03-07', '1890-09-14',\n",
       "       '1888-02-26', '1888-10-29', '1876-04-03', '1858-09-02',\n",
       "       '1883-12-15', '1851-04-07', '1882-11-12', '1871-05-02',\n",
       "       '1882-07-12', '1863-04-08', '1909-12-10', '1860-05-11',\n",
       "       '1872-07-24', '1876-08-10', '1896-12-24', '1887-11-13',\n",
       "       '1854-09-09', '1877-12-30', '1887-04-23', '1872-02-21',\n",
       "       '1850-03-09', '1868-01-20', '1877-09-14', '1884-07-23',\n",
       "       '1893-07-31', '1882-09-07', '1890-10-19', '1870-09-17',\n",
       "       '1886-11-07', '1889-02-23', '1888-11-03', '1910-10-15',\n",
       "       '1893-05-04', '1911-05-16', '1886-06-07', '1884-07-19',\n",
       "       '1869-08-28', '1886-12-02', '1888-10-12', '1858-11-27',\n",
       "       '1881-12-24', '1890-10-03', '1885-10-12', '1890-05-14',\n",
       "       '1852-04-19', '1877-04-11', '1881-12-05', '1867-06-17',\n",
       "       '1874-11-04', '1896-11-13', '1884-02-29', '1867-06-26',\n",
       "       '1868-01-31', '1910-07-04', '1888-06-09', '1884-06-04',\n",
       "       '1888-03-27', '1877-01-04', '1888-06-29', '1872-07-28',\n",
       "       '1909-06-02', '1870-11-17', '1889-09-10', '1888-04-06',\n",
       "       '1884-09-20', '1890-10-31', '1875-01-22', '1873-04-10',\n",
       "       '1878-01-20', '1882-09-09', '1895-01-15', '1893-07-17',\n",
       "       '1909-04-28', '1890-10-18', '1893-06-02', '1880-09-11',\n",
       "       '1877-12-17', '1894-08-07', '1912-03-09', '1876-07-05',\n",
       "       '1876-09-29', '1892-01-23', '1885-01-19', '1889-01-05',\n",
       "       '1891-03-06', '1881-07-29', '1866-09-27', '1889-08-21',\n",
       "       '1885-04-14', '1873-12-25', '1886-06-15', '1891-06-09',\n",
       "       '1884-06-29', '1878-08-02', '1861-10-06', '1909-11-22',\n",
       "       '1891-11-10', '1868-12-25', '1878-07-30', '1894-07-21',\n",
       "       '1882-06-08', '1903-03-06', '1883-07-10', '1884-12-11',\n",
       "       '1894-05-15', '1884-07-18', '1893-12-08', '1880-12-27',\n",
       "       '1884-11-01', '1870-11-22', '1895-06-22', '1862-09-26',\n",
       "       '1899-01-22', '1891-06-12', '1888-07-29', '1848-12-22',\n",
       "       '1881-06-08', '1868-01-24', '1892-08-24', '1887-10-07',\n",
       "       '1885-01-09', '1908-09-05', '1900-04-13', '1879-03-05',\n",
       "       '1861-03-30', '1876-05-10', '1847-07-25', '1862-07-10',\n",
       "       '1864-09-26', '1878-07-26', '1865-09-20', '1865-02-27',\n",
       "       '1874-10-27', '1856-06-24', '1874-05-28', '1879-11-21',\n",
       "       '1890-07-07', '1878-09-29', '1884-01-10', '1890-07-04',\n",
       "       '1910-08-25', '1903-07-08', '1862-09-23', '1850-03-23',\n",
       "       '1877-12-04', '1882-05-20', '1903-11-26', '1891-06-17',\n",
       "       '1858-01-29', '1891-12-21', '1887-07-22', '1888-05-21',\n",
       "       '1896-02-18', '1875-05-07', '1896-07-07', '1879-12-09',\n",
       "       '1885-01-08', '1887-04-11', '1876-12-03', '1888-06-06',\n",
       "       '1866-01-02', '1878-05-03', '1876-08-25', '1880-10-24',\n",
       "       '1882-08-01', '1890-06-24', '1862-08-31', '1874-02-05',\n",
       "       '1889-07-22', '1910-10-13', '1882-06-19', '1906-01-05',\n",
       "       '1867-10-23', '1876-09-07', '1903-11-11', '1901-11-07',\n",
       "       '1880-11-02', '1848-05-18', '1893-05-02', '1879-06-16',\n",
       "       '1904-11-29', '1885-04-29', '1890-05-03', '1850-07-27',\n",
       "       '1874-04-08', '1872-12-05', '1885-01-12', '1889-02-18',\n",
       "       '1893-05-18', '1883-12-28', '1880-09-02', '1850-10-11',\n",
       "       '1859-09-22', '1876-10-01', '1896-11-10', '1893-04-28',\n",
       "       '1879-02-17', '1874-04-10', '1881-03-12', '1888-03-08',\n",
       "       '1859-02-24', '1894-09-15', '1866-04-08', '1891-01-24',\n",
       "       '1877-12-01', '1865-12-12', '1875-07-02', '1876-10-26',\n",
       "       '1863-11-02', '1868-05-04', '1876-11-09', '1882-06-02',\n",
       "       '1886-02-28', '1873-04-12', '1873-12-08', '1877-11-04',\n",
       "       '1888-08-06', '1879-01-28', '1887-01-10', '1908-07-24',\n",
       "       '1886-09-21', '1870-12-12', '1891-07-09', '1891-12-14',\n",
       "       '1851-12-28', '1891-04-24', '1886-12-20', '1832-09-03',\n",
       "       '1861-06-28', '1904-04-01', '1885-02-01', '1880-12-24',\n",
       "       '1881-05-14', '1871-12-16', '1892-10-15', '1910-06-20',\n",
       "       '1894-03-31', '1889-09-05', '1894-12-11', '1891-05-15',\n",
       "       '1888-07-30', '1889-12-21', '1862-08-19', '1865-05-19',\n",
       "       '1876-07-11', '1892-05-18', '1880-11-01', '1887-05-23',\n",
       "       '1870-04-19', '1873-03-21', '1882-04-07', '1843-01-26',\n",
       "       '1881-09-17', '1894-04-26', '1888-05-27', '1894-10-16',\n",
       "       '1869-11-02', '1892-10-02', '1898-09-10', '1852-07-03',\n",
       "       '1898-06-08', '1893-12-18', '1894-10-08', '1898-01-15',\n",
       "       '1881-04-25', '1852-05-12', '1861-04-12', '1869-02-22',\n",
       "       '1871-01-12', '1877-08-06', '1887-02-07', '1873-12-16',\n",
       "       '1867-07-16', '1871-03-09', '1890-12-10', '1865-03-30',\n",
       "       '1884-03-16', '1860-12-30', '1894-01-22', '1885-09-12',\n",
       "       '1879-07-12', '1906-12-20', '1895-08-27', '1878-06-12',\n",
       "       '1862-08-25', '1885-11-25', '1892-07-01', '1882-06-16',\n",
       "       '1887-11-11', '1888-04-09', '1883-11-01', '1889-07-26',\n",
       "       '1889-06-28', '1883-10-31', '1864-06-30', '1888-12-02',\n",
       "       '1881-06-24', '1842-11-01', '1897-02-20', '1882-06-22',\n",
       "       '1893-05-01', '1909-04-02', '1907-04-01', '1879-10-20',\n",
       "       '1890-02-14', '1864-07-30', '1884-05-28', '1894-04-21',\n",
       "       '1878-05-04', '1879-10-14', '1871-12-08', '1876-08-05',\n",
       "       '1896-05-24', '1862-03-13', '1880-11-22', '1864-07-06',\n",
       "       '1856-02-13', '1858-11-01', '1894-09-22', '1907-07-03',\n",
       "       '1870-01-19', '1895-04-26', '1883-09-10', '1887-11-27',\n",
       "       '1887-06-22', '1894-12-14', '1911-12-31', '1897-02-12',\n",
       "       '1887-12-24', '1873-06-16', '1863-04-29', '1882-01-10',\n",
       "       '1883-01-12', '1878-09-25', '1901-04-22', '1885-04-25',\n",
       "       '1882-03-04', '1873-09-06', '1894-10-11', '1873-04-26',\n",
       "       '1879-07-17', '1886-07-14', '1874-03-06', '1877-09-21',\n",
       "       '1907-01-28', '1882-10-11', '1889-07-08', '1869-05-03',\n",
       "       '1902-12-22', '1860-06-22', '1885-09-22', '1875-03-08',\n",
       "       '1885-12-22', '1910-11-05', '1889-11-09', '1894-07-24',\n",
       "       '1891-07-21', '1880-08-18', '1892-08-16', '1897-01-04',\n",
       "       '1895-05-15', '1870-08-12', '1884-12-17', '1908-09-22',\n",
       "       '1838-05-23', '1896-04-27', '1868-07-31', '1895-01-07',\n",
       "       '1867-07-10', '1861-07-30', '1871-12-06', '1892-01-05',\n",
       "       '1864-08-21', '1889-02-17', '1870-08-14', '1882-03-20',\n",
       "       '1909-02-07', '1886-10-18', '1865-06-19', '1880-03-29',\n",
       "       '1865-09-07', '1893-02-06', '1894-03-17', '1888-03-15',\n",
       "       '1880-01-19', '1890-04-28', '1884-07-08', '1887-10-06',\n",
       "       '1885-06-13', '1893-12-22'], dtype=object)"
      ]
     },
     "execution_count": 12,
     "metadata": {},
     "output_type": "execute_result"
    }
   ],
   "source": [
    "df.Birthday.unique()"
   ]
  },
  {
   "cell_type": "code",
   "execution_count": 13,
   "metadata": {},
   "outputs": [],
   "source": [
    "def get_date(date_str):\n",
    "    try:\n",
    "        #1908-09-22\n",
    "        return datetime.strptime(date_str, '%Y-%m-%d')\n",
    "    except:\n",
    "        pass\n",
    "    try:\n",
    "        #May 06, 1874\n",
    "        return datetime.strptime(date_str, '%m.%d.%Y')\n",
    "    except:\n",
    "        pass\n",
    "    try:\n",
    "        #12.28.1882\n",
    "        return datetime.strptime(date_str, '%b %d, %Y')\n",
    "    except:\n",
    "        pass\n",
    "    if not np.isnan(date_str):\n",
    "        print (date_str)"
   ]
  },
  {
   "cell_type": "code",
   "execution_count": 14,
   "metadata": {},
   "outputs": [
    {
     "data": {
      "text/html": [
       "<div>\n",
       "<style scoped>\n",
       "    .dataframe tbody tr th:only-of-type {\n",
       "        vertical-align: middle;\n",
       "    }\n",
       "\n",
       "    .dataframe tbody tr th {\n",
       "        vertical-align: top;\n",
       "    }\n",
       "\n",
       "    .dataframe thead th {\n",
       "        text-align: right;\n",
       "    }\n",
       "</style>\n",
       "<table border=\"1\" class=\"dataframe\">\n",
       "  <thead>\n",
       "    <tr style=\"text-align: right;\">\n",
       "      <th></th>\n",
       "      <th>Survived</th>\n",
       "      <th>PassengerClass</th>\n",
       "      <th>Name</th>\n",
       "      <th>Sex</th>\n",
       "      <th>SiblingSpouse</th>\n",
       "      <th>ParentChildren</th>\n",
       "      <th>Ticket</th>\n",
       "      <th>Fare</th>\n",
       "      <th>Cabin</th>\n",
       "      <th>Birthday</th>\n",
       "      <th>Embarked</th>\n",
       "      <th>bd</th>\n",
       "    </tr>\n",
       "  </thead>\n",
       "  <tbody>\n",
       "    <tr>\n",
       "      <th>158</th>\n",
       "      <td>0</td>\n",
       "      <td>3</td>\n",
       "      <td>Markoff, Mr. Marin</td>\n",
       "      <td>male</td>\n",
       "      <td>0</td>\n",
       "      <td>0</td>\n",
       "      <td>349213</td>\n",
       "      <td>NaN</td>\n",
       "      <td>NaN</td>\n",
       "      <td>Oct 15, 1877</td>\n",
       "      <td>C</td>\n",
       "      <td>1877-10-15</td>\n",
       "    </tr>\n",
       "    <tr>\n",
       "      <th>261</th>\n",
       "      <td>0</td>\n",
       "      <td>3</td>\n",
       "      <td>Beavan, Mr. William Thomas</td>\n",
       "      <td>male</td>\n",
       "      <td>0</td>\n",
       "      <td>0</td>\n",
       "      <td>323951</td>\n",
       "      <td>8.0500</td>\n",
       "      <td>NaN</td>\n",
       "      <td>1893-07-17</td>\n",
       "      <td>S</td>\n",
       "      <td>1893-07-17</td>\n",
       "    </tr>\n",
       "    <tr>\n",
       "      <th>59</th>\n",
       "      <td>1</td>\n",
       "      <td>1</td>\n",
       "      <td>Ryerson, Miss. Emily Borie</td>\n",
       "      <td>female</td>\n",
       "      <td>2</td>\n",
       "      <td>2</td>\n",
       "      <td>PC 17608</td>\n",
       "      <td>NaN</td>\n",
       "      <td>B57 B59 B63 B66</td>\n",
       "      <td>Apr 01, 1895</td>\n",
       "      <td>C</td>\n",
       "      <td>1895-04-01</td>\n",
       "    </tr>\n",
       "    <tr>\n",
       "      <th>86</th>\n",
       "      <td>1</td>\n",
       "      <td>2</td>\n",
       "      <td>Webber, Miss. Susan</td>\n",
       "      <td>female</td>\n",
       "      <td>0</td>\n",
       "      <td>0</td>\n",
       "      <td>27267</td>\n",
       "      <td>13.0000</td>\n",
       "      <td>E101</td>\n",
       "      <td>1880-02-22</td>\n",
       "      <td>S</td>\n",
       "      <td>1880-02-22</td>\n",
       "    </tr>\n",
       "    <tr>\n",
       "      <th>540</th>\n",
       "      <td>1</td>\n",
       "      <td>2</td>\n",
       "      <td>Wells, Miss. Joan</td>\n",
       "      <td>female</td>\n",
       "      <td>1</td>\n",
       "      <td>1</td>\n",
       "      <td>29103</td>\n",
       "      <td>23.0000</td>\n",
       "      <td>NaN</td>\n",
       "      <td>1909-04-02</td>\n",
       "      <td>S</td>\n",
       "      <td>1909-04-02</td>\n",
       "    </tr>\n",
       "    <tr>\n",
       "      <th>209</th>\n",
       "      <td>0</td>\n",
       "      <td>3</td>\n",
       "      <td>Naidenoff, Mr. Penko</td>\n",
       "      <td>male</td>\n",
       "      <td>0</td>\n",
       "      <td>0</td>\n",
       "      <td>349206</td>\n",
       "      <td>7.8958</td>\n",
       "      <td>NaN</td>\n",
       "      <td>1890-10-19</td>\n",
       "      <td>S</td>\n",
       "      <td>1890-10-19</td>\n",
       "    </tr>\n",
       "    <tr>\n",
       "      <th>551</th>\n",
       "      <td>0</td>\n",
       "      <td>3</td>\n",
       "      <td>Nirva, Mr. Iisakki Antino Aijo</td>\n",
       "      <td>male</td>\n",
       "      <td>0</td>\n",
       "      <td>0</td>\n",
       "      <td>SOTON/O2 3101272</td>\n",
       "      <td>7.1250</td>\n",
       "      <td>NaN</td>\n",
       "      <td>1871-12-08</td>\n",
       "      <td>S</td>\n",
       "      <td>1871-12-08</td>\n",
       "    </tr>\n",
       "    <tr>\n",
       "      <th>256</th>\n",
       "      <td>0</td>\n",
       "      <td>2</td>\n",
       "      <td>Funk, Miss. Annie Clemmer</td>\n",
       "      <td>female</td>\n",
       "      <td>0</td>\n",
       "      <td>0</td>\n",
       "      <td>237671</td>\n",
       "      <td>13.0000</td>\n",
       "      <td>NaN</td>\n",
       "      <td>1875-01-22</td>\n",
       "      <td>S</td>\n",
       "      <td>1875-01-22</td>\n",
       "    </tr>\n",
       "    <tr>\n",
       "      <th>121</th>\n",
       "      <td>1</td>\n",
       "      <td>1</td>\n",
       "      <td>Stahelin-Maeglin, Dr. Max</td>\n",
       "      <td>male</td>\n",
       "      <td>0</td>\n",
       "      <td>0</td>\n",
       "      <td>13214</td>\n",
       "      <td>NaN</td>\n",
       "      <td>B50</td>\n",
       "      <td>Aug 16, 1880</td>\n",
       "      <td>C</td>\n",
       "      <td>1880-08-16</td>\n",
       "    </tr>\n",
       "    <tr>\n",
       "      <th>314</th>\n",
       "      <td>0</td>\n",
       "      <td>2</td>\n",
       "      <td>Kvillner, Mr. Johan Henrik Johannesson</td>\n",
       "      <td>male</td>\n",
       "      <td>0</td>\n",
       "      <td>0</td>\n",
       "      <td>C.A. 18723</td>\n",
       "      <td>10.5000</td>\n",
       "      <td>NaN</td>\n",
       "      <td>1881-06-08</td>\n",
       "      <td>S</td>\n",
       "      <td>1881-06-08</td>\n",
       "    </tr>\n",
       "  </tbody>\n",
       "</table>\n",
       "</div>"
      ],
      "text/plain": [
       "     Survived  PassengerClass                                    Name     Sex  \\\n",
       "158         0               3                      Markoff, Mr. Marin    male   \n",
       "261         0               3              Beavan, Mr. William Thomas    male   \n",
       "59          1               1              Ryerson, Miss. Emily Borie  female   \n",
       "86          1               2                     Webber, Miss. Susan  female   \n",
       "540         1               2                       Wells, Miss. Joan  female   \n",
       "209         0               3                    Naidenoff, Mr. Penko    male   \n",
       "551         0               3          Nirva, Mr. Iisakki Antino Aijo    male   \n",
       "256         0               2               Funk, Miss. Annie Clemmer  female   \n",
       "121         1               1               Stahelin-Maeglin, Dr. Max    male   \n",
       "314         0               2  Kvillner, Mr. Johan Henrik Johannesson    male   \n",
       "\n",
       "     SiblingSpouse  ParentChildren            Ticket     Fare  \\\n",
       "158              0               0            349213      NaN   \n",
       "261              0               0            323951   8.0500   \n",
       "59               2               2          PC 17608      NaN   \n",
       "86               0               0             27267  13.0000   \n",
       "540              1               1             29103  23.0000   \n",
       "209              0               0            349206   7.8958   \n",
       "551              0               0  SOTON/O2 3101272   7.1250   \n",
       "256              0               0            237671  13.0000   \n",
       "121              0               0             13214      NaN   \n",
       "314              0               0        C.A. 18723  10.5000   \n",
       "\n",
       "               Cabin      Birthday Embarked         bd  \n",
       "158              NaN  Oct 15, 1877        C 1877-10-15  \n",
       "261              NaN    1893-07-17        S 1893-07-17  \n",
       "59   B57 B59 B63 B66  Apr 01, 1895        C 1895-04-01  \n",
       "86              E101    1880-02-22        S 1880-02-22  \n",
       "540              NaN    1909-04-02        S 1909-04-02  \n",
       "209              NaN    1890-10-19        S 1890-10-19  \n",
       "551              NaN    1871-12-08        S 1871-12-08  \n",
       "256              NaN    1875-01-22        S 1875-01-22  \n",
       "121              B50  Aug 16, 1880        C 1880-08-16  \n",
       "314              NaN    1881-06-08        S 1881-06-08  "
      ]
     },
     "execution_count": 14,
     "metadata": {},
     "output_type": "execute_result"
    }
   ],
   "source": [
    "df['bd'] = df.Birthday.apply(lambda x:get_date(x))\n",
    "df.sample(10)"
   ]
  },
  {
   "cell_type": "code",
   "execution_count": 15,
   "metadata": {
    "scrolled": true
   },
   "outputs": [
    {
     "name": "stdout",
     "output_type": "stream",
     "text": [
      "<class 'pandas.core.frame.DataFrame'>\n",
      "Int64Index: 889 entries, 0 to 643\n",
      "Data columns (total 12 columns):\n",
      "Survived          889 non-null int64\n",
      "PassengerClass    889 non-null int64\n",
      "Name              889 non-null object\n",
      "Sex               889 non-null object\n",
      "SiblingSpouse     889 non-null int64\n",
      "ParentChildren    889 non-null int64\n",
      "Ticket            889 non-null object\n",
      "Fare              644 non-null float64\n",
      "Cabin             202 non-null object\n",
      "Birthday          712 non-null object\n",
      "Embarked          889 non-null object\n",
      "bd                712 non-null datetime64[ns]\n",
      "dtypes: datetime64[ns](1), float64(1), int64(4), object(6)\n",
      "memory usage: 90.3+ KB\n"
     ]
    }
   ],
   "source": [
    "df.info()"
   ]
  },
  {
   "cell_type": "code",
   "execution_count": 16,
   "metadata": {},
   "outputs": [],
   "source": [
    "df.drop?"
   ]
  },
  {
   "cell_type": "code",
   "execution_count": 17,
   "metadata": {
    "scrolled": false
   },
   "outputs": [
    {
     "name": "stdout",
     "output_type": "stream",
     "text": [
      "<class 'pandas.core.frame.DataFrame'>\n",
      "Int64Index: 889 entries, 0 to 643\n",
      "Data columns (total 11 columns):\n",
      "Survived          889 non-null int64\n",
      "PassengerClass    889 non-null int64\n",
      "Name              889 non-null object\n",
      "Sex               889 non-null object\n",
      "SiblingSpouse     889 non-null int64\n",
      "ParentChildren    889 non-null int64\n",
      "Ticket            889 non-null object\n",
      "Fare              644 non-null float64\n",
      "Cabin             202 non-null object\n",
      "Birthday          712 non-null datetime64[ns]\n",
      "Embarked          889 non-null object\n",
      "dtypes: datetime64[ns](1), float64(1), int64(4), object(5)\n",
      "memory usage: 83.3+ KB\n"
     ]
    }
   ],
   "source": [
    "df.Birthday = df.bd\n",
    "df.drop(columns=['bd'], axis=1, inplace=True)\n",
    "df.info()"
   ]
  },
  {
   "cell_type": "markdown",
   "metadata": {},
   "source": [
    "### 3. Feature Engineering\n",
    "Create Age columns in the DataFrame. Calculate passenger age based on Birthday. Round age to 1 decimal place."
   ]
  },
  {
   "cell_type": "code",
   "execution_count": 18,
   "metadata": {},
   "outputs": [],
   "source": [
    "df['Age'] = df.Birthday.apply(lambda x: round((datetime(1912, 4, 15)-x).days/365,1))"
   ]
  },
  {
   "cell_type": "markdown",
   "metadata": {},
   "source": [
    "### 4. Deal with Missing Values in Age Column\n",
    "There are 177 out of 889 passengers don't have birthday information. Simply dropping passengers without age is a not good practice since significant information will be lost. Here we will fill missing age with estimations. A simply estimation is the mean age of all passengers. But we can improve the accuracy of estimation by using information in passenger name. All passenger names are in \"First, Title. Last\" format. We will extract title from name and create Title column. Then use mean age of corresponding title to fill missing ages.\n",
    "1. Create Title Column, extra value from Name\n",
    "2. Convert Title to all upper case\n",
    "3. Fill missing Age with mean age of passengers with same title."
   ]
  },
  {
   "cell_type": "code",
   "execution_count": 19,
   "metadata": {},
   "outputs": [
    {
     "data": {
      "text/plain": [
       "'Dr.'"
      ]
     },
     "execution_count": 19,
     "metadata": {},
     "output_type": "execute_result"
    }
   ],
   "source": [
    "\"Minahan, Dr. William Edward\".split(',')[1].split()[0]"
   ]
  },
  {
   "cell_type": "code",
   "execution_count": 20,
   "metadata": {},
   "outputs": [
    {
     "data": {
      "text/html": [
       "<div>\n",
       "<style scoped>\n",
       "    .dataframe tbody tr th:only-of-type {\n",
       "        vertical-align: middle;\n",
       "    }\n",
       "\n",
       "    .dataframe tbody tr th {\n",
       "        vertical-align: top;\n",
       "    }\n",
       "\n",
       "    .dataframe thead th {\n",
       "        text-align: right;\n",
       "    }\n",
       "</style>\n",
       "<table border=\"1\" class=\"dataframe\">\n",
       "  <thead>\n",
       "    <tr style=\"text-align: right;\">\n",
       "      <th></th>\n",
       "      <th>Survived</th>\n",
       "      <th>PassengerClass</th>\n",
       "      <th>Name</th>\n",
       "      <th>Sex</th>\n",
       "      <th>SiblingSpouse</th>\n",
       "      <th>ParentChildren</th>\n",
       "      <th>Ticket</th>\n",
       "      <th>Fare</th>\n",
       "      <th>Cabin</th>\n",
       "      <th>Birthday</th>\n",
       "      <th>Embarked</th>\n",
       "      <th>Age</th>\n",
       "      <th>Title</th>\n",
       "    </tr>\n",
       "  </thead>\n",
       "  <tbody>\n",
       "    <tr>\n",
       "      <th>1</th>\n",
       "      <td>0</td>\n",
       "      <td>3</td>\n",
       "      <td>Rice, Master. Eugene</td>\n",
       "      <td>male</td>\n",
       "      <td>4</td>\n",
       "      <td>1</td>\n",
       "      <td>382652</td>\n",
       "      <td>NaN</td>\n",
       "      <td>NaN</td>\n",
       "      <td>1911-02-01</td>\n",
       "      <td>Q</td>\n",
       "      <td>1.2</td>\n",
       "      <td>Master.</td>\n",
       "    </tr>\n",
       "    <tr>\n",
       "      <th>269</th>\n",
       "      <td>0</td>\n",
       "      <td>3</td>\n",
       "      <td>Goodwin, Master. Sidney Leonard</td>\n",
       "      <td>male</td>\n",
       "      <td>5</td>\n",
       "      <td>2</td>\n",
       "      <td>CA 2144</td>\n",
       "      <td>46.9</td>\n",
       "      <td>NaN</td>\n",
       "      <td>1912-03-09</td>\n",
       "      <td>S</td>\n",
       "      <td>0.1</td>\n",
       "      <td>Master.</td>\n",
       "    </tr>\n",
       "    <tr>\n",
       "      <th>373</th>\n",
       "      <td>1</td>\n",
       "      <td>2</td>\n",
       "      <td>Lemore, Mrs. (Amelia Milley)</td>\n",
       "      <td>female</td>\n",
       "      <td>0</td>\n",
       "      <td>0</td>\n",
       "      <td>C.A. 34260</td>\n",
       "      <td>10.5</td>\n",
       "      <td>F33</td>\n",
       "      <td>1878-05-03</td>\n",
       "      <td>S</td>\n",
       "      <td>34.0</td>\n",
       "      <td>Mrs.</td>\n",
       "    </tr>\n",
       "    <tr>\n",
       "      <th>491</th>\n",
       "      <td>0</td>\n",
       "      <td>2</td>\n",
       "      <td>Brown, Mr. Thomas William Solomon</td>\n",
       "      <td>male</td>\n",
       "      <td>1</td>\n",
       "      <td>1</td>\n",
       "      <td>29750</td>\n",
       "      <td>39.0</td>\n",
       "      <td>NaN</td>\n",
       "      <td>1852-07-03</td>\n",
       "      <td>S</td>\n",
       "      <td>59.8</td>\n",
       "      <td>Mr.</td>\n",
       "    </tr>\n",
       "    <tr>\n",
       "      <th>123</th>\n",
       "      <td>0</td>\n",
       "      <td>1</td>\n",
       "      <td>Van der hoef, Mr. Wyckoff</td>\n",
       "      <td>male</td>\n",
       "      <td>0</td>\n",
       "      <td>0</td>\n",
       "      <td>111240</td>\n",
       "      <td>33.5</td>\n",
       "      <td>B19</td>\n",
       "      <td>1851-09-13</td>\n",
       "      <td>S</td>\n",
       "      <td>60.6</td>\n",
       "      <td>Mr.</td>\n",
       "    </tr>\n",
       "  </tbody>\n",
       "</table>\n",
       "</div>"
      ],
      "text/plain": [
       "     Survived  PassengerClass                               Name     Sex  \\\n",
       "1           0               3               Rice, Master. Eugene    male   \n",
       "269         0               3    Goodwin, Master. Sidney Leonard    male   \n",
       "373         1               2       Lemore, Mrs. (Amelia Milley)  female   \n",
       "491         0               2  Brown, Mr. Thomas William Solomon    male   \n",
       "123         0               1          Van der hoef, Mr. Wyckoff    male   \n",
       "\n",
       "     SiblingSpouse  ParentChildren      Ticket  Fare Cabin   Birthday  \\\n",
       "1                4               1      382652   NaN   NaN 1911-02-01   \n",
       "269              5               2     CA 2144  46.9   NaN 1912-03-09   \n",
       "373              0               0  C.A. 34260  10.5   F33 1878-05-03   \n",
       "491              1               1       29750  39.0   NaN 1852-07-03   \n",
       "123              0               0      111240  33.5   B19 1851-09-13   \n",
       "\n",
       "    Embarked   Age    Title  \n",
       "1          Q   1.2  Master.  \n",
       "269        S   0.1  Master.  \n",
       "373        S  34.0     Mrs.  \n",
       "491        S  59.8      Mr.  \n",
       "123        S  60.6      Mr.  "
      ]
     },
     "execution_count": 20,
     "metadata": {},
     "output_type": "execute_result"
    }
   ],
   "source": [
    "df['Title'] = df.Name.apply(lambda x: x.split(',')[1].split()[0])\n",
    "df.sample(5)"
   ]
  },
  {
   "cell_type": "code",
   "execution_count": 21,
   "metadata": {
    "scrolled": true
   },
   "outputs": [
    {
     "data": {
      "text/html": [
       "<div>\n",
       "<style scoped>\n",
       "    .dataframe tbody tr th:only-of-type {\n",
       "        vertical-align: middle;\n",
       "    }\n",
       "\n",
       "    .dataframe tbody tr th {\n",
       "        vertical-align: top;\n",
       "    }\n",
       "\n",
       "    .dataframe thead th {\n",
       "        text-align: right;\n",
       "    }\n",
       "</style>\n",
       "<table border=\"1\" class=\"dataframe\">\n",
       "  <thead>\n",
       "    <tr style=\"text-align: right;\">\n",
       "      <th></th>\n",
       "      <th>Survived</th>\n",
       "      <th>PassengerClass</th>\n",
       "      <th>Name</th>\n",
       "      <th>Sex</th>\n",
       "      <th>SiblingSpouse</th>\n",
       "      <th>ParentChildren</th>\n",
       "      <th>Ticket</th>\n",
       "      <th>Fare</th>\n",
       "      <th>Cabin</th>\n",
       "      <th>Birthday</th>\n",
       "      <th>Embarked</th>\n",
       "      <th>Age</th>\n",
       "      <th>Title</th>\n",
       "    </tr>\n",
       "  </thead>\n",
       "  <tbody>\n",
       "    <tr>\n",
       "      <th>72</th>\n",
       "      <td>0</td>\n",
       "      <td>1</td>\n",
       "      <td>Ringhini, Mr. Sante</td>\n",
       "      <td>male</td>\n",
       "      <td>0</td>\n",
       "      <td>0</td>\n",
       "      <td>PC 17760</td>\n",
       "      <td>NaN</td>\n",
       "      <td>NaN</td>\n",
       "      <td>1891-01-16</td>\n",
       "      <td>C</td>\n",
       "      <td>21.3</td>\n",
       "      <td>MR.</td>\n",
       "    </tr>\n",
       "  </tbody>\n",
       "</table>\n",
       "</div>"
      ],
      "text/plain": [
       "    Survived  PassengerClass                 Name   Sex  SiblingSpouse  \\\n",
       "72         0               1  Ringhini, Mr. Sante  male              0   \n",
       "\n",
       "    ParentChildren    Ticket  Fare Cabin   Birthday Embarked   Age Title  \n",
       "72               0  PC 17760   NaN   NaN 1891-01-16        C  21.3   MR.  "
      ]
     },
     "execution_count": 21,
     "metadata": {},
     "output_type": "execute_result"
    }
   ],
   "source": [
    "df.Title = df.Title.str.upper()\n",
    "df.sample()"
   ]
  },
  {
   "cell_type": "code",
   "execution_count": 22,
   "metadata": {
    "scrolled": true
   },
   "outputs": [
    {
     "data": {
      "text/plain": [
       "{'CAPT.': 69.5,\n",
       " 'COL.': 57.6,\n",
       " 'DON.': 39.4,\n",
       " 'DR.': 41.71666666666667,\n",
       " 'JONKHEER.': 37.1,\n",
       " 'LADY.': 47.7,\n",
       " 'MAJOR.': 47.8,\n",
       " 'MASTER.': 4.094444444444445,\n",
       " 'MISS.': 21.17931034482759,\n",
       " 'MLLE.': 23.7,\n",
       " 'MME.': 23.9,\n",
       " 'MR.': 31.884673366834164,\n",
       " 'MRS.': 35.171028037383195,\n",
       " 'MS.': 27.3,\n",
       " 'REV.': 42.833333333333336,\n",
       " 'SIR.': 48.1,\n",
       " 'THE': 32.5}"
      ]
     },
     "execution_count": 22,
     "metadata": {},
     "output_type": "execute_result"
    }
   ],
   "source": [
    "age_dict = df.groupby('Title').Age.mean().to_dict()\n",
    "age_dict"
   ]
  },
  {
   "cell_type": "code",
   "execution_count": 23,
   "metadata": {
    "scrolled": true
   },
   "outputs": [
    {
     "data": {
      "text/html": [
       "<div>\n",
       "<style scoped>\n",
       "    .dataframe tbody tr th:only-of-type {\n",
       "        vertical-align: middle;\n",
       "    }\n",
       "\n",
       "    .dataframe tbody tr th {\n",
       "        vertical-align: top;\n",
       "    }\n",
       "\n",
       "    .dataframe thead th {\n",
       "        text-align: right;\n",
       "    }\n",
       "</style>\n",
       "<table border=\"1\" class=\"dataframe\">\n",
       "  <thead>\n",
       "    <tr style=\"text-align: right;\">\n",
       "      <th></th>\n",
       "      <th>Survived</th>\n",
       "      <th>PassengerClass</th>\n",
       "      <th>Name</th>\n",
       "      <th>Sex</th>\n",
       "      <th>SiblingSpouse</th>\n",
       "      <th>ParentChildren</th>\n",
       "      <th>Ticket</th>\n",
       "      <th>Fare</th>\n",
       "      <th>Cabin</th>\n",
       "      <th>Birthday</th>\n",
       "      <th>Embarked</th>\n",
       "      <th>Age</th>\n",
       "      <th>Title</th>\n",
       "    </tr>\n",
       "  </thead>\n",
       "  <tbody>\n",
       "    <tr>\n",
       "      <th>70</th>\n",
       "      <td>0</td>\n",
       "      <td>3</td>\n",
       "      <td>Petroff, Mr. Pastcho (\"Pentcho\")</td>\n",
       "      <td>male</td>\n",
       "      <td>0</td>\n",
       "      <td>0</td>\n",
       "      <td>349215</td>\n",
       "      <td>7.8958</td>\n",
       "      <td>NaN</td>\n",
       "      <td>NaT</td>\n",
       "      <td>S</td>\n",
       "      <td>31.884673</td>\n",
       "      <td>MR.</td>\n",
       "    </tr>\n",
       "    <tr>\n",
       "      <th>38</th>\n",
       "      <td>1</td>\n",
       "      <td>3</td>\n",
       "      <td>Albimona, Mr. Nassef Cassem</td>\n",
       "      <td>male</td>\n",
       "      <td>0</td>\n",
       "      <td>0</td>\n",
       "      <td>2699</td>\n",
       "      <td>NaN</td>\n",
       "      <td>NaN</td>\n",
       "      <td>1886-05-29</td>\n",
       "      <td>C</td>\n",
       "      <td>25.900000</td>\n",
       "      <td>MR.</td>\n",
       "    </tr>\n",
       "    <tr>\n",
       "      <th>470</th>\n",
       "      <td>0</td>\n",
       "      <td>2</td>\n",
       "      <td>Eitemiller, Mr. George Floyd</td>\n",
       "      <td>male</td>\n",
       "      <td>0</td>\n",
       "      <td>0</td>\n",
       "      <td>29751</td>\n",
       "      <td>13.0000</td>\n",
       "      <td>NaN</td>\n",
       "      <td>1889-12-21</td>\n",
       "      <td>S</td>\n",
       "      <td>22.300000</td>\n",
       "      <td>MR.</td>\n",
       "    </tr>\n",
       "    <tr>\n",
       "      <th>270</th>\n",
       "      <td>1</td>\n",
       "      <td>2</td>\n",
       "      <td>Buss, Miss. Kate</td>\n",
       "      <td>female</td>\n",
       "      <td>0</td>\n",
       "      <td>0</td>\n",
       "      <td>27849</td>\n",
       "      <td>13.0000</td>\n",
       "      <td>NaN</td>\n",
       "      <td>1876-07-05</td>\n",
       "      <td>S</td>\n",
       "      <td>35.800000</td>\n",
       "      <td>MISS.</td>\n",
       "    </tr>\n",
       "    <tr>\n",
       "      <th>117</th>\n",
       "      <td>0</td>\n",
       "      <td>3</td>\n",
       "      <td>Panula, Master. Eino Viljami</td>\n",
       "      <td>male</td>\n",
       "      <td>4</td>\n",
       "      <td>1</td>\n",
       "      <td>3101295</td>\n",
       "      <td>39.6875</td>\n",
       "      <td>NaN</td>\n",
       "      <td>1911-05-09</td>\n",
       "      <td>S</td>\n",
       "      <td>0.900000</td>\n",
       "      <td>MASTER.</td>\n",
       "    </tr>\n",
       "    <tr>\n",
       "      <th>596</th>\n",
       "      <td>1</td>\n",
       "      <td>3</td>\n",
       "      <td>Lulic, Mr. Nikola</td>\n",
       "      <td>male</td>\n",
       "      <td>0</td>\n",
       "      <td>0</td>\n",
       "      <td>315098</td>\n",
       "      <td>8.6625</td>\n",
       "      <td>NaN</td>\n",
       "      <td>1885-09-22</td>\n",
       "      <td>S</td>\n",
       "      <td>26.600000</td>\n",
       "      <td>MR.</td>\n",
       "    </tr>\n",
       "    <tr>\n",
       "      <th>180</th>\n",
       "      <td>1</td>\n",
       "      <td>1</td>\n",
       "      <td>Beckwith, Mr. Richard Leonard</td>\n",
       "      <td>male</td>\n",
       "      <td>1</td>\n",
       "      <td>1</td>\n",
       "      <td>11751</td>\n",
       "      <td>52.5542</td>\n",
       "      <td>D35</td>\n",
       "      <td>1876-04-03</td>\n",
       "      <td>S</td>\n",
       "      <td>36.100000</td>\n",
       "      <td>MR.</td>\n",
       "    </tr>\n",
       "    <tr>\n",
       "      <th>22</th>\n",
       "      <td>0</td>\n",
       "      <td>2</td>\n",
       "      <td>Wheadon, Mr. Edward H</td>\n",
       "      <td>male</td>\n",
       "      <td>0</td>\n",
       "      <td>0</td>\n",
       "      <td>C.A. 24579</td>\n",
       "      <td>10.5000</td>\n",
       "      <td>NaN</td>\n",
       "      <td>1846-09-21</td>\n",
       "      <td>S</td>\n",
       "      <td>65.600000</td>\n",
       "      <td>MR.</td>\n",
       "    </tr>\n",
       "    <tr>\n",
       "      <th>58</th>\n",
       "      <td>0</td>\n",
       "      <td>3</td>\n",
       "      <td>Slocovski, Mr. Selman Francis</td>\n",
       "      <td>male</td>\n",
       "      <td>0</td>\n",
       "      <td>0</td>\n",
       "      <td>SOTON/OQ 392086</td>\n",
       "      <td>8.0500</td>\n",
       "      <td>NaN</td>\n",
       "      <td>NaT</td>\n",
       "      <td>S</td>\n",
       "      <td>31.884673</td>\n",
       "      <td>MR.</td>\n",
       "    </tr>\n",
       "    <tr>\n",
       "      <th>472</th>\n",
       "      <td>0</td>\n",
       "      <td>1</td>\n",
       "      <td>Colley, Mr. Edward Pomeroy</td>\n",
       "      <td>male</td>\n",
       "      <td>0</td>\n",
       "      <td>0</td>\n",
       "      <td>5727</td>\n",
       "      <td>25.5875</td>\n",
       "      <td>E58</td>\n",
       "      <td>1865-05-19</td>\n",
       "      <td>S</td>\n",
       "      <td>46.900000</td>\n",
       "      <td>MR.</td>\n",
       "    </tr>\n",
       "  </tbody>\n",
       "</table>\n",
       "</div>"
      ],
      "text/plain": [
       "     Survived  PassengerClass                              Name     Sex  \\\n",
       "70          0               3  Petroff, Mr. Pastcho (\"Pentcho\")    male   \n",
       "38          1               3       Albimona, Mr. Nassef Cassem    male   \n",
       "470         0               2      Eitemiller, Mr. George Floyd    male   \n",
       "270         1               2                  Buss, Miss. Kate  female   \n",
       "117         0               3      Panula, Master. Eino Viljami    male   \n",
       "596         1               3                 Lulic, Mr. Nikola    male   \n",
       "180         1               1     Beckwith, Mr. Richard Leonard    male   \n",
       "22          0               2             Wheadon, Mr. Edward H    male   \n",
       "58          0               3     Slocovski, Mr. Selman Francis    male   \n",
       "472         0               1        Colley, Mr. Edward Pomeroy    male   \n",
       "\n",
       "     SiblingSpouse  ParentChildren           Ticket     Fare Cabin   Birthday  \\\n",
       "70               0               0           349215   7.8958   NaN        NaT   \n",
       "38               0               0             2699      NaN   NaN 1886-05-29   \n",
       "470              0               0            29751  13.0000   NaN 1889-12-21   \n",
       "270              0               0            27849  13.0000   NaN 1876-07-05   \n",
       "117              4               1          3101295  39.6875   NaN 1911-05-09   \n",
       "596              0               0           315098   8.6625   NaN 1885-09-22   \n",
       "180              1               1            11751  52.5542   D35 1876-04-03   \n",
       "22               0               0       C.A. 24579  10.5000   NaN 1846-09-21   \n",
       "58               0               0  SOTON/OQ 392086   8.0500   NaN        NaT   \n",
       "472              0               0             5727  25.5875   E58 1865-05-19   \n",
       "\n",
       "    Embarked        Age    Title  \n",
       "70         S  31.884673      MR.  \n",
       "38         C  25.900000      MR.  \n",
       "470        S  22.300000      MR.  \n",
       "270        S  35.800000    MISS.  \n",
       "117        S   0.900000  MASTER.  \n",
       "596        S  26.600000      MR.  \n",
       "180        S  36.100000      MR.  \n",
       "22         S  65.600000      MR.  \n",
       "58         S  31.884673      MR.  \n",
       "472        S  46.900000      MR.  "
      ]
     },
     "execution_count": 23,
     "metadata": {},
     "output_type": "execute_result"
    }
   ],
   "source": [
    "df.Age = df.apply(lambda x: age_dict[x.Title] if np.isnan(x.Age) else x.Age, axis=1)\n",
    "df.sample(10)"
   ]
  },
  {
   "cell_type": "code",
   "execution_count": 24,
   "metadata": {
    "scrolled": true
   },
   "outputs": [
    {
     "name": "stdout",
     "output_type": "stream",
     "text": [
      "<class 'pandas.core.frame.DataFrame'>\n",
      "Int64Index: 889 entries, 0 to 643\n",
      "Data columns (total 13 columns):\n",
      "Survived          889 non-null int64\n",
      "PassengerClass    889 non-null int64\n",
      "Name              889 non-null object\n",
      "Sex               889 non-null object\n",
      "SiblingSpouse     889 non-null int64\n",
      "ParentChildren    889 non-null int64\n",
      "Ticket            889 non-null object\n",
      "Fare              644 non-null float64\n",
      "Cabin             202 non-null object\n",
      "Birthday          712 non-null datetime64[ns]\n",
      "Embarked          889 non-null object\n",
      "Age               889 non-null float64\n",
      "Title             889 non-null object\n",
      "dtypes: datetime64[ns](1), float64(2), int64(4), object(6)\n",
      "memory usage: 97.2+ KB\n"
     ]
    }
   ],
   "source": [
    "df.info()"
   ]
  },
  {
   "cell_type": "markdown",
   "metadata": {},
   "source": [
    "## Exploratory Data Analysis (EDA)\n",
    "We will explore the impact on survival of gender, age and passenger class."
   ]
  },
  {
   "cell_type": "markdown",
   "metadata": {},
   "source": [
    "### 1. Overall Survival Rate\n",
    "Plot a bar chart for survived and perished."
   ]
  },
  {
   "cell_type": "code",
   "execution_count": 26,
   "metadata": {},
   "outputs": [],
   "source": [
    "%matplotlib inline\n",
    "import seaborn as sns\n",
    "import matplotlib.pyplot as plt"
   ]
  },
  {
   "cell_type": "code",
   "execution_count": 48,
   "metadata": {
    "scrolled": true
   },
   "outputs": [
    {
     "data": {
      "image/png": "[encoded data removed]",
      "text/plain": [
       "<Figure size 360x360 with 1 Axes>"
      ]
     },
     "metadata": {
      "needs_background": "light"
     },
     "output_type": "display_data"
    }
   ],
   "source": [
    "f,ax=plt.subplots(figsize=(5,5))\n",
    "sns.countplot('Survived',data=df, ax=ax)\n",
    "ax.set_title('Perished vs. Survived')\n",
    "plt.xticks([0, 1], ['Perished', 'Survived'])\n",
    "sns.despine()"
   ]
  },
  {
   "cell_type": "code",
   "execution_count": 86,
   "metadata": {},
   "outputs": [
    {
     "data": {
      "text/plain": [
       "0.38245219347581555"
      ]
     },
     "execution_count": 86,
     "metadata": {},
     "output_type": "execute_result"
    }
   ],
   "source": [
    "df.Survived.mean()"
   ]
  },
  {
   "cell_type": "code",
   "execution_count": 51,
   "metadata": {
    "scrolled": true
   },
   "outputs": [
    {
     "data": {
      "image/png": "[encoded data removed]",
      "text/plain": [
       "<Figure size 432x288 with 1 Axes>"
      ]
     },
     "metadata": {
      "needs_background": "light"
     },
     "output_type": "display_data"
    }
   ],
   "source": [
    "#counts of survived\n",
    "survived_counts = df.Survived.value_counts(normalize=True)\n",
    "survived_counts.plot.barh()\n",
    "plt.yticks([0, 1], ['Perished', 'Survived'])\n",
    "sns.despine()"
   ]
  },
  {
   "cell_type": "markdown",
   "metadata": {},
   "source": [
    "### 2. Gender and Survival Rate\n",
    "Find survival rate for male and female. Plot the result."
   ]
  },
  {
   "cell_type": "code",
   "execution_count": 55,
   "metadata": {
    "scrolled": true
   },
   "outputs": [
    {
     "data": {
      "text/html": [
       "<div>\n",
       "<style scoped>\n",
       "    .dataframe tbody tr th:only-of-type {\n",
       "        vertical-align: middle;\n",
       "    }\n",
       "\n",
       "    .dataframe tbody tr th {\n",
       "        vertical-align: top;\n",
       "    }\n",
       "\n",
       "    .dataframe thead th {\n",
       "        text-align: right;\n",
       "    }\n",
       "</style>\n",
       "<table border=\"1\" class=\"dataframe\">\n",
       "  <thead>\n",
       "    <tr style=\"text-align: right;\">\n",
       "      <th></th>\n",
       "      <th>Sex</th>\n",
       "      <th>SurvivalRate</th>\n",
       "    </tr>\n",
       "  </thead>\n",
       "  <tbody>\n",
       "    <tr>\n",
       "      <th>0</th>\n",
       "      <td>female</td>\n",
       "      <td>0.740385</td>\n",
       "    </tr>\n",
       "    <tr>\n",
       "      <th>1</th>\n",
       "      <td>male</td>\n",
       "      <td>0.188908</td>\n",
       "    </tr>\n",
       "  </tbody>\n",
       "</table>\n",
       "</div>"
      ],
      "text/plain": [
       "      Sex  SurvivalRate\n",
       "0  female      0.740385\n",
       "1    male      0.188908"
      ]
     },
     "execution_count": 55,
     "metadata": {},
     "output_type": "execute_result"
    }
   ],
   "source": [
    "df.groupby(by=['Sex'], as_index=False).agg({'Survived':'mean'}).rename(columns={'Survived':'SurvivalRate'})"
   ]
  },
  {
   "cell_type": "code",
   "execution_count": 59,
   "metadata": {
    "scrolled": false
   },
   "outputs": [
    {
     "data": {
      "image/png": "[encoded data removed]",
      "text/plain": [
       "<Figure size 720x360 with 2 Axes>"
      ]
     },
     "metadata": {
      "needs_background": "light"
     },
     "output_type": "display_data"
    }
   ],
   "source": [
    "#bar plot and seaborn countplot\n",
    "f,ax=plt.subplots(1,2,figsize=(10,5))\n",
    "df[['Sex','Survived']].groupby(['Sex']).mean().plot.bar(ax=ax[0])\n",
    "ax[0].set_title('Survial Rate by Gender')\n",
    "sns.countplot('Sex',hue='Survived',data=df,ax=ax[1])\n",
    "ax[1].set_title('Survived vs Dead')\n",
    "plt.show()"
   ]
  },
  {
   "cell_type": "code",
   "execution_count": 73,
   "metadata": {},
   "outputs": [
    {
     "data": {
      "image/png": "[encoded data removed]",
      "text/plain": [
       "<Figure size 432x288 with 1 Axes>"
      ]
     },
     "metadata": {
      "needs_background": "light"
     },
     "output_type": "display_data"
    }
   ],
   "source": [
    "df.groupby('Sex').Survived.mean().plot.bar()\n",
    "plt.title('Survival Rate by Gender')\n",
    "sns.despine()"
   ]
  },
  {
   "cell_type": "markdown",
   "metadata": {},
   "source": [
    "### 3. Age and Survival Rate\n",
    "1. Plot histogram for passenger age distribution.\n",
    "2. Create new column AgeBin, with values :\n",
    "- '0-5'\n",
    "- '6-10'\n",
    "- '11-15'\n",
    "- '16-20'\n",
    "- '21-30'\n",
    "- '31-40'\n",
    "- '41-50'\n",
    "- '51-90'"
   ]
  },
  {
   "cell_type": "code",
   "execution_count": 61,
   "metadata": {
    "scrolled": true
   },
   "outputs": [
    {
     "data": {
      "text/plain": [
       "Text(0, 0.5, 'Count')"
      ]
     },
     "execution_count": 61,
     "metadata": {},
     "output_type": "execute_result"
    },
    {
     "data": {
      "image/png": "[encoded data removed]",
      "text/plain": [
       "<Figure size 432x288 with 1 Axes>"
      ]
     },
     "metadata": {
      "needs_background": "light"
     },
     "output_type": "display_data"
    }
   ],
   "source": [
    "ax = df.Age.hist(bins=15, color='steelblue', edgecolor='black', linewidth=1.0,\n",
    "           xlabelsize=8, ylabelsize=8, grid=False)\n",
    "ax.set_title('Age Distribution')\n",
    "ax.set_xlabel('Age')\n",
    "ax.set_ylabel('Count')"
   ]
  },
  {
   "cell_type": "code",
   "execution_count": 63,
   "metadata": {},
   "outputs": [
    {
     "data": {
      "text/html": [
       "<div>\n",
       "<style scoped>\n",
       "    .dataframe tbody tr th:only-of-type {\n",
       "        vertical-align: middle;\n",
       "    }\n",
       "\n",
       "    .dataframe tbody tr th {\n",
       "        vertical-align: top;\n",
       "    }\n",
       "\n",
       "    .dataframe thead th {\n",
       "        text-align: right;\n",
       "    }\n",
       "</style>\n",
       "<table border=\"1\" class=\"dataframe\">\n",
       "  <thead>\n",
       "    <tr style=\"text-align: right;\">\n",
       "      <th></th>\n",
       "      <th>Survived</th>\n",
       "      <th>PassengerClass</th>\n",
       "      <th>Name</th>\n",
       "      <th>Sex</th>\n",
       "      <th>SiblingSpouse</th>\n",
       "      <th>ParentChildren</th>\n",
       "      <th>Ticket</th>\n",
       "      <th>Fare</th>\n",
       "      <th>Cabin</th>\n",
       "      <th>Birthday</th>\n",
       "      <th>Embarked</th>\n",
       "      <th>Age</th>\n",
       "      <th>Title</th>\n",
       "      <th>AgeBin</th>\n",
       "    </tr>\n",
       "  </thead>\n",
       "  <tbody>\n",
       "    <tr>\n",
       "      <th>0</th>\n",
       "      <td>1</td>\n",
       "      <td>1</td>\n",
       "      <td>Cumings, Mrs. John Bradley (Florence Briggs Th...</td>\n",
       "      <td>female</td>\n",
       "      <td>1</td>\n",
       "      <td>0</td>\n",
       "      <td>PC 17599</td>\n",
       "      <td>NaN</td>\n",
       "      <td>C85</td>\n",
       "      <td>1874-05-06</td>\n",
       "      <td>C</td>\n",
       "      <td>38.000000</td>\n",
       "      <td>MRS.</td>\n",
       "      <td>(30, 40]</td>\n",
       "    </tr>\n",
       "    <tr>\n",
       "      <th>1</th>\n",
       "      <td>1</td>\n",
       "      <td>2</td>\n",
       "      <td>Nasser, Mrs. Nicholas (Adele Achem)</td>\n",
       "      <td>female</td>\n",
       "      <td>1</td>\n",
       "      <td>0</td>\n",
       "      <td>237736</td>\n",
       "      <td>NaN</td>\n",
       "      <td>NaN</td>\n",
       "      <td>1898-09-14</td>\n",
       "      <td>C</td>\n",
       "      <td>13.600000</td>\n",
       "      <td>MRS.</td>\n",
       "      <td>(10, 15]</td>\n",
       "    </tr>\n",
       "    <tr>\n",
       "      <th>2</th>\n",
       "      <td>1</td>\n",
       "      <td>3</td>\n",
       "      <td>Masselmani, Mrs. Fatima</td>\n",
       "      <td>female</td>\n",
       "      <td>0</td>\n",
       "      <td>0</td>\n",
       "      <td>2649</td>\n",
       "      <td>NaN</td>\n",
       "      <td>NaN</td>\n",
       "      <td>NaT</td>\n",
       "      <td>C</td>\n",
       "      <td>35.171028</td>\n",
       "      <td>MRS.</td>\n",
       "      <td>(30, 40]</td>\n",
       "    </tr>\n",
       "    <tr>\n",
       "      <th>3</th>\n",
       "      <td>0</td>\n",
       "      <td>3</td>\n",
       "      <td>Emir, Mr. Farred Chehab</td>\n",
       "      <td>male</td>\n",
       "      <td>0</td>\n",
       "      <td>0</td>\n",
       "      <td>2631</td>\n",
       "      <td>NaN</td>\n",
       "      <td>NaN</td>\n",
       "      <td>NaT</td>\n",
       "      <td>C</td>\n",
       "      <td>31.884673</td>\n",
       "      <td>MR.</td>\n",
       "      <td>(30, 40]</td>\n",
       "    </tr>\n",
       "    <tr>\n",
       "      <th>4</th>\n",
       "      <td>0</td>\n",
       "      <td>1</td>\n",
       "      <td>Uruchurtu, Don. Manuel E</td>\n",
       "      <td>male</td>\n",
       "      <td>0</td>\n",
       "      <td>0</td>\n",
       "      <td>PC 17601</td>\n",
       "      <td>NaN</td>\n",
       "      <td>NaN</td>\n",
       "      <td>1872-11-17</td>\n",
       "      <td>C</td>\n",
       "      <td>39.400000</td>\n",
       "      <td>DON.</td>\n",
       "      <td>(30, 40]</td>\n",
       "    </tr>\n",
       "  </tbody>\n",
       "</table>\n",
       "</div>"
      ],
      "text/plain": [
       "   Survived  PassengerClass  \\\n",
       "0         1               1   \n",
       "1         1               2   \n",
       "2         1               3   \n",
       "3         0               3   \n",
       "4         0               1   \n",
       "\n",
       "                                                Name     Sex  SiblingSpouse  \\\n",
       "0  Cumings, Mrs. John Bradley (Florence Briggs Th...  female              1   \n",
       "1                Nasser, Mrs. Nicholas (Adele Achem)  female              1   \n",
       "2                            Masselmani, Mrs. Fatima  female              0   \n",
       "3                            Emir, Mr. Farred Chehab    male              0   \n",
       "4                           Uruchurtu, Don. Manuel E    male              0   \n",
       "\n",
       "   ParentChildren    Ticket  Fare Cabin   Birthday Embarked        Age Title  \\\n",
       "0               0  PC 17599   NaN   C85 1874-05-06        C  38.000000  MRS.   \n",
       "1               0    237736   NaN   NaN 1898-09-14        C  13.600000  MRS.   \n",
       "2               0      2649   NaN   NaN        NaT        C  35.171028  MRS.   \n",
       "3               0      2631   NaN   NaN        NaT        C  31.884673   MR.   \n",
       "4               0  PC 17601   NaN   NaN 1872-11-17        C  39.400000  DON.   \n",
       "\n",
       "     AgeBin  \n",
       "0  (30, 40]  \n",
       "1  (10, 15]  \n",
       "2  (30, 40]  \n",
       "3  (30, 40]  \n",
       "4  (30, 40]  "
      ]
     },
     "execution_count": 63,
     "metadata": {},
     "output_type": "execute_result"
    }
   ],
   "source": [
    "df['AgeBin'] = pd.cut(df.Age, [0, 5, 10, 15, 20, 30, 40, 50, 90])\n",
    "df.head()"
   ]
  },
  {
   "cell_type": "code",
   "execution_count": 66,
   "metadata": {
    "scrolled": true
   },
   "outputs": [
    {
     "data": {
      "image/png": "[encoded data removed]",
      "text/plain": [
       "<Figure size 720x360 with 1 Axes>"
      ]
     },
     "metadata": {
      "needs_background": "light"
     },
     "output_type": "display_data"
    }
   ],
   "source": [
    "f,ax=plt.subplots(figsize=(10,5))\n",
    "sns.countplot('AgeBin', hue='Survived', data=df, ax=ax)\n",
    "ax.set_title('Age Distribution')\n",
    "#plt.xticks([0, 1], ['Perished', 'Survived'])\n",
    "sns.despine()"
   ]
  },
  {
   "cell_type": "code",
   "execution_count": 68,
   "metadata": {
    "scrolled": true
   },
   "outputs": [
    {
     "data": {
      "text/html": [
       "<div>\n",
       "<style scoped>\n",
       "    .dataframe tbody tr th:only-of-type {\n",
       "        vertical-align: middle;\n",
       "    }\n",
       "\n",
       "    .dataframe tbody tr th {\n",
       "        vertical-align: top;\n",
       "    }\n",
       "\n",
       "    .dataframe thead th {\n",
       "        text-align: right;\n",
       "    }\n",
       "</style>\n",
       "<table border=\"1\" class=\"dataframe\">\n",
       "  <thead>\n",
       "    <tr style=\"text-align: right;\">\n",
       "      <th></th>\n",
       "      <th>Survived</th>\n",
       "    </tr>\n",
       "    <tr>\n",
       "      <th>AgeBin</th>\n",
       "      <th></th>\n",
       "    </tr>\n",
       "  </thead>\n",
       "  <tbody>\n",
       "    <tr>\n",
       "      <th>(0, 5]</th>\n",
       "      <td>0.687500</td>\n",
       "    </tr>\n",
       "    <tr>\n",
       "      <th>(5, 10]</th>\n",
       "      <td>0.315789</td>\n",
       "    </tr>\n",
       "    <tr>\n",
       "      <th>(10, 15]</th>\n",
       "      <td>0.578947</td>\n",
       "    </tr>\n",
       "    <tr>\n",
       "      <th>(15, 20]</th>\n",
       "      <td>0.340206</td>\n",
       "    </tr>\n",
       "    <tr>\n",
       "      <th>(20, 30]</th>\n",
       "      <td>0.395522</td>\n",
       "    </tr>\n",
       "    <tr>\n",
       "      <th>(30, 40]</th>\n",
       "      <td>0.333333</td>\n",
       "    </tr>\n",
       "    <tr>\n",
       "      <th>(40, 50]</th>\n",
       "      <td>0.383721</td>\n",
       "    </tr>\n",
       "    <tr>\n",
       "      <th>(50, 90]</th>\n",
       "      <td>0.333333</td>\n",
       "    </tr>\n",
       "  </tbody>\n",
       "</table>\n",
       "</div>"
      ],
      "text/plain": [
       "          Survived\n",
       "AgeBin            \n",
       "(0, 5]    0.687500\n",
       "(5, 10]   0.315789\n",
       "(10, 15]  0.578947\n",
       "(15, 20]  0.340206\n",
       "(20, 30]  0.395522\n",
       "(30, 40]  0.333333\n",
       "(40, 50]  0.383721\n",
       "(50, 90]  0.333333"
      ]
     },
     "execution_count": 68,
     "metadata": {},
     "output_type": "execute_result"
    }
   ],
   "source": [
    "age_survive_rate = df.groupby('AgeBin').agg({'Survived':'mean'})\n",
    "age_survive_rate"
   ]
  },
  {
   "cell_type": "code",
   "execution_count": 71,
   "metadata": {},
   "outputs": [
    {
     "data": {
      "image/png": "[encoded data removed]",
      "text/plain": [
       "<Figure size 432x288 with 1 Axes>"
      ]
     },
     "metadata": {
      "needs_background": "light"
     },
     "output_type": "display_data"
    }
   ],
   "source": [
    "age_survive_rate.plot.bar()\n",
    "plt.title('Survived Rate by Age')\n",
    "sns.despine()"
   ]
  },
  {
   "cell_type": "markdown",
   "metadata": {},
   "source": [
    "### 3. Survival Rate by Passenger Class\n",
    "Plot survival rate for each passenger class."
   ]
  },
  {
   "cell_type": "code",
   "execution_count": 79,
   "metadata": {},
   "outputs": [
    {
     "data": {
      "image/png": "[encoded data removed]",
      "text/plain": [
       "<Figure size 432x288 with 1 Axes>"
      ]
     },
     "metadata": {
      "needs_background": "light"
     },
     "output_type": "display_data"
    }
   ],
   "source": [
    "df.groupby('PassengerClass').Survived.mean().plot.barh()\n",
    "plt.title('Survival Rate by Passenger Class')\n",
    "plt.yticks([0,1,2], ['First', 'Second', 'Third'])\n",
    "sns.despine()"
   ]
  },
  {
   "cell_type": "markdown",
   "metadata": {},
   "source": [
    "### 4. Survival Rate by Embarkation\n",
    "Find survival rate of passengers embarked from different port. Passengers from which port have highest and lowest survival rate? Try explain the difference in survival rate."
   ]
  },
  {
   "cell_type": "markdown",
   "metadata": {},
   "source": [
    "**Conclusion**  \n",
    "Passengers embarked in Cherbourg have highest survival rate;  \n",
    "Passengers embarked in Southampton have lowest survival rate;  \n",
    "\n",
    "The reason is Cherbourg passengers have higher percent of female and 1st class passengers.\n",
    "\n"
   ]
  },
  {
   "cell_type": "code",
   "execution_count": 90,
   "metadata": {},
   "outputs": [
    {
     "data": {
      "text/plain": [
       "Embarked\n",
       "C    0.553571\n",
       "Q    0.389610\n",
       "S    0.336957\n",
       "Name: Survived, dtype: float64"
      ]
     },
     "execution_count": 90,
     "metadata": {},
     "output_type": "execute_result"
    }
   ],
   "source": [
    "df.groupby('Embarked').Survived.mean()"
   ]
  },
  {
   "cell_type": "code",
   "execution_count": 91,
   "metadata": {},
   "outputs": [
    {
     "data": {
      "text/plain": [
       "Embarked\n",
       "C    168\n",
       "Q     77\n",
       "S    644\n",
       "Name: Survived, dtype: int64"
      ]
     },
     "execution_count": 91,
     "metadata": {},
     "output_type": "execute_result"
    }
   ],
   "source": [
    "df.groupby('Embarked').Survived.count()"
   ]
  },
  {
   "cell_type": "code",
   "execution_count": 94,
   "metadata": {
    "scrolled": true
   },
   "outputs": [
    {
     "data": {
      "image/png": "[encoded data removed]",
      "text/plain": [
       "<Figure size 432x288 with 1 Axes>"
      ]
     },
     "metadata": {
      "needs_background": "light"
     },
     "output_type": "display_data"
    }
   ],
   "source": [
    "df.groupby('Embarked').Survived.mean().plot.barh()\n",
    "plt.title('Survival Rate by Port of Embarkation')\n",
    "plt.yticks([0, 1, 2], ['Cherbourg', 'Queenstown','Southampton'])\n",
    "sns.despine()"
   ]
  },
  {
   "cell_type": "code",
   "execution_count": 88,
   "metadata": {},
   "outputs": [
    {
     "data": {
      "text/plain": [
       "S    644\n",
       "C    168\n",
       "Q     77\n",
       "Name: Embarked, dtype: int64"
      ]
     },
     "execution_count": 88,
     "metadata": {},
     "output_type": "execute_result"
    }
   ],
   "source": [
    "df.Embarked.value_counts()"
   ]
  },
  {
   "cell_type": "code",
   "execution_count": 99,
   "metadata": {
    "scrolled": false
   },
   "outputs": [
    {
     "data": {
      "image/png": "[encoded data removed]",
      "text/plain": [
       "<Figure size 432x288 with 1 Axes>"
      ]
     },
     "metadata": {
      "needs_background": "light"
     },
     "output_type": "display_data"
    }
   ],
   "source": [
    "df[df.Embarked=='C'].Sex.value_counts().plot.bar()\n",
    "plt.title('Cherbourg Passengers')\n",
    "sns.despine()"
   ]
  },
  {
   "cell_type": "code",
   "execution_count": null,
   "metadata": {},
   "outputs": [],
   "source": [
    "df[df.Embarked=='C'].PassengerClass.value_counts"
   ]
  },
  {
   "cell_type": "code",
   "execution_count": 100,
   "metadata": {
    "scrolled": true
   },
   "outputs": [
    {
     "data": {
      "image/png": "[encoded data removed]",
      "text/plain": [
       "<Figure size 432x288 with 1 Axes>"
      ]
     },
     "metadata": {
      "needs_background": "light"
     },
     "output_type": "display_data"
    }
   ],
   "source": [
    "df[df.Embarked=='S'].Sex.value_counts().plot.bar()\n",
    "plt.title('Southampton Passengers')\n",
    "sns.despine()"
   ]
  },
  {
   "cell_type": "code",
   "execution_count": 104,
   "metadata": {},
   "outputs": [
    {
     "data": {
      "image/png": "[encoded data removed]",
      "text/plain": [
       "<Figure size 432x288 with 1 Axes>"
      ]
     },
     "metadata": {
      "needs_background": "light"
     },
     "output_type": "display_data"
    }
   ],
   "source": [
    "df[df.Embarked=='C'].PassengerClass.value_counts(sort=False).plot.bar()\n",
    "plt.title('Cherbourg Passengers')\n",
    "sns.despine()"
   ]
  },
  {
   "cell_type": "code",
   "execution_count": 119,
   "metadata": {
    "scrolled": true
   },
   "outputs": [
    {
     "data": {
      "image/png": "[encoded data removed]",
      "text/plain": [
       "<Figure size 432x288 with 1 Axes>"
      ]
     },
     "metadata": {
      "needs_background": "light"
     },
     "output_type": "display_data"
    }
   ],
   "source": [
    "df[df.Embarked=='S'].PassengerClass.value_counts(sort=False).plot.bar()\n",
    "plt.title('Southampton Passengers')\n",
    "sns.despine()"
   ]
  },
  {
   "cell_type": "code",
   "execution_count": 107,
   "metadata": {
    "scrolled": true
   },
   "outputs": [
    {
     "data": {
      "text/plain": [
       "<matplotlib.axes._subplots.AxesSubplot at 0x1a1f544a20>"
      ]
     },
     "execution_count": 107,
     "metadata": {},
     "output_type": "execute_result"
    },
    {
     "data": {
      "image/png": "[encoded data removed]",
      "text/plain": [
       "<Figure size 432x288 with 1 Axes>"
      ]
     },
     "metadata": {
      "needs_background": "light"
     },
     "output_type": "display_data"
    }
   ],
   "source": [
    "df[df.Embarked=='C'].Age.hist()"
   ]
  },
  {
   "cell_type": "code",
   "execution_count": 108,
   "metadata": {
    "scrolled": false
   },
   "outputs": [
    {
     "data": {
      "text/plain": [
       "<matplotlib.axes._subplots.AxesSubplot at 0x1a2010ac18>"
      ]
     },
     "execution_count": 108,
     "metadata": {},
     "output_type": "execute_result"
    },
    {
     "data": {
      "image/png": "[encoded data removed]",
      "text/plain": [
       "<Figure size 432x288 with 1 Axes>"
      ]
     },
     "metadata": {
      "needs_background": "light"
     },
     "output_type": "display_data"
    }
   ],
   "source": [
    "df[df.Embarked=='S'].Age.hist()"
   ]
  },
  {
   "cell_type": "markdown",
   "metadata": {},
   "source": [
    "### Verify Women First Code\n",
    "Compare survival rate of male passengers in first class and female passengers in 3rd class. Does women first still hold across different passenger class?"
   ]
  },
  {
   "cell_type": "code",
   "execution_count": 121,
   "metadata": {},
   "outputs": [
    {
     "data": {
      "text/plain": [
       "0.36885245901639346"
      ]
     },
     "execution_count": 121,
     "metadata": {},
     "output_type": "execute_result"
    }
   ],
   "source": [
    "df[(df.PassengerClass==1)&(df.Sex=='male')].Survived.mean()"
   ]
  },
  {
   "cell_type": "code",
   "execution_count": 122,
   "metadata": {},
   "outputs": [
    {
     "data": {
      "text/plain": [
       "0.5"
      ]
     },
     "execution_count": 122,
     "metadata": {},
     "output_type": "execute_result"
    }
   ],
   "source": [
    "df[(df.PassengerClass==3)&(df.Sex=='female')].Survived.mean()"
   ]
  }
 ],
 "metadata": {
  "kernelspec": {
   "display_name": "Python 3",
   "language": "python",
   "name": "python3"
  },
  "language_info": {
   "codemirror_mode": {
    "name": "ipython",
    "version": 3
   },
   "file_extension": ".py",
   "mimetype": "text/x-python",
   "name": "python",
   "nbconvert_exporter": "python",
   "pygments_lexer": "ipython3",
   "version": "3.7.1"
  }
 },
 "nbformat": 4,
 "nbformat_minor": 2
}
