{
 "cells": [
  {
   "cell_type": "markdown",
   "metadata": {},
   "source": [
    "# Case Study - Titanic\n"
   ]
  },
  {
   "cell_type": "markdown",
   "metadata": {},
   "source": [
    "## Table of Contents\n",
    "\n",
    "\n",
    "[**Step 1: Business Understanding**](#Step-1:-Business-Understanding)\n",
    "\n",
    "[**Step 2: Data Understanding**](#Step-2:-Data-Understanding)\n",
    "\n",
    "- [**Load Data**](#Load-Data)\n",
    "- [**Check Data Quality**](#Check-Data-Quality)\n",
    "- [**Exploratory Data Analysis-EDA**](#Exploratory-Data-Analysis---EDA)\n",
    " \n",
    "[**Step 3: Data Preparation**](#Step-3:-Data-Preparation)\n",
    "- [**Deal with Missing Data**](#Deal-with-Missing-Data)\n",
    "- [**Feature Engineering**](#Feature-Engineering)\n",
    "\n",
    "[**Step 4: Modeling**](#Step-4:-Modeling)\n",
    "\n",
    "[**Step 5: Submit**](#Step-5:-Submit)\n",
    "\n"
   ]
  },
  {
   "cell_type": "markdown",
   "metadata": {},
   "source": [
    "[Back to Top](#Table-of-Contents)\n",
    "\n",
    "## Step 1: Business Understanding\n",
    "This initial phase focuses on understanding the project objectives and requirements from a business perspective, and then converting this knowledge into a data mining problem definition, and a preliminary plan designed to achieve the objectives.\n",
    "#### Titanic Story\n",
    "The sinking of the RMS Titanic is one of the most infamous shipwrecks in history.  On April 15, 1912, during her maiden voyage, the Titanic sank after colliding with an iceberg, killing 1502 out of 2224 passengers and crew. This sensational tragedy shocked the international community and led to better safety regulations for ships.\n",
    "\n",
    "One of the reasons that the shipwreck led to such loss of life was that there were not enough lifeboats for the passengers and crew. Although there was some element of luck involved in surviving the sinking, some groups of people were more likely to survive than others, such as women, children, and the upper-class passengers.\n",
    "\n",
    "#### Objective\n",
    "In this challenge, we will complete the analysis of what sorts of people were likely to survive. \n",
    "\n",
    "In addition, we will build a regression model to predict ticket price (Fare).\n",
    "\n"
   ]
  },
  {
   "cell_type": "markdown",
   "metadata": {},
   "source": [
    "[Back to Top](#Table-of-Contents)\n",
    "\n",
    "## Step 2: Data Understanding\n",
    "The data understanding phase starts with an initial data collection and proceeds with activities in order to get familiar with the data, to identify data quality problems, to discover first insights into the data, or to detect interesting subsets to form hypotheses for hidden information. This step is often mixed with the next step, Data Preparation."
   ]
  },
  {
   "cell_type": "markdown",
   "metadata": {},
   "source": [
    "### Data Dictionary\n",
    "The data is in a csv file titanic.csv. \n",
    "\n",
    "| Variable | Definition | Key |\n",
    "| --- | --- | --- |\n",
    "| Survived | Survival | 0 = No, 1 = Yes |\n",
    "| Pclass | Ticket class\t| 1 = 1st, 2 = 2nd, 3 = 3rd |\n",
    "| Sex | Sex | male/femail |\t\n",
    "| Age | Age | in years |\n",
    "| SibSp | # of siblings / spouses aboard the Titanic | |\n",
    "| Parch | # of parents / children aboard the Titanic | |\n",
    "| Ticket | Ticket number | |\n",
    "| Fare | Passenger fare | |\n",
    "| Cabin | Cabin number | |\n",
    "| Embarked | Port of Embarkation | C = Cherbourg, Q = Queenstown, S = Southampton |\n",
    "\n",
    "**Variable Notes**\n",
    "- Pclass: A proxy for socio-economic status (SES)\n",
    " - 1st = Upper\n",
    " - 2nd = Middle\n",
    " - 3rd = Lower\n",
    "\n",
    "- Age: Age is fractional if less than 1. If the age is estimated, is it in the form of xx.5\n",
    "\n",
    "- SibSp: The dataset defines family relations in this way...\n",
    "    - Sibling = brother, sister, stepbrother, stepsister\n",
    "    - Spouse = husband, wife (mistresses and fiancés were ignored)\n",
    "\n",
    "- Parch: The dataset defines family relations in this way...\n",
    " - Parent = mother, father\n",
    " - Child = daughter, son, stepdaughter, stepson\n",
    " - Some children travelled only with a nanny, therefore Parch=0 for them.\n",
    "\n"
   ]
  },
  {
   "cell_type": "markdown",
   "metadata": {},
   "source": [
    "### Load Data\n",
    "\n",
    "This dataset is in titanic.csv. Make sure the file is in the current folder."
   ]
  },
  {
   "cell_type": "code",
   "execution_count": null,
   "metadata": {},
   "outputs": [],
   "source": [
    "import pandas as pd\n",
    "import matplotlib.pyplot as plt\n",
    "import seaborn as sns\n",
    "import warnings\n",
    "warnings.filterwarnings('ignore')\n",
    "%matplotlib inline"
   ]
  },
  {
   "cell_type": "code",
   "execution_count": null,
   "metadata": {},
   "outputs": [],
   "source": [
    "df_titanic = pd.read_csv('titanic.csv')\n",
    "df_titanic.head()"
   ]
  },
  {
   "cell_type": "markdown",
   "metadata": {},
   "source": [
    "### Check Data Quality\n",
    "Check data quality. The most common check is to check missing values. We can do some basic data cleaning like cleaning up currency fields.\n",
    "- Check null values\n",
    "- The currency field needs to be converted to a float type, and should be purged of non-numeric characters like currency symbols ('$'), commas (',') and parentheses ('()') since parentheses are sometimes used to indicate negative values.\n"
   ]
  },
  {
   "cell_type": "markdown",
   "metadata": {},
   "source": [
    "##### Task1: Check out Basic Dataframe Info\n",
    "\n",
    "Hint: info() function.\n",
    "\n",
    "Discuss missing values in the dataframe."
   ]
  },
  {
   "cell_type": "code",
   "execution_count": null,
   "metadata": {
    "scrolled": false
   },
   "outputs": [],
   "source": []
  },
  {
   "cell_type": "markdown",
   "metadata": {},
   "source": [
    "##### Task2: Clean up Fare, Convert to Float\n",
    "Strip \"$\" from Fare, convert datatype to float."
   ]
  },
  {
   "cell_type": "code",
   "execution_count": null,
   "metadata": {
    "scrolled": true
   },
   "outputs": [],
   "source": []
  },
  {
   "cell_type": "markdown",
   "metadata": {},
   "source": [
    "##### Task3: Check out the Statistics for the Numeric Columns\n",
    "\n",
    "Hint:describe() function.\n",
    "\n",
    "Discuss:\n",
    "- Age, SibSp, Parch, Fare statistics\n",
    "- What does the mean value for Survived mean?"
   ]
  },
  {
   "cell_type": "code",
   "execution_count": null,
   "metadata": {
    "scrolled": true
   },
   "outputs": [],
   "source": []
  },
  {
   "cell_type": "markdown",
   "metadata": {},
   "source": [
    "### Exploratory Data Analysis - EDA\n",
    "EDA is an approach to analyzing data sets to summarize their main characteristics, often with visual methods.\n",
    "\n",
    "#### Types Of Features\n",
    "##### Categorical Features:\n",
    "A categorical variable is one that has two or more categories and each value in that feature can be categorised by them. For example, gender is a categorical variable having two categories (male and female). If we cannot sort or give any ordering to such variables then they are also known as Nominal Variables.\n",
    "\n",
    "Categorical Features in the dataset: Sex, Embarked.\n",
    "\n",
    "##### Continous Features:\n",
    "A feature is said to be continous if it can take values between any two points or between the minimum or maximum values in the feature's column.\n",
    "\n",
    "Continous Features in the dataset: Fare"
   ]
  },
  {
   "cell_type": "markdown",
   "metadata": {},
   "source": [
    "### Categorical Features\n",
    "We will perform a univariate analysis of Survived. Then we will analyze the relationship between Sex and Survived, and Embarked and Survived.\n",
    "\n",
    "#### How Many Survived?\n",
    "We can answer this question by creating a bar chart of the Survived column. There are multiple ways to create the bar chart. We will demonstrate two ways here: seaborn countplot, and pandas series bar.\n",
    "\n",
    "##### Task4: Plot a Bar Chart for Perished vs. Survived\n",
    "Plot a bar chart for the Survived column. Survived=0 means the passenger perished, Survived=1 means the passenger survived."
   ]
  },
  {
   "cell_type": "code",
   "execution_count": null,
   "metadata": {},
   "outputs": [],
   "source": []
  },
  {
   "cell_type": "markdown",
   "metadata": {},
   "source": [
    "#### Relationship Between Sex and Survived\n"
   ]
  },
  {
   "cell_type": "markdown",
   "metadata": {},
   "source": [
    "##### Task5: Plot a Bar Chart for the Number of Male and Female Passengers\n",
    "Hint: Use seaborn countplot."
   ]
  },
  {
   "cell_type": "code",
   "execution_count": null,
   "metadata": {},
   "outputs": [],
   "source": []
  },
  {
   "cell_type": "markdown",
   "metadata": {},
   "source": [
    "##### Task6: Group by Sex to Find the Survival Rate of Male and Female Passengers\n",
    "Calculate the average of the Survived column for Male and Female."
   ]
  },
  {
   "cell_type": "code",
   "execution_count": null,
   "metadata": {},
   "outputs": [],
   "source": []
  },
  {
   "cell_type": "markdown",
   "metadata": {},
   "source": [
    "##### Task7: Plot Perished vs. Survived Bar for Male and Female\n",
    "We will use seaborn countplot() again, but set the argument `hue` to 'Survived'."
   ]
  },
  {
   "cell_type": "code",
   "execution_count": null,
   "metadata": {
    "scrolled": true
   },
   "outputs": [],
   "source": []
  },
  {
   "cell_type": "markdown",
   "metadata": {},
   "source": [
    "The number of men on the ship is lot more than the number of women. Still the number of females that survived is almost twice the number of males that survived. Thus, the majority of women survived while the vast majority of men perished."
   ]
  },
  {
   "cell_type": "markdown",
   "metadata": {},
   "source": [
    "#### Pclass and Survival\n",
    "##### Task 8: List the Survival Rate for Each Pclass \n",
    "Hint: The verage of Survived is the survival rate."
   ]
  },
  {
   "cell_type": "code",
   "execution_count": null,
   "metadata": {},
   "outputs": [],
   "source": []
  },
  {
   "cell_type": "markdown",
   "metadata": {},
   "source": [
    "##### Task 9: Plot Perished vs. Survived for Each Pclass\n",
    "Hint: Use seaborn countplot, set `hue` to Survived."
   ]
  },
  {
   "cell_type": "code",
   "execution_count": null,
   "metadata": {
    "scrolled": true
   },
   "outputs": [],
   "source": []
  },
  {
   "cell_type": "markdown",
   "metadata": {},
   "source": [
    "### Continuous Features\n"
   ]
  },
  {
   "cell_type": "markdown",
   "metadata": {},
   "source": [
    "#### Univariate Distribution Plot\n",
    "There are multiple ways to create histograms. I will demonstrate 3 ways.\n",
    "- ax.hist(): can not handle NaN value\n",
    "- seaborn.distplot(): can not handle NaN. Has KDE(kernel density estimation) by default.\n",
    "- pd.Series.hist(): simplest and can handle NaN by default"
   ]
  },
  {
   "cell_type": "markdown",
   "metadata": {},
   "source": [
    "##### Task 10: Plot a Histogram for Age\n",
    "Use the pandas Series hist() function which handles missing values."
   ]
  },
  {
   "cell_type": "code",
   "execution_count": null,
   "metadata": {},
   "outputs": [],
   "source": []
  },
  {
   "cell_type": "markdown",
   "metadata": {},
   "source": [
    "##### Task11: Stack Age Histogram of Survived On Top of Overall Age Histogram\n",
    "Plot a histogram for Age, then filter out the survived passengers and plot a histogram for Age on the same axis. Set different colors and labels for the two histograms."
   ]
  },
  {
   "cell_type": "code",
   "execution_count": null,
   "metadata": {
    "scrolled": false
   },
   "outputs": [],
   "source": []
  },
  {
   "cell_type": "markdown",
   "metadata": {},
   "source": [
    "Children have a higher survival rate."
   ]
  },
  {
   "cell_type": "markdown",
   "metadata": {},
   "source": [
    "[Back to Top](#Table-of-Contents)\n",
    "\n",
    "## Step 3: Data Preparation\n",
    "Create new features through feature engineering. Deal with missing values. Clean up data by stripping extra white spaces from string values. We will focus on dealing with missing data in this phase."
   ]
  },
  {
   "cell_type": "code",
   "execution_count": null,
   "metadata": {
    "scrolled": true
   },
   "outputs": [],
   "source": [
    "#check all missing data\n",
    "df_titanic.isnull().sum()"
   ]
  },
  {
   "cell_type": "markdown",
   "metadata": {},
   "source": [
    "### Deal with Missing Data\n",
    "We will demonstrate filling in missing values with mean/mode, as well as with estimates from other columns.\n",
    "\n",
    "#### Fill with Mean/Mode\n",
    "Embarked only has two observations with missing values. Because there is no obvious way to estimate the missing values, we will simply fill them in with the modal value of the column, or 'S'."
   ]
  },
  {
   "cell_type": "markdown",
   "metadata": {},
   "source": [
    "##### Task12: Fill in Missing Values of the Embarked Column with the Modal Value."
   ]
  },
  {
   "cell_type": "code",
   "execution_count": null,
   "metadata": {},
   "outputs": [],
   "source": []
  },
  {
   "cell_type": "markdown",
   "metadata": {
    "collapsed": true
   },
   "source": [
    "#### Fill with Estimated Value\n",
    "\n",
    "A title is a word used in a person's name in certain contexts. It may signify veneration, an official position, or a professional or academic qualification. It's a good indication of age. For example, \"Mr\" is for adult men while \"Master\" is for young boys.\n",
    "\n",
    "If we look at all names of Titanic passengers, we can see that the name is in format Last, Title, First. We can use this information to estimate missing ages.\n",
    "\n",
    "- First, we will use a regular expression to extract the title from the name.\n",
    "- Then we will convert the title to upper case.\n",
    "- Finally, we fill in the missing values in the Age column with the mean age for specific title."
   ]
  },
  {
   "cell_type": "code",
   "execution_count": 1,
   "metadata": {},
   "outputs": [
    {
     "ename": "NameError",
     "evalue": "name 'df_titanic' is not defined",
     "output_type": "error",
     "traceback": [
      "\u001b[0;31m---------------------------------------------------------------------------\u001b[0m",
      "\u001b[0;31mNameError\u001b[0m                                 Traceback (most recent call last)",
      "\u001b[0;32m<ipython-input-1-3ba93528ab7b>\u001b[0m in \u001b[0;36m<module>\u001b[0;34m\u001b[0m\n\u001b[1;32m      1\u001b[0m \u001b[0;31m#extract title from name\u001b[0m\u001b[0;34m\u001b[0m\u001b[0;34m\u001b[0m\u001b[0m\n\u001b[0;32m----> 2\u001b[0;31m \u001b[0mdf_titanic\u001b[0m\u001b[0;34m[\u001b[0m\u001b[0;34m'Title'\u001b[0m\u001b[0;34m]\u001b[0m\u001b[0;34m=\u001b[0m\u001b[0mdf_titanic\u001b[0m\u001b[0;34m.\u001b[0m\u001b[0mName\u001b[0m\u001b[0;34m.\u001b[0m\u001b[0mstr\u001b[0m\u001b[0;34m.\u001b[0m\u001b[0mextract\u001b[0m\u001b[0;34m(\u001b[0m\u001b[0;34m'([A-Za-z]+\\.)'\u001b[0m\u001b[0;34m)\u001b[0m\u001b[0;34m\u001b[0m\u001b[0m\n\u001b[0m\u001b[1;32m      3\u001b[0m \u001b[0mdf_titanic\u001b[0m\u001b[0;34m.\u001b[0m\u001b[0mhead\u001b[0m\u001b[0;34m(\u001b[0m\u001b[0;34m)\u001b[0m\u001b[0;34m\u001b[0m\u001b[0m\n",
      "\u001b[0;31mNameError\u001b[0m: name 'df_titanic' is not defined"
     ]
    }
   ],
   "source": [
    "#extract title from name\n",
    "df_titanic['Title']=df_titanic.Name.str.extract('([A-Za-z]+\\.)')\n",
    "df_titanic.head()"
   ]
  },
  {
   "cell_type": "markdown",
   "metadata": {},
   "source": [
    "##### Task13: Convert Title to Upper Case.\n",
    "To ensure we get an accurate mean age for each title, we convert values in Title column to all upper case."
   ]
  },
  {
   "cell_type": "code",
   "execution_count": null,
   "metadata": {
    "scrolled": true
   },
   "outputs": [],
   "source": []
  },
  {
   "cell_type": "markdown",
   "metadata": {},
   "source": [
    "##### Task14: Fill in the Missing Age with the Mean Age of the Title\n"
   ]
  },
  {
   "cell_type": "code",
   "execution_count": null,
   "metadata": {},
   "outputs": [],
   "source": []
  },
  {
   "cell_type": "markdown",
   "metadata": {},
   "source": [
    "### Feature Engineering\n",
    "We'll create a new column, FamilySize. There are two columns related to family size. Parch indicates parent or children number, and SibSp indicates sibling and spouse number.\n",
    "\n",
    "Take one name, 'Asplund', as an example. We can see that the total family size is 7 (Parch + SibSp + 1), and each family member has the same value for Fare, which means the Fare is for the whole group. So family size will be an important feature to predict Fare. There are only 4 Asplunds out of 7 in the dataset becasue the dataset is only a subset of all passengers."
   ]
  },
  {
   "cell_type": "code",
   "execution_count": null,
   "metadata": {
    "scrolled": false
   },
   "outputs": [],
   "source": [
    "df_titanic[df_titanic.Name.str.contains('Asplund')]"
   ]
  },
  {
   "cell_type": "markdown",
   "metadata": {},
   "source": [
    "##### Task15: Create the column 'FamilySize'\n",
    "FamilySize = Parch + SibSp + 1"
   ]
  },
  {
   "cell_type": "code",
   "execution_count": null,
   "metadata": {
    "scrolled": true
   },
   "outputs": [],
   "source": []
  },
  {
   "cell_type": "markdown",
   "metadata": {},
   "source": [
    "[Back to Top](#Table-of-Contents)\n",
    "\n",
    "## Step 4: Modeling\n",
    "\n",
    "Now we have a relatively clean dataset. (The Cabin column is an exception because it has many missing values). We can create a classification model for Survived to predict whether a passenger would survive the disaster. We can also use regression to create a model that will predict the ticket price (Fare). This dataset is not a good dataset for regression. But since we don't talk about classification in this course we will perform a linear regression analysis on Fare in this exercise."
   ]
  },
  {
   "cell_type": "markdown",
   "metadata": {},
   "source": [
    "##### Task16: Use Regression to Create a Model for Fare\n",
    "Construct a regression model with statsmodels.\n",
    "\n",
    "Pick Pclass, Embarked, and FamilySize as independent variables.\n",
    "\n",
    "Discuss the regression results."
   ]
  },
  {
   "cell_type": "code",
   "execution_count": null,
   "metadata": {
    "scrolled": false
   },
   "outputs": [],
   "source": [
    "import statsmodels.formula.api as smf"
   ]
  },
  {
   "cell_type": "markdown",
   "metadata": {},
   "source": [
    "[Back to Top](#Table-of-Contents)\n",
    "\n",
    "## Step 5: Submit\n",
    "\n",
    "##### Task17: Submit\n",
    "\n",
    "Rename the notebook to CaseStudy_Titanic_yournetid. For example, if your netid is zz, rename the notebook to CaseStudy_Titanic_zz.  \n",
    "Download as HTML.  \n",
    "Submit the **HTML** File."
   ]
  }
 ],
 "metadata": {
  "kernelspec": {
   "display_name": "Python 3",
   "language": "python",
   "name": "python3"
  },
  "language_info": {
   "codemirror_mode": {
    "name": "ipython",
    "version": 3
   },
   "file_extension": ".py",
   "mimetype": "text/x-python",
   "name": "python",
   "nbconvert_exporter": "python",
   "pygments_lexer": "ipython3",
   "version": "3.7.0"
  }
 },
 "nbformat": 4,
 "nbformat_minor": 2
}
