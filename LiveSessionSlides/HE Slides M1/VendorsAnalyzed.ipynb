{
 "cells": [
  {
   "cell_type": "markdown",
   "metadata": {},
   "source": [
    "# Analysis of the Vendors for Craig's Design and Landscaping Services  \n",
    "\n",
    "## Description \n",
    "This notebook reads in an Excel file containing the Vendors for a fictitious company that Intuit made up to show how the Quickbooks data can be exported.\n",
    "\n",
    "\n",
    "## Data Preparation  \n",
    "\n",
    "### Code to read in the data"
   ]
  },
  {
   "cell_type": "code",
   "execution_count": 1,
   "metadata": {},
   "outputs": [],
   "source": [
    "import pandas as pd\n",
    "#import numpy as np\n",
    "import re # Regular expressions for dealing with text processing\n",
    "from sklearn.cluster import KMeans\n",
    "from matplotlib import pyplot as plt\n",
    "\n",
    "vr = pd.read_excel('VendorsRaw.xlsx') # vr stands for vendorsRaw"
   ]
  },
  {
   "cell_type": "markdown",
   "metadata": {},
   "source": [
    "### Code to change column Names"
   ]
  },
  {
   "cell_type": "code",
   "execution_count": 2,
   "metadata": {},
   "outputs": [],
   "source": [
    "v = vr.copy()\n",
    "v.columns = v.iloc[3,]\n",
    "v = v.iloc[4:v.shape[0]-3,1:]\n",
    "v = v.rename(columns = lambda x: re.sub(' ', '', x))\n",
    "v.rename(columns = {'Account#': 'AccountNum'}, inplace = True)"
   ]
  },
  {
   "cell_type": "markdown",
   "metadata": {},
   "source": [
    "### Code to create a column for each of the three phone numbers: phone, fax, mobile"
   ]
  },
  {
   "cell_type": "code",
   "execution_count": 3,
   "metadata": {},
   "outputs": [],
   "source": [
    "# Create blank columns\n",
    "pnums = v['PhoneNumbers']\n",
    "pnums = pnums.str.split('\\n', n = 3, expand = True)\n",
    "pnums.columns = ['one', 'two', 'three']\n",
    "v2 = pd.concat([v, pnums], axis = 1)\n",
    "v2.reset_index(inplace = True)\n",
    "\n",
    "# Phone\n",
    "v2['phone'] = ''\n",
    "def phone(row):\n",
    "    if str(row['one']) != 'nan' and re.search('Phone', str(row['one'])) is not None:\n",
    "        return re.sub('Phone: ', '', row['one'])\n",
    "    elif str(row['two']) != 'nan' and re.search('Phone', str(row['two'])) is not None:\n",
    "        return re.sub('Phone: ', '', row['two'])\n",
    "    elif str(row['three']) != 'nan' and re.search('Phone', str(row['three'])) is not None:\n",
    "        return re.sub('Phone: ', '', row['three'])\n",
    "    \n",
    "v2['phone'] = v2.apply(phone, axis = 1)\n",
    "# Fax\n",
    "v2['fax'] = ''\n",
    "def fax(row):\n",
    "    if str(row['one']) != 'nan' and re.search('Fax', str(row['one'])) is not None:\n",
    "        return re.sub('Fax: ', '', row['one'])\n",
    "    elif str(row['two']) != 'nan' and re.search('Fax', str(row['two'])) is not None:\n",
    "        return re.sub('Fax: ', '', row['two'])\n",
    "    elif str(row['three']) != 'nan' and re.search('Fax', str(row['three'])) is not None:\n",
    "        return re.sub('Fax: ', '', row['three'])\n",
    "    \n",
    "v2['fax'] = v2.apply(fax, axis = 1)\n",
    "# Mobile\n",
    "v2['mobile'] = ''\n",
    "def mobile(row):\n",
    "    if str(row['one']) != 'nan' and re.search('Mobile', str(row['one'])) is not None:\n",
    "        return re.sub('Mobile: ', '', row['one'])\n",
    "    elif str(row['two']) != 'nan' and re.search('Mobile', str(row['two'])) is not None:\n",
    "        return re.sub('Mobile: ', '', row['two'])\n",
    "    elif str(row['three']) != 'nan' and re.search('Mobile', str(row['three'])) is not None:\n",
    "        return re.sub('Mobile: ', '', row['three'])\n",
    "    \n",
    "v2['mobile'] = v2.apply(mobile, axis = 1)\n",
    "v2.drop(columns = ['one', 'two', 'three', 'PhoneNumbers'], inplace = True)"
   ]
  },
  {
   "cell_type": "markdown",
   "metadata": {},
   "source": [
    "### Code to separate the FullName column into three different columns"
   ]
  },
  {
   "cell_type": "code",
   "execution_count": 4,
   "metadata": {},
   "outputs": [],
   "source": [
    "# Add a blank column for each part of the name\n",
    "v3 = v2.copy() \n",
    "nameCols = ['title', 'firstName', 'middleName', 'lastName', 'suffix']\n",
    "for i in nameCols:\n",
    "    v3[i] = ''\n",
    "\n",
    "# Function to separate out the name\n",
    "def sepNames(row):\n",
    "    tempName = str(row['FullName'])\n",
    "    if tempName not in ['None', 'nan']:\n",
    "        # Title\n",
    "        if re.search('\\. ', tempName) is not None:\n",
    "            title = re.sub('\\. .*$', '.', tempName)\n",
    "            tempName = re.sub(title + ' ', '', tempName)\n",
    "        else:\n",
    "            title = ''\n",
    "        # First name\n",
    "        firstName = re.sub(' .*$', '', tempName)\n",
    "        tempName = re.sub('^.*'+firstName+' ', '', tempName)\n",
    "        # Middle\n",
    "        middleNameEnd = re.search(' ', tempName)\n",
    "        if middleNameEnd is not None:\n",
    "            if middleNameEnd.start() <= 2:\n",
    "                middleName = tempName[0:middleNameEnd.start()]\n",
    "                tempName = tempName[middleNameEnd.start()+1:]\n",
    "            else:\n",
    "                middleName = ''\n",
    "        else:\n",
    "            middleName = ''\n",
    "        # Suffix\n",
    "        if re.search(' ', tempName) is not None:\n",
    "            suffix = re.sub('^.* ', '', tempName)\n",
    "            tempName = re.sub(' .*$', '', tempName)\n",
    "        else:\n",
    "            suffix = ''\n",
    "        # Last Name\n",
    "        lastName = tempName\n",
    "    else:\n",
    "        title, firstName, middleName, lastName, suffix = ['', '', '', '', '']\n",
    "    return pd.Series([title, firstName, middleName, lastName, suffix])\n",
    "\n",
    "#v3.loc[24,nameCols] = sepNames(v3.loc[24,]) # Test one row\n",
    "v3[nameCols] = v3.apply(sepNames, axis = 1)\n",
    "v3.drop('FullName', axis = 1, inplace = True)"
   ]
  },
  {
   "cell_type": "markdown",
   "metadata": {},
   "source": [
    "### Code to separate the Address column into separate fields for each part of the address"
   ]
  },
  {
   "cell_type": "code",
   "execution_count": 5,
   "metadata": {},
   "outputs": [],
   "source": [
    "v4 = v3.copy()\n",
    "addressCols = ['street', 'city', 'state', 'zip5', 'country']\n",
    "for i in addressCols:\n",
    "    v4[i] = ''\n",
    "\n",
    "def sepAddress(row):\n",
    "    tempAd = str(row['Address'])\n",
    "    if tempAd not in ['None', 'nan']:\n",
    "        #country\n",
    "        if len(re.findall('\\n', tempAd)) > 1:\n",
    "            country = re.subn('.*\\n', '', tempAd)[0]\n",
    "            tempAd = re.sub('\\n.*$', '', tempAd)\n",
    "        else:\n",
    "            country = ''\n",
    "        #street\n",
    "        street = re.sub('\\n.*$', '', tempAd)\n",
    "        tempAd = re.sub('^.*\\n', '', tempAd)\n",
    "        #zip5\n",
    "        zip5 = str(tempAd[-5:])\n",
    "        tempAd = tempAd[:-6]\n",
    "        #state\n",
    "        state = tempAd[-2:]\n",
    "        tempAd = tempAd[:-3]\n",
    "        #city\n",
    "        city = tempAd\n",
    "    else:\n",
    "        street, city, state, zip5, country = ['', '', '', '', '']\n",
    "    return pd.Series([street, city, state, zip5, country])\n",
    "v4[addressCols] = v4.apply(sepAddress, axis = 1)\n",
    "v4.drop(columns = 'Address', axis = 1, inplace = True)"
   ]
  },
  {
   "cell_type": "markdown",
   "metadata": {},
   "source": [
    "___\n",
    "## Create a dataframe for cluster analysis"
   ]
  },
  {
   "cell_type": "code",
   "execution_count": 6,
   "metadata": {},
   "outputs": [],
   "source": [
    "v5 = v4.copy()\n",
    "v5 = v5.assign(\n",
    "        fax = lambda dataframe: dataframe['fax'].map(lambda fax: 1 if fax is not None else 0)\n",
    "        ).assign(\n",
    "        lastName = lambda dataframe: dataframe['lastName'].map(lambda lastName: 1 if lastName is not '' else 0)\n",
    "                ).assign(\n",
    "                        state = lambda dataframe: dataframe['state'].map(lambda state: state if state is not '' else None)\n",
    "                        )\n",
    "v5 = v5[['Vendor', 'fax', 'lastName', 'state']]\n",
    "# One hot encode the state\n",
    "v5 = pd.get_dummies(v5, prefix_sep = '_', columns = ['state'])"
   ]
  },
  {
   "cell_type": "markdown",
   "metadata": {},
   "source": [
    "### Elbow plot to identify the optimal number of clusters"
   ]
  },
  {
   "cell_type": "code",
   "execution_count": 7,
   "metadata": {},
   "outputs": [],
   "source": [
    "# Magic to show plots inline\n",
    "%matplotlib inline"
   ]
  },
  {
   "cell_type": "code",
   "execution_count": 8,
   "metadata": {},
   "outputs": [
    {
     "data": {
      "text/plain": [
       "Text(0, 0.5, 'WCSS')"
      ]
     },
     "execution_count": 8,
     "metadata": {},
     "output_type": "execute_result"
    },
    {
     "data": {
      "image/png": "[encoded data removed]",
      "text/plain": [
       "<Figure size 432x288 with 1 Axes>"
      ]
     },
     "metadata": {
      "needs_background": "light"
     },
     "output_type": "display_data"
    }
   ],
   "source": [
    "rowLabel = v5['Vendor']\n",
    "clusterData = v5.drop(columns = 'Vendor', axis = 1)\n",
    "wcss = [] # within cluster sum of squares\n",
    "\n",
    "for i in range(1,8):\n",
    "    kmeans = KMeans(n_clusters = i, init = 'k-means++', max_iter = 300\n",
    "                    , n_init = 10, random_state = 0)\n",
    "    kmeans.fit(clusterData)\n",
    "    wcss.append(kmeans.inertia_)\n",
    "plt.plot(range(1, 8), wcss)\n",
    "plt.title('Elbow Method')\n",
    "plt.xlabel('Number of clusters')\n",
    "plt.ylabel('WCSS')"
   ]
  },
  {
   "cell_type": "markdown",
   "metadata": {},
   "source": [
    "### Create clusters"
   ]
  },
  {
   "cell_type": "code",
   "execution_count": 9,
   "metadata": {},
   "outputs": [],
   "source": [
    "kmeans = KMeans(n_clusters = 3, init = 'k-means++', max_iter = 300\n",
    "                    , n_init = 10, random_state = 0)\n",
    "clusterLabel = kmeans.fit_predict(clusterData)"
   ]
  },
  {
   "cell_type": "markdown",
   "metadata": {},
   "source": [
    "### Evaluate clusters"
   ]
  },
  {
   "cell_type": "code",
   "execution_count": 10,
   "metadata": {},
   "outputs": [
    {
     "data": {
      "text/html": [
       "<div>\n",
       "<style scoped>\n",
       "    .dataframe tbody tr th:only-of-type {\n",
       "        vertical-align: middle;\n",
       "    }\n",
       "\n",
       "    .dataframe tbody tr th {\n",
       "        vertical-align: top;\n",
       "    }\n",
       "\n",
       "    .dataframe thead th {\n",
       "        text-align: right;\n",
       "    }\n",
       "</style>\n",
       "<table border=\"1\" class=\"dataframe\">\n",
       "  <thead>\n",
       "    <tr style=\"text-align: right;\">\n",
       "      <th>cluster</th>\n",
       "      <th>Cluster_1</th>\n",
       "      <th>Cluster_2</th>\n",
       "      <th>Cluster_3</th>\n",
       "      <th>Feature</th>\n",
       "    </tr>\n",
       "  </thead>\n",
       "  <tbody>\n",
       "    <tr>\n",
       "      <th>fax</th>\n",
       "      <td>0.000000</td>\n",
       "      <td>0.090909</td>\n",
       "      <td>1.0</td>\n",
       "      <td>fax</td>\n",
       "    </tr>\n",
       "    <tr>\n",
       "      <th>lastName</th>\n",
       "      <td>0.833333</td>\n",
       "      <td>0.000000</td>\n",
       "      <td>1.0</td>\n",
       "      <td>lastName</td>\n",
       "    </tr>\n",
       "    <tr>\n",
       "      <th>state_AZ</th>\n",
       "      <td>0.000000</td>\n",
       "      <td>0.181818</td>\n",
       "      <td>0.0</td>\n",
       "      <td>state_AZ</td>\n",
       "    </tr>\n",
       "    <tr>\n",
       "      <th>state_CA</th>\n",
       "      <td>0.833333</td>\n",
       "      <td>0.000000</td>\n",
       "      <td>1.0</td>\n",
       "      <td>state_CA</td>\n",
       "    </tr>\n",
       "    <tr>\n",
       "      <th>state_NJ</th>\n",
       "      <td>0.083333</td>\n",
       "      <td>0.000000</td>\n",
       "      <td>0.0</td>\n",
       "      <td>state_NJ</td>\n",
       "    </tr>\n",
       "  </tbody>\n",
       "</table>\n",
       "</div>"
      ],
      "text/plain": [
       "cluster   Cluster_1  Cluster_2  Cluster_3   Feature\n",
       "fax        0.000000   0.090909        1.0       fax\n",
       "lastName   0.833333   0.000000        1.0  lastName\n",
       "state_AZ   0.000000   0.181818        0.0  state_AZ\n",
       "state_CA   0.833333   0.000000        1.0  state_CA\n",
       "state_NJ   0.083333   0.000000        0.0  state_NJ"
      ]
     },
     "execution_count": 10,
     "metadata": {},
     "output_type": "execute_result"
    }
   ],
   "source": [
    "# Add cluster labels to dataframe\n",
    "v5['cluster'] = clusterLabel\n",
    "# Get centroid values from original data\n",
    "clusterSum = v5.groupby(['cluster']).mean()\n",
    "clusterSumT = clusterSum.T\n",
    "clusterSumT['Feature'] = clusterSumT.index\n",
    "clusterSumT.rename(columns = {0: 'Cluster_1', 1: 'Cluster_2', 2: 'Cluster_3'}, inplace = True)\n",
    "clusterSumT"
   ]
  },
  {
   "cell_type": "code",
   "execution_count": 11,
   "metadata": {},
   "outputs": [
    {
     "data": {
      "text/html": [
       "<div>\n",
       "<style scoped>\n",
       "    .dataframe tbody tr th:only-of-type {\n",
       "        vertical-align: middle;\n",
       "    }\n",
       "\n",
       "    .dataframe tbody tr th {\n",
       "        vertical-align: top;\n",
       "    }\n",
       "\n",
       "    .dataframe thead th {\n",
       "        text-align: right;\n",
       "    }\n",
       "</style>\n",
       "<table border=\"1\" class=\"dataframe\">\n",
       "  <thead>\n",
       "    <tr style=\"text-align: right;\">\n",
       "      <th></th>\n",
       "      <th>Cluster_1</th>\n",
       "      <th>Cluster_2</th>\n",
       "      <th>Cluster_3</th>\n",
       "      <th>Feature</th>\n",
       "    </tr>\n",
       "  </thead>\n",
       "  <tbody>\n",
       "    <tr>\n",
       "      <th>0</th>\n",
       "      <td>2.775558e-17</td>\n",
       "      <td>9.090909e-02</td>\n",
       "      <td>1.0</td>\n",
       "      <td>fax</td>\n",
       "    </tr>\n",
       "    <tr>\n",
       "      <th>1</th>\n",
       "      <td>8.333333e-01</td>\n",
       "      <td>0.000000e+00</td>\n",
       "      <td>1.0</td>\n",
       "      <td>lastName</td>\n",
       "    </tr>\n",
       "    <tr>\n",
       "      <th>2</th>\n",
       "      <td>1.387779e-17</td>\n",
       "      <td>1.818182e-01</td>\n",
       "      <td>0.0</td>\n",
       "      <td>state_AZ</td>\n",
       "    </tr>\n",
       "    <tr>\n",
       "      <th>3</th>\n",
       "      <td>8.333333e-01</td>\n",
       "      <td>0.000000e+00</td>\n",
       "      <td>1.0</td>\n",
       "      <td>state_CA</td>\n",
       "    </tr>\n",
       "    <tr>\n",
       "      <th>4</th>\n",
       "      <td>8.333333e-02</td>\n",
       "      <td>6.938894e-18</td>\n",
       "      <td>0.0</td>\n",
       "      <td>state_NJ</td>\n",
       "    </tr>\n",
       "  </tbody>\n",
       "</table>\n",
       "</div>"
      ],
      "text/plain": [
       "      Cluster_1     Cluster_2  Cluster_3   Feature\n",
       "0  2.775558e-17  9.090909e-02        1.0       fax\n",
       "1  8.333333e-01  0.000000e+00        1.0  lastName\n",
       "2  1.387779e-17  1.818182e-01        0.0  state_AZ\n",
       "3  8.333333e-01  0.000000e+00        1.0  state_CA\n",
       "4  8.333333e-02  6.938894e-18        0.0  state_NJ"
      ]
     },
     "execution_count": 11,
     "metadata": {},
     "output_type": "execute_result"
    }
   ],
   "source": [
    "# Cluster centroid values from model fit\n",
    "clusterCentroids = pd.DataFrame(kmeans.cluster_centers_.T\n",
    "                                , columns = ['Cluster_1', 'Cluster_2', 'Cluster_3'])\n",
    "clusterCentroids['Feature'] = clusterSum.columns.values.tolist()\n",
    "clusterCentroids"
   ]
  },
  {
   "cell_type": "markdown",
   "metadata": {},
   "source": [
    "### Plot centroid values"
   ]
  },
  {
   "cell_type": "code",
   "execution_count": 12,
   "metadata": {},
   "outputs": [
    {
     "data": {
      "text/plain": [
       "<matplotlib.legend.Legend at 0x1a2253c7b8>"
      ]
     },
     "execution_count": 12,
     "metadata": {},
     "output_type": "execute_result"
    },
    {
     "data": {
      "image/png": "[encoded data removed]",
      "text/plain": [
       "<Figure size 432x288 with 1 Axes>"
      ]
     },
     "metadata": {
      "needs_background": "light"
     },
     "output_type": "display_data"
    }
   ],
   "source": [
    "plt.plot('Feature', 'Cluster_1', data = clusterCentroids, label = 'Cluster_1')\n",
    "plt.plot('Feature', 'Cluster_2', data = clusterCentroids, label = 'Cluster_2')\n",
    "plt.plot('Feature', 'Cluster_3', data = clusterCentroids, label = 'Cluster_3')\n",
    "plt.title('Cluster Centroid Values')\n",
    "plt.xlabel('Feature')\n",
    "plt.ylabel('Value')\n",
    "plt.legend()"
   ]
  },
  {
   "cell_type": "markdown",
   "metadata": {},
   "source": [
    "## Discussion\n",
    "\n",
    "The cluster pattern closely resembles the clusters that were formed using the Excel macro:\n",
    "\n",
    "1. Cluster 3 includes all vendors with a fax number, a contact, and that are in the state of California.\n",
    "2. Cluster 2 includes the remaining vendors (without a fax number) that have a contact and that are mostly in the state of California. There appears to be some exceptions here, though. About 18% of the vendors in cluster 2 do not have a contact, and about 8% that are in the state of New Jersey.\n",
    "3. Cluster 1 includes everything else, and is much more heterogeneous in its makeup (i.e., there are a variety of states, vendors with a contact, and vendors with a fax number."
   ]
  },
  {
   "cell_type": "markdown",
   "metadata": {},
   "source": []
  }
 ],
 "metadata": {
  "kernelspec": {
   "display_name": "Python 3",
   "language": "python",
   "name": "python3"
  },
  "language_info": {
   "codemirror_mode": {
    "name": "ipython",
    "version": 3
   },
   "file_extension": ".py",
   "mimetype": "text/x-python",
   "name": "python",
   "nbconvert_exporter": "python",
   "pygments_lexer": "ipython3",
   "version": "3.7.2"
  }
 },
 "nbformat": 4,
 "nbformat_minor": 2
}
