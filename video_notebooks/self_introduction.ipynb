{
 "cells": [
  {
   "cell_type": "markdown",
   "metadata": {},
   "source": [
    "(U of I Campus)  \n",
    "Hi, my name is Linden Lu. I grew up in Beijing, China. After getting a bachelor's degree in computer science from Tsinghua university, I came to the States in 1997 and got a masters degree in computer science from Indiana University. I worked for over ten years as a software engineer and consultant in various industries including publication, e-commerce, media, finance and insurance, mainly in California.\n",
    "\n",
    "I moved to Champaign with my family in 2006 and later got masters in Finance from the university of Illinois. I joined the Gies College of Business in 2017 and I have been teaching data analytics to accounting students since then, both on campus and online. I love interacting with students. This is truly my dream job because it combines my expertise in programming and analytics with my passion in teaching. \n",
    "\n",
    "In my spare time, I enjoy all kinds of sports, among which, golf is my favorite. I'm going to show you my home golf course, university of Illinois golf course today.\n",
    "\n",
    "(U of I Golf Course)  \n",
    "Here we are on the first tee of the orange course. There are actually two 18-hole courses in this facility, orange and blue. The first hole on orange is a 540-yard, par 5 hole. On a good day, with the help of tail wind, I can reach the green in two shots. Let's see what I can do today.\n",
    "\n",
    "Ah, I hooked my tee shot into the woods on the left. Let's just hope I can find my ball.\n",
    "\n",
    "Ok, here's my ball. It's surrounded by big trees. I have two options here, the first is to chip the ball sideway to the fairway, hopefully save par from there. With this approach, I'm not likely to get a birdie, but I should be able to score no worse than a bogie. Another option is to take risk and go for the green. There's a small opening to the green. If I can hit the ball through the gap and get close to the green, I have a good chance to get a birdie. But if the ball doesn't get through, I'm in deep trouble and could get double bogie or worse.\n",
    "\n",
    "If I've tracked all my shots I hit before like a lot of pro golfers do, I can analyze my shots, evaluate my results under similar situation and make the best decision based on my data. But apparently I don't have that data so I'll follow my gut today and go for the green from here.\n",
    "\n",
    "(Ball bounce back off a tree)  \n",
    "Watch out!!!\n",
    "\n",
    "Whew, that was close. Maybe I should start tracking my shots so that I can make better decision based on data next time.\n"
   ]
  }
 ],
 "metadata": {
  "kernelspec": {
   "display_name": "Python 3",
   "language": "python",
   "name": "python3"
  },
  "language_info": {
   "codemirror_mode": {
    "name": "ipython",
    "version": 3
   },
   "file_extension": ".py",
   "mimetype": "text/x-python",
   "name": "python",
   "nbconvert_exporter": "python",
   "pygments_lexer": "ipython3",
   "version": "3.7.3"
  }
 },
 "nbformat": 4,
 "nbformat_minor": 2
}
