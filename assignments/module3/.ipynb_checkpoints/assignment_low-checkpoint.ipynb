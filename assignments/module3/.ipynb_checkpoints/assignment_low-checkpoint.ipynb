{
 "cells": [
  {
   "cell_type": "markdown",
   "metadata": {
    "nbgrader": {
     "grade": false,
     "grade_id": "intro",
     "locked": true,
     "schema_version": 1,
     "solution": false
    }
   },
   "source": [
    "# Module 3 Assignment\n",
    "\n",
    "A few things you should keep in mind when working on assignments:\n",
    "\n",
    "1. Make sure you fill in any place that says `YOUR CODE HERE`. Do **not** write your answer in anywhere else other than where it says `YOUR CODE HERE`. Anything you write anywhere else will be removed or overwritten by the autograder.\n",
    "\n",
    "2. Before you submit your assignment, make sure everything runs as expected. Go to menubar, select _Kernel_, and restart the kernel and run all cells (_Restart & Run all_).\n",
    "\n",
    "3. Do not change the title (i.e. file name) of this notebook.\n",
    "\n",
    "4. Make sure that you save your work (in the menubar, select _File_ → _Save and CheckPoint_)\n",
    "\n",
    "5. You are allowed to submit an assignment multiple times, but only the most recent submission will be graded."
   ]
  },
  {
   "cell_type": "code",
   "execution_count": 1,
   "metadata": {
    "nbgrader": {
     "grade": false,
     "grade_id": "import",
     "locked": true,
     "schema_version": 1,
     "solution": false
    }
   },
   "outputs": [],
   "source": [
    "import numpy as np\n",
    "\n",
    "import sys\n",
    "\n",
    "from nose.tools import assert_equal, assert_almost_equal\n",
    "from nose.tools import assert_equal, assert_is_instance, assert_is_not\n",
    "\n",
    "import warnings\n",
    "warnings.filterwarnings('ignore')"
   ]
  },
  {
   "cell_type": "markdown",
   "metadata": {
    "nbgrader": {
     "grade": false,
     "grade_id": "p1_text",
     "locked": true,
     "schema_version": 1,
     "solution": false
    }
   },
   "source": [
    "# Problem 1: Making a list, tuple, and dictionary\n",
    "\n",
    "- Write a function called \"create_data\" which takes in 3 parameters and returns a list, tuple, and dictionary (in that order) containing those 3 arguments.\n",
    "\n",
    "\n",
    "- The arguments will be labeled \"a\", \"b\", and \"c\". These arguments should be inputted **in that order** into each data structure (the list, tuple, and dictionary).\n",
    "\n",
    "\n",
    "- For the dictionary, set the key for \"a\" to be \"1\", the key for \"b\" to be \"2\", and the key for \"c\" to be \"3\".\n",
    "\n",
    "\n",
    "- Make sure that the function returns the list, tuple, and dictionary **in that order**."
   ]
  },
  {
   "cell_type": "code",
   "execution_count": 2,
   "metadata": {
    "nbgrader": {
     "grade": false,
     "grade_id": "p1_answer",
     "locked": false,
     "schema_version": 1,
     "solution": true
    }
   },
   "outputs": [],
   "source": [
    "def create_data(a,b,c):\n",
    "    '''\n",
    "    A function which creates a list, tuple, and dictionary of the inputted data.\n",
    "    \n",
    "    \n",
    "    Parameters\n",
    "    -------\n",
    "    a: the first datapoint to be inputted\n",
    "    \n",
    "    b: the second datapoint to be inputted\n",
    "    \n",
    "    c: the third datapoint to be inputted\n",
    "    \n",
    "    \n",
    "    Returns\n",
    "    --------\n",
    "    \n",
    "    my_list: a list containing the datapoints\n",
    "    \n",
    "    my_tuple: a tuple containing the datapoints\n",
    "    \n",
    "    my_dict: a dictionary containing the datapoints\n",
    "    \n",
    "    '''\n",
    "    \n",
    "    \n",
    "    ### BEGIN SOLUTION###\n",
    "    my_list = [a,b,c]\n",
    "    my_tuple = (a,b,c)\n",
    "    my_dict = {'1':a,'2':b,'3':c}\n",
    "    ###END SOLUTION###\n",
    "    \n",
    "    return my_list, my_tuple, my_dict"
   ]
  },
  {
   "cell_type": "code",
   "execution_count": 3,
   "metadata": {
    "nbgrader": {
     "grade": false,
     "grade_id": "cell-5c68e162f1c8ed07",
     "locked": true,
     "schema_version": 1,
     "solution": false
    }
   },
   "outputs": [],
   "source": [
    "a,b,c = 3,4,5\n",
    "my_list, my_tuple, my_dict = create_data(a,b,c)"
   ]
  },
  {
   "cell_type": "code",
   "execution_count": 4,
   "metadata": {
    "nbgrader": {
     "grade": true,
     "grade_id": "p1-test",
     "locked": true,
     "points": 1,
     "schema_version": 1,
     "solution": false
    }
   },
   "outputs": [],
   "source": [
    "assert_is_instance(my_list,list,msg='my_list is not a list!')\n",
    "assert_is_instance(my_tuple,tuple,msg='my_tuple is not a tuple!')\n",
    "assert_is_instance(my_dict,dict,msg='my_dict is not a dict')\n",
    "\n",
    "assert_equal(a,my_list[0],msg='my_list has the wrong data, check the order.')\n",
    "assert_equal(b,my_tuple[1],msg = 'my_tuple has the wrong data, check the order.')\n",
    "assert_equal(c,my_dict['3'],msg='my_dict either has the wrong data or the keys are not set properly')"
   ]
  },
  {
   "cell_type": "markdown",
   "metadata": {
    "nbgrader": {
     "grade": false,
     "grade_id": "p2_text",
     "locked": true,
     "schema_version": 1,
     "solution": false
    }
   },
   "source": [
    "# Problem 2: Getting elements from a list\n",
    "\n",
    "\n",
    "- Write a function called \"first_thru_20\" which takes in a list and returns the first 20 elements of that list, using Python list slicing.\n"
   ]
  },
  {
   "cell_type": "code",
   "execution_count": 5,
   "metadata": {
    "nbgrader": {
     "grade": false,
     "grade_id": "p2_answer",
     "locked": false,
     "schema_version": 1,
     "solution": true
    }
   },
   "outputs": [],
   "source": [
    "def first_thru_20(input_list):\n",
    "    '''\n",
    "    A function which takes in a list and returns the first 20 elements\n",
    "    \n",
    "    \n",
    "    Parameters\n",
    "    -------\n",
    "    input_list: a Python list\n",
    "    \n",
    "    \n",
    "    Returns\n",
    "    --------\n",
    "    \n",
    "    first_20: a list containing the first 20 elements of the list\n",
    "    \n",
    "    '''\n",
    "    \n",
    "    \n",
    "    ### BEGIN SOLUTION###\n",
    "    first_20 = input_list[:20]\n",
    "    ###END SOLUTION###\n",
    "    \n",
    "    return first_20"
   ]
  },
  {
   "cell_type": "code",
   "execution_count": 6,
   "metadata": {
    "nbgrader": {
     "grade": false,
     "grade_id": "cell-c1b227535541d70b",
     "locked": true,
     "schema_version": 1,
     "solution": false
    }
   },
   "outputs": [],
   "source": [
    "input_list =list(np.arange(34))\n",
    "first_20 = first_thru_20(input_list)"
   ]
  },
  {
   "cell_type": "code",
   "execution_count": 7,
   "metadata": {
    "nbgrader": {
     "grade": true,
     "grade_id": "p2_test",
     "locked": true,
     "points": 1,
     "schema_version": 1,
     "solution": false
    }
   },
   "outputs": [],
   "source": [
    "assert_equal(type(first_20), list, msg ='Your function did not return a list')\n",
    "assert_equal(first_20[0]**2, 0, msg ='The first element is incorrect')\n",
    "assert_equal(first_20[-1]**2, 361, msg = 'The last element is incorrect')"
   ]
  },
  {
   "cell_type": "markdown",
   "metadata": {
    "nbgrader": {
     "grade": false,
     "grade_id": "p4_text",
     "locked": true,
     "schema_version": 1,
     "solution": false
    }
   },
   "source": [
    "# Problem 3: Find the sum from 1 to n\n",
    "\n",
    "- Write a function called \"summer\" which takes in a number and uses a Python for loop to find the sum of all integers from 1 to that number\n",
    "\n",
    "\n",
    "- As an example, if the input is 5, then the function should return 1+2+3+4+5 = 15."
   ]
  },
  {
   "cell_type": "code",
   "execution_count": 11,
   "metadata": {
    "nbgrader": {
     "grade": false,
     "grade_id": "p4_answer",
     "locked": false,
     "schema_version": 1,
     "solution": true
    }
   },
   "outputs": [],
   "source": [
    "def summer(n):\n",
    "    '''\n",
    "    A function which takes in a number and sums all integers from 1 to that number\n",
    "    \n",
    "    \n",
    "    Parameters\n",
    "    -------\n",
    "    n: an integer\n",
    "        \n",
    "    \n",
    "    Returns\n",
    "    --------\n",
    "    \n",
    "    final_sum: the sum of the two lists\n",
    "    \n",
    "    '''\n",
    "    \n",
    "    \n",
    "    ### BEGIN SOLUTION###\n",
    "    final_sum=0\n",
    "    for i in range(n+1):\n",
    "        final_sum+=i\n",
    "    ###END SOLUTION###\n",
    "    \n",
    "    return final_sum"
   ]
  },
  {
   "cell_type": "code",
   "execution_count": 12,
   "metadata": {
    "nbgrader": {
     "grade": true,
     "grade_id": "p4-test",
     "locked": true,
     "points": 1,
     "schema_version": 1,
     "solution": false
    }
   },
   "outputs": [],
   "source": [
    "temp_sum = summer(2344)\n",
    "assert_equal(type(temp_sum), int, msg ='Your function did not return an integer')\n",
    "assert_equal(temp_sum, 2748340, msg ='The sum is incorrect')"
   ]
  },
  {
   "cell_type": "markdown",
   "metadata": {
    "nbgrader": {
     "grade": false,
     "grade_id": "p5_text",
     "locked": true,
     "schema_version": 1,
     "solution": false
    }
   },
   "source": [
    "# Problem 4: Check if a value is in a list\n",
    "\n",
    "- Write a function called \"checker\" which takes in a Python list and an integer value, and checks whether or not that value is in the list.\n"
   ]
  },
  {
   "cell_type": "code",
   "execution_count": 13,
   "metadata": {
    "nbgrader": {
     "grade": false,
     "grade_id": "p5_answer",
     "locked": false,
     "schema_version": 1,
     "solution": true
    }
   },
   "outputs": [],
   "source": [
    "def checker(input_list,value):\n",
    "    '''\n",
    "    A function which takes in a list and and a value and checks if the value is in the list\n",
    "    \n",
    "    \n",
    "    Parameters\n",
    "    -------\n",
    "    input_list: a Python string\n",
    "        \n",
    "    value: a value\n",
    "    \n",
    "    Returns\n",
    "    --------\n",
    "    \n",
    "    check: boolean, true if \"value\" is in the input list and false otherwise\n",
    "    \n",
    "    '''\n",
    "    \n",
    "    \n",
    "    ### BEGIN SOLUTION###\n",
    "    check = value in input_list\n",
    "    ###END SOLUTION###\n",
    "    \n",
    "    return check"
   ]
  },
  {
   "cell_type": "code",
   "execution_count": 14,
   "metadata": {
    "nbgrader": {
     "grade": true,
     "grade_id": "p5_test",
     "locked": true,
     "points": 1,
     "schema_version": 1,
     "solution": false
    }
   },
   "outputs": [],
   "source": [
    "assert_equal(checker(list_1,9), False,msg='Your function returned an incorrect value')\n",
    "assert_equal(checker(list_2,10), True,msg='Your function returned an incorrect value')\n",
    "assert_is_instance(checker(list_1,9), bool,msg='Your function did not return a boolean')"
   ]
  },
  {
   "cell_type": "markdown",
   "metadata": {
    "deletable": false,
    "editable": false
   },
   "source": [
    "-----\n",
    "\n",
    "**&copy; 2019: Gies College of Business at the University of Illinois.**\n",
    "\n",
    "This notebook is released under the [Creative Commons license CC BY-NC-SA 4.0][ll]. Any reproduction, adaptation, distribution, dissemination or making available of this notebook for commercial use is not allowed unless authorized in writing by the copyright holder.\n",
    "\n",
    "[ll]: https://creativecommons.org/licenses/by-nc-sa/4.0/legalcode"
   ]
  }
 ],
 "metadata": {
  "anaconda-cloud": {},
  "coursera": {
   "course_slug": "data-analytics-accountancy-1",
   "graded_item_id": "EdwYF",
   "launcher_item_id": "wkKMq"
  },
  "kernelspec": {
   "display_name": "Python 3",
   "language": "python",
   "name": "python3"
  },
  "language_info": {
   "codemirror_mode": {
    "name": "ipython",
    "version": 3
   },
   "file_extension": ".py",
   "mimetype": "text/x-python",
   "name": "python",
   "nbconvert_exporter": "python",
   "pygments_lexer": "ipython3",
   "version": "3.7.1"
  }
 },
 "nbformat": 4,
 "nbformat_minor": 2
}
