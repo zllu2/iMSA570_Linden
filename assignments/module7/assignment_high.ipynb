{
 "cells": [
  {
   "cell_type": "markdown",
   "metadata": {
    "nbgrader": {
     "grade": false,
     "grade_id": "header",
     "locked": true,
     "schema_version": 1,
     "solution": false
    }
   },
   "source": [
    "# Module 7 Assignment\n",
    "\n",
    "A few things you should keep in mind when working on assignments:\n",
    "\n",
    "1. Make sure you fill in any place that says `YOUR CODE HERE`. Do **not** write your answer anywhere else other than where it says `YOUR CODE HERE`. Anything you write elsewhere will be removed or overwritten by the autograder.\n",
    "\n",
    "2. Before you submit your assignment, make sure everything runs as expected. Go to the menubar, select _Kernel_, and restart the kernel and run all cells (_Restart & Run all_).\n",
    "\n",
    "3. Do not change the title (i.e. file name) of this notebook.\n",
    "\n",
    "4. Make sure that you save your work (in the menubar, select _File_ → _Save and CheckPoint_).\n"
   ]
  },
  {
   "cell_type": "code",
   "execution_count": 1,
   "metadata": {
    "nbgrader": {
     "grade": false,
     "grade_id": "import",
     "locked": true,
     "schema_version": 1,
     "solution": false
    }
   },
   "outputs": [],
   "source": [
    "import matplotlib.pyplot as plt\n",
    "import seaborn as sns\n",
    "sns.set()\n",
    "\n",
    "import pandas as pd\n",
    "import numpy as np\n",
    "\n",
    "from numpy.testing import assert_almost_equal, assert_array_equal\n",
    "\n",
    "from nose.tools import assert_equal, assert_true\n",
    "\n",
    "import warnings\n",
    "warnings.filterwarnings('ignore')"
   ]
  },
  {
   "cell_type": "markdown",
   "metadata": {
    "nbgrader": {
     "grade": false,
     "grade_id": "p1_desc",
     "locked": true,
     "schema_version": 1,
     "solution": false
    }
   },
   "source": [
    "# Problem 1: Read in a dataset\n",
    "\n",
    "For this problem you will read in a dataset from iris_data.csv which is in data folder\n",
    "\n",
    "- Read dataset to a dataframe from data/iris_data.csv\n",
    "- Store the dataframe to variable **df**"
   ]
  },
  {
   "cell_type": "code",
   "execution_count": 2,
   "metadata": {
    "nbgrader": {
     "grade": false,
     "grade_id": "p1_ans",
     "locked": false,
     "schema_version": 1,
     "solution": true
    }
   },
   "outputs": [],
   "source": [
    "### BEGIN SOLUTION\n",
    "df = pd.read_csv('data/iris_data.csv')\n",
    "### END SOLUTION"
   ]
  },
  {
   "cell_type": "code",
   "execution_count": 3,
   "metadata": {
    "nbgrader": {
     "grade": true,
     "grade_id": "p1_test",
     "locked": true,
     "points": 1,
     "schema_version": 1,
     "solution": false
    }
   },
   "outputs": [
    {
     "data": {
      "text/html": [
       "<div>\n",
       "<style scoped>\n",
       "    .dataframe tbody tr th:only-of-type {\n",
       "        vertical-align: middle;\n",
       "    }\n",
       "\n",
       "    .dataframe tbody tr th {\n",
       "        vertical-align: top;\n",
       "    }\n",
       "\n",
       "    .dataframe thead th {\n",
       "        text-align: right;\n",
       "    }\n",
       "</style>\n",
       "<table border=\"1\" class=\"dataframe\">\n",
       "  <thead>\n",
       "    <tr style=\"text-align: right;\">\n",
       "      <th></th>\n",
       "      <th>sepal length</th>\n",
       "      <th>sepal width</th>\n",
       "      <th>petal length</th>\n",
       "      <th>petal width</th>\n",
       "      <th>iris type</th>\n",
       "    </tr>\n",
       "  </thead>\n",
       "  <tbody>\n",
       "    <tr>\n",
       "      <th>0</th>\n",
       "      <td>NaN</td>\n",
       "      <td>3.5</td>\n",
       "      <td>1.4</td>\n",
       "      <td>0.2</td>\n",
       "      <td>Iris-setosa</td>\n",
       "    </tr>\n",
       "    <tr>\n",
       "      <th>1</th>\n",
       "      <td>4.9</td>\n",
       "      <td>3.0</td>\n",
       "      <td>1.4</td>\n",
       "      <td>0.2</td>\n",
       "      <td>Iris-setosa</td>\n",
       "    </tr>\n",
       "    <tr>\n",
       "      <th>2</th>\n",
       "      <td>4.7</td>\n",
       "      <td>3.2</td>\n",
       "      <td>1.3</td>\n",
       "      <td>0.2</td>\n",
       "      <td>Iris-setosa</td>\n",
       "    </tr>\n",
       "    <tr>\n",
       "      <th>3</th>\n",
       "      <td>4.6</td>\n",
       "      <td>3.1</td>\n",
       "      <td>1.5</td>\n",
       "      <td>0.2</td>\n",
       "      <td>Iris-setosa</td>\n",
       "    </tr>\n",
       "    <tr>\n",
       "      <th>4</th>\n",
       "      <td>5.0</td>\n",
       "      <td>3.6</td>\n",
       "      <td>1.4</td>\n",
       "      <td>0.2</td>\n",
       "      <td>Iris-setosa</td>\n",
       "    </tr>\n",
       "  </tbody>\n",
       "</table>\n",
       "</div>"
      ],
      "text/plain": [
       "   sepal length  sepal width  petal length  petal width    iris type\n",
       "0           NaN          3.5           1.4          0.2  Iris-setosa\n",
       "1           4.9          3.0           1.4          0.2  Iris-setosa\n",
       "2           4.7          3.2           1.3          0.2  Iris-setosa\n",
       "3           4.6          3.1           1.5          0.2  Iris-setosa\n",
       "4           5.0          3.6           1.4          0.2  Iris-setosa"
      ]
     },
     "execution_count": 3,
     "metadata": {},
     "output_type": "execute_result"
    }
   ],
   "source": [
    "assert_equal(len(df), 110, msg=\"The dataset should have 110 rows. Your solution only has %s\"%len(df))\n",
    "assert_equal(set(df.columns.tolist()), set(['sepal length', 'sepal width', 'petal length',\n",
    "       'petal width', 'iris type']), \n",
    "             msg=\"Your column names do not match the solutions\")\n",
    "df.head()"
   ]
  },
  {
   "cell_type": "markdown",
   "metadata": {
    "nbgrader": {
     "grade": false,
     "grade_id": "p2_desc",
     "locked": true,
     "schema_version": 1,
     "solution": false
    }
   },
   "source": [
    "# Problem 2: Fix column names and fill missing values\n",
    "\n",
    "In this problem you will fix the column names of the dataframe loaded from problem 1 and fill missing values with mean value of same iris type.\n",
    "\n",
    "- Directly work on **df** created from problem 1\n",
    "- Fix all column names so that whitespaces are replaced by '_'\n",
    "- Convert values in iris type column to all **upper** case\n",
    "- Fill all missing values with mean value of specific iris type. For example, fill missing sepal length of Iris-setosa with average setosa sepal length."
   ]
  },
  {
   "cell_type": "code",
   "execution_count": 4,
   "metadata": {
    "nbgrader": {
     "grade": false,
     "grade_id": "p2_ans",
     "locked": false,
     "schema_version": 1,
     "solution": true
    }
   },
   "outputs": [],
   "source": [
    "### BEGIN SOLUTION\n",
    "df.columns = ['sepal_length', 'sepal_width', 'petal_length', 'petal_width', 'iris_type']\n",
    "df.iris_type = df.iris_type.str.upper()\n",
    "df.fillna(df.groupby('iris_type').transform('mean'), inplace=True)\n",
    "### END SOLUTION"
   ]
  },
  {
   "cell_type": "code",
   "execution_count": 5,
   "metadata": {},
   "outputs": [
    {
     "data": {
      "text/html": [
       "<div>\n",
       "<style scoped>\n",
       "    .dataframe tbody tr th:only-of-type {\n",
       "        vertical-align: middle;\n",
       "    }\n",
       "\n",
       "    .dataframe tbody tr th {\n",
       "        vertical-align: top;\n",
       "    }\n",
       "\n",
       "    .dataframe thead th {\n",
       "        text-align: right;\n",
       "    }\n",
       "</style>\n",
       "<table border=\"1\" class=\"dataframe\">\n",
       "  <thead>\n",
       "    <tr style=\"text-align: right;\">\n",
       "      <th></th>\n",
       "      <th>sepal_length</th>\n",
       "      <th>sepal_width</th>\n",
       "      <th>petal_length</th>\n",
       "      <th>petal_width</th>\n",
       "      <th>iris_type</th>\n",
       "    </tr>\n",
       "  </thead>\n",
       "  <tbody>\n",
       "    <tr>\n",
       "      <th>0</th>\n",
       "      <td>5.004082</td>\n",
       "      <td>3.5</td>\n",
       "      <td>1.4</td>\n",
       "      <td>0.2</td>\n",
       "      <td>IRIS-SETOSA</td>\n",
       "    </tr>\n",
       "    <tr>\n",
       "      <th>1</th>\n",
       "      <td>4.900000</td>\n",
       "      <td>3.0</td>\n",
       "      <td>1.4</td>\n",
       "      <td>0.2</td>\n",
       "      <td>IRIS-SETOSA</td>\n",
       "    </tr>\n",
       "    <tr>\n",
       "      <th>2</th>\n",
       "      <td>4.700000</td>\n",
       "      <td>3.2</td>\n",
       "      <td>1.3</td>\n",
       "      <td>0.2</td>\n",
       "      <td>IRIS-SETOSA</td>\n",
       "    </tr>\n",
       "  </tbody>\n",
       "</table>\n",
       "</div>"
      ],
      "text/plain": [
       "   sepal_length  sepal_width  petal_length  petal_width    iris_type\n",
       "0      5.004082          3.5           1.4          0.2  IRIS-SETOSA\n",
       "1      4.900000          3.0           1.4          0.2  IRIS-SETOSA\n",
       "2      4.700000          3.2           1.3          0.2  IRIS-SETOSA"
      ]
     },
     "execution_count": 5,
     "metadata": {},
     "output_type": "execute_result"
    }
   ],
   "source": [
    "assert_true('sepal_length' in df.columns, \"Column name is fixed as directed\")\n",
    "assert_true('sepal_width' in df.columns, \"Column name is fixed as directed\")\n",
    "assert_true('petal_length' in df.columns, \"Column name is fixed as directed\")\n",
    "assert_true('petal_width' in df.columns, \"Column name is fixed as directed\")\n",
    "assert_true('iris_type' in df.columns, \"Column name is fixed as directed\")\n",
    "assert_equal(set(df.iris_type.unique()), {'IRIS-SETOSA', 'IRIS-VERSICOLOR', 'IRIS-VIRGINICA'}, \"iris_type values should be all upper case.\")\n",
    "assert_equal(df.shape[0], 110, \"df doesn't have correct values\")\n",
    "assert_equal(df.sepal_length.isnull().sum(), 0, \"sepal_length column has missing values\")\n",
    "assert_equal(df.sepal_width.isnull().sum(), 0, \"sepal_width column has missing values\")\n",
    "assert_equal(df.petal_length.isnull().sum(), 0, \"petal_length column has missing values\")\n",
    "assert_almost_equal(df.iloc[0,0], 5.004, 3, \"Missing value is not filled with correct value\")\n",
    "assert_almost_equal(df.iloc[50,1], 2.776, 3, \"Missing value is not filled with correct value\")\n",
    "assert_almost_equal(df.iloc[80,2], 5.590, 3, \"Missing value is not filled with correct value\")\n",
    "df.head(3)"
   ]
  },
  {
   "cell_type": "markdown",
   "metadata": {},
   "source": [
    "# Problem 3: EDA: Plot average petal width for different iris typs\n",
    "\n",
    "In this problem you will plot a bar plot on average petal width for different iris types.\n",
    "\n",
    "- Work on **df** created from problem 1 and fixed in problem 2\n",
    "- Use seaborn barplot to plot a vertical bar plot\n",
    "- The height of bars are average petal width\n",
    "- The plot should have 3 bars, one for each iris type.\n",
    "- The plot should have a descriptive title\n",
    "- Assign returned axes by barplot() to variable **ax1**"
   ]
  },
  {
   "cell_type": "code",
   "execution_count": 6,
   "metadata": {
    "scrolled": true
   },
   "outputs": [
    {
     "data": {
      "text/plain": [
       "Text(0.5, 1.0, 'Average Petal Width')"
      ]
     },
     "execution_count": 6,
     "metadata": {},
     "output_type": "execute_result"
    },
    {
     "data": {
      "image/png": "[encoded data removed]",
      "text/plain": [
       "<Figure size 432x288 with 1 Axes>"
      ]
     },
     "metadata": {
      "needs_background": "light"
     },
     "output_type": "display_data"
    }
   ],
   "source": [
    "### BEGIN SOLUTION\n",
    "ax1 = sns.barplot(x='iris_type', y='petal_width', data=df)\n",
    "ax1.set_title(\"Average Petal Width\")\n",
    "### END SOLUTION"
   ]
  },
  {
   "cell_type": "code",
   "execution_count": 7,
   "metadata": {},
   "outputs": [],
   "source": [
    "assert_true(len(ax1.title.get_text()) > 0, msg=\"Your plot doesn't have a title.\")\n",
    "assert_equal(ax1.get_xlabel(), 'iris_type', msg=\"Bar plot not for different iris types\")\n",
    "assert_equal(ax1.get_ylabel(), 'petal_width', msg=\"Bar plot is not plot on average petal width\")"
   ]
  },
  {
   "cell_type": "markdown",
   "metadata": {},
   "source": [
    "# Problem 4: EDA: Plot multiple box plots\n",
    "\n",
    "In this problem you will plot a multiple box plot to display sepal length feature of different iris types.\n",
    "\n",
    "- Work on **df** created from problem 1 and fixed in problem 2\n",
    "- Use seaborn boxplot to plot a vertical box plot\n",
    "- The plot should have 3 boxs, one for each iris type.\n",
    "- The plot should have a descriptive title\n",
    "- Assign returned axes by boxplot() to variable **ax2**"
   ]
  },
  {
   "cell_type": "code",
   "execution_count": 8,
   "metadata": {
    "scrolled": true
   },
   "outputs": [
    {
     "data": {
      "image/png": "[encoded data removed]",
      "text/plain": [
       "<Figure size 432x288 with 1 Axes>"
      ]
     },
     "metadata": {
      "needs_background": "light"
     },
     "output_type": "display_data"
    }
   ],
   "source": [
    "### BEGIN SOLUTION\n",
    "# Boxplot\n",
    "ax2 = sns.boxplot(x='iris_type', y='sepal_length', data=df, notch=True)\n",
    "\n",
    "# Title plot\n",
    "ax2.set_title('Sepal Length Comparison')\n",
    "plt.show()\n",
    "### END SOLUTION"
   ]
  },
  {
   "cell_type": "code",
   "execution_count": 9,
   "metadata": {},
   "outputs": [],
   "source": [
    "assert_true(len(ax2.title.get_text()) > 0, msg=\"Your plot doesn't have a title.\")\n",
    "assert_equal(ax2.get_xlabel(), 'iris_type', msg=\"Bar plot not for different iris types.\")\n",
    "assert_equal(ax2.get_ylabel(), 'sepal_length', msg=\"Bar plot is not plot on sepal length.\")"
   ]
  },
  {
   "cell_type": "markdown",
   "metadata": {
    "nbgrader": {
     "grade": false,
     "grade_id": "p3_desc",
     "locked": true,
     "schema_version": 1,
     "solution": false
    }
   },
   "source": [
    "# Problem 5: Construct a linear regression model\n",
    "\n",
    "In this problem you will construct a linear regression model using statsmodels.\n",
    "\n",
    "- Work with **df** created from problem 1 and fixed in problem 2\n",
    "- **petal_width** will be the dependent variable\n",
    "- All other columns are independent variable\n",
    "- Enclose categorical feature with \"C()\" in the regression formula\n",
    "- Create linear regression model with ols function in statsmodels.formula.api\n",
    "- Fix the model and assign fitted model to variable **result**"
   ]
  },
  {
   "cell_type": "code",
   "execution_count": 10,
   "metadata": {
    "nbgrader": {
     "grade": false,
     "grade_id": "p3_ans",
     "locked": false,
     "schema_version": 1,
     "solution": true
    }
   },
   "outputs": [],
   "source": [
    "import statsmodels.formula.api as smf\n",
    "### BEGIN SOLUTION\n",
    "formula = \"petal_width ~ sepal_length + sepal_width + petal_length + C(iris_type)\"\n",
    "model = smf.ols(formula, data=df)\n",
    "result = model.fit()\n",
    "### END SOLUTION"
   ]
  },
  {
   "cell_type": "code",
   "execution_count": 11,
   "metadata": {},
   "outputs": [
    {
     "data": {
      "text/html": [
       "<table class=\"simpletable\">\n",
       "<caption>OLS Regression Results</caption>\n",
       "<tr>\n",
       "  <th>Dep. Variable:</th>       <td>petal_width</td>   <th>  R-squared:         </th> <td>   0.965</td>\n",
       "</tr>\n",
       "<tr>\n",
       "  <th>Model:</th>                   <td>OLS</td>       <th>  Adj. R-squared:    </th> <td>   0.963</td>\n",
       "</tr>\n",
       "<tr>\n",
       "  <th>Method:</th>             <td>Least Squares</td>  <th>  F-statistic:       </th> <td>   568.1</td>\n",
       "</tr>\n",
       "<tr>\n",
       "  <th>Date:</th>             <td>Tue, 07 May 2019</td> <th>  Prob (F-statistic):</th> <td>8.75e-74</td>\n",
       "</tr>\n",
       "<tr>\n",
       "  <th>Time:</th>                 <td>13:44:34</td>     <th>  Log-Likelihood:    </th> <td>  55.559</td>\n",
       "</tr>\n",
       "<tr>\n",
       "  <th>No. Observations:</th>      <td>   110</td>      <th>  AIC:               </th> <td>  -99.12</td>\n",
       "</tr>\n",
       "<tr>\n",
       "  <th>Df Residuals:</th>          <td>   104</td>      <th>  BIC:               </th> <td>  -82.91</td>\n",
       "</tr>\n",
       "<tr>\n",
       "  <th>Df Model:</th>              <td>     5</td>      <th>                     </th>     <td> </td>   \n",
       "</tr>\n",
       "<tr>\n",
       "  <th>Covariance Type:</th>      <td>nonrobust</td>    <th>                     </th>     <td> </td>   \n",
       "</tr>\n",
       "</table>\n",
       "<table class=\"simpletable\">\n",
       "<tr>\n",
       "                 <td></td>                    <th>coef</th>     <th>std err</th>      <th>t</th>      <th>P>|t|</th>  <th>[0.025</th>    <th>0.975]</th>  \n",
       "</tr>\n",
       "<tr>\n",
       "  <th>Intercept</th>                       <td>   -0.2613</td> <td>    0.180</td> <td>   -1.450</td> <td> 0.150</td> <td>   -0.619</td> <td>    0.096</td>\n",
       "</tr>\n",
       "<tr>\n",
       "  <th>C(iris_type)[T.IRIS-VERSICOLOR]</th> <td>    0.6064</td> <td>    0.132</td> <td>    4.586</td> <td> 0.000</td> <td>    0.344</td> <td>    0.869</td>\n",
       "</tr>\n",
       "<tr>\n",
       "  <th>C(iris_type)[T.IRIS-VIRGINICA]</th>  <td>    0.9383</td> <td>    0.182</td> <td>    5.167</td> <td> 0.000</td> <td>    0.578</td> <td>    1.298</td>\n",
       "</tr>\n",
       "<tr>\n",
       "  <th>sepal_length</th>                    <td>   -0.1516</td> <td>    0.051</td> <td>   -2.996</td> <td> 0.003</td> <td>   -0.252</td> <td>   -0.051</td>\n",
       "</tr>\n",
       "<tr>\n",
       "  <th>sepal_width</th>                     <td>    0.2469</td> <td>    0.050</td> <td>    4.955</td> <td> 0.000</td> <td>    0.148</td> <td>    0.346</td>\n",
       "</tr>\n",
       "<tr>\n",
       "  <th>petal_length</th>                    <td>    0.2869</td> <td>    0.055</td> <td>    5.188</td> <td> 0.000</td> <td>    0.177</td> <td>    0.397</td>\n",
       "</tr>\n",
       "</table>\n",
       "<table class=\"simpletable\">\n",
       "<tr>\n",
       "  <th>Omnibus:</th>       <td> 2.634</td> <th>  Durbin-Watson:     </th> <td>   2.163</td>\n",
       "</tr>\n",
       "<tr>\n",
       "  <th>Prob(Omnibus):</th> <td> 0.268</td> <th>  Jarque-Bera (JB):  </th> <td>   2.208</td>\n",
       "</tr>\n",
       "<tr>\n",
       "  <th>Skew:</th>          <td> 0.173</td> <th>  Prob(JB):          </th> <td>   0.331</td>\n",
       "</tr>\n",
       "<tr>\n",
       "  <th>Kurtosis:</th>      <td> 3.602</td> <th>  Cond. No.          </th> <td>    131.</td>\n",
       "</tr>\n",
       "</table><br/><br/>Warnings:<br/>[1] Standard Errors assume that the covariance matrix of the errors is correctly specified."
      ],
      "text/plain": [
       "<class 'statsmodels.iolib.summary.Summary'>\n",
       "\"\"\"\n",
       "                            OLS Regression Results                            \n",
       "==============================================================================\n",
       "Dep. Variable:            petal_width   R-squared:                       0.965\n",
       "Model:                            OLS   Adj. R-squared:                  0.963\n",
       "Method:                 Least Squares   F-statistic:                     568.1\n",
       "Date:                Tue, 07 May 2019   Prob (F-statistic):           8.75e-74\n",
       "Time:                        13:44:34   Log-Likelihood:                 55.559\n",
       "No. Observations:                 110   AIC:                            -99.12\n",
       "Df Residuals:                     104   BIC:                            -82.91\n",
       "Df Model:                           5                                         \n",
       "Covariance Type:            nonrobust                                         \n",
       "===================================================================================================\n",
       "                                      coef    std err          t      P>|t|      [0.025      0.975]\n",
       "---------------------------------------------------------------------------------------------------\n",
       "Intercept                          -0.2613      0.180     -1.450      0.150      -0.619       0.096\n",
       "C(iris_type)[T.IRIS-VERSICOLOR]     0.6064      0.132      4.586      0.000       0.344       0.869\n",
       "C(iris_type)[T.IRIS-VIRGINICA]      0.9383      0.182      5.167      0.000       0.578       1.298\n",
       "sepal_length                       -0.1516      0.051     -2.996      0.003      -0.252      -0.051\n",
       "sepal_width                         0.2469      0.050      4.955      0.000       0.148       0.346\n",
       "petal_length                        0.2869      0.055      5.188      0.000       0.177       0.397\n",
       "==============================================================================\n",
       "Omnibus:                        2.634   Durbin-Watson:                   2.163\n",
       "Prob(Omnibus):                  0.268   Jarque-Bera (JB):                2.208\n",
       "Skew:                           0.173   Prob(JB):                        0.331\n",
       "Kurtosis:                       3.602   Cond. No.                         131.\n",
       "==============================================================================\n",
       "\n",
       "Warnings:\n",
       "[1] Standard Errors assume that the covariance matrix of the errors is correctly specified.\n",
       "\"\"\""
      ]
     },
     "execution_count": 11,
     "metadata": {},
     "output_type": "execute_result"
    }
   ],
   "source": [
    "result.summary()"
   ]
  },
  {
   "cell_type": "code",
   "execution_count": 12,
   "metadata": {},
   "outputs": [],
   "source": [
    "assert_almost_equal(result.rsquared, 0.96, 2, \"Regression result is not correct\")\n",
    "assert_almost_equal(result.bic, -82.91, 2, \"Regression result is not correct\")"
   ]
  },
  {
   "cell_type": "markdown",
   "metadata": {
    "deletable": false
   },
   "source": [
    "-----\n",
    "\n",
    "**&copy; 2019: Gies College of Business at the University of Illinois.**\n",
    "\n",
    "This notebook is released under the [Creative Commons license CC BY-NC-SA 4.0][ll]. Any reproduction, adaptation, distribution, dissemination or making available of this notebook for commercial use is not allowed unless authorized in writing by the copyright holder.\n",
    "\n",
    "[ll]: https://creativecommons.org/licenses/by-nc-sa/4.0/legalcode"
   ]
  }
 ],
 "metadata": {
  "coursera": {
   "course_slug": "data-analytics-accountancy-1",
   "graded_item_id": "K3bOM",
   "launcher_item_id": "yccL7"
  },
  "kernelspec": {
   "display_name": "Python 3",
   "language": "python",
   "name": "python3"
  },
  "language_info": {
   "codemirror_mode": {
    "name": "ipython",
    "version": 3
   },
   "file_extension": ".py",
   "mimetype": "text/x-python",
   "name": "python",
   "nbconvert_exporter": "python",
   "pygments_lexer": "ipython3",
   "version": "3.7.1"
  }
 },
 "nbformat": 4,
 "nbformat_minor": 2
}
