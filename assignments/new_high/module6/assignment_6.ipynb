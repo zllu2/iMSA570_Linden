{
 "cells": [
  {
   "cell_type": "markdown",
   "metadata": {},
   "source": [
    "# Module 6 Assignment\n",
    "\n",
    "\n",
    "A few things you should keep in mind when working on assignments:\n",
    "\n",
    "1. Before you submit your assignment, make sure everything runs as expected. Go to the menubar, select Kernel, and Restart & Run all. \n",
    "2. Make sure that you save your work.\n",
    "3. Upload your notebook to Compass.\n",
    "\n",
    "-----"
   ]
  },
  {
   "cell_type": "markdown",
   "metadata": {},
   "source": [
    "# Problem 1: Load and examine the dataset\n",
    "\n",
    "The dataset, wealth_and_health.csv, contains GDP per capita and life expectancy information of over 100 countries in the world, from 1952 to 2007. \n",
    "\n",
    "In the following code cells:\n",
    "\n",
    "- Load dataset to a DataFrame `df`.\n",
    "- Display the first 5 rows in the DataFrame.\n",
    "- Display the basic information of the DataFrame using the info() function.\n",
    "- Display the list of unique countries in the dataset.\n",
    "- Display the list of unique years in the dataset."
   ]
  },
  {
   "cell_type": "code",
   "execution_count": 1,
   "metadata": {},
   "outputs": [],
   "source": [
    "# Load dataset to a DataFrame and display first 5 rows\n"
   ]
  },
  {
   "cell_type": "code",
   "execution_count": 2,
   "metadata": {},
   "outputs": [],
   "source": [
    "# Display basic information of the DataFrame\n"
   ]
  },
  {
   "cell_type": "code",
   "execution_count": 3,
   "metadata": {},
   "outputs": [],
   "source": [
    "# Display the list of unique countries in the dataset.\n"
   ]
  },
  {
   "cell_type": "code",
   "execution_count": 4,
   "metadata": {},
   "outputs": [],
   "source": [
    "# Display the list of unique years in the dataset.\n"
   ]
  },
  {
   "cell_type": "markdown",
   "metadata": {},
   "source": [
    "# Problem 2: Create a boxplot of life expectancy in 2007\n",
    "\n",
    "In the following code cell:\n",
    "- Import the needed modules.\n",
    "- Using the df DataFrame object from Problem 1, select only the 2007 data and assign it to a new DataFrame, df_2007.\n",
    "- Use the seaborn module to create the boxplot.\n",
    "- Give the plot a descriptive title.\n",
    "- Give the plot a descriptive x-axis label."
   ]
  },
  {
   "cell_type": "code",
   "execution_count": 5,
   "metadata": {},
   "outputs": [],
   "source": [
    "# Create box plot for life expectancy in 2007.\n"
   ]
  },
  {
   "cell_type": "markdown",
   "metadata": {},
   "source": [
    "# Problem 3: Create a histogram of GDP per capita in 2007\n",
    "\n",
    "In the following code cell:\n",
    "- Use the df_2007 DataFrame objection from Problem 2.\n",
    "- Use the Pandas Series hist() method to plot a histogram on GDP per capita.\n",
    "- Give the plot a descriptive title.\n",
    "- Give the plot a descriptive x-axis label.\n",
    "- Give the plot a descriptive y-axis label."
   ]
  },
  {
   "cell_type": "code",
   "execution_count": 6,
   "metadata": {},
   "outputs": [],
   "source": [
    "# Create histogram of GDP per capita in 2007\n"
   ]
  },
  {
   "cell_type": "markdown",
   "metadata": {},
   "source": [
    "# Problem 4:  Create a barplot of average life expectancy for each continent in 2007\n",
    "\n",
    "- Use the df_2007 DataFrame objection from Problem 2.\n",
    "- Use the seaborn barplot function to plot a bar plot on average life expectancy for each continent.\n",
    "- Turn off confidence interval line.\n",
    "- Give the plot a descriptive title."
   ]
  },
  {
   "cell_type": "code",
   "execution_count": 7,
   "metadata": {},
   "outputs": [],
   "source": [
    "# Bar plot of average life expectancy for each continent in 2007\n"
   ]
  },
  {
   "cell_type": "markdown",
   "metadata": {},
   "source": [
    "# Problem 5: Relationship between wealth and health\n",
    "\n",
    "Use matplotlib to plot scatter plot on GDP per capita and life expectancy in 2007.\n",
    "\n",
    "- Use the df_2007 DataFrame objection from Problem 2.\n",
    "- Create scatter plot of GDP per capita and life expectancy.\n",
    "- GDP per capita should be on the x-axis.\n",
    "- Life expectancy should be on the y-axis.\n",
    "- Create a label for the y-axis and the x-axis.\n",
    "- Set a title for your plot.\n"
   ]
  },
  {
   "cell_type": "code",
   "execution_count": 8,
   "metadata": {},
   "outputs": [],
   "source": [
    "# scatter plot on GDP per capita and life expectancy in 2007\n"
   ]
  }
 ],
 "metadata": {
  "kernelspec": {
   "display_name": "Python 3",
   "language": "python",
   "name": "python3"
  },
  "language_info": {
   "codemirror_mode": {
    "name": "ipython",
    "version": 3
   },
   "file_extension": ".py",
   "mimetype": "text/x-python",
   "name": "python",
   "nbconvert_exporter": "python",
   "pygments_lexer": "ipython3",
   "version": "3.8.5"
  }
 },
 "nbformat": 4,
 "nbformat_minor": 4
}
