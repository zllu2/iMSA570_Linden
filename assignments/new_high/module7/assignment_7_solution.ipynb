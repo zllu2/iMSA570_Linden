{
 "cells": [
  {
   "cell_type": "markdown",
   "metadata": {},
   "source": [
    "# Module 7 Assignment\n",
    "\n",
    "\n",
    "A few things you should keep in mind when working on assignments:\n",
    "\n",
    "1. Before you submit your assignment, make sure everything runs as expected. Go to the menubar, select Kernel, and Restart & Run all. \n",
    "2. Make sure that you save your work.\n",
    "3. Upload your notebook to Compass.\n",
    "\n",
    "-----"
   ]
  },
  {
   "cell_type": "markdown",
   "metadata": {},
   "source": [
    "# Problem 1: Load and examine the dataset\n",
    "\n",
    "The dataset, wealth_health_2007.csv, contains GDP per capita and life expectancy information of over 100 countries in 2007. \n",
    "\n",
    "In the following code cells:\n",
    "\n",
    "- Load dataset to a DataFrame **df**.\n",
    "- Display the first 5 rows in the DataFrame.\n",
    "- Display the basic information of the DataFrame with info() method. Examine missing values."
   ]
  },
  {
   "cell_type": "code",
   "execution_count": 1,
   "metadata": {},
   "outputs": [
    {
     "data": {
      "text/html": [
       "<div>\n",
       "<style scoped>\n",
       "    .dataframe tbody tr th:only-of-type {\n",
       "        vertical-align: middle;\n",
       "    }\n",
       "\n",
       "    .dataframe tbody tr th {\n",
       "        vertical-align: top;\n",
       "    }\n",
       "\n",
       "    .dataframe thead th {\n",
       "        text-align: right;\n",
       "    }\n",
       "</style>\n",
       "<table border=\"1\" class=\"dataframe\">\n",
       "  <thead>\n",
       "    <tr style=\"text-align: right;\">\n",
       "      <th></th>\n",
       "      <th>country</th>\n",
       "      <th>population</th>\n",
       "      <th>continent</th>\n",
       "      <th>life_exp</th>\n",
       "      <th>gdp_cap</th>\n",
       "    </tr>\n",
       "  </thead>\n",
       "  <tbody>\n",
       "    <tr>\n",
       "      <th>0</th>\n",
       "      <td>Afghanistan</td>\n",
       "      <td>31889923</td>\n",
       "      <td>Asia</td>\n",
       "      <td>43.828</td>\n",
       "      <td>$974</td>\n",
       "    </tr>\n",
       "    <tr>\n",
       "      <th>1</th>\n",
       "      <td>Albania</td>\n",
       "      <td>3600523</td>\n",
       "      <td>Europe</td>\n",
       "      <td>76.423</td>\n",
       "      <td>$5,937</td>\n",
       "    </tr>\n",
       "    <tr>\n",
       "      <th>2</th>\n",
       "      <td>Algeria</td>\n",
       "      <td>33333216</td>\n",
       "      <td>Africa</td>\n",
       "      <td>72.301</td>\n",
       "      <td>NaN</td>\n",
       "    </tr>\n",
       "    <tr>\n",
       "      <th>3</th>\n",
       "      <td>Angola</td>\n",
       "      <td>12420476</td>\n",
       "      <td>Africa</td>\n",
       "      <td>NaN</td>\n",
       "      <td>$4,797</td>\n",
       "    </tr>\n",
       "    <tr>\n",
       "      <th>4</th>\n",
       "      <td>Argentina</td>\n",
       "      <td>40301927</td>\n",
       "      <td>Americas</td>\n",
       "      <td>75.320</td>\n",
       "      <td>$12,779</td>\n",
       "    </tr>\n",
       "  </tbody>\n",
       "</table>\n",
       "</div>"
      ],
      "text/plain": [
       "       country  population continent  life_exp  gdp_cap\n",
       "0  Afghanistan    31889923      Asia    43.828     $974\n",
       "1      Albania     3600523    Europe    76.423   $5,937\n",
       "2      Algeria    33333216    Africa    72.301      NaN\n",
       "3       Angola    12420476    Africa       NaN   $4,797\n",
       "4    Argentina    40301927  Americas    75.320  $12,779"
      ]
     },
     "execution_count": 1,
     "metadata": {},
     "output_type": "execute_result"
    }
   ],
   "source": [
    "# Load dataset to a DataFrame and display first 5 rows\n",
    "import pandas as pd\n",
    "df = pd.read_csv('wealth_health_2007.csv')\n",
    "df.head()"
   ]
  },
  {
   "cell_type": "code",
   "execution_count": 2,
   "metadata": {},
   "outputs": [
    {
     "name": "stdout",
     "output_type": "stream",
     "text": [
      "<class 'pandas.core.frame.DataFrame'>\n",
      "RangeIndex: 142 entries, 0 to 141\n",
      "Data columns (total 5 columns):\n",
      " #   Column      Non-Null Count  Dtype  \n",
      "---  ------      --------------  -----  \n",
      " 0   country     142 non-null    object \n",
      " 1   population  142 non-null    int64  \n",
      " 2   continent   142 non-null    object \n",
      " 3   life_exp    138 non-null    float64\n",
      " 4   gdp_cap     137 non-null    object \n",
      "dtypes: float64(1), int64(1), object(3)\n",
      "memory usage: 5.7+ KB\n"
     ]
    }
   ],
   "source": [
    "# Display basic information of the DataFrame, examine missing values\n",
    "df.info()"
   ]
  },
  {
   "cell_type": "markdown",
   "metadata": {},
   "source": [
    "# Problem 2: Clean up string values\n",
    "\n",
    "- Work on **df** created from Problem 1.\n",
    "- Convert values in country and continent to all upper case.\n",
    "- Convert gdp_cap to float.\n",
    "- Display the first 5 rows of **df** to verify the result.\n",
    "- Display the unique values from the continent column."
   ]
  },
  {
   "cell_type": "code",
   "execution_count": 3,
   "metadata": {},
   "outputs": [
    {
     "data": {
      "text/html": [
       "<div>\n",
       "<style scoped>\n",
       "    .dataframe tbody tr th:only-of-type {\n",
       "        vertical-align: middle;\n",
       "    }\n",
       "\n",
       "    .dataframe tbody tr th {\n",
       "        vertical-align: top;\n",
       "    }\n",
       "\n",
       "    .dataframe thead th {\n",
       "        text-align: right;\n",
       "    }\n",
       "</style>\n",
       "<table border=\"1\" class=\"dataframe\">\n",
       "  <thead>\n",
       "    <tr style=\"text-align: right;\">\n",
       "      <th></th>\n",
       "      <th>country</th>\n",
       "      <th>population</th>\n",
       "      <th>continent</th>\n",
       "      <th>life_exp</th>\n",
       "      <th>gdp_cap</th>\n",
       "    </tr>\n",
       "  </thead>\n",
       "  <tbody>\n",
       "    <tr>\n",
       "      <th>0</th>\n",
       "      <td>AFGHANISTAN</td>\n",
       "      <td>31889923</td>\n",
       "      <td>ASIA</td>\n",
       "      <td>43.828</td>\n",
       "      <td>974.0</td>\n",
       "    </tr>\n",
       "    <tr>\n",
       "      <th>1</th>\n",
       "      <td>ALBANIA</td>\n",
       "      <td>3600523</td>\n",
       "      <td>EUROPE</td>\n",
       "      <td>76.423</td>\n",
       "      <td>5937.0</td>\n",
       "    </tr>\n",
       "    <tr>\n",
       "      <th>2</th>\n",
       "      <td>ALGERIA</td>\n",
       "      <td>33333216</td>\n",
       "      <td>AFRICA</td>\n",
       "      <td>72.301</td>\n",
       "      <td>NaN</td>\n",
       "    </tr>\n",
       "    <tr>\n",
       "      <th>3</th>\n",
       "      <td>ANGOLA</td>\n",
       "      <td>12420476</td>\n",
       "      <td>AFRICA</td>\n",
       "      <td>NaN</td>\n",
       "      <td>4797.0</td>\n",
       "    </tr>\n",
       "    <tr>\n",
       "      <th>4</th>\n",
       "      <td>ARGENTINA</td>\n",
       "      <td>40301927</td>\n",
       "      <td>AMERICAS</td>\n",
       "      <td>75.320</td>\n",
       "      <td>12779.0</td>\n",
       "    </tr>\n",
       "  </tbody>\n",
       "</table>\n",
       "</div>"
      ],
      "text/plain": [
       "       country  population continent  life_exp  gdp_cap\n",
       "0  AFGHANISTAN    31889923      ASIA    43.828    974.0\n",
       "1      ALBANIA     3600523    EUROPE    76.423   5937.0\n",
       "2      ALGERIA    33333216    AFRICA    72.301      NaN\n",
       "3       ANGOLA    12420476    AFRICA       NaN   4797.0\n",
       "4    ARGENTINA    40301927  AMERICAS    75.320  12779.0"
      ]
     },
     "execution_count": 3,
     "metadata": {},
     "output_type": "execute_result"
    }
   ],
   "source": [
    "# Clean up string values and display first 5 rows.\n",
    "df.country = df.country.str.upper()\n",
    "df.continent = df.continent.str.upper()\n",
    "df.gdp_cap = df.gdp_cap.str.replace('$','').str.replace(',','').astype(float)\n",
    "df.head()"
   ]
  },
  {
   "cell_type": "code",
   "execution_count": 4,
   "metadata": {},
   "outputs": [
    {
     "data": {
      "text/plain": [
       "array(['ASIA', 'EUROPE', 'AFRICA', 'AMERICAS', 'OCEANIA'], dtype=object)"
      ]
     },
     "execution_count": 4,
     "metadata": {},
     "output_type": "execute_result"
    }
   ],
   "source": [
    "# Display unique values in contient column\n",
    "df.continent.unique()"
   ]
  },
  {
   "cell_type": "markdown",
   "metadata": {},
   "source": [
    "# Problem 3: Handle missing values\n",
    "\n",
    "- Work on **df** created from Problem 1.\n",
    "- Drop rows if country, population or continent is missing.\n",
    "- Fill missing values in life expectancy with mean life expectancy of the corresponding continent.\n",
    "- Fill missing values in GDP per capita with mean GDP per capita of the corresponding continent.\n",
    "- Save the resulting DataFrame to **df_clean**.\n",
    "- Display basic information of **df_clean** to verify there's no missing values.\n",
    "\n",
    "**Note**: You may get a `SettingWithCopyWarning`, just ignore it."
   ]
  },
  {
   "cell_type": "code",
   "execution_count": 5,
   "metadata": {},
   "outputs": [
    {
     "name": "stdout",
     "output_type": "stream",
     "text": [
      "<class 'pandas.core.frame.DataFrame'>\n",
      "Int64Index: 142 entries, 0 to 141\n",
      "Data columns (total 5 columns):\n",
      " #   Column      Non-Null Count  Dtype  \n",
      "---  ------      --------------  -----  \n",
      " 0   country     142 non-null    object \n",
      " 1   population  142 non-null    int64  \n",
      " 2   continent   142 non-null    object \n",
      " 3   life_exp    142 non-null    float64\n",
      " 4   gdp_cap     142 non-null    float64\n",
      "dtypes: float64(2), int64(1), object(2)\n",
      "memory usage: 6.7+ KB\n"
     ]
    }
   ],
   "source": [
    "# Handle missing values, create df_clean\n",
    "df_clean = df.dropna(subset=['country', 'population', 'continent'])\n",
    "df_clean.life_exp.fillna(df_clean.groupby('continent').life_exp.transform('mean'), inplace=True)\n",
    "df_clean.gdp_cap.fillna(df_clean.groupby('continent').gdp_cap.transform('median'), inplace=True)\n",
    "df_clean.info()"
   ]
  },
  {
   "cell_type": "code",
   "execution_count": 6,
   "metadata": {},
   "outputs": [
    {
     "name": "stdout",
     "output_type": "stream",
     "text": [
      "<class 'pandas.core.frame.DataFrame'>\n",
      "Int64Index: 142 entries, 0 to 141\n",
      "Data columns (total 5 columns):\n",
      " #   Column      Non-Null Count  Dtype  \n",
      "---  ------      --------------  -----  \n",
      " 0   country     142 non-null    object \n",
      " 1   population  142 non-null    int64  \n",
      " 2   continent   142 non-null    object \n",
      " 3   life_exp    142 non-null    float64\n",
      " 4   gdp_cap     142 non-null    float64\n",
      "dtypes: float64(2), int64(1), object(2)\n",
      "memory usage: 6.7+ KB\n"
     ]
    }
   ],
   "source": [
    "# Verify df_clean has no missing values with info()\n",
    "df_clean.info()"
   ]
  },
  {
   "cell_type": "markdown",
   "metadata": {},
   "source": [
    "# Problem 4: Predict life expectancy with a linear regression\n",
    "\n",
    "Construct a linear regression model using statsmodels to predict life expectancy by GDP per capita and contient.\n",
    "\n",
    "- Work with **df_clean** created from Problem 3.\n",
    "- Life expectancy will be the dependent variable.\n",
    "- GDP per capita and contient will be the dependent variables.\n",
    "- Enclose categorical features with \"C()\" in the regression formula.\n",
    "- Create a linear regression model with the ols method in statsmodels.formula.api.\n",
    "- Fit the model and assign the fitted model to variable **result**.\n",
    "- Print result summary."
   ]
  },
  {
   "cell_type": "code",
   "execution_count": 7,
   "metadata": {},
   "outputs": [
    {
     "data": {
      "text/html": [
       "<table class=\"simpletable\">\n",
       "<caption>OLS Regression Results</caption>\n",
       "<tr>\n",
       "  <th>Dep. Variable:</th>        <td>life_exp</td>     <th>  R-squared:         </th> <td>   0.714</td>\n",
       "</tr>\n",
       "<tr>\n",
       "  <th>Model:</th>                   <td>OLS</td>       <th>  Adj. R-squared:    </th> <td>   0.704</td>\n",
       "</tr>\n",
       "<tr>\n",
       "  <th>Method:</th>             <td>Least Squares</td>  <th>  F-statistic:       </th> <td>   67.98</td>\n",
       "</tr>\n",
       "<tr>\n",
       "  <th>Date:</th>             <td>Sun, 03 Jan 2021</td> <th>  Prob (F-statistic):</th> <td>2.70e-35</td>\n",
       "</tr>\n",
       "<tr>\n",
       "  <th>Time:</th>                 <td>11:23:27</td>     <th>  Log-Likelihood:    </th> <td> -464.83</td>\n",
       "</tr>\n",
       "<tr>\n",
       "  <th>No. Observations:</th>      <td>   142</td>      <th>  AIC:               </th> <td>   941.7</td>\n",
       "</tr>\n",
       "<tr>\n",
       "  <th>Df Residuals:</th>          <td>   136</td>      <th>  BIC:               </th> <td>   959.4</td>\n",
       "</tr>\n",
       "<tr>\n",
       "  <th>Df Model:</th>              <td>     5</td>      <th>                     </th>     <td> </td>   \n",
       "</tr>\n",
       "<tr>\n",
       "  <th>Covariance Type:</th>      <td>nonrobust</td>    <th>                     </th>     <td> </td>   \n",
       "</tr>\n",
       "</table>\n",
       "<table class=\"simpletable\">\n",
       "<tr>\n",
       "              <td></td>                <th>coef</th>     <th>std err</th>      <th>t</th>      <th>P>|t|</th>  <th>[0.025</th>    <th>0.975]</th>  \n",
       "</tr>\n",
       "<tr>\n",
       "  <th>Intercept</th>                <td>   54.0248</td> <td>    0.919</td> <td>   58.774</td> <td> 0.000</td> <td>   52.207</td> <td>   55.843</td>\n",
       "</tr>\n",
       "<tr>\n",
       "  <th>C(continent)[T.AMERICAS]</th> <td>   15.9751</td> <td>    1.657</td> <td>    9.640</td> <td> 0.000</td> <td>   12.698</td> <td>   19.252</td>\n",
       "</tr>\n",
       "<tr>\n",
       "  <th>C(continent)[T.ASIA]</th>     <td>   12.4378</td> <td>    1.556</td> <td>    7.992</td> <td> 0.000</td> <td>    9.360</td> <td>   15.515</td>\n",
       "</tr>\n",
       "<tr>\n",
       "  <th>C(continent)[T.EUROPE]</th>   <td>   14.9812</td> <td>    1.992</td> <td>    7.521</td> <td> 0.000</td> <td>   11.042</td> <td>   18.921</td>\n",
       "</tr>\n",
       "<tr>\n",
       "  <th>C(continent)[T.OCEANIA]</th>  <td>   18.1102</td> <td>    4.876</td> <td>    3.714</td> <td> 0.000</td> <td>    8.468</td> <td>   27.753</td>\n",
       "</tr>\n",
       "<tr>\n",
       "  <th>gdp_cap</th>                  <td>    0.0003</td> <td> 5.73e-05</td> <td>    5.949</td> <td> 0.000</td> <td>    0.000</td> <td>    0.000</td>\n",
       "</tr>\n",
       "</table>\n",
       "<table class=\"simpletable\">\n",
       "<tr>\n",
       "  <th>Omnibus:</th>       <td>10.242</td> <th>  Durbin-Watson:     </th> <td>   1.882</td>\n",
       "</tr>\n",
       "<tr>\n",
       "  <th>Prob(Omnibus):</th> <td> 0.006</td> <th>  Jarque-Bera (JB):  </th> <td>  20.931</td>\n",
       "</tr>\n",
       "<tr>\n",
       "  <th>Skew:</th>          <td> 0.210</td> <th>  Prob(JB):          </th> <td>2.85e-05</td>\n",
       "</tr>\n",
       "<tr>\n",
       "  <th>Kurtosis:</th>      <td> 4.834</td> <th>  Cond. No.          </th> <td>1.56e+05</td>\n",
       "</tr>\n",
       "</table><br/><br/>Warnings:<br/>[1] Standard Errors assume that the covariance matrix of the errors is correctly specified.<br/>[2] The condition number is large, 1.56e+05. This might indicate that there are<br/>strong multicollinearity or other numerical problems."
      ],
      "text/plain": [
       "<class 'statsmodels.iolib.summary.Summary'>\n",
       "\"\"\"\n",
       "                            OLS Regression Results                            \n",
       "==============================================================================\n",
       "Dep. Variable:               life_exp   R-squared:                       0.714\n",
       "Model:                            OLS   Adj. R-squared:                  0.704\n",
       "Method:                 Least Squares   F-statistic:                     67.98\n",
       "Date:                Sun, 03 Jan 2021   Prob (F-statistic):           2.70e-35\n",
       "Time:                        11:23:27   Log-Likelihood:                -464.83\n",
       "No. Observations:                 142   AIC:                             941.7\n",
       "Df Residuals:                     136   BIC:                             959.4\n",
       "Df Model:                           5                                         \n",
       "Covariance Type:            nonrobust                                         \n",
       "============================================================================================\n",
       "                               coef    std err          t      P>|t|      [0.025      0.975]\n",
       "--------------------------------------------------------------------------------------------\n",
       "Intercept                   54.0248      0.919     58.774      0.000      52.207      55.843\n",
       "C(continent)[T.AMERICAS]    15.9751      1.657      9.640      0.000      12.698      19.252\n",
       "C(continent)[T.ASIA]        12.4378      1.556      7.992      0.000       9.360      15.515\n",
       "C(continent)[T.EUROPE]      14.9812      1.992      7.521      0.000      11.042      18.921\n",
       "C(continent)[T.OCEANIA]     18.1102      4.876      3.714      0.000       8.468      27.753\n",
       "gdp_cap                      0.0003   5.73e-05      5.949      0.000       0.000       0.000\n",
       "==============================================================================\n",
       "Omnibus:                       10.242   Durbin-Watson:                   1.882\n",
       "Prob(Omnibus):                  0.006   Jarque-Bera (JB):               20.931\n",
       "Skew:                           0.210   Prob(JB):                     2.85e-05\n",
       "Kurtosis:                       4.834   Cond. No.                     1.56e+05\n",
       "==============================================================================\n",
       "\n",
       "Warnings:\n",
       "[1] Standard Errors assume that the covariance matrix of the errors is correctly specified.\n",
       "[2] The condition number is large, 1.56e+05. This might indicate that there are\n",
       "strong multicollinearity or other numerical problems.\n",
       "\"\"\""
      ]
     },
     "execution_count": 7,
     "metadata": {},
     "output_type": "execute_result"
    }
   ],
   "source": [
    "# Predict life expectancy by GDP per captia and continent\n",
    "import statsmodels.formula.api as smf\n",
    "formula = \"life_exp ~ gdp_cap + C(continent)\"\n",
    "model = smf.ols(formula, data=df_clean)\n",
    "result = model.fit()\n",
    "result.summary()\n"
   ]
  },
  {
   "cell_type": "markdown",
   "metadata": {},
   "source": [
    "# Problem 5: Interpret the regression result\n",
    "\n",
    "Answer following questions from the regression result.\n",
    "- What is the impact of GDP per capita on life expectancy? Is the coefficient significant?\n",
    "- Which continent is the intercept based on?\n",
    "- Given an African country with GDP per capita $942, what is the life expectancy predicted by the regression model? (If you use `predict()` method, be aware that values in continent are all in upper case)\n",
    "\n",
    "Feel free to add code cells and markdown cells if needed."
   ]
  },
  {
   "cell_type": "code",
   "execution_count": 9,
   "metadata": {},
   "outputs": [
    {
     "data": {
      "text/plain": [
       "0    54.345893\n",
       "dtype: float64"
      ]
     },
     "execution_count": 9,
     "metadata": {},
     "output_type": "execute_result"
    }
   ],
   "source": [
    "dfc = pd.DataFrame({'continent':['AFRICA'], 'gdp_cap':[942]})\n",
    "result.predict(dfc)"
   ]
  },
  {
   "cell_type": "markdown",
   "metadata": {},
   "source": [
    "- Life expectancy increases by 0.0003 year with every $1 increase in GDP per capita. The coefficient is significant at 95% confidence level.\n",
    "- The intercept is based on Africa\n",
    "- The predicted life expectancy is 54.3."
   ]
  }
 ],
 "metadata": {
  "kernelspec": {
   "display_name": "Python 3",
   "language": "python",
   "name": "python3"
  },
  "language_info": {
   "codemirror_mode": {
    "name": "ipython",
    "version": 3
   },
   "file_extension": ".py",
   "mimetype": "text/x-python",
   "name": "python",
   "nbconvert_exporter": "python",
   "pygments_lexer": "ipython3",
   "version": "3.8.5"
  }
 },
 "nbformat": 4,
 "nbformat_minor": 4
}
