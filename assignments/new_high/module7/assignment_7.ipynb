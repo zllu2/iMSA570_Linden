{
 "cells": [
  {
   "cell_type": "markdown",
   "metadata": {},
   "source": [
    "# Module 7 Assignment\n",
    "\n",
    "\n",
    "A few things you should keep in mind when working on assignments:\n",
    "\n",
    "1. Before you submit your assignment, make sure everything runs as expected. Go to the menubar, select Kernel, and Restart & Run all. \n",
    "2. Make sure that you save your work.\n",
    "3. Upload your notebook to Compass.\n",
    "\n",
    "-----"
   ]
  },
  {
   "cell_type": "markdown",
   "metadata": {},
   "source": [
    "# Problem 1: Load and examine the dataset\n",
    "\n",
    "The dataset, wealth_health_2007.csv, contains GDP per capita and life expectancy information of over 100 countries in 2007. \n",
    "\n",
    "In the following code cells:\n",
    "\n",
    "- Load dataset to a DataFrame **df**.\n",
    "- Display the first 5 rows in the DataFrame.\n",
    "- Display the basic information of the DataFrame with info() method. Examine missing values."
   ]
  },
  {
   "cell_type": "code",
   "execution_count": 1,
   "metadata": {},
   "outputs": [],
   "source": [
    "# Load dataset to a DataFrame and display first 5 rows\n"
   ]
  },
  {
   "cell_type": "code",
   "execution_count": 2,
   "metadata": {},
   "outputs": [],
   "source": [
    "# Display basic information of the DataFrame, examine missing values\n"
   ]
  },
  {
   "cell_type": "markdown",
   "metadata": {},
   "source": [
    "# Problem 2: Clean up string values\n",
    "\n",
    "- Work on **df** created from Problem 1.\n",
    "- Convert values in country and continent to all upper case.\n",
    "- Convert gdp_cap to float.\n",
    "- Display the first 5 rows of **df** to verify the result.\n",
    "- Display the unique values from the continent column."
   ]
  },
  {
   "cell_type": "code",
   "execution_count": 3,
   "metadata": {},
   "outputs": [],
   "source": [
    "# Clean up string values and display first 5 rows.\n"
   ]
  },
  {
   "cell_type": "code",
   "execution_count": 4,
   "metadata": {},
   "outputs": [],
   "source": [
    "# Display unique values in contient column\n"
   ]
  },
  {
   "cell_type": "markdown",
   "metadata": {},
   "source": [
    "# Problem 3: Handle missing values\n",
    "\n",
    "- Work on **df** created from Problem 1.\n",
    "- Drop rows if country, population or continent is missing.\n",
    "- Fill missing values in life expectancy with mean life expectancy of the corresponding continent.\n",
    "- Fill missing values in GDP per capita with mean GDP per capita of the corresponding continent.\n",
    "- Save the resulting DataFrame to **df_clean**.\n",
    "- Display basic information of **df_clean** to verify there's no missing values.\n",
    "\n",
    "**Note**: You may get a `SettingWithCopyWarning`, just ignore it."
   ]
  },
  {
   "cell_type": "code",
   "execution_count": 5,
   "metadata": {},
   "outputs": [],
   "source": [
    "# Handle missing values, create df_clean\n"
   ]
  },
  {
   "cell_type": "code",
   "execution_count": 6,
   "metadata": {},
   "outputs": [],
   "source": [
    "# Verify df_clean has no missing values with info()\n"
   ]
  },
  {
   "cell_type": "markdown",
   "metadata": {},
   "source": [
    "# Problem 4: Predict life expectancy with a linear regression\n",
    "\n",
    "Construct a linear regression model using statsmodels to predict life expectancy by GDP per capita and continent.\n",
    "\n",
    "- Work with **df_clean** created from Problem 3.\n",
    "- Life expectancy will be the dependent variable.\n",
    "- GDP per capita and contnient will be the dependent variables.\n",
    "- Enclose categorical features with \"C()\" in the regression formula.\n",
    "- Create a linear regression model with the ols method in statsmodels.formula.api.\n",
    "- Fit the model and assign the fitted model to the variable **result**.\n",
    "- Print result summary."
   ]
  },
  {
   "cell_type": "code",
   "execution_count": 7,
   "metadata": {},
   "outputs": [],
   "source": [
    "# Predict life expectancy by GDP per captia and continent\n"
   ]
  },
  {
   "cell_type": "markdown",
   "metadata": {},
   "source": [
    "# Problem 5: Interpret the regression result\n",
    "\n",
    "Answer following questions from the regression result.\n",
    "- What is the impact of GDP per capita on life expectancy? Is the coefficient significant?\n",
    "- Which continent is the intercept based on?\n",
    "- Given an African country with GDP per capita $942, what is the life expectancy predicted by the regression model? (If you use `predict()` method, be aware that values in continent are all in upper case)\n",
    "\n",
    "Feel free to add code cells and markdown cells if needed."
   ]
  },
  {
   "cell_type": "code",
   "execution_count": null,
   "metadata": {},
   "outputs": [],
   "source": []
  }
 ],
 "metadata": {
  "kernelspec": {
   "display_name": "Python 3",
   "language": "python",
   "name": "python3"
  },
  "language_info": {
   "codemirror_mode": {
    "name": "ipython",
    "version": 3
   },
   "file_extension": ".py",
   "mimetype": "text/x-python",
   "name": "python",
   "nbconvert_exporter": "python",
   "pygments_lexer": "ipython3",
   "version": "3.8.5"
  }
 },
 "nbformat": 4,
 "nbformat_minor": 4
}
