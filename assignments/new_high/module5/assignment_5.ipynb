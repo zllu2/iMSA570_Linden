{
 "cells": [
  {
   "cell_type": "markdown",
   "metadata": {},
   "source": [
    "# Module 5 Assignment\n",
    "\n",
    "\n",
    "A few things you should keep in mind when working on assignments:\n",
    "\n",
    "1. Before you submit your assignment, make sure everything runs as expected. Go to the menubar, select Kernel, and Restart & Run all. \n",
    "2. Make sure that you save your work.\n",
    "3. Upload your notebook to Compass.\n",
    "\n",
    "-----"
   ]
  },
  {
   "cell_type": "markdown",
   "metadata": {},
   "source": [
    "# Problem 1: Load the dataset\n",
    "\n",
    "The dataset, wealth_and_health.csv, contains GDP per capita and life expectancy information of over 100 countries in the world. \n",
    "\n",
    "In the following code cells:\n",
    "\n",
    "- Load dataset to a DataFrame `df`.\n",
    "- Display the first 5 rows in the DataFrame.\n",
    "- Display the basic information of the DataFrame with info() method."
   ]
  },
  {
   "cell_type": "code",
   "execution_count": 1,
   "metadata": {},
   "outputs": [],
   "source": [
    "# Load dataset to a DataFrame and display first 5 rows\n"
   ]
  },
  {
   "cell_type": "code",
   "execution_count": 2,
   "metadata": {},
   "outputs": [],
   "source": [
    "# Display basic information of the DataFrame\n"
   ]
  },
  {
   "cell_type": "markdown",
   "metadata": {},
   "source": [
    "# Problem 2: Examine the categorical features\n",
    "\n",
    "In the following code cells:\n",
    "- Display the list of unique countries in the dataset.\n",
    "- Display the list of unique years in the dataset."
   ]
  },
  {
   "cell_type": "code",
   "execution_count": 3,
   "metadata": {},
   "outputs": [],
   "source": [
    "# Display the list of unique countries in the dataset.\n"
   ]
  },
  {
   "cell_type": "code",
   "execution_count": 4,
   "metadata": {},
   "outputs": [],
   "source": [
    "# Display the list of unique years in the dataset.\n"
   ]
  },
  {
   "cell_type": "markdown",
   "metadata": {},
   "source": [
    "# Problem 3: Select 2007 data\n",
    "\n",
    "In the following code cells:\n",
    "- Select all 2007 data from the DataFrame `df` and assign the subset to a DataFrame `df_2007`.\n",
    "- Display first 5 rows of `df_2007`."
   ]
  },
  {
   "cell_type": "code",
   "execution_count": 5,
   "metadata": {},
   "outputs": [],
   "source": [
    "# Select 2007 data to df_2007\n"
   ]
  },
  {
   "cell_type": "markdown",
   "metadata": {},
   "source": [
    "# Problem 4: Examine the 2007 data\n",
    "\n",
    "In the following code cells, display statistics of `df_2007` created in Problem 3:\n",
    "- The count of countries in each continent. (Hint: use value_counts() method).\n",
    "- The mean life expectancy of all countries.\n",
    "- The median GDP per capita of all countries.\n"
   ]
  },
  {
   "cell_type": "code",
   "execution_count": 6,
   "metadata": {},
   "outputs": [],
   "source": [
    "# Display the count of countries in each continent\n"
   ]
  },
  {
   "cell_type": "code",
   "execution_count": 7,
   "metadata": {},
   "outputs": [],
   "source": [
    "# Display the mean life expectancy\n"
   ]
  },
  {
   "cell_type": "code",
   "execution_count": 8,
   "metadata": {},
   "outputs": [],
   "source": [
    "# Display the median GDP per capita\n"
   ]
  },
  {
   "cell_type": "markdown",
   "metadata": {},
   "source": [
    "# Problem 5: Top and bottom countries in 2007\n",
    "\n",
    "In the following code cells, for `df_2007`, display all columns of:\n",
    "- 5 countries with highest GDP per capita, highest first.\n",
    "- 5 countries with highest life expectancy, highest first.\n",
    "- 5 countries with lowest GDP per capita, lowest first.\n",
    "- 5 countries with lowest life expectancy, lowest first.\n",
    "\n",
    "Hint: Sort the DataFrame by interested column, then display the first 5 rows of the sorted DataFrame. Set parameter `ascending` with proper values."
   ]
  },
  {
   "cell_type": "code",
   "execution_count": 9,
   "metadata": {},
   "outputs": [],
   "source": [
    "# Displays 5 countries with highest GDP per capita in 2007, highest first\n"
   ]
  },
  {
   "cell_type": "code",
   "execution_count": 10,
   "metadata": {},
   "outputs": [],
   "source": [
    "# Displays 5 countries with lowest GDP per capita in 2007, lowest first\n"
   ]
  },
  {
   "cell_type": "code",
   "execution_count": 11,
   "metadata": {},
   "outputs": [],
   "source": [
    "# Displays 5 countries with highest life expectancy in 2007, highest first\n"
   ]
  },
  {
   "cell_type": "code",
   "execution_count": 12,
   "metadata": {},
   "outputs": [],
   "source": [
    "# Displays 5 countries with lowest life expectancy in 2007, lowest first\n"
   ]
  }
 ],
 "metadata": {
  "kernelspec": {
   "display_name": "Python 3",
   "language": "python",
   "name": "python3"
  },
  "language_info": {
   "codemirror_mode": {
    "name": "ipython",
    "version": 3
   },
   "file_extension": ".py",
   "mimetype": "text/x-python",
   "name": "python",
   "nbconvert_exporter": "python",
   "pygments_lexer": "ipython3",
   "version": "3.8.5"
  }
 },
 "nbformat": 4,
 "nbformat_minor": 4
}
