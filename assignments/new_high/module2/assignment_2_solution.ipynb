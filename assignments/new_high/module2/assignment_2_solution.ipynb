{
 "cells": [
  {
   "cell_type": "markdown",
   "metadata": {},
   "source": [
    "# Module 2 Assignment\n",
    "\n",
    "\n",
    "A few things you should keep in mind when working on assignments:\n",
    "\n",
    "1. Before you submit your assignment, make sure everything runs as expected. Go to the menubar, select Kernel, and Restart & Run all. \n",
    "2. Make sure that you save your work.\n",
    "3. Upload your notebook to Compass.\n",
    "\n",
    "-----"
   ]
  },
  {
   "cell_type": "markdown",
   "metadata": {},
   "source": [
    "# Answer problem 1-3 based on following statistics\n",
    "\n",
    "In 2007, US population is 301.23 million, GDP is 14.52 trillion USD.  \n",
    "In 2008, US population is 304.09 million, GDP is 14.71 trillion USD.\n"
   ]
  },
  {
   "cell_type": "markdown",
   "metadata": {},
   "source": [
    "# Problem 1: Create variables\n",
    "\n",
    "In the following code cell:\n",
    "- Create variable `population_2007`, set US population in 2007 to the varialbe. The variable should have type int. (1 million = 1000000)\n",
    "- Create a variable `gdp_2007`, set US GDP in 2007 to the variable. The variable should have type int.  (1 trillion = 1000000000)\n",
    "- Create variable `population_2008`, set US population in 2008 to the variable. The variable should have type int.\n",
    "- Create a variable `gdp_2008`, set US GDP in 2007 to the variable. The variable should have type int."
   ]
  },
  {
   "cell_type": "code",
   "execution_count": 1,
   "metadata": {},
   "outputs": [],
   "source": [
    "# Define variables below\n",
    "population_2007 = 301230000\n",
    "gdp_2007 = 14520000000000\n",
    "population_2008 = 304090000\n",
    "gdp_2008 = 14710000000000"
   ]
  },
  {
   "cell_type": "markdown",
   "metadata": {},
   "source": [
    "# Problem 2: Calculate US GDP per capita\n",
    "\n",
    "This problem relies on the result of problem 1. Please complete and run problem 1 code before proceeding.\n",
    "\n",
    "- Calculate US GDP per capita in 2007, using `population_2007` and `gdp_2007`, assign the result to variable `gpd_cap_2007`\n",
    "- Calculate US GDP per capita in 2008, using `population_2008` and `gdp_2008`, assign the result to variable `gpd_cap_2008`\n",
    "- Use built-in function print() to print out the two variables.\n",
    "- The GDP per capita of both years should be about 48,000."
   ]
  },
  {
   "cell_type": "code",
   "execution_count": 2,
   "metadata": {},
   "outputs": [
    {
     "name": "stdout",
     "output_type": "stream",
     "text": [
      "48202.370281844436 48373.83669308428\n"
     ]
    }
   ],
   "source": [
    "# Calculate GDP per capita below\n",
    "gdp_cap_2007 = gdp_2007/population_2007\n",
    "gdp_cap_2008 = gdp_2008/population_2008\n",
    "print(gdp_cap_2007, gdp_cap_2008)"
   ]
  },
  {
   "cell_type": "markdown",
   "metadata": {},
   "source": [
    "# Problem 3: Compare US GDP per capita\n",
    "\n",
    "This problem relies on the result of problem 2. Please complete and run problem 2 code before proceeding.\n",
    "\n",
    "Use conditional statement, compare gdp_cap_2007 and gdp_cap_2008:\n",
    "- If gdp_cap_2008 is greater than gdp_cap_2007, print \"US GDP per capita rose from 2007 to 2008\".\n",
    "- If gdp_cap_2008 is less than gdp_cap_2007, print \"US GDP per capita declined from 2007 to 2008\"."
   ]
  },
  {
   "cell_type": "code",
   "execution_count": 3,
   "metadata": {},
   "outputs": [
    {
     "name": "stdout",
     "output_type": "stream",
     "text": [
      "US GDP per capita rose from 2007 to 2008\n"
     ]
    }
   ],
   "source": [
    "# Compare GDP per capita below\n",
    "if gdp_cap_2008 > gdp_cap_2007:\n",
    "    print(\"US GDP per capita rose from 2007 to 2008\")\n",
    "else:\n",
    "    print(\"US GDP per capita declined from 2007 to 2008\")"
   ]
  },
  {
   "cell_type": "markdown",
   "metadata": {},
   "source": [
    "# Problem 4: Complete a function to determine which value is greater  \n",
    "\n",
    "- Complete the function called find_greater that accepts 2 parameters, a and b.\n",
    "\n",
    "- Inside of the function use an if statement to determine if a is greater than b.\n",
    "\n",
    "    - If the value in a is greater than the value in b return variable a.\n",
    "    \n",
    "    - If the value in b is greater than the value in a return variable b.\n",
    "- Once you complete the function definition, test your function by calling it, either in a new code cell or in the same code cell. ie. find_greater(10, 20)."
   ]
  },
  {
   "cell_type": "code",
   "execution_count": 4,
   "metadata": {},
   "outputs": [
    {
     "data": {
      "text/plain": [
       "20"
      ]
     },
     "execution_count": 4,
     "metadata": {},
     "output_type": "execute_result"
    }
   ],
   "source": [
    "def find_greater(a, b):\n",
    "    '''\n",
    "    Returns the highest value between a and b.\n",
    "    \n",
    "    Parameters\n",
    "    ----------\n",
    "    a : an integer or float\n",
    "    b : an integer or float\n",
    "    \n",
    "    Returns\n",
    "    -------\n",
    "    The higher value\n",
    "    '''\n",
    "    # Complete the function below\n",
    "    if a > b:\n",
    "        return a\n",
    "    else:\n",
    "        return b\n",
    "find_greater(10,20)\n"
   ]
  },
  {
   "cell_type": "markdown",
   "metadata": {},
   "source": [
    "# Problem 5: Create a function to determine which value is the greatest\n",
    "\n",
    "- Write a function called find_greatest that accepts 3 parameters called a, b, and c.\n",
    "\n",
    "- Inside of the function use an if, else, and/or elif statement to determine which variable between a, b, and c has the highest value. Return this value.\n",
    "\n",
    "- Once you complete the function definition, test your function by calling it, either in a new code cell or in the same code cell. ie. find_greatest(10, 20, 30).\n"
   ]
  },
  {
   "cell_type": "code",
   "execution_count": 5,
   "metadata": {},
   "outputs": [
    {
     "data": {
      "text/plain": [
       "30"
      ]
     },
     "execution_count": 5,
     "metadata": {},
     "output_type": "execute_result"
    }
   ],
   "source": [
    "# Create the function below\n",
    "def find_greatest(a,b,c):\n",
    "    if a >= b and a>=c:\n",
    "        return a\n",
    "    elif b>=a and b>=c:\n",
    "        return b\n",
    "    else:\n",
    "        return c\n",
    "find_greatest(10, 20, 30)"
   ]
  }
 ],
 "metadata": {
  "kernelspec": {
   "display_name": "Python 3",
   "language": "python",
   "name": "python3"
  },
  "language_info": {
   "codemirror_mode": {
    "name": "ipython",
    "version": 3
   },
   "file_extension": ".py",
   "mimetype": "text/x-python",
   "name": "python",
   "nbconvert_exporter": "python",
   "pygments_lexer": "ipython3",
   "version": "3.8.5"
  }
 },
 "nbformat": 4,
 "nbformat_minor": 4
}
