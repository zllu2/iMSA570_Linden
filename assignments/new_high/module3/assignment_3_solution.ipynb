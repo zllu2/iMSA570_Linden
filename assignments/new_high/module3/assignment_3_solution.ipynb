{
 "cells": [
  {
   "cell_type": "markdown",
   "metadata": {},
   "source": [
    "# Module 3 Assignment\n",
    "\n",
    "\n",
    "A few things you should keep in mind when working on assignments:\n",
    "\n",
    "1. Before you submit your assignment, make sure everything runs as expected. Go to the menubar, select Kernel, and Restart & Run all. \n",
    "2. Make sure that you save your work.\n",
    "3. Upload your notebook to Compass.\n",
    "\n",
    "-----"
   ]
  },
  {
   "cell_type": "markdown",
   "metadata": {},
   "source": [
    "# Answer Problems 1-2 based on the following information\n",
    "\n",
    "In accounting, currency strings are often formatted with dollar signs, commas and parentheses. For example:\n",
    "- \\\\$2,315,696.78\n",
    "- \\\\$(8,715,515)\n",
    "\n",
    "The parentheses indicate negative values.\n",
    "\n",
    "When working in data analytics, we need to convert these currency strings to float numbers.\n",
    "- \"\\\\$2,315,696.78\" needs to be converted to 2315696.78\n",
    "- \"\\\\$(8,715,515)\" needs to be converted to -8715515.0\n"
   ]
  },
  {
   "cell_type": "markdown",
   "metadata": {},
   "source": [
    "# Problem 1: Create a function to clean currency string\n",
    "\n",
    "- Create a function called clean_currency_string, which takes one argument, a string that represents a currency string in accounting format. \n",
    "- In the body of the function, the string will be cleaned, then converted into a float.\n",
    "- The function should then return that float.\n",
    "- Test your function by calling the function. e.g., `clean_currency_string('$(2,715,230)')` should return -2715230.0.\n",
    "\n",
    "**HINTS:**\n",
    "- You can get rid of an unwanted character by replacing it with something else using string method `replace()`.\n",
    "- Convert a number string to float with built-in function `float()`.\n"
   ]
  },
  {
   "cell_type": "code",
   "execution_count": 1,
   "metadata": {},
   "outputs": [
    {
     "data": {
      "text/plain": [
       "-2715230.0"
      ]
     },
     "execution_count": 1,
     "metadata": {},
     "output_type": "execute_result"
    }
   ],
   "source": [
    "# Define function below\n",
    "def clean_currency_string(currency_str):\n",
    "    clean_str = currency_str.replace('$', '')\n",
    "    clean_str = clean_str.replace(',', '')\n",
    "    clean_str = clean_str.replace('(', '-')\n",
    "    clean_str = clean_str.replace(')', '')\n",
    "    return float(clean_str)\n",
    "\n",
    "clean_currency_string('$(2,715,230)')"
   ]
  },
  {
   "cell_type": "markdown",
   "metadata": {},
   "source": [
    "# Problem 2: Clean up a list of currency strings\n",
    "\n",
    "This problem relies on the result of Problem 1. Please complete and run Problem 1 code before proceeding.\n",
    "\n",
    "In the following code cell, a list `data`, which contains of some currency strings is defined. Please use the `clean_currency_string` function defined in Problem 1 to clean up each currency string in the list, then create a new list with float values.\n",
    "- Create an empty list `clean_data`\n",
    "- Iterate through the list `data`, for each item in the list:\n",
    "    - Convert the currency string to a float with `clean_currency_string` function.\n",
    "    - Add the converted float to the list `clean_data`\n",
    "- Print out the list `clean_data` to verify your work.\n"
   ]
  },
  {
   "cell_type": "code",
   "execution_count": 2,
   "metadata": {},
   "outputs": [
    {
     "name": "stdout",
     "output_type": "stream",
     "text": [
      "[2315696.78, 8849725.85, 4138707.83, 3437751.77, 8629705.73, -8120.0, -2715230.0, -7446990.0, -2125092.0, -8715515.0]\n"
     ]
    }
   ],
   "source": [
    "data = ['$2,315,696.78', '$8,849,725.85', '$4,138,707.83', '$3,437,751.77', '$8,629,705.73', \n",
    "        '$(8,120)', '$(2,715,230)', '$(7,446,990)', '$(2,125,092)', '$(8,715,515)']\n",
    "\n",
    "# Clean the list of currency strings below\n",
    "clean_data = []\n",
    "for s in data:\n",
    "    clean_data.append(clean_currency_string(s))\n",
    "print(clean_data)"
   ]
  },
  {
   "cell_type": "markdown",
   "metadata": {},
   "source": [
    "# Problem 3: Concatenating strings\n",
    "\n",
    "Complete the function `get_fullname` that takes 2 string parameters, firstname and lastname and return full name.\n",
    "- Create full name by concatenating firstname and lastname, separted by a white space. \n",
    "- Convert full name to **all upper case**.\n",
    "- Return the all upper case full name from the function.\n",
    "- Test your function. e.g., get_fullname('Kevin', 'Smith') should return \"KEVIN SMITH\"\n"
   ]
  },
  {
   "cell_type": "code",
   "execution_count": 3,
   "metadata": {},
   "outputs": [
    {
     "data": {
      "text/plain": [
       "'KEVIN SMITH'"
      ]
     },
     "execution_count": 3,
     "metadata": {},
     "output_type": "execute_result"
    }
   ],
   "source": [
    "def get_fullname(firstname, lastname):\n",
    "    '''\n",
    "    Create full name with all upper case by first name and last name.\n",
    "    \n",
    "    Parameters\n",
    "    ----------\n",
    "    firstname : first name, string\n",
    "    lastname: last name, string\n",
    "    \n",
    "    Returns\n",
    "    -------\n",
    "    All upper case full name in \"firstname lastname\" format.\n",
    "    '''\n",
    "    # Complete the function below\n",
    "    fullname = firstname + ' ' + lastname\n",
    "    return fullname.upper()\n",
    "get_fullname('Kevin', 'Smith')\n"
   ]
  },
  {
   "cell_type": "markdown",
   "metadata": {},
   "source": [
    "# Problem 4: Check if a string is a palindrome (case sensitive)\n",
    "\n",
    "A palindrome is a word that is the same when spelled forwards or backwards. For example, the word 'madam' is the same when reversed. \n",
    "\n",
    "In this exercise, you will complete the function `is_palindrome` that checks whether its argument is a palindrome. It should take one argument, a string, and return `True` if the argument is a palindrome, and `False` otherwise. The function should be **case sensitive**. That means that the word 'Madam' is not a palindrome, while 'madam' is. Verify your function definition with different words.\n",
    "\n",
    "**Hints:** A string can be sliced as a list.\n"
   ]
  },
  {
   "cell_type": "code",
   "execution_count": 4,
   "metadata": {},
   "outputs": [
    {
     "data": {
      "text/plain": [
       "True"
      ]
     },
     "execution_count": 4,
     "metadata": {},
     "output_type": "execute_result"
    }
   ],
   "source": [
    "def is_palindrome(word):\n",
    "    '''\n",
    "    Check if a word is a palindrom. (Case sensitive)\n",
    "    \n",
    "    Parameters\n",
    "    ----------\n",
    "    word : a string\n",
    "    \n",
    "    Returns\n",
    "    -------\n",
    "    True if word is palindrom, False if not.\n",
    "    '''\n",
    "    # Complete the function below\n",
    "\n",
    "    return word == word[::-1]\n",
    "\n",
    "is_palindrome('madam')"
   ]
  },
  {
   "cell_type": "markdown",
   "metadata": {},
   "source": [
    "# Problem 5: Check if a string is a palindrome (Case insensitive)\n",
    "\n",
    "Create function `is_palindrome2`, which checks whether its argument is a palindrome. The function should be **case insensitive**. That means that the word 'Madam' is a palindrome. Try using the function `is_palindrome` in the function. Test your function with different words."
   ]
  },
  {
   "cell_type": "code",
   "execution_count": 5,
   "metadata": {},
   "outputs": [
    {
     "data": {
      "text/plain": [
       "True"
      ]
     },
     "execution_count": 5,
     "metadata": {},
     "output_type": "execute_result"
    }
   ],
   "source": [
    "# Create the function below\n",
    "def is_palindrome2(word):\n",
    "    '''\n",
    "    Check if a word is a palindrom. (Case insensitive)\n",
    "    \n",
    "    Parameters\n",
    "    ----------\n",
    "    word : a string\n",
    "    \n",
    "    Returns\n",
    "    -------\n",
    "    True if word is palindrom, False if not.\n",
    "    '''\n",
    "    # Complete the function below\n",
    "\n",
    "    return is_palindrome(word.upper())\n",
    "\n",
    "is_palindrome2('Madam')"
   ]
  }
 ],
 "metadata": {
  "kernelspec": {
   "display_name": "Python 3",
   "language": "python",
   "name": "python3"
  },
  "language_info": {
   "codemirror_mode": {
    "name": "ipython",
    "version": 3
   },
   "file_extension": ".py",
   "mimetype": "text/x-python",
   "name": "python",
   "nbconvert_exporter": "python",
   "pygments_lexer": "ipython3",
   "version": "3.8.5"
  }
 },
 "nbformat": 4,
 "nbformat_minor": 4
}
