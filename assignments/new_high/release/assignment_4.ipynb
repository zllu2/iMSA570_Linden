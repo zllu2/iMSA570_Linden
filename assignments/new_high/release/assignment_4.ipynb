{
 "cells": [
  {
   "cell_type": "markdown",
   "metadata": {},
   "source": [
    "# Module 4 Assignment\n",
    "\n",
    "\n",
    "A few things you should keep in mind when working on assignments:\n",
    "\n",
    "1. Before you submit your assignment, make sure everything runs as expected. Go to the menubar, select Kernel, and Restart & Run all. \n",
    "2. Make sure that you save your work.\n",
    "3. Upload your notebook to Compass.\n",
    "\n",
    "-----"
   ]
  },
  {
   "cell_type": "markdown",
   "metadata": {},
   "source": [
    "# Run the following code cell first to load the dataset\n",
    "\n",
    "The dataset contains GDP per capita of 10 countries from 2016 to 2019. The assignment is based on this dataset."
   ]
  },
  {
   "cell_type": "code",
   "execution_count": 1,
   "metadata": {},
   "outputs": [
    {
     "data": {
      "text/html": [
       "<div>\n",
       "<style scoped>\n",
       "    .dataframe tbody tr th:only-of-type {\n",
       "        vertical-align: middle;\n",
       "    }\n",
       "\n",
       "    .dataframe tbody tr th {\n",
       "        vertical-align: top;\n",
       "    }\n",
       "\n",
       "    .dataframe thead th {\n",
       "        text-align: right;\n",
       "    }\n",
       "</style>\n",
       "<table border=\"1\" class=\"dataframe\">\n",
       "  <thead>\n",
       "    <tr style=\"text-align: right;\">\n",
       "      <th></th>\n",
       "      <th>Country Name</th>\n",
       "      <th>2016</th>\n",
       "      <th>2017</th>\n",
       "      <th>2018</th>\n",
       "      <th>2019</th>\n",
       "    </tr>\n",
       "  </thead>\n",
       "  <tbody>\n",
       "    <tr>\n",
       "      <th>0</th>\n",
       "      <td>Australia</td>\n",
       "      <td>49971</td>\n",
       "      <td>54066</td>\n",
       "      <td>57395.0</td>\n",
       "      <td>54907</td>\n",
       "    </tr>\n",
       "    <tr>\n",
       "      <th>1</th>\n",
       "      <td>China</td>\n",
       "      <td>8147</td>\n",
       "      <td>8879</td>\n",
       "      <td>9976.0</td>\n",
       "      <td>10261</td>\n",
       "    </tr>\n",
       "    <tr>\n",
       "      <th>2</th>\n",
       "      <td>Germany</td>\n",
       "      <td>42098</td>\n",
       "      <td>44349</td>\n",
       "      <td>47639.0</td>\n",
       "      <td>46258</td>\n",
       "    </tr>\n",
       "    <tr>\n",
       "      <th>3</th>\n",
       "      <td>France</td>\n",
       "      <td>37037</td>\n",
       "      <td>38812</td>\n",
       "      <td>NaN</td>\n",
       "      <td>40493</td>\n",
       "    </tr>\n",
       "    <tr>\n",
       "      <th>4</th>\n",
       "      <td>United Kingdom</td>\n",
       "      <td>41064</td>\n",
       "      <td>40361</td>\n",
       "      <td>43043.0</td>\n",
       "      <td>42300</td>\n",
       "    </tr>\n",
       "    <tr>\n",
       "      <th>5</th>\n",
       "      <td>India</td>\n",
       "      <td>1732</td>\n",
       "      <td>1981</td>\n",
       "      <td>2005.0</td>\n",
       "      <td>2104</td>\n",
       "    </tr>\n",
       "    <tr>\n",
       "      <th>6</th>\n",
       "      <td>Japan</td>\n",
       "      <td>38761</td>\n",
       "      <td>38386</td>\n",
       "      <td>39159.0</td>\n",
       "      <td>40246</td>\n",
       "    </tr>\n",
       "    <tr>\n",
       "      <th>7</th>\n",
       "      <td>Russian Federation</td>\n",
       "      <td>8704</td>\n",
       "      <td>10720</td>\n",
       "      <td>11370.0</td>\n",
       "      <td>11584</td>\n",
       "    </tr>\n",
       "    <tr>\n",
       "      <th>8</th>\n",
       "      <td>United States</td>\n",
       "      <td>57927</td>\n",
       "      <td>59957</td>\n",
       "      <td>62840.0</td>\n",
       "      <td>65118</td>\n",
       "    </tr>\n",
       "    <tr>\n",
       "      <th>9</th>\n",
       "      <td>South Africa</td>\n",
       "      <td>5272</td>\n",
       "      <td>6132</td>\n",
       "      <td>6374.0</td>\n",
       "      <td>6001</td>\n",
       "    </tr>\n",
       "  </tbody>\n",
       "</table>\n",
       "</div>"
      ],
      "text/plain": [
       "         Country Name   2016   2017     2018   2019\n",
       "0           Australia  49971  54066  57395.0  54907\n",
       "1               China   8147   8879   9976.0  10261\n",
       "2             Germany  42098  44349  47639.0  46258\n",
       "3              France  37037  38812      NaN  40493\n",
       "4      United Kingdom  41064  40361  43043.0  42300\n",
       "5               India   1732   1981   2005.0   2104\n",
       "6               Japan  38761  38386  39159.0  40246\n",
       "7  Russian Federation   8704  10720  11370.0  11584\n",
       "8       United States  57927  59957  62840.0  65118\n",
       "9        South Africa   5272   6132   6374.0   6001"
      ]
     },
     "execution_count": 1,
     "metadata": {},
     "output_type": "execute_result"
    }
   ],
   "source": [
    "import numpy as np\n",
    "import pandas as pd\n",
    "df = pd.read_csv('gdp_cap_10.csv')\n",
    "df"
   ]
  },
  {
   "cell_type": "markdown",
   "metadata": {},
   "source": [
    "# Problem 1: Calculate 2019 GDP per capita statistics\n",
    "\n",
    "In the following code cell, a list, gdp_cap_2019, is created with 2019 GDP per capita of the 10 countries. Please use methods in the numpy module to calculate the following statistics of the GDP per capita for the 10 countries:\n",
    "- Mean\n",
    "- Median\n",
    "- Maximum\n",
    "- Minimum\n",
    "\n",
    "Print out all statistics."
   ]
  },
  {
   "cell_type": "code",
   "execution_count": 2,
   "metadata": {},
   "outputs": [
    {
     "data": {
      "text/plain": [
       "[54907, 10261, 46258, 40493, 42300, 2104, 40246, 11584, 65118, 6001]"
      ]
     },
     "execution_count": 2,
     "metadata": {},
     "output_type": "execute_result"
    }
   ],
   "source": [
    "# Create a list of GPD per capita of the 10 countries in 2019\n",
    "gdp_cap_2019 = df['2019'].tolist()\n",
    "gdp_cap_2019"
   ]
  },
  {
   "cell_type": "code",
   "execution_count": 3,
   "metadata": {},
   "outputs": [],
   "source": [
    "# Calculate and print statistics below\n"
   ]
  },
  {
   "cell_type": "markdown",
   "metadata": {},
   "source": [
    "# Problem 2: Deal with missing values\n",
    "\n",
    "There are missing values in the Dataframe df. You need to:\n",
    "- Drop rows with missing value and assign the result to **df_drop**.\n",
    "- Fill missing values with column mean and assign the result to **df_fill**.\n",
    "- Do not modify the original DataFrame df.\n",
    "- Display df_drop and df_fill to verify the result.\n"
   ]
  },
  {
   "cell_type": "code",
   "execution_count": 4,
   "metadata": {},
   "outputs": [],
   "source": [
    "# Drop rows with missing values and display result\n"
   ]
  },
  {
   "cell_type": "code",
   "execution_count": 5,
   "metadata": {},
   "outputs": [],
   "source": [
    "# Fill missing values with column mean and display result\n"
   ]
  },
  {
   "cell_type": "markdown",
   "metadata": {},
   "source": [
    "# Problem 3: Select rows from a DataFrame\n",
    "\n",
    "Please select the first 2 rows in the DataFrame df and assign it to variable df_2r. \n",
    "\n",
    "Display df_2r to verify the result.\n"
   ]
  },
  {
   "cell_type": "code",
   "execution_count": 6,
   "metadata": {},
   "outputs": [],
   "source": [
    "# Create df_2r with the first 2 rows in DataFrame df and display df_2r\n"
   ]
  },
  {
   "cell_type": "markdown",
   "metadata": {},
   "source": [
    "# Problem 4: Select columns from a DataFrame\n",
    "\n",
    "Please select the three columns that contain country name, 2016 and 2018 GDP per captia data from the DataFrame df and assign them to variable **df_3c**.\n",
    "\n",
    "Display df_3c to verify the result.\n"
   ]
  },
  {
   "cell_type": "code",
   "execution_count": 7,
   "metadata": {},
   "outputs": [],
   "source": [
    "# Create df_3c with 3 columns from DataFrame df\n"
   ]
  },
  {
   "cell_type": "markdown",
   "metadata": {},
   "source": [
    "# Problem 5: Vectorized operation of a DataFrame\n",
    "\n",
    "The GDP per capita is in US Dollars. Please create a DataFrame df_eur which contains the GDP per capita in Euros.\n",
    "\n",
    "- Select 4 columns, '2016', '2017', '2018', '2019' and assign it to DataFrame df_usd.\n",
    "- Create df_eur from df_usd, assume 1 USD = 0.85 Euro.\n",
    "- Add country name to df_eur with `df_eur['Country Name'] = df['Country Name']`\n",
    "- Display df_eur to verify the result."
   ]
  },
  {
   "cell_type": "code",
   "execution_count": 8,
   "metadata": {},
   "outputs": [],
   "source": [
    "# Create df_eur\n"
   ]
  }
 ],
 "metadata": {
  "kernelspec": {
   "display_name": "Python 3",
   "language": "python",
   "name": "python3"
  },
  "language_info": {
   "codemirror_mode": {
    "name": "ipython",
    "version": 3
   },
   "file_extension": ".py",
   "mimetype": "text/x-python",
   "name": "python",
   "nbconvert_exporter": "python",
   "pygments_lexer": "ipython3",
   "version": "3.8.5"
  }
 },
 "nbformat": 4,
 "nbformat_minor": 4
}
