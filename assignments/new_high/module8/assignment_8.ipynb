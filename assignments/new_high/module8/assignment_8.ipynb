{
 "cells": [
  {
   "cell_type": "markdown",
   "metadata": {},
   "source": [
    "# Module 8 Assignment\n",
    "\n",
    "\n",
    "A few things you should keep in mind when working on assignments:\n",
    "\n",
    "1. Before you submit your assignment, make sure everything runs as expected. Go to the menubar, select Kernel, and Restart & Run all. \n",
    "2. Make sure that you save your work.\n",
    "3. Upload your notebook to Compass.\n",
    "\n",
    "-----"
   ]
  },
  {
   "cell_type": "markdown",
   "metadata": {},
   "source": [
    "# Problem 1: Read a table from sqlite db to a DataFrame\n",
    "\n",
    "- The sqlite database file name is 'm8-high.db'.\n",
    "- Establish a connection, `con`, to the database.\n",
    "- Use pandas read_sql method with database connection represented by `con` to load all data from the table `Courses` and load the result to a DataFrame df_courses.\n",
    "- Display the first 5 rows of df_courses.\n",
    "- Do not close the connection `con`. The connection will be closed at the end of the notebook.\n"
   ]
  },
  {
   "cell_type": "code",
   "execution_count": null,
   "metadata": {},
   "outputs": [],
   "source": []
  },
  {
   "cell_type": "markdown",
   "metadata": {},
   "source": [
    "# Problem 2: Select 500-level courses \n",
    "\n",
    "This problem will use the database connection `con` created in the Problem 1.\n",
    "- Use Pandas read_sql() to load all courses with course_num greater or equal to 500 in `Courses` table to a DataFrame `df_500`.\n",
    "- Display the first 5 rows of `df_500`\n"
   ]
  },
  {
   "cell_type": "code",
   "execution_count": null,
   "metadata": {},
   "outputs": [],
   "source": []
  },
  {
   "cell_type": "markdown",
   "metadata": {},
   "source": [
    "# Problem 3: Select courses with \"data\" in course name\n",
    "\n",
    "This problem will use the database connection `con` created in the Problem 1.\n",
    "\n",
    "- Using Pandas read_sql() to load all courses that have the word \"data\" in `course_name` column. Save the result to DataFrame `df_data`.\n",
    "- Display the `df_data`.\n",
    "\n",
    "**Hint:** Use SQL LIKE operator."
   ]
  },
  {
   "cell_type": "code",
   "execution_count": null,
   "metadata": {},
   "outputs": [],
   "source": []
  },
  {
   "cell_type": "markdown",
   "metadata": {},
   "source": [
    "# Problem 4: Close the database connection\n",
    "\n",
    "- Close the database connection `con` created in the Problem 1.\n"
   ]
  },
  {
   "cell_type": "code",
   "execution_count": null,
   "metadata": {},
   "outputs": [],
   "source": []
  }
 ],
 "metadata": {
  "kernelspec": {
   "display_name": "Python 3",
   "language": "python",
   "name": "python3"
  },
  "language_info": {
   "codemirror_mode": {
    "name": "ipython",
    "version": 3
   },
   "file_extension": ".py",
   "mimetype": "text/x-python",
   "name": "python",
   "nbconvert_exporter": "python",
   "pygments_lexer": "ipython3",
   "version": "3.8.5"
  }
 },
 "nbformat": 4,
 "nbformat_minor": 4
}
