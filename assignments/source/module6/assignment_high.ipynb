{
 "cells": [
  {
   "cell_type": "markdown",
   "metadata": {
    "nbgrader": {
     "grade": false,
     "grade_id": "title",
     "locked": true,
     "schema_version": 3,
     "solution": false
    }
   },
   "source": [
    "# Module 6 Assignment\n",
    "\n",
    "\n",
    "A few things you should keep in mind when working on assignments:\n",
    "\n",
    "1. Run the first code cell to import modules needed by this assignment before proceeding to problems.\n",
    "2. Make sure you fill in any place that says `# YOUR CODE HERE`. Do not write your answer anywhere else other than where it says `# YOUR CODE HERE`. Anything you write elsewhere will be removed or overwritten by the autograder.\n",
    "3. Each problem has an autograder cell below the answer cell. Run the autograder cell to check your answer. If there's anything wrong in your answer, the autograder cell will display error messages.\n",
    "4. Before you submit your assignment, make sure everything runs as expected. Go to the menubar, select Kernel, and Restart & Run all. If the notebook runs through the last code cell without error message, you've answered all problems correctly.\n",
    "5. Make sure that you save your work (in the menubar, select File → Save and CheckPoint).\n",
    "\n",
    "-----"
   ]
  },
  {
   "cell_type": "markdown",
   "metadata": {
    "nbgrader": {
     "grade": false,
     "grade_id": "cell-75e2c7244f51eb7c",
     "locked": true,
     "schema_version": 3,
     "solution": false
    }
   },
   "source": [
    "# Run Me First!"
   ]
  },
  {
   "cell_type": "code",
   "execution_count": 1,
   "metadata": {
    "nbgrader": {
     "grade": false,
     "grade_id": "cell-8ce500800dc20cdb",
     "locked": true,
     "schema_version": 3,
     "solution": false
    }
   },
   "outputs": [],
   "source": [
    "import pandas as pd\n",
    "import numpy as np\n",
    "import matplotlib as mpl\n",
    "import matplotlib.pyplot as plt\n",
    "from nose.tools import assert_equal, assert_almost_equal, assert_is_instance, assert_is_not\n",
    "import seaborn as sns\n",
    "sns.set()\n",
    "import warnings\n",
    "warnings.filterwarnings('ignore')\n",
    "%matplotlib inline\n"
   ]
  },
  {
   "cell_type": "code",
   "execution_count": 2,
   "metadata": {},
   "outputs": [
    {
     "data": {
      "text/html": [
       "<div>\n",
       "<style scoped>\n",
       "    .dataframe tbody tr th:only-of-type {\n",
       "        vertical-align: middle;\n",
       "    }\n",
       "\n",
       "    .dataframe tbody tr th {\n",
       "        vertical-align: top;\n",
       "    }\n",
       "\n",
       "    .dataframe thead th {\n",
       "        text-align: right;\n",
       "    }\n",
       "</style>\n",
       "<table border=\"1\" class=\"dataframe\">\n",
       "  <thead>\n",
       "    <tr style=\"text-align: right;\">\n",
       "      <th></th>\n",
       "      <th>quarter</th>\n",
       "      <th>stock</th>\n",
       "      <th>date</th>\n",
       "      <th>open</th>\n",
       "      <th>high</th>\n",
       "      <th>low</th>\n",
       "      <th>close</th>\n",
       "      <th>volume</th>\n",
       "      <th>percent_change_price</th>\n",
       "      <th>percent_change_volume_over_last_wk</th>\n",
       "      <th>previous_weeks_volume</th>\n",
       "      <th>next_weeks_open</th>\n",
       "      <th>next_weeks_close</th>\n",
       "      <th>percent_change_next_weeks_price</th>\n",
       "      <th>days_to_next_dividend</th>\n",
       "      <th>percent_return_next_dividend</th>\n",
       "    </tr>\n",
       "  </thead>\n",
       "  <tbody>\n",
       "    <tr>\n",
       "      <th>0</th>\n",
       "      <td>1</td>\n",
       "      <td>AA</td>\n",
       "      <td>1/7/2011</td>\n",
       "      <td>15.82</td>\n",
       "      <td>16.72</td>\n",
       "      <td>15.78</td>\n",
       "      <td>16.42</td>\n",
       "      <td>239655616</td>\n",
       "      <td>3.79267</td>\n",
       "      <td>NaN</td>\n",
       "      <td>NaN</td>\n",
       "      <td>16.71</td>\n",
       "      <td>15.97</td>\n",
       "      <td>-4.428490</td>\n",
       "      <td>26</td>\n",
       "      <td>0.182704</td>\n",
       "    </tr>\n",
       "    <tr>\n",
       "      <th>1</th>\n",
       "      <td>1</td>\n",
       "      <td>AA</td>\n",
       "      <td>1/14/2011</td>\n",
       "      <td>16.71</td>\n",
       "      <td>16.71</td>\n",
       "      <td>15.64</td>\n",
       "      <td>15.97</td>\n",
       "      <td>242963398</td>\n",
       "      <td>-4.42849</td>\n",
       "      <td>1.380223</td>\n",
       "      <td>239655616.0</td>\n",
       "      <td>16.19</td>\n",
       "      <td>15.79</td>\n",
       "      <td>-2.470660</td>\n",
       "      <td>19</td>\n",
       "      <td>0.187852</td>\n",
       "    </tr>\n",
       "    <tr>\n",
       "      <th>2</th>\n",
       "      <td>1</td>\n",
       "      <td>AA</td>\n",
       "      <td>1/21/2011</td>\n",
       "      <td>16.19</td>\n",
       "      <td>16.38</td>\n",
       "      <td>15.60</td>\n",
       "      <td>15.79</td>\n",
       "      <td>138428495</td>\n",
       "      <td>-2.47066</td>\n",
       "      <td>-43.024959</td>\n",
       "      <td>242963398.0</td>\n",
       "      <td>15.87</td>\n",
       "      <td>16.13</td>\n",
       "      <td>1.638310</td>\n",
       "      <td>12</td>\n",
       "      <td>0.189994</td>\n",
       "    </tr>\n",
       "    <tr>\n",
       "      <th>3</th>\n",
       "      <td>1</td>\n",
       "      <td>AA</td>\n",
       "      <td>1/28/2011</td>\n",
       "      <td>15.87</td>\n",
       "      <td>16.63</td>\n",
       "      <td>15.82</td>\n",
       "      <td>16.13</td>\n",
       "      <td>151379173</td>\n",
       "      <td>1.63831</td>\n",
       "      <td>9.355500</td>\n",
       "      <td>138428495.0</td>\n",
       "      <td>16.18</td>\n",
       "      <td>17.14</td>\n",
       "      <td>5.933250</td>\n",
       "      <td>5</td>\n",
       "      <td>0.185989</td>\n",
       "    </tr>\n",
       "    <tr>\n",
       "      <th>4</th>\n",
       "      <td>1</td>\n",
       "      <td>AA</td>\n",
       "      <td>2/4/2011</td>\n",
       "      <td>16.18</td>\n",
       "      <td>17.39</td>\n",
       "      <td>16.18</td>\n",
       "      <td>17.14</td>\n",
       "      <td>154387761</td>\n",
       "      <td>5.93325</td>\n",
       "      <td>1.987452</td>\n",
       "      <td>151379173.0</td>\n",
       "      <td>17.33</td>\n",
       "      <td>17.37</td>\n",
       "      <td>0.230814</td>\n",
       "      <td>97</td>\n",
       "      <td>0.175029</td>\n",
       "    </tr>\n",
       "  </tbody>\n",
       "</table>\n",
       "</div>"
      ],
      "text/plain": [
       "   quarter stock       date   open   high    low  close     volume  \\\n",
       "0        1    AA   1/7/2011  15.82  16.72  15.78  16.42  239655616   \n",
       "1        1    AA  1/14/2011  16.71  16.71  15.64  15.97  242963398   \n",
       "2        1    AA  1/21/2011  16.19  16.38  15.60  15.79  138428495   \n",
       "3        1    AA  1/28/2011  15.87  16.63  15.82  16.13  151379173   \n",
       "4        1    AA   2/4/2011  16.18  17.39  16.18  17.14  154387761   \n",
       "\n",
       "   percent_change_price  percent_change_volume_over_last_wk  \\\n",
       "0               3.79267                                 NaN   \n",
       "1              -4.42849                            1.380223   \n",
       "2              -2.47066                          -43.024959   \n",
       "3               1.63831                            9.355500   \n",
       "4               5.93325                            1.987452   \n",
       "\n",
       "   previous_weeks_volume  next_weeks_open  next_weeks_close  \\\n",
       "0                    NaN            16.71             15.97   \n",
       "1            239655616.0            16.19             15.79   \n",
       "2            242963398.0            15.87             16.13   \n",
       "3            138428495.0            16.18             17.14   \n",
       "4            151379173.0            17.33             17.37   \n",
       "\n",
       "   percent_change_next_weeks_price  days_to_next_dividend  \\\n",
       "0                        -4.428490                     26   \n",
       "1                        -2.470660                     19   \n",
       "2                         1.638310                     12   \n",
       "3                         5.933250                      5   \n",
       "4                         0.230814                     97   \n",
       "\n",
       "   percent_return_next_dividend  \n",
       "0                      0.182704  \n",
       "1                      0.187852  \n",
       "2                      0.189994  \n",
       "3                      0.185989  \n",
       "4                      0.175029  "
      ]
     },
     "execution_count": 2,
     "metadata": {},
     "output_type": "execute_result"
    }
   ],
   "source": [
    "#Make sure the Dow Jones data is loaded in\n",
    "df = pd.read_csv('./data/dow_jones_index.data')\n",
    "df.head()"
   ]
  },
  {
   "cell_type": "markdown",
   "metadata": {
    "nbgrader": {
     "grade": false,
     "grade_id": "cell-ce1d5832983b1be5",
     "locked": true,
     "schema_version": 3,
     "solution": false
    }
   },
   "source": [
    "# Problem 1: Create a boxplot of the opening stock price for a given stock.\n",
    "\n",
    "In this prolblem you will create a boxplot to view the distribution of the opening price for a given stock from the Dow Jones dataset.\n",
    "\n",
    "- Write a function called \"open_boxplot\" which takes in a dataframe and the ticker name of a stock and outputs a boxplot of that stocks opening price.\n",
    "\n",
    "\n",
    "- Use the seaborn module to create the boxplot\n",
    "\n",
    "\n",
    "- Give the plot a descriptive title\n",
    "\n",
    "\n",
    "- Give the plot a descriptive x-axis label\n",
    "\n",
    "\n",
    "- Do *NOT* give the plot a y-axis label."
   ]
  },
  {
   "cell_type": "code",
   "execution_count": 3,
   "metadata": {
    "nbgrader": {
     "grade": false,
     "grade_id": "p1-answer",
     "locked": false,
     "schema_version": 3,
     "solution": true
    }
   },
   "outputs": [],
   "source": [
    "def open_boxplot(df,ticker_name):\n",
    "    '''\n",
    "    A function which creates a boxplot of the opening price from the Dow Jones data.\n",
    "        \n",
    "    Parameters\n",
    "    -------\n",
    "    df: a pandas dataframe containing stock price data from the Dow Jones dataset\n",
    "    \n",
    "    ticker_name: the ticker name of the stock of interest\n",
    "        \n",
    "    Returns\n",
    "    --------\n",
    "    \n",
    "    ax: a matplotlib axes object containing a boxplot of the stock's opening prices from the Dow Jones dataset    \n",
    "    '''\n",
    "\n",
    "    ### BEGIN SOLUTION###\n",
    "    subset = df[df['stock']==ticker_name]\n",
    "    ax = sns.boxplot(x=subset['open'])\n",
    "\n",
    "    # Set x-axis length and label\n",
    "    ax.set_xlabel('Price', fontsize=14)\n",
    "\n",
    "    # Title the plot\n",
    "    ax.set_title('Boxplot of opening Price')\n",
    "    ###END SOLUTION###\n",
    "    \n",
    "    return ax"
   ]
  },
  {
   "cell_type": "markdown",
   "metadata": {
    "nbgrader": {
     "grade": false,
     "grade_id": "cell-e8e494a2a6c04669",
     "locked": true,
     "schema_version": 3,
     "solution": false
    }
   },
   "source": [
    "Below we again look at the stock for Alcoa Corp (ticker name: AA)"
   ]
  },
  {
   "cell_type": "code",
   "execution_count": 4,
   "metadata": {
    "nbgrader": {
     "grade": false,
     "grade_id": "cell-a10f29ed000fa3b0",
     "locked": true,
     "schema_version": 3,
     "solution": false
    }
   },
   "outputs": [
    {
     "data": {
      "image/png": "[encoded data removed]",
      "text/plain": [
       "<Figure size 432x288 with 1 Axes>"
      ]
     },
     "metadata": {
      "needs_background": "light"
     },
     "output_type": "display_data"
    }
   ],
   "source": [
    "my_boxplot = open_boxplot(df,'AA')\n",
    "plt.show()\n",
    "plt.close()"
   ]
  },
  {
   "cell_type": "code",
   "execution_count": 5,
   "metadata": {
    "nbgrader": {
     "grade": true,
     "grade_id": "p1-test",
     "locked": true,
     "points": 1,
     "schema_version": 3,
     "solution": false
    }
   },
   "outputs": [],
   "source": [
    "assert_is_instance(my_boxplot, mpl.axes.Axes, msg='Return a matplotlib axes object.')  \n",
    "assert_is_not(len(my_boxplot.title.get_text()), 0, msg=\"Your plot doesn't have a title.\")\n",
    "assert_is_not(my_boxplot.xaxis.get_label_text(), '', msg=\"Change the x-axis label to something more descriptive.\")\n",
    "assert_equal(my_boxplot.yaxis.get_label_text(), '', msg=\"The y-axis should not have a label.\")\n",
    "assert_equal(my_boxplot.get_data_ratio(),0.2681684097613303,\n",
    "             msg=\"The function seems to be using the wrong ticker name\")"
   ]
  },
  {
   "cell_type": "markdown",
   "metadata": {
    "nbgrader": {
     "grade": false,
     "grade_id": "cell-598fa657cd84f2aa",
     "locked": true,
     "schema_version": 3,
     "solution": false
    }
   },
   "source": [
    "# Problem 2:  Plot the distribution of days until next dividend.\n",
    "\n",
    "In this problem you will create a rugplot of days until next dividend for all the dow jones stocks in the dataset.\n",
    "\n",
    "- Use the seaborn module to create the the rugplot\n",
    "\n",
    "\n",
    "- Give the plot a descriptive title\n",
    "\n",
    "\n",
    "- Give the plot a descriptive x-axis label\n",
    "\n",
    "\n",
    "- Do *NOT* give the plot a y-axis label."
   ]
  },
  {
   "cell_type": "code",
   "execution_count": 6,
   "metadata": {
    "nbgrader": {
     "grade": false,
     "grade_id": "p2-answer",
     "locked": false,
     "schema_version": 3,
     "solution": true
    }
   },
   "outputs": [],
   "source": [
    "def rug_plot(df):\n",
    "    '''\n",
    "    A function which creates a rugplot of the days until next dividend from the Dow Jones data.\n",
    "        \n",
    "    Parameters\n",
    "    -------\n",
    "    df: a pandas dataframe containing stock price data from the Dow Jones dataset    \n",
    "    \n",
    "    Returns\n",
    "    --------\n",
    "    \n",
    "    ax: a matplotlib axes object containing a rugplot of the days to next dividend for all stocks in the \n",
    "        Dow Jones dataset    \n",
    "    '''\n",
    "        \n",
    "    ### BEGIN SOLUTION###\n",
    "    #fig, ax = plt.subplots(figsize=(10, 1.5))\n",
    "    #sns.rugplot(ax=ax, a=df['days_to_next_dividend'], height=0.25, lw=0.5, color = sns.xkcd_rgb[\"pale red\"]) ;\n",
    "    ax = sns.rugplot(a=df['days_to_next_dividend'], height=0.25, lw=0.5, color = sns.xkcd_rgb[\"pale red\"]) ;\n",
    "    #ax.set_yticks([])\n",
    "    ax.set_xlabel('Days', fontsize=14)\n",
    "    ax.set_title('Rug Plot (Days Until Next Dividend)', fontsize=14)\n",
    "    # sns.despine(ax=ax, left=True, offset=2, trim=True)\n",
    "    ### END SOLUTION###\n",
    "    \n",
    "    return ax"
   ]
  },
  {
   "cell_type": "code",
   "execution_count": 7,
   "metadata": {
    "nbgrader": {
     "grade": false,
     "grade_id": "cell-6f5d27cfc8a355ea",
     "locked": true,
     "schema_version": 3,
     "solution": false
    }
   },
   "outputs": [
    {
     "data": {
      "image/png": "[encoded data removed]",
      "text/plain": [
       "<Figure size 432x288 with 1 Axes>"
      ]
     },
     "metadata": {
      "needs_background": "light"
     },
     "output_type": "display_data"
    }
   ],
   "source": [
    "rp = rug_plot(df)\n",
    "plt.show()\n",
    "plt.close()"
   ]
  },
  {
   "cell_type": "code",
   "execution_count": 8,
   "metadata": {
    "nbgrader": {
     "grade": true,
     "grade_id": "p2-test",
     "locked": true,
     "points": 1,
     "schema_version": 3,
     "solution": false
    }
   },
   "outputs": [],
   "source": [
    "assert_is_instance(rp, mpl.axes.Axes, msg='Return a matplotlib axes object.')  \n",
    "assert_is_not(len(rp.title.get_text()), 0, msg=\"Your plot doesn't have a title.\")\n",
    "assert_is_not(rp.xaxis.get_label_text(), '', msg=\"Change the x-axis label to something more descriptive.\")\n",
    "assert_equal(rp.yaxis.get_label_text(), '', msg=\"The y-axis should not have a label.\")\n",
    "assert_almost_equal(rp.get_data_ratio(),0.0027056, places=3,\n",
    "            msg=\"The function is likely plotting the wrong data\")"
   ]
  },
  {
   "cell_type": "markdown",
   "metadata": {
    "nbgrader": {
     "grade": false,
     "grade_id": "cell-5e9d917cd331cd07",
     "locked": true,
     "schema_version": 3,
     "solution": false
    }
   },
   "source": [
    "# Problem 3: Comparing Dow Jones Index values\n",
    "\n",
    "\n",
    "In this problem you will create a comparitive histogram to compare the distribution of the opening price of a stock and the distribution of the following weeks opening price of a stock.\n",
    "\n",
    "- Create a 1-d Comparitive Histogram (**side-by-side**) of the columns *open* and *next_weeks_open* from the Dow Jones dataset so that we can compare the current week's opening price to next week's opening price.\n",
    "\n",
    "- Use default bin number(donot set bins)\n",
    "\n",
    "- Create a label for the y axis and the x axis\n",
    "\n",
    "- Set a title for your plot\n",
    "\n",
    "- Create a legend so that we know which bars correspond to the current weeks open vs. next weeks open.\n",
    "\n",
    "\n"
   ]
  },
  {
   "cell_type": "code",
   "execution_count": 9,
   "metadata": {
    "nbgrader": {
     "grade": false,
     "grade_id": "p3-answer",
     "locked": false,
     "schema_version": 3,
     "solution": true
    }
   },
   "outputs": [],
   "source": [
    "def plot_compare_hist(df):\n",
    "    '''\n",
    "    A function which plots a comparative histogram to compare the current weeks opening price and \n",
    "    the next weeks opening price from the Dow Jones data.\n",
    "        \n",
    "    Parameters\n",
    "    -------\n",
    "    df: a pandas dataframe containing stock price data from the Dow Jones dataset\n",
    "        \n",
    "    Returns\n",
    "    --------\n",
    "    \n",
    "    ax: a matplotlib axes object containing a comparative histogram of the open colum and next_weeks_open column from\n",
    "        the Dow Jones dataset    \n",
    "    '''\n",
    "        \n",
    "    ### BEGIN SOLUTION\n",
    "    fig, ax = plt.subplots()\n",
    "    \n",
    "    #ax.hist(df[['next_weeks_open','open']].as_matrix(), histtype='bar', label=('Open', 'Next Weeks Open'), alpha=0.5)\n",
    "    ax.hist([df['next_weeks_open'],df['open']], histtype='bar', label=('Open', 'Next Weeks Open'), alpha=0.5)\n",
    "    ax.legend(fontsize=14)\n",
    "\n",
    "    ax.set_ylabel('Frequency', fontsize=14)\n",
    "    ax.set_xlabel('Open Stock', fontsize=14)\n",
    "    ax.set_title('Rug Plot (Days Until Next Dividend)', fontsize=14)\n",
    "    ### END SOLUTION\n",
    "    \n",
    "    return ax"
   ]
  },
  {
   "cell_type": "code",
   "execution_count": 10,
   "metadata": {
    "nbgrader": {
     "grade": false,
     "grade_id": "cell-d4ad3ff2cba115c2",
     "locked": true,
     "schema_version": 3,
     "solution": false
    }
   },
   "outputs": [
    {
     "data": {
      "image/png": "[encoded data removed]",
      "text/plain": [
       "<Figure size 432x288 with 1 Axes>"
      ]
     },
     "metadata": {
      "needs_background": "light"
     },
     "output_type": "display_data"
    }
   ],
   "source": [
    "ch = plot_compare_hist(df)"
   ]
  },
  {
   "cell_type": "code",
   "execution_count": 11,
   "metadata": {
    "nbgrader": {
     "grade": true,
     "grade_id": "p3-test",
     "locked": true,
     "points": 1,
     "schema_version": 3,
     "solution": false
    }
   },
   "outputs": [],
   "source": [
    "assert_is_instance(ch, mpl.axes.Axes, msg='Return an axes object.')  \n",
    "assert_is_not(len(ch.title.get_text()), 0, msg=\"Your plot doesn't have a title.\")\n",
    "assert_is_not(ch.xaxis.get_label_text(), '', msg=\"Change the x-axis label to something more descriptive.\")\n",
    "assert_is_not(ch.yaxis.get_label_text(), '', msg=\"Change the y-axis label to something more descriptive.\")\n",
    "assert_is_instance(ch.legend_, mpl.legend.Legend, msg=\"Your plot doesn't have a Legend\")\n",
    "assert_equal(ch.patches[0].get_bbox().get_points()[0][0],12.1359,\n",
    "             msg=\"The number of bins may not be correct, or the function is using the wrong ticker name\")\n",
    "assert_equal(ch.patches[0].get_bbox().get_points()[1][0],18.5995,\n",
    "             msg=\"The number of bins may not be correct, or the function is using the wrong ticker name\")"
   ]
  },
  {
   "cell_type": "markdown",
   "metadata": {
    "nbgrader": {
     "grade": false,
     "grade_id": "cell-f433f1f33a665626",
     "locked": true,
     "schema_version": 3,
     "solution": false
    }
   },
   "source": [
    "# Problem 4:  Plot horizontal barplot on average stock volume\n",
    "\n",
    "- Use the seaborn barplot function to plot a **horizontal** bar plot on average stock volume. The y-axis should be stock symbols and the x-axis is average trading volume.\n",
    "\n",
    "- Set figsize to (10, 8)\n",
    "\n",
    "- Use the seaborn module to create the barplot\n",
    "\n",
    "- Turn off confidence interval line\n",
    "\n",
    "- Give the plot a descriptive title\n"
   ]
  },
  {
   "cell_type": "code",
   "execution_count": 12,
   "metadata": {
    "nbgrader": {
     "grade": false,
     "grade_id": "p4-answer",
     "locked": false,
     "schema_version": 3,
     "solution": true
    }
   },
   "outputs": [],
   "source": [
    "def plot_stock_volume(df):\n",
    "    '''\n",
    "    A  function to plot a horizontal bar plot on average stock volume. \n",
    "    \n",
    "    Parameters\n",
    "    -------\n",
    "    df: a pandas dataframe containing stock price data from the Dow Jones dataset    \n",
    "    \n",
    "    Returns\n",
    "    --------\n",
    "    \n",
    "    ax: a matplotlib axes object containing a barplot of the average stock volume    \n",
    "    '''\n",
    "    \n",
    "    ### BEGIN SOLUTION###\n",
    "    fig, ax = plt.subplots(figsize=(10, 8))\n",
    "    ax = sns.barplot(x='volume', y='stock', data=df, ci=None)\n",
    "    ax.set_title('Average Volume', fontsize=14)\n",
    "    ### END SOLUTION###\n",
    "    \n",
    "    return ax"
   ]
  },
  {
   "cell_type": "code",
   "execution_count": 13,
   "metadata": {
    "nbgrader": {
     "grade": false,
     "grade_id": "cell-85096762eabb7962",
     "locked": true,
     "schema_version": 3,
     "solution": false
    }
   },
   "outputs": [
    {
     "data": {
      "image/png": "[encoded data removed]",
      "text/plain": [
       "<Figure size 720x576 with 1 Axes>"
      ]
     },
     "metadata": {
      "needs_background": "light"
     },
     "output_type": "display_data"
    }
   ],
   "source": [
    "sv = plot_stock_volume(df)\n",
    "plt.show()\n",
    "plt.close()"
   ]
  },
  {
   "cell_type": "code",
   "execution_count": 14,
   "metadata": {
    "nbgrader": {
     "grade": true,
     "grade_id": "p4-test",
     "locked": true,
     "points": 1,
     "schema_version": 3,
     "solution": false
    }
   },
   "outputs": [],
   "source": [
    "assert_is_instance(sv, mpl.axes.Axes, msg='Return a matplotlib axes object.')  \n",
    "assert_is_not(len(sv.title.get_text()), 0, msg=\"Your plot doesn't have a title.\")\n",
    "assert_almost_equal(sv.get_data_ratio(),3.9517929090328074e-08, places=3,\n",
    "             msg=\"The function is plotting the wrong data or your plot is not a horizontal bar plot.\")"
   ]
  },
  {
   "cell_type": "markdown",
   "metadata": {
    "nbgrader": {
     "grade": false,
     "grade_id": "cell-01389beb48257774",
     "locked": true,
     "schema_version": 3,
     "solution": false
    }
   },
   "source": [
    "# Problem 5: Comparing the current week's open to next week's open.\n",
    "\n",
    "Use matplotlib to plot scatter plot on open and next week's open for a particular stock.\n",
    "\n",
    "- Create scatter plot on open and next week's open for a particular stock.\n",
    "\n",
    "- The *open* variable should be on the x-axis\n",
    "\n",
    "- The *next week's open* variable should be on the y-axis\n",
    "\n",
    "- Create a label for the y axis and the x axis\n",
    "\n",
    "- Set a title for your plot\n"
   ]
  },
  {
   "cell_type": "code",
   "execution_count": 15,
   "metadata": {
    "nbgrader": {
     "grade": false,
     "grade_id": "p5-answer",
     "locked": false,
     "schema_version": 3,
     "solution": true
    }
   },
   "outputs": [],
   "source": [
    "def plot_scatter_plot(df, ticker_name):\n",
    "    '''\n",
    "    A function which plots scatter plot on open and next week's open for a particular stock.\n",
    "        \n",
    "    Parameters\n",
    "    -------\n",
    "    df: a pandas dataframe containing stock price data\n",
    "    ticker_name: stock to plot\n",
    "    \n",
    "    Returns\n",
    "    --------\n",
    "    \n",
    "    ax: a matplotlib axes object containing a scatter plot\n",
    "    '''\n",
    "        \n",
    "    ### BEGIN SOLUTION\n",
    "    fig, ax = plt.subplots()\n",
    "\n",
    "    # Plot data\n",
    "    ax.scatter(df[df.stock==ticker_name].open, df[df.stock==ticker_name].next_weeks_open)\n",
    "\n",
    "    # Set our axis labels and title\n",
    "    ax.set_xlabel(\"Open price\", fontsize=14)\n",
    "    ax.set_ylabel(\"Next weeks open\", fontsize=14)\n",
    "    ax.set_title(\"Open and Next Weeks Open Price Comparison\", fontsize=18)\n",
    "\n",
    "    #sns.despine(offset=2, trim=True)\n",
    "    ### END SOLUTION\n",
    "    \n",
    "    return ax"
   ]
  },
  {
   "cell_type": "code",
   "execution_count": 16,
   "metadata": {
    "nbgrader": {
     "grade": false,
     "grade_id": "cell-34b40d8f2fe0cc32",
     "locked": true,
     "schema_version": 3,
     "solution": false
    }
   },
   "outputs": [
    {
     "data": {
      "image/png": "[encoded data removed]",
      "text/plain": [
       "<Figure size 432x288 with 1 Axes>"
      ]
     },
     "metadata": {
      "needs_background": "light"
     },
     "output_type": "display_data"
    }
   ],
   "source": [
    "cb = plot_scatter_plot(df, 'IBM')"
   ]
  },
  {
   "cell_type": "code",
   "execution_count": 17,
   "metadata": {
    "nbgrader": {
     "grade": true,
     "grade_id": "p5-test",
     "locked": true,
     "points": 1,
     "schema_version": 3,
     "solution": false
    }
   },
   "outputs": [],
   "source": [
    "assert_is_instance(cb, mpl.axes.Axes, msg='Return a matplotlib axes object.')  \n",
    "assert_is_not(len(cb.title.get_text()), 0, msg=\"Your plot doesn't have a title.\")\n",
    "assert_is_not(cb.xaxis.get_label_text(), '', msg=\"Change the x-axis label to something more descriptive.\")\n",
    "assert_is_not(cb.yaxis.get_label_text(), '', msg=\"Change the y-axis label to something more descriptive.\")\n",
    "assert_almost_equal(cb.get_data_ratio(),1, places=2,\n",
    "             msg=\"The function is either plotting the wrong columns or wrong stock.\")"
   ]
  }
 ],
 "metadata": {
  "kernelspec": {
   "display_name": "Python 3",
   "language": "python",
   "name": "python3"
  },
  "language_info": {
   "codemirror_mode": {
    "name": "ipython",
    "version": 3
   },
   "file_extension": ".py",
   "mimetype": "text/x-python",
   "name": "python",
   "nbconvert_exporter": "python",
   "pygments_lexer": "ipython3",
   "version": "3.7.3"
  }
 },
 "nbformat": 4,
 "nbformat_minor": 2
}
