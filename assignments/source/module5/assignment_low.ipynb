{
 "cells": [
  {
   "cell_type": "markdown",
   "metadata": {
    "nbgrader": {
     "grade": false,
     "grade_id": "header",
     "locked": true,
     "schema_version": 3,
     "solution": false
    }
   },
   "source": [
    "# Module 5 Assignment \n",
    "\n",
    "A few things you should keep in mind when working on assignments:\n",
    "\n",
    "1. Run the first code cell to import modules needed by this assignment before proceeding to problems.\n",
    "2. Make sure you fill in any place that says `# YOUR CODE HERE`. Do not write your answer anywhere else other than where it says `# YOUR CODE HERE`. Anything you write elsewhere will be removed or overwritten by the autograder.\n",
    "3. Each problem has an autograder cell below the answer cell. Run the autograder cell to check your answer. If there's anything wrong in your answer, the autograder cell will display error messages.\n",
    "4. Before you submit your assignment, make sure everything runs as expected. Go to the menubar, select Kernel, and Restart & Run all. If the notebook runs through the last code cell without error message, you've answered all problems correctly.\n",
    "5. Make sure that you save your work (in the menubar, select File → Save and CheckPoint).\n",
    "\n",
    "-----"
   ]
  },
  {
   "cell_type": "markdown",
   "metadata": {
    "nbgrader": {
     "grade": false,
     "grade_id": "cell-1577f06095d05bbf",
     "locked": true,
     "schema_version": 3,
     "solution": false
    }
   },
   "source": [
    "# Run Me First!"
   ]
  },
  {
   "cell_type": "code",
   "execution_count": 1,
   "metadata": {
    "nbgrader": {
     "grade": false,
     "grade_id": "import",
     "locked": true,
     "schema_version": 3,
     "solution": false
    }
   },
   "outputs": [],
   "source": [
    "import pandas as pd\n",
    "import numpy as np\n",
    "\n",
    "from nose.tools import assert_equal, assert_true, assert_false\n",
    "from numpy.testing import assert_array_almost_equal, assert_array_equal\n"
   ]
  },
  {
   "cell_type": "markdown",
   "metadata": {
    "nbgrader": {
     "grade": false,
     "grade_id": "prob1_desc",
     "locked": true,
     "schema_version": 3,
     "solution": false
    }
   },
   "source": [
    "# Problem 1: Read in a dataset\n",
    "\n",
    "For this problem you will read in a dataset using pandas. In the cell below, the function *read_data* has parameter \"file_path\" which contains a path to a dataset.\n",
    "- Use the *read_csv* function from pandas to read in the dataset from the file path and return the resulting dataframe."
   ]
  },
  {
   "cell_type": "code",
   "execution_count": 2,
   "metadata": {
    "nbgrader": {
     "grade": false,
     "grade_id": "prob1_ans",
     "locked": false,
     "schema_version": 3,
     "solution": true
    }
   },
   "outputs": [],
   "source": [
    "def read_data(file_path):\n",
    "    '''\n",
    "    Reads in a dataset using pandas.\n",
    "    \n",
    "    Parameters\n",
    "    ----------\n",
    "    file_path : string containing path to a file\n",
    "    \n",
    "    Returns\n",
    "    -------\n",
    "    pandas dataframe with data read in from the file path\n",
    "    '''\n",
    "    ### BEGIN SOLUTION\n",
    "    df = pd.read_csv(file_path)\n",
    "    return df\n",
    "    ### END SOLUTION\n"
   ]
  },
  {
   "cell_type": "code",
   "execution_count": 3,
   "metadata": {
    "nbgrader": {
     "grade": true,
     "grade_id": "prob1_test",
     "locked": true,
     "points": 1,
     "schema_version": 3,
     "solution": false
    }
   },
   "outputs": [
    {
     "name": "stdout",
     "output_type": "stream",
     "text": [
      "2 random rows of the dow jones dataset:\n"
     ]
    },
    {
     "data": {
      "text/html": [
       "<div>\n",
       "<style scoped>\n",
       "    .dataframe tbody tr th:only-of-type {\n",
       "        vertical-align: middle;\n",
       "    }\n",
       "\n",
       "    .dataframe tbody tr th {\n",
       "        vertical-align: top;\n",
       "    }\n",
       "\n",
       "    .dataframe thead th {\n",
       "        text-align: right;\n",
       "    }\n",
       "</style>\n",
       "<table border=\"1\" class=\"dataframe\">\n",
       "  <thead>\n",
       "    <tr style=\"text-align: right;\">\n",
       "      <th></th>\n",
       "      <th>quarter</th>\n",
       "      <th>stock</th>\n",
       "      <th>date</th>\n",
       "      <th>open</th>\n",
       "      <th>high</th>\n",
       "      <th>low</th>\n",
       "      <th>close</th>\n",
       "      <th>volume</th>\n",
       "      <th>percent_change_price</th>\n",
       "      <th>percent_change_volume_over_last_wk</th>\n",
       "      <th>previous_weeks_volume</th>\n",
       "      <th>next_weeks_open</th>\n",
       "      <th>next_weeks_close</th>\n",
       "      <th>percent_change_next_weeks_price</th>\n",
       "      <th>days_to_next_dividend</th>\n",
       "      <th>percent_return_next_dividend</th>\n",
       "    </tr>\n",
       "  </thead>\n",
       "  <tbody>\n",
       "    <tr>\n",
       "      <th>675</th>\n",
       "      <td>2</td>\n",
       "      <td>T</td>\n",
       "      <td>4/21/2011</td>\n",
       "      <td>30.42</td>\n",
       "      <td>30.68</td>\n",
       "      <td>29.91</td>\n",
       "      <td>30.68</td>\n",
       "      <td>76563904</td>\n",
       "      <td>0.854701</td>\n",
       "      <td>-29.160236</td>\n",
       "      <td>108080405.0</td>\n",
       "      <td>30.67</td>\n",
       "      <td>31.12</td>\n",
       "      <td>1.46723</td>\n",
       "      <td>76</td>\n",
       "      <td>1.401560</td>\n",
       "    </tr>\n",
       "    <tr>\n",
       "      <th>597</th>\n",
       "      <td>2</td>\n",
       "      <td>MCD</td>\n",
       "      <td>4/21/2011</td>\n",
       "      <td>76.89</td>\n",
       "      <td>78.41</td>\n",
       "      <td>76.40</td>\n",
       "      <td>76.91</td>\n",
       "      <td>17718174</td>\n",
       "      <td>0.026011</td>\n",
       "      <td>-18.239089</td>\n",
       "      <td>21670715.0</td>\n",
       "      <td>77.15</td>\n",
       "      <td>78.31</td>\n",
       "      <td>1.50356</td>\n",
       "      <td>36</td>\n",
       "      <td>0.793135</td>\n",
       "    </tr>\n",
       "  </tbody>\n",
       "</table>\n",
       "</div>"
      ],
      "text/plain": [
       "     quarter stock       date   open   high    low  close    volume  \\\n",
       "675        2     T  4/21/2011  30.42  30.68  29.91  30.68  76563904   \n",
       "597        2   MCD  4/21/2011  76.89  78.41  76.40  76.91  17718174   \n",
       "\n",
       "     percent_change_price  percent_change_volume_over_last_wk  \\\n",
       "675              0.854701                          -29.160236   \n",
       "597              0.026011                          -18.239089   \n",
       "\n",
       "     previous_weeks_volume  next_weeks_open  next_weeks_close  \\\n",
       "675            108080405.0            30.67             31.12   \n",
       "597             21670715.0            77.15             78.31   \n",
       "\n",
       "     percent_change_next_weeks_price  days_to_next_dividend  \\\n",
       "675                          1.46723                     76   \n",
       "597                          1.50356                     36   \n",
       "\n",
       "     percent_return_next_dividend  \n",
       "675                      1.401560  \n",
       "597                      0.793135  "
      ]
     },
     "execution_count": 3,
     "metadata": {},
     "output_type": "execute_result"
    }
   ],
   "source": [
    "df = read_data('data/dow_jones_index.data')\n",
    "assert_equal(len(df), 750, msg=\"The dataset should have 750 rows. Your solution only has %s\"%len(df))\n",
    "assert_equal(set(df.columns.tolist()), set(['quarter', 'stock', 'date', 'open', 'high', 'low', 'close',\n",
    "                                            'volume', 'percent_change_price', 'percent_change_volume_over_last_wk',\n",
    "                                            'previous_weeks_volume', 'next_weeks_open', 'next_weeks_close',\n",
    "                                            'percent_change_next_weeks_price', 'days_to_next_dividend',\n",
    "                                            'percent_return_next_dividend']), \n",
    "             msg=\"Your column names do not match the solutions\")\n",
    "\n",
    "ans = df.head().values.tolist()\n",
    "sol = [[1, 'AA', '1/7/2011', 15.82, 16.72, 15.78, 16.42, 239655616, 3.7926699999999998, np.nan, np.nan,\n",
    "        16.71, 15.97, -4.42849, 26, 0.182704],\n",
    "       [1, 'AA', '1/14/2011', 16.71, 16.71, 15.64, 15.97, 242963398, -4.42849, 1.380223028, 239655616.0,\n",
    "        16.19, 15.79, -2.4706599999999996, 19, 0.187852],\n",
    "       [1, 'AA', '1/21/2011', 16.19, 16.38, 15.6, 15.79, 138428495, -2.4706599999999996, -43.02495926,\n",
    "        242963398.0, 15.87, 16.13, 1.63831, 12, 0.189994],\n",
    "       [1, 'AA', '1/28/2011', 15.87, 16.63, 15.82, 16.13, 151379173, 1.63831, 9.355500109, 138428495.0,\n",
    "        16.18, 17.14, 5.93325, 5, 0.18598900000000002],\n",
    "       [1, 'AA', '2/4/2011', 16.18, 17.39, 16.18, 17.14, 154387761, 5.93325, 1.987451735, 151379173.0,\n",
    "        17.33, 17.37, 0.230814, 97, 0.175029]]\n",
    "\n",
    "assert_array_equal(ans, sol, err_msg=\"Your answer does not match the solution.\")\n",
    "\n",
    "print(\"2 random rows of the dow jones dataset:\")\n",
    "df.sample(2)"
   ]
  },
  {
   "cell_type": "markdown",
   "metadata": {
    "nbgrader": {
     "grade": false,
     "grade_id": "prob2_desc",
     "locked": true,
     "schema_version": 3,
     "solution": false
    }
   },
   "source": [
    "# Problem 2: Selecting first n rows of a dataframe\n",
    "\n",
    "In the code cell below the function *get_head_rows* accepts 2 parameters *df* which is a dataframe and *n* which is an integer.\n",
    "\n",
    "For this problem:\n",
    "- Return first *n* rows of _df_"
   ]
  },
  {
   "cell_type": "code",
   "execution_count": 4,
   "metadata": {
    "nbgrader": {
     "grade": false,
     "grade_id": "prob2_ans",
     "locked": false,
     "schema_version": 3,
     "solution": true
    }
   },
   "outputs": [],
   "source": [
    "def get_head_rows(df, n):\n",
    "    '''    \n",
    "    Parameters\n",
    "    ----------\n",
    "    df: pandas DataFrame\n",
    "    n: integer\n",
    "    Returns\n",
    "    -------\n",
    "    returns first n rows of df\n",
    "    '''\n",
    "    ### BEGIN SOLUTION\n",
    "    return df.head(n)\n",
    "    ### END SOLUTION\n"
   ]
  },
  {
   "cell_type": "code",
   "execution_count": 5,
   "metadata": {
    "nbgrader": {
     "grade": true,
     "grade_id": "prob2_test",
     "locked": true,
     "points": 1,
     "schema_version": 3,
     "solution": false
    }
   },
   "outputs": [],
   "source": [
    "assert_equal(get_head_rows(df, 3).shape[0], 3, msg=\"You did not return first 3 rows\")\n",
    "assert_equal(get_head_rows(df, 4).shape[0], 4, msg=\"You did not return first 4 rows\")\n"
   ]
  },
  {
   "cell_type": "markdown",
   "metadata": {
    "nbgrader": {
     "grade": false,
     "grade_id": "prob3_desc",
     "locked": true,
     "schema_version": 3,
     "solution": false
    }
   },
   "source": [
    "# Problem 3: Selecting stocks under certain price\n",
    "\n",
    "In the code cell below the function *get_stocks_by_price* accepts 2 parameters *df* which is a dataframe and *price_cut* which is a float.\n",
    "\n",
    "For this problem:\n",
    "- Return all data with close price less than *price_cut*."
   ]
  },
  {
   "cell_type": "code",
   "execution_count": 6,
   "metadata": {
    "nbgrader": {
     "grade": false,
     "grade_id": "prob3_ans",
     "locked": false,
     "schema_version": 3,
     "solution": true
    }
   },
   "outputs": [],
   "source": [
    "def get_stocks_by_price(df, price_cut):\n",
    "    '''\n",
    "    \n",
    "    Parameters\n",
    "    ----------\n",
    "    df: pandas dataframe containing data from Problem 1's solution\n",
    "    price_cut: float.\n",
    "    Returns\n",
    "    -------\n",
    "    \n",
    "    Return all data with close price less than price_cut.\n",
    "    '''\n",
    "    ### BEGIN SOLUTION\n",
    "\n",
    "    return df[df.close<price_cut]\n",
    "    ### END SOLUTION\n"
   ]
  },
  {
   "cell_type": "code",
   "execution_count": 7,
   "metadata": {
    "nbgrader": {
     "grade": true,
     "grade_id": "prob3_test",
     "locked": true,
     "points": 1,
     "schema_version": 3,
     "solution": false
    }
   },
   "outputs": [],
   "source": [
    "assert_equal(get_stocks_by_price(df, 12).shape[0], 7, msg=\"You did not return a correct pandas dataframe object\")\n",
    "assert_true(get_stocks_by_price(df, 12).close.max()<12, msg=\"You did not return a correct pandas dataframe object\")\n"
   ]
  },
  {
   "cell_type": "markdown",
   "metadata": {
    "nbgrader": {
     "grade": false,
     "grade_id": "p4-desc",
     "locked": true,
     "schema_version": 3,
     "solution": false
    }
   },
   "source": [
    "# Problem 4: Get highest and lowest close price for a stock\n",
    "\n",
    "In the code cell below the function *get_high_low_close* accepts 2 parameters *df* which is a dataframe and *symbol* which is a string.\n",
    "\n",
    "For this problem:\n",
    "- Return highest and lowest close price of stock represent by *symbol*"
   ]
  },
  {
   "cell_type": "code",
   "execution_count": 8,
   "metadata": {
    "nbgrader": {
     "grade": false,
     "grade_id": "prob4_ans",
     "locked": false,
     "schema_version": 3,
     "solution": true
    }
   },
   "outputs": [],
   "source": [
    "def get_high_low_close(df, symbol):\n",
    "    '''\n",
    "    Get highest and lowest close price of a stock.\n",
    "    \n",
    "    Parameters\n",
    "    ----------\n",
    "    df: pandas dataframe containing data from Problem 1's solution\n",
    "    symbol: stock symbol\n",
    "    \n",
    "    Returns\n",
    "    -------\n",
    "    returns two values, highest and lowest close price of the stock.\n",
    "    '''\n",
    "    ### BEGIN SOLUTION\n",
    "    highest_close, lowest_close = df[df.stock==symbol].close.max(), df[df.stock==symbol].close.min()\n",
    "    ### END SOLUTION\n",
    "    return highest_close, lowest_close\n"
   ]
  },
  {
   "cell_type": "code",
   "execution_count": 9,
   "metadata": {
    "nbgrader": {
     "grade": true,
     "grade_id": "prob4_test",
     "locked": true,
     "points": 1,
     "schema_version": 3,
     "solution": false
    }
   },
   "outputs": [],
   "source": [
    "assert_equal(get_high_low_close(df, 'AA'), (17.92, 14.72), msg=\"You did not return correct highest and lowest close of AA\")\n",
    "assert_equal(get_high_low_close(df, 'IBM'), (170.58, 147.93), msg=\"You did not return correct highest and lowest close of IBM\")\n"
   ]
  }
 ],
 "metadata": {
  "celltoolbar": "Edit Metadata",
  "coursera": {
   "course_slug": "data-analytics-accountancy-1",
   "graded_item_id": "4oirH",
   "launcher_item_id": "g0r7b"
  },
  "kernelspec": {
   "display_name": "Python 3",
   "language": "python",
   "name": "python3"
  },
  "language_info": {
   "codemirror_mode": {
    "name": "ipython",
    "version": 3
   },
   "file_extension": ".py",
   "mimetype": "text/x-python",
   "name": "python",
   "nbconvert_exporter": "python",
   "pygments_lexer": "ipython3",
   "version": "3.7.1"
  }
 },
 "nbformat": 4,
 "nbformat_minor": 2
}
