{
 "cells": [
  {
   "cell_type": "markdown",
   "metadata": {
    "nbgrader": {
     "grade": false,
     "grade_id": "cell-fb984e839f54abb5",
     "locked": true,
     "schema_version": 1,
     "solution": false
    }
   },
   "source": [
    "# Module 1 Assignment\n",
    "\n",
    "## Assignment 1\n",
    "\n",
    "Download and Install Anaconda on your own computer.\n",
    "  \n",
    "\n",
    "## Assignment 2\n",
    "Go to [Data USA](https://datausa.io/). Choose one of the articles and write a concise markdown document about the interesting ideas contained in the article.  \n",
    "#### General summary for the review criteria.\n",
    "The assignment will be out of 100 points.  Your submission should include:  \n",
    "\n",
    "  -  A brief introduction of yourself. (10 points)\n",
    "  -  Markdown Headers to specify the parts of your report. (Use at least two levels of headers.) (10 points)  \n",
    "  -  A link to the article you chose. (10 points)  \n",
    "  -  Include one Python code block to do simple arithmatic with an interesting fact from the article you chose.  Include the result in your report. (20 points)  \n",
    "  -  Include at least one bold and one italic word or phrase to emphasize concepts. (10 points)  \n",
    "  -  One enumerated or unenumerated list. (10 points)  \n",
    "  -  Clear analysis with proper spelling and grammar. (20 points)  \n",
    "  -  Download the notebook as HTML(File-Download As) and submit the html file. (10 points)"
   ]
  },
  {
   "cell_type": "markdown",
   "metadata": {
    "deletable": false,
    "editable": false
   },
   "source": [
    "-----\n",
    "\n",
    "**&copy; 2019: Gies College of Business at the University of Illinois.**\n",
    "\n",
    "This notebook is released under the [Creative Commons license CC BY-NC-SA 4.0][ll]. Any reproduction, adaptation, distribution, dissemination or making available of this notebook for commercial use is not allowed unless authorized in writing by the copyright holder.\n",
    "\n",
    "[ll]: https://creativecommons.org/licenses/by-nc-sa/4.0/legalcode"
   ]
  }
 ],
 "metadata": {
  "celltoolbar": "Edit Metadata",
  "coursera": {
   "course_slug": "data-analytics-accountancy-1",
   "graded_item_id": "h3vs6",
   "launcher_item_id": "pZFXD"
  },
  "kernelspec": {
   "display_name": "Python 3",
   "language": "python",
   "name": "python3"
  },
  "language_info": {
   "codemirror_mode": {
    "name": "ipython",
    "version": 3
   },
   "file_extension": ".py",
   "mimetype": "text/x-python",
   "name": "python",
   "nbconvert_exporter": "python",
   "pygments_lexer": "ipython3",
   "version": "3.7.1"
  }
 },
 "nbformat": 4,
 "nbformat_minor": 2
}
