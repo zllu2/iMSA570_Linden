{
 "cells": [
  {
   "cell_type": "markdown",
   "metadata": {
    "nbgrader": {
     "checksum": "b5d2a38fc28f397c01c5fb80f639837e",
     "grade": false,
     "grade_id": "m2_header",
     "locked": true,
     "schema_version": 1,
     "solution": false
    }
   },
   "source": [
    "# Module 2 Assignment\n",
    "\n",
    "\n",
    "A few things you should keep in mind when working on assignments:\n",
    "\n",
    "1. Run the first code cell to import modules needed by this assignment before proceeding to problems.\n",
    "2. Make sure you fill in any place that says `# YOUR CODE HERE`. Do not write your answer anywhere else other than where it says `# YOUR CODE HERE`. Anything you write elsewhere will be removed or overwritten by the autograder.\n",
    "3. Each problem has an autograder cell below the answer cell. Run the autograder cell to check your answer. If there's anything wrong in your answer, the autograder cell will display error messages.\n",
    "4. Before you submit your assignment, make sure everything runs as expected. Go to the menubar, select Kernel, and Restart & Run all. If the notebook runs through the last code cell without error message, you've answered all problems correctly.\n",
    "5. Make sure that you save your work (in the menubar, select File → Save and CheckPoint).\n",
    "\n",
    "-----"
   ]
  },
  {
   "cell_type": "markdown",
   "metadata": {
    "nbgrader": {
     "grade": false,
     "grade_id": "cell-61c6fd10c5be4dd0",
     "locked": true,
     "schema_version": 1,
     "solution": false
    }
   },
   "source": [
    "# Run Me First!"
   ]
  },
  {
   "cell_type": "code",
   "execution_count": 1,
   "metadata": {
    "deletable": false,
    "nbgrader": {
     "checksum": "afc83d09b4dfe4015aa510e6a57e2608",
     "grade": false,
     "grade_id": "imports",
     "locked": true,
     "schema_version": 1,
     "solution": false
    }
   },
   "outputs": [],
   "source": [
    "from nose.tools import assert_equal, assert_true\n",
    "import warnings\n",
    "warnings.filterwarnings(\"ignore\", category=DeprecationWarning) "
   ]
  },
  {
   "cell_type": "markdown",
   "metadata": {
    "nbgrader": {
     "checksum": "dc5a63ad6de72a8486fa350bc1d35ada",
     "grade": false,
     "grade_id": "p1_desc",
     "locked": true,
     "schema_version": 1,
     "solution": false
    }
   },
   "source": [
    "# Problem 1: Create string variable\n",
    "\n",
    "Create variable **s**, assign value \"99.9\" as a string to it.\n"
   ]
  },
  {
   "cell_type": "code",
   "execution_count": 2,
   "metadata": {
    "deletable": false,
    "nbgrader": {
     "checksum": "b49b5249031e1ad795dcab083395bb38",
     "grade": false,
     "grade_id": "p1_ans",
     "locked": false,
     "schema_version": 1,
     "solution": true
    }
   },
   "outputs": [],
   "source": [
    "### BEGIN SOLUTION\n",
    "s = \"99.9\"\n",
    "### END SOLUTION"
   ]
  },
  {
   "cell_type": "code",
   "execution_count": 3,
   "metadata": {
    "nbgrader": {
     "checksum": "20c0bebfb9324e6448b1bc90ad2f65d0",
     "grade": true,
     "grade_id": "p1_test",
     "locked": true,
     "points": 1,
     "schema_version": 1,
     "solution": false
    }
   },
   "outputs": [],
   "source": [
    "assert_true(type(s)==str, msg=\"The type of s is not str\")\n",
    "assert_true(float(s)==99.9, msg=\"Value of s is not '99.9'\")"
   ]
  },
  {
   "cell_type": "markdown",
   "metadata": {
    "nbgrader": {
     "checksum": "94b0f7ca1906a392f8dfe8944e9c7555",
     "grade": false,
     "grade_id": "p2_desc",
     "locked": true,
     "schema_version": 1,
     "solution": false
    }
   },
   "source": [
    "# Problem 2: Calculate absolute value\n",
    "\n",
    "- calcualte $97\\times99-98^2$\n",
    "- assign result to variable **result**\n",
    "- assign absolute value of the result to variable **abs_result**\n"
   ]
  },
  {
   "cell_type": "code",
   "execution_count": 4,
   "metadata": {
    "deletable": false,
    "nbgrader": {
     "checksum": "9dafd2a3d88ab61f7448307cd2161ad4",
     "grade": false,
     "grade_id": "p2_ans",
     "locked": false,
     "schema_version": 1,
     "solution": true
    }
   },
   "outputs": [],
   "source": [
    "result, abs_result = 0, 0\n",
    "### BEGIN SOLUTION\n",
    "result = 97*99-98**2\n",
    "abs_result = abs(result)\n",
    "### END SOLUTION"
   ]
  },
  {
   "cell_type": "code",
   "execution_count": 5,
   "metadata": {
    "nbgrader": {
     "checksum": "6130288609b10ca8a2b3396dad222478",
     "grade": true,
     "grade_id": "p2_test",
     "locked": true,
     "points": 1,
     "schema_version": 1,
     "solution": false
    }
   },
   "outputs": [],
   "source": [
    "assert_equal(result, -1, msg=\"The result is wrong\")\n",
    "assert_equal(abs_result, 1, msg=\"The absolute result is wrong\")"
   ]
  },
  {
   "cell_type": "markdown",
   "metadata": {
    "deletable": false,
    "nbgrader": {
     "checksum": "78e0850130cc50c9e0d7af3e02bd4f2a",
     "grade": false,
     "grade_id": "p3_desc",
     "locked": true,
     "schema_version": 1,
     "solution": false
    }
   },
   "source": [
    "# Problem 3: Adding remainders\n",
    "\n",
    "- Calculate the remainder of 7 divided by 6,    \n",
    "   \n",
    "   \n",
    "- and calculate the remainder of 243 divided by 192. \n",
    "\n",
    "\n",
    "- Add both of these values together and save the result in a variable called \"my_remainder\".\n"
   ]
  },
  {
   "cell_type": "code",
   "execution_count": 6,
   "metadata": {
    "deletable": false,
    "nbgrader": {
     "checksum": "baadef88dd5b4bc3430def019abbb950",
     "grade": false,
     "grade_id": "p3_ans",
     "locked": false,
     "schema_version": 1,
     "solution": true
    }
   },
   "outputs": [],
   "source": [
    "my_remainder = 0\n",
    "### BEGIN SOLUTION\n",
    "my_remainder = 7%6 + 243%192\n",
    "### END SOLUTION"
   ]
  },
  {
   "cell_type": "code",
   "execution_count": 7,
   "metadata": {
    "deletable": false,
    "nbgrader": {
     "checksum": "9acc3ba6345c4cd9722eb96161cb0744",
     "grade": true,
     "grade_id": "p3_test",
     "locked": true,
     "points": 1,
     "schema_version": 1,
     "solution": false
    }
   },
   "outputs": [],
   "source": [
    "assert_equal(my_remainder,52,msg='my_remainder is not the correct value')\n"
   ]
  },
  {
   "cell_type": "markdown",
   "metadata": {
    "deletable": false,
    "nbgrader": {
     "checksum": "3dd77747ce4e96fe7e2ba0ecf273665d",
     "grade": false,
     "grade_id": "p4_desc",
     "locked": true,
     "schema_version": 1,
     "solution": false
    }
   },
   "source": [
    "# Problem 4: Create a function to determine which value is greater  \n",
    "\n",
    "- Write a function called find_greater that accepts 2 parameters called a and b.\n",
    "\n",
    "\n",
    "- Inside of the function use an if statement to determine if a is greater than b.\n",
    "\n",
    "    - If the value in a is greater than the value in b return variable a.\n",
    "    \n",
    "    - If the value in b is greater than the value in a return variable b.\n"
   ]
  },
  {
   "cell_type": "code",
   "execution_count": 8,
   "metadata": {
    "deletable": false,
    "nbgrader": {
     "checksum": "5fb44439ee13249bd9fb031d4e1e25e4",
     "grade": false,
     "grade_id": "p4_ans",
     "locked": false,
     "schema_version": 1,
     "solution": true
    }
   },
   "outputs": [],
   "source": [
    "def find_greater(a, b):\n",
    "    '''\n",
    "    Returns the highest value between a and b.\n",
    "    \n",
    "    Parameters\n",
    "    ----------\n",
    "    a : an integer or floating point number\n",
    "    b : an integer or floating point number\n",
    "    \n",
    "    Returns\n",
    "    -------\n",
    "    a floating point number that has the highest value\n",
    "    '''\n",
    "    ### BEGIN SOLUTION\n",
    "    if a > b:\n",
    "        return a\n",
    "    else:\n",
    "        return b\n",
    "    ### END SOLUTION"
   ]
  },
  {
   "cell_type": "code",
   "execution_count": 9,
   "metadata": {
    "deletable": false,
    "nbgrader": {
     "checksum": "7b5fd191340a447dea6465d88b66facb",
     "grade": true,
     "grade_id": "p4_test",
     "locked": true,
     "points": 1,
     "schema_version": 1,
     "solution": false
    }
   },
   "outputs": [],
   "source": [
    "assert_equal(find_greater(3, 4), 4, msg='The greater value between 3 and 4 is 4.')\n",
    "assert_equal(find_greater(4, 3), 4, msg='The greater value between 4 and 3 is 4.')\n",
    "assert_equal(find_greater(3.1459, 3.14), 3.1459, msg='The greater value between 3.1459 and 3.14 is 3.1459')\n"
   ]
  },
  {
   "cell_type": "markdown",
   "metadata": {
    "deletable": false,
    "nbgrader": {
     "checksum": "08147aaa513110dc8984c149c6e890b4",
     "grade": false,
     "grade_id": "p5_desc",
     "locked": true,
     "schema_version": 1,
     "solution": false
    }
   },
   "source": [
    "# Problem 5: Create a function to determine which value is the greatest\n",
    "\n",
    "- Write a function called find_greatest that accepts 3 parameters called a, b, and c.\n",
    "\n",
    "\n",
    "- Inside of the function use an if, else, and/or elif statements to determine which variable between a, b, and c has the highest value. Return this value.\n",
    "\n",
    "**HINT: There's more than 1 way to solve this problem.**"
   ]
  },
  {
   "cell_type": "code",
   "execution_count": 10,
   "metadata": {
    "deletable": false,
    "nbgrader": {
     "checksum": "e4f2245fc7ea11593a0cdecd9a09eb4c",
     "grade": false,
     "grade_id": "p5_ans",
     "locked": false,
     "schema_version": 1,
     "solution": true
    }
   },
   "outputs": [],
   "source": [
    "def find_greatest(a, b, c):\n",
    "    '''\n",
    "    Returns the highest value between a, b, and c.\n",
    "    \n",
    "    Parameters\n",
    "    ----------\n",
    "    a : an integer or floating point number\n",
    "    b : an integer or floating point number\n",
    "    c : an integer or floating point number\n",
    "\n",
    "    Returns\n",
    "    -------\n",
    "    a floating point number that has the highest value\n",
    "    '''\n",
    "    ### BEGIN SOLUTION\n",
    "    if a > b:\n",
    "        if a > c:\n",
    "            return a\n",
    "    if b > a:\n",
    "        if b > c:\n",
    "            return b\n",
    "    if c > a:\n",
    "        if c > b:\n",
    "            return c\n",
    "    ### END SOLUTION"
   ]
  },
  {
   "cell_type": "code",
   "execution_count": 11,
   "metadata": {
    "deletable": false,
    "nbgrader": {
     "checksum": "6ff98a30da6657c22b687c925b46e0ca",
     "grade": true,
     "grade_id": "p5_test",
     "locked": true,
     "points": 1,
     "schema_version": 1,
     "solution": false
    }
   },
   "outputs": [],
   "source": [
    "assert_equal(find_greatest(2, 3, 4), 4, msg='The greater value between 2, 3 and 4 is 4.')\n",
    "assert_equal(find_greatest(3, 2, 4), 4, msg='The greater value between 3, 2 and 4 is 4.')\n",
    "assert_equal(find_greatest(4, 3, 2), 4, msg='The greater value between 4, 3 and 2 is 4.')\n"
   ]
  }
 ],
 "metadata": {
  "celltoolbar": "Edit Metadata",
  "coursera": {
   "course_slug": "data-analytics-accountancy-1",
   "graded_item_id": "pXOVa",
   "launcher_item_id": "XwolO"
  },
  "kernelspec": {
   "display_name": "Python 3",
   "language": "python",
   "name": "python3"
  },
  "language_info": {
   "codemirror_mode": {
    "name": "ipython",
    "version": 3
   },
   "file_extension": ".py",
   "mimetype": "text/x-python",
   "name": "python",
   "nbconvert_exporter": "python",
   "pygments_lexer": "ipython3",
   "version": "3.7.1"
  }
 },
 "nbformat": 4,
 "nbformat_minor": 2
}
