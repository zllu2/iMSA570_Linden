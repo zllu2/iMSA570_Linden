{
 "cells": [
  {
   "cell_type": "markdown",
   "metadata": {
    "nbgrader": {
     "grade": false,
     "grade_id": "header",
     "locked": true,
     "schema_version": 1,
     "solution": false
    }
   },
   "source": [
    "# Module 7 Assignment\n",
    "\n",
    "A few things you should keep in mind when working on assignments:\n",
    "\n",
    "1. Make sure you fill in any place that says `YOUR CODE HERE`. Do **not** write your answer anywhere else other than where it says `YOUR CODE HERE`. Anything you write elsewhere will be removed or overwritten by the autograder.\n",
    "\n",
    "2. Before you submit your assignment, make sure everything runs as expected. Go to the menubar, select _Kernel_, and restart the kernel and run all cells (_Restart & Run all_).\n",
    "\n",
    "3. Do not change the title (i.e. file name) of this notebook.\n",
    "\n",
    "4. Make sure that you save your work (in the menubar, select _File_ → _Save and CheckPoint_).\n"
   ]
  },
  {
   "cell_type": "code",
   "execution_count": null,
   "metadata": {
    "nbgrader": {
     "grade": false,
     "grade_id": "import",
     "locked": true,
     "schema_version": 1,
     "solution": false
    }
   },
   "outputs": [],
   "source": [
    "import matplotlib.pyplot as plt\n",
    "import seaborn as sns\n",
    "sns.set()\n",
    "\n",
    "import pandas as pd\n",
    "import numpy as np\n",
    "\n",
    "from numpy.testing import assert_array_almost_equal, assert_array_equal\n",
    "\n",
    "from nose.tools import assert_equal, assert_true\n"
   ]
  },
  {
   "cell_type": "markdown",
   "metadata": {
    "nbgrader": {
     "grade": false,
     "grade_id": "p1_desc",
     "locked": true,
     "schema_version": 1,
     "solution": false
    }
   },
   "source": [
    "# Problem 1: Read in a dataset\n",
    "\n",
    "For this problem you will read in a dataset from a **csv** file using pandas. In the cell below, the function *read_data* has argument \"file_path\" which contains a path to a dataset.\n",
    "- Use the *read_csv* function from pandas to read in the dataset from the file path and return the resulting dataframe."
   ]
  },
  {
   "cell_type": "code",
   "execution_count": null,
   "metadata": {
    "nbgrader": {
     "grade": false,
     "grade_id": "p1_ans",
     "locked": false,
     "schema_version": 1,
     "solution": true
    }
   },
   "outputs": [],
   "source": [
    "def read_data(file_path):\n",
    "    '''\n",
    "    Reads in a dataset using pandas.\n",
    "    \n",
    "    Parameters\n",
    "    ----------\n",
    "    file_path : string containing path to a file\n",
    "    \n",
    "    Returns\n",
    "    -------\n",
    "    pandas dataframe with data read in from the file path\n",
    "    '''\n",
    "    ### BEGIN SOLUTION\n",
    "    df = pd.read_csv(file_path)\n",
    "    return df\n",
    "    ### END SOLUTION\n",
    "    "
   ]
  },
  {
   "cell_type": "code",
   "execution_count": null,
   "metadata": {
    "nbgrader": {
     "grade": false,
     "grade_id": "cell-f6e8d5643938a023",
     "locked": true,
     "schema_version": 1,
     "solution": false
    }
   },
   "outputs": [],
   "source": [
    "df = read_data('data/iris_data.csv')\n",
    "df.head()"
   ]
  },
  {
   "cell_type": "code",
   "execution_count": null,
   "metadata": {
    "nbgrader": {
     "grade": true,
     "grade_id": "p1_test",
     "locked": true,
     "points": 1,
     "schema_version": 1,
     "solution": false
    }
   },
   "outputs": [],
   "source": [
    "assert_equal(len(df), 110, msg=\"The dataset should have 110 rows. Your solution only has %s\"%len(df))\n",
    "assert_equal(set(df.columns.tolist()), set(['sepal length', 'sepal width', 'petal length',\n",
    "       'petal width', 'iris type']), \n",
    "             msg=\"Your column names do not match the solutions\")"
   ]
  },
  {
   "cell_type": "markdown",
   "metadata": {
    "nbgrader": {
     "grade": false,
     "grade_id": "p2_desc",
     "locked": true,
     "schema_version": 1,
     "solution": false
    }
   },
   "source": [
    "# Problem 2: Fix column names\n",
    "\n",
    "In this problem you will fix the column names of the dataframe loaded from problem 1 so that there's no whitespaces in the column names. Use '-' to connect words. For example, \"sepal length\" should become \"sepal_length\"\n",
    "\n",
    "- Directly work on **df** created from problem 1\n",
    "- Fix all column names so that whitespaces are replaced by '_'"
   ]
  },
  {
   "cell_type": "code",
   "execution_count": null,
   "metadata": {
    "nbgrader": {
     "grade": false,
     "grade_id": "p2_ans",
     "locked": false,
     "schema_version": 1,
     "solution": true
    }
   },
   "outputs": [],
   "source": [
    "### BEGIN SOLUTION\n",
    "df.columns = ['sepal_length', 'sepal_width', 'petal_length', 'petal_width', 'iris_type']\n",
    "### END SOLUTION"
   ]
  },
  {
   "cell_type": "code",
   "execution_count": null,
   "metadata": {
    "nbgrader": {
     "grade": true,
     "grade_id": "p2_test",
     "locked": true,
     "points": 1,
     "schema_version": 1,
     "solution": false
    }
   },
   "outputs": [],
   "source": [
    "assert_true('sepal_length' in df.columns, \"Column name is fixed as directed\")\n",
    "assert_true('sepal_width' in df.columns, \"Column name is fixed as directed\")\n",
    "assert_true('petal_length' in df.columns, \"Column name is fixed as directed\")\n",
    "assert_true('petal_width' in df.columns, \"Column name is fixed as directed\")\n",
    "assert_true('iris_type' in df.columns, \"Column name is fixed as directed\")\n",
    "df.head()"
   ]
  },
  {
   "cell_type": "markdown",
   "metadata": {
    "nbgrader": {
     "grade": false,
     "grade_id": "p3-desc",
     "locked": true,
     "schema_version": 1,
     "solution": false
    }
   },
   "source": [
    "# Problem 3: Drop missing values\n",
    "\n",
    "In this problem you will drop all rows with missing values from the dataframe **df**.\n",
    "\n",
    "- Directly work on **df** created from problem 1 and fixed in problem 2\n",
    "- Drop all rows with missing values\n",
    "- After this problem, there should be no missing values in **df**"
   ]
  },
  {
   "cell_type": "code",
   "execution_count": null,
   "metadata": {
    "nbgrader": {
     "grade": false,
     "grade_id": "cell-62d4bcc18b73dad3",
     "locked": true,
     "schema_version": 1,
     "solution": false
    }
   },
   "outputs": [],
   "source": [
    "df.info()"
   ]
  },
  {
   "cell_type": "code",
   "execution_count": null,
   "metadata": {
    "nbgrader": {
     "grade": false,
     "grade_id": "p3-ans",
     "locked": false,
     "schema_version": 1,
     "solution": true
    }
   },
   "outputs": [],
   "source": [
    "### BEGIN SOLUTION\n",
    "df.dropna(inplace=True)\n",
    "### END SOLUTION"
   ]
  },
  {
   "cell_type": "code",
   "execution_count": null,
   "metadata": {
    "nbgrader": {
     "grade": true,
     "grade_id": "p3-test",
     "locked": true,
     "points": 1,
     "schema_version": 1,
     "solution": false
    }
   },
   "outputs": [],
   "source": [
    "assert_equal(df.shape[0], 107, \"df doesn't have correct values\")\n",
    "assert_equal(df.sepal_length.isnull().sum(), 0, \"sepal_length column has missing values\")\n",
    "assert_equal(df.sepal_width.isnull().sum(), 0, \"sepal_width column has missing values\")\n",
    "assert_equal(df.petal_length.isnull().sum(), 0, \"petal_length column has missing values\")\n",
    "df.head()"
   ]
  },
  {
   "cell_type": "markdown",
   "metadata": {
    "nbgrader": {
     "grade": false,
     "grade_id": "p4-desc",
     "locked": true,
     "schema_version": 1,
     "solution": false
    }
   },
   "source": [
    "# Problem 4: Create linear regression formula\n",
    "\n",
    "In this problem you will create a statsmodels regression formula to predict petal_width with other columns in the dataframe **df** fixed by problem 3.\n",
    "\n",
    "- Work with columns in **df** created from problem 1 and fixed in problem 2&3\n",
    "- **petal_width** will be the dependent variable\n",
    "- All other columns are independent variable\n",
    "- Enclose categorical feature with \"C()\"\n",
    "- Assign the formula string to variable **formula**"
   ]
  },
  {
   "cell_type": "code",
   "execution_count": null,
   "metadata": {
    "nbgrader": {
     "grade": false,
     "grade_id": "p4-ans",
     "locked": false,
     "schema_version": 1,
     "solution": true
    }
   },
   "outputs": [],
   "source": [
    "### BEGIN SOLUTION\n",
    "formula = \"petal_width ~ sepal_length + sepal_width + petal_length + C(iris_type)\"\n",
    "### END SOLUTION"
   ]
  },
  {
   "cell_type": "code",
   "execution_count": null,
   "metadata": {
    "nbgrader": {
     "grade": true,
     "grade_id": "p4-test",
     "locked": true,
     "points": 1,
     "schema_version": 1,
     "solution": false
    }
   },
   "outputs": [],
   "source": [
    "assert_true('petal_width' in formula.split('~')[0], \"Dependent variable is wrong\")\n",
    "assert_true('sepal_length' in formula.split('~')[1], \"sepal_length should be independent variable\")\n",
    "assert_true('sepal_width' in formula.split('~')[1], \"sepal_width should be independent variable\")\n",
    "assert_true('petal_length' in formula.split('~')[1], \"petal_length should be independent variable\")\n",
    "assert_true('C(iris_type)' in formula.split('~')[1], \"Categorical variable is not enclosed in C()\")\n"
   ]
  },
  {
   "cell_type": "markdown",
   "metadata": {
    "deletable": false,
    "editable": false
   },
   "source": [
    "-----\n",
    "\n",
    "**&copy; 2019: Gies College of Business at the University of Illinois.**\n",
    "\n",
    "This notebook is released under the [Creative Commons license CC BY-NC-SA 4.0][ll]. Any reproduction, adaptation, distribution, dissemination or making available of this notebook for commercial use is not allowed unless authorized in writing by the copyright holder.\n",
    "\n",
    "[ll]: https://creativecommons.org/licenses/by-nc-sa/4.0/legalcode"
   ]
  }
 ],
 "metadata": {
  "celltoolbar": "Create Assignment",
  "coursera": {
   "course_slug": "data-analytics-accountancy-1",
   "graded_item_id": "UdH6s",
   "launcher_item_id": "p01FF"
  },
  "kernelspec": {
   "display_name": "Python 3",
   "language": "python",
   "name": "python3"
  },
  "language_info": {
   "codemirror_mode": {
    "name": "ipython",
    "version": 3
   },
   "file_extension": ".py",
   "mimetype": "text/x-python",
   "name": "python",
   "nbconvert_exporter": "python",
   "pygments_lexer": "ipython3",
   "version": "3.7.1"
  }
 },
 "nbformat": 4,
 "nbformat_minor": 2
}
