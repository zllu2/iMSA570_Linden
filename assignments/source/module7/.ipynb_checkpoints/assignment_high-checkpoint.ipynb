{
 "cells": [
  {
   "cell_type": "markdown",
   "metadata": {
    "nbgrader": {
     "grade": false,
     "grade_id": "header",
     "locked": true,
     "schema_version": 1,
     "solution": false
    }
   },
   "source": [
    "# Module 7 Assignment\n",
    "\n",
    "A few things you should keep in mind when working on assignments:\n",
    "\n",
    "1. Make sure you fill in any place that says `YOUR CODE HERE`. Do **not** write your answer anywhere else other than where it says `YOUR CODE HERE`. Anything you write elsewhere will be removed or overwritten by the autograder.\n",
    "\n",
    "2. Before you submit your assignment, make sure everything runs as expected. Go to the menubar, select _Kernel_, and restart the kernel and run all cells (_Restart & Run all_).\n",
    "\n",
    "3. Do not change the title (i.e. file name) of this notebook.\n",
    "\n",
    "4. Make sure that you save your work (in the menubar, select _File_ → _Save and CheckPoint_).\n"
   ]
  },
  {
   "cell_type": "code",
   "execution_count": null,
   "metadata": {
    "nbgrader": {
     "grade": false,
     "grade_id": "import",
     "locked": true,
     "schema_version": 1,
     "solution": false
    }
   },
   "outputs": [],
   "source": [
    "import matplotlib.pyplot as plt\n",
    "import seaborn as sns\n",
    "sns.set()\n",
    "\n",
    "import pandas as pd\n",
    "import numpy as np\n",
    "\n",
    "from numpy.testing import assert_almost_equal, assert_array_equal\n",
    "\n",
    "from nose.tools import assert_equal, assert_true\n",
    "\n",
    "import warnings\n",
    "warnings.filterwarnings('ignore')"
   ]
  },
  {
   "cell_type": "markdown",
   "metadata": {
    "nbgrader": {
     "grade": false,
     "grade_id": "p1_desc",
     "locked": true,
     "schema_version": 1,
     "solution": false
    }
   },
   "source": [
    "# Problem 1: Read in a dataset\n",
    "\n",
    "For this problem you will read in a dataset from iris_data.csv which is in data folder\n",
    "\n",
    "- Read dataset to a dataframe from data/iris_data.csv\n",
    "- Store the dataframe to variable **df**"
   ]
  },
  {
   "cell_type": "code",
   "execution_count": null,
   "metadata": {
    "nbgrader": {
     "grade": false,
     "grade_id": "p1_ans",
     "locked": false,
     "schema_version": 1,
     "solution": true
    }
   },
   "outputs": [],
   "source": [
    "### BEGIN SOLUTION\n",
    "df = pd.read_csv('data/iris_data.csv')\n",
    "### END SOLUTION"
   ]
  },
  {
   "cell_type": "code",
   "execution_count": null,
   "metadata": {
    "nbgrader": {
     "grade": true,
     "grade_id": "p1_test",
     "locked": true,
     "points": 1,
     "schema_version": 1,
     "solution": false
    }
   },
   "outputs": [],
   "source": [
    "assert_equal(len(df), 110, msg=\"The dataset should have 110 rows. Your solution only has %s\"%len(df))\n",
    "assert_equal(set(df.columns.tolist()), set(['sepal length', 'sepal width', 'petal length',\n",
    "       'petal width', 'iris type']), \n",
    "             msg=\"Your column names do not match the solutions\")\n",
    "df.head()"
   ]
  },
  {
   "cell_type": "markdown",
   "metadata": {
    "nbgrader": {
     "grade": false,
     "grade_id": "p2_desc",
     "locked": true,
     "schema_version": 1,
     "solution": false
    }
   },
   "source": [
    "# Problem 2: Fix column names and fill missing values\n",
    "\n",
    "In this problem you will fix the column names of the dataframe loaded from problem 1 and fill missing values with mean value of same iris type.\n",
    "\n",
    "- Directly work on **df** created from problem 1\n",
    "- Fix all column names so that whitespaces are replaced by '_'\n",
    "- Convert values in iris type column to all **upper** case\n",
    "- Fill all missing values with mean value of specific iris type. For example, fill missing sepal length of Iris-setosa with average setosa sepal length."
   ]
  },
  {
   "cell_type": "code",
   "execution_count": null,
   "metadata": {
    "nbgrader": {
     "grade": false,
     "grade_id": "p2_ans",
     "locked": false,
     "schema_version": 1,
     "solution": true
    }
   },
   "outputs": [],
   "source": [
    "### BEGIN SOLUTION\n",
    "df.columns = ['sepal_length', 'sepal_width', 'petal_length', 'petal_width', 'iris_type']\n",
    "df.iris_type = df.iris_type.str.upper()\n",
    "df.fillna(df.groupby('iris_type').transform('mean'), inplace=True)\n",
    "### END SOLUTION"
   ]
  },
  {
   "cell_type": "code",
   "execution_count": null,
   "metadata": {
    "nbgrader": {
     "grade": true,
     "grade_id": "p2-test",
     "locked": true,
     "points": 1,
     "schema_version": 1,
     "solution": false
    }
   },
   "outputs": [],
   "source": [
    "assert_true('sepal_length' in df.columns, \"Column name is fixed as directed\")\n",
    "assert_true('sepal_width' in df.columns, \"Column name is fixed as directed\")\n",
    "assert_true('petal_length' in df.columns, \"Column name is fixed as directed\")\n",
    "assert_true('petal_width' in df.columns, \"Column name is fixed as directed\")\n",
    "assert_true('iris_type' in df.columns, \"Column name is fixed as directed\")\n",
    "assert_equal(set(df.iris_type.unique()), {'IRIS-SETOSA', 'IRIS-VERSICOLOR', 'IRIS-VIRGINICA'}, \"iris_type values should be all upper case.\")\n",
    "assert_equal(df.shape[0], 110, \"df doesn't have correct values\")\n",
    "assert_equal(df.sepal_length.isnull().sum(), 0, \"sepal_length column has missing values\")\n",
    "assert_equal(df.sepal_width.isnull().sum(), 0, \"sepal_width column has missing values\")\n",
    "assert_equal(df.petal_length.isnull().sum(), 0, \"petal_length column has missing values\")\n",
    "assert_almost_equal(df.iloc[0,0], 5.004, 3, \"Missing value is not filled with correct value\")\n",
    "assert_almost_equal(df.iloc[50,1], 2.776, 3, \"Missing value is not filled with correct value\")\n",
    "assert_almost_equal(df.iloc[80,2], 5.590, 3, \"Missing value is not filled with correct value\")\n",
    "df.head(3)"
   ]
  },
  {
   "cell_type": "markdown",
   "metadata": {
    "nbgrader": {
     "grade": false,
     "grade_id": "p3-desc",
     "locked": true,
     "schema_version": 1,
     "solution": false
    }
   },
   "source": [
    "# Problem 3: EDA: Plot average petal width for different iris typs\n",
    "\n",
    "In this problem you will plot a bar plot on average petal width for different iris types.\n",
    "\n",
    "- Work on **df** created from problem 1 and fixed in problem 2\n",
    "- Use seaborn barplot to plot a vertical bar plot\n",
    "- The height of bars are average petal width\n",
    "- The plot should have 3 bars, one for each iris type.\n",
    "- The plot should have a descriptive title\n",
    "- Assign returned axes by barplot() to variable **ax1**"
   ]
  },
  {
   "cell_type": "code",
   "execution_count": null,
   "metadata": {
    "nbgrader": {
     "grade": false,
     "grade_id": "p3-ans",
     "locked": false,
     "schema_version": 1,
     "solution": true
    },
    "scrolled": true
   },
   "outputs": [],
   "source": [
    "### BEGIN SOLUTION\n",
    "ax1 = sns.barplot(x='iris_type', y='petal_width', data=df)\n",
    "ax1.set_title(\"Average Petal Width\")\n",
    "### END SOLUTION"
   ]
  },
  {
   "cell_type": "code",
   "execution_count": null,
   "metadata": {
    "nbgrader": {
     "grade": true,
     "grade_id": "p3-test",
     "locked": true,
     "points": 1,
     "schema_version": 1,
     "solution": false
    }
   },
   "outputs": [],
   "source": [
    "assert_true(len(ax1.title.get_text()) > 0, msg=\"Your plot doesn't have a title.\")\n",
    "assert_equal(ax1.get_xlabel(), 'iris_type', msg=\"Bar plot not for different iris types\")\n",
    "assert_equal(ax1.get_ylabel(), 'petal_width', msg=\"Bar plot is not plot on average petal width\")"
   ]
  },
  {
   "cell_type": "markdown",
   "metadata": {
    "nbgrader": {
     "grade": false,
     "grade_id": "p4-desc",
     "locked": true,
     "schema_version": 1,
     "solution": false
    }
   },
   "source": [
    "# Problem 4: EDA: Plot multiple box plots\n",
    "\n",
    "In this problem you will plot a multiple box plot to display sepal length feature of different iris types.\n",
    "\n",
    "- Work on **df** created from problem 1 and fixed in problem 2\n",
    "- Use seaborn boxplot to plot a vertical box plot\n",
    "- The plot should have 3 boxs, one for each iris type.\n",
    "- The plot should have a descriptive title\n",
    "- Assign returned axes by boxplot() to variable **ax2**"
   ]
  },
  {
   "cell_type": "code",
   "execution_count": null,
   "metadata": {
    "nbgrader": {
     "grade": false,
     "grade_id": "p4-ans",
     "locked": false,
     "schema_version": 1,
     "solution": true
    },
    "scrolled": true
   },
   "outputs": [],
   "source": [
    "### BEGIN SOLUTION\n",
    "# Boxplot\n",
    "ax2 = sns.boxplot(x='iris_type', y='sepal_length', data=df, notch=True)\n",
    "\n",
    "# Title plot\n",
    "ax2.set_title('Sepal Length Comparison')\n",
    "plt.show()\n",
    "### END SOLUTION"
   ]
  },
  {
   "cell_type": "code",
   "execution_count": null,
   "metadata": {
    "nbgrader": {
     "grade": true,
     "grade_id": "p4-test",
     "locked": true,
     "points": 1,
     "schema_version": 1,
     "solution": false
    }
   },
   "outputs": [],
   "source": [
    "assert_true(len(ax2.title.get_text()) > 0, msg=\"Your plot doesn't have a title.\")\n",
    "assert_equal(ax2.get_xlabel(), 'iris_type', msg=\"Bar plot not for different iris types.\")\n",
    "assert_equal(ax2.get_ylabel(), 'sepal_length', msg=\"Bar plot is not plot on sepal length.\")"
   ]
  },
  {
   "cell_type": "markdown",
   "metadata": {
    "nbgrader": {
     "grade": false,
     "grade_id": "p5_desc",
     "locked": true,
     "schema_version": 1,
     "solution": false
    }
   },
   "source": [
    "# Problem 5: Construct a linear regression model\n",
    "\n",
    "In this problem you will construct a linear regression model using statsmodels.\n",
    "\n",
    "- Work with **df** created from problem 1 and fixed in problem 2\n",
    "- **petal_width** will be the dependent variable\n",
    "- All other columns are independent variable\n",
    "- Enclose categorical feature with \"C()\" in the regression formula\n",
    "- Create linear regression model with ols function in statsmodels.formula.api\n",
    "- Fix the model and assign fitted model to variable **result**"
   ]
  },
  {
   "cell_type": "code",
   "execution_count": null,
   "metadata": {
    "nbgrader": {
     "grade": false,
     "grade_id": "p5_ans",
     "locked": false,
     "schema_version": 1,
     "solution": true
    }
   },
   "outputs": [],
   "source": [
    "import statsmodels.formula.api as smf\n",
    "### BEGIN SOLUTION\n",
    "formula = \"petal_width ~ sepal_length + sepal_width + petal_length + C(iris_type)\"\n",
    "model = smf.ols(formula, data=df)\n",
    "result = model.fit()\n",
    "### END SOLUTION"
   ]
  },
  {
   "cell_type": "code",
   "execution_count": null,
   "metadata": {
    "nbgrader": {
     "grade": false,
     "grade_id": "cell-4770acf769a28913",
     "locked": true,
     "schema_version": 1,
     "solution": false
    }
   },
   "outputs": [],
   "source": [
    "result.summary()"
   ]
  },
  {
   "cell_type": "code",
   "execution_count": null,
   "metadata": {
    "nbgrader": {
     "grade": true,
     "grade_id": "p5-test",
     "locked": true,
     "points": 1,
     "schema_version": 1,
     "solution": false
    }
   },
   "outputs": [],
   "source": [
    "assert_almost_equal(result.rsquared, 0.96, 2, \"Regression result is not correct\")\n",
    "assert_almost_equal(result.bic, -82.91, 2, \"Regression result is not correct\")"
   ]
  },
  {
   "cell_type": "markdown",
   "metadata": {
    "deletable": false
   },
   "source": [
    "-----\n",
    "\n",
    "**&copy; 2019: Gies College of Business at the University of Illinois.**\n",
    "\n",
    "This notebook is released under the [Creative Commons license CC BY-NC-SA 4.0][ll]. Any reproduction, adaptation, distribution, dissemination or making available of this notebook for commercial use is not allowed unless authorized in writing by the copyright holder.\n",
    "\n",
    "[ll]: https://creativecommons.org/licenses/by-nc-sa/4.0/legalcode"
   ]
  }
 ],
 "metadata": {
  "celltoolbar": "Create Assignment",
  "coursera": {
   "course_slug": "data-analytics-accountancy-1",
   "graded_item_id": "K3bOM",
   "launcher_item_id": "yccL7"
  },
  "kernelspec": {
   "display_name": "Python 3",
   "language": "python",
   "name": "python3"
  },
  "language_info": {
   "codemirror_mode": {
    "name": "ipython",
    "version": 3
   },
   "file_extension": ".py",
   "mimetype": "text/x-python",
   "name": "python",
   "nbconvert_exporter": "python",
   "pygments_lexer": "ipython3",
   "version": "3.7.1"
  }
 },
 "nbformat": 4,
 "nbformat_minor": 2
}
