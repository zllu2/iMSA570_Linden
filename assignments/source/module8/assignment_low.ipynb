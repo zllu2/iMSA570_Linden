{
 "cells": [
  {
   "cell_type": "markdown",
   "metadata": {
    "nbgrader": {
     "grade": false,
     "grade_id": "intro",
     "locked": true,
     "schema_version": 3,
     "solution": false
    }
   },
   "source": [
    "# Module 8 Assignment\n",
    "\n",
    "\n",
    "A few things you should keep in mind when working on assignments:\n",
    "\n",
    "1. Run the first code cell to import modules needed by this assignment before proceeding to problems.\n",
    "2. Make sure you fill in any place that says `# YOUR CODE HERE`. Do not write your answer anywhere else other than where it says `# YOUR CODE HERE`. Anything you write elsewhere will be removed or overwritten by the autograder.\n",
    "3. Each problem has an autograder cell below the answer cell. Run the autograder cell to check your answer. If there's anything wrong in your answer, the autograder cell will display error messages.\n",
    "4. Before you submit your assignment, make sure everything runs as expected. Go to the menubar, select Kernel, and Restart & Run all. If the notebook runs through the last code cell without error message, you've answered all problems correctly.\n",
    "5. Make sure that you save your work (in the menubar, select File → Save and CheckPoint).\n",
    "\n",
    "-----"
   ]
  },
  {
   "cell_type": "markdown",
   "metadata": {
    "nbgrader": {
     "grade": false,
     "grade_id": "cell-669359248812e9f0",
     "locked": true,
     "schema_version": 3,
     "solution": false
    }
   },
   "source": [
    "# Run Me First!"
   ]
  },
  {
   "cell_type": "code",
   "execution_count": 1,
   "metadata": {
    "nbgrader": {
     "grade": false,
     "grade_id": "imports",
     "locked": true,
     "schema_version": 3,
     "solution": false
    }
   },
   "outputs": [],
   "source": [
    "import sqlite3 as sql\n",
    "import pandas as pd\n",
    "\n",
    "from nose.tools import assert_equal, assert_true"
   ]
  },
  {
   "cell_type": "markdown",
   "metadata": {
    "nbgrader": {
     "grade": false,
     "grade_id": "p1_desc",
     "locked": true,
     "schema_version": 3,
     "solution": false
    }
   },
   "source": [
    "-----\n",
    "\n",
    "## Problem 1: Creating DB, Establishing a Connection, Creating a Table\n",
    "\n",
    "In the code cell below, we declare a function named `create` that takes one function parameter: `file_path`, which is a string containing the file path to the SQLite3 database.\n",
    "\n",
    "To complete this problem, finish writing the function `create`:\n",
    "- establish a sqlite3 connection to the database 'file_path',\n",
    "- create a cursor using the connection to this database,\n",
    "- use the cursor to drop the `Courses` table if it exists,\n",
    "- use the cursor to create the `Courses` table with the following columns:\n",
    "    - `Subject` with type text and does not contain any NULL values,\n",
    "    - `CourseNumber` with type integer and does not contain any NULL values,\n",
    "    - `CRN` with type integer and does not contain any NULL values, and\n",
    "- return the connection to the database and the database cursor.\n",
    "\n",
    "-----"
   ]
  },
  {
   "cell_type": "code",
   "execution_count": 2,
   "metadata": {
    "nbgrader": {
     "grade": false,
     "grade_id": "p1_ans",
     "locked": false,
     "schema_version": 3,
     "solution": true
    }
   },
   "outputs": [],
   "source": [
    "# connect to a datbase create a table\n",
    "def create(file_path):\n",
    "    '''\n",
    "    Creates and establishes a connection to a database and \n",
    "    creates a table.\n",
    "    \n",
    "    Parameters\n",
    "    ----------\n",
    "    file_path: string containing path to create database\n",
    "    \n",
    "    Returns\n",
    "    -------\n",
    "    con: sqlite3 connection\n",
    "    cur: sqlite3 database cursor object\n",
    "    '''\n",
    "    \n",
    "    ###BEGIN SOLUTION\n",
    "    con = sql.connect(file_path)\n",
    "    cur = con.cursor() \n",
    "    query='DROP TABLE IF EXISTS Courses;'\n",
    "    cur.execute(query)\n",
    "    query = '''\n",
    "    CREATE TABLE Courses (\n",
    "        Subject TEXT NOT NULL,\n",
    "        CourseNumber INT NOT NULL,\n",
    "        CRN INT NOT NULL\n",
    "    );\n",
    "    '''\n",
    "    cur.execute(query)\n",
    "    return con, cur\n",
    "    ###END SOLUTION###"
   ]
  },
  {
   "cell_type": "code",
   "execution_count": 3,
   "metadata": {
    "nbgrader": {
     "grade": true,
     "grade_id": "p1_test",
     "locked": true,
     "points": 1,
     "schema_version": 3,
     "solution": false
    }
   },
   "outputs": [],
   "source": [
    "con, cur = create('sql_files/m12.db')\n",
    "\n",
    "cur.execute(\"PRAGMA table_Info('Courses')\")\n",
    "result = cur.fetchall()\n",
    "\n",
    "ans = ''\n",
    "for i in result:\n",
    "    ans = ans + i[1] + \" \" + i[2] +'|'\n",
    "    \n",
    "assert_true('Subject TEXT' in ans, msg='Subject should be of type text')\n",
    "assert_true('CourseNumber INT' in ans, msg='CourseNumber should be of type int')\n",
    "assert_true('CRN INT' in ans, msg='CRN should be of type integer')\n"
   ]
  },
  {
   "cell_type": "markdown",
   "metadata": {
    "nbgrader": {
     "grade": false,
     "grade_id": "p2_desc",
     "locked": true,
     "schema_version": 3,
     "solution": false
    }
   },
   "source": [
    "-----\n",
    "\n",
    "## Problem 2: Inserting Data\n",
    "\n",
    "In the code cell below, we declare a function named `insert` that takes two function parameter: `cur` which is a sqlite3 cursor and `data`, which is a list of tuples.\n",
    "\n",
    "To complete this problem, finish writing the function `insert`:\n",
    "- write and execute sql query to:\n",
    " - delete existing data in `Courses` table,\n",
    " - insert data in `data` to `Courses` table.\n",
    "\n",
    "-----"
   ]
  },
  {
   "cell_type": "code",
   "execution_count": 4,
   "metadata": {
    "nbgrader": {
     "grade": false,
     "grade_id": "cell-199c00910d9626ac",
     "locked": true,
     "schema_version": 3,
     "solution": false
    }
   },
   "outputs": [
    {
     "data": {
      "text/plain": [
       "[('ACCY', 199, 10033),\n",
       " ('ACCY', 199, 69998),\n",
       " ('ACCY', 200, 29670),\n",
       " ('ACCY', 201, 36478),\n",
       " ('ART', 102, 62794),\n",
       " ('ART', 150, 65459),\n",
       " ('ART', 310, 64968),\n",
       " ('IE', 300, 51898),\n",
       " ('IE', 512, 35414),\n",
       " ('IE', 360, 61503),\n",
       " ('LAW', 600, 30836),\n",
       " ('LAW', 604, 31954),\n",
       " ('LAW', 634, 56475)]"
      ]
     },
     "execution_count": 4,
     "metadata": {},
     "output_type": "execute_result"
    }
   ],
   "source": [
    "data = [('ACCY', 199, 10033), ('ACCY', 199, 69998), ('ACCY', 200, 29670), ('ACCY', 201, 36478),\n",
    "        ('ART', 102, 62794), ('ART', 150, 65459), ('ART', 310, 64968),\n",
    "        ('IE', 300, 51898), ('IE', 512, 35414), ('IE', 360, 61503),\n",
    "        ('LAW', 600, 30836), ('LAW', 604, 31954), ('LAW', 634, 56475)]\n",
    "data"
   ]
  },
  {
   "cell_type": "code",
   "execution_count": 5,
   "metadata": {
    "nbgrader": {
     "grade": false,
     "grade_id": "p2_ans",
     "locked": false,
     "schema_version": 3,
     "solution": true
    }
   },
   "outputs": [],
   "source": [
    "def insert(cur, data):\n",
    "    '''\n",
    "    Delete existing data in Courses table and insert data in data to Courses table.\n",
    "    \n",
    "    Parameters\n",
    "    ----------\n",
    "    cur: sqlite3 cursor\n",
    "    data: list of tuples\n",
    "    \n",
    "    Returns\n",
    "    -------\n",
    "    None\n",
    "    '''\n",
    "    \n",
    "    ###BEGIN SOLUTION###\n",
    "    cur.execute(\"DELETE FROM Courses\")\n",
    "    cur.executemany(\"INSERT INTO Courses (Subject, CourseNumber, CRN) VALUES (?, ?, ?)\", data)\n",
    "    ###END SOLUTION###"
   ]
  },
  {
   "cell_type": "code",
   "execution_count": 6,
   "metadata": {
    "nbgrader": {
     "grade": true,
     "grade_id": "p2_tests",
     "locked": true,
     "points": 1,
     "schema_version": 3,
     "solution": false
    }
   },
   "outputs": [],
   "source": [
    "insert(cur, data)\n",
    "\n",
    "cur.execute('select * from courses')\n",
    "result = cur.fetchall()\n",
    "assert_equal(result, data, msg=\"Your answer does not match the solution\")"
   ]
  },
  {
   "cell_type": "markdown",
   "metadata": {
    "nbgrader": {
     "grade": false,
     "grade_id": "p3_desc",
     "locked": true,
     "schema_version": 3,
     "solution": false
    }
   },
   "source": [
    "-----\n",
    "\n",
    "## Problem 3: Selecting Data into a DataFrame\n",
    "\n",
    "In the code cell below, we declare a function named `select` that takes two function parameters.\n",
    "\n",
    "To complete this problem, finish writing the function `select`:\n",
    "- Selects all columns of data from the `Courses` table for those courses with subject represented by function parameter \"sub\", and load to a dataframe\n",
    "- return the dataframe.\n",
    "\n",
    "-----"
   ]
  },
  {
   "cell_type": "code",
   "execution_count": 7,
   "metadata": {
    "nbgrader": {
     "grade": false,
     "grade_id": "p3_ans",
     "locked": false,
     "schema_version": 3,
     "solution": true
    }
   },
   "outputs": [],
   "source": [
    "# Select data\n",
    "def select(con, sub):\n",
    "    '''\n",
    "    Selects data from the courses table by subject.\n",
    "    \n",
    "    Parameters\n",
    "    ----------\n",
    "    con: sqlite3 connection\n",
    "    sub: subject to select\n",
    "    \n",
    "    Returns\n",
    "    -------\n",
    "    dataframe that contains course info\n",
    "    '''\n",
    "    \n",
    "    ###BEGIN SOLUTION###\n",
    "    df = pd.read_sql(\"select * from courses where subject = '{}'\".format(sub), con)\n",
    "    return df\n",
    "    ###END SOLUTION###"
   ]
  },
  {
   "cell_type": "code",
   "execution_count": 8,
   "metadata": {
    "nbgrader": {
     "grade": true,
     "grade_id": "p3_test",
     "locked": true,
     "points": 1,
     "schema_version": 3,
     "solution": false
    }
   },
   "outputs": [],
   "source": [
    "result = select(con, 'ACCY')\n",
    "assert_equal(result.shape[0], 4, msg=\"Your answer does not match the solution\")"
   ]
  },
  {
   "cell_type": "markdown",
   "metadata": {
    "nbgrader": {
     "grade": false,
     "grade_id": "p4-desc",
     "locked": true,
     "schema_version": 3,
     "solution": false
    }
   },
   "source": [
    "-----\n",
    "\n",
    "## Problem 4: Load and Create New Table\n",
    "\n",
    "In the code cell below, we declare a function named `load_create` that takes two function parameters.\n",
    "\n",
    "To complete this problem, finish writing the function `load_create`:\n",
    "- Selects all columns of data from the `Courses` table and load to a dataframe\n",
    "- write dataframe into a new database table-new_table_name\n",
    " - replace the table if already exists\n",
    " - **donot** write dataframe index to database\n",
    "\n",
    "-----"
   ]
  },
  {
   "cell_type": "code",
   "execution_count": 9,
   "metadata": {
    "nbgrader": {
     "grade": false,
     "grade_id": "p4-ans",
     "locked": false,
     "schema_version": 3,
     "solution": true
    }
   },
   "outputs": [],
   "source": [
    "def load_create(con, new_table_name):\n",
    "    '''\n",
    "    Load data from the Courses table to a dataframe, then write the dateframe to a new table.\n",
    "    \n",
    "    Parameters\n",
    "    ----------\n",
    "    con: sqlite3 connection\n",
    "    new_table_name: name of the new table\n",
    "    \n",
    "    Returns\n",
    "    -------\n",
    "    None\n",
    "    '''\n",
    "    \n",
    "    ###BEGIN SOLUTION###\n",
    "    df = pd.read_sql(\"select * from courses\", con)\n",
    "    df.to_sql(new_table_name, con, index=False, if_exists='replace')\n",
    "    return df\n",
    "    ###END SOLUTION###"
   ]
  },
  {
   "cell_type": "code",
   "execution_count": 10,
   "metadata": {
    "nbgrader": {
     "grade": true,
     "grade_id": "p4-test",
     "locked": true,
     "points": 1,
     "schema_version": 3,
     "solution": false
    }
   },
   "outputs": [],
   "source": [
    "load_create(con, 'Courses_copy')\n",
    "df_copy = pd.read_sql(\"select * from courses_copy\", con)\n",
    "assert_equal(df_copy.shape, (13,3), msg=\"Your function doesn't meet the requirments\")\n",
    "cur.close()\n",
    "con.close()"
   ]
  }
 ],
 "metadata": {
  "anaconda-cloud": {},
  "celltoolbar": "Edit Metadata",
  "coursera": {
   "course_slug": "data-analytics-accountancy-2",
   "graded_item_id": "ZfO6D",
   "launcher_item_id": "55BT5"
  },
  "kernelspec": {
   "display_name": "Python 3",
   "language": "python",
   "name": "python3"
  },
  "language_info": {
   "codemirror_mode": {
    "name": "ipython",
    "version": 3
   },
   "file_extension": ".py",
   "mimetype": "text/x-python",
   "name": "python",
   "nbconvert_exporter": "python",
   "pygments_lexer": "ipython3",
   "version": "3.7.1"
  }
 },
 "nbformat": 4,
 "nbformat_minor": 2
}
