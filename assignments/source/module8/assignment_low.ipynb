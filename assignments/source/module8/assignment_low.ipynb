{
 "cells": [
  {
   "cell_type": "markdown",
   "metadata": {
    "nbgrader": {
     "grade": false,
     "grade_id": "intro",
     "locked": true,
     "schema_version": 3,
     "solution": false
    }
   },
   "source": [
    "# Module 8 Assignment\n",
    "\n",
    "\n",
    "A few things you should keep in mind when working on assignments:\n",
    "\n",
    "1. Run the first code cell to import modules needed by this assignment before proceeding to problems.\n",
    "2. Make sure you fill in any place that says `# YOUR CODE HERE`. Do not write your answer anywhere else other than where it says `# YOUR CODE HERE`. Anything you write elsewhere will be removed or overwritten by the autograder.\n",
    "3. Each problem has an autograder cell below the answer cell. Run the autograder cell to check your answer. If there's anything wrong in your answer, the autograder cell will display error messages.\n",
    "4. Before you submit your assignment, make sure everything runs as expected. Go to the menubar, select Kernel, and Restart & Run all. If the notebook runs through the last code cell without an error message, you've answered all problems correctly.\n",
    "5. Make sure that you save your work (in the menubar, select File → Save and CheckPoint).\n",
    "\n",
    "-----"
   ]
  },
  {
   "cell_type": "markdown",
   "metadata": {
    "nbgrader": {
     "grade": false,
     "grade_id": "cell-669359248812e9f0",
     "locked": true,
     "schema_version": 3,
     "solution": false
    }
   },
   "source": [
    "# Run Me First!"
   ]
  },
  {
   "cell_type": "code",
   "execution_count": 1,
   "metadata": {
    "nbgrader": {
     "grade": false,
     "grade_id": "imports",
     "locked": true,
     "schema_version": 3,
     "solution": false
    }
   },
   "outputs": [],
   "source": [
    "import sqlite3 as sql\n",
    "import pandas as pd\n",
    "\n",
    "from nose.tools import assert_equal, assert_true"
   ]
  },
  {
   "cell_type": "markdown",
   "metadata": {
    "nbgrader": {
     "grade": false,
     "grade_id": "p1_desc",
     "locked": true,
     "schema_version": 3,
     "solution": false
    }
   },
   "source": [
    "-----\n",
    "\n",
    "## Problem 1: Establishing a connection, getting a cursor\n",
    "\n",
    "In the code cell below, we declare a function named `create_connection` that takes one function parameter: `file_path`, which is a string containing the file path to the SQLite3 database.\n",
    "\n",
    "To complete this problem, finish writing the function `create_connection`:\n",
    "- Establish a sqlite3 connection to the database 'file_path'.\n",
    "- Create a cursor using the connection to this database.\n",
    "- Return the connection to the database and the database cursor.\n",
    "\n",
    "-----"
   ]
  },
  {
   "cell_type": "code",
   "execution_count": 2,
   "metadata": {
    "nbgrader": {
     "grade": false,
     "grade_id": "p1_ans",
     "locked": false,
     "schema_version": 3,
     "solution": true
    }
   },
   "outputs": [],
   "source": [
    "# connect to a datbase\n",
    "def create_connection(file_path):\n",
    "    '''\n",
    "    Creates and establishes a connection to a database\n",
    "    \n",
    "    Parameters\n",
    "    ----------\n",
    "    file_path: string containing path to create database\n",
    "    \n",
    "    Returns\n",
    "    -------\n",
    "    con: sqlite3 connection\n",
    "    cur: sqlite3 database cursor object\n",
    "    '''\n",
    "    \n",
    "    ###BEGIN SOLUTION\n",
    "    con = sql.connect(file_path)\n",
    "    cur = con.cursor() \n",
    "    return con, cur\n",
    "    ###END SOLUTION###"
   ]
  },
  {
   "cell_type": "code",
   "execution_count": 3,
   "metadata": {
    "nbgrader": {
     "grade": true,
     "grade_id": "p1_test",
     "locked": true,
     "points": 1,
     "schema_version": 3,
     "solution": false
    }
   },
   "outputs": [],
   "source": [
    "con, cur = create_connection('sql_files/m8.db')\n",
    "\n",
    "cur.execute(\"PRAGMA table_Info('Courses')\")\n",
    "result = cur.fetchall()\n",
    "\n",
    "assert_true('Subject' in result[0], msg='Connection is not established correctly.')"
   ]
  },
  {
   "cell_type": "markdown",
   "metadata": {
    "nbgrader": {
     "grade": false,
     "grade_id": "p2_desc",
     "locked": true,
     "schema_version": 3,
     "solution": false
    }
   },
   "source": [
    "-----\n",
    "\n",
    "## Problem 2: Selecting all data from a table\n",
    "\n",
    "In the code cell below, we declare a function named `select_all` that takes one function parameters: `cur`, which is the cursor.\n",
    "\n",
    "For this problem, the database has a **Courses** table.\n",
    "\n",
    "To complete this problem, finish writing the function `select_all`:\n",
    "- Use the cursor represented by `cur` to execute a query that selects all data from the table **Courses**.\n",
    "- Use fetchall() function to fetch all the results from the cursor.\n",
    "- Return the result returned by fetchall().\n",
    "\n",
    "-----"
   ]
  },
  {
   "cell_type": "code",
   "execution_count": 4,
   "metadata": {
    "nbgrader": {
     "grade": false,
     "grade_id": "p2_ans",
     "locked": false,
     "schema_version": 3,
     "solution": true
    }
   },
   "outputs": [],
   "source": [
    "def select_all(cur):\n",
    "    '''\n",
    "    Fetch all result in the table Courses\n",
    "    \n",
    "    Parameters\n",
    "    ----------\n",
    "    cur: sqlite3 cursor\n",
    "    \n",
    "    Returns\n",
    "    -------\n",
    "    All data fetched from the table\n",
    "    '''\n",
    "    \n",
    "    ###BEGIN SOLUTION###\n",
    "    cur.execute(\"select * from courses\")\n",
    "    return cur.fetchall()\n",
    "    ###END SOLUTION###"
   ]
  },
  {
   "cell_type": "code",
   "execution_count": 5,
   "metadata": {
    "nbgrader": {
     "grade": true,
     "grade_id": "p2_tests",
     "locked": true,
     "points": 1,
     "schema_version": 3,
     "solution": false
    }
   },
   "outputs": [
    {
     "name": "stdout",
     "output_type": "stream",
     "text": [
      "Courses:\n",
      "Subject CRN CourseNumber\n",
      "ACCY    199 10033\n",
      "ACCY    199 69998\n",
      "ACCY    200 29670\n",
      "ACCY    201 36478\n",
      "ART     102 62794\n",
      "ART     150 65459\n",
      "ART     310 64968\n",
      "IE      300 51898\n",
      "IE      512 35414\n",
      "IE      360 61503\n",
      "LAW     600 30836\n",
      "LAW     604 31954\n",
      "LAW     634 56475\n"
     ]
    }
   ],
   "source": [
    "data = select_all(cur)\n",
    "assert_equal(len(data), 13, msg=\"Your answer does not match the solution.\")\n",
    "assert_true('ACCY' in data[0], msg=\"Your answer does not match the solution.\")\n",
    "assert_true(199 in data[0], msg=\"Your answer does not match the solution.\")\n",
    "assert_true(10033 in data[0], msg=\"Your answer does not match the solution.\")\n",
    "print(\"Courses:\")\n",
    "print(f'{\"Subject\":8s}{\"CRN\":4s}{\"CourseNumber\":10s}')\n",
    "for row in data:\n",
    "    print(f'{row[0]:8s}{row[1]:3}{row[2]:6}')\n",
    "      "
   ]
  },
  {
   "cell_type": "markdown",
   "metadata": {
    "nbgrader": {
     "grade": false,
     "grade_id": "p3_desc",
     "locked": true,
     "schema_version": 3,
     "solution": false
    }
   },
   "source": [
    "-----\n",
    "\n",
    "## Problem 3: Selecting all data into a DataFrame\n",
    "\n",
    "In the code cell below, we declare a function named `select_all_to_dataframe` that takes one function parameters, `con`, which is the database connection.\n",
    "\n",
    "For this problem, the database has a **Courses** table.\n",
    "\n",
    "To complete this problem, finish writing the function `select_all_to_dataframe`:\n",
    "- Use pandas read_sql function with database connect represented by `con` to load all data from the table **Courses** and load the result to a DataFrame\n",
    "- Return the DataFrame.\n",
    "\n",
    "-----"
   ]
  },
  {
   "cell_type": "code",
   "execution_count": 6,
   "metadata": {
    "nbgrader": {
     "grade": false,
     "grade_id": "p3_ans",
     "locked": false,
     "schema_version": 3,
     "solution": true
    }
   },
   "outputs": [],
   "source": [
    "# Select data\n",
    "def select_all_to_dataframe(con):\n",
    "    '''\n",
    "    Selects data from table Courses to a DataFrame.\n",
    "    \n",
    "    Parameters\n",
    "    ----------\n",
    "    con: sqlite3 connection\n",
    "    \n",
    "    Returns\n",
    "    -------\n",
    "    dataframe that contains all data in the table\n",
    "    '''\n",
    "    \n",
    "    ###BEGIN SOLUTION###\n",
    "    df = pd.read_sql(f\"select * from Courses\", con)\n",
    "    return df\n",
    "    ###END SOLUTION###"
   ]
  },
  {
   "cell_type": "code",
   "execution_count": 7,
   "metadata": {
    "nbgrader": {
     "grade": true,
     "grade_id": "p3_test",
     "locked": true,
     "points": 1,
     "schema_version": 3,
     "solution": false
    }
   },
   "outputs": [
    {
     "data": {
      "text/html": [
       "<div>\n",
       "<style scoped>\n",
       "    .dataframe tbody tr th:only-of-type {\n",
       "        vertical-align: middle;\n",
       "    }\n",
       "\n",
       "    .dataframe tbody tr th {\n",
       "        vertical-align: top;\n",
       "    }\n",
       "\n",
       "    .dataframe thead th {\n",
       "        text-align: right;\n",
       "    }\n",
       "</style>\n",
       "<table border=\"1\" class=\"dataframe\">\n",
       "  <thead>\n",
       "    <tr style=\"text-align: right;\">\n",
       "      <th></th>\n",
       "      <th>Subject</th>\n",
       "      <th>CourseNumber</th>\n",
       "      <th>CRN</th>\n",
       "    </tr>\n",
       "  </thead>\n",
       "  <tbody>\n",
       "    <tr>\n",
       "      <th>0</th>\n",
       "      <td>ACCY</td>\n",
       "      <td>199</td>\n",
       "      <td>10033</td>\n",
       "    </tr>\n",
       "    <tr>\n",
       "      <th>1</th>\n",
       "      <td>ACCY</td>\n",
       "      <td>199</td>\n",
       "      <td>69998</td>\n",
       "    </tr>\n",
       "    <tr>\n",
       "      <th>2</th>\n",
       "      <td>ACCY</td>\n",
       "      <td>200</td>\n",
       "      <td>29670</td>\n",
       "    </tr>\n",
       "    <tr>\n",
       "      <th>3</th>\n",
       "      <td>ACCY</td>\n",
       "      <td>201</td>\n",
       "      <td>36478</td>\n",
       "    </tr>\n",
       "    <tr>\n",
       "      <th>4</th>\n",
       "      <td>ART</td>\n",
       "      <td>102</td>\n",
       "      <td>62794</td>\n",
       "    </tr>\n",
       "    <tr>\n",
       "      <th>5</th>\n",
       "      <td>ART</td>\n",
       "      <td>150</td>\n",
       "      <td>65459</td>\n",
       "    </tr>\n",
       "    <tr>\n",
       "      <th>6</th>\n",
       "      <td>ART</td>\n",
       "      <td>310</td>\n",
       "      <td>64968</td>\n",
       "    </tr>\n",
       "    <tr>\n",
       "      <th>7</th>\n",
       "      <td>IE</td>\n",
       "      <td>300</td>\n",
       "      <td>51898</td>\n",
       "    </tr>\n",
       "    <tr>\n",
       "      <th>8</th>\n",
       "      <td>IE</td>\n",
       "      <td>512</td>\n",
       "      <td>35414</td>\n",
       "    </tr>\n",
       "    <tr>\n",
       "      <th>9</th>\n",
       "      <td>IE</td>\n",
       "      <td>360</td>\n",
       "      <td>61503</td>\n",
       "    </tr>\n",
       "    <tr>\n",
       "      <th>10</th>\n",
       "      <td>LAW</td>\n",
       "      <td>600</td>\n",
       "      <td>30836</td>\n",
       "    </tr>\n",
       "    <tr>\n",
       "      <th>11</th>\n",
       "      <td>LAW</td>\n",
       "      <td>604</td>\n",
       "      <td>31954</td>\n",
       "    </tr>\n",
       "    <tr>\n",
       "      <th>12</th>\n",
       "      <td>LAW</td>\n",
       "      <td>634</td>\n",
       "      <td>56475</td>\n",
       "    </tr>\n",
       "  </tbody>\n",
       "</table>\n",
       "</div>"
      ],
      "text/plain": [
       "   Subject  CourseNumber    CRN\n",
       "0     ACCY           199  10033\n",
       "1     ACCY           199  69998\n",
       "2     ACCY           200  29670\n",
       "3     ACCY           201  36478\n",
       "4      ART           102  62794\n",
       "5      ART           150  65459\n",
       "6      ART           310  64968\n",
       "7       IE           300  51898\n",
       "8       IE           512  35414\n",
       "9       IE           360  61503\n",
       "10     LAW           600  30836\n",
       "11     LAW           604  31954\n",
       "12     LAW           634  56475"
      ]
     },
     "execution_count": 7,
     "metadata": {},
     "output_type": "execute_result"
    }
   ],
   "source": [
    "result = select_all_to_dataframe(con)\n",
    "assert_equal(result.shape, (13,3), msg=\"Your answer does not match the solution\")\n",
    "result"
   ]
  },
  {
   "cell_type": "markdown",
   "metadata": {
    "nbgrader": {
     "grade": false,
     "grade_id": "p4-desc",
     "locked": true,
     "schema_version": 3,
     "solution": false
    }
   },
   "source": [
    "-----\n",
    "\n",
    "## Problem 4: Selecting data by subject into a DataFrame\n",
    "\n",
    "In the code cell below, we declare a function named `select_data_by_subject` that takes two function parameters: `con`, which is the database connection, and `sub`, which is the subject to select.\n",
    "\n",
    "For this problem, the database has a **Courses** table. The **Courses** table has a TEXT column **Subject**.\n",
    "\n",
    "To complete this problem, finish writing the function `select_data_by_subject`:\n",
    "- Use pandas read_sql function with database connect represented by `con` to read all data from the table **Courses** with **Subject** equals to the string represented by `sub`, load the results to a DataFrame.\n",
    "- Return the DataFrame.\n",
    "\n",
    "-----"
   ]
  },
  {
   "cell_type": "code",
   "execution_count": 8,
   "metadata": {
    "nbgrader": {
     "grade": false,
     "grade_id": "p4-ans",
     "locked": false,
     "schema_version": 3,
     "solution": true
    }
   },
   "outputs": [],
   "source": [
    "# Select data by subject\n",
    "def select_data_by_subject(con, sub):\n",
    "    '''\n",
    "    Selects data from the Courses table by Subject.\n",
    "    \n",
    "    Parameters\n",
    "    ----------\n",
    "    con: sqlite3 connection\n",
    "    sub: subject to select\n",
    "    \n",
    "    Returns\n",
    "    -------\n",
    "    dataframe that contains course info with particular subject\n",
    "    '''\n",
    "    \n",
    "    ###BEGIN SOLUTION###\n",
    "    df = pd.read_sql(f\"select * from courses where subject = '{sub}'\", con)\n",
    "    return df\n",
    "    ###END SOLUTION###"
   ]
  },
  {
   "cell_type": "code",
   "execution_count": 9,
   "metadata": {
    "nbgrader": {
     "grade": true,
     "grade_id": "p4-test",
     "locked": true,
     "points": 1,
     "schema_version": 3,
     "solution": false
    }
   },
   "outputs": [
    {
     "data": {
      "text/html": [
       "<div>\n",
       "<style scoped>\n",
       "    .dataframe tbody tr th:only-of-type {\n",
       "        vertical-align: middle;\n",
       "    }\n",
       "\n",
       "    .dataframe tbody tr th {\n",
       "        vertical-align: top;\n",
       "    }\n",
       "\n",
       "    .dataframe thead th {\n",
       "        text-align: right;\n",
       "    }\n",
       "</style>\n",
       "<table border=\"1\" class=\"dataframe\">\n",
       "  <thead>\n",
       "    <tr style=\"text-align: right;\">\n",
       "      <th></th>\n",
       "      <th>Subject</th>\n",
       "      <th>CourseNumber</th>\n",
       "      <th>CRN</th>\n",
       "    </tr>\n",
       "  </thead>\n",
       "  <tbody>\n",
       "    <tr>\n",
       "      <th>0</th>\n",
       "      <td>ACCY</td>\n",
       "      <td>199</td>\n",
       "      <td>10033</td>\n",
       "    </tr>\n",
       "    <tr>\n",
       "      <th>1</th>\n",
       "      <td>ACCY</td>\n",
       "      <td>199</td>\n",
       "      <td>69998</td>\n",
       "    </tr>\n",
       "    <tr>\n",
       "      <th>2</th>\n",
       "      <td>ACCY</td>\n",
       "      <td>200</td>\n",
       "      <td>29670</td>\n",
       "    </tr>\n",
       "    <tr>\n",
       "      <th>3</th>\n",
       "      <td>ACCY</td>\n",
       "      <td>201</td>\n",
       "      <td>36478</td>\n",
       "    </tr>\n",
       "  </tbody>\n",
       "</table>\n",
       "</div>"
      ],
      "text/plain": [
       "  Subject  CourseNumber    CRN\n",
       "0    ACCY           199  10033\n",
       "1    ACCY           199  69998\n",
       "2    ACCY           200  29670\n",
       "3    ACCY           201  36478"
      ]
     },
     "execution_count": 9,
     "metadata": {},
     "output_type": "execute_result"
    }
   ],
   "source": [
    "accy = select_data_by_subject(con, 'ACCY')\n",
    "assert_equal(accy.shape, (4,3), msg=\"Your answer does not match the solution.\")\n",
    "accy"
   ]
  },
  {
   "cell_type": "code",
   "execution_count": 10,
   "metadata": {
    "nbgrader": {
     "grade": false,
     "grade_id": "cell-01b1010c1fe07c2c",
     "locked": true,
     "schema_version": 3,
     "solution": false,
     "task": false
    }
   },
   "outputs": [],
   "source": [
    "#Release database connection and cursor\n",
    "cur.close()\n",
    "con.close()"
   ]
  }
 ],
 "metadata": {
  "celltoolbar": "Create Assignment",
  "coursera": {
   "course_slug": "accounting-data-analytics-python",
   "graded_item_id": "T61Ru",
   "launcher_item_id": "FGNcG"
  },
  "kernelspec": {
   "display_name": "Python 3 (ipykernel)",
   "language": "python",
   "name": "python3"
  },
  "language_info": {
   "codemirror_mode": {
    "name": "ipython",
    "version": 3
   },
   "file_extension": ".py",
   "mimetype": "text/x-python",
   "name": "python",
   "nbconvert_exporter": "python",
   "pygments_lexer": "ipython3",
   "version": "3.9.5"
  }
 },
 "nbformat": 4,
 "nbformat_minor": 4
}
