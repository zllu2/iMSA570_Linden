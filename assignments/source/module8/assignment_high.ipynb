{
 "cells": [
  {
   "cell_type": "markdown",
   "metadata": {
    "nbgrader": {
     "grade": false,
     "grade_id": "intro",
     "locked": true,
     "schema_version": 3,
     "solution": false
    }
   },
   "source": [
    "# Module 8 Assignment\n",
    "\n",
    "\n",
    "A few things you should keep in mind when working on assignments:\n",
    "\n",
    "1. Run the first code cell to import modules needed by this assignment before proceeding to problems.\n",
    "2. Make sure you fill in any place that says `# YOUR CODE HERE`. Do not write your answer anywhere else other than where it says `# YOUR CODE HERE`. Anything you write elsewhere will be removed or overwritten by the autograder.\n",
    "3. Each problem has an autograder cell below the answer cell. Run the autograder cell to check your answer. If there's anything wrong in your answer, the autograder cell will display error messages.\n",
    "4. Before you submit your assignment, make sure everything runs as expected. Go to the menubar, select Kernel, and Restart & Run all. If the notebook runs through the last code cell without an error message, you've answered all problems correctly.\n",
    "5. Make sure that you save your work (in the menubar, select File → Save and CheckPoint).\n",
    "\n",
    "-----"
   ]
  },
  {
   "cell_type": "markdown",
   "metadata": {
    "nbgrader": {
     "grade": false,
     "grade_id": "cell-cbca7c7ba2157ed7",
     "locked": true,
     "schema_version": 3,
     "solution": false
    }
   },
   "source": [
    "# Run Me First!"
   ]
  },
  {
   "cell_type": "code",
   "execution_count": 1,
   "metadata": {
    "nbgrader": {
     "grade": false,
     "grade_id": "import",
     "locked": true,
     "schema_version": 3,
     "solution": false
    }
   },
   "outputs": [],
   "source": [
    "import sqlite3 as sql\n",
    "import pandas as pd\n",
    "\n",
    "from nose.tools import assert_equal, assert_true"
   ]
  },
  {
   "cell_type": "markdown",
   "metadata": {
    "nbgrader": {
     "grade": false,
     "grade_id": "p1_desc",
     "locked": true,
     "schema_version": 3,
     "solution": false
    }
   },
   "source": [
    "-----\n",
    "\n",
    "## Problem 1: Get database connection\n",
    "\n",
    "In the code cell below, we declare a function named `get_connection` that takes one function parameter: `file_path`, which is a string that contains the file path for the database file you will create.\n",
    "\n",
    "To complete this problem, finish writing the function `get_connection`:\n",
    "- Establish a sqlite3 connection to the database 'file_path',\n",
    "- Return the sqlite3 connection.\n",
    "\n",
    "-----"
   ]
  },
  {
   "cell_type": "code",
   "execution_count": 2,
   "metadata": {
    "nbgrader": {
     "grade": false,
     "grade_id": "p1_ans",
     "locked": false,
     "schema_version": 3,
     "solution": true
    }
   },
   "outputs": [],
   "source": [
    "def get_connection(file_path):\n",
    "    '''\n",
    "    Establishe and return a connection to a database.\n",
    "    \n",
    "    Parameters\n",
    "    ----------\n",
    "    file_path: string containing path to create database\n",
    "    \n",
    "    Returns\n",
    "    -------\n",
    "    con: sqlite3 connection\n",
    "    '''\n",
    "    \n",
    "    ###BEGIN SOLUTION###\n",
    "    con = sql.connect(file_path)\n",
    "    return con\n",
    "    ###END SOLUTION###"
   ]
  },
  {
   "cell_type": "code",
   "execution_count": 3,
   "metadata": {
    "nbgrader": {
     "grade": true,
     "grade_id": "p1_test",
     "locked": true,
     "points": 1,
     "schema_version": 3,
     "solution": false
    }
   },
   "outputs": [],
   "source": [
    "con = get_connection('sql_files/m8-high.db')\n",
    "cur = con.cursor()\n",
    "cur.execute(\"PRAGMA table_Info('Checker')\")\n",
    "result = cur.fetchall()\n",
    "\n",
    "assert_true(result[0][1].upper()=='CNUM', msg='Database connection is not correct.')"
   ]
  },
  {
   "cell_type": "markdown",
   "metadata": {
    "nbgrader": {
     "grade": false,
     "grade_id": "p2_desc",
     "locked": true,
     "schema_version": 3,
     "solution": false
    }
   },
   "source": [
    "-----\n",
    "\n",
    "## Problem 2: Read in data\n",
    "\n",
    "In the code cell below, we declare a function named `read_data` that takes one function parameter: `read_path`, which is a string that contains the file path for the **csv** file you will use.\n",
    "\n",
    "To complete this problem, finish writing the function `read`:\n",
    "- Use Pandas read_csv() to read data from the csv file located at `read_path`,\n",
    "- Return the resulting Pandas DataFrame.\n",
    "\n",
    "-----"
   ]
  },
  {
   "cell_type": "code",
   "execution_count": 4,
   "metadata": {
    "nbgrader": {
     "grade": false,
     "grade_id": "p2_ans",
     "locked": false,
     "schema_version": 3,
     "solution": true
    }
   },
   "outputs": [],
   "source": [
    "def read_data(read_path):\n",
    "    '''\n",
    "    Read data from csv file \"read_path\" by using Pandas\n",
    "    \n",
    "    Parameters\n",
    "    ----------\n",
    "    read_path: string containing the file path from which to read data\n",
    "    \n",
    "    Returns\n",
    "    -------\n",
    "    Pandas DataFrame\n",
    "    '''\n",
    "    \n",
    "    ###BEGIN SOLUTION###\n",
    "    df = pd.read_csv(read_path)\n",
    "    return df\n",
    "    ###END SOLUTION###"
   ]
  },
  {
   "cell_type": "code",
   "execution_count": 5,
   "metadata": {
    "nbgrader": {
     "grade": true,
     "grade_id": "p2_test",
     "locked": true,
     "points": 1,
     "schema_version": 3,
     "solution": false
    }
   },
   "outputs": [
    {
     "name": "stdout",
     "output_type": "stream",
     "text": [
      "First five ACCY Courses offered Fall 2018 at UIUC:\n"
     ]
    },
    {
     "data": {
      "text/html": [
       "<div>\n",
       "<style scoped>\n",
       "    .dataframe tbody tr th:only-of-type {\n",
       "        vertical-align: middle;\n",
       "    }\n",
       "\n",
       "    .dataframe tbody tr th {\n",
       "        vertical-align: top;\n",
       "    }\n",
       "\n",
       "    .dataframe thead th {\n",
       "        text-align: right;\n",
       "    }\n",
       "</style>\n",
       "<table border=\"1\" class=\"dataframe\">\n",
       "  <thead>\n",
       "    <tr style=\"text-align: right;\">\n",
       "      <th></th>\n",
       "      <th>year</th>\n",
       "      <th>semester</th>\n",
       "      <th>dept</th>\n",
       "      <th>course_num</th>\n",
       "      <th>course_name</th>\n",
       "      <th>description</th>\n",
       "    </tr>\n",
       "  </thead>\n",
       "  <tbody>\n",
       "    <tr>\n",
       "      <td>0</td>\n",
       "      <td>2018</td>\n",
       "      <td>Fall</td>\n",
       "      <td>ACCY</td>\n",
       "      <td>199</td>\n",
       "      <td>Undergraduate Open Seminar</td>\n",
       "      <td>May be repeated.</td>\n",
       "    </tr>\n",
       "    <tr>\n",
       "      <td>1</td>\n",
       "      <td>2018</td>\n",
       "      <td>Fall</td>\n",
       "      <td>ACCY</td>\n",
       "      <td>200</td>\n",
       "      <td>Fundamentals of Accounting</td>\n",
       "      <td>Survey course in the principles of accounting ...</td>\n",
       "    </tr>\n",
       "    <tr>\n",
       "      <td>2</td>\n",
       "      <td>2018</td>\n",
       "      <td>Fall</td>\n",
       "      <td>ACCY</td>\n",
       "      <td>201</td>\n",
       "      <td>Accounting and Accountancy I</td>\n",
       "      <td>Introduction to the role of accounting informa...</td>\n",
       "    </tr>\n",
       "    <tr>\n",
       "      <td>3</td>\n",
       "      <td>2018</td>\n",
       "      <td>Fall</td>\n",
       "      <td>ACCY</td>\n",
       "      <td>202</td>\n",
       "      <td>Accounting and Accountancy II</td>\n",
       "      <td>Continuation of ACCY 201 with focus on strate...</td>\n",
       "    </tr>\n",
       "    <tr>\n",
       "      <td>4</td>\n",
       "      <td>2018</td>\n",
       "      <td>Fall</td>\n",
       "      <td>ACCY</td>\n",
       "      <td>290</td>\n",
       "      <td>Prof Internship in Accountancy</td>\n",
       "      <td>Formalized learning experience in combination ...</td>\n",
       "    </tr>\n",
       "  </tbody>\n",
       "</table>\n",
       "</div>"
      ],
      "text/plain": [
       "   year semester  dept  course_num                     course_name  \\\n",
       "0  2018     Fall  ACCY         199      Undergraduate Open Seminar   \n",
       "1  2018     Fall  ACCY         200      Fundamentals of Accounting   \n",
       "2  2018     Fall  ACCY         201    Accounting and Accountancy I   \n",
       "3  2018     Fall  ACCY         202   Accounting and Accountancy II   \n",
       "4  2018     Fall  ACCY         290  Prof Internship in Accountancy   \n",
       "\n",
       "                                         description  \n",
       "0                                   May be repeated.  \n",
       "1  Survey course in the principles of accounting ...  \n",
       "2  Introduction to the role of accounting informa...  \n",
       "3   Continuation of ACCY 201 with focus on strate...  \n",
       "4  Formalized learning experience in combination ...  "
      ]
     },
     "execution_count": 5,
     "metadata": {},
     "output_type": "execute_result"
    }
   ],
   "source": [
    "df = read_data('data/ACCY_desc.csv')\n",
    "assert_equal(set(df.columns.tolist()),\n",
    "             set(['year', 'semester', 'dept', 'course_num', 'course_name', 'description']),\n",
    "            msg='Your column names do not match the solutions')\n",
    "assert_equal(len(df), 36, msg='There are 36 unique ACCY courses offered in Fall 2018 not %s'%(len(df)))\n",
    "\n",
    "assert_equal(set(df['course_num'].tolist()),\n",
    "            set([199, 200, 201, 202, 290, 301, 302, 303,\n",
    "                 304, 312, 321, 398, 405, 410, 415, 451,\n",
    "                 499, 500, 501, 502, 503, 504, 505, 510,\n",
    "                 512, 515, 517, 518, 551, 556, 570, 585,\n",
    "                 592, 593, 594, 599]),\n",
    "             msg='Your answer does not match the solutions.')\n",
    "\n",
    "print(\"First five ACCY Courses offered Fall 2018 at UIUC:\")\n",
    "df.head(5)"
   ]
  },
  {
   "cell_type": "markdown",
   "metadata": {
    "nbgrader": {
     "grade": false,
     "grade_id": "p3_desc",
     "locked": true,
     "schema_version": 3,
     "solution": false
    }
   },
   "source": [
    "-----\n",
    "\n",
    "## Problem 3: Insert data\n",
    "\n",
    "In the code cell below, we declare a function named `insert_data` that takes two function parameters: `con`, which is a sqlite3 connection object, and `df`, which is the Pandas DataFrame created in Problem 2.\n",
    "\n",
    "To complete this problem, finish writing the function `write_inserts`:\n",
    "- Use DataFrame function to_sql() to insert all values from `df` to `Courses` table.\n",
    "- **Donot** write index of df as a column into `Courses`.\n",
    "- Replace table first if `Courses` already exists in the database.\n",
    "\n",
    "-----"
   ]
  },
  {
   "cell_type": "code",
   "execution_count": 6,
   "metadata": {
    "nbgrader": {
     "grade": false,
     "grade_id": "p3_ans",
     "locked": false,
     "schema_version": 3,
     "solution": true
    }
   },
   "outputs": [],
   "source": [
    "def insert_data(con, df):\n",
    "    '''\n",
    "    Parameters\n",
    "    ----------\n",
    "    con: sqlite3 connection\n",
    "    df: pandas dataframe\n",
    "    \n",
    "    Returns\n",
    "    -------\n",
    "    None\n",
    "    '''\n",
    "    \n",
    "    ###BEGIN SOLUTION###\n",
    "    df.to_sql('Courses', con, index=False, if_exists='replace')\n",
    "    ###END SOLUTION###       "
   ]
  },
  {
   "cell_type": "code",
   "execution_count": 7,
   "metadata": {
    "nbgrader": {
     "grade": true,
     "grade_id": "p3_test",
     "locked": true,
     "points": 1,
     "schema_version": 3,
     "solution": false
    }
   },
   "outputs": [],
   "source": [
    "insert_data(con, df)\n",
    "query = \"SELECT year, semester, dept FROM Courses\"\n",
    "cur.execute(query)\n",
    "result = cur.fetchall()\n",
    "sol = set(result)\n",
    "ans = set([(2018, 'Fall', 'ACCY')])\n",
    "\n",
    "assert_equal(len(result), 36, msg=\"Your answer does not match the solution.\")\n",
    "assert_equal(ans, sol, msg=\"Your answer does not match the solution.\")"
   ]
  },
  {
   "cell_type": "markdown",
   "metadata": {
    "nbgrader": {
     "grade": false,
     "grade_id": "p4_desc",
     "locked": true,
     "schema_version": 3,
     "solution": false
    }
   },
   "source": [
    "-----\n",
    "\n",
    "## Problem 4: Select 500 level courses \n",
    "\n",
    "In the code cell below, we declare a function named `select_500` that takes one function parameter: `con`, which is the database connection.\n",
    "\n",
    "To complete this problem, finish writing the function `select_500`:\n",
    "- Use pandas read_sql() to load all courses with course_num greater or equal to 500 in `Courses` table to a DataFrame.\n",
    "- Return the DataFrame.\n",
    "\n",
    "-----"
   ]
  },
  {
   "cell_type": "code",
   "execution_count": 8,
   "metadata": {
    "nbgrader": {
     "grade": false,
     "grade_id": "p4_ans",
     "locked": false,
     "schema_version": 3,
     "solution": true
    }
   },
   "outputs": [],
   "source": [
    "def select_500(con):\n",
    "    '''\n",
    "    Select courses that are 500 level.\n",
    "    \n",
    "    Parameters\n",
    "    ----------\n",
    "    con: sqlite3 connection\n",
    "    \n",
    "    Returns\n",
    "    -------\n",
    "    a DataFrame that contains the course info\n",
    "    '''\n",
    "    \n",
    "    ###BEGIN SOLUTION###\n",
    "    df = pd.read_sql(\"SELECT * FROM Courses Where course_num >= 500\", con)\n",
    "    return df\n",
    "    ###END SOLUTION###"
   ]
  },
  {
   "cell_type": "code",
   "execution_count": 9,
   "metadata": {
    "nbgrader": {
     "grade": true,
     "grade_id": "p4_test",
     "locked": true,
     "points": 1,
     "schema_version": 3,
     "solution": false
    }
   },
   "outputs": [],
   "source": [
    "df500 = select_500(con)\n",
    "assert_equal(df500.shape[0], 19, msg=\"Your answer does not match the solution\")"
   ]
  },
  {
   "cell_type": "code",
   "execution_count": 10,
   "metadata": {
    "nbgrader": {
     "grade": false,
     "grade_id": "cell-aad24ac96e629907",
     "locked": true,
     "schema_version": 3,
     "solution": false,
     "task": false
    }
   },
   "outputs": [],
   "source": [
    "#Release database connection and cursor\n",
    "cur.close()\n",
    "con.close()"
   ]
  }
 ],
 "metadata": {
  "celltoolbar": "Create Assignment",
  "kernelspec": {
   "display_name": "Python 3",
   "language": "python",
   "name": "python3"
  },
  "language_info": {
   "codemirror_mode": {
    "name": "ipython",
    "version": 3
   },
   "file_extension": ".py",
   "mimetype": "text/x-python",
   "name": "python",
   "nbconvert_exporter": "python",
   "pygments_lexer": "ipython3",
   "version": "3.7.3"
  }
 },
 "nbformat": 4,
 "nbformat_minor": 2
}
