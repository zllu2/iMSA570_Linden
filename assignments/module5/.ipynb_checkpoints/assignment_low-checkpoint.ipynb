{
 "cells": [
  {
   "cell_type": "markdown",
   "metadata": {
    "nbgrader": {
     "grade": false,
     "grade_id": "header",
     "locked": true,
     "schema_version": 1,
     "solution": false
    }
   },
   "source": [
    "# Module 5 Assignment \n",
    "A few things you should keep in mind when working on assignments:\n",
    "\n",
    "1. Make sure you fill in any place that says `YOUR CODE HERE`. Do **not** write your answer anywhere else other than where it says `YOUR CODE HERE`. Anything you write elsewhere will be removed or overwritten by the autograder.\n",
    "\n",
    "2. Before you submit your assignment, make sure everything runs as expected. Go to the menubar, select _Kernel_, and restart the kernel and run all cells (_Restart & Run all_).\n",
    "\n",
    "3. Do not change the title (i.e. file name) of this notebook.\n",
    "\n",
    "4. Make sure that you save your work (in the menubar, select _File_ → _Save and CheckPoint_).\n"
   ]
  },
  {
   "cell_type": "code",
   "execution_count": 1,
   "metadata": {
    "nbgrader": {
     "grade": false,
     "grade_id": "import",
     "locked": true,
     "schema_version": 1,
     "solution": false
    }
   },
   "outputs": [],
   "source": [
    "import pandas as pd\n",
    "import numpy as np\n",
    "\n",
    "from nose.tools import assert_equal, assert_true, assert_false\n",
    "from numpy.testing import assert_array_almost_equal, assert_array_equal\n"
   ]
  },
  {
   "cell_type": "markdown",
   "metadata": {
    "nbgrader": {
     "grade": false,
     "grade_id": "prob1_desc",
     "locked": true,
     "schema_version": 1,
     "solution": false
    }
   },
   "source": [
    "# Problem 1: Read in a dataset\n",
    "\n",
    "For this problem you will read in a dataset using pandas. In the cell below, the function *read_data* has parameter \"file_path\" which contains a path to a dataset.\n",
    "- Use the *read_csv* function from pandas to read in the dataset from the file path and return the resulting dataframe."
   ]
  },
  {
   "cell_type": "code",
   "execution_count": 2,
   "metadata": {
    "nbgrader": {
     "grade": false,
     "grade_id": "prob1_ans",
     "locked": false,
     "schema_version": 1,
     "solution": true
    }
   },
   "outputs": [],
   "source": [
    "def read_data(file_path):\n",
    "    '''\n",
    "    Reads in a dataset using pandas.\n",
    "    \n",
    "    Parameters\n",
    "    ----------\n",
    "    file_path : string containing path to a file\n",
    "    \n",
    "    Returns\n",
    "    -------\n",
    "    pandas dataframe with data read in from the file path\n",
    "    '''\n",
    "    ### BEGIN SOLUTION\n",
    "    df = pd.read_csv(file_path)\n",
    "    return df\n",
    "    ### END SOLUTION\n"
   ]
  },
  {
   "cell_type": "code",
   "execution_count": 3,
   "metadata": {
    "nbgrader": {
     "grade": true,
     "grade_id": "prob1_test",
     "locked": true,
     "points": 1,
     "schema_version": 1,
     "solution": false
    }
   },
   "outputs": [
    {
     "name": "stdout",
     "output_type": "stream",
     "text": [
      "2 random rows of the dow jones dataset:\n"
     ]
    },
    {
     "data": {
      "text/html": [
       "<div>\n",
       "<style scoped>\n",
       "    .dataframe tbody tr th:only-of-type {\n",
       "        vertical-align: middle;\n",
       "    }\n",
       "\n",
       "    .dataframe tbody tr th {\n",
       "        vertical-align: top;\n",
       "    }\n",
       "\n",
       "    .dataframe thead th {\n",
       "        text-align: right;\n",
       "    }\n",
       "</style>\n",
       "<table border=\"1\" class=\"dataframe\">\n",
       "  <thead>\n",
       "    <tr style=\"text-align: right;\">\n",
       "      <th></th>\n",
       "      <th>quarter</th>\n",
       "      <th>stock</th>\n",
       "      <th>date</th>\n",
       "      <th>open</th>\n",
       "      <th>high</th>\n",
       "      <th>low</th>\n",
       "      <th>close</th>\n",
       "      <th>volume</th>\n",
       "      <th>percent_change_price</th>\n",
       "      <th>percent_change_volume_over_last_wk</th>\n",
       "      <th>previous_weeks_volume</th>\n",
       "      <th>next_weeks_open</th>\n",
       "      <th>next_weeks_close</th>\n",
       "      <th>percent_change_next_weeks_price</th>\n",
       "      <th>days_to_next_dividend</th>\n",
       "      <th>percent_return_next_dividend</th>\n",
       "    </tr>\n",
       "  </thead>\n",
       "  <tbody>\n",
       "    <tr>\n",
       "      <th>670</th>\n",
       "      <td>2</td>\n",
       "      <td>PG</td>\n",
       "      <td>6/17/2011</td>\n",
       "      <td>64.65</td>\n",
       "      <td>65.22</td>\n",
       "      <td>63.33</td>\n",
       "      <td>64.69</td>\n",
       "      <td>46861128</td>\n",
       "      <td>0.061872</td>\n",
       "      <td>-3.576674</td>\n",
       "      <td>48599369.0</td>\n",
       "      <td>64.51</td>\n",
       "      <td>62.59</td>\n",
       "      <td>-2.97628</td>\n",
       "      <td>33</td>\n",
       "      <td>0.819292</td>\n",
       "    </tr>\n",
       "    <tr>\n",
       "      <th>454</th>\n",
       "      <td>2</td>\n",
       "      <td>DD</td>\n",
       "      <td>4/21/2011</td>\n",
       "      <td>54.28</td>\n",
       "      <td>56.00</td>\n",
       "      <td>53.19</td>\n",
       "      <td>55.91</td>\n",
       "      <td>15537427</td>\n",
       "      <td>3.002950</td>\n",
       "      <td>-35.421288</td>\n",
       "      <td>24059673.0</td>\n",
       "      <td>55.69</td>\n",
       "      <td>56.79</td>\n",
       "      <td>1.97522</td>\n",
       "      <td>20</td>\n",
       "      <td>0.733321</td>\n",
       "    </tr>\n",
       "  </tbody>\n",
       "</table>\n",
       "</div>"
      ],
      "text/plain": [
       "     quarter stock       date   open   high    low  close    volume  \\\n",
       "670        2    PG  6/17/2011  64.65  65.22  63.33  64.69  46861128   \n",
       "454        2    DD  4/21/2011  54.28  56.00  53.19  55.91  15537427   \n",
       "\n",
       "     percent_change_price  percent_change_volume_over_last_wk  \\\n",
       "670              0.061872                           -3.576674   \n",
       "454              3.002950                          -35.421288   \n",
       "\n",
       "     previous_weeks_volume  next_weeks_open  next_weeks_close  \\\n",
       "670             48599369.0            64.51             62.59   \n",
       "454             24059673.0            55.69             56.79   \n",
       "\n",
       "     percent_change_next_weeks_price  days_to_next_dividend  \\\n",
       "670                         -2.97628                     33   \n",
       "454                          1.97522                     20   \n",
       "\n",
       "     percent_return_next_dividend  \n",
       "670                      0.819292  \n",
       "454                      0.733321  "
      ]
     },
     "execution_count": 3,
     "metadata": {},
     "output_type": "execute_result"
    }
   ],
   "source": [
    "df = read_data('data/dow_jones_index.data')\n",
    "assert_equal(len(df), 750, msg=\"The dataset should have 750 rows. Your solution only has %s\"%len(df))\n",
    "assert_equal(set(df.columns.tolist()), set(['quarter', 'stock', 'date', 'open', 'high', 'low', 'close',\n",
    "                                            'volume', 'percent_change_price', 'percent_change_volume_over_last_wk',\n",
    "                                            'previous_weeks_volume', 'next_weeks_open', 'next_weeks_close',\n",
    "                                            'percent_change_next_weeks_price', 'days_to_next_dividend',\n",
    "                                            'percent_return_next_dividend']), \n",
    "             msg=\"Your column names do not match the solutions\")\n",
    "\n",
    "ans = df.head().values.tolist()\n",
    "sol = [[1, 'AA', '1/7/2011', 15.82, 16.72, 15.78, 16.42, 239655616, 3.7926699999999998, np.nan, np.nan,\n",
    "        16.71, 15.97, -4.42849, 26, 0.182704],\n",
    "       [1, 'AA', '1/14/2011', 16.71, 16.71, 15.64, 15.97, 242963398, -4.42849, 1.380223028, 239655616.0,\n",
    "        16.19, 15.79, -2.4706599999999996, 19, 0.187852],\n",
    "       [1, 'AA', '1/21/2011', 16.19, 16.38, 15.6, 15.79, 138428495, -2.4706599999999996, -43.02495926,\n",
    "        242963398.0, 15.87, 16.13, 1.63831, 12, 0.189994],\n",
    "       [1, 'AA', '1/28/2011', 15.87, 16.63, 15.82, 16.13, 151379173, 1.63831, 9.355500109, 138428495.0,\n",
    "        16.18, 17.14, 5.93325, 5, 0.18598900000000002],\n",
    "       [1, 'AA', '2/4/2011', 16.18, 17.39, 16.18, 17.14, 154387761, 5.93325, 1.987451735, 151379173.0,\n",
    "        17.33, 17.37, 0.230814, 97, 0.175029]]\n",
    "\n",
    "assert_array_equal(ans, sol, err_msg=\"Your answer does not match the solution.\")\n",
    "\n",
    "print(\"2 random rows of the dow jones dataset:\")\n",
    "df.sample(2)"
   ]
  },
  {
   "cell_type": "markdown",
   "metadata": {
    "nbgrader": {
     "grade": false,
     "grade_id": "prob2_desc",
     "locked": true,
     "schema_version": 1,
     "solution": false
    }
   },
   "source": [
    "# Problem 2: Selecting first n rows of a dataframe\n",
    "\n",
    "In the code cell below the function *get_head_rows* accepts 2 parameters *df* which is a dataframe and *n* which is an integer.\n",
    "\n",
    "For this problem:\n",
    "- Return first *n* rows of *df*"
   ]
  },
  {
   "cell_type": "code",
   "execution_count": 4,
   "metadata": {
    "nbgrader": {
     "grade": false,
     "grade_id": "prob2_ans",
     "locked": false,
     "schema_version": 1,
     "solution": true
    }
   },
   "outputs": [],
   "source": [
    "def get_head_rows(df, n):\n",
    "    '''    \n",
    "    Parameters\n",
    "    ----------\n",
    "    df: pandas DataFrame\n",
    "    n: integer\n",
    "    Returns\n",
    "    -------\n",
    "    returns first n rows of df\n",
    "    '''\n",
    "    ### BEGIN SOLUTION\n",
    "    return df.head(n)\n",
    "    ### END SOLUTION\n"
   ]
  },
  {
   "cell_type": "code",
   "execution_count": 5,
   "metadata": {
    "nbgrader": {
     "grade": true,
     "grade_id": "prob2_test",
     "locked": true,
     "points": 0.5,
     "schema_version": 1,
     "solution": false
    }
   },
   "outputs": [],
   "source": [
    "assert_equal(get_head_rows(df, 3).shape[0], 3, msg=\"You did not return first 3 rows\")\n",
    "assert_equal(get_head_rows(df, 4).shape[0], 4, msg=\"You did not return first 4 rows\")\n"
   ]
  },
  {
   "cell_type": "code",
   "execution_count": 6,
   "metadata": {},
   "outputs": [
    {
     "data": {
      "text/html": [
       "<div>\n",
       "<style scoped>\n",
       "    .dataframe tbody tr th:only-of-type {\n",
       "        vertical-align: middle;\n",
       "    }\n",
       "\n",
       "    .dataframe tbody tr th {\n",
       "        vertical-align: top;\n",
       "    }\n",
       "\n",
       "    .dataframe thead th {\n",
       "        text-align: right;\n",
       "    }\n",
       "</style>\n",
       "<table border=\"1\" class=\"dataframe\">\n",
       "  <thead>\n",
       "    <tr style=\"text-align: right;\">\n",
       "      <th></th>\n",
       "      <th>quarter</th>\n",
       "      <th>stock</th>\n",
       "      <th>date</th>\n",
       "      <th>open</th>\n",
       "      <th>high</th>\n",
       "      <th>low</th>\n",
       "      <th>close</th>\n",
       "      <th>volume</th>\n",
       "      <th>percent_change_price</th>\n",
       "      <th>percent_change_volume_over_last_wk</th>\n",
       "      <th>previous_weeks_volume</th>\n",
       "      <th>next_weeks_open</th>\n",
       "      <th>next_weeks_close</th>\n",
       "      <th>percent_change_next_weeks_price</th>\n",
       "      <th>days_to_next_dividend</th>\n",
       "      <th>percent_return_next_dividend</th>\n",
       "    </tr>\n",
       "  </thead>\n",
       "  <tbody>\n",
       "    <tr>\n",
       "      <th>409</th>\n",
       "      <td>2</td>\n",
       "      <td>BAC</td>\n",
       "      <td>6/10/2011</td>\n",
       "      <td>11.18</td>\n",
       "      <td>11.20</td>\n",
       "      <td>10.41</td>\n",
       "      <td>10.80</td>\n",
       "      <td>873241317</td>\n",
       "      <td>-3.398930</td>\n",
       "      <td>46.413698</td>\n",
       "      <td>596420503.0</td>\n",
       "      <td>10.89</td>\n",
       "      <td>10.68</td>\n",
       "      <td>-1.928370</td>\n",
       "      <td>82</td>\n",
       "      <td>0.092593</td>\n",
       "    </tr>\n",
       "    <tr>\n",
       "      <th>410</th>\n",
       "      <td>2</td>\n",
       "      <td>BAC</td>\n",
       "      <td>6/17/2011</td>\n",
       "      <td>10.89</td>\n",
       "      <td>11.12</td>\n",
       "      <td>10.40</td>\n",
       "      <td>10.68</td>\n",
       "      <td>889460755</td>\n",
       "      <td>-1.928370</td>\n",
       "      <td>1.857383</td>\n",
       "      <td>873241317.0</td>\n",
       "      <td>10.59</td>\n",
       "      <td>10.52</td>\n",
       "      <td>-0.661001</td>\n",
       "      <td>75</td>\n",
       "      <td>0.093633</td>\n",
       "    </tr>\n",
       "    <tr>\n",
       "      <th>411</th>\n",
       "      <td>2</td>\n",
       "      <td>BAC</td>\n",
       "      <td>6/24/2011</td>\n",
       "      <td>10.59</td>\n",
       "      <td>10.94</td>\n",
       "      <td>10.48</td>\n",
       "      <td>10.52</td>\n",
       "      <td>603098073</td>\n",
       "      <td>-0.661001</td>\n",
       "      <td>-32.195089</td>\n",
       "      <td>889460755.0</td>\n",
       "      <td>10.52</td>\n",
       "      <td>11.09</td>\n",
       "      <td>5.418250</td>\n",
       "      <td>68</td>\n",
       "      <td>0.095057</td>\n",
       "    </tr>\n",
       "  </tbody>\n",
       "</table>\n",
       "</div>"
      ],
      "text/plain": [
       "     quarter stock       date   open   high    low  close     volume  \\\n",
       "409        2   BAC  6/10/2011  11.18  11.20  10.41  10.80  873241317   \n",
       "410        2   BAC  6/17/2011  10.89  11.12  10.40  10.68  889460755   \n",
       "411        2   BAC  6/24/2011  10.59  10.94  10.48  10.52  603098073   \n",
       "\n",
       "     percent_change_price  percent_change_volume_over_last_wk  \\\n",
       "409             -3.398930                           46.413698   \n",
       "410             -1.928370                            1.857383   \n",
       "411             -0.661001                          -32.195089   \n",
       "\n",
       "     previous_weeks_volume  next_weeks_open  next_weeks_close  \\\n",
       "409            596420503.0            10.89             10.68   \n",
       "410            873241317.0            10.59             10.52   \n",
       "411            889460755.0            10.52             11.09   \n",
       "\n",
       "     percent_change_next_weeks_price  days_to_next_dividend  \\\n",
       "409                        -1.928370                     82   \n",
       "410                        -0.661001                     75   \n",
       "411                         5.418250                     68   \n",
       "\n",
       "     percent_return_next_dividend  \n",
       "409                      0.092593  \n",
       "410                      0.093633  \n",
       "411                      0.095057  "
      ]
     },
     "execution_count": 6,
     "metadata": {},
     "output_type": "execute_result"
    }
   ],
   "source": [
    "df[df.close<11]"
   ]
  },
  {
   "cell_type": "markdown",
   "metadata": {
    "nbgrader": {
     "grade": false,
     "grade_id": "prob3_desc",
     "locked": true,
     "schema_version": 1,
     "solution": false
    }
   },
   "source": [
    "# Problem 3: Selecting stocks under certain price\n",
    "\n",
    "In the code cell below the function *get_stocks_by_price* accepts 2 parameters *df* which is a dataframe and *price_cut* which is a float.\n",
    "\n",
    "For this problem:\n",
    "- Return all data with close price less than *price_cut*."
   ]
  },
  {
   "cell_type": "code",
   "execution_count": 7,
   "metadata": {
    "nbgrader": {
     "grade": false,
     "grade_id": "prob3_ans",
     "locked": false,
     "schema_version": 1,
     "solution": true
    }
   },
   "outputs": [],
   "source": [
    "def get_stocks_by_price(df, price_cut):\n",
    "    '''\n",
    "    \n",
    "    Parameters\n",
    "    ----------\n",
    "    df: pandas dataframe containing data from Problem 1's solution\n",
    "    price_cut: float.\n",
    "    Returns\n",
    "    -------\n",
    "    \n",
    "    Return all data with close price less than price_cut.\n",
    "    '''\n",
    "    ### BEGIN SOLUTION\n",
    "\n",
    "    return df[df.close<price_cut]\n",
    "    ### END SOLUTION\n"
   ]
  },
  {
   "cell_type": "code",
   "execution_count": 8,
   "metadata": {
    "nbgrader": {
     "grade": true,
     "grade_id": "prob3_test",
     "locked": true,
     "points": 1,
     "schema_version": 1,
     "solution": false
    }
   },
   "outputs": [],
   "source": [
    "assert_equal(get_stocks_by_price(df, 12).shape[0], 7, msg=\"You did not return a correct pandas dataframe object\")\n",
    "assert_true(get_stocks_by_price(df, 12).close.max()<12, msg=\"You did not return a correct pandas dataframe object\")\n"
   ]
  },
  {
   "cell_type": "markdown",
   "metadata": {
    "nbgrader": {
     "grade": false,
     "grade_id": "cell-87dfa8bccd8f5195",
     "locked": true,
     "schema_version": 1,
     "solution": false
    }
   },
   "source": [
    "# Problem 4: Get highest close price for a stock\n",
    "\n",
    "In the code cell below the function *get_high_low_close* accepts 2 parameters *df* which is a dataframe and *symbol* which is a string.\n",
    "\n",
    "For this problem:\n",
    "- Return highest and lowest close price of stock represent by *symbol*"
   ]
  },
  {
   "cell_type": "code",
   "execution_count": 9,
   "metadata": {
    "nbgrader": {
     "grade": false,
     "grade_id": "prob4_ans",
     "locked": false,
     "schema_version": 1,
     "solution": true
    }
   },
   "outputs": [],
   "source": [
    "def get_high_low_close(df, symbol):\n",
    "    '''\n",
    "    Get highest and lowest close price of a stock.\n",
    "    \n",
    "    Parameters\n",
    "    ----------\n",
    "    df: pandas dataframe containing data from Problem 1's solution\n",
    "    symbol: stock symbol\n",
    "    \n",
    "    Returns\n",
    "    -------\n",
    "    returns two values, highest and lowest close price of the stock.\n",
    "    '''\n",
    "    ### BEGIN SOLUTION\n",
    "    return df[df.stock==symbol].close.max(), df[df.stock==symbol].close.min()\n",
    "    ### END SOLUTION\n"
   ]
  },
  {
   "cell_type": "code",
   "execution_count": 10,
   "metadata": {
    "nbgrader": {
     "grade": true,
     "grade_id": "prob4_test",
     "locked": true,
     "points": 1,
     "schema_version": 1,
     "solution": false
    }
   },
   "outputs": [],
   "source": [
    "assert_equal(get_high_low_close(df, 'AA'), (17.92, 14.72), msg=\"You did not return correct highest and lowest close of AA\")\n",
    "assert_equal(get_high_low_close(df, 'IBM'), (170.58, 147.93), msg=\"You did not return correct highest and lowest close of IBM\")\n"
   ]
  },
  {
   "cell_type": "markdown",
   "metadata": {
    "deletable": false,
    "editable": false
   },
   "source": [
    "-----\n",
    "\n",
    "**&copy; 2019: Gies College of Business at the University of Illinois.**\n",
    "\n",
    "This notebook is released under the [Creative Commons license CC BY-NC-SA 4.0][ll]. Any reproduction, adaptation, distribution, dissemination or making available of this notebook for commercial use is not allowed unless authorized in writing by the copyright holder.\n",
    "\n",
    "[ll]: https://creativecommons.org/licenses/by-nc-sa/4.0/legalcode"
   ]
  }
 ],
 "metadata": {
  "coursera": {
   "course_slug": "data-analytics-accountancy-1",
   "graded_item_id": "4oirH",
   "launcher_item_id": "g0r7b"
  },
  "kernelspec": {
   "display_name": "Python 3",
   "language": "python",
   "name": "python3"
  },
  "language_info": {
   "codemirror_mode": {
    "name": "ipython",
    "version": 3
   },
   "file_extension": ".py",
   "mimetype": "text/x-python",
   "name": "python",
   "nbconvert_exporter": "python",
   "pygments_lexer": "ipython3",
   "version": "3.7.1"
  }
 },
 "nbformat": 4,
 "nbformat_minor": 2
}
