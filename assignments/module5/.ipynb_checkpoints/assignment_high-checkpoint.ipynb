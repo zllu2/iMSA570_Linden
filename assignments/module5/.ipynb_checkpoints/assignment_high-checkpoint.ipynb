{
 "cells": [
  {
   "cell_type": "markdown",
   "metadata": {
    "nbgrader": {
     "grade": false,
     "grade_id": "header",
     "locked": true,
     "schema_version": 1,
     "solution": false
    }
   },
   "source": [
    "# Module 5 Assignment\n",
    "A few things you should keep in mind when working on assignments:\n",
    "\n",
    "1. Make sure you fill in any place that says `YOUR CODE HERE`. Do **not** write your answer anywhere else other than where it says `YOUR CODE HERE`. Anything you write elsewhere will be removed or overwritten by the autograder.\n",
    "\n",
    "2. Before you submit your assignment, make sure everything runs as expected. Go to the menubar, select _Kernel_, and restart the kernel and run all cells (_Restart & Run all_).\n",
    "\n",
    "3. Do not change the title (i.e. file name) of this notebook.\n",
    "\n",
    "4. Make sure that you save your work (in the menubar, select _File_ → _Save and CheckPoint_).\n"
   ]
  },
  {
   "cell_type": "code",
   "execution_count": 1,
   "metadata": {
    "nbgrader": {
     "grade": false,
     "grade_id": "import",
     "locked": true,
     "schema_version": 1,
     "solution": false
    }
   },
   "outputs": [],
   "source": [
    "import pandas as pd\n",
    "import numpy as np\n",
    "\n",
    "from nose.tools import assert_equal, assert_true, assert_false, assert_almost_equal\n",
    "from numpy.testing import assert_array_almost_equal, assert_array_equal\n"
   ]
  },
  {
   "cell_type": "markdown",
   "metadata": {
    "nbgrader": {
     "grade": false,
     "grade_id": "p1_desc",
     "locked": true,
     "schema_version": 1,
     "solution": false
    }
   },
   "source": [
    "# Problem 1: Read in a subset of a dataset\n",
    "\n",
    "For this problem you will read in a dataset using pandas. In the cell below, the function *read_data* has parameter \"file_path\" which contains a path to a dataset.\n",
    "- Use the *read_csv* function from pandas to read in the dataset from the file path, then return a subset of the dataframe, keep following columns:\n",
    "quarter, stock, date, open, high, low, close, volume"
   ]
  },
  {
   "cell_type": "code",
   "execution_count": 2,
   "metadata": {
    "nbgrader": {
     "grade": false,
     "grade_id": "p1_ans",
     "locked": false,
     "schema_version": 1,
     "solution": true
    }
   },
   "outputs": [],
   "source": [
    "def read_data(file_path):\n",
    "    '''\n",
    "    Reads in a dataset using pandas.\n",
    "    \n",
    "    Parameters\n",
    "    ----------\n",
    "    file_path : string containing path to a file\n",
    "    \n",
    "    Returns\n",
    "    -------\n",
    "    A subset of pandas dataframe with data read in from the file path, only keep:\n",
    "    quarter, stock, date, open, high, low, close, volume\n",
    "    '''\n",
    "    ### BEGIN SOLUTION\n",
    "    df = pd.read_csv(file_path)\n",
    "    return df[['quarter', 'stock', 'date', 'open', 'high', 'low', 'close', 'volume']]\n",
    "    ### END SOLUTION\n",
    "    "
   ]
  },
  {
   "cell_type": "code",
   "execution_count": 3,
   "metadata": {
    "nbgrader": {
     "grade": true,
     "grade_id": "p1_test",
     "locked": true,
     "points": 1,
     "schema_version": 1,
     "solution": false
    }
   },
   "outputs": [
    {
     "name": "stdout",
     "output_type": "stream",
     "text": [
      "2 random rows of the dow jones dataset:\n"
     ]
    },
    {
     "data": {
      "text/html": [
       "<div>\n",
       "<style scoped>\n",
       "    .dataframe tbody tr th:only-of-type {\n",
       "        vertical-align: middle;\n",
       "    }\n",
       "\n",
       "    .dataframe tbody tr th {\n",
       "        vertical-align: top;\n",
       "    }\n",
       "\n",
       "    .dataframe thead th {\n",
       "        text-align: right;\n",
       "    }\n",
       "</style>\n",
       "<table border=\"1\" class=\"dataframe\">\n",
       "  <thead>\n",
       "    <tr style=\"text-align: right;\">\n",
       "      <th></th>\n",
       "      <th>quarter</th>\n",
       "      <th>stock</th>\n",
       "      <th>date</th>\n",
       "      <th>open</th>\n",
       "      <th>high</th>\n",
       "      <th>low</th>\n",
       "      <th>close</th>\n",
       "      <th>volume</th>\n",
       "    </tr>\n",
       "  </thead>\n",
       "  <tbody>\n",
       "    <tr>\n",
       "      <th>212</th>\n",
       "      <td>1</td>\n",
       "      <td>KO</td>\n",
       "      <td>3/4/2011</td>\n",
       "      <td>64.17</td>\n",
       "      <td>65.87</td>\n",
       "      <td>63.86</td>\n",
       "      <td>65.21</td>\n",
       "      <td>61665987</td>\n",
       "    </tr>\n",
       "    <tr>\n",
       "      <th>601</th>\n",
       "      <td>2</td>\n",
       "      <td>MCD</td>\n",
       "      <td>5/20/2011</td>\n",
       "      <td>80.44</td>\n",
       "      <td>82.85</td>\n",
       "      <td>80.44</td>\n",
       "      <td>82.33</td>\n",
       "      <td>27816875</td>\n",
       "    </tr>\n",
       "  </tbody>\n",
       "</table>\n",
       "</div>"
      ],
      "text/plain": [
       "     quarter stock       date   open   high    low  close    volume\n",
       "212        1    KO   3/4/2011  64.17  65.87  63.86  65.21  61665987\n",
       "601        2   MCD  5/20/2011  80.44  82.85  80.44  82.33  27816875"
      ]
     },
     "execution_count": 3,
     "metadata": {},
     "output_type": "execute_result"
    }
   ],
   "source": [
    "df = read_data('data/dow_jones_index.data')\n",
    "assert_equal(len(df), 750, msg=\"The dataset should have 750 rows. Your solution only has %s\"%len(df))\n",
    "assert_equal(set(df.columns.tolist()), set(['quarter', 'stock', 'date', 'open', 'high', 'low', 'close', 'volume']), \n",
    "             msg=\"Your column names do not match the solutions\")\n",
    "\n",
    "ans = df.head().values.tolist()\n",
    "sol = [[1, 'AA', '1/7/2011', 15.82, 16.72, 15.78, 16.42, 239655616],\n",
    "       [1, 'AA', '1/14/2011', 16.71, 16.71, 15.64, 15.97, 242963398],\n",
    "       [1, 'AA', '1/21/2011', 16.19, 16.38, 15.6, 15.79, 138428495],\n",
    "       [1, 'AA', '1/28/2011', 15.87, 16.63, 15.82, 16.13, 151379173],\n",
    "       [1, 'AA', '2/4/2011', 16.18, 17.39, 16.18, 17.14, 154387761]]\n",
    "\n",
    "assert_array_equal(ans, sol, err_msg=\"Your answer does not match the solution.\")\n",
    "\n",
    "print(\"2 random rows of the dow jones dataset:\")\n",
    "df.sample(2)"
   ]
  },
  {
   "cell_type": "markdown",
   "metadata": {
    "nbgrader": {
     "grade": false,
     "grade_id": "p2_desc",
     "locked": true,
     "schema_version": 1,
     "solution": false
    }
   },
   "source": [
    "# Problem 2: Selecting data for a particular stock\n",
    "\n",
    "In the code cell below the function *select_stock* accepts 2 parameters *df* which is a dataframe(created by problem1) and *symbol* which is a string containing a stock symbol inside of *df*.\n",
    "\n",
    "For this problem:\n",
    "- Select data from the dataframe passed into the function (\"df\") only if stock symbol which is stored in **stock** column is equal to the value of the function parameter \"symbol\".\n",
    "\n",
    "\n",
    "- Return the resulting dataframe containing data only for a particular stock symbol."
   ]
  },
  {
   "cell_type": "code",
   "execution_count": 4,
   "metadata": {
    "nbgrader": {
     "grade": false,
     "grade_id": "p2_ans",
     "locked": false,
     "schema_version": 1,
     "solution": true
    }
   },
   "outputs": [],
   "source": [
    "def select_stock(df, symbol):\n",
    "    '''\n",
    "    Selects data only containing a particular stock symbol.\n",
    "    \n",
    "    Parameters\n",
    "    ----------\n",
    "    df: dataframe containing data from the dow jones index\n",
    "    symbol: string containing the stock symbol to select\n",
    "    \n",
    "    Returns\n",
    "    -------\n",
    "    dataframe containing a particular stock\n",
    "    '''\n",
    "    ### BEGIN SOLUTION\n",
    "\n",
    "    return df[df.stock==symbol]\n",
    "    ### END SOLUTION\n"
   ]
  },
  {
   "cell_type": "code",
   "execution_count": 5,
   "metadata": {
    "nbgrader": {
     "grade": true,
     "grade_id": "p2_test",
     "locked": true,
     "points": 1,
     "schema_version": 1,
     "solution": false
    }
   },
   "outputs": [],
   "source": [
    "df_AA = select_stock(df.copy(), 'AA')\n",
    "assert_equal(len(df_AA), 25, msg='There are only 25 observations of the stock symbol AA')\n",
    "\n",
    "ans = df_AA[['open', 'close', 'high', 'low']].head().values.tolist()\n",
    "sol = [[15.82, 16.42, 16.72, 15.78],\n",
    "       [16.71, 15.97, 16.71, 15.64],\n",
    "       [16.19, 15.79, 16.38, 15.6],\n",
    "       [15.87, 16.13, 16.63, 15.82],\n",
    "       [16.18, 17.14, 17.39, 16.18]]\n",
    "assert_array_equal(ans, sol, err_msg=\"Your first 5 rows do not match the solutions.\")\n",
    "\n",
    "df_IBM = select_stock(df.copy(), 'IBM')\n",
    "assert_equal(len(df_IBM), 25, msg='There are only 25 observations of the stock symbol IBM')\n",
    "\n",
    "ans = df_IBM[['open', 'close', 'high', 'low']].head().values.tolist()\n",
    "sol = [[147.21, 147.93, 148.86, 146.64],\n",
    "       [147.0, 150.0, 150.0, 146.0],\n",
    "       [149.82, 155.5, 156.78, 149.38],\n",
    "       [155.42, 159.21, 164.35, 155.33],\n",
    "       [159.18, 164.0, 164.2, 158.68]]\n",
    "assert_array_equal(ans, sol, err_msg=\"Your first 5 rows do not match the solutions.\")"
   ]
  },
  {
   "cell_type": "markdown",
   "metadata": {
    "nbgrader": {
     "grade": false,
     "grade_id": "p2_desc",
     "locked": true,
     "schema_version": 1,
     "solution": false
    }
   },
   "source": [
    "# Problem 3: Selecting data for a particular stock in a particular quarter\n",
    "\n",
    "In the code cell below the function *select_stock_quarter* accepts 3 parameters *df* which is a dataframe(created by problem1), *symbol* which is a string containing a stock symbol inside of *df* and *quarter*.\n",
    "\n",
    "For this problem:\n",
    "- Select data from the dataframe passed into the function (\"df\") only if stock symbol is equal to the value of the function parameter \"symbol\" and quarter is equals to the value of function parameter \"quarter\"\n",
    "\n",
    "\n",
    "- Return the resulting dataframe containing data only for a particular stock symbol in the particular quarter."
   ]
  },
  {
   "cell_type": "code",
   "execution_count": 6,
   "metadata": {
    "nbgrader": {
     "grade": false,
     "grade_id": "p2_ans",
     "locked": false,
     "schema_version": 1,
     "solution": true
    }
   },
   "outputs": [],
   "source": [
    "def select_stock_quarter(df, symbol, quarter):\n",
    "    '''\n",
    "    Selects data only containing a particular stock symbol in the particular quarter.\n",
    "    \n",
    "    Parameters\n",
    "    ----------\n",
    "    df: dataframe containing data from the dow jones index\n",
    "    symbol: string containing the stock symbol to select\n",
    "    \n",
    "    Returns\n",
    "    -------\n",
    "    dataframe containing a particular stock\n",
    "    '''\n",
    "    ### BEGIN SOLUTION\n",
    "\n",
    "    return df[(df.stock==symbol)&(df.quarter==quarter)]\n",
    "    ### END SOLUTION\n"
   ]
  },
  {
   "cell_type": "code",
   "execution_count": 7,
   "metadata": {},
   "outputs": [
    {
     "data": {
      "text/plain": [
       "[[15.82, 16.42, 16.72, 15.78],\n",
       " [16.71, 15.97, 16.71, 15.64],\n",
       " [16.19, 15.79, 16.38, 15.6],\n",
       " [15.87, 16.13, 16.63, 15.82],\n",
       " [16.18, 17.14, 17.39, 16.18]]"
      ]
     },
     "execution_count": 7,
     "metadata": {},
     "output_type": "execute_result"
    }
   ],
   "source": [
    "ans = df_AA[['open', 'close', 'high', 'low']].head().values.tolist()\n",
    "ans"
   ]
  },
  {
   "cell_type": "code",
   "execution_count": 8,
   "metadata": {
    "nbgrader": {
     "grade": true,
     "grade_id": "p2_test",
     "locked": true,
     "points": 1,
     "schema_version": 1,
     "solution": false
    }
   },
   "outputs": [],
   "source": [
    "df_AA_2 = select_stock_quarter(df.copy(), 'AA', 2)\n",
    "assert_equal(len(df_AA_2), 13, msg='There are only 13 observations of the stock symbol AA in 2nd quarter')\n",
    "\n",
    "ans = df_AA[['open', 'close', 'high', 'low']].head().values.tolist()\n",
    "sol = [[15.82, 16.42, 16.72, 15.78],\n",
    "      [16.71, 15.97, 16.71, 15.64],\n",
    "      [16.19, 15.79, 16.38, 15.6],\n",
    "      [15.87, 16.13, 16.63, 15.82],\n",
    "      [16.18, 17.14, 17.39, 16.18]]\n",
    "assert_array_equal(ans, sol, err_msg=\"Your first 5 rows do not match the solutions.\")\n",
    "\n",
    "df_IBM_1 = select_stock_quarter(df.copy(), 'IBM', 1)\n",
    "assert_equal(len(df_IBM_1), 12, msg='There are only 12 observations of the stock symbol IBM in 1st quarter')"
   ]
  },
  {
   "cell_type": "markdown",
   "metadata": {
    "nbgrader": {
     "grade": false,
     "grade_id": "p4_desc",
     "locked": true,
     "schema_version": 1,
     "solution": false
    }
   },
   "source": [
    "# Problem 4: Computing average volume of stocks\n",
    "\n",
    "In the code cell below the function *comp_average_volume* accepts 1 parameter \"df\" which is a dataframe(created by problem1).\n",
    "\n",
    "For this problem:\n",
    "- group df by stock column and calculate average volume of each stock\n",
    "- the result dataframe should have *stock* as a regular column instead of index\n"
   ]
  },
  {
   "cell_type": "code",
   "execution_count": 9,
   "metadata": {
    "nbgrader": {
     "grade": false,
     "grade_id": "p4_ans",
     "locked": false,
     "schema_version": 1,
     "solution": true
    }
   },
   "outputs": [],
   "source": [
    "def comp_average_volume(df):\n",
    "    '''\n",
    "    Computes average volume of each stock\n",
    "    \n",
    "    Parameters\n",
    "    ----------\n",
    "    df: Pandas dataframe(created by problem 1)\n",
    "    \n",
    "    Returns\n",
    "    -------\n",
    "    a pandas dataframe with stock column as regular column.\n",
    "    '''\n",
    "    ### BEGIN SOLUTION\n",
    "\n",
    "    return df.groupby(by='stock', as_index=False).agg({'volume':'mean'})\n",
    "    ### END SOLUTION\n"
   ]
  },
  {
   "cell_type": "code",
   "execution_count": 10,
   "metadata": {
    "nbgrader": {
     "grade": true,
     "grade_id": "p4_test",
     "locked": true,
     "points": 1,
     "schema_version": 1,
     "solution": false
    }
   },
   "outputs": [],
   "source": [
    "mean_vol = comp_average_volume(df)\n",
    "\n",
    "assert_equal(mean_vol.shape, (30, 2))\n",
    "\n",
    "ans = mean_vol.head().volume.values.tolist()\n",
    "sol = [129638810.2, 35208481.6, 23781420.52, 722999135.56, 33731115.88]\n",
    "\n",
    "assert_array_almost_equal(ans, sol, err_msg=\"Your first 5 rows do not match the solutions.\")\n"
   ]
  },
  {
   "cell_type": "markdown",
   "metadata": {
    "nbgrader": {
     "grade": false,
     "grade_id": "p5_desc",
     "locked": true,
     "schema_version": 1,
     "solution": false
    }
   },
   "source": [
    "# Problem 5: Comput sample statistics for stocks close price\n",
    "\n",
    "The code cell below contains a function called *comp_close_stat* that accepts 3 parameters \"df\" which contains data from the dow jones, \"symbol\" for a particular stock symbol, and stat which will contain 1 of the 3 strings: \"mean\", \"max\", or \"min\".\n",
    "\n",
    "For this problem:\n",
    "- if the stat is equal to \"mean\" return the mean of the close price of stock \"symbol\"\n",
    "- if the stat is equal to \"min\" return the minimum close price of stock \"symbol\"\n",
    "- if the stat is equal to \"max\" return the maximum close price of stock \"symbol\"\n"
   ]
  },
  {
   "cell_type": "code",
   "execution_count": 11,
   "metadata": {
    "nbgrader": {
     "grade": false,
     "grade_id": "p5_ans",
     "locked": false,
     "schema_version": 1,
     "solution": true
    }
   },
   "outputs": [],
   "source": [
    "def comp_close_stat(df, symbol, stat='mean'):\n",
    "    '''\n",
    "    Computes a particular statistic for a particular stock close price.\n",
    "    \n",
    "    Parameters\n",
    "    ----------\n",
    "    df: Pandas dataframe\n",
    "    symbol: stock symbol\n",
    "    stat: mean, min or max\n",
    "    \n",
    "    Returns\n",
    "    -------\n",
    "    Mean, max or min close price for stock \"sybmol\"\n",
    "    '''\n",
    "    ### BEGIN SOLUTION\n",
    "\n",
    "    if stat is 'mean':\n",
    "        return df[df.stock==symbol].close.mean()\n",
    "    if stat is 'min':\n",
    "        return df[df.stock==symbol].close.min()\n",
    "    if stat is 'max':\n",
    "        return df[df.stock==symbol].close.max()\n",
    "    ### END SOLUTION\n"
   ]
  },
  {
   "cell_type": "code",
   "execution_count": 12,
   "metadata": {
    "nbgrader": {
     "grade": true,
     "grade_id": "p5_test",
     "locked": true,
     "points": 1,
     "schema_version": 1,
     "solution": false
    }
   },
   "outputs": [],
   "source": [
    "assert_equal(comp_close_stat(df, 'IBM', 'min'), 147.93)\n",
    "assert_equal(comp_close_stat(df, 'IBM', 'max'), 170.58)\n",
    "assert_almost_equal(comp_close_stat(df, 'AA', 'mean'), 16.5044)"
   ]
  },
  {
   "cell_type": "markdown",
   "metadata": {
    "deletable": false
   },
   "source": [
    "-----\n",
    "\n",
    "**&copy; 2019: Gies College of Business at the University of Illinois.**\n",
    "\n",
    "This notebook is released under the [Creative Commons license CC BY-NC-SA 4.0][ll]. Any reproduction, adaptation, distribution, dissemination or making available of this notebook for commercial use is not allowed unless authorized in writing by the copyright holder.\n",
    "\n",
    "[ll]: https://creativecommons.org/licenses/by-nc-sa/4.0/legalcode"
   ]
  }
 ],
 "metadata": {
  "coursera": {
   "course_slug": "data-analytics-accountancy-1",
   "graded_item_id": "s1bcv",
   "launcher_item_id": "97CPB"
  },
  "kernelspec": {
   "display_name": "Python 3",
   "language": "python",
   "name": "python3"
  },
  "language_info": {
   "codemirror_mode": {
    "name": "ipython",
    "version": 3
   },
   "file_extension": ".py",
   "mimetype": "text/x-python",
   "name": "python",
   "nbconvert_exporter": "python",
   "pygments_lexer": "ipython3",
   "version": "3.7.1"
  }
 },
 "nbformat": 4,
 "nbformat_minor": 2
}
