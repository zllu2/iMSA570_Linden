{
 "cells": [
  {
   "cell_type": "markdown",
   "metadata": {
    "nbgrader": {
     "grade": false,
     "grade_id": "intro",
     "locked": true,
     "schema_version": 1,
     "solution": false
    }
   },
   "source": [
    "# Module 8 Assignment\n",
    "\n",
    "A few things you should keep in mind when working on assignments:\n",
    "\n",
    "1. Make sure you fill in any place that says `YOUR CODE HERE`. Do **not** write your answer in anywhere else other than where it says `YOUR CODE HERE`. Anything you write anywhere else will be removed or overwritten by the autograder.\n",
    "\n",
    "2. Before you submit your assignment, make sure everything runs as expected. Go to menubar, select _Kernel_, and restart the kernel and run all cells (_Restart & Run all_).\n",
    "\n",
    "3. Do not change the title (i.e. file name) of this notebook.\n",
    "\n",
    "4. Make sure that you save your work (in the menubar, select _File_ → _Save and CheckPoint_)\n",
    "\n",
    "5. You are allowed to submit an assignment multiple times, but only the most recent submission will be graded.\n",
    "\n",
    "-----"
   ]
  },
  {
   "cell_type": "code",
   "execution_count": 1,
   "metadata": {
    "nbgrader": {
     "grade": false,
     "grade_id": "imports",
     "locked": true,
     "schema_version": 1,
     "solution": false
    }
   },
   "outputs": [],
   "source": [
    "import sqlite3 as sql\n",
    "import pandas as pd\n",
    "\n",
    "from nose.tools import assert_equal, assert_true"
   ]
  },
  {
   "cell_type": "markdown",
   "metadata": {
    "nbgrader": {
     "grade": false,
     "grade_id": "p1_desc",
     "locked": true,
     "schema_version": 1,
     "solution": false
    }
   },
   "source": [
    "-----\n",
    "\n",
    "## Problem 1: Creating DB, Establishing a Connection, Creating a Table\n",
    "\n",
    "In the code cell below, we declare a function named `create` that takes one function parameter: `file_path`, which is a string containing the file path to the SQLite3 database.\n",
    "\n",
    "To complete this problem, finish writing the function `create`:\n",
    "- create a sqlite3 db at `file_path` and establish a connection to this database,\n",
    "- create a cursor using the connection to this database,\n",
    "- use the cursor to drop the `Courses` table if it exists,\n",
    "- use the cursor to create the `Courses` table with the following columns:\n",
    "    - `Subject` with type text and does not contain any NULL values,\n",
    "    - `CourseNumber` with type integer and does not contain any NULL values,\n",
    "    - `CRN` with type integer and does not contain any NULL values, and\n",
    "- return the connection to the database and the database cursor.\n",
    "\n",
    "-----"
   ]
  },
  {
   "cell_type": "code",
   "execution_count": 2,
   "metadata": {
    "nbgrader": {
     "grade": false,
     "grade_id": "p1_ans",
     "locked": false,
     "schema_version": 1,
     "solution": true
    }
   },
   "outputs": [],
   "source": [
    "# connect to a datbase create a table\n",
    "def create(file_path):\n",
    "    '''\n",
    "    Creates and establishes a connection to a database and \n",
    "    creates a table.\n",
    "    \n",
    "    Parameters\n",
    "    ----------\n",
    "    file_path: string containing path to create database\n",
    "    \n",
    "    Returns\n",
    "    -------\n",
    "    con: sqlite3 connection\n",
    "    cur: sqlite3 database cursor object\n",
    "    '''\n",
    "    \n",
    "    ###BEGIN SOLUTION\n",
    "    con = sql.connect(file_path)\n",
    "    cur = con.cursor() \n",
    "    query='DROP TABLE IF EXISTS Courses;'\n",
    "    cur.execute(query)\n",
    "    query = '''\n",
    "    CREATE TABLE Courses (\n",
    "        Subject TEXT NOT NULL,\n",
    "        CourseNumber INT NOT NULL,\n",
    "        CRN INT NOT NULL\n",
    "    );\n",
    "    '''\n",
    "    cur.execute(query)\n",
    "    return con, cur\n",
    "    ###END SOLUTION###"
   ]
  },
  {
   "cell_type": "code",
   "execution_count": 3,
   "metadata": {
    "nbgrader": {
     "grade": true,
     "grade_id": "p1_test",
     "locked": true,
     "points": 1,
     "schema_version": 1,
     "solution": false
    }
   },
   "outputs": [],
   "source": [
    "con, cur = create('sql_files/m12.db')\n",
    "\n",
    "cur.execute(\"PRAGMA table_Info('Courses')\")\n",
    "result = cur.fetchall()\n",
    "\n",
    "ans = ''\n",
    "for i in result:\n",
    "    ans = ans + i[1] + \" \" + i[2] +'|'\n",
    "    \n",
    "assert_true('Subject TEXT' in ans, msg='Subject should be of type text')\n",
    "assert_true('CourseNumber INT' in ans, msg='CourseNumber should be of type int')\n",
    "assert_true('CRN INT' in ans, msg='CRN should be of type integer')\n"
   ]
  },
  {
   "cell_type": "markdown",
   "metadata": {
    "nbgrader": {
     "grade": false,
     "grade_id": "p2_desc",
     "locked": true,
     "schema_version": 1,
     "solution": false
    }
   },
   "source": [
    "-----\n",
    "\n",
    "## Problem 2: Inserting Data\n",
    "\n",
    "In the code cell below, we declare a function named `insert` that takes two function parameter: `cur` which is a sqlite3 cursor and `data`, which is a list of tuples.\n",
    "\n",
    "To complete this problem, finish writing the function `insert`:\n",
    "- write and execute sql query to:\n",
    " - delete existing data in `Courses` table,\n",
    " - insert data in `data` to `Courses` table.\n",
    "\n",
    "-----"
   ]
  },
  {
   "cell_type": "code",
   "execution_count": 4,
   "metadata": {
    "nbgrader": {
     "grade": false,
     "grade_id": "p2_ans",
     "locked": false,
     "schema_version": 1,
     "solution": true
    }
   },
   "outputs": [],
   "source": [
    "def insert(cur, data):\n",
    "    '''\n",
    "    Creates a query from the parameter data\n",
    "    \n",
    "    Parameters\n",
    "    ----------\n",
    "    cur: sqlite3 cursor\n",
    "    data: list of tuples\n",
    "    \n",
    "    Returns\n",
    "    -------\n",
    "    None\n",
    "    '''\n",
    "    \n",
    "    ###BEGIN SOLUTION###\n",
    "    cur.execute(\"DELETE FROM Courses\")\n",
    "    cur.executemany(\"INSERT INTO Courses (Subject, CourseNumber, CRN) VALUES (?, ?, ?)\", data)\n",
    "    ###END SOLUTION###"
   ]
  },
  {
   "cell_type": "code",
   "execution_count": 5,
   "metadata": {
    "nbgrader": {
     "grade": true,
     "grade_id": "p2_tests",
     "locked": true,
     "points": 1,
     "schema_version": 1,
     "solution": false
    }
   },
   "outputs": [],
   "source": [
    "data = [('ACCY', 199, 10033), ('ACCY', 199, 69998), ('ACCY', 200, 29670), ('ACCY', 201, 36478),\n",
    "        ('ART', 102, 62794), ('ART', 150, 65459), ('ART', 310, 64968),\n",
    "        ('IE', 300, 51898), ('IE', 512, 35414), ('IE', 360, 61503),\n",
    "        ('LAW', 600, 30836), ('LAW', 604, 31954), ('LAW', 634, 56475)]\n",
    "insert(cur, data)\n",
    "\n",
    "cur.execute('select * from courses')\n",
    "result = cur.fetchall()\n",
    "assert_equal(result, data, msg=\"Your answer does not match the solution\")"
   ]
  },
  {
   "cell_type": "markdown",
   "metadata": {
    "nbgrader": {
     "grade": false,
     "grade_id": "p3_desc",
     "locked": true,
     "schema_version": 1,
     "solution": false
    }
   },
   "source": [
    "-----\n",
    "\n",
    "## Problem 3: Selecting DATA\n",
    "\n",
    "In the code cell below, we declare a function named `select` that takes two function parameters.\n",
    "\n",
    "To complete this problem, finish writing the function `select`:\n",
    "- Selects all columns of data from the `Courses` table for those courses that are either an accounting or law course, and load to a dataframe\n",
    "- return the dataframe.\n",
    "\n",
    "-----"
   ]
  },
  {
   "cell_type": "code",
   "execution_count": 6,
   "metadata": {
    "nbgrader": {
     "grade": false,
     "grade_id": "p3_ans",
     "locked": false,
     "schema_version": 1,
     "solution": true
    }
   },
   "outputs": [],
   "source": [
    "# Select data\n",
    "def select(con, sub):\n",
    "    '''\n",
    "    Selects data from the courses table by subject.\n",
    "    \n",
    "    Parameters\n",
    "    ----------\n",
    "    con: sqlite3 connection\n",
    "    sub: subject to select\n",
    "    \n",
    "    Returns\n",
    "    -------\n",
    "    dataframe that contains course info\n",
    "    '''\n",
    "    ###BEGIN SOLUTION###\n",
    "    df = pd.read_sql(\"select * from courses where subject = '{}'\".format(sub), con)\n",
    "    return df\n",
    "    ###END SOLUTION###"
   ]
  },
  {
   "cell_type": "code",
   "execution_count": 7,
   "metadata": {
    "nbgrader": {
     "grade": true,
     "grade_id": "p3_test",
     "locked": true,
     "points": 1,
     "schema_version": 1,
     "solution": false
    }
   },
   "outputs": [],
   "source": [
    "result = select(con, 'ACCY')\n",
    "assert_equal(result.shape[0], 4, msg=\"Your answer does not match the solution\")"
   ]
  },
  {
   "cell_type": "markdown",
   "metadata": {},
   "source": [
    "-----\n",
    "\n",
    "## Problem 4: Load and Create New Table\n",
    "\n",
    "In the code cell below, we declare a function named `load_create` that takes two function parameters.\n",
    "\n",
    "To complete this problem, finish writing the function `load_create`:\n",
    "- Selects all columns of data from the `Courses` table and load to a dataframe\n",
    "- write dataframe into a new database table\n",
    " - **donot** write dataframe index to database\n",
    " - replace the table if already exists\n",
    "\n",
    "-----"
   ]
  },
  {
   "cell_type": "code",
   "execution_count": 8,
   "metadata": {},
   "outputs": [],
   "source": [
    "def load_create(con, new_table_name):\n",
    "    '''\n",
    "    Load data from the Courses table to a dataframe then write the dateframe to a new table.\n",
    "    \n",
    "    Parameters\n",
    "    ----------\n",
    "    con: sqlite3 connection\n",
    "    new_table_name: name of the new table\n",
    "    \n",
    "    Returns\n",
    "    -------\n",
    "    None\n",
    "    '''\n",
    "    ###BEGIN SOLUTION###\n",
    "    df = pd.read_sql(\"select * from courses\", con)\n",
    "    df.to_sql(new_table_name, con, index=False, if_exists='replace')\n",
    "    return df\n",
    "    ###END SOLUTION###"
   ]
  },
  {
   "cell_type": "code",
   "execution_count": 9,
   "metadata": {},
   "outputs": [],
   "source": [
    "load_create(con, 'Courses_copy')\n",
    "df_copy = pd.read_sql(\"select * from courses_copy\", con)\n",
    "assert_equal(df_copy.shape, (13,3), msg=\"Your function doesn't meet the requirments\")"
   ]
  },
  {
   "cell_type": "markdown",
   "metadata": {
    "deletable": false,
    "editable": false
   },
   "source": [
    "-----\n",
    "\n",
    "**&copy; 2019: Gies College of Business at the University of Illinois.**\n",
    "\n",
    "This notebook is released under the [Creative Commons license CC BY-NC-SA 4.0][ll]. Any reproduction, adaptation, distribution, dissemination or making available of this notebook for commercial use is not allowed unless authorized in writing by the copyright holder.\n",
    "\n",
    "[ll]: https://creativecommons.org/licenses/by-nc-sa/4.0/legalcode"
   ]
  }
 ],
 "metadata": {
  "anaconda-cloud": {},
  "coursera": {
   "course_slug": "data-analytics-accountancy-2",
   "graded_item_id": "ZfO6D",
   "launcher_item_id": "55BT5"
  },
  "kernelspec": {
   "display_name": "Python 3",
   "language": "python",
   "name": "python3"
  },
  "language_info": {
   "codemirror_mode": {
    "name": "ipython",
    "version": 3
   },
   "file_extension": ".py",
   "mimetype": "text/x-python",
   "name": "python",
   "nbconvert_exporter": "python",
   "pygments_lexer": "ipython3",
   "version": "3.7.1"
  }
 },
 "nbformat": 4,
 "nbformat_minor": 2
}
