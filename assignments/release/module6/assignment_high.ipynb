{
 "cells": [
  {
   "cell_type": "markdown",
   "metadata": {
    "deletable": false,
    "editable": false,
    "nbgrader": {
     "cell_type": "markdown",
     "checksum": "889597ea969f79c5d9f78e145b771099",
     "grade": false,
     "grade_id": "title",
     "locked": true,
     "schema_version": 3,
     "solution": false
    }
   },
   "source": [
    "# Module 6 Assignment\n",
    "\n",
    "\n",
    "A few things you should keep in mind when working on assignments:\n",
    "\n",
    "1. Run the first code cell to import modules needed by this assignment before proceeding to problems.\n",
    "2. Make sure you fill in any place that says `# YOUR CODE HERE`. Do not write your answer anywhere else other than where it says `# YOUR CODE HERE`. Anything you write elsewhere will be removed or overwritten by the autograder.\n",
    "3. Each problem has an autograder cell below the answer cell. Run the autograder cell to check your answer. If there's anything wrong in your answer, the autograder cell will display error messages.\n",
    "4. Before you submit your assignment, make sure everything runs as expected. Go to the menubar, select Kernel, and Restart & Run all. If the notebook runs through the last code cell without an error message, you've answered all problems correctly.\n",
    "5. Make sure that you save your work (in the menubar, select File → Save and CheckPoint).\n",
    "\n",
    "-----"
   ]
  },
  {
   "cell_type": "markdown",
   "metadata": {
    "deletable": false,
    "editable": false,
    "nbgrader": {
     "cell_type": "markdown",
     "checksum": "abfcd8ec776bd65a5dcec061defc8c93",
     "grade": false,
     "grade_id": "cell-75e2c7244f51eb7c",
     "locked": true,
     "schema_version": 3,
     "solution": false
    }
   },
   "source": [
    "# Run Me First!"
   ]
  },
  {
   "cell_type": "code",
   "execution_count": null,
   "metadata": {
    "deletable": false,
    "editable": false,
    "nbgrader": {
     "cell_type": "code",
     "checksum": "91469ac12c482e9230aa25ab83709558",
     "grade": false,
     "grade_id": "cell-8ce500800dc20cdb",
     "locked": true,
     "schema_version": 3,
     "solution": false
    }
   },
   "outputs": [],
   "source": [
    "import pandas as pd\n",
    "import numpy as np\n",
    "import matplotlib as mpl\n",
    "import matplotlib.pyplot as plt\n",
    "from nose.tools import assert_equal, assert_almost_equal, assert_is_instance, assert_is_not\n",
    "import seaborn as sns\n",
    "sns.set()\n",
    "import warnings\n",
    "warnings.filterwarnings('ignore')\n",
    "%matplotlib inline\n"
   ]
  },
  {
   "cell_type": "code",
   "execution_count": null,
   "metadata": {},
   "outputs": [],
   "source": [
    "#Make sure the Dow Jones data is loaded in\n",
    "df = pd.read_csv('./data/dow_jones_index.data')\n",
    "df.head()"
   ]
  },
  {
   "cell_type": "markdown",
   "metadata": {
    "deletable": false,
    "editable": false,
    "nbgrader": {
     "cell_type": "markdown",
     "checksum": "9a146cb7aa204f4bab7df1186d11fe98",
     "grade": false,
     "grade_id": "cell-ce1d5832983b1be5",
     "locked": true,
     "schema_version": 3,
     "solution": false
    }
   },
   "source": [
    "# Problem 1: Create a boxplot of the opening stock price for a given stock.\n",
    "\n",
    "In this problem you will create a boxplot to view the distribution of the opening price for a given stock from the Dow Jones dataset.\n",
    "\n",
    "- Write a function called \"open_boxplot\" that takes in a DataFrame and the ticker name of a stock and outputs a boxplot of that stocks opening price.\n",
    "\n",
    "\n",
    "- Use the seaborn module to create the boxplot.\n",
    "\n",
    "\n",
    "- Give the plot a descriptive title.\n",
    "\n",
    "\n",
    "- Give the plot a descriptive x-axis label.\n",
    "\n",
    "\n",
    "- Do *NOT* give the plot a y-axis label."
   ]
  },
  {
   "cell_type": "code",
   "execution_count": null,
   "metadata": {
    "deletable": false,
    "nbgrader": {
     "cell_type": "code",
     "checksum": "a85bf7553a87d5954cd0073204ccc6e1",
     "grade": false,
     "grade_id": "p1-answer",
     "locked": false,
     "schema_version": 3,
     "solution": true
    }
   },
   "outputs": [],
   "source": [
    "def open_boxplot(df,ticker_name):\n",
    "    '''\n",
    "    A function which creates a boxplot of the opening price from the Dow Jones data.\n",
    "        \n",
    "    Parameters\n",
    "    -------\n",
    "    df: a pandas dataframe containing stock price data from the Dow Jones dataset\n",
    "    \n",
    "    ticker_name: the ticker name of the stock of interest\n",
    "        \n",
    "    Returns\n",
    "    --------\n",
    "    \n",
    "    ax: a matplotlib axes object containing a boxplot of the stock's opening prices from the Dow Jones dataset    \n",
    "    '''\n",
    "\n",
    "    # YOUR CODE HERE\n",
    "    \n",
    "    \n",
    "    return ax"
   ]
  },
  {
   "cell_type": "markdown",
   "metadata": {
    "deletable": false,
    "editable": false,
    "nbgrader": {
     "cell_type": "markdown",
     "checksum": "aac0f80f8115bb79c40b5e100cbdc6ef",
     "grade": false,
     "grade_id": "cell-e8e494a2a6c04669",
     "locked": true,
     "schema_version": 3,
     "solution": false
    }
   },
   "source": [
    "Below we again look at the stock for Alcoa Corp (ticker name: AA)"
   ]
  },
  {
   "cell_type": "code",
   "execution_count": null,
   "metadata": {
    "deletable": false,
    "editable": false,
    "nbgrader": {
     "cell_type": "code",
     "checksum": "4ca66b5dd54bbdc0e8d4ddf0e0a47dfb",
     "grade": false,
     "grade_id": "cell-a10f29ed000fa3b0",
     "locked": true,
     "schema_version": 3,
     "solution": false
    }
   },
   "outputs": [],
   "source": [
    "my_boxplot = open_boxplot(df,'AA')\n",
    "plt.show()\n",
    "plt.close()"
   ]
  },
  {
   "cell_type": "code",
   "execution_count": null,
   "metadata": {
    "deletable": false,
    "editable": false,
    "nbgrader": {
     "cell_type": "code",
     "checksum": "2fe98695eb5a2f99ac2c5be030caae97",
     "grade": true,
     "grade_id": "p1-test",
     "locked": true,
     "points": 1,
     "schema_version": 3,
     "solution": false
    }
   },
   "outputs": [],
   "source": [
    "assert_is_instance(my_boxplot, mpl.axes.Axes, msg='Return a matplotlib axes object.')  \n",
    "assert_is_not(len(my_boxplot.title.get_text()), 0, msg=\"Your plot doesn't have a title.\")\n",
    "assert_is_not(my_boxplot.xaxis.get_label_text(), '', msg=\"Change the x-axis label to something more descriptive.\")\n",
    "assert_equal(my_boxplot.yaxis.get_label_text(), '', msg=\"The y-axis should not have a label.\")\n",
    "assert_equal(my_boxplot.get_data_ratio(),0.2681684097613303,\n",
    "             msg=\"The function seems to be using the wrong ticker name\")"
   ]
  },
  {
   "cell_type": "markdown",
   "metadata": {
    "deletable": false,
    "editable": false,
    "nbgrader": {
     "cell_type": "markdown",
     "checksum": "8a55fd5e7bcf1502462a19a8fc6da2ac",
     "grade": false,
     "grade_id": "cell-598fa657cd84f2aa",
     "locked": true,
     "schema_version": 3,
     "solution": false
    }
   },
   "source": [
    "# Problem 2:  Plot the distribution of days until next dividend\n",
    "\n",
    "In this problem you will create a rugplot of days until next dividend for all the Dow Jones stocks in the dataset.\n",
    "\n",
    "- Use the seaborn module to create the rugplot.\n",
    "\n",
    "\n",
    "- Give the plot a descriptive title.\n",
    "\n",
    "\n",
    "- Give the plot a descriptive x-axis label.\n",
    "\n",
    "\n",
    "- Do *NOT* give the plot a y-axis label."
   ]
  },
  {
   "cell_type": "code",
   "execution_count": null,
   "metadata": {
    "deletable": false,
    "nbgrader": {
     "cell_type": "code",
     "checksum": "e8ecf4e3ea066c56dabea015836d354e",
     "grade": false,
     "grade_id": "p2-answer",
     "locked": false,
     "schema_version": 3,
     "solution": true
    }
   },
   "outputs": [],
   "source": [
    "def rug_plot(df):\n",
    "    '''\n",
    "    A function which creates a rugplot of the days until next dividend from the Dow Jones data.\n",
    "        \n",
    "    Parameters\n",
    "    -------\n",
    "    df: a pandas dataframe containing stock price data from the Dow Jones dataset    \n",
    "    \n",
    "    Returns\n",
    "    --------\n",
    "    \n",
    "    ax: a matplotlib axes object containing a rugplot of the days to next dividend for all stocks in the \n",
    "        Dow Jones dataset    \n",
    "    '''\n",
    "        \n",
    "    # YOUR CODE HERE\n",
    "    \n",
    "    \n",
    "    return ax"
   ]
  },
  {
   "cell_type": "code",
   "execution_count": null,
   "metadata": {
    "deletable": false,
    "editable": false,
    "nbgrader": {
     "cell_type": "code",
     "checksum": "b5eb3cb8bf26182a9b596f7ec4ac931b",
     "grade": false,
     "grade_id": "cell-6f5d27cfc8a355ea",
     "locked": true,
     "schema_version": 3,
     "solution": false
    }
   },
   "outputs": [],
   "source": [
    "rp = rug_plot(df)\n",
    "plt.show()\n",
    "plt.close()"
   ]
  },
  {
   "cell_type": "code",
   "execution_count": null,
   "metadata": {
    "deletable": false,
    "editable": false,
    "nbgrader": {
     "cell_type": "code",
     "checksum": "799f47b64845611af408f40066762b3a",
     "grade": true,
     "grade_id": "p2-test",
     "locked": true,
     "points": 1,
     "schema_version": 3,
     "solution": false
    }
   },
   "outputs": [],
   "source": [
    "assert_is_instance(rp, mpl.axes.Axes, msg='Return a matplotlib axes object.')  \n",
    "assert_is_not(len(rp.title.get_text()), 0, msg=\"Your plot doesn't have a title.\")\n",
    "assert_is_not(rp.xaxis.get_label_text(), '', msg=\"Change the x-axis label to something more descriptive.\")\n",
    "assert_equal(rp.yaxis.get_label_text(), '', msg=\"The y-axis should not have a label.\")\n",
    "assert_almost_equal(rp.get_data_ratio(),0.0027056, places=3,\n",
    "            msg=\"The function is likely plotting the wrong data\")"
   ]
  },
  {
   "cell_type": "markdown",
   "metadata": {
    "deletable": false,
    "editable": false,
    "nbgrader": {
     "cell_type": "markdown",
     "checksum": "100f87e202221102f402d61880fd2f18",
     "grade": false,
     "grade_id": "cell-5e9d917cd331cd07",
     "locked": true,
     "schema_version": 3,
     "solution": false
    }
   },
   "source": [
    "# Problem 3: Comparing Dow Jones index values\n",
    "\n",
    "\n",
    "In this problem you will create a comparitive histogram to compare the distribution of the opening price of a stock and the distribution of the following weeks opening price of a stock.\n",
    "\n",
    "- Create a 1-D comparative histogram (**side-by-side**) of the columns *open* and *next_weeks_open* from the Dow Jones dataset so that we can compare the current week's opening price to next week's opening price.\n",
    "\n",
    "- Use default bin number(do not set bins).\n",
    "\n",
    "- Create a label for the y-axis and the x-axis.\n",
    "\n",
    "- Set a title for your plot.\n",
    "\n",
    "- Create a legend so that we know which bars correspond to the current weeks open vs. next weeks open.\n",
    "\n",
    "\n"
   ]
  },
  {
   "cell_type": "code",
   "execution_count": null,
   "metadata": {
    "deletable": false,
    "nbgrader": {
     "cell_type": "code",
     "checksum": "c905e0af1945455b4ed134eec955f7e8",
     "grade": false,
     "grade_id": "p3-answer",
     "locked": false,
     "schema_version": 3,
     "solution": true
    }
   },
   "outputs": [],
   "source": [
    "def plot_compare_hist(df):\n",
    "    '''\n",
    "    A function which plots a comparative histogram to compare the current weeks opening price and \n",
    "    the next weeks opening price from the Dow Jones data.\n",
    "        \n",
    "    Parameters\n",
    "    -------\n",
    "    df: a pandas dataframe containing stock price data from the Dow Jones dataset\n",
    "        \n",
    "    Returns\n",
    "    --------\n",
    "    \n",
    "    ax: a matplotlib axes object containing a comparative histogram of the open colum and next_weeks_open column from\n",
    "        the Dow Jones dataset    \n",
    "    '''\n",
    "        \n",
    "    # YOUR CODE HERE\n",
    "    \n",
    "    \n",
    "    return ax"
   ]
  },
  {
   "cell_type": "code",
   "execution_count": null,
   "metadata": {
    "deletable": false,
    "editable": false,
    "nbgrader": {
     "cell_type": "code",
     "checksum": "c54755f83df617a5f7b1d5ed76b5bd5b",
     "grade": false,
     "grade_id": "cell-d4ad3ff2cba115c2",
     "locked": true,
     "schema_version": 3,
     "solution": false
    }
   },
   "outputs": [],
   "source": [
    "ch = plot_compare_hist(df)"
   ]
  },
  {
   "cell_type": "code",
   "execution_count": null,
   "metadata": {
    "deletable": false,
    "editable": false,
    "nbgrader": {
     "cell_type": "code",
     "checksum": "e1d9a7c62437068b6dc7f6bff76925fc",
     "grade": true,
     "grade_id": "p3-test",
     "locked": true,
     "points": 1,
     "schema_version": 3,
     "solution": false
    }
   },
   "outputs": [],
   "source": [
    "assert_is_instance(ch, mpl.axes.Axes, msg='Return an axes object.')  \n",
    "assert_is_not(len(ch.title.get_text()), 0, msg=\"Your plot doesn't have a title.\")\n",
    "assert_is_not(ch.xaxis.get_label_text(), '', msg=\"Change the x-axis label to something more descriptive.\")\n",
    "assert_is_not(ch.yaxis.get_label_text(), '', msg=\"Change the y-axis label to something more descriptive.\")\n",
    "assert_is_instance(ch.legend_, mpl.legend.Legend, msg=\"Your plot doesn't have a Legend\")\n",
    "assert_equal(ch.patches[0].get_bbox().get_points()[0][0],12.1359,\n",
    "             msg=\"The number of bins may not be correct, or the function is using the wrong ticker name\")\n",
    "assert_equal(ch.patches[0].get_bbox().get_points()[1][0],18.5995,\n",
    "             msg=\"The number of bins may not be correct, or the function is using the wrong ticker name\")"
   ]
  },
  {
   "cell_type": "markdown",
   "metadata": {
    "deletable": false,
    "editable": false,
    "nbgrader": {
     "cell_type": "markdown",
     "checksum": "f7b1b0196e8fc87a98e0467b1b609d7c",
     "grade": false,
     "grade_id": "cell-f433f1f33a665626",
     "locked": true,
     "schema_version": 3,
     "solution": false
    }
   },
   "source": [
    "# Problem 4:  Plot horizontal barplot on average stock volume\n",
    "\n",
    "- Use the seaborn barplot function to plot a **horizontal** bar plot on average stock volume. The y-axis should be stock symbols and the x-axis is average trading volume.\n",
    "\n",
    "- Set figsize to (10, 8)\n",
    "\n",
    "- Use the seaborn module to create the barplot\n",
    "\n",
    "- Turn off confidence interval line\n",
    "\n",
    "- Give the plot a descriptive title\n"
   ]
  },
  {
   "cell_type": "code",
   "execution_count": null,
   "metadata": {
    "deletable": false,
    "nbgrader": {
     "cell_type": "code",
     "checksum": "603af0f09ee97afdb695d223d08d421b",
     "grade": false,
     "grade_id": "p4-answer",
     "locked": false,
     "schema_version": 3,
     "solution": true
    }
   },
   "outputs": [],
   "source": [
    "def plot_stock_volume(df):\n",
    "    '''\n",
    "    A  function to plot a horizontal bar plot on average stock volume. \n",
    "    \n",
    "    Parameters\n",
    "    -------\n",
    "    df: a pandas dataframe containing stock price data from the Dow Jones dataset    \n",
    "    \n",
    "    Returns\n",
    "    --------\n",
    "    \n",
    "    ax: a matplotlib axes object containing a barplot of the average stock volume    \n",
    "    '''\n",
    "    \n",
    "    # YOUR CODE HERE\n",
    "    \n",
    "    \n",
    "    return ax"
   ]
  },
  {
   "cell_type": "code",
   "execution_count": null,
   "metadata": {
    "deletable": false,
    "editable": false,
    "nbgrader": {
     "cell_type": "code",
     "checksum": "904c2d3c6323c7a6a19581d45c3886b2",
     "grade": false,
     "grade_id": "cell-85096762eabb7962",
     "locked": true,
     "schema_version": 3,
     "solution": false
    }
   },
   "outputs": [],
   "source": [
    "sv = plot_stock_volume(df)\n",
    "plt.show()\n",
    "plt.close()"
   ]
  },
  {
   "cell_type": "code",
   "execution_count": null,
   "metadata": {
    "deletable": false,
    "editable": false,
    "nbgrader": {
     "cell_type": "code",
     "checksum": "93b13b813220e8c1762e13ccb914fd38",
     "grade": true,
     "grade_id": "p4-test",
     "locked": true,
     "points": 1,
     "schema_version": 3,
     "solution": false
    }
   },
   "outputs": [],
   "source": [
    "assert_is_instance(sv, mpl.axes.Axes, msg='Return a matplotlib axes object.')  \n",
    "assert_is_not(len(sv.title.get_text()), 0, msg=\"Your plot doesn't have a title.\")\n",
    "assert_almost_equal(sv.get_data_ratio(),3.9517929090328074e-08, places=3,\n",
    "             msg=\"The function is plotting the wrong data or your plot is not a horizontal bar plot.\")"
   ]
  },
  {
   "cell_type": "markdown",
   "metadata": {
    "deletable": false,
    "editable": false,
    "nbgrader": {
     "cell_type": "markdown",
     "checksum": "22983d5b95d0a18c5ef0625a931b1e70",
     "grade": false,
     "grade_id": "cell-01389beb48257774",
     "locked": true,
     "schema_version": 3,
     "solution": false
    }
   },
   "source": [
    "# Problem 5: Comparing the current week's open to next week's open\n",
    "\n",
    "Use matplotlib to plot scatter plot on open and next week's open for a particular stock.\n",
    "\n",
    "- Create scatter plot on open and next week's open for a particular stock.\n",
    "\n",
    "- The *open* variable should be on the x-axis.\n",
    "\n",
    "- The *next week's open* variable should be on the y-axis.\n",
    "\n",
    "- Create a label for the y-axis and the x-axis.\n",
    "\n",
    "- Set a title for your plot\n"
   ]
  },
  {
   "cell_type": "code",
   "execution_count": null,
   "metadata": {
    "deletable": false,
    "nbgrader": {
     "cell_type": "code",
     "checksum": "ee7d786605b071f136385456eda12da4",
     "grade": false,
     "grade_id": "p5-answer",
     "locked": false,
     "schema_version": 3,
     "solution": true
    }
   },
   "outputs": [],
   "source": [
    "def plot_scatter_plot(df, ticker_name):\n",
    "    '''\n",
    "    A function which plots scatter plot on open and next week's open for a particular stock.\n",
    "        \n",
    "    Parameters\n",
    "    -------\n",
    "    df: a pandas dataframe containing stock price data\n",
    "    ticker_name: stock to plot\n",
    "    \n",
    "    Returns\n",
    "    --------\n",
    "    \n",
    "    ax: a matplotlib axes object containing a scatter plot\n",
    "    '''\n",
    "        \n",
    "    # YOUR CODE HERE\n",
    "    \n",
    "    \n",
    "    return ax"
   ]
  },
  {
   "cell_type": "code",
   "execution_count": null,
   "metadata": {
    "deletable": false,
    "editable": false,
    "nbgrader": {
     "cell_type": "code",
     "checksum": "287060a0f9770c9abe9aa6792d88e3b8",
     "grade": false,
     "grade_id": "cell-34b40d8f2fe0cc32",
     "locked": true,
     "schema_version": 3,
     "solution": false
    }
   },
   "outputs": [],
   "source": [
    "cb = plot_scatter_plot(df, 'IBM')"
   ]
  },
  {
   "cell_type": "code",
   "execution_count": null,
   "metadata": {
    "deletable": false,
    "editable": false,
    "nbgrader": {
     "cell_type": "code",
     "checksum": "aff488737c21577c58799dbfe012b69f",
     "grade": true,
     "grade_id": "p5-test",
     "locked": true,
     "points": 1,
     "schema_version": 3,
     "solution": false
    }
   },
   "outputs": [],
   "source": [
    "assert_is_instance(cb, mpl.axes.Axes, msg='Return a matplotlib axes object.')  \n",
    "assert_is_not(len(cb.title.get_text()), 0, msg=\"Your plot doesn't have a title.\")\n",
    "assert_is_not(cb.xaxis.get_label_text(), '', msg=\"Change the x-axis label to something more descriptive.\")\n",
    "assert_is_not(cb.yaxis.get_label_text(), '', msg=\"Change the y-axis label to something more descriptive.\")\n",
    "assert_almost_equal(cb.get_data_ratio(),1, places=2,\n",
    "             msg=\"The function is either plotting the wrong columns or wrong stock.\")"
   ]
  }
 ],
 "metadata": {
  "kernelspec": {
   "display_name": "Python 3",
   "language": "python",
   "name": "python3"
  },
  "language_info": {
   "codemirror_mode": {
    "name": "ipython",
    "version": 3
   },
   "file_extension": ".py",
   "mimetype": "text/x-python",
   "name": "python",
   "nbconvert_exporter": "python",
   "pygments_lexer": "ipython3",
   "version": "3.7.3"
  }
 },
 "nbformat": 4,
 "nbformat_minor": 4
}
