{
 "cells": [
  {
   "cell_type": "markdown",
   "metadata": {
    "deletable": false,
    "editable": false,
    "nbgrader": {
     "checksum": "de18d89ce4b408c9912303729794683f",
     "grade": false,
     "grade_id": "intro",
     "locked": true,
     "schema_version": 1,
     "solution": false
    }
   },
   "source": [
    "# Module 3 Assignment\n",
    "\n",
    "\n",
    "A few things you should keep in mind when working on assignments:\n",
    "\n",
    "1. Run the first code cell to import modules needed by this assignment before proceeding to problems.\n",
    "2. Make sure you fill in any place that says `# YOUR CODE HERE`. Do not write your answer anywhere else other than where it says `# YOUR CODE HERE`. Anything you write elsewhere will be removed or overwritten by the autograder.\n",
    "3. Each problem has an autograder cell below the answer cell. Run the autograder cell to check your answer. If there's anything wrong in your answer, the autograder cell will display error messages.\n",
    "4. Before you submit your assignment, make sure everything runs as expected. Go to the menubar, select Kernel, and Restart & Run all. If the notebook runs through the last code cell without error message, you've answered all problems correctly.\n",
    "5. Make sure that you save your work (in the menubar, select File → Save and CheckPoint).\n",
    "\n",
    "-----"
   ]
  },
  {
   "cell_type": "markdown",
   "metadata": {
    "deletable": false,
    "editable": false,
    "nbgrader": {
     "checksum": "c11e311c76b29ad88258938cdbefe4b1",
     "grade": false,
     "grade_id": "cell-7658d2c0ff362f29",
     "locked": true,
     "schema_version": 1,
     "solution": false
    }
   },
   "source": [
    "# Run Me First!"
   ]
  },
  {
   "cell_type": "code",
   "execution_count": null,
   "metadata": {
    "deletable": false,
    "editable": false,
    "nbgrader": {
     "checksum": "854f73aa1bd50febf98c84aad88ab9d6",
     "grade": false,
     "grade_id": "import",
     "locked": true,
     "schema_version": 1,
     "solution": false
    }
   },
   "outputs": [],
   "source": [
    "import numpy as np\n",
    "from nose.tools import assert_equal, assert_is_instance\n",
    "\n",
    "import warnings\n",
    "warnings.filterwarnings('ignore')"
   ]
  },
  {
   "cell_type": "markdown",
   "metadata": {
    "deletable": false,
    "editable": false,
    "nbgrader": {
     "checksum": "df4409a56eb70a63911a8725123922ed",
     "grade": false,
     "grade_id": "p1-text",
     "locked": true,
     "schema_version": 1,
     "solution": false
    }
   },
   "source": [
    "# Problem 1:  BooHoo in a list\n",
    "\n",
    "- Write a function called \"BooHoo\" which takes in an integer, `n`, and stores all integers from 1 to `n` in a list. However, if an integer in the list is divisible by 3, the list should instead contain \"Boo\". If the integer is divisible by 5 the list should instead contain \"Hoo\". If the integer is divisible by both 3 and 5, the list should instead contain \"BooHoo\".\n",
    "\n",
    "\n",
    "- As an example, if the input is 5, the output of the function should be a list  \n",
    "`[1, 2, 'Boo', 4, 'Hoo', 'Boo', 7, 8, 'Boo', 'Hoo', 11, 'Boo', 13, 14, 'BooHoo']`."
   ]
  },
  {
   "cell_type": "code",
   "execution_count": null,
   "metadata": {
    "deletable": false,
    "nbgrader": {
     "checksum": "f008f7217fff69ba792b673e7c6c92ad",
     "grade": false,
     "grade_id": "p1-answer",
     "locked": false,
     "schema_version": 1,
     "solution": true
    }
   },
   "outputs": [],
   "source": [
    "def BooHoo(n):\n",
    "    '''\n",
    "    A function which returns a list of integers, and replaces integers divisible by 3 with \"Boo\" and integers\n",
    "    divisible by 5 with \"Hoo\" and integers divisible by 3 and 5 with \"BooHoo\"\n",
    "    \n",
    "    \n",
    "    Parameters\n",
    "    -------\n",
    "    n: an integer\n",
    "    \n",
    "    \n",
    "    Returns\n",
    "    --------\n",
    "\n",
    "    final_list: a Python list\n",
    "    \n",
    "    '''\n",
    "    \n",
    "    # YOUR CODE HERE\n",
    "    \n",
    "    \n",
    "    return final_list"
   ]
  },
  {
   "cell_type": "code",
   "execution_count": null,
   "metadata": {
    "deletable": false,
    "editable": false,
    "nbgrader": {
     "checksum": "af14742d8dcd23722c9a245f410f258b",
     "grade": true,
     "grade_id": "p1-test",
     "locked": true,
     "points": 1,
     "schema_version": 1,
     "solution": false
    }
   },
   "outputs": [],
   "source": [
    "test_boo = BooHoo(15)\n",
    "print(test_boo)\n",
    "assert_is_instance(test_boo,list,msg='Your function did not return a list')\n",
    "assert_equal(len(test_boo),15,msg='Your output is not the correct length')\n",
    "assert_equal(test_boo[-1],'BooHoo',msg='The function did not return the right output')\n",
    "assert_equal(test_boo[0],1,msg='The function did not return the right output')\n",
    "assert_equal(test_boo[2],'Boo',msg='The function did not return the right output')"
   ]
  },
  {
   "cell_type": "markdown",
   "metadata": {
    "deletable": false,
    "editable": false,
    "nbgrader": {
     "checksum": "d6a3f4937788d7df3ac182d9b997bdc6",
     "grade": false,
     "grade_id": "p2-text",
     "locked": true,
     "schema_version": 1,
     "solution": false
    }
   },
   "source": [
    "# Problem 2: Square elements if they are divisible by 3.\n",
    "\n",
    "\n",
    "- Write a function called \"square_threes\" that takes in an integer, `n`, checks all integers from 1 to `n`, and saves that integer squared in a list if that integer is divisible by 3.\n",
    "\n",
    "\n",
    "- As an example, if `n` is equal to 6, the function should return `[9,36]`.\n",
    "\n",
    "\n",
    "- Note that the returned list should *not* contain 0(since number starts from 1).\n"
   ]
  },
  {
   "cell_type": "code",
   "execution_count": null,
   "metadata": {
    "deletable": false,
    "nbgrader": {
     "checksum": "045b0244baca89501987229003ce6b87",
     "grade": false,
     "grade_id": "p2-answer",
     "locked": false,
     "schema_version": 1,
     "solution": true
    }
   },
   "outputs": [],
   "source": [
    "def square_threes(n):\n",
    "    '''\n",
    "    A function which takes in an integer and returns a list containing the squared  integer from 1 to n, if\n",
    "    that integer is divisible by 3\n",
    "    \n",
    "    \n",
    "    Parameters\n",
    "    -------\n",
    "    \n",
    "    n: an integer\n",
    "    \n",
    "    \n",
    "    Returns\n",
    "    --------\n",
    "    \n",
    "    output_list: a Python list containing the squared elements\n",
    "    \n",
    "    '''\n",
    "    \n",
    "    \n",
    "    # YOUR CODE HERE\n",
    "    \n",
    "    \n",
    "    return output_list"
   ]
  },
  {
   "cell_type": "code",
   "execution_count": null,
   "metadata": {
    "deletable": false,
    "editable": false,
    "nbgrader": {
     "checksum": "32ac6cee1ef95322781e89c9ea92559e",
     "grade": true,
     "grade_id": "p2-test",
     "locked": true,
     "points": 1,
     "schema_version": 1,
     "solution": false
    }
   },
   "outputs": [],
   "source": [
    "squared = square_threes(25)\n",
    "print(squared)\n",
    "assert_equal(type(squared), list, msg ='Your function did not return a list')\n",
    "assert_equal(squared[0], 9, msg ='The first element is incorrect')\n",
    "assert_equal(squared[-1], 576, msg = 'The last element is incorrect')"
   ]
  },
  {
   "cell_type": "markdown",
   "metadata": {
    "deletable": false,
    "editable": false,
    "nbgrader": {
     "checksum": "1296fff5972b54ea35915dbf093a03f6",
     "grade": false,
     "grade_id": "p3-text",
     "locked": true,
     "schema_version": 1,
     "solution": false
    }
   },
   "source": [
    "# Problem 3: Summing a list of lists.\n",
    "\n",
    "- Write a function called \"sum_of_list_of_lists\" which takes in a Python list of lists and returns a single sum of all the elements in the list of lists. The output should be a single number.\n",
    "\n",
    "- Assign the sum to variable sum_of_lists and return it from the function.\n",
    "\n",
    "- Note that the elements of input_list are lists of integers, for example:  \n",
    "`[[1,2,3], [5,6], [4]]`"
   ]
  },
  {
   "cell_type": "code",
   "execution_count": null,
   "metadata": {
    "deletable": false,
    "nbgrader": {
     "checksum": "e63b8c272c0c2e80b9cc577cacd544f2",
     "grade": false,
     "grade_id": "p3-answer",
     "locked": false,
     "schema_version": 1,
     "solution": true
    }
   },
   "outputs": [],
   "source": [
    "def sum_of_list_of_lists(input_list):\n",
    "    '''\n",
    "    A function which takes in a Python list of lists and sums up all their elements\n",
    "    \n",
    "    \n",
    "    Parameters\n",
    "    -------\n",
    "    \n",
    "    input_list: a Python list of lists\n",
    "    \n",
    "    \n",
    "    Returns\n",
    "    --------\n",
    "    \n",
    "    sum_of_lists: the aggregate sum of all elements in the list of lists\n",
    "    '''\n",
    "    # YOUR CODE HERE\n",
    "    \n",
    "    \n",
    "    return sum_of_lists"
   ]
  },
  {
   "cell_type": "code",
   "execution_count": null,
   "metadata": {
    "deletable": false,
    "editable": false,
    "nbgrader": {
     "checksum": "7c497072a2a945582c57ac5c06cfc867",
     "grade": true,
     "grade_id": "p3-test",
     "locked": true,
     "points": 1,
     "schema_version": 1,
     "solution": false
    }
   },
   "outputs": [],
   "source": [
    "list_of_lists = [[1, 4, 54], [23, 45], [64, 11, 23], [53, 2, 6, 45]] \n",
    "added_lists = sum_of_list_of_lists(list_of_lists)\n",
    "assert_equal(type(added_lists), int, msg ='Your function did not return an integer')\n",
    "assert_equal(added_lists, 331, msg='Your function did not return the right value')"
   ]
  },
  {
   "cell_type": "markdown",
   "metadata": {
    "deletable": false,
    "editable": false,
    "nbgrader": {
     "checksum": "039f64e36041f9d38a833312820f92ff",
     "grade": false,
     "grade_id": "p4-text",
     "locked": true,
     "schema_version": 1,
     "solution": false
    }
   },
   "source": [
    "# Problem 4: Get reversed list\n",
    "\n",
    "- Write a function called \"get_reversed_list\" which takes in a list, and then returns a reversed list.\n",
    "- As an example, if input_list is [1,2,3], the function should return a list [3,2,1].\n"
   ]
  },
  {
   "cell_type": "code",
   "execution_count": null,
   "metadata": {
    "deletable": false,
    "nbgrader": {
     "checksum": "9cf7743d55ecc4593251a34ca234eaa7",
     "grade": false,
     "grade_id": "p4-answer",
     "locked": false,
     "schema_version": 1,
     "solution": true
    }
   },
   "outputs": [],
   "source": [
    "def get_reversed_list(input_list):\n",
    "    '''\n",
    "    A function which takes a list and returns a reversed list.\n",
    "    \n",
    "    \n",
    "    Parameters\n",
    "    -------\n",
    "    input_list: a Python list\n",
    "        \n",
    "    \n",
    "    Returns\n",
    "    --------\n",
    "    \n",
    "    reversed_list: a reversed Python list\n",
    "    \n",
    "    '''\n",
    "    \n",
    "    # YOUR CODE HERE\n",
    "    \n",
    "    return reversed_list"
   ]
  },
  {
   "cell_type": "code",
   "execution_count": null,
   "metadata": {
    "deletable": false,
    "editable": false,
    "nbgrader": {
     "checksum": "b88195767dcac305d31fa2c659d5dbba",
     "grade": true,
     "grade_id": "p4-test",
     "locked": true,
     "points": 1,
     "schema_version": 1,
     "solution": false
    }
   },
   "outputs": [],
   "source": [
    "input_list = [24,3451,3412,64,212]\n",
    "reversed_list = get_reversed_list(input_list)\n",
    "print(reversed_list)\n",
    "assert_equal(type(reversed_list), list, msg ='Your function did not return a list')\n",
    "assert_equal(reversed_list[0], 212, msg ='The returned list is incorrect')\n",
    "assert_equal(reversed_list[-1], 24, msg = 'The returned list is incorrect')"
   ]
  },
  {
   "cell_type": "markdown",
   "metadata": {
    "deletable": false,
    "editable": false,
    "nbgrader": {
     "checksum": "ff251875cd922f918b555b66e14898fe",
     "grade": false,
     "grade_id": "p5-text",
     "locked": true,
     "schema_version": 1,
     "solution": false
    }
   },
   "source": [
    "# Problem 5: Concatenating strings\n",
    "\n",
    "- Write a function called \"add_strings\" which takes in 2 python strings and concatenates them. The function should put a space in between the two strings.\n",
    "- As an example, if string1=\"Love\" and string2=\"python\", the returned string should be \"Love python\"\n"
   ]
  },
  {
   "cell_type": "code",
   "execution_count": null,
   "metadata": {
    "deletable": false,
    "nbgrader": {
     "checksum": "363c89a610d895a20df2bbfdf4ff67ac",
     "grade": false,
     "grade_id": "p5-answer",
     "locked": false,
     "schema_version": 1,
     "solution": true
    }
   },
   "outputs": [],
   "source": [
    "def add_strings(string1,string2):\n",
    "    '''\n",
    "    A function which takes in two strings and concatenates them together\n",
    "    \n",
    "    \n",
    "    Parameters\n",
    "    -------\n",
    "    \n",
    "    string1: a Python string\n",
    "    \n",
    "    string2: a Python string\n",
    "        \n",
    "    \n",
    "    Returns\n",
    "    --------\n",
    "    \n",
    "    final_string: a Python string which is a concatenation of string1 and string2    \n",
    "    '''\n",
    "    \n",
    "    \n",
    "    # YOUR CODE HERE\n",
    "    \n",
    "    \n",
    "    return final_string"
   ]
  },
  {
   "cell_type": "code",
   "execution_count": null,
   "metadata": {
    "deletable": false,
    "editable": false,
    "nbgrader": {
     "checksum": "f8562a4bfe451184056cc1588fa91954",
     "grade": true,
     "grade_id": "p5-test",
     "locked": true,
     "points": 1,
     "schema_version": 1,
     "solution": false
    }
   },
   "outputs": [],
   "source": [
    "final_string = add_strings('I love','Python')\n",
    "print(final_string)\n",
    "assert_equal(len(final_string), 13,msg='Your string is the wrong length')\n",
    "assert_equal(final_string[:10], 'I love Pyt',msg='Your function returned an incorrect value')"
   ]
  }
 ],
 "metadata": {
  "anaconda-cloud": {},
  "coursera": {
   "course_slug": "data-analytics-accountancy-1",
   "graded_item_id": "XcXoK",
   "launcher_item_id": "mBQfo"
  },
  "kernelspec": {
   "display_name": "Python 3",
   "language": "python",
   "name": "python3"
  },
  "language_info": {
   "codemirror_mode": {
    "name": "ipython",
    "version": 3
   },
   "file_extension": ".py",
   "mimetype": "text/x-python",
   "name": "python",
   "nbconvert_exporter": "python",
   "pygments_lexer": "ipython3",
   "version": "3.7.1"
  }
 },
 "nbformat": 4,
 "nbformat_minor": 2
}
