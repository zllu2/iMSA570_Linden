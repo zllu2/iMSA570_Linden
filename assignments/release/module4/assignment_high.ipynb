{
 "cells": [
  {
   "cell_type": "markdown",
   "metadata": {
    "deletable": false,
    "editable": false,
    "nbgrader": {
     "cell_type": "markdown",
     "checksum": "538b03b19692ab57d9bcb240112aa524",
     "grade": false,
     "grade_id": "header",
     "locked": true,
     "schema_version": 3,
     "solution": false
    }
   },
   "source": [
    "# Module 4 Assignment\n",
    "\n",
    "\n",
    "A few things you should keep in mind when working on assignments:\n",
    "\n",
    "1. Run the first code cell to import modules needed by this assignment before proceeding to problems.\n",
    "2. Make sure you fill in any place that says `# YOUR CODE HERE`. Do not write your answer anywhere else other than where it says `# YOUR CODE HERE`. Anything you write elsewhere will be removed or overwritten by the autograder.\n",
    "3. Each problem has an autograder cell below the answer cell. Run the autograder cell to check your answer. If there's anything wrong in your answer, the autograder cell will display error messages.\n",
    "4. Before you submit your assignment, make sure everything runs as expected. Go to the menubar, select Kernel, and Restart & Run all. If the notebook runs through the last code cell without an error message, you've answered all problems correctly.\n",
    "5. Make sure that you save your work (in the menubar, select File → Save and CheckPoint).\n",
    "\n",
    "-----"
   ]
  },
  {
   "cell_type": "markdown",
   "metadata": {
    "deletable": false,
    "editable": false,
    "nbgrader": {
     "cell_type": "markdown",
     "checksum": "c6d9a73bc5c134e129552fa26407b7b0",
     "grade": false,
     "grade_id": "cell-65a44435634a270d",
     "locked": true,
     "schema_version": 3,
     "solution": false
    }
   },
   "source": [
    "# Run Me First!"
   ]
  },
  {
   "cell_type": "code",
   "execution_count": null,
   "metadata": {
    "deletable": false,
    "editable": false,
    "nbgrader": {
     "cell_type": "code",
     "checksum": "ea9189ee97e410f70c2ebba64ca5d391",
     "grade": false,
     "grade_id": "imports",
     "locked": true,
     "schema_version": 3,
     "solution": false
    }
   },
   "outputs": [],
   "source": [
    "from nose.tools import assert_equal\n",
    "\n",
    "import numpy as np\n",
    "import pandas as pd\n",
    "from numpy.testing import assert_array_almost_equal"
   ]
  },
  {
   "cell_type": "markdown",
   "metadata": {
    "deletable": false,
    "editable": false,
    "nbgrader": {
     "cell_type": "markdown",
     "checksum": "4844a525a346f079b551aad593607f30",
     "grade": false,
     "grade_id": "p1_desc",
     "locked": true,
     "schema_version": 3,
     "solution": false
    }
   },
   "source": [
    "-----\n",
    "\n",
    "# Problem 1: Generating random data\n",
    "\n",
    "The code cell below declares a function called `gen_rand` that accepts two parameters: `n` and `random_state`, which are both integers.\n",
    "\n",
    "For this problem, you need to use a pseudo random number generator with a fixed seed to get reproducible results.\n",
    "\n",
    "Complete the following tasks:\n",
    "- Use NumPy to create a pseudo random number generator(RandomState).\n",
    "\n",
    "- Use the provided `random_state` parameter to seed this pseudo random number generator.\n",
    "\n",
    "- Use the function `rand` from this pseudo random number generator to create `n` random values in a NumPy array.\n",
    "\n",
    "-----"
   ]
  },
  {
   "cell_type": "code",
   "execution_count": null,
   "metadata": {
    "deletable": false,
    "nbgrader": {
     "cell_type": "code",
     "checksum": "9185d953f218dcac12565b08a64cdc79",
     "grade": false,
     "grade_id": "p1_ans",
     "locked": false,
     "schema_version": 3,
     "solution": true
    }
   },
   "outputs": [],
   "source": [
    "def gen_rand(n, random_state=23):\n",
    "    '''\n",
    "    \n",
    "    Generates n random samples in a NumPy array\n",
    "    \n",
    "    Parameters\n",
    "    ----------\n",
    "    n: integer value specifying the number of samples to generate\n",
    "    random_state: integer containing seed to use for pseudo random number generator.\n",
    "    \n",
    "    Returns\n",
    "    --------\n",
    "    NumPy array with n random samples from uniform distribution between 0 and 1.\n",
    "    '''\n",
    "    \n",
    "    # YOUR CODE HERE\n",
    "    "
   ]
  },
  {
   "cell_type": "code",
   "execution_count": null,
   "metadata": {
    "deletable": false,
    "editable": false,
    "nbgrader": {
     "cell_type": "code",
     "checksum": "a8b116a65642b68a2241710c3fc36f5c",
     "grade": true,
     "grade_id": "p1_test",
     "locked": true,
     "points": 1,
     "schema_version": 3,
     "solution": false
    }
   },
   "outputs": [],
   "source": [
    "ans = gen_rand(5)\n",
    "sol = [0.5172978838465893, 0.9469626038148141, 0.7654597593969069, 0.2823958439671127, 0.22104536326165258]\n",
    "assert_array_almost_equal(ans, sol)"
   ]
  },
  {
   "cell_type": "markdown",
   "metadata": {
    "deletable": false,
    "editable": false,
    "nbgrader": {
     "cell_type": "markdown",
     "checksum": "5e41cae279e21bb28d79c0d2f29b5e5d",
     "grade": false,
     "grade_id": "p2_desc",
     "locked": true,
     "schema_version": 3,
     "solution": false
    }
   },
   "source": [
    "-----\n",
    "\n",
    "# Problem 2: Basic vectorized operations\n",
    "\n",
    "The code cell below declares the function `basic_op` that accepts one parameter `a` that is a NumPy array.\n",
    "\n",
    "For this problem: \n",
    "- Complete the function declared below so that it computes and returns the result of this expression:  $a * \\pi - e$.\n",
    "    - Hint use NumPy's implementations of [pi](https://www.numpy.org/devdocs/reference/constants.html#numpy.pi) and [e](https://www.numpy.org/devdocs/reference/constants.html#numpy.e).\n",
    "    \n",
    "----"
   ]
  },
  {
   "cell_type": "code",
   "execution_count": null,
   "metadata": {
    "deletable": false,
    "nbgrader": {
     "cell_type": "code",
     "checksum": "3fe8390e336ceee10691a9f7d82612ee",
     "grade": false,
     "grade_id": "p2_ans",
     "locked": false,
     "schema_version": 3,
     "solution": true
    }
   },
   "outputs": [],
   "source": [
    "def basic_op(a):\n",
    "    '''\n",
    "    Perform a basic vectorized operation on the provided array    \n",
    "\n",
    "    Paramaters:\n",
    "    -----------\n",
    "    a : NumPy array\n",
    "    \n",
    "    Returns\n",
    "    -------\n",
    "    a NumPy array containing the result of\n",
    "    the following operation: a * π - e\n",
    "    '''\n",
    "    \n",
    "    # YOUR CODE HERE\n",
    "    "
   ]
  },
  {
   "cell_type": "code",
   "execution_count": null,
   "metadata": {
    "deletable": false,
    "editable": false,
    "nbgrader": {
     "cell_type": "code",
     "checksum": "5b13a329bf87f77d936c43b7c6a35849",
     "grade": true,
     "grade_id": "p2_test",
     "locked": true,
     "points": 1,
     "schema_version": 3,
     "solution": false
    }
   },
   "outputs": [],
   "source": [
    "ans2 = basic_op(gen_rand(5))\n",
    "sol2 = [-1.0931426 ,  0.25668893, -0.31351907, -1.83110912, -2.02384734]\n",
    "assert_array_almost_equal(ans2, sol2)"
   ]
  },
  {
   "cell_type": "markdown",
   "metadata": {
    "deletable": false,
    "editable": false,
    "nbgrader": {
     "cell_type": "markdown",
     "checksum": "8908e4b0173b9414813bd21e68ae519f",
     "grade": false,
     "grade_id": "p3_desc",
     "locked": true,
     "schema_version": 3,
     "solution": false
    }
   },
   "source": [
    "-----\n",
    "\n",
    "# Problem 3: Select Rows from a DataFrame\n",
    "\n",
    "The code cell below reads a DataFrame from a file. Please select the first 2 rows in the DataFrame and assign it to variable df_2r.\n",
    "\n",
    "-----"
   ]
  },
  {
   "cell_type": "code",
   "execution_count": null,
   "metadata": {
    "deletable": false,
    "editable": false,
    "nbgrader": {
     "cell_type": "code",
     "checksum": "3fade7b10b99e2081b323133704fc9d9",
     "grade": false,
     "grade_id": "p3_code",
     "locked": true,
     "schema_version": 3,
     "solution": false
    }
   },
   "outputs": [],
   "source": [
    "df = pd.read_csv('data/iris.csv')\n",
    "df.head()"
   ]
  },
  {
   "cell_type": "code",
   "execution_count": null,
   "metadata": {
    "deletable": false,
    "nbgrader": {
     "cell_type": "code",
     "checksum": "f360492d1245833735af68677a1ee092",
     "grade": false,
     "grade_id": "p3-ans",
     "locked": false,
     "schema_version": 3,
     "solution": true
    }
   },
   "outputs": [],
   "source": [
    "# YOUR CODE HERE\n"
   ]
  },
  {
   "cell_type": "code",
   "execution_count": null,
   "metadata": {
    "deletable": false,
    "editable": false,
    "nbgrader": {
     "cell_type": "code",
     "checksum": "2a8761be16310d368674299c453f9899",
     "grade": true,
     "grade_id": "p3_test",
     "locked": true,
     "points": 1,
     "schema_version": 3,
     "solution": false
    }
   },
   "outputs": [],
   "source": [
    "assert_equal(df_2r.shape, (2, 5), msg=\"Your answer does not match the solution\")\n",
    "assert_equal(df_2r.iloc[0,0], 5.1, msg=\"Your answer does not match the solution\")\n",
    "assert_equal(df_2r.iloc[1,0], 4.9, msg=\"Your answer does not match the solution\")\n"
   ]
  },
  {
   "cell_type": "markdown",
   "metadata": {
    "deletable": false,
    "editable": false,
    "nbgrader": {
     "cell_type": "markdown",
     "checksum": "37c9e4107b7604b63c9f632e91713d95",
     "grade": false,
     "grade_id": "p4-desc",
     "locked": true,
     "schema_version": 3,
     "solution": false
    }
   },
   "source": [
    "-----\n",
    "\n",
    "# Problem 4: Select columns from a DataFrame\n",
    "\n",
    "The code cell below reads a DataFrame from a file. Please select 2 columns that contain **sepal length** and **petal length** data from the DataFrame and assign them to variable **df_2c**.\n",
    "\n",
    "-----"
   ]
  },
  {
   "cell_type": "code",
   "execution_count": null,
   "metadata": {
    "deletable": false,
    "editable": false,
    "nbgrader": {
     "cell_type": "code",
     "checksum": "8413154f0f45e190e69fe6f47a4d4459",
     "grade": false,
     "grade_id": "cell-5e847bb83d7446a0",
     "locked": true,
     "schema_version": 3,
     "solution": false
    }
   },
   "outputs": [],
   "source": [
    "df = pd.read_csv('data/iris.csv')\n",
    "df.head()"
   ]
  },
  {
   "cell_type": "code",
   "execution_count": null,
   "metadata": {
    "deletable": false,
    "nbgrader": {
     "cell_type": "code",
     "checksum": "847019e45ef7da9d83db58f55d5b8f98",
     "grade": false,
     "grade_id": "p4-ans",
     "locked": false,
     "schema_version": 3,
     "solution": true
    }
   },
   "outputs": [],
   "source": [
    "# YOUR CODE HERE\n"
   ]
  },
  {
   "cell_type": "code",
   "execution_count": null,
   "metadata": {
    "deletable": false,
    "editable": false,
    "nbgrader": {
     "cell_type": "code",
     "checksum": "f0dde38559276ec5271b8fe52c6975da",
     "grade": true,
     "grade_id": "p4-test",
     "locked": true,
     "points": 1,
     "schema_version": 3,
     "solution": false
    }
   },
   "outputs": [],
   "source": [
    "assert_equal(df_2c.shape, (150, 2), msg=\"Your answer does not match the solution\")\n",
    "assert_equal(df_2c.iloc[0,0], 5.1, msg=\"Your answer does not match the solution\")\n",
    "assert_equal(df_2c.iloc[0,1], 1.4, msg=\"Your answer does not match the solution\")\n"
   ]
  },
  {
   "cell_type": "markdown",
   "metadata": {
    "deletable": false,
    "editable": false,
    "nbgrader": {
     "cell_type": "markdown",
     "checksum": "fbda229307eb0db134005d5c6dbac3ad",
     "grade": false,
     "grade_id": "p5-desc",
     "locked": true,
     "schema_version": 3,
     "solution": false
    }
   },
   "source": [
    "-----\n",
    "\n",
    "# Problem 5: Deal with missing value in a DataFrame\n",
    "\n",
    "The code cell below creates a DataFrame df_m with missing values. You need to:\n",
    "- Drop rows with missing value and assign the result to **df_drop**.\n",
    "- Fill missing values with column mean and assign the result to **df_fill**.\n",
    "\n",
    "-----"
   ]
  },
  {
   "cell_type": "code",
   "execution_count": null,
   "metadata": {
    "deletable": false,
    "editable": false,
    "nbgrader": {
     "cell_type": "code",
     "checksum": "d066ffa9affeea5f547f87b984b76c50",
     "grade": false,
     "grade_id": "cell-f2d236f6b03c7296",
     "locked": true,
     "schema_version": 3,
     "solution": false
    }
   },
   "outputs": [],
   "source": [
    "df_m = pd.DataFrame({'Height(in inch)':[68, 72, 70, None], 'Weight(in pound)':[150, 200, None, 220]})\n",
    "df_m"
   ]
  },
  {
   "cell_type": "code",
   "execution_count": null,
   "metadata": {
    "deletable": false,
    "nbgrader": {
     "cell_type": "code",
     "checksum": "affe32d495d563bf981c05d49591d077",
     "grade": false,
     "grade_id": "p5-ans",
     "locked": false,
     "schema_version": 3,
     "solution": true
    }
   },
   "outputs": [],
   "source": [
    "# YOUR CODE HERE\n"
   ]
  },
  {
   "cell_type": "code",
   "execution_count": null,
   "metadata": {
    "deletable": false,
    "editable": false,
    "nbgrader": {
     "cell_type": "code",
     "checksum": "cf05e67f05696c6534c9d742dbd3bcfa",
     "grade": true,
     "grade_id": "p5-test",
     "locked": true,
     "points": 1,
     "schema_version": 3,
     "solution": false
    }
   },
   "outputs": [],
   "source": [
    "assert_equal(df_drop.shape, (2, 2), msg=\"Your answer does not match the solution\")\n",
    "assert_equal(df_fill.shape, (4, 2), msg=\"Your answer does not match the solution\")\n",
    "assert_equal(df_fill.iloc[2,1], 190, msg=\"Your answer does not match the solution\")\n",
    "assert_equal(df_fill.iloc[3,0], 70, msg=\"Your answer does not match the solution\")\n"
   ]
  }
 ],
 "metadata": {
  "kernelspec": {
   "display_name": "Python 3",
   "language": "python",
   "name": "python3"
  },
  "language_info": {
   "codemirror_mode": {
    "name": "ipython",
    "version": 3
   },
   "file_extension": ".py",
   "mimetype": "text/x-python",
   "name": "python",
   "nbconvert_exporter": "python",
   "pygments_lexer": "ipython3",
   "version": "3.7.3"
  }
 },
 "nbformat": 4,
 "nbformat_minor": 4
}
