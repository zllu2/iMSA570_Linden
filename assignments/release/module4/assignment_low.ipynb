{
 "cells": [
  {
   "cell_type": "markdown",
   "metadata": {
    "deletable": false,
    "editable": false,
    "nbgrader": {
     "checksum": "664da221156eb9444e75f34aa11de615",
     "grade": false,
     "grade_id": "header",
     "locked": true,
     "schema_version": 1,
     "solution": false
    }
   },
   "source": [
    "# Module 4 Assignment\n",
    "\n",
    "A few things you should keep in mind when working on assignments:\n",
    "\n",
    "1. Make sure you fill in any place that says `YOUR CODE HERE`. Do **not** write your answer anywhere else other than where it says `YOUR CODE HERE`. Anything you write elsewhere will be removed or overwritten by the autograder.\n",
    "\n",
    "2. Before you submit your assignment, make sure everything runs as expected. Go to the menubar, select _Kernel_, and restart the kernel and run all cells (_Restart & Run all_).\n",
    "\n",
    "3. Do not change the title (i.e. file name) of this notebook.\n",
    "\n",
    "4. Make sure that you save your work (in the menubar, select _File_ → _Save and CheckPoint_).\n"
   ]
  },
  {
   "cell_type": "code",
   "execution_count": null,
   "metadata": {
    "deletable": false,
    "editable": false,
    "nbgrader": {
     "checksum": "e901034fbb1072bb8963e6a5d3293d8c",
     "grade": false,
     "grade_id": "import",
     "locked": true,
     "schema_version": 1,
     "solution": false
    }
   },
   "outputs": [],
   "source": [
    "from nose.tools import assert_equal, assert_almost_equal, assert_true\n",
    "import sys\n",
    "import os\n",
    "import pandas as pd"
   ]
  },
  {
   "cell_type": "markdown",
   "metadata": {
    "deletable": false,
    "editable": false,
    "nbgrader": {
     "checksum": "4ff9469c27f42b905c155d00ad0eb1d1",
     "grade": false,
     "grade_id": "p1_desc",
     "locked": true,
     "schema_version": 1,
     "solution": false
    }
   },
   "source": [
    "-----\n",
    "\n",
    "# Problem 1: Importing the NumPy module\n",
    "\n",
    "In the code cell below import the NumPy module using the alias `np`. If done incorrectly you may fail other assert statements.\n",
    "\n",
    "-----"
   ]
  },
  {
   "cell_type": "code",
   "execution_count": null,
   "metadata": {
    "deletable": false,
    "nbgrader": {
     "checksum": "7f68cef87a5300908b86644b2eef1141",
     "grade": false,
     "grade_id": "p1_ans",
     "locked": false,
     "schema_version": 1,
     "solution": true
    }
   },
   "outputs": [],
   "source": [
    "# YOUR CODE HERE\n",
    "raise NotImplementedError()"
   ]
  },
  {
   "cell_type": "code",
   "execution_count": null,
   "metadata": {
    "deletable": false,
    "editable": false,
    "nbgrader": {
     "checksum": "14393b253cee764c9d6da055fecfe00a",
     "grade": true,
     "grade_id": "p1_test",
     "locked": true,
     "points": 1,
     "schema_version": 1,
     "solution": false
    }
   },
   "outputs": [],
   "source": [
    "assert_true('np' in  dir(), msg='import the numpy module using the alias np.')"
   ]
  },
  {
   "cell_type": "markdown",
   "metadata": {
    "deletable": false,
    "editable": false,
    "nbgrader": {
     "checksum": "8b932f68161383ccdb48dd5ce5081592",
     "grade": false,
     "grade_id": "p2_desc",
     "locked": true,
     "schema_version": 1,
     "solution": false
    }
   },
   "source": [
    "-----\n",
    "\n",
    "# Problem 2: Creating a NumPy array\n",
    "\n",
    "In the code cell below the function `gen_data` accepts one parameter `n` which is an integer.\n",
    "\n",
    "For this problem:\n",
    "\n",
    "- Create a NumPy array containing integers from 0 to n incremented by 1.\n",
    "\n",
    "- The final entry in the array should be n - 1.\n",
    "  \n",
    "- Return this newly created array.\n",
    "\n",
    "-----"
   ]
  },
  {
   "cell_type": "code",
   "execution_count": null,
   "metadata": {
    "deletable": false,
    "nbgrader": {
     "checksum": "e3a6cbfe519dcd8811c59ae87c791170",
     "grade": false,
     "grade_id": "p2_ans",
     "locked": false,
     "schema_version": 1,
     "solution": true
    }
   },
   "outputs": [],
   "source": [
    "def gen_data(n):\n",
    "    '''\n",
    "    Generates a NumPy array of integers \n",
    "    from 0 to n - 1\n",
    "    \n",
    "    Parameters\n",
    "    ----------\n",
    "    n: integer value indicating the end of \n",
    "    the interval\n",
    "    \n",
    "    Returns\n",
    "    -------\n",
    "    returns the NumPy array\n",
    "    \n",
    "    '''\n",
    "    # YOUR CODE HERE\n",
    "    raise NotImplementedError()"
   ]
  },
  {
   "cell_type": "code",
   "execution_count": null,
   "metadata": {
    "deletable": false,
    "editable": false,
    "nbgrader": {
     "checksum": "c211a605fca796877b17d26d7f0b85b8",
     "grade": true,
     "grade_id": "p2_test",
     "locked": true,
     "points": 1,
     "schema_version": 1,
     "solution": false
    }
   },
   "outputs": [],
   "source": [
    "ans_10obs = gen_data(10)\n",
    "assert_equal(type(ans_10obs), type(np.array(0)))\n",
    "assert_equal(ans_10obs.tolist(), \n",
    "             [x for x in range(10)])\n",
    "\n",
    "ans_120obs = gen_data(120)\n",
    "assert_equal(type(ans_120obs), type(np.array(0)))\n",
    "assert_equal(ans_120obs.tolist(), \n",
    "             [x for x in range(120)])"
   ]
  },
  {
   "cell_type": "markdown",
   "metadata": {
    "deletable": false,
    "editable": false,
    "nbgrader": {
     "checksum": "5555a109822395119977fa8a19423ce8",
     "grade": false,
     "grade_id": "p3_desc",
     "locked": true,
     "schema_version": 1,
     "solution": false
    }
   },
   "source": [
    "-----\n",
    "\n",
    "# Problem 3: NumPy Summary Functions\n",
    "\n",
    "In the code cell below the function `median` accepts one parameter `a` which is a NumPy array.\n",
    "\n",
    "For this problem:\n",
    "- Use the NumPy `median` function to compute the median value.\n",
    "- Return this value.\n",
    "\n",
    "-----"
   ]
  },
  {
   "cell_type": "code",
   "execution_count": null,
   "metadata": {
    "deletable": false,
    "nbgrader": {
     "checksum": "23140aa96070c44a383ba866a1f15dfd",
     "grade": false,
     "grade_id": "p3_ans",
     "locked": false,
     "schema_version": 1,
     "solution": true
    }
   },
   "outputs": [],
   "source": [
    "def median(a):\n",
    "    '''\n",
    "    Returns the median value in a NumPy array\n",
    "    \n",
    "    Parameters\n",
    "    ----------\n",
    "    a: NumPy array\n",
    "    \n",
    "    Returns\n",
    "    -------\n",
    "    the median value of the array\n",
    "    '''\n",
    "    \n",
    "    # YOUR CODE HERE\n",
    "    raise NotImplementedError()"
   ]
  },
  {
   "cell_type": "code",
   "execution_count": null,
   "metadata": {
    "deletable": false,
    "editable": false,
    "nbgrader": {
     "checksum": "93d83953697c1569c0aa89d794adebd7",
     "grade": true,
     "grade_id": "p3_test",
     "locked": true,
     "points": 1,
     "schema_version": 1,
     "solution": false
    }
   },
   "outputs": [],
   "source": [
    "ans3_1 = median(ans_10obs)\n",
    "assert_equal(ans3_1, 4.5, msg=\"Your answer does not match the solutions\")\n",
    "\n",
    "ans3_2 = median(ans_120obs)\n",
    "assert_equal(ans3_2, 59.5, msg=\"Your answer does not match the solutions\")"
   ]
  },
  {
   "cell_type": "markdown",
   "metadata": {
    "deletable": false,
    "editable": false,
    "nbgrader": {
     "checksum": "35deceda222ffacfa5afe53a95bd3211",
     "grade": false,
     "grade_id": "p4-desc",
     "locked": true,
     "schema_version": 1,
     "solution": false
    }
   },
   "source": [
    "-----\n",
    "\n",
    "# Problem 4: Select one columns from a DataFrame\n",
    "\n",
    "The code cell below reads a DataFrame from a file. Please select one column that contains **sepal length** data as a pandas **Series** from the DataFrame and assign it to variable **sp_length**.\n",
    "\n",
    "-----"
   ]
  },
  {
   "cell_type": "code",
   "execution_count": null,
   "metadata": {
    "deletable": false,
    "editable": false,
    "nbgrader": {
     "checksum": "f4f702deff70571653a124e4c66eb437",
     "grade": false,
     "grade_id": "cell-4567a17db5540c90",
     "locked": true,
     "schema_version": 1,
     "solution": false
    }
   },
   "outputs": [],
   "source": [
    "df = pd.read_csv('data/iris.csv')\n",
    "df.head()"
   ]
  },
  {
   "cell_type": "code",
   "execution_count": null,
   "metadata": {
    "deletable": false,
    "nbgrader": {
     "checksum": "b1f6ac99ed280a84059d2867a87d47b3",
     "grade": false,
     "grade_id": "p4-ans",
     "locked": false,
     "schema_version": 1,
     "solution": true
    }
   },
   "outputs": [],
   "source": [
    "# YOUR CODE HERE\n",
    "raise NotImplementedError()"
   ]
  },
  {
   "cell_type": "code",
   "execution_count": null,
   "metadata": {
    "deletable": false,
    "editable": false,
    "nbgrader": {
     "checksum": "2194074a77c7a755420937b73852ab64",
     "grade": true,
     "grade_id": "p4-test",
     "locked": true,
     "points": 1,
     "schema_version": 1,
     "solution": false
    }
   },
   "outputs": [],
   "source": [
    "assert_equal(type(sp_length), pd.core.series.Series, msg=\"Your answer does not match the solutions\")\n",
    "assert_equal(sp_length.shape[0], 150, msg=\"Your answer does not match the solutions\")\n",
    "assert_equal(sp_length[0], 5.1, msg=\"Your answer does not match the solutions\")\n",
    "assert_equal(sp_length[1], 4.9, msg=\"Your answer does not match the solutions\")\n"
   ]
  },
  {
   "cell_type": "markdown",
   "metadata": {
    "deletable": false,
    "editable": false
   },
   "source": [
    "-----\n",
    "\n",
    "**&copy; 2019: Gies College of Business at the University of Illinois.**\n",
    "\n",
    "This notebook is released under the [Creative Commons license CC BY-NC-SA 4.0][ll]. Any reproduction, adaptation, distribution, dissemination or making available of this notebook for commercial use is not allowed unless authorized in writing by the copyright holder.\n",
    "\n",
    "[ll]: https://creativecommons.org/licenses/by-nc-sa/4.0/legalcode"
   ]
  }
 ],
 "metadata": {
  "coursera": {
   "course_slug": "data-analytics-accountancy-1",
   "graded_item_id": "NdhiA",
   "launcher_item_id": "8GwM7"
  },
  "kernelspec": {
   "display_name": "Python 3",
   "language": "python",
   "name": "python3"
  },
  "language_info": {
   "codemirror_mode": {
    "name": "ipython",
    "version": 3
   },
   "file_extension": ".py",
   "mimetype": "text/x-python",
   "name": "python",
   "nbconvert_exporter": "python",
   "pygments_lexer": "ipython3",
   "version": "3.7.1"
  }
 },
 "nbformat": 4,
 "nbformat_minor": 2
}
