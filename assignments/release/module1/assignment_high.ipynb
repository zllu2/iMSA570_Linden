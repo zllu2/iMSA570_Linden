{
 "cells": [
  {
   "cell_type": "markdown",
   "metadata": {
    "deletable": false,
    "editable": false,
    "nbgrader": {
     "cell_type": "markdown",
     "checksum": "42f58870179adfa4bbf8936e988c2110",
     "grade": false,
     "grade_id": "cell-fb984e839f54abb5",
     "locked": true,
     "schema_version": 3,
     "solution": false
    }
   },
   "source": [
    "# Module 1 Assignment\n",
    "\n",
    "\n",
    "A few things you should keep in mind when working on assignments:\n",
    "\n",
    "1. Run the first code cell to import modules needed by this assignment before proceeding to problems.\n",
    "2. Make sure you fill in any place that says `# YOUR CODE HERE`. Do not write your answer anywhere else other than where it says `# YOUR CODE HERE`. Anything you write elsewhere will be removed or overwritten by the autograder.\n",
    "3. Each problem has an autograder cell below the answer cell. Run the autograder cell to check your answer. If there's anything wrong in your answer, the autograder cell will display error messages.\n",
    "4. Before you submit your assignment, make sure everything runs as expected. Go to the menubar, select Kernel, and Restart & Run all. If the notebook runs through the last code cell without an error message, you've answered all problems correctly.\n",
    "5. Make sure that you save your work (in the menubar, select File → Save and CheckPoint).\n",
    "\n",
    "-----"
   ]
  },
  {
   "cell_type": "markdown",
   "metadata": {
    "deletable": false,
    "editable": false,
    "nbgrader": {
     "cell_type": "markdown",
     "checksum": "38ae6f9649e373638730ca34a1e955db",
     "grade": false,
     "grade_id": "cell-cf538a4178b6620e",
     "locked": true,
     "schema_version": 3,
     "solution": false
    }
   },
   "source": [
    "# Run Me First!"
   ]
  },
  {
   "cell_type": "code",
   "execution_count": null,
   "metadata": {
    "deletable": false,
    "editable": false,
    "nbgrader": {
     "cell_type": "code",
     "checksum": "ada8888dc395769bcca6a2c309847746",
     "grade": false,
     "grade_id": "cell-bf455c057d46a672",
     "locked": true,
     "schema_version": 3,
     "solution": false
    }
   },
   "outputs": [],
   "source": [
    "from nose.tools import assert_equal, assert_almost_equals, assert_not_equal\n",
    "import sys\n",
    "import math\n",
    "import warnings\n",
    "warnings.filterwarnings(\"ignore\", category=DeprecationWarning) "
   ]
  },
  {
   "cell_type": "markdown",
   "metadata": {
    "deletable": false,
    "editable": false,
    "nbgrader": {
     "cell_type": "markdown",
     "checksum": "c80fd4891baecb0e29e4e72174cbdf3c",
     "grade": false,
     "grade_id": "cell-2b55eb23d31e6870",
     "locked": true,
     "schema_version": 3,
     "solution": false
    }
   },
   "source": [
    "# Problem 1: Creating a Python string\n",
    "\n",
    "- Type `x = 'This is my first string'` in the below cell and run it."
   ]
  },
  {
   "cell_type": "code",
   "execution_count": null,
   "metadata": {
    "deletable": false,
    "nbgrader": {
     "cell_type": "code",
     "checksum": "e8a2e206ac1b6a6e4246568880a89d2b",
     "grade": false,
     "grade_id": "p1-answer",
     "locked": false,
     "schema_version": 3,
     "solution": true
    }
   },
   "outputs": [],
   "source": [
    "# YOUR CODE HERE\n"
   ]
  },
  {
   "cell_type": "code",
   "execution_count": null,
   "metadata": {
    "deletable": false,
    "editable": false,
    "nbgrader": {
     "cell_type": "code",
     "checksum": "5ba9b99622726bdb2e51cb1e6302f2ac",
     "grade": true,
     "grade_id": "p1-test",
     "locked": true,
     "points": 1,
     "schema_version": 3,
     "solution": false
    }
   },
   "outputs": [],
   "source": [
    "try:\n",
    "    if ((x=='This is my first string') & (type(x)==str)):\n",
    "        print('Great! You created a string!')\n",
    "    else:\n",
    "        print('x is not the right value check your code and run again')\n",
    "except NameError:\n",
    "    print('x is not defined! You need to run the code cell!')\n",
    "    \n",
    "assert_equal(type(x),str, msg='x is not a string!')"
   ]
  },
  {
   "cell_type": "markdown",
   "metadata": {
    "deletable": false,
    "editable": false,
    "nbgrader": {
     "cell_type": "markdown",
     "checksum": "61ea485a7ee53e93c311b8af8b282a64",
     "grade": false,
     "grade_id": "cell-2320466f8ac62e59",
     "locked": true,
     "schema_version": 3,
     "solution": false
    }
   },
   "source": [
    "# Problem 2: Import numpy\n",
    "\n",
    "- Type `import numpy` in the below cell to import the numpy module.\n"
   ]
  },
  {
   "cell_type": "code",
   "execution_count": null,
   "metadata": {
    "deletable": false,
    "nbgrader": {
     "cell_type": "code",
     "checksum": "ad3e68d81714248d80f7866ce53b9def",
     "grade": false,
     "grade_id": "p2-answer",
     "locked": false,
     "schema_version": 3,
     "solution": true
    }
   },
   "outputs": [],
   "source": [
    "# YOUR CODE HERE\n"
   ]
  },
  {
   "cell_type": "code",
   "execution_count": null,
   "metadata": {
    "deletable": false,
    "editable": false,
    "nbgrader": {
     "cell_type": "code",
     "checksum": "ddd4612dad3123b130a6c1be4fe753c4",
     "grade": true,
     "grade_id": "p2-test",
     "locked": true,
     "points": 1,
     "schema_version": 3,
     "solution": false
    }
   },
   "outputs": [],
   "source": [
    "if 'numpy' in dir():\n",
    "    print('numpy module has been successfully imported')\n",
    "else:\n",
    "    print('numpy module has not been imported')\n",
    "    \n",
    "assert_equal(numpy.array([1])[0],1,msg='Make sure you ran the code cell to import numpy!')"
   ]
  },
  {
   "cell_type": "markdown",
   "metadata": {
    "deletable": false,
    "editable": false,
    "nbgrader": {
     "cell_type": "markdown",
     "checksum": "b3c7a68f501b51d00b09e06ee65a8cdf",
     "grade": false,
     "grade_id": "cell-2a71d53b43b10ca2",
     "locked": true,
     "schema_version": 3,
     "solution": false
    }
   },
   "source": [
    "# Problem 3: Add emphasis to Markdown text\n",
    "\n",
    "- The below cell is in code format, but we can use the IPython.display module to write Markdown formatted code as Python strings, and then display it as markdown.\n",
    "\n",
    "\n",
    "- In the below cell, in between the two ` '''` statements, write markdown code that does the following\n",
    "\n",
    "    - Writes the word \"bold\" in **bold**\n",
    "    \n",
    "    - Writes the word \"italics\" in *italics*\n",
    "\n",
    "- NOTE: When writing your markdown code, dont put any spaces between the Markdown characters that initialize the bold/italicize environments, and your text within those environments.\n",
    "\n",
    "After you run your answer code cell and the cell bolow, the output of the cell below the answer cell should look like this:\n",
    "\n",
    "# YOUR CODE HERE\n",
    "\n",
    "**bold**  \n",
    "*italics*  "
   ]
  },
  {
   "cell_type": "code",
   "execution_count": null,
   "metadata": {
    "deletable": false,
    "nbgrader": {
     "cell_type": "code",
     "checksum": "b488123f98ec81566d22ba7aa4e97830",
     "grade": false,
     "grade_id": "p3-answer",
     "locked": false,
     "schema_version": 3,
     "solution": true
    }
   },
   "outputs": [],
   "source": [
    "md='''\n",
    "\n",
    "# YOUR CODE HERE\n",
    "\n",
    "'''"
   ]
  },
  {
   "cell_type": "code",
   "execution_count": null,
   "metadata": {
    "deletable": false,
    "editable": false,
    "nbgrader": {
     "cell_type": "code",
     "checksum": "f32ff01652f269967b3d0a0ac52fc591",
     "grade": false,
     "grade_id": "cell-f7a9971c830f23f8",
     "locked": true,
     "schema_version": 3,
     "solution": false
    }
   },
   "outputs": [],
   "source": [
    "#Let's view the markdown\n",
    "from IPython.display import Markdown\n",
    "display(Markdown(md))"
   ]
  },
  {
   "cell_type": "code",
   "execution_count": null,
   "metadata": {
    "deletable": false,
    "editable": false,
    "nbgrader": {
     "cell_type": "code",
     "checksum": "ffb6f5be1578dcab7c8ab4d0419fbdae",
     "grade": true,
     "grade_id": "p3-test",
     "locked": true,
     "points": 1,
     "schema_version": 3,
     "solution": false
    }
   },
   "outputs": [],
   "source": [
    "text = md.find('**bold')\n",
    "if text == -1:\n",
    "    text = md.find('__bold')\n",
    "assert_not_equal(text,-1,msg='You did not bold the word bold.')\n",
    "text = md.find('*ital')\n",
    "if text == -1:\n",
    "    text = md.find('_ital')\n",
    "assert_not_equal(text,-1,msg='You did not italicize the word italics')"
   ]
  },
  {
   "cell_type": "markdown",
   "metadata": {
    "deletable": false,
    "editable": false,
    "nbgrader": {
     "cell_type": "markdown",
     "checksum": "f8f828e5a094f90258a8d6a5469ad3e2",
     "grade": false,
     "grade_id": "cell-9ca45d4e11879eff",
     "locked": true,
     "schema_version": 3,
     "solution": false
    }
   },
   "source": [
    "# Problem 4: Create a Markdown list\n",
    "\n",
    "- The below cell is in code format, but we can use the IPython.display module to write Markdown formatted code as Python strings, and then display it as markdown.\n",
    "\n",
    "\n",
    "- In the below cell, in between the two ` '''` statements, write markdown code that creates a markdown list with 3 items. The items should be numbered 1 through 3, respectively, and there should be a `.` character after each number. Name each item \"Item 1\", \"Item 2\", and \"Item 3\", respectively. Note that the \"I\" in Item sould be capitalized.\n",
    "\n",
    "After you run your answer code cell and the cell bolow, the output of the cell below the answer cell should look like this:\n",
    "# YOUR CODE HERE  \n",
    "\n",
    "1. Item 1\n",
    "2. Item 2\n",
    "3. Item 3\n"
   ]
  },
  {
   "cell_type": "code",
   "execution_count": null,
   "metadata": {
    "deletable": false,
    "nbgrader": {
     "cell_type": "code",
     "checksum": "b2863a3f2aaf051e28451c87902ffed8",
     "grade": false,
     "grade_id": "p4-answer",
     "locked": false,
     "schema_version": 3,
     "solution": true
    }
   },
   "outputs": [],
   "source": [
    "md='''\n",
    "\n",
    "# YOUR CODE HERE\n",
    "\n",
    "\n",
    "'''"
   ]
  },
  {
   "cell_type": "code",
   "execution_count": null,
   "metadata": {
    "deletable": false,
    "editable": false,
    "nbgrader": {
     "cell_type": "code",
     "checksum": "7722546b7185b368a63657ed10cb73ae",
     "grade": false,
     "grade_id": "cell-74ba7aa6cdb7e55c",
     "locked": true,
     "schema_version": 3,
     "solution": false
    }
   },
   "outputs": [],
   "source": [
    "#Let's view the markdown\n",
    "from IPython.display import Markdown\n",
    "display(Markdown(md))"
   ]
  },
  {
   "cell_type": "code",
   "execution_count": null,
   "metadata": {
    "deletable": false,
    "editable": false,
    "nbgrader": {
     "cell_type": "code",
     "checksum": "abd530137158116893e41e540d87a890",
     "grade": true,
     "grade_id": "p4-test",
     "locked": true,
     "points": 1,
     "schema_version": 3,
     "solution": false
    }
   },
   "outputs": [],
   "source": [
    "text = md.find('1.')\n",
    "assert_not_equal(text,-1,msg='Number 1. is mising from your markdown list')\n",
    "text = md.find('Item')\n",
    "assert_not_equal(text,-1,msg='Make sure you named each item in the list properly.')"
   ]
  },
  {
   "cell_type": "markdown",
   "metadata": {
    "deletable": false,
    "editable": false,
    "nbgrader": {
     "cell_type": "markdown",
     "checksum": "20c0fe7c252bf7d47b83a59f51ee7cce",
     "grade": false,
     "grade_id": "cell-08693a0feea91e94",
     "locked": true,
     "schema_version": 3,
     "solution": false
    }
   },
   "source": [
    "# Problem 5: Show code in Markdown\n",
    "\n",
    "- The below cell is in code format, but we can use the IPython.display module to write Markdown formatted code as Python strings, and then display it as markdown.\n",
    "\n",
    "\n",
    "- In the below cell, in between the two ` '''` statements, write markdown code that renders Python code. The Python code to be rendered is the statement `x = 'this is a python string'`. \n",
    "\n",
    "- NOTE: When writing your markdown code, dont put any spaces between the Markdown characters that initialize the \"code\" environment.\n",
    "\n",
    "After you run your answer code cell and the cell bolow, the output of the cell below the answer cell should look like this:\n",
    "\n",
    "# YOUR CODE HERE  \n",
    "\n",
    "`x = 'this is a python string'`"
   ]
  },
  {
   "cell_type": "code",
   "execution_count": null,
   "metadata": {
    "deletable": false,
    "nbgrader": {
     "cell_type": "code",
     "checksum": "6f242aa9ba7461636096371fb34b3533",
     "grade": false,
     "grade_id": "p5-answer",
     "locked": false,
     "schema_version": 3,
     "solution": true
    }
   },
   "outputs": [],
   "source": [
    "md='''\n",
    "\n",
    "# YOUR CODE HERE\n",
    "\n",
    "\n",
    "'''"
   ]
  },
  {
   "cell_type": "code",
   "execution_count": null,
   "metadata": {
    "deletable": false,
    "editable": false,
    "nbgrader": {
     "cell_type": "code",
     "checksum": "71fedb886486a3d5e2504b5d9c69bf22",
     "grade": false,
     "grade_id": "cell-ab982305b4a89353",
     "locked": true,
     "schema_version": 3,
     "solution": false
    }
   },
   "outputs": [],
   "source": [
    "#Let's view the markdown\n",
    "from IPython.display import Markdown\n",
    "display(Markdown(md))"
   ]
  },
  {
   "cell_type": "code",
   "execution_count": null,
   "metadata": {
    "deletable": false,
    "editable": false,
    "nbgrader": {
     "cell_type": "code",
     "checksum": "98609904cb3383488e5e570e218f2e67",
     "grade": true,
     "grade_id": "p5-test",
     "locked": true,
     "points": 1,
     "schema_version": 3,
     "solution": false
    }
   },
   "outputs": [],
   "source": [
    "text = md.find('`x')\n",
    "assert_not_equal(text,-1,msg='Make sure you are using the right characters to render the code.')\n",
    "text = md.find('python')\n",
    "assert_not_equal(text,-1,msg='Make sure you type the string correctly.')"
   ]
  }
 ],
 "metadata": {
  "kernelspec": {
   "display_name": "Python 3",
   "language": "python",
   "name": "python3"
  },
  "language_info": {
   "codemirror_mode": {
    "name": "ipython",
    "version": 3
   },
   "file_extension": ".py",
   "mimetype": "text/x-python",
   "name": "python",
   "nbconvert_exporter": "python",
   "pygments_lexer": "ipython3",
   "version": "3.7.3"
  }
 },
 "nbformat": 4,
 "nbformat_minor": 2
}
