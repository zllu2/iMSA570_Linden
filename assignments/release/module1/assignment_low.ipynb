{
 "cells": [
  {
   "cell_type": "markdown",
   "metadata": {
    "deletable": false,
    "editable": false,
    "nbgrader": {
     "checksum": "dfd076fc80347b2618333c735b9a74d8",
     "grade": false,
     "grade_id": "cell-5473c5db0748f0e2",
     "locked": true,
     "schema_version": 1,
     "solution": false
    }
   },
   "source": [
    "\n",
    "# Module 1 Assignment\n",
    "\n",
    "A few things you should keep in mind when working on assignments:\n",
    "\n",
    "1. Make sure you fill in any place that says # YOUR CODE HERE. Do not write your answer anywhere else other than where it says # YOUR CODE HERE. Anything you write elsewhere will be removed or overwritten by the autograder.\n",
    "\n",
    "2. Before you submit your assignment, make sure everything runs as expected. Go to the menubar, select Kernel, and restart the kernel and run all cells (Restart & Run all).\n",
    "\n",
    "3. Do not change the title (i.e. file name) of this notebook.\n",
    "\n",
    "4. Make sure that you save your work (in the menubar, select File → Save and CheckPoint).\n",
    "\n",
    "5. All work must be your own. If you do use any code from another source (such as a course notebook or a website) you need to properly cite the source.\n"
   ]
  },
  {
   "cell_type": "code",
   "execution_count": null,
   "metadata": {
    "deletable": false,
    "editable": false,
    "nbgrader": {
     "checksum": "56e773da08da923e04f43bb349808d5d",
     "grade": false,
     "grade_id": "cell-ee9840206d8246e8",
     "locked": true,
     "schema_version": 1,
     "solution": false
    }
   },
   "outputs": [],
   "source": [
    "from nose.tools import assert_equal, assert_almost_equals, assert_not_equal\n",
    "import sys\n",
    "import numpy as np\n",
    "import warnings\n",
    "warnings.filterwarnings(\"ignore\", category=DeprecationWarning) "
   ]
  },
  {
   "cell_type": "markdown",
   "metadata": {
    "deletable": false,
    "editable": false,
    "nbgrader": {
     "checksum": "7e5525d3ed919a099e7b4096830ae0d7",
     "grade": false,
     "grade_id": "p1-desc",
     "locked": true,
     "schema_version": 1,
     "solution": false
    }
   },
   "source": [
    "# Problem 1: Running your first Python code\n",
    "\n",
    "- Type \"x = 3.14\" without quotation marks in the below cell and run it."
   ]
  },
  {
   "cell_type": "code",
   "execution_count": null,
   "metadata": {
    "deletable": false,
    "nbgrader": {
     "checksum": "1d76c584d4fa111955e0c992cb82ce6d",
     "grade": false,
     "grade_id": "p1-answer",
     "locked": false,
     "schema_version": 1,
     "solution": true
    }
   },
   "outputs": [],
   "source": [
    "\n",
    "# YOUR CODE HERE\n",
    "raise NotImplementedError()"
   ]
  },
  {
   "cell_type": "code",
   "execution_count": null,
   "metadata": {
    "deletable": false,
    "editable": false,
    "nbgrader": {
     "checksum": "60b316a29d6cdf282cccbf52293fcecb",
     "grade": true,
     "grade_id": "p1-test",
     "locked": true,
     "points": 1,
     "schema_version": 1,
     "solution": false
    }
   },
   "outputs": [],
   "source": [
    "try:\n",
    "    if ((x==3.14) & (type(x)==float)):\n",
    "        print('Great! You ran your first Python code!')\n",
    "    else:\n",
    "        print('x is not the right value check your code and run again')\n",
    "except NameError:\n",
    "    print('x is not defined! You need to run the code cell!')\n",
    "\n",
    "assert_equal(x,3.14,msg='x is not equa lto 3.14!')"
   ]
  },
  {
   "cell_type": "markdown",
   "metadata": {
    "deletable": false,
    "editable": false,
    "nbgrader": {
     "checksum": "e39fe1f8bc599e273a661b350d1ea3b0",
     "grade": false,
     "grade_id": "p2-desc",
     "locked": true,
     "schema_version": 1,
     "solution": false
    }
   },
   "source": [
    "# Problem 2: Use cell magic to view a plot inline\n",
    "\n",
    "- In the below code cell, type \"%matplotlib inline\" and then run the cell. This allows Python plots to be shown inside the notebook."
   ]
  },
  {
   "cell_type": "code",
   "execution_count": null,
   "metadata": {
    "deletable": false,
    "nbgrader": {
     "checksum": "1bab615c9821ad6d0c031e76b1a01d26",
     "grade": false,
     "grade_id": "p2-answer",
     "locked": false,
     "schema_version": 1,
     "solution": true
    }
   },
   "outputs": [],
   "source": [
    "\n",
    "# YOUR CODE HERE\n",
    "raise NotImplementedError()"
   ]
  },
  {
   "cell_type": "code",
   "execution_count": null,
   "metadata": {
    "deletable": false,
    "editable": false,
    "nbgrader": {
     "checksum": "cbc095b52caccac295f00de7b69f535b",
     "grade": true,
     "grade_id": "p2-test",
     "locked": true,
     "points": 1,
     "schema_version": 1,
     "solution": false
    }
   },
   "outputs": [],
   "source": [
    "theta = np.arange(0., np.pi, 0.01)\n",
    "y = np.sin(theta)\n",
    "\n",
    "import matplotlib.pyplot as plt\n",
    "\n",
    "plt.plot(theta, y)\n",
    "plt.xlabel(r\"$\\theta$\")\n",
    "plt.ylabel(r\"$\\sin$($\\theta$)\")\n",
    "plt.title(\"My Plot\")\n",
    "plt.show()"
   ]
  },
  {
   "cell_type": "markdown",
   "metadata": {
    "deletable": false,
    "editable": false,
    "nbgrader": {
     "checksum": "ca9cf8d5f966d959daad229a7e58cd82",
     "grade": false,
     "grade_id": "p3-desc",
     "locked": true,
     "schema_version": 1,
     "solution": false
    }
   },
   "source": [
    "# Problem 3: Change the cell type\n",
    "\n",
    "- The below cell is in markdown format. Change the cell type so that the cell type is now \"code\" and then run the cell. Note that although \"#YOUR CODE HERE\" appears in the cell, no code writing is necessary. \n",
    "\n",
    "\n",
    "- HINT: Look at the \"Cell\" tab in the notebook menu bar."
   ]
  },
  {
   "cell_type": "markdown",
   "metadata": {},
   "source": [
    "#YOUR CODE HERE\n",
    "\n",
    "z = 'Change my cell type to code so I can run!'"
   ]
  },
  {
   "cell_type": "code",
   "execution_count": null,
   "metadata": {
    "deletable": false,
    "editable": false,
    "nbgrader": {
     "checksum": "68248e2b27360fc53f89fa4bebfdefcb",
     "grade": true,
     "grade_id": "p3-test",
     "locked": true,
     "points": 1,
     "schema_version": 1,
     "solution": false
    }
   },
   "outputs": [],
   "source": [
    "try:\n",
    "    if ((z=='Change my cell type to code so I can run!') & (type(z)==str)):\n",
    "        print('Great! You changed the cell type')\n",
    "except NameError:\n",
    "    print('z is not defined! Check the cell type!')\n",
    "    \n",
    "assert_equal(type(z),str,msg='z is not defined! change the cell type!')"
   ]
  },
  {
   "cell_type": "markdown",
   "metadata": {
    "deletable": false,
    "editable": false,
    "nbgrader": {
     "checksum": "0092ed333d00c73cc0e7e47bd0a8f865",
     "grade": false,
     "grade_id": "p4-desc",
     "locked": true,
     "schema_version": 1,
     "solution": false
    }
   },
   "source": [
    "# Problem 4: Write a Markdown header\n",
    "\n",
    "- The below cell is in code format, but we can use the IPython.display module to write Markdown formatted code as Python strings, and then display it as markdown.\n",
    "\n",
    "\n",
    "- In the below cell, in between the two ` '''` statements, write markdown code that would produce the **largest possible** markdown header. The header text should be \"My first header\"."
   ]
  },
  {
   "cell_type": "code",
   "execution_count": null,
   "metadata": {
    "deletable": false,
    "nbgrader": {
     "checksum": "58143a855e34116e2fbff94f2ce701a0",
     "grade": false,
     "grade_id": "p4-answer",
     "locked": false,
     "schema_version": 1,
     "solution": true
    }
   },
   "outputs": [],
   "source": [
    "md='''\n",
    "\n",
    "# YOUR CODE HERE\n",
    "raise NotImplementedError()\n",
    "\n",
    "\n",
    "'''"
   ]
  },
  {
   "cell_type": "code",
   "execution_count": null,
   "metadata": {
    "deletable": false,
    "editable": false,
    "nbgrader": {
     "checksum": "bbf86b077a48179d15c3746a822e79a1",
     "grade": false,
     "grade_id": "cell-f1c9d9d6428d2285",
     "locked": true,
     "schema_version": 1,
     "solution": false
    }
   },
   "outputs": [],
   "source": [
    "#Let's view the markdown\n",
    "from IPython.display import Markdown\n",
    "display(Markdown(md))"
   ]
  },
  {
   "cell_type": "code",
   "execution_count": null,
   "metadata": {
    "deletable": false,
    "editable": false,
    "nbgrader": {
     "checksum": "b0afad68c3cb5697b826a994fece24ce",
     "grade": true,
     "grade_id": "p4-test",
     "locked": true,
     "points": 1,
     "schema_version": 1,
     "solution": false
    }
   },
   "outputs": [],
   "source": [
    "text = md.find('# My first header')\n",
    "assert_not_equal(text,-1,msg='Make sure you are using the largest header.')"
   ]
  },
  {
   "cell_type": "markdown",
   "metadata": {
    "deletable": false,
    "editable": false
   },
   "source": [
    "-----\n",
    "\n",
    "**&copy; 2019: Gies College of Business at the University of Illinois.**\n",
    "\n",
    "This notebook is released under the [Creative Commons license CC BY-NC-SA 4.0][ll]. Any reproduction, adaptation, distribution, dissemination or making available of this notebook for commercial use is not allowed unless authorized in writing by the copyright holder.\n",
    "\n",
    "[ll]: https://creativecommons.org/licenses/by-nc-sa/4.0/legalcode"
   ]
  }
 ],
 "metadata": {
  "coursera": {
   "course_slug": "data-analytics-accountancy-1",
   "graded_item_id": "H1ZBx",
   "launcher_item_id": "x6X9Z"
  },
  "kernelspec": {
   "display_name": "Python 3",
   "language": "python",
   "name": "python3"
  },
  "language_info": {
   "codemirror_mode": {
    "name": "ipython",
    "version": 3
   },
   "file_extension": ".py",
   "mimetype": "text/x-python",
   "name": "python",
   "nbconvert_exporter": "python",
   "pygments_lexer": "ipython3",
   "version": "3.7.1"
  }
 },
 "nbformat": 4,
 "nbformat_minor": 2
}
