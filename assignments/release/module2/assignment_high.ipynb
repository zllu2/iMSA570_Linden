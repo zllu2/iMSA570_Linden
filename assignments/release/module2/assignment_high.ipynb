{
 "cells": [
  {
   "cell_type": "markdown",
   "metadata": {
    "deletable": false,
    "editable": false,
    "nbgrader": {
     "checksum": "b5d2a38fc28f397c01c5fb80f639837e",
     "grade": false,
     "grade_id": "m2_header",
     "locked": true,
     "schema_version": 1,
     "solution": false
    }
   },
   "source": [
    "# Module 2 Assignment\n",
    "\n",
    "A few things you should keep in mind when working on assignments:\n",
    "\n",
    "1. Make sure you fill in any place that says # YOUR CODE HERE. Do not write your answer anywhere else other than where it says # YOUR CODE HERE. Anything you write elsewhere will be removed or overwritten by the autograder.\n",
    "\n",
    "2. Before you submit your assignment, make sure everything runs as expected. Go to the menubar, select Kernel, and restart the kernel and run all cells (Restart & Run all).\n",
    "\n",
    "3. Do not change the title (i.e. file name) of this notebook.\n",
    "\n",
    "4. Make sure that you save your work (in the menubar, select File → Save and CheckPoint).\n",
    "\n",
    "5. All work must be your own, if you do use any code from another source (such as a course notebook or a website) you need to properly cite the source."
   ]
  },
  {
   "cell_type": "code",
   "execution_count": null,
   "metadata": {
    "deletable": false,
    "editable": false,
    "nbgrader": {
     "checksum": "afc83d09b4dfe4015aa510e6a57e2608",
     "grade": false,
     "grade_id": "imports",
     "locked": true,
     "schema_version": 1,
     "solution": false
    }
   },
   "outputs": [],
   "source": [
    "from nose.tools import assert_equal, assert_true, assert_almost_equals\n",
    "import sys\n",
    "import warnings\n",
    "warnings.filterwarnings(\"ignore\", category=DeprecationWarning) "
   ]
  },
  {
   "cell_type": "markdown",
   "metadata": {
    "deletable": false,
    "editable": false,
    "nbgrader": {
     "checksum": "dc5a63ad6de72a8486fa350bc1d35ada",
     "grade": false,
     "grade_id": "p1_desc",
     "locked": true,
     "schema_version": 1,
     "solution": false
    }
   },
   "source": [
    "# Problem 1: Import math\n",
    "\n",
    "For this problem, you will import the Python module math.\n",
    "\n",
    "- Import the Python module math."
   ]
  },
  {
   "cell_type": "code",
   "execution_count": null,
   "metadata": {
    "deletable": false,
    "nbgrader": {
     "checksum": "7f68cef87a5300908b86644b2eef1141",
     "grade": false,
     "grade_id": "p1_ans",
     "locked": false,
     "schema_version": 1,
     "solution": true
    }
   },
   "outputs": [],
   "source": [
    "# YOUR CODE HERE\n",
    "raise NotImplementedError()"
   ]
  },
  {
   "cell_type": "code",
   "execution_count": null,
   "metadata": {
    "deletable": false,
    "editable": false,
    "nbgrader": {
     "checksum": "20c0bebfb9324e6448b1bc90ad2f65d0",
     "grade": true,
     "grade_id": "p1_test",
     "locked": true,
     "points": 1,
     "schema_version": 1,
     "solution": false
    }
   },
   "outputs": [],
   "source": [
    "if 'math' in dir():\n",
    "    print('math module has been successfully imported')\n",
    "else:\n",
    "    print('math module has not been imported')\n",
    "\n",
    "assert_true(\"math\" in dir(), msg=\"You need to import the math library\")"
   ]
  },
  {
   "cell_type": "markdown",
   "metadata": {
    "deletable": false,
    "editable": false,
    "nbgrader": {
     "checksum": "94b0f7ca1906a392f8dfe8944e9c7555",
     "grade": false,
     "grade_id": "p2_desc",
     "locked": true,
     "schema_version": 1,
     "solution": false
    }
   },
   "source": [
    "# Problem 2: Calculate $3cos(\\pi + 4) - 12sin(\\pi^{3})^{-1}$\n",
    "\n",
    "- Use Python math operations, and the Python math module, to calculate the above expression. Save the result in a variable called \"my_calculation\"."
   ]
  },
  {
   "cell_type": "code",
   "execution_count": null,
   "metadata": {
    "deletable": false,
    "nbgrader": {
     "checksum": "7ce837d6106f4a699a2a22f27002be09",
     "grade": false,
     "grade_id": "p2_ans",
     "locked": false,
     "schema_version": 1,
     "solution": true
    }
   },
   "outputs": [],
   "source": [
    "# YOUR CODE HERE\n",
    "raise NotImplementedError()"
   ]
  },
  {
   "cell_type": "code",
   "execution_count": null,
   "metadata": {
    "deletable": false,
    "editable": false,
    "nbgrader": {
     "checksum": "6130288609b10ca8a2b3396dad222478",
     "grade": true,
     "grade_id": "p2_test",
     "locked": true,
     "points": 1,
     "schema_version": 1,
     "solution": false
    }
   },
   "outputs": [],
   "source": [
    "try:\n",
    "    assert_almost_equals(my_calculation,32.089869248682895,msg='my_calculation is not the correct value')\n",
    "except NameError:\n",
    "    print('my_calculation is not defined! This means it has not been saved as a variable.')\n",
    "\n",
    "print(my_calculation)"
   ]
  },
  {
   "cell_type": "markdown",
   "metadata": {
    "deletable": false,
    "editable": false,
    "nbgrader": {
     "checksum": "372d78feb1d30bc97ce0270971d4d80c",
     "grade": false,
     "grade_id": "p3_desc",
     "locked": true,
     "schema_version": 1,
     "solution": false
    }
   },
   "source": [
    "# Problem 3: Adding remainders\n",
    "\n",
    "- Calculate the remainder of 7 divided by 6,    \n",
    "   \n",
    "   \n",
    "- and calculate the remainder of 243 divided by 192. \n",
    "\n",
    "\n",
    "- Add both of these values together and save the result in a variable called \"my_remainder\".\n"
   ]
  },
  {
   "cell_type": "code",
   "execution_count": null,
   "metadata": {
    "deletable": false,
    "nbgrader": {
     "checksum": "b85cdc62d40a335e8e778589f0e3b59f",
     "grade": false,
     "grade_id": "p3_ans",
     "locked": false,
     "schema_version": 1,
     "solution": true
    }
   },
   "outputs": [],
   "source": [
    "# YOUR CODE HERE\n",
    "raise NotImplementedError()"
   ]
  },
  {
   "cell_type": "code",
   "execution_count": null,
   "metadata": {
    "deletable": false,
    "editable": false,
    "nbgrader": {
     "checksum": "9c34af4c30f6b0cc3d1ea3956db1b561",
     "grade": true,
     "grade_id": "p3_test",
     "locked": true,
     "points": 1,
     "schema_version": 1,
     "solution": false
    }
   },
   "outputs": [],
   "source": [
    "try:\n",
    "    assert_almost_equals(my_remainder,52,msg='my_remainder is not the correct value')\n",
    "except NameError:\n",
    "    print('my_remainder is not defined! This means it has not been saved as a variable.')\n",
    "\n",
    "print(my_remainder)"
   ]
  },
  {
   "cell_type": "markdown",
   "metadata": {
    "deletable": false,
    "editable": false,
    "nbgrader": {
     "checksum": "6753617a0f7e746162858586d887b56d",
     "grade": false,
     "grade_id": "p4_desc",
     "locked": true,
     "schema_version": 1,
     "solution": false
    }
   },
   "source": [
    "# Problem 4: Create a function to determine which value is greater  \n",
    "\n",
    "- Write a function called find_greater that accepts 2 parameters called a and b.\n",
    "\n",
    "\n",
    "- Inside of the function use an if statement to determine if a is greater than b.\n",
    "\n",
    "    - If the value in a is greater than the value in b return variable a.\n",
    "    \n",
    "    - If the value in b is greater than the value in a return variable b.\n"
   ]
  },
  {
   "cell_type": "code",
   "execution_count": null,
   "metadata": {
    "deletable": false,
    "nbgrader": {
     "checksum": "9fab620171ff8ffe792437eae7400b37",
     "grade": false,
     "grade_id": "p4_ans",
     "locked": false,
     "schema_version": 1,
     "solution": true
    }
   },
   "outputs": [],
   "source": [
    "def find_greater(a, b):\n",
    "    '''\n",
    "    Returns the highest value between a and b.\n",
    "    \n",
    "    Parameters\n",
    "    ----------\n",
    "    a : an integer or floating point number\n",
    "    b : an integer or floating point number\n",
    "    \n",
    "    Returns\n",
    "    -------\n",
    "    a floating point number that has the highest value\n",
    "    '''\n",
    "    # YOUR CODE HERE\n",
    "    raise NotImplementedError()"
   ]
  },
  {
   "cell_type": "code",
   "execution_count": null,
   "metadata": {
    "deletable": false,
    "editable": false,
    "nbgrader": {
     "checksum": "f9baa40c9ad6dbf1c0efa73a1f29c34b",
     "grade": true,
     "grade_id": "p4_test",
     "locked": true,
     "points": 1,
     "schema_version": 1,
     "solution": false
    }
   },
   "outputs": [],
   "source": [
    "assert_equal(find_greater(3, 4), 4, msg='The greater value between 3 and 4 is 4.')\n",
    "assert_equal(find_greater(4, 3), 4, msg='The greater value between 4 and 3 is 4.')\n",
    "assert_equal(find_greater(3.1459, 3.14), 3.1459, msg='The greater value between 3.1459 and 3.14 is 3.1459')\n"
   ]
  },
  {
   "cell_type": "markdown",
   "metadata": {
    "deletable": false,
    "editable": false,
    "nbgrader": {
     "checksum": "0e5d231e50e79a22c893e8c909e21324",
     "grade": false,
     "grade_id": "p5_desc",
     "locked": true,
     "schema_version": 1,
     "solution": false
    }
   },
   "source": [
    "# Problem 5: Create a function to determine which value is the greatest\n",
    "\n",
    "- Write a function called find_greatest that accepts 3 parameters called a, b, and c.\n",
    "\n",
    "\n",
    "- Inside of the function use an if, else, and/or elif statements to determine which variable between a, b, and c has the highest value. Return this value.\n",
    "\n",
    "**HINT: There's more than 1 way to solve this problem.**"
   ]
  },
  {
   "cell_type": "code",
   "execution_count": null,
   "metadata": {
    "deletable": false,
    "nbgrader": {
     "checksum": "986caddf3b33c8964dc412a65e307876",
     "grade": false,
     "grade_id": "p5_ans",
     "locked": false,
     "schema_version": 1,
     "solution": true
    }
   },
   "outputs": [],
   "source": [
    "def find_greatest(a, b, c):\n",
    "    '''\n",
    "    Returns the highest value between a, b, and c.\n",
    "    \n",
    "    Parameters\n",
    "    ----------\n",
    "    a : an integer or floating point number\n",
    "    b : an integer or floating point number\n",
    "    c : an integer or floating point number\n",
    "\n",
    "    Returns\n",
    "    -------\n",
    "    a floating point number that has the highest value\n",
    "    '''\n",
    "    # YOUR CODE HERE\n",
    "    raise NotImplementedError()"
   ]
  },
  {
   "cell_type": "code",
   "execution_count": null,
   "metadata": {
    "deletable": false,
    "editable": false,
    "nbgrader": {
     "checksum": "893efb6d705ef9689a46b6d9bebef5aa",
     "grade": true,
     "grade_id": "p5_test",
     "locked": true,
     "points": 1,
     "schema_version": 1,
     "solution": false
    }
   },
   "outputs": [],
   "source": [
    "assert_equal(find_greatest(2, 3, 4), 4, msg='The greater value between 2, 3 and 4 is 4.')\n",
    "assert_equal(find_greatest(3, 2, 4), 4, msg='The greater value between 3, 2 and 4 is 4.')\n",
    "assert_equal(find_greatest(4, 3, 2), 4, msg='The greater value between 4, 3 and 2 is 4.')\n"
   ]
  },
  {
   "cell_type": "markdown",
   "metadata": {
    "deletable": false,
    "editable": false
   },
   "source": [
    "-----\n",
    "\n",
    "**&copy; 2019: Gies College of Business at the University of Illinois.**\n",
    "\n",
    "This notebook is released under the [Creative Commons license CC BY-NC-SA 4.0][ll]. Any reproduction, adaptation, distribution, dissemination or making available of this notebook for commercial use is not allowed unless authorized in writing by the copyright holder.\n",
    "\n",
    "[ll]: https://creativecommons.org/licenses/by-nc-sa/4.0/legalcode"
   ]
  }
 ],
 "metadata": {
  "coursera": {
   "course_slug": "data-analytics-accountancy-1",
   "graded_item_id": "pXOVa",
   "launcher_item_id": "XwolO"
  },
  "kernelspec": {
   "display_name": "Python 3",
   "language": "python",
   "name": "python3"
  },
  "language_info": {
   "codemirror_mode": {
    "name": "ipython",
    "version": 3
   },
   "file_extension": ".py",
   "mimetype": "text/x-python",
   "name": "python",
   "nbconvert_exporter": "python",
   "pygments_lexer": "ipython3",
   "version": "3.7.1"
  }
 },
 "nbformat": 4,
 "nbformat_minor": 2
}
