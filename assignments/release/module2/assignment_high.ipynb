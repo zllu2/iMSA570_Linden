{
 "cells": [
  {
   "cell_type": "markdown",
   "metadata": {
    "deletable": false,
    "editable": false,
    "nbgrader": {
     "cell_type": "markdown",
     "checksum": "f23943abd57e13f694446a97e006f5d6",
     "grade": false,
     "grade_id": "m2_header",
     "locked": true,
     "schema_version": 3,
     "solution": false
    }
   },
   "source": [
    "# Module 2 Assignment\n",
    "\n",
    "\n",
    "A few things you should keep in mind when working on assignments:\n",
    "\n",
    "1. Run the first code cell to import modules needed by this assignment before proceeding to problems.\n",
    "2. Make sure you fill in any place that says `# YOUR CODE HERE`. Do not write your answer anywhere else other than where it says `# YOUR CODE HERE`. Anything you write elsewhere will be removed or overwritten by the autograder.\n",
    "3. Each problem has an autograder cell below the answer cell. Run the autograder cell to check your answer. If there's anything wrong in your answer, the autograder cell will display error messages.\n",
    "4. Before you submit your assignment, make sure everything runs as expected. Go to the menubar, select Kernel, and Restart & Run all. If the notebook runs through the last code cell without error message, you've answered all problems correctly.\n",
    "5. Make sure that you save your work (in the menubar, select File → Save and CheckPoint).\n",
    "\n",
    "-----"
   ]
  },
  {
   "cell_type": "markdown",
   "metadata": {
    "deletable": false,
    "editable": false,
    "nbgrader": {
     "cell_type": "markdown",
     "checksum": "a9888c8f0726a1e92b849796d94923f8",
     "grade": false,
     "grade_id": "cell-61c6fd10c5be4dd0",
     "locked": true,
     "schema_version": 3,
     "solution": false
    }
   },
   "source": [
    "# Run Me First!"
   ]
  },
  {
   "cell_type": "code",
   "execution_count": null,
   "metadata": {
    "deletable": false,
    "editable": false,
    "nbgrader": {
     "cell_type": "code",
     "checksum": "20041ad2159c4ca097a8c0a12c49ac6e",
     "grade": false,
     "grade_id": "imports",
     "locked": true,
     "schema_version": 3,
     "solution": false
    }
   },
   "outputs": [],
   "source": [
    "from nose.tools import assert_equal, assert_true\n",
    "import warnings\n",
    "warnings.filterwarnings(\"ignore\", category=DeprecationWarning) "
   ]
  },
  {
   "cell_type": "markdown",
   "metadata": {
    "deletable": false,
    "editable": false,
    "nbgrader": {
     "cell_type": "markdown",
     "checksum": "9217ba5e8f59223ada082a387d2e7437",
     "grade": false,
     "grade_id": "p1_desc",
     "locked": true,
     "schema_version": 3,
     "solution": false
    }
   },
   "source": [
    "# Problem 1: Create string variable\n",
    "\n",
    "Create variable **s**, assign value \"99.9\" as a string to it.\n"
   ]
  },
  {
   "cell_type": "code",
   "execution_count": null,
   "metadata": {
    "deletable": false,
    "nbgrader": {
     "cell_type": "code",
     "checksum": "d6f835d2e78f719d150b53c756975d99",
     "grade": false,
     "grade_id": "p1_ans",
     "locked": false,
     "schema_version": 3,
     "solution": true
    }
   },
   "outputs": [],
   "source": [
    "# YOUR CODE HERE\n"
   ]
  },
  {
   "cell_type": "code",
   "execution_count": null,
   "metadata": {
    "deletable": false,
    "editable": false,
    "nbgrader": {
     "cell_type": "code",
     "checksum": "b1b40ffc52ab4fae1293957bc9d47b49",
     "grade": true,
     "grade_id": "p1_test",
     "locked": true,
     "points": 1,
     "schema_version": 3,
     "solution": false
    }
   },
   "outputs": [],
   "source": [
    "assert_true(type(s)==str, msg=\"The type of s is not str\")\n",
    "assert_true(float(s)==99.9, msg=\"Value of s is not '99.9'\")"
   ]
  },
  {
   "cell_type": "markdown",
   "metadata": {
    "deletable": false,
    "editable": false,
    "nbgrader": {
     "cell_type": "markdown",
     "checksum": "052036ef0691c33b35bc51f1f2592e2f",
     "grade": false,
     "grade_id": "p2_desc",
     "locked": true,
     "schema_version": 3,
     "solution": false
    }
   },
   "source": [
    "# Problem 2: Calculate absolute value\n",
    "\n",
    "- calcualte $97\\times99-98^2$\n",
    "- assign result to variable **result**\n",
    "- assign absolute value of the result to variable **abs_result**\n"
   ]
  },
  {
   "cell_type": "code",
   "execution_count": null,
   "metadata": {
    "deletable": false,
    "nbgrader": {
     "cell_type": "code",
     "checksum": "c7f5dbded7bb6bf7e2cc30b3fe28afe1",
     "grade": false,
     "grade_id": "p2_ans",
     "locked": false,
     "schema_version": 3,
     "solution": true
    }
   },
   "outputs": [],
   "source": [
    "result, abs_result = 0, 0\n",
    "# YOUR CODE HERE\n"
   ]
  },
  {
   "cell_type": "code",
   "execution_count": null,
   "metadata": {
    "deletable": false,
    "editable": false,
    "nbgrader": {
     "cell_type": "code",
     "checksum": "166a13c8ca6a07ac8296ed074a51a9b3",
     "grade": true,
     "grade_id": "p2_test",
     "locked": true,
     "points": 1,
     "schema_version": 3,
     "solution": false
    }
   },
   "outputs": [],
   "source": [
    "assert_equal(result, -1, msg=\"The result is wrong\")\n",
    "assert_equal(abs_result, 1, msg=\"The absolute result is wrong\")"
   ]
  },
  {
   "cell_type": "markdown",
   "metadata": {
    "deletable": false,
    "editable": false,
    "nbgrader": {
     "cell_type": "markdown",
     "checksum": "372d78feb1d30bc97ce0270971d4d80c",
     "grade": false,
     "grade_id": "p3_desc",
     "locked": true,
     "schema_version": 3,
     "solution": false
    }
   },
   "source": [
    "# Problem 3: Adding remainders\n",
    "\n",
    "- Calculate the remainder of 7 divided by 6,    \n",
    "   \n",
    "   \n",
    "- and calculate the remainder of 243 divided by 192. \n",
    "\n",
    "\n",
    "- Add both of these values together and save the result in a variable called \"my_remainder\".\n"
   ]
  },
  {
   "cell_type": "code",
   "execution_count": null,
   "metadata": {
    "deletable": false,
    "nbgrader": {
     "cell_type": "code",
     "checksum": "6d239519e4b38e192b476a76dacdfa1e",
     "grade": false,
     "grade_id": "p3_ans",
     "locked": false,
     "schema_version": 3,
     "solution": true
    }
   },
   "outputs": [],
   "source": [
    "my_remainder = 0\n",
    "# YOUR CODE HERE\n"
   ]
  },
  {
   "cell_type": "code",
   "execution_count": null,
   "metadata": {
    "deletable": false,
    "editable": false,
    "nbgrader": {
     "cell_type": "code",
     "checksum": "2a8adc1412c9b500e154e7d1c1a6e929",
     "grade": true,
     "grade_id": "p3_test",
     "locked": true,
     "points": 1,
     "schema_version": 3,
     "solution": false
    }
   },
   "outputs": [],
   "source": [
    "assert_equal(my_remainder,52,msg='my_remainder is not the correct value')\n"
   ]
  },
  {
   "cell_type": "markdown",
   "metadata": {
    "deletable": false,
    "editable": false,
    "nbgrader": {
     "cell_type": "markdown",
     "checksum": "6753617a0f7e746162858586d887b56d",
     "grade": false,
     "grade_id": "p4_desc",
     "locked": true,
     "schema_version": 3,
     "solution": false
    }
   },
   "source": [
    "# Problem 4: Create a function to determine which value is greater  \n",
    "\n",
    "- Write a function called find_greater that accepts 2 parameters called a and b.\n",
    "\n",
    "\n",
    "- Inside of the function use an if statement to determine if a is greater than b.\n",
    "\n",
    "    - If the value in a is greater than the value in b return variable a.\n",
    "    \n",
    "    - If the value in b is greater than the value in a return variable b.\n"
   ]
  },
  {
   "cell_type": "code",
   "execution_count": null,
   "metadata": {
    "deletable": false,
    "nbgrader": {
     "cell_type": "code",
     "checksum": "65c8d2bcb1ba5dcc7647dd643717ac4b",
     "grade": false,
     "grade_id": "p4_ans",
     "locked": false,
     "schema_version": 3,
     "solution": true
    }
   },
   "outputs": [],
   "source": [
    "def find_greater(a, b):\n",
    "    '''\n",
    "    Returns the highest value between a and b.\n",
    "    \n",
    "    Parameters\n",
    "    ----------\n",
    "    a : an integer or floating point number\n",
    "    b : an integer or floating point number\n",
    "    \n",
    "    Returns\n",
    "    -------\n",
    "    a floating point number that has the highest value\n",
    "    '''\n",
    "    # YOUR CODE HERE\n",
    "    "
   ]
  },
  {
   "cell_type": "code",
   "execution_count": null,
   "metadata": {
    "deletable": false,
    "editable": false,
    "nbgrader": {
     "cell_type": "code",
     "checksum": "f9baa40c9ad6dbf1c0efa73a1f29c34b",
     "grade": true,
     "grade_id": "p4_test",
     "locked": true,
     "points": 1,
     "schema_version": 3,
     "solution": false
    }
   },
   "outputs": [],
   "source": [
    "assert_equal(find_greater(3, 4), 4, msg='The greater value between 3 and 4 is 4.')\n",
    "assert_equal(find_greater(4, 3), 4, msg='The greater value between 4 and 3 is 4.')\n",
    "assert_equal(find_greater(3.1459, 3.14), 3.1459, msg='The greater value between 3.1459 and 3.14 is 3.1459')\n"
   ]
  },
  {
   "cell_type": "markdown",
   "metadata": {
    "deletable": false,
    "editable": false,
    "nbgrader": {
     "cell_type": "markdown",
     "checksum": "0e5d231e50e79a22c893e8c909e21324",
     "grade": false,
     "grade_id": "p5_desc",
     "locked": true,
     "schema_version": 3,
     "solution": false
    }
   },
   "source": [
    "# Problem 5: Create a function to determine which value is the greatest\n",
    "\n",
    "- Write a function called find_greatest that accepts 3 parameters called a, b, and c.\n",
    "\n",
    "\n",
    "- Inside of the function use an if, else, and/or elif statements to determine which variable between a, b, and c has the highest value. Return this value.\n",
    "\n",
    "**HINT: There's more than 1 way to solve this problem.**"
   ]
  },
  {
   "cell_type": "code",
   "execution_count": null,
   "metadata": {
    "deletable": false,
    "nbgrader": {
     "cell_type": "code",
     "checksum": "e87b4804d940f4e9d7edfeb920ce859c",
     "grade": false,
     "grade_id": "p5_ans",
     "locked": false,
     "schema_version": 3,
     "solution": true
    }
   },
   "outputs": [],
   "source": [
    "def find_greatest(a, b, c):\n",
    "    '''\n",
    "    Returns the highest value between a, b, and c.\n",
    "    \n",
    "    Parameters\n",
    "    ----------\n",
    "    a : an integer or floating point number\n",
    "    b : an integer or floating point number\n",
    "    c : an integer or floating point number\n",
    "\n",
    "    Returns\n",
    "    -------\n",
    "    a floating point number that has the highest value\n",
    "    '''\n",
    "    # YOUR CODE HERE\n",
    "    "
   ]
  },
  {
   "cell_type": "code",
   "execution_count": null,
   "metadata": {
    "deletable": false,
    "editable": false,
    "nbgrader": {
     "cell_type": "code",
     "checksum": "893efb6d705ef9689a46b6d9bebef5aa",
     "grade": true,
     "grade_id": "p5_test",
     "locked": true,
     "points": 1,
     "schema_version": 3,
     "solution": false
    }
   },
   "outputs": [],
   "source": [
    "assert_equal(find_greatest(2, 3, 4), 4, msg='The greater value between 2, 3 and 4 is 4.')\n",
    "assert_equal(find_greatest(3, 2, 4), 4, msg='The greater value between 3, 2 and 4 is 4.')\n",
    "assert_equal(find_greatest(4, 3, 2), 4, msg='The greater value between 4, 3 and 2 is 4.')\n"
   ]
  }
 ],
 "metadata": {
  "coursera": {
   "course_slug": "data-analytics-accountancy-1",
   "graded_item_id": "pXOVa",
   "launcher_item_id": "XwolO"
  },
  "kernelspec": {
   "display_name": "Python 3",
   "language": "python",
   "name": "python3"
  },
  "language_info": {
   "codemirror_mode": {
    "name": "ipython",
    "version": 3
   },
   "file_extension": ".py",
   "mimetype": "text/x-python",
   "name": "python",
   "nbconvert_exporter": "python",
   "pygments_lexer": "ipython3",
   "version": "3.7.1"
  }
 },
 "nbformat": 4,
 "nbformat_minor": 2
}
