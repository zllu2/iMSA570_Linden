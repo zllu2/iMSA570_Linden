{
 "cells": [
  {
   "cell_type": "markdown",
   "metadata": {
    "deletable": false,
    "editable": false,
    "nbgrader": {
     "cell_type": "markdown",
     "checksum": "4f6b22250f2563949f797ef756d100b6",
     "grade": false,
     "grade_id": "intro",
     "locked": true,
     "schema_version": 3,
     "solution": false
    }
   },
   "source": [
    "# Module 8 Assignment\n",
    "\n",
    "\n",
    "A few things you should keep in mind when working on assignments:\n",
    "\n",
    "1. Run the first code cell to import modules needed by this assignment before proceeding to problems.\n",
    "2. Make sure you fill in any place that says `# YOUR CODE HERE`. Do not write your answer anywhere else other than where it says `# YOUR CODE HERE`. Anything you write elsewhere will be removed or overwritten by the autograder.\n",
    "3. Each problem has an autograder cell below the answer cell. Run the autograder cell to check your answer. If there's anything wrong in your answer, the autograder cell will display error messages.\n",
    "4. Before you submit your assignment, make sure everything runs as expected. Go to the menubar, select Kernel, and Restart & Run all. If the notebook runs through the last code cell without error message, you've answered all problems correctly.\n",
    "5. Make sure that you save your work (in the menubar, select File → Save and CheckPoint).\n",
    "\n",
    "-----"
   ]
  },
  {
   "cell_type": "markdown",
   "metadata": {
    "deletable": false,
    "editable": false,
    "nbgrader": {
     "cell_type": "markdown",
     "checksum": "3b7d0f561934e8c86623e0fc99e98c75",
     "grade": false,
     "grade_id": "cell-cbca7c7ba2157ed7",
     "locked": true,
     "schema_version": 3,
     "solution": false
    }
   },
   "source": [
    "# Run Me First!"
   ]
  },
  {
   "cell_type": "code",
   "execution_count": null,
   "metadata": {
    "deletable": false,
    "editable": false,
    "nbgrader": {
     "cell_type": "code",
     "checksum": "c6bd91bd98f07cee42e9765b7fbf665d",
     "grade": false,
     "grade_id": "import",
     "locked": true,
     "schema_version": 3,
     "solution": false
    }
   },
   "outputs": [],
   "source": [
    "import sqlite3 as sql\n",
    "import pandas as pd\n",
    "\n",
    "from nose.tools import assert_equal, assert_true"
   ]
  },
  {
   "cell_type": "markdown",
   "metadata": {
    "deletable": false,
    "editable": false,
    "nbgrader": {
     "cell_type": "markdown",
     "checksum": "2ddddcffe789bfd5a0dc64d4d07a27bd",
     "grade": false,
     "grade_id": "p1_desc",
     "locked": true,
     "schema_version": 3,
     "solution": false
    }
   },
   "source": [
    "-----\n",
    "\n",
    "## Problem 1: Creating a Table\n",
    "\n",
    "In the code cell below, we declare a function named `create` that takes one function parameter: `file_path`, which is a string that contains the file path for the database file you will create.\n",
    "\n",
    "To complete this problem, finish writing the function `create`:\n",
    "- establish a sqlite3 connection to the database 'file_path',\n",
    "- create a cursor using the connection to the db at \"file_path\",\n",
    "- use this cursor to drop the `Checker` table if it exists,\n",
    "- use this cursor to create the `Checker` table with the following column:\n",
    "    - `cNum` with type int and should not accept NULL values,\n",
    "- return the sqlite3 connection and cursor object.\n",
    "\n",
    "-----"
   ]
  },
  {
   "cell_type": "code",
   "execution_count": null,
   "metadata": {
    "deletable": false,
    "nbgrader": {
     "cell_type": "code",
     "checksum": "675dcb0256ad0079c07f64bcfd04795e",
     "grade": false,
     "grade_id": "p1_ans",
     "locked": false,
     "schema_version": 3,
     "solution": true
    }
   },
   "outputs": [],
   "source": [
    "# connect to a datbase create a table\n",
    "def create(file_path):\n",
    "    '''\n",
    "    Creates and establishes a connection to a database. Create table Checker.\n",
    "    \n",
    "    Parameters\n",
    "    ----------\n",
    "    file_path: string containing path to create database\n",
    "    \n",
    "    Returns\n",
    "    -------\n",
    "    con: sqlite3 connection\n",
    "    cur: sqlite3 cursor\n",
    "    '''\n",
    "    \n",
    "    # YOUR CODE HERE\n",
    "    "
   ]
  },
  {
   "cell_type": "code",
   "execution_count": null,
   "metadata": {
    "deletable": false,
    "editable": false,
    "nbgrader": {
     "cell_type": "code",
     "checksum": "39fd719d4351aeca1538bab3ca047cb6",
     "grade": true,
     "grade_id": "p1_test",
     "locked": true,
     "points": 1,
     "schema_version": 3,
     "solution": false
    }
   },
   "outputs": [],
   "source": [
    "con, cur = create('sql_files/m12-high.db')\n",
    "cur.execute(\"PRAGMA table_Info('Checker')\")\n",
    "result = cur.fetchall()\n",
    "\n",
    "assert_true(result[0][1].upper()=='CNUM', msg='No cNum column created')\n",
    "assert_true(result[0][2].upper()=='INT', msg='cNum should be of type integer')\n",
    "assert_true(result[0][3]==1, msg='cNum should be not null')"
   ]
  },
  {
   "cell_type": "markdown",
   "metadata": {
    "deletable": false,
    "editable": false,
    "nbgrader": {
     "cell_type": "markdown",
     "checksum": "5dc58d13d6de6afb2d737bfa71f39382",
     "grade": false,
     "grade_id": "p2_desc",
     "locked": true,
     "schema_version": 3,
     "solution": false
    }
   },
   "source": [
    "-----\n",
    "\n",
    "## Problem 2: Reading In Data\n",
    "\n",
    "In the code cell below, we declare a function named `read` that takes one function parameter: `read_path`, which is a string that contains the file path for the **csv** file you will use.\n",
    "\n",
    "To complete this problem, finish writing the function `read`:\n",
    "- use Pandas read_csv() to read data from the csv file located at `read_path`,\n",
    "- return the resulting Pandas DataFrame.\n",
    "\n",
    "-----"
   ]
  },
  {
   "cell_type": "code",
   "execution_count": null,
   "metadata": {
    "deletable": false,
    "nbgrader": {
     "cell_type": "code",
     "checksum": "e1226fb1b39ee71aa9e5eebc774c282c",
     "grade": false,
     "grade_id": "p2_ans",
     "locked": false,
     "schema_version": 3,
     "solution": true
    }
   },
   "outputs": [],
   "source": [
    "def read(read_path):\n",
    "    '''\n",
    "    Read data from csv file \"read_path\" by using Pandas\n",
    "    \n",
    "    Parameters\n",
    "    ----------\n",
    "    read_path: string containing the file path from which to read data\n",
    "    \n",
    "    Returns\n",
    "    -------\n",
    "    Pandas DataFrame\n",
    "    '''\n",
    "    \n",
    "    # YOUR CODE HERE\n",
    "    "
   ]
  },
  {
   "cell_type": "code",
   "execution_count": null,
   "metadata": {
    "deletable": false,
    "editable": false,
    "nbgrader": {
     "cell_type": "code",
     "checksum": "85c1fd668c067b538f811ef278d410df",
     "grade": true,
     "grade_id": "p2_test",
     "locked": true,
     "points": 1,
     "schema_version": 3,
     "solution": false
    }
   },
   "outputs": [],
   "source": [
    "df = read('data/ACCY_desc.csv')\n",
    "assert_equal(set(df.columns.tolist()),\n",
    "             set(['year', 'semester', 'dept', 'course_num', 'course_name', 'description']),\n",
    "            msg='Your column names do not match the solutions')\n",
    "assert_equal(len(df), 36, msg='There are 36 unique ACCY courses offered in Fall 2018 not %s'%(len(df)))\n",
    "\n",
    "assert_equal(set(df['course_num'].tolist()),\n",
    "            set([199, 200, 201, 202, 290, 301, 302, 303,\n",
    "                 304, 312, 321, 398, 405, 410, 415, 451,\n",
    "                 499, 500, 501, 502, 503, 504, 505, 510,\n",
    "                 512, 515, 517, 518, 551, 556, 570, 585,\n",
    "                 592, 593, 594, 599]),\n",
    "             msg='Your answer does not match the solutions.')\n",
    "\n",
    "print(\"First five ACCY Courses offered Fall 2018 at UIUC:\")\n",
    "df.head(5)"
   ]
  },
  {
   "cell_type": "markdown",
   "metadata": {
    "deletable": false,
    "editable": false,
    "nbgrader": {
     "cell_type": "markdown",
     "checksum": "a5559d4fe284936d80d21fa3add03151",
     "grade": false,
     "grade_id": "p3_desc",
     "locked": true,
     "schema_version": 3,
     "solution": false
    }
   },
   "source": [
    "-----\n",
    "\n",
    "## Problem 3: Inserting Data\n",
    "\n",
    "In the code cell below, we declare a function named `write_inserts` that takes two function parameters: `con`, which is a sqlite3 connection object, and `df`, which is the Pandas DataFrame created in Problem 2.\n",
    "\n",
    "To complete this problem, finish writing the function `write_inserts`:\n",
    "- insert all values from `df` to `Courses` table\n",
    "- **donot** write index of df as a column into `Courses`\n",
    "- replace table first if `Courses` already exists in the database\n",
    "\n",
    "-----"
   ]
  },
  {
   "cell_type": "code",
   "execution_count": null,
   "metadata": {
    "deletable": false,
    "nbgrader": {
     "cell_type": "code",
     "checksum": "768d822031e08ae805c5ebd9ffae85d2",
     "grade": false,
     "grade_id": "p3_ans",
     "locked": false,
     "schema_version": 3,
     "solution": true
    }
   },
   "outputs": [],
   "source": [
    "def write_inserts(con, df):\n",
    "    '''\n",
    "    Parameters\n",
    "    ----------\n",
    "    con: sqlite3 connection\n",
    "    df: pandas dataframe\n",
    "    \n",
    "    Returns\n",
    "    -------\n",
    "    None\n",
    "    '''\n",
    "    \n",
    "    # YOUR CODE HERE\n",
    "    "
   ]
  },
  {
   "cell_type": "code",
   "execution_count": null,
   "metadata": {
    "deletable": false,
    "editable": false,
    "nbgrader": {
     "cell_type": "code",
     "checksum": "c2abc1145bcfd7218389b2e245131a82",
     "grade": true,
     "grade_id": "p3_test",
     "locked": true,
     "points": 1,
     "schema_version": 3,
     "solution": false
    }
   },
   "outputs": [],
   "source": [
    "write_inserts(con, df)\n",
    "query = \"SELECT year, semester, dept FROM Courses\"\n",
    "cur.execute(query)\n",
    "sol = set(cur.fetchall())\n",
    "ans = set([(2018, 'Fall', 'ACCY')])\n",
    "\n",
    "assert_equal(ans, sol, msg=\"Your answer does not match the solution\")"
   ]
  },
  {
   "cell_type": "markdown",
   "metadata": {
    "deletable": false,
    "editable": false,
    "nbgrader": {
     "cell_type": "markdown",
     "checksum": "f8c8a6627c39def2c3a97d4aeafad1e7",
     "grade": false,
     "grade_id": "p4_desc",
     "locked": true,
     "schema_version": 3,
     "solution": false
    }
   },
   "source": [
    "-----\n",
    "\n",
    "## Problem 4: Select 500 level ACCY Courses \n",
    "\n",
    "In the code cell below, we declare a function named `select_500` that takes one function parameter.\n",
    "\n",
    "To complete this problem, finish writing the function `select_500`:\n",
    "- load all courses with course_num greater or equal to 500 in `Courses` table to a dataframe\n",
    "- return the dataframe.\n",
    "\n",
    "-----"
   ]
  },
  {
   "cell_type": "code",
   "execution_count": null,
   "metadata": {
    "deletable": false,
    "nbgrader": {
     "cell_type": "code",
     "checksum": "8664887269fbcd6afed4383314042cd5",
     "grade": false,
     "grade_id": "p4_ans",
     "locked": false,
     "schema_version": 3,
     "solution": true
    }
   },
   "outputs": [],
   "source": [
    "def select_500(con):\n",
    "    '''\n",
    "    Selects ACCY courses that are 500 level\n",
    "    \n",
    "    Parameters\n",
    "    ----------\n",
    "    con: sqlite3 connection\n",
    "    \n",
    "    Returns\n",
    "    -------\n",
    "    a dataframe that contains the course info\n",
    "    '''\n",
    "    \n",
    "    # YOUR CODE HERE\n",
    "    "
   ]
  },
  {
   "cell_type": "code",
   "execution_count": null,
   "metadata": {
    "deletable": false,
    "editable": false,
    "nbgrader": {
     "cell_type": "code",
     "checksum": "619a4bd0f5650d352be48f1ae7281777",
     "grade": true,
     "grade_id": "p4_test",
     "locked": true,
     "points": 1,
     "schema_version": 3,
     "solution": false
    }
   },
   "outputs": [],
   "source": [
    "df500 = select_500(con)\n",
    "\n",
    "assert_equal(df500.shape[0], 19, msg=\"Your answer does not match the solution\")"
   ]
  },
  {
   "cell_type": "markdown",
   "metadata": {
    "deletable": false,
    "editable": false,
    "nbgrader": {
     "cell_type": "markdown",
     "checksum": "b73cc5a54bdd9d73c723e6a200701ee7",
     "grade": false,
     "grade_id": "p5_desc",
     "locked": true,
     "schema_version": 3,
     "solution": false
    }
   },
   "source": [
    "-----\n",
    "\n",
    "## Problem 5: Selecting Course by Descriptions\n",
    "\n",
    "In the code cell below, we declare a function named `select_by_desc` that takes one function parameter.\n",
    "\n",
    "To complete this problem, finish writing the function `select_by_desc`:\n",
    "- load course if description **contains** 'Analytics' from the `Courses` table into a dataframe\n",
    "- return the dataframe\n",
    "\n",
    "-----"
   ]
  },
  {
   "cell_type": "code",
   "execution_count": null,
   "metadata": {
    "deletable": false,
    "nbgrader": {
     "cell_type": "code",
     "checksum": "026c415dd714414c07100d8f80c8ef59",
     "grade": false,
     "grade_id": "p5_ans",
     "locked": false,
     "schema_version": 3,
     "solution": true
    }
   },
   "outputs": [],
   "source": [
    "def select_by_desc(con):\n",
    "    '''\n",
    "    Grabs the courses if description contains 'Analytics'\n",
    "    \n",
    "    Parameters\n",
    "    ----------\n",
    "    con: sqlite3 connection\n",
    "    \n",
    "    Returns\n",
    "    -------\n",
    "    a dataframe\n",
    "    '''\n",
    "    \n",
    "    # YOUR CODE HERE\n",
    "    "
   ]
  },
  {
   "cell_type": "code",
   "execution_count": null,
   "metadata": {
    "deletable": false,
    "editable": false,
    "nbgrader": {
     "cell_type": "code",
     "checksum": "4f2bf3138b6ed6ab77ef70bccf44b00f",
     "grade": true,
     "grade_id": "p5_test",
     "locked": true,
     "points": 1,
     "schema_version": 3,
     "solution": false
    }
   },
   "outputs": [],
   "source": [
    "df_analytics = select_by_desc(con)\n",
    "assert_true(df_analytics.shape[0]==2, msg=\"Your answer is wrong.\")\n",
    "assert_true(570 in df_analytics.course_num.values, msg=\"Your answer is wrong.\")\n",
    "assert_true(512 in df_analytics.course_num.values, msg=\"Your answer is wrong.\")\n",
    "con.close()"
   ]
  }
 ],
 "metadata": {
  "kernelspec": {
   "display_name": "Python 3",
   "language": "python",
   "name": "python3"
  },
  "language_info": {
   "codemirror_mode": {
    "name": "ipython",
    "version": 3
   },
   "file_extension": ".py",
   "mimetype": "text/x-python",
   "name": "python",
   "nbconvert_exporter": "python",
   "pygments_lexer": "ipython3",
   "version": "3.7.3"
  }
 },
 "nbformat": 4,
 "nbformat_minor": 2
}
