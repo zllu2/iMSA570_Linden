{
 "cells": [
  {
   "cell_type": "markdown",
   "metadata": {
    "deletable": false,
    "editable": false,
    "nbgrader": {
     "cell_type": "markdown",
     "checksum": "f7764971a959f1aeaa7cde882d076964",
     "grade": false,
     "grade_id": "intro",
     "locked": true,
     "schema_version": 3,
     "solution": false
    }
   },
   "source": [
    "# Module 8 Assignment\n",
    "\n",
    "\n",
    "A few things you should keep in mind when working on assignments:\n",
    "\n",
    "1. Run the first code cell to import modules needed by this assignment before proceeding to problems.\n",
    "2. Make sure you fill in any place that says `# YOUR CODE HERE`. Do not write your answer anywhere else other than where it says `# YOUR CODE HERE`. Anything you write elsewhere will be removed or overwritten by the autograder.\n",
    "3. Each problem has an autograder cell below the answer cell. Run the autograder cell to check your answer. If there's anything wrong in your answer, the autograder cell will display error messages.\n",
    "4. Before you submit your assignment, make sure everything runs as expected. Go to the menubar, select Kernel, and Restart & Run all. If the notebook runs through the last code cell without an error message, you've answered all problems correctly.\n",
    "5. Make sure that you save your work (in the menubar, select File → Save and CheckPoint).\n",
    "\n",
    "-----"
   ]
  },
  {
   "cell_type": "markdown",
   "metadata": {
    "deletable": false,
    "editable": false,
    "nbgrader": {
     "cell_type": "markdown",
     "checksum": "81fad8e01ee73e8d75c6938bc45f5952",
     "grade": false,
     "grade_id": "cell-669359248812e9f0",
     "locked": true,
     "schema_version": 3,
     "solution": false
    }
   },
   "source": [
    "# Run Me First!"
   ]
  },
  {
   "cell_type": "code",
   "execution_count": null,
   "metadata": {
    "deletable": false,
    "editable": false,
    "nbgrader": {
     "cell_type": "code",
     "checksum": "9bc957b9f823ec1e7af8a0ece9634907",
     "grade": false,
     "grade_id": "imports",
     "locked": true,
     "schema_version": 3,
     "solution": false
    }
   },
   "outputs": [],
   "source": [
    "import sqlite3 as sql\n",
    "import pandas as pd\n",
    "\n",
    "from nose.tools import assert_equal, assert_true"
   ]
  },
  {
   "cell_type": "markdown",
   "metadata": {
    "deletable": false,
    "editable": false,
    "nbgrader": {
     "cell_type": "markdown",
     "checksum": "2be7c2c7f029a1b1590d4f1e98ce5a60",
     "grade": false,
     "grade_id": "p1_desc",
     "locked": true,
     "schema_version": 3,
     "solution": false
    }
   },
   "source": [
    "-----\n",
    "\n",
    "## Problem 1: Creating DB, establishing a connection, creating a table\n",
    "\n",
    "In the code cell below, we declare a function named `create` that takes one function parameter: `file_path`, which is a string containing the file path to the SQLite3 database.\n",
    "\n",
    "To complete this problem, finish writing the function `create`:\n",
    "- Establish a sqlite3 connection to the database 'file_path'.\n",
    "- Create a cursor using the connection to this database.\n",
    "- Use the cursor to drop the `Courses` table if it exists.\n",
    "- Use the cursor to create the `Courses` table with the following columns:\n",
    "    - `Subject` with type text and does not contain any NULL values.\n",
    "    - `CourseNumber` with type integer and does not contain any NULL value.\n",
    "    - `CRN` with type integer and does not contain any NULL value.\n",
    "- Return the connection to the database and the database cursor.\n",
    "\n",
    "-----"
   ]
  },
  {
   "cell_type": "code",
   "execution_count": null,
   "metadata": {
    "deletable": false,
    "nbgrader": {
     "cell_type": "code",
     "checksum": "bf4ed9a68968f6b2eae3711e6b554ff2",
     "grade": false,
     "grade_id": "p1_ans",
     "locked": false,
     "schema_version": 3,
     "solution": true
    }
   },
   "outputs": [],
   "source": [
    "# connect to a datbase create a table\n",
    "def create(file_path):\n",
    "    '''\n",
    "    Creates and establishes a connection to a database and \n",
    "    creates a table.\n",
    "    \n",
    "    Parameters\n",
    "    ----------\n",
    "    file_path: string containing path to create database\n",
    "    \n",
    "    Returns\n",
    "    -------\n",
    "    con: sqlite3 connection\n",
    "    cur: sqlite3 database cursor object\n",
    "    '''\n",
    "    \n",
    "    # YOUR CODE HERE\n",
    "    "
   ]
  },
  {
   "cell_type": "code",
   "execution_count": null,
   "metadata": {
    "deletable": false,
    "editable": false,
    "nbgrader": {
     "cell_type": "code",
     "checksum": "3ab6b66db1c0fc15928c2f5ed86f70a2",
     "grade": true,
     "grade_id": "p1_test",
     "locked": true,
     "points": 1,
     "schema_version": 3,
     "solution": false
    }
   },
   "outputs": [],
   "source": [
    "con, cur = create('sql_files/m12.db')\n",
    "\n",
    "cur.execute(\"PRAGMA table_Info('Courses')\")\n",
    "result = cur.fetchall()\n",
    "\n",
    "ans = ''\n",
    "for i in result:\n",
    "    ans = ans + i[1] + \" \" + i[2] +'|'\n",
    "    \n",
    "assert_true('Subject TEXT' in ans, msg='Subject should be of type text')\n",
    "assert_true('CourseNumber INT' in ans, msg='CourseNumber should be of type int')\n",
    "assert_true('CRN INT' in ans, msg='CRN should be of type integer')\n"
   ]
  },
  {
   "cell_type": "markdown",
   "metadata": {
    "deletable": false,
    "editable": false,
    "nbgrader": {
     "cell_type": "markdown",
     "checksum": "f85cbaf938e2151b271492cb45e945c7",
     "grade": false,
     "grade_id": "p2_desc",
     "locked": true,
     "schema_version": 3,
     "solution": false
    }
   },
   "source": [
    "-----\n",
    "\n",
    "## Problem 2: Inserting Data\n",
    "\n",
    "In the code cell below, we declare a function named `insert` that takes two function parameters: `cur` which is a sqlite3 cursor and `data`, which is a list of tuples.\n",
    "\n",
    "To complete this problem, finish writing the function `insert`:\n",
    "- Write and execute a sql query to:\n",
    " - Delete existing data in `Courses` table.\n",
    " - Insert data in `data` to `Courses` table.\n",
    "\n",
    "-----"
   ]
  },
  {
   "cell_type": "code",
   "execution_count": null,
   "metadata": {
    "deletable": false,
    "editable": false,
    "nbgrader": {
     "cell_type": "code",
     "checksum": "601e4ca946f076fbed2cd0bb7fdba40b",
     "grade": false,
     "grade_id": "cell-199c00910d9626ac",
     "locked": true,
     "schema_version": 3,
     "solution": false
    }
   },
   "outputs": [],
   "source": [
    "data = [('ACCY', 199, 10033), ('ACCY', 199, 69998), ('ACCY', 200, 29670), ('ACCY', 201, 36478),\n",
    "        ('ART', 102, 62794), ('ART', 150, 65459), ('ART', 310, 64968),\n",
    "        ('IE', 300, 51898), ('IE', 512, 35414), ('IE', 360, 61503),\n",
    "        ('LAW', 600, 30836), ('LAW', 604, 31954), ('LAW', 634, 56475)]\n",
    "data"
   ]
  },
  {
   "cell_type": "code",
   "execution_count": null,
   "metadata": {
    "deletable": false,
    "nbgrader": {
     "cell_type": "code",
     "checksum": "a971edda18a1aaea675e1dbc5967876d",
     "grade": false,
     "grade_id": "p2_ans",
     "locked": false,
     "schema_version": 3,
     "solution": true
    }
   },
   "outputs": [],
   "source": [
    "def insert(cur, data):\n",
    "    '''\n",
    "    Delete existing data in Courses table and insert data in data to Courses table.\n",
    "    \n",
    "    Parameters\n",
    "    ----------\n",
    "    cur: sqlite3 cursor\n",
    "    data: list of tuples\n",
    "    \n",
    "    Returns\n",
    "    -------\n",
    "    None\n",
    "    '''\n",
    "    \n",
    "    # YOUR CODE HERE\n",
    "    "
   ]
  },
  {
   "cell_type": "code",
   "execution_count": null,
   "metadata": {
    "deletable": false,
    "editable": false,
    "nbgrader": {
     "cell_type": "code",
     "checksum": "ea59551715cb83517a3ca9471705d6c8",
     "grade": true,
     "grade_id": "p2_tests",
     "locked": true,
     "points": 1,
     "schema_version": 3,
     "solution": false
    }
   },
   "outputs": [],
   "source": [
    "insert(cur, data)\n",
    "\n",
    "cur.execute('select * from courses')\n",
    "result = cur.fetchall()\n",
    "assert_equal(result, data, msg=\"Your answer does not match the solution\")"
   ]
  },
  {
   "cell_type": "markdown",
   "metadata": {
    "deletable": false,
    "editable": false,
    "nbgrader": {
     "cell_type": "markdown",
     "checksum": "fa37306d105a56d0d9d66a2bd483ccb2",
     "grade": false,
     "grade_id": "p3_desc",
     "locked": true,
     "schema_version": 3,
     "solution": false
    }
   },
   "source": [
    "-----\n",
    "\n",
    "## Problem 3: Selecting Data in a DataFrame\n",
    "\n",
    "In the code cell below, we declare a function named `select` that takes two function parameters: `con` which is a database connection, and `sub`, which is one of the subject values.\n",
    "\n",
    "To complete this problem, finish writing the function `select`. This function does the following:\n",
    "- Selects all columns of data from the `Courses` table for those courses with a subject represented by the function parameter \"sub\", and loads the data into to a DataFrame.\n",
    "- Returns the DataFrame.\n",
    "\n",
    "-----"
   ]
  },
  {
   "cell_type": "code",
   "execution_count": null,
   "metadata": {
    "deletable": false,
    "nbgrader": {
     "cell_type": "code",
     "checksum": "72269c0954602ef05da2cb6b64cf518f",
     "grade": false,
     "grade_id": "p3_ans",
     "locked": false,
     "schema_version": 3,
     "solution": true
    }
   },
   "outputs": [],
   "source": [
    "# Select data\n",
    "def select(con, sub):\n",
    "    '''\n",
    "    Selects data from the courses table by subject.\n",
    "    \n",
    "    Parameters\n",
    "    ----------\n",
    "    con: sqlite3 connection\n",
    "    sub: subject to select\n",
    "    \n",
    "    Returns\n",
    "    -------\n",
    "    dataframe that contains course info\n",
    "    '''\n",
    "    \n",
    "    # YOUR CODE HERE\n",
    "    "
   ]
  },
  {
   "cell_type": "code",
   "execution_count": null,
   "metadata": {
    "deletable": false,
    "editable": false,
    "nbgrader": {
     "cell_type": "code",
     "checksum": "7b9a45afc6d03ba57d9738ca08e71d73",
     "grade": true,
     "grade_id": "p3_test",
     "locked": true,
     "points": 1,
     "schema_version": 3,
     "solution": false
    }
   },
   "outputs": [],
   "source": [
    "result = select(con, 'ACCY')\n",
    "assert_equal(result.shape[0], 4, msg=\"Your answer does not match the solution\")"
   ]
  },
  {
   "cell_type": "markdown",
   "metadata": {
    "deletable": false,
    "editable": false,
    "nbgrader": {
     "cell_type": "markdown",
     "checksum": "757342185dce1f25e56453ae2860fda3",
     "grade": false,
     "grade_id": "p4-desc",
     "locked": true,
     "schema_version": 3,
     "solution": false
    }
   },
   "source": [
    "-----\n",
    "\n",
    "## Problem 4: Load and create new table\n",
    "\n",
    "In the code cell below, we declare a function named `load_create` that takes two function parameters: `con` which is a database connection, and `new_table_name` which is the name of a new table.\n",
    "\n",
    "To complete this problem, finish writing the function `load_create`. This function does the following:\n",
    "- Selects all columns of data from the `Courses` table and loads them into a DataFrame.\n",
    "- Writes the DataFrame into a new database table given by the `new_table_name` parameter.\n",
    " - Replaces the table if already exists.\n",
    " - **Do not** write the DataFrame's index values to the database.\n",
    "\n",
    "-----"
   ]
  },
  {
   "cell_type": "code",
   "execution_count": null,
   "metadata": {
    "deletable": false,
    "nbgrader": {
     "cell_type": "code",
     "checksum": "bc7615c8c4245bfdf2657d27d8c4a585",
     "grade": false,
     "grade_id": "p4-ans",
     "locked": false,
     "schema_version": 3,
     "solution": true
    }
   },
   "outputs": [],
   "source": [
    "def load_create(con, new_table_name):\n",
    "    '''\n",
    "    Load data from the Courses table to a dataframe, then write the dateframe to a new table.\n",
    "    \n",
    "    Parameters\n",
    "    ----------\n",
    "    con: sqlite3 connection\n",
    "    new_table_name: name of the new table\n",
    "    \n",
    "    Returns\n",
    "    -------\n",
    "    None\n",
    "    '''\n",
    "    \n",
    "    # YOUR CODE HERE\n",
    "    "
   ]
  },
  {
   "cell_type": "code",
   "execution_count": null,
   "metadata": {
    "deletable": false,
    "editable": false,
    "nbgrader": {
     "cell_type": "code",
     "checksum": "4d543eb4392e4a6c26979fed3a34de98",
     "grade": true,
     "grade_id": "p4-test",
     "locked": true,
     "points": 1,
     "schema_version": 3,
     "solution": false
    }
   },
   "outputs": [],
   "source": [
    "load_create(con, 'Courses_copy')\n",
    "df_copy = pd.read_sql(\"select * from courses_copy\", con)\n",
    "assert_equal(df_copy.shape, (13,3), msg=\"Your function doesn't meet the requirments\")\n",
    "cur.close()\n",
    "con.close()"
   ]
  }
 ],
 "metadata": {
  "celltoolbar": "Edit Metadata",
  "coursera": {
   "course_slug": "accounting-data-analytics-python",
   "graded_item_id": "T61Ru",
   "launcher_item_id": "FGNcG"
  },
  "kernelspec": {
   "display_name": "Python 3",
   "language": "python",
   "name": "python3"
  },
  "language_info": {
   "codemirror_mode": {
    "name": "ipython",
    "version": 3
   },
   "file_extension": ".py",
   "mimetype": "text/x-python",
   "name": "python",
   "nbconvert_exporter": "python",
   "pygments_lexer": "ipython3",
   "version": "3.7.0"
  }
 },
 "nbformat": 4,
 "nbformat_minor": 2
}
