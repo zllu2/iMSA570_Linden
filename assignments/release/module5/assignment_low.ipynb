{
 "cells": [
  {
   "cell_type": "markdown",
   "metadata": {
    "deletable": false,
    "editable": false,
    "nbgrader": {
     "checksum": "b527e6d0bc26592567412dc872b64e68",
     "grade": false,
     "grade_id": "header",
     "locked": true,
     "schema_version": 1,
     "solution": false
    }
   },
   "source": [
    "# Module 5 Assignment \n",
    "A few things you should keep in mind when working on assignments:\n",
    "\n",
    "1. Make sure you fill in any place that says `YOUR CODE HERE`. Do **not** write your answer anywhere else other than where it says `YOUR CODE HERE`. Anything you write elsewhere will be removed or overwritten by the autograder.\n",
    "\n",
    "2. Before you submit your assignment, make sure everything runs as expected. Go to the menubar, select _Kernel_, and restart the kernel and run all cells (_Restart & Run all_).\n",
    "\n",
    "3. Do not change the title (i.e. file name) of this notebook.\n",
    "\n",
    "4. Make sure that you save your work (in the menubar, select _File_ → _Save and CheckPoint_).\n"
   ]
  },
  {
   "cell_type": "code",
   "execution_count": null,
   "metadata": {
    "deletable": false,
    "editable": false,
    "nbgrader": {
     "checksum": "d685123b0f60bb43525c7ae135997d4f",
     "grade": false,
     "grade_id": "import",
     "locked": true,
     "schema_version": 1,
     "solution": false
    }
   },
   "outputs": [],
   "source": [
    "import pandas as pd\n",
    "import numpy as np\n",
    "\n",
    "from nose.tools import assert_equal, assert_true, assert_false\n",
    "from numpy.testing import assert_array_almost_equal, assert_array_equal\n"
   ]
  },
  {
   "cell_type": "markdown",
   "metadata": {
    "deletable": false,
    "editable": false,
    "nbgrader": {
     "checksum": "48828192eebdcc0f0c9efeca258c1d36",
     "grade": false,
     "grade_id": "prob1_desc",
     "locked": true,
     "schema_version": 1,
     "solution": false
    }
   },
   "source": [
    "# Problem 1: Read in a dataset\n",
    "\n",
    "For this problem you will read in a dataset using pandas. In the cell below, the function *read_data* has parameter \"file_path\" which contains a path to a dataset.\n",
    "- Use the *read_csv* function from pandas to read in the dataset from the file path and return the resulting dataframe."
   ]
  },
  {
   "cell_type": "code",
   "execution_count": null,
   "metadata": {
    "deletable": false,
    "nbgrader": {
     "checksum": "902b3c902fb0c4921111feb8b3be4ba2",
     "grade": false,
     "grade_id": "prob1_ans",
     "locked": false,
     "schema_version": 1,
     "solution": true
    }
   },
   "outputs": [],
   "source": [
    "def read_data(file_path):\n",
    "    '''\n",
    "    Reads in a dataset using pandas.\n",
    "    \n",
    "    Parameters\n",
    "    ----------\n",
    "    file_path : string containing path to a file\n",
    "    \n",
    "    Returns\n",
    "    -------\n",
    "    pandas dataframe with data read in from the file path\n",
    "    '''\n",
    "    # YOUR CODE HERE\n",
    "    raise NotImplementedError()\n"
   ]
  },
  {
   "cell_type": "code",
   "execution_count": null,
   "metadata": {
    "deletable": false,
    "editable": false,
    "nbgrader": {
     "checksum": "f08dc0987194c2a166c61760621367bf",
     "grade": true,
     "grade_id": "prob1_test",
     "locked": true,
     "points": 1,
     "schema_version": 1,
     "solution": false
    }
   },
   "outputs": [],
   "source": [
    "df = read_data('data/dow_jones_index.data')\n",
    "assert_equal(len(df), 750, msg=\"The dataset should have 750 rows. Your solution only has %s\"%len(df))\n",
    "assert_equal(set(df.columns.tolist()), set(['quarter', 'stock', 'date', 'open', 'high', 'low', 'close',\n",
    "                                            'volume', 'percent_change_price', 'percent_change_volume_over_last_wk',\n",
    "                                            'previous_weeks_volume', 'next_weeks_open', 'next_weeks_close',\n",
    "                                            'percent_change_next_weeks_price', 'days_to_next_dividend',\n",
    "                                            'percent_return_next_dividend']), \n",
    "             msg=\"Your column names do not match the solutions\")\n",
    "\n",
    "ans = df.head().values.tolist()\n",
    "sol = [[1, 'AA', '1/7/2011', 15.82, 16.72, 15.78, 16.42, 239655616, 3.7926699999999998, np.nan, np.nan,\n",
    "        16.71, 15.97, -4.42849, 26, 0.182704],\n",
    "       [1, 'AA', '1/14/2011', 16.71, 16.71, 15.64, 15.97, 242963398, -4.42849, 1.380223028, 239655616.0,\n",
    "        16.19, 15.79, -2.4706599999999996, 19, 0.187852],\n",
    "       [1, 'AA', '1/21/2011', 16.19, 16.38, 15.6, 15.79, 138428495, -2.4706599999999996, -43.02495926,\n",
    "        242963398.0, 15.87, 16.13, 1.63831, 12, 0.189994],\n",
    "       [1, 'AA', '1/28/2011', 15.87, 16.63, 15.82, 16.13, 151379173, 1.63831, 9.355500109, 138428495.0,\n",
    "        16.18, 17.14, 5.93325, 5, 0.18598900000000002],\n",
    "       [1, 'AA', '2/4/2011', 16.18, 17.39, 16.18, 17.14, 154387761, 5.93325, 1.987451735, 151379173.0,\n",
    "        17.33, 17.37, 0.230814, 97, 0.175029]]\n",
    "\n",
    "assert_array_equal(ans, sol, err_msg=\"Your answer does not match the solution.\")\n",
    "\n",
    "print(\"2 random rows of the dow jones dataset:\")\n",
    "df.sample(2)"
   ]
  },
  {
   "cell_type": "markdown",
   "metadata": {
    "deletable": false,
    "editable": false,
    "nbgrader": {
     "checksum": "dcc8f9f99949aa569cded3305274cb9e",
     "grade": false,
     "grade_id": "prob2_desc",
     "locked": true,
     "schema_version": 1,
     "solution": false
    }
   },
   "source": [
    "# Problem 2: Selecting first n rows of a dataframe\n",
    "\n",
    "In the code cell below the function *get_head_rows* accepts 2 parameters *df* which is a dataframe and *n* which is an integer.\n",
    "\n",
    "For this problem:\n",
    "- Return first *n* rows of *df*"
   ]
  },
  {
   "cell_type": "code",
   "execution_count": null,
   "metadata": {
    "deletable": false,
    "nbgrader": {
     "checksum": "e1de2a76a8198c2c29bcfe1d66d8f02b",
     "grade": false,
     "grade_id": "prob2_ans",
     "locked": false,
     "schema_version": 1,
     "solution": true
    }
   },
   "outputs": [],
   "source": [
    "def get_head_rows(df, n):\n",
    "    '''    \n",
    "    Parameters\n",
    "    ----------\n",
    "    df: pandas DataFrame\n",
    "    n: integer\n",
    "    Returns\n",
    "    -------\n",
    "    returns first n rows of df\n",
    "    '''\n",
    "    # YOUR CODE HERE\n",
    "    raise NotImplementedError()\n"
   ]
  },
  {
   "cell_type": "code",
   "execution_count": null,
   "metadata": {
    "deletable": false,
    "editable": false,
    "nbgrader": {
     "checksum": "c3872224e0cd10eca01a4bb6ce277603",
     "grade": true,
     "grade_id": "prob2_test",
     "locked": true,
     "points": 1,
     "schema_version": 1,
     "solution": false
    }
   },
   "outputs": [],
   "source": [
    "assert_equal(get_head_rows(df, 3).shape[0], 3, msg=\"You did not return first 3 rows\")\n",
    "assert_equal(get_head_rows(df, 4).shape[0], 4, msg=\"You did not return first 4 rows\")\n"
   ]
  },
  {
   "cell_type": "markdown",
   "metadata": {
    "deletable": false,
    "editable": false,
    "nbgrader": {
     "checksum": "6403cc63db1969e9d7bc63e83d4aadb0",
     "grade": false,
     "grade_id": "prob3_desc",
     "locked": true,
     "schema_version": 1,
     "solution": false
    }
   },
   "source": [
    "# Problem 3: Selecting stocks under certain price\n",
    "\n",
    "In the code cell below the function *get_stocks_by_price* accepts 2 parameters *df* which is a dataframe and *price_cut* which is a float.\n",
    "\n",
    "For this problem:\n",
    "- Return all data with close price less than *price_cut*."
   ]
  },
  {
   "cell_type": "code",
   "execution_count": null,
   "metadata": {
    "deletable": false,
    "nbgrader": {
     "checksum": "c9b05adc7a9de35196f373c805156a65",
     "grade": false,
     "grade_id": "prob3_ans",
     "locked": false,
     "schema_version": 1,
     "solution": true
    }
   },
   "outputs": [],
   "source": [
    "def get_stocks_by_price(df, price_cut):\n",
    "    '''\n",
    "    \n",
    "    Parameters\n",
    "    ----------\n",
    "    df: pandas dataframe containing data from Problem 1's solution\n",
    "    price_cut: float.\n",
    "    Returns\n",
    "    -------\n",
    "    \n",
    "    Return all data with close price less than price_cut.\n",
    "    '''\n",
    "    # YOUR CODE HERE\n",
    "    raise NotImplementedError()\n"
   ]
  },
  {
   "cell_type": "code",
   "execution_count": null,
   "metadata": {
    "deletable": false,
    "editable": false,
    "nbgrader": {
     "checksum": "c0cf7c6cd69edd0717992f784d41485e",
     "grade": true,
     "grade_id": "prob3_test",
     "locked": true,
     "points": 1,
     "schema_version": 1,
     "solution": false
    }
   },
   "outputs": [],
   "source": [
    "assert_equal(get_stocks_by_price(df, 12).shape[0], 7, msg=\"You did not return a correct pandas dataframe object\")\n",
    "assert_true(get_stocks_by_price(df, 12).close.max()<12, msg=\"You did not return a correct pandas dataframe object\")\n"
   ]
  },
  {
   "cell_type": "markdown",
   "metadata": {
    "deletable": false,
    "editable": false,
    "nbgrader": {
     "checksum": "19e329ad0eed6e68d0c988353d6cf833",
     "grade": false,
     "grade_id": "p4-desc",
     "locked": true,
     "schema_version": 1,
     "solution": false
    }
   },
   "source": [
    "# Problem 4: Get highest close price for a stock\n",
    "\n",
    "In the code cell below the function *get_high_low_close* accepts 2 parameters *df* which is a dataframe and *symbol* which is a string.\n",
    "\n",
    "For this problem:\n",
    "- Return highest and lowest close price of stock represent by *symbol*"
   ]
  },
  {
   "cell_type": "code",
   "execution_count": null,
   "metadata": {
    "deletable": false,
    "nbgrader": {
     "checksum": "97dcaaf54b5c2001091f1efd2523a1c7",
     "grade": false,
     "grade_id": "prob4_ans",
     "locked": false,
     "schema_version": 1,
     "solution": true
    }
   },
   "outputs": [],
   "source": [
    "def get_high_low_close(df, symbol):\n",
    "    '''\n",
    "    Get highest and lowest close price of a stock.\n",
    "    \n",
    "    Parameters\n",
    "    ----------\n",
    "    df: pandas dataframe containing data from Problem 1's solution\n",
    "    symbol: stock symbol\n",
    "    \n",
    "    Returns\n",
    "    -------\n",
    "    returns two values, highest and lowest close price of the stock.\n",
    "    '''\n",
    "    # YOUR CODE HERE\n",
    "    raise NotImplementedError()\n"
   ]
  },
  {
   "cell_type": "code",
   "execution_count": null,
   "metadata": {
    "deletable": false,
    "editable": false,
    "nbgrader": {
     "checksum": "52f5a0afbcbbadf51a6204c4f014f938",
     "grade": true,
     "grade_id": "prob4_test",
     "locked": true,
     "points": 1,
     "schema_version": 1,
     "solution": false
    }
   },
   "outputs": [],
   "source": [
    "assert_equal(get_high_low_close(df, 'AA'), (17.92, 14.72), msg=\"You did not return correct highest and lowest close of AA\")\n",
    "assert_equal(get_high_low_close(df, 'IBM'), (170.58, 147.93), msg=\"You did not return correct highest and lowest close of IBM\")\n"
   ]
  },
  {
   "cell_type": "markdown",
   "metadata": {
    "deletable": false,
    "editable": false
   },
   "source": [
    "-----\n",
    "\n",
    "**&copy; 2019: Gies College of Business at the University of Illinois.**\n",
    "\n",
    "This notebook is released under the [Creative Commons license CC BY-NC-SA 4.0][ll]. Any reproduction, adaptation, distribution, dissemination or making available of this notebook for commercial use is not allowed unless authorized in writing by the copyright holder.\n",
    "\n",
    "[ll]: https://creativecommons.org/licenses/by-nc-sa/4.0/legalcode"
   ]
  }
 ],
 "metadata": {
  "coursera": {
   "course_slug": "data-analytics-accountancy-1",
   "graded_item_id": "4oirH",
   "launcher_item_id": "g0r7b"
  },
  "kernelspec": {
   "display_name": "Python 3",
   "language": "python",
   "name": "python3"
  },
  "language_info": {
   "codemirror_mode": {
    "name": "ipython",
    "version": 3
   },
   "file_extension": ".py",
   "mimetype": "text/x-python",
   "name": "python",
   "nbconvert_exporter": "python",
   "pygments_lexer": "ipython3",
   "version": "3.7.1"
  }
 },
 "nbformat": 4,
 "nbformat_minor": 2
}
