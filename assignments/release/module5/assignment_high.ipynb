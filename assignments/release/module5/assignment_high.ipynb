{
 "cells": [
  {
   "cell_type": "markdown",
   "metadata": {
    "deletable": false,
    "editable": false,
    "nbgrader": {
     "cell_type": "markdown",
     "checksum": "7f31bd46a034c820d06e2d5bfbbb7a08",
     "grade": false,
     "grade_id": "header",
     "locked": true,
     "schema_version": 3,
     "solution": false
    }
   },
   "source": [
    "# Module 5 Assignment\n",
    "\n",
    "A few things you should keep in mind when working on assignments:\n",
    "\n",
    "1. Run the first code cell to import modules needed by this assignment before proceeding to problems.\n",
    "2. Make sure you fill in any place that says `# YOUR CODE HERE`. Do not write your answer anywhere else other than where it says `# YOUR CODE HERE`. Anything you write elsewhere will be removed or overwritten by the autograder.\n",
    "3. Each problem has an autograder cell below the answer cell. Run the autograder cell to check your answer. If there's anything wrong in your answer, the autograder cell will display error messages.\n",
    "4. Before you submit your assignment, make sure everything runs as expected. Go to the menubar, select Kernel, and Restart & Run all. If the notebook runs through the last code cell without error message, you've answered all problems correctly.\n",
    "5. Make sure that you save your work (in the menubar, select File → Save and CheckPoint).\n",
    "\n",
    "-----"
   ]
  },
  {
   "cell_type": "markdown",
   "metadata": {
    "deletable": false,
    "editable": false,
    "nbgrader": {
     "cell_type": "markdown",
     "checksum": "52df781b569aec9d9411194efd5ac814",
     "grade": false,
     "grade_id": "cell-409db1151ea0955b",
     "locked": true,
     "schema_version": 3,
     "solution": false
    }
   },
   "source": [
    "# Run Me First!"
   ]
  },
  {
   "cell_type": "code",
   "execution_count": null,
   "metadata": {
    "deletable": false,
    "editable": false,
    "nbgrader": {
     "cell_type": "code",
     "checksum": "294bcdb746ff187b39e3985e0b7620c2",
     "grade": false,
     "grade_id": "import",
     "locked": true,
     "schema_version": 3,
     "solution": false
    }
   },
   "outputs": [],
   "source": [
    "import pandas as pd\n",
    "import numpy as np\n",
    "\n",
    "from nose.tools import assert_equal, assert_true, assert_false, assert_almost_equal\n",
    "from numpy.testing import assert_array_almost_equal, assert_array_equal\n"
   ]
  },
  {
   "cell_type": "markdown",
   "metadata": {
    "deletable": false,
    "editable": false,
    "nbgrader": {
     "cell_type": "markdown",
     "checksum": "6bed14ce0b9f4bed115c0e45d2504efa",
     "grade": false,
     "grade_id": "p1_desc",
     "locked": true,
     "schema_version": 3,
     "solution": false
    }
   },
   "source": [
    "# Problem 1: Read in a subset of a dataset\n",
    "\n",
    "For this problem you will read in a dataset using pandas. In the cell below, the function *read_data* has parameter \"file_path\" which contains a path to a dataset.\n",
    "- Use the *read_csv* function from pandas to read in the dataset from the file path\n",
    "- then return a **subset** of the dataframe, keep following columns:  \n",
    "__quarter, stock, date, open, high, low, close, volume__"
   ]
  },
  {
   "cell_type": "code",
   "execution_count": null,
   "metadata": {
    "deletable": false,
    "nbgrader": {
     "cell_type": "code",
     "checksum": "8ba7a1e115c322c93422d6bc3a16b618",
     "grade": false,
     "grade_id": "p1_ans",
     "locked": false,
     "schema_version": 3,
     "solution": true
    }
   },
   "outputs": [],
   "source": [
    "def read_data(file_path):\n",
    "    '''\n",
    "    Reads in a dataset using pandas.\n",
    "    \n",
    "    Parameters\n",
    "    ----------\n",
    "    file_path : string containing path to a file\n",
    "    \n",
    "    Returns\n",
    "    -------\n",
    "    A subset of pandas dataframe with data read in from the file path, only keep:\n",
    "    quarter, stock, date, open, high, low, close, volume\n",
    "    '''\n",
    "    # YOUR CODE HERE\n",
    "    \n",
    "    "
   ]
  },
  {
   "cell_type": "code",
   "execution_count": null,
   "metadata": {
    "deletable": false,
    "editable": false,
    "nbgrader": {
     "cell_type": "code",
     "checksum": "8cf8a6f502e938c749d5c1997fb5b296",
     "grade": true,
     "grade_id": "p1_test",
     "locked": true,
     "points": 1,
     "schema_version": 3,
     "solution": false
    }
   },
   "outputs": [],
   "source": [
    "df = read_data('data/dow_jones_index.data')\n",
    "assert_equal(len(df), 750, msg=\"The dataset should have 750 rows. Your solution only has %s\"%len(df))\n",
    "assert_equal(set(df.columns.tolist()), set(['quarter', 'stock', 'date', 'open', 'high', 'low', 'close', 'volume']), \n",
    "             msg=\"Your column names do not match the solutions\")\n",
    "\n",
    "ans = df.head().values.tolist()\n",
    "sol = [[1, 'AA', '1/7/2011', 15.82, 16.72, 15.78, 16.42, 239655616],\n",
    "       [1, 'AA', '1/14/2011', 16.71, 16.71, 15.64, 15.97, 242963398],\n",
    "       [1, 'AA', '1/21/2011', 16.19, 16.38, 15.6, 15.79, 138428495],\n",
    "       [1, 'AA', '1/28/2011', 15.87, 16.63, 15.82, 16.13, 151379173],\n",
    "       [1, 'AA', '2/4/2011', 16.18, 17.39, 16.18, 17.14, 154387761]]\n",
    "\n",
    "assert_array_equal(ans, sol, err_msg=\"Your answer does not match the solution.\")\n",
    "\n",
    "print(\"2 random rows of the dow jones dataset:\")\n",
    "df.sample(2)"
   ]
  },
  {
   "cell_type": "markdown",
   "metadata": {
    "deletable": false,
    "editable": false,
    "nbgrader": {
     "cell_type": "markdown",
     "checksum": "018e027c4856f97b2d2b6373d6011555",
     "grade": false,
     "grade_id": "p2_desc",
     "locked": true,
     "schema_version": 3,
     "solution": false
    }
   },
   "source": [
    "# Problem 2: Selecting data for a particular stock\n",
    "\n",
    "In the code cell below the function *select_stock* accepts 2 parameters *df* which is a dataframe containing dow jones index data and *symbol* which is a string containing a stock symbol inside of *df*.\n",
    "\n",
    "For this problem:\n",
    "- Select data from the dataframe passed into the function only if stock symbol which is stored in **stock** column is equal to the value of the function parameter \"symbol\".\n",
    "\n",
    "\n",
    "- Return the resulting dataframe containing data only for the particular stock symbol."
   ]
  },
  {
   "cell_type": "code",
   "execution_count": null,
   "metadata": {
    "deletable": false,
    "nbgrader": {
     "cell_type": "code",
     "checksum": "182a38ec405b9580b14429f41b0508b4",
     "grade": false,
     "grade_id": "p2_ans",
     "locked": false,
     "schema_version": 3,
     "solution": true
    }
   },
   "outputs": [],
   "source": [
    "def select_stock(df, symbol):\n",
    "    '''\n",
    "    Selects data only containing a particular stock symbol.\n",
    "    \n",
    "    Parameters\n",
    "    ----------\n",
    "    df: dataframe containing data from the dow jones index\n",
    "    symbol: string containing the stock symbol to select\n",
    "    \n",
    "    Returns\n",
    "    -------\n",
    "    dataframe containing a particular stock\n",
    "    '''\n",
    "    # YOUR CODE HERE\n",
    "    \n"
   ]
  },
  {
   "cell_type": "code",
   "execution_count": null,
   "metadata": {
    "deletable": false,
    "editable": false,
    "nbgrader": {
     "cell_type": "code",
     "checksum": "c398f93db3cc0a64be82237e74458465",
     "grade": true,
     "grade_id": "p2_test",
     "locked": true,
     "points": 1,
     "schema_version": 3,
     "solution": false
    }
   },
   "outputs": [],
   "source": [
    "df_AA = select_stock(df.copy(), 'AA')\n",
    "assert_equal(len(df_AA), 25, msg='There are only 25 observations of the stock symbol AA')\n",
    "\n",
    "ans = df_AA[['open', 'close', 'high', 'low']].head().values.tolist()\n",
    "sol = [[15.82, 16.42, 16.72, 15.78],\n",
    "       [16.71, 15.97, 16.71, 15.64],\n",
    "       [16.19, 15.79, 16.38, 15.6],\n",
    "       [15.87, 16.13, 16.63, 15.82],\n",
    "       [16.18, 17.14, 17.39, 16.18]]\n",
    "assert_array_equal(ans, sol, err_msg=\"Your first 5 rows do not match the solutions.\")\n",
    "\n",
    "df_IBM = select_stock(df.copy(), 'IBM')\n",
    "assert_equal(len(df_IBM), 25, msg='There are only 25 observations of the stock symbol IBM')\n",
    "\n",
    "ans = df_IBM[['open', 'close', 'high', 'low']].head().values.tolist()\n",
    "sol = [[147.21, 147.93, 148.86, 146.64],\n",
    "       [147.0, 150.0, 150.0, 146.0],\n",
    "       [149.82, 155.5, 156.78, 149.38],\n",
    "       [155.42, 159.21, 164.35, 155.33],\n",
    "       [159.18, 164.0, 164.2, 158.68]]\n",
    "assert_array_equal(ans, sol, err_msg=\"Your first 5 rows do not match the solutions.\")"
   ]
  },
  {
   "cell_type": "markdown",
   "metadata": {
    "deletable": false,
    "editable": false,
    "nbgrader": {
     "cell_type": "markdown",
     "checksum": "855a04aa204cb7fea1760bc4fec112fc",
     "grade": false,
     "grade_id": "p3_desc",
     "locked": true,
     "schema_version": 3,
     "solution": false
    }
   },
   "source": [
    "# Problem 3: Selecting data for a particular stock in a particular quarter\n",
    "\n",
    "In the code cell below the function *select_stock_quarter* accepts 3 parameters *df* which is a dataframe containing dow jones index data, *symbol* which is a string containing a stock symbol inside of *df* and *quarter*.\n",
    "\n",
    "For this problem:\n",
    "- Select data from the dataframe passed into the function only if stock symbol is equal to the value of the function parameter \"symbol\" and quarter is equals to the value of function parameter \"quarter\"\n",
    "\n",
    "\n",
    "- Return the resulting dataframe containing data only for the particular stock symbol in the particular quarter."
   ]
  },
  {
   "cell_type": "code",
   "execution_count": null,
   "metadata": {
    "deletable": false,
    "nbgrader": {
     "cell_type": "code",
     "checksum": "0e7b364590d1153d3df721d6499f1b67",
     "grade": false,
     "grade_id": "p3_ans",
     "locked": false,
     "schema_version": 3,
     "solution": true
    }
   },
   "outputs": [],
   "source": [
    "def select_stock_quarter(df, symbol, quarter):\n",
    "    '''\n",
    "    Selects data only containing a particular stock symbol in the particular quarter.\n",
    "    \n",
    "    Parameters\n",
    "    ----------\n",
    "    df: dataframe containing data from the dow jones index\n",
    "    symbol: string containing the stock symbol to select\n",
    "    quarter: integer of quarter to select\n",
    "    \n",
    "    Returns\n",
    "    -------\n",
    "    dataframe containing a particular stock in the particular quarter\n",
    "    '''\n",
    "    # YOUR CODE HERE\n",
    "    \n"
   ]
  },
  {
   "cell_type": "code",
   "execution_count": null,
   "metadata": {
    "deletable": false,
    "editable": false,
    "nbgrader": {
     "cell_type": "code",
     "checksum": "a1ee3b92ebe8c09344fc2987789228cc",
     "grade": true,
     "grade_id": "p3_test",
     "locked": true,
     "points": 1,
     "schema_version": 3,
     "solution": false
    }
   },
   "outputs": [],
   "source": [
    "df_AA_2 = select_stock_quarter(df.copy(), 'AA', 2)\n",
    "assert_equal(len(df_AA_2), 13, msg='There are only 13 observations of the stock symbol AA in 2nd quarter')\n",
    "\n",
    "ans = df_AA[['open', 'close', 'high', 'low']].head().values.tolist()\n",
    "sol = [[15.82, 16.42, 16.72, 15.78],\n",
    "      [16.71, 15.97, 16.71, 15.64],\n",
    "      [16.19, 15.79, 16.38, 15.6],\n",
    "      [15.87, 16.13, 16.63, 15.82],\n",
    "      [16.18, 17.14, 17.39, 16.18]]\n",
    "assert_array_equal(ans, sol, err_msg=\"Your first 5 rows do not match the solutions.\")\n",
    "\n",
    "df_IBM_1 = select_stock_quarter(df.copy(), 'IBM', 1)\n",
    "assert_equal(len(df_IBM_1), 12, msg='There are only 12 observations of the stock symbol IBM in 1st quarter')"
   ]
  },
  {
   "cell_type": "markdown",
   "metadata": {
    "deletable": false,
    "editable": false,
    "nbgrader": {
     "cell_type": "markdown",
     "checksum": "2d0a4d5946f978eb0571b7011c1c78b7",
     "grade": false,
     "grade_id": "p4_desc",
     "locked": true,
     "schema_version": 3,
     "solution": false
    }
   },
   "source": [
    "# Problem 4: Computing average volume of stocks\n",
    "\n",
    "In the code cell below the function *comp_average_volume* accepts 1 parameter \"df\" which is a dataframe containing dow jones index data.\n",
    "\n",
    "For this problem:\n",
    "- group df by stock column and calculate average volume of each stock\n",
    "- the result dataframe should have *stock* as a regular column instead of index\n"
   ]
  },
  {
   "cell_type": "code",
   "execution_count": null,
   "metadata": {
    "deletable": false,
    "nbgrader": {
     "cell_type": "code",
     "checksum": "1f7ecf3e65ad8e639fae74d061957463",
     "grade": false,
     "grade_id": "p4_ans",
     "locked": false,
     "schema_version": 3,
     "solution": true
    }
   },
   "outputs": [],
   "source": [
    "def comp_average_volume(df):\n",
    "    '''\n",
    "    Computes average volume of each stock\n",
    "    \n",
    "    Parameters\n",
    "    ----------\n",
    "    df: Pandas dataframe(created by problem 1)\n",
    "    \n",
    "    Returns\n",
    "    -------\n",
    "    a pandas dataframe with stock column as regular column.\n",
    "    '''\n",
    "    # YOUR CODE HERE\n",
    "    \n"
   ]
  },
  {
   "cell_type": "code",
   "execution_count": null,
   "metadata": {
    "deletable": false,
    "editable": false,
    "nbgrader": {
     "cell_type": "code",
     "checksum": "c48ed5b13483dfaa950a9054ab2244d5",
     "grade": true,
     "grade_id": "p4_test",
     "locked": true,
     "points": 1,
     "schema_version": 3,
     "solution": false
    }
   },
   "outputs": [],
   "source": [
    "mean_vol = comp_average_volume(df)\n",
    "\n",
    "assert_equal(mean_vol.shape, (30, 2))\n",
    "\n",
    "ans = mean_vol.head().volume.values.tolist()\n",
    "sol = [129638810.2, 35208481.6, 23781420.52, 722999135.56, 33731115.88]\n",
    "\n",
    "assert_array_almost_equal(ans, sol, err_msg=\"Your first 5 rows do not match the solutions.\")\n"
   ]
  },
  {
   "cell_type": "markdown",
   "metadata": {
    "deletable": false,
    "editable": false,
    "nbgrader": {
     "cell_type": "markdown",
     "checksum": "07beff3740b4d3e4c79f384daf30ac1b",
     "grade": false,
     "grade_id": "p5_desc",
     "locked": true,
     "schema_version": 3,
     "solution": false
    }
   },
   "source": [
    "# Problem 5: Comput sample statistics for stocks close price\n",
    "\n",
    "The code cell below contains a function called *comp_close_stat* that accepts 3 parameters \"df\" which is a dataframe containing dow jones index data., \"symbol\" for a particular stock symbol, and stat which will contain 1 of the 3 strings: \"mean\", \"max\", or \"min\".\n",
    "\n",
    "For this problem:\n",
    "- if the stat is equal to \"mean\" return the mean of the close price of stock \"symbol\"\n",
    "- if the stat is equal to \"min\" return the minimum close price of stock \"symbol\"\n",
    "- if the stat is equal to \"max\" return the maximum close price of stock \"symbol\"\n"
   ]
  },
  {
   "cell_type": "code",
   "execution_count": null,
   "metadata": {
    "deletable": false,
    "nbgrader": {
     "cell_type": "code",
     "checksum": "cb7f3749f242ccbeee00101cd4c02bb7",
     "grade": false,
     "grade_id": "p5_ans",
     "locked": false,
     "schema_version": 3,
     "solution": true
    }
   },
   "outputs": [],
   "source": [
    "def comp_close_stat(df, symbol, stat='mean'):\n",
    "    '''\n",
    "    Computes a particular statistic for a particular stock close price.\n",
    "    \n",
    "    Parameters\n",
    "    ----------\n",
    "    df: Pandas dataframe\n",
    "    symbol: stock symbol\n",
    "    stat: mean, min or max\n",
    "    \n",
    "    Returns\n",
    "    -------\n",
    "    Mean, max or min close price for stock \"sybmol\"\n",
    "    '''\n",
    "    # YOUR CODE HERE\n",
    "    \n"
   ]
  },
  {
   "cell_type": "code",
   "execution_count": null,
   "metadata": {
    "deletable": false,
    "editable": false,
    "nbgrader": {
     "cell_type": "code",
     "checksum": "67ffa2ffdc02e3cfade1a3b0c4bfa620",
     "grade": true,
     "grade_id": "p5_test",
     "locked": true,
     "points": 1,
     "schema_version": 3,
     "solution": false
    }
   },
   "outputs": [],
   "source": [
    "assert_equal(comp_close_stat(df, 'IBM', 'min'), 147.93)\n",
    "assert_equal(comp_close_stat(df, 'IBM', 'max'), 170.58)\n",
    "assert_almost_equal(comp_close_stat(df, 'AA', 'mean'), 16.5044)"
   ]
  }
 ],
 "metadata": {
  "kernelspec": {
   "display_name": "Python 3",
   "language": "python",
   "name": "python3"
  },
  "language_info": {
   "codemirror_mode": {
    "name": "ipython",
    "version": 3
   },
   "file_extension": ".py",
   "mimetype": "text/x-python",
   "name": "python",
   "nbconvert_exporter": "python",
   "pygments_lexer": "ipython3",
   "version": "3.7.3"
  }
 },
 "nbformat": 4,
 "nbformat_minor": 2
}
